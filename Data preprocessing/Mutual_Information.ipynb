{
  "nbformat": 4,
  "nbformat_minor": 0,
  "metadata": {
    "colab": {
      "provenance": []
    },
    "kernelspec": {
      "name": "python3",
      "display_name": "Python 3"
    },
    "language_info": {
      "name": "python"
    }
  },
  "cells": [
    {
      "cell_type": "code",
      "execution_count": null,
      "metadata": {
        "id": "eB-GOdDhagw4"
      },
      "outputs": [],
      "source": [
        "import pandas as pd\n",
        "import matplotlib.pyplot as plt\n",
        "from sklearn.tree import DecisionTreeRegressor\n",
        "from sklearn.preprocessing import StandardScaler\n",
        "from sklearn.feature_selection import mutual_info_regression\n",
        "from sklearn.model_selection import GridSearchCV\n",
        "from sklearn.model_selection import train_test_split\n",
        "from sklearn.preprocessing import LabelEncoder"
      ]
    },
    {
      "cell_type": "code",
      "source": [
        "data = pd.read_csv('Encoded.csv')"
      ],
      "metadata": {
        "id": "yJ-LEZM-fVQm"
      },
      "execution_count": 23,
      "outputs": []
    },
    {
      "cell_type": "code",
      "source": [
        "data.info()"
      ],
      "metadata": {
        "colab": {
          "base_uri": "https://localhost:8080/"
        },
        "id": "mFUb6_Y2feo2",
        "outputId": "c2dc5482-3223-4bb9-e928-fda3ba01d4a6"
      },
      "execution_count": 24,
      "outputs": [
        {
          "output_type": "stream",
          "name": "stdout",
          "text": [
            "<class 'pandas.core.frame.DataFrame'>\n",
            "RangeIndex: 526714 entries, 0 to 526713\n",
            "Data columns (total 96 columns):\n",
            " #   Column       Non-Null Count   Dtype  \n",
            "---  ------       --------------   -----  \n",
            " 0   Unnamed: 0   526714 non-null  int64  \n",
            " 1   Seq          526714 non-null  int64  \n",
            " 2   Dur          526714 non-null  float64\n",
            " 3   RunTime      526714 non-null  float64\n",
            " 4   Mean         526714 non-null  float64\n",
            " 5   Sum          526714 non-null  float64\n",
            " 6   Min          526714 non-null  float64\n",
            " 7   Max          526714 non-null  float64\n",
            " 8   sTos         526523 non-null  float64\n",
            " 9   dTos         16433 non-null   float64\n",
            " 10  sTtl         526523 non-null  float64\n",
            " 11  dTtl         16433 non-null   float64\n",
            " 12  sHops        526523 non-null  float64\n",
            " 13  dHops        16433 non-null   float64\n",
            " 14  TotPkts      526714 non-null  int64  \n",
            " 15  SrcPkts      526714 non-null  int64  \n",
            " 16  DstPkts      526714 non-null  int64  \n",
            " 17  TotBytes     526714 non-null  int64  \n",
            " 18  SrcBytes     526714 non-null  int64  \n",
            " 19  DstBytes     526714 non-null  int64  \n",
            " 20  Offset       526714 non-null  int64  \n",
            " 21  sMeanPktSz   526714 non-null  float64\n",
            " 22  dMeanPktSz   526714 non-null  float64\n",
            " 23  Load         526714 non-null  float64\n",
            " 24  SrcLoad      526713 non-null  float64\n",
            " 25  DstLoad      526713 non-null  float64\n",
            " 26  Loss         526713 non-null  float64\n",
            " 27  SrcLoss      526713 non-null  float64\n",
            " 28  DstLoss      526713 non-null  float64\n",
            " 29  pLoss        526713 non-null  float64\n",
            " 30  SrcGap       24306 non-null   float64\n",
            " 31  DstGap       24306 non-null   float64\n",
            " 32  Rate         526713 non-null  float64\n",
            " 33  SrcRate      526713 non-null  float64\n",
            " 34  DstRate      526713 non-null  float64\n",
            " 35  SrcWin       24296 non-null   float64\n",
            " 36  DstWin       2191 non-null    float64\n",
            " 37  sVid         15298 non-null   float64\n",
            " 38  dVid         371 non-null     float64\n",
            " 39  SrcTCPBase   24306 non-null   float64\n",
            " 40  DstTCPBase   2166 non-null    float64\n",
            " 41  TcpRtt       526713 non-null  float64\n",
            " 42  SynAck       526713 non-null  float64\n",
            " 43  AckDat       526713 non-null  float64\n",
            " 44  Label        526713 non-null  object \n",
            " 45  Attack Type  526713 non-null  object \n",
            " 46  Attack Tool  526713 non-null  object \n",
            " 47   *           526713 non-null  float64\n",
            " 48   *    V      526713 non-null  float64\n",
            " 49   *    f      526713 non-null  float64\n",
            " 50   e           526713 non-null  float64\n",
            " 51   e    f      526713 non-null  float64\n",
            " 52   e &         526713 non-null  float64\n",
            " 53   e *         526713 non-null  float64\n",
            " 54   e d         526713 non-null  float64\n",
            " 55   e g         526713 non-null  float64\n",
            " 56   e i         526713 non-null  float64\n",
            " 57   e r         526713 non-null  float64\n",
            " 58   e s         526713 non-null  float64\n",
            " 59   eU          526713 non-null  float64\n",
            " 60  e            526713 non-null  float64\n",
            " 61  arp          526713 non-null  float64\n",
            " 62  icmp         526713 non-null  float64\n",
            " 63  ipv6-icmp    526713 non-null  float64\n",
            " 64  llc          526713 non-null  float64\n",
            " 65  lldp         526713 non-null  float64\n",
            " 66  sctp         526713 non-null  float64\n",
            " 67  tcp          526713 non-null  float64\n",
            " 68  udp          526713 non-null  float64\n",
            " 69  ACC          526713 non-null  float64\n",
            " 70  CON          526713 non-null  float64\n",
            " 71  ECO          526713 non-null  float64\n",
            " 72  FIN          526713 non-null  float64\n",
            " 73  INT          526713 non-null  float64\n",
            " 74  NRS          526713 non-null  float64\n",
            " 75  REQ          526713 non-null  float64\n",
            " 76  RSP          526713 non-null  float64\n",
            " 77  RST          526713 non-null  float64\n",
            " 78  TST          526713 non-null  float64\n",
            " 79  URP          526713 non-null  float64\n",
            " 80  Shutdown     526713 non-null  float64\n",
            " 81  Start        526713 non-null  float64\n",
            " 82  Status       526713 non-null  float64\n",
            " 83  39           526713 non-null  float64\n",
            " 84  4            526713 non-null  float64\n",
            " 85  52           526713 non-null  float64\n",
            " 86  54           526713 non-null  float64\n",
            " 87  af11         526713 non-null  float64\n",
            " 88  af12         526713 non-null  float64\n",
            " 89  af41         526713 non-null  float64\n",
            " 90  cs0          526713 non-null  float64\n",
            " 91  cs4          526713 non-null  float64\n",
            " 92  cs6          526713 non-null  float64\n",
            " 93  cs7          526713 non-null  float64\n",
            " 94  ef           526713 non-null  float64\n",
            " 95  nan          526713 non-null  float64\n",
            "dtypes: float64(84), int64(9), object(3)\n",
            "memory usage: 385.8+ MB\n"
          ]
        }
      ]
    },
    {
      "cell_type": "code",
      "source": [
        "from sklearn.feature_selection import mutual_info_classif"
      ],
      "metadata": {
        "id": "k6uYl8pehggB"
      },
      "execution_count": 25,
      "outputs": []
    },
    {
      "cell_type": "code",
      "source": [
        "X = data.drop(columns= 'Label')\n",
        "X = X.loc[:, ~X.columns.str.contains('^Unnamed')]\n",
        "X = X.dropna(axis=1)"
      ],
      "metadata": {
        "id": "1bl7rgBhlqu9"
      },
      "execution_count": 27,
      "outputs": []
    },
    {
      "cell_type": "code",
      "source": [
        "X.info()"
      ],
      "metadata": {
        "colab": {
          "base_uri": "https://localhost:8080/"
        },
        "id": "7kLi6yGpqEwD",
        "outputId": "83a1093a-5135-4dba-91e7-9472326a61eb"
      },
      "execution_count": 28,
      "outputs": [
        {
          "output_type": "stream",
          "name": "stdout",
          "text": [
            "<class 'pandas.core.frame.DataFrame'>\n",
            "RangeIndex: 526714 entries, 0 to 526713\n",
            "Data columns (total 17 columns):\n",
            " #   Column      Non-Null Count   Dtype  \n",
            "---  ------      --------------   -----  \n",
            " 0   Seq         526714 non-null  int64  \n",
            " 1   Dur         526714 non-null  float64\n",
            " 2   RunTime     526714 non-null  float64\n",
            " 3   Mean        526714 non-null  float64\n",
            " 4   Sum         526714 non-null  float64\n",
            " 5   Min         526714 non-null  float64\n",
            " 6   Max         526714 non-null  float64\n",
            " 7   TotPkts     526714 non-null  int64  \n",
            " 8   SrcPkts     526714 non-null  int64  \n",
            " 9   DstPkts     526714 non-null  int64  \n",
            " 10  TotBytes    526714 non-null  int64  \n",
            " 11  SrcBytes    526714 non-null  int64  \n",
            " 12  DstBytes    526714 non-null  int64  \n",
            " 13  Offset      526714 non-null  int64  \n",
            " 14  sMeanPktSz  526714 non-null  float64\n",
            " 15  dMeanPktSz  526714 non-null  float64\n",
            " 16  Load        526714 non-null  float64\n",
            "dtypes: float64(9), int64(8)\n",
            "memory usage: 68.3 MB\n"
          ]
        }
      ]
    },
    {
      "cell_type": "code",
      "source": [
        "Y = data.Label"
      ],
      "metadata": {
        "id": "WEHd8214l9iv"
      },
      "execution_count": 32,
      "outputs": []
    },
    {
      "cell_type": "code",
      "source": [
        "# from sklearn.preprocessing import LabelEncoder\n",
        "label_encoder = LabelEncoder()\n",
        "y_encoded = label_encoder.fit_transform(Y)\n",
        "# y2_encoded = label_encoder.fit_transform(Y2)\n",
        "# # print(y_encoded)"
      ],
      "metadata": {
        "id": "-msAhc0lnOSO"
      },
      "execution_count": 33,
      "outputs": []
    },
    {
      "cell_type": "code",
      "source": [
        "X = pd.get_dummies(X)"
      ],
      "metadata": {
        "id": "KPB88Em1p0KG"
      },
      "execution_count": 34,
      "outputs": []
    },
    {
      "cell_type": "code",
      "source": [
        "X.info()"
      ],
      "metadata": {
        "colab": {
          "base_uri": "https://localhost:8080/"
        },
        "id": "dH5Adw8ikj1X",
        "outputId": "999d962a-0a04-4722-f50b-9414dec32cd4"
      },
      "execution_count": 35,
      "outputs": [
        {
          "output_type": "stream",
          "name": "stdout",
          "text": [
            "<class 'pandas.core.frame.DataFrame'>\n",
            "RangeIndex: 526714 entries, 0 to 526713\n",
            "Data columns (total 17 columns):\n",
            " #   Column      Non-Null Count   Dtype  \n",
            "---  ------      --------------   -----  \n",
            " 0   Seq         526714 non-null  int64  \n",
            " 1   Dur         526714 non-null  float64\n",
            " 2   RunTime     526714 non-null  float64\n",
            " 3   Mean        526714 non-null  float64\n",
            " 4   Sum         526714 non-null  float64\n",
            " 5   Min         526714 non-null  float64\n",
            " 6   Max         526714 non-null  float64\n",
            " 7   TotPkts     526714 non-null  int64  \n",
            " 8   SrcPkts     526714 non-null  int64  \n",
            " 9   DstPkts     526714 non-null  int64  \n",
            " 10  TotBytes    526714 non-null  int64  \n",
            " 11  SrcBytes    526714 non-null  int64  \n",
            " 12  DstBytes    526714 non-null  int64  \n",
            " 13  Offset      526714 non-null  int64  \n",
            " 14  sMeanPktSz  526714 non-null  float64\n",
            " 15  dMeanPktSz  526714 non-null  float64\n",
            " 16  Load        526714 non-null  float64\n",
            "dtypes: float64(9), int64(8)\n",
            "memory usage: 68.3 MB\n"
          ]
        }
      ]
    },
    {
      "cell_type": "code",
      "source": [
        "mutual_info_1 = mutual_info_classif(X, y_encoded)"
      ],
      "metadata": {
        "id": "QpKZKgtellV5"
      },
      "execution_count": 37,
      "outputs": []
    },
    {
      "cell_type": "code",
      "source": [
        "mutual_info_1 = pd.Series(mutual_info_1)"
      ],
      "metadata": {
        "id": "aLhiNWl1r_ur"
      },
      "execution_count": 38,
      "outputs": []
    },
    {
      "cell_type": "code",
      "source": [
        "mutual_info_1.index = X.columns\n",
        "mutual_info_1.sort_values(ascending=False).plot.bar(figsize=(20,8))"
      ],
      "metadata": {
        "id": "4MZ-ylIGsK1H",
        "colab": {
          "base_uri": "https://localhost:8080/",
          "height": 498
        },
        "outputId": "1c06e117-a2c1-4748-f916-94a053c00e8f"
      },
      "execution_count": 39,
      "outputs": [
        {
          "output_type": "execute_result",
          "data": {
            "text/plain": [
              "<Axes: >"
            ]
          },
          "metadata": {},
          "execution_count": 39
        },
        {
          "output_type": "display_data",
          "data": {
            "text/plain": [
              "<Figure size 2000x800 with 1 Axes>"
            ],
            "image/png": "[encoded data removed]"
          },
          "metadata": {}
        }
      ]
    },
    {
      "cell_type": "code",
      "source": [
        "mutual_info_2 = mutual_info_classif(X, Y2)"
      ],
      "metadata": {
        "id": "JNLUz5WOmNZ7"
      },
      "execution_count": null,
      "outputs": []
    },
    {
      "cell_type": "code",
      "source": [
        "mutual_info_2.index = X.columns\n",
        "mutual_info_2.sort_values(ascending=False).plot.bar(figsize=(20,8))"
      ],
      "metadata": {
        "id": "6NxoiY5BjQ78"
      },
      "execution_count": null,
      "outputs": []
    },
    {
      "cell_type": "code",
      "source": [
        "from sklearn.preprocessing import StandardScaler\n",
        "scaler = StandardScaler()\n",
        "scaler.fit(X)"
      ],
      "metadata": {
        "id": "VPgQ9ZPDp_xg"
      },
      "execution_count": null,
      "outputs": []
    },
    {
      "cell_type": "code",
      "source": [
        "scaled_data = scaler.transform(X)"
      ],
      "metadata": {
        "id": "VMHZmMzgsd6P"
      },
      "execution_count": null,
      "outputs": []
    },
    {
      "cell_type": "code",
      "source": [
        "scaled_data"
      ],
      "metadata": {
        "id": "42Flr8Pph-ud"
      },
      "execution_count": null,
      "outputs": []
    },
    {
      "cell_type": "code",
      "source": [
        "from sklearn.decomposition import PCA\n",
        "pca = PCA(n_components=30)"
      ],
      "metadata": {
        "id": "fqCKkR-XiEro"
      },
      "execution_count": null,
      "outputs": []
    },
    {
      "cell_type": "code",
      "source": [
        "pca.fit(scaled_data)"
      ],
      "metadata": {
        "id": "qRrzD2epia1E"
      },
      "execution_count": null,
      "outputs": []
    },
    {
      "cell_type": "code",
      "source": [
        "x_pca = pca.transform(scaled_data)"
      ],
      "metadata": {
        "id": "7m-YBeCtiOqP"
      },
      "execution_count": null,
      "outputs": []
    },
    {
      "cell_type": "code",
      "source": [
        "x_pca"
      ],
      "metadata": {
        "id": "K9m2iLvEjE45"
      },
      "execution_count": null,
      "outputs": []
    }
  ]
}