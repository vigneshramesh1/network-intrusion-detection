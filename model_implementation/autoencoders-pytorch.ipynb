{
 "metadata": {
  "kernelspec": {
   "language": "python",
   "display_name": "Python 3",
   "name": "python3"
  },
  "language_info": {
   "name": "python",
   "version": "3.10.13",
   "mimetype": "text/x-python",
   "codemirror_mode": {
    "name": "ipython",
    "version": 3
   },
   "pygments_lexer": "ipython3",
   "nbconvert_exporter": "python",
   "file_extension": ".py"
  },
  "kaggle": {
   "accelerator": "gpu",
   "dataSources": [
    {
     "sourceId": 5022035,
     "sourceType": "datasetVersion",
     "datasetId": 2914217
    }
   ],
   "dockerImageVersionId": 30664,
   "isInternetEnabled": true,
   "language": "python",
   "sourceType": "notebook",
   "isGpuEnabled": true
  }
 },
 "nbformat_minor": 4,
 "nbformat": 4,
 "cells": [
  {
   "cell_type": "code",
   "source": "# This Python 3 environment comes with many helpful analytics libraries installed\n# It is defined by the kaggle/python Docker image: https://github.com/kaggle/docker-python\n# For example, here's several helpful packages to load\n\nimport numpy as np # linear algebra\nimport pandas as pd # data processing, CSV file I/O (e.g. pd.read_csv)\n\n# Input data files are available in the read-only \"../input/\" directory\n# For example, running this (by clicking run or pressing Shift+Enter) will list all files under the input directory\n\nimport os\nfor dirname, _, filenames in os.walk('/kaggle/input'):\n    for filename in filenames:\n        print(os.path.join(dirname, filename))\n\n# You can write up to 20GB to the current directory (/kaggle/working/) that gets preserved as output when you create a version using \"Save & Run All\" \n# You can also write temporary files to /kaggle/temp/, but they won't be saved outside of the current session",
   "metadata": {
    "_uuid": "8f2839f25d086af736a60e9eeb907d3b93b6e0e5",
    "_cell_guid": "b1076dfc-b9ad-4769-8c92-a6c4dae69d19",
    "execution": {
     "iopub.status.busy": "2024-03-12T06:28:28.533025Z",
     "iopub.execute_input": "2024-03-12T06:28:28.533947Z",
     "iopub.status.idle": "2024-03-12T06:28:28.544797Z",
     "shell.execute_reply.started": "2024-03-12T06:28:28.533903Z",
     "shell.execute_reply": "2024-03-12T06:28:28.543864Z"
    },
    "trusted": true
   },
   "execution_count": 1,
   "outputs": [
    {
     "name": "stdout",
     "text": "/kaggle/input/5g-nidd-dataset/Combined.csv\n",
     "output_type": "stream"
    }
   ]
  },
  {
   "cell_type": "code",
   "source": "import shutil\n\ninput_path = '/kaggle/input/5g-nidd-dataset'\noutput_path = '/kaggle/temp/5g-nidd-dataset'\n# Copy dataset into working directory\nshutil.copytree(input_path, output_path)",
   "metadata": {
    "execution": {
     "iopub.status.busy": "2024-03-12T06:28:28.546219Z",
     "iopub.execute_input": "2024-03-12T06:28:28.546520Z",
     "iopub.status.idle": "2024-03-12T06:28:31.532782Z",
     "shell.execute_reply.started": "2024-03-12T06:28:28.546497Z",
     "shell.execute_reply": "2024-03-12T06:28:31.531876Z"
    },
    "trusted": true
   },
   "execution_count": 2,
   "outputs": [
    {
     "execution_count": 2,
     "output_type": "execute_result",
     "data": {
      "text/plain": "'/kaggle/temp/5g-nidd-dataset'"
     },
     "metadata": {}
    }
   ]
  },
  {
   "cell_type": "code",
   "source": "cd /kaggle/temp/5g-nidd-dataset",
   "metadata": {
    "execution": {
     "iopub.status.busy": "2024-03-12T06:28:31.533887Z",
     "iopub.execute_input": "2024-03-12T06:28:31.534177Z",
     "iopub.status.idle": "2024-03-12T06:28:31.539728Z",
     "shell.execute_reply.started": "2024-03-12T06:28:31.534154Z",
     "shell.execute_reply": "2024-03-12T06:28:31.538844Z"
    },
    "trusted": true
   },
   "execution_count": 3,
   "outputs": [
    {
     "name": "stdout",
     "text": "/kaggle/temp/5g-nidd-dataset\n",
     "output_type": "stream"
    }
   ]
  },
  {
   "cell_type": "code",
   "source": "!pip install fancyimpute\n!pip install torch",
   "metadata": {
    "execution": {
     "iopub.status.busy": "2024-03-12T06:28:31.541828Z",
     "iopub.execute_input": "2024-03-12T06:28:31.542097Z",
     "iopub.status.idle": "2024-03-12T06:29:04.839888Z",
     "shell.execute_reply.started": "2024-03-12T06:28:31.542074Z",
     "shell.execute_reply": "2024-03-12T06:29:04.838737Z"
    },
    "trusted": true
   },
   "execution_count": 4,
   "outputs": [
    {
     "name": "stdout",
     "text": "Collecting fancyimpute\n  Downloading fancyimpute-0.7.0.tar.gz (25 kB)\n  Preparing metadata (setup.py) ... \u001B[?25ldone\n\u001B[?25hCollecting knnimpute>=0.1.0 (from fancyimpute)\n  Downloading knnimpute-0.1.0.tar.gz (8.3 kB)\n  Preparing metadata (setup.py) ... \u001B[?25ldone\n\u001B[?25hRequirement already satisfied: scikit-learn>=0.24.2 in /opt/conda/lib/python3.10/site-packages (from fancyimpute) (1.2.2)\nCollecting cvxpy (from fancyimpute)\n  Downloading cvxpy-1.4.2-cp310-cp310-manylinux_2_17_x86_64.manylinux2014_x86_64.whl.metadata (8.8 kB)\nCollecting cvxopt (from fancyimpute)\n  Downloading cvxopt-1.3.2-cp310-cp310-manylinux_2_17_x86_64.manylinux2014_x86_64.whl.metadata (1.3 kB)\nRequirement already satisfied: pytest in /opt/conda/lib/python3.10/site-packages (from fancyimpute) (8.0.1)\nRequirement already satisfied: nose in /opt/conda/lib/python3.10/site-packages (from fancyimpute) (1.3.7)\nRequirement already satisfied: six in /opt/conda/lib/python3.10/site-packages (from knnimpute>=0.1.0->fancyimpute) (1.16.0)\nRequirement already satisfied: numpy>=1.10 in /opt/conda/lib/python3.10/site-packages (from knnimpute>=0.1.0->fancyimpute) (1.26.4)\nRequirement already satisfied: scipy>=1.3.2 in /opt/conda/lib/python3.10/site-packages (from scikit-learn>=0.24.2->fancyimpute) (1.11.4)\nRequirement already satisfied: joblib>=1.1.1 in /opt/conda/lib/python3.10/site-packages (from scikit-learn>=0.24.2->fancyimpute) (1.3.2)\nRequirement already satisfied: threadpoolctl>=2.0.0 in /opt/conda/lib/python3.10/site-packages (from scikit-learn>=0.24.2->fancyimpute) (3.2.0)\nCollecting osqp>=0.6.2 (from cvxpy->fancyimpute)\n  Downloading osqp-0.6.5-cp310-cp310-manylinux_2_5_x86_64.manylinux1_x86_64.manylinux_2_17_x86_64.manylinux2014_x86_64.whl.metadata (1.8 kB)\nRequirement already satisfied: ecos>=2 in /opt/conda/lib/python3.10/site-packages (from cvxpy->fancyimpute) (2.0.13)\nCollecting clarabel>=0.5.0 (from cvxpy->fancyimpute)\n  Downloading clarabel-0.7.1-cp37-abi3-manylinux_2_17_x86_64.manylinux2014_x86_64.whl.metadata (4.6 kB)\nCollecting scs>=3.0 (from cvxpy->fancyimpute)\n  Downloading scs-3.2.4.post1-cp310-cp310-manylinux_2_17_x86_64.manylinux2014_x86_64.whl.metadata (2.1 kB)\nRequirement already satisfied: pybind11 in /opt/conda/lib/python3.10/site-packages (from cvxpy->fancyimpute) (2.11.1)\nRequirement already satisfied: iniconfig in /opt/conda/lib/python3.10/site-packages (from pytest->fancyimpute) (2.0.0)\nRequirement already satisfied: packaging in /opt/conda/lib/python3.10/site-packages (from pytest->fancyimpute) (21.3)\nRequirement already satisfied: pluggy<2.0,>=1.3.0 in /opt/conda/lib/python3.10/site-packages (from pytest->fancyimpute) (1.3.0)\nRequirement already satisfied: exceptiongroup>=1.0.0rc8 in /opt/conda/lib/python3.10/site-packages (from pytest->fancyimpute) (1.2.0)\nRequirement already satisfied: tomli>=1.0.0 in /opt/conda/lib/python3.10/site-packages (from pytest->fancyimpute) (2.0.1)\nCollecting qdldl (from osqp>=0.6.2->cvxpy->fancyimpute)\n  Downloading qdldl-0.1.7.post0-cp310-cp310-manylinux_2_17_x86_64.manylinux2014_x86_64.whl.metadata (1.7 kB)\nRequirement already satisfied: pyparsing!=3.0.5,>=2.0.2 in /opt/conda/lib/python3.10/site-packages (from packaging->pytest->fancyimpute) (3.1.1)\nDownloading cvxopt-1.3.2-cp310-cp310-manylinux_2_17_x86_64.manylinux2014_x86_64.whl (13.6 MB)\n\u001B[2K   \u001B[90m━━━━━━━━━━━━━━━━━━━━━━━━━━━━━━━━━━━━━━━━\u001B[0m \u001B[32m13.6/13.6 MB\u001B[0m \u001B[31m80.6 MB/s\u001B[0m eta \u001B[36m0:00:00\u001B[0m:00:01\u001B[0m0:01\u001B[0m\n\u001B[?25hDownloading cvxpy-1.4.2-cp310-cp310-manylinux_2_17_x86_64.manylinux2014_x86_64.whl (1.2 MB)\n\u001B[2K   \u001B[90m━━━━━━━━━━━━━━━━━━━━━━━━━━━━━━━━━━━━━━━━\u001B[0m \u001B[32m1.2/1.2 MB\u001B[0m \u001B[31m53.1 MB/s\u001B[0m eta \u001B[36m0:00:00\u001B[0m\n\u001B[?25hDownloading clarabel-0.7.1-cp37-abi3-manylinux_2_17_x86_64.manylinux2014_x86_64.whl (1.3 MB)\n\u001B[2K   \u001B[90m━━━━━━━━━━━━━━━━━━━━━━━━━━━━━━━━━━━━━━━━\u001B[0m \u001B[32m1.3/1.3 MB\u001B[0m \u001B[31m40.7 MB/s\u001B[0m eta \u001B[36m0:00:00\u001B[0m\n\u001B[?25hDownloading osqp-0.6.5-cp310-cp310-manylinux_2_5_x86_64.manylinux1_x86_64.manylinux_2_17_x86_64.manylinux2014_x86_64.whl (298 kB)\n\u001B[2K   \u001B[90m━━━━━━━━━━━━━━━━━━━━━━━━━━━━━━━━━━━━━━━━\u001B[0m \u001B[32m299.0/299.0 kB\u001B[0m \u001B[31m19.6 MB/s\u001B[0m eta \u001B[36m0:00:00\u001B[0m\n\u001B[?25hDownloading scs-3.2.4.post1-cp310-cp310-manylinux_2_17_x86_64.manylinux2014_x86_64.whl (10.4 MB)\n\u001B[2K   \u001B[90m━━━━━━━━━━━━━━━━━━━━━━━━━━━━━━━━━━━━━━━━\u001B[0m \u001B[32m10.4/10.4 MB\u001B[0m \u001B[31m102.5 MB/s\u001B[0m eta \u001B[36m0:00:00\u001B[0m00:01\u001B[0m0:01\u001B[0m\n\u001B[?25hDownloading qdldl-0.1.7.post0-cp310-cp310-manylinux_2_17_x86_64.manylinux2014_x86_64.whl (1.1 MB)\n\u001B[2K   \u001B[90m━━━━━━━━━━━━━━━━━━━━━━━━━━━━━━━━━━━━━━━━\u001B[0m \u001B[32m1.1/1.1 MB\u001B[0m \u001B[31m52.0 MB/s\u001B[0m eta \u001B[36m0:00:00\u001B[0m\n\u001B[?25hBuilding wheels for collected packages: fancyimpute, knnimpute\n  Building wheel for fancyimpute (setup.py) ... \u001B[?25ldone\n\u001B[?25h  Created wheel for fancyimpute: filename=fancyimpute-0.7.0-py3-none-any.whl size=29880 sha256=2b31e77f65e24b57c851263d225d9a8379ab0ff609c50a47027b5ec3272393a3\n  Stored in directory: /root/.cache/pip/wheels/7b/0c/d3/ee82d1fbdcc0858d96434af108608d01703505d453720c84ed\n  Building wheel for knnimpute (setup.py) ... \u001B[?25ldone\n\u001B[?25h  Created wheel for knnimpute: filename=knnimpute-0.1.0-py3-none-any.whl size=11329 sha256=785092f64f12de85d22dbe5f84c09c5bf97a3c0f8fb6f1cd6274772f07b4dc58\n  Stored in directory: /root/.cache/pip/wheels/46/06/a5/45a724630562413c374e29c08732411d496092408b3a7bf754\nSuccessfully built fancyimpute knnimpute\nInstalling collected packages: knnimpute, cvxopt, scs, qdldl, clarabel, osqp, cvxpy, fancyimpute\nSuccessfully installed clarabel-0.7.1 cvxopt-1.3.2 cvxpy-1.4.2 fancyimpute-0.7.0 knnimpute-0.1.0 osqp-0.6.5 qdldl-0.1.7.post0 scs-3.2.4.post1\nRequirement already satisfied: torch in /opt/conda/lib/python3.10/site-packages (2.1.2)\nRequirement already satisfied: filelock in /opt/conda/lib/python3.10/site-packages (from torch) (3.13.1)\nRequirement already satisfied: typing-extensions in /opt/conda/lib/python3.10/site-packages (from torch) (4.9.0)\nRequirement already satisfied: sympy in /opt/conda/lib/python3.10/site-packages (from torch) (1.12)\nRequirement already satisfied: networkx in /opt/conda/lib/python3.10/site-packages (from torch) (3.2.1)\nRequirement already satisfied: jinja2 in /opt/conda/lib/python3.10/site-packages (from torch) (3.1.2)\nRequirement already satisfied: fsspec in /opt/conda/lib/python3.10/site-packages (from torch) (2024.2.0)\nRequirement already satisfied: MarkupSafe>=2.0 in /opt/conda/lib/python3.10/site-packages (from jinja2->torch) (2.1.3)\nRequirement already satisfied: mpmath>=0.19 in /opt/conda/lib/python3.10/site-packages (from sympy->torch) (1.3.0)\n",
     "output_type": "stream"
    }
   ]
  },
  {
   "cell_type": "code",
   "source": "import numpy as np\nimport pandas as pd\nimport matplotlib.pyplot as plt\nimport seaborn as sns\nimport requests, zipfile, io\nimport missingno as msno\nimport multiprocessing\nimport scipy\nimport sklearn\nimport torch\nfrom torch.utils.data import Dataset, DataLoader\nfrom torch.utils.data.sampler import SubsetRandomSampler\nfrom tqdm import tqdm\nimport torch.nn.functional as F",
   "metadata": {
    "execution": {
     "iopub.status.busy": "2024-03-12T06:29:04.841710Z",
     "iopub.execute_input": "2024-03-12T06:29:04.842608Z",
     "iopub.status.idle": "2024-03-12T06:29:05.199029Z",
     "shell.execute_reply.started": "2024-03-12T06:29:04.842566Z",
     "shell.execute_reply": "2024-03-12T06:29:05.198226Z"
    },
    "trusted": true
   },
   "execution_count": 5,
   "outputs": []
  },
  {
   "cell_type": "code",
   "source": "from sklearn import preprocessing\nfrom sklearn.model_selection import train_test_split\nfrom sklearn.metrics import accuracy_score\nimport fancyimpute\nfrom fancyimpute import IterativeImputer",
   "metadata": {
    "execution": {
     "iopub.status.busy": "2024-03-12T06:29:05.200159Z",
     "iopub.execute_input": "2024-03-12T06:29:05.200995Z",
     "iopub.status.idle": "2024-03-12T06:29:06.218198Z",
     "shell.execute_reply.started": "2024-03-12T06:29:05.200962Z",
     "shell.execute_reply": "2024-03-12T06:29:06.216880Z"
    },
    "trusted": true
   },
   "execution_count": 6,
   "outputs": [
    {
     "name": "stdout",
     "text": "(CVXPY) Mar 12 06:29:06 AM: Encountered unexpected exception importing solver GLOP:\nRuntimeError('Version of ortools (9.4.1874) is too old. Expected >= 9.5.0.')\n(CVXPY) Mar 12 06:29:06 AM: Encountered unexpected exception importing solver PDLP:\nRuntimeError('Version of ortools (9.4.1874) is too old. Expected >= 9.5.0.')\n",
     "output_type": "stream"
    }
   ]
  },
  {
   "cell_type": "code",
   "source": "df = pd.read_csv('Combined.csv', low_memory=False)\ndf.head()",
   "metadata": {
    "execution": {
     "iopub.status.busy": "2024-03-12T06:29:06.220591Z",
     "iopub.execute_input": "2024-03-12T06:29:06.221957Z",
     "iopub.status.idle": "2024-03-12T06:29:16.000385Z",
     "shell.execute_reply.started": "2024-03-12T06:29:06.221909Z",
     "shell.execute_reply": "2024-03-12T06:29:15.999522Z"
    },
    "trusted": true
   },
   "execution_count": 7,
   "outputs": [
    {
     "execution_count": 7,
     "output_type": "execute_result",
     "data": {
      "text/plain": "   Unnamed: 0  Seq       Dur   RunTime      Mean       Sum       Min  \\\n0           0    1  0.000000  0.000000  0.000000  0.000000  0.000000   \n1           1    2  0.000000  0.000000  0.000000  0.000000  0.000000   \n2           2    3  4.998020  4.998020  4.998020  4.998020  4.998020   \n3           3    4  4.998037  4.998037  4.998037  4.998037  4.998037   \n4           4    5  4.999453  4.999453  4.999453  4.999453  4.999453   \n\n        Max Proto  sTos  ...  sVid dVid SrcTCPBase  DstTCPBase  TcpRtt  \\\n0  0.000000  icmp   0.0  ...   NaN  NaN        NaN         NaN     0.0   \n1  0.000000  icmp   0.0  ...   NaN  NaN        NaN         NaN     0.0   \n2  4.998020   udp   0.0  ...   NaN  NaN        NaN         NaN     0.0   \n3  4.998037   udp   0.0  ...   NaN  NaN        NaN         NaN     0.0   \n4  4.999453   udp   0.0  ...   NaN  NaN        NaN         NaN     0.0   \n\n   SynAck  AckDat   Label  Attack Type  Attack Tool  \n0     0.0     0.0  Benign       Benign       Benign  \n1     0.0     0.0  Benign       Benign       Benign  \n2     0.0     0.0  Benign       Benign       Benign  \n3     0.0     0.0  Benign       Benign       Benign  \n4     0.0     0.0  Benign       Benign       Benign  \n\n[5 rows x 52 columns]",
      "text/html": "<div>\n<style scoped>\n    .dataframe tbody tr th:only-of-type {\n        vertical-align: middle;\n    }\n\n    .dataframe tbody tr th {\n        vertical-align: top;\n    }\n\n    .dataframe thead th {\n        text-align: right;\n    }\n</style>\n<table border=\"1\" class=\"dataframe\">\n  <thead>\n    <tr style=\"text-align: right;\">\n      <th></th>\n      <th>Unnamed: 0</th>\n      <th>Seq</th>\n      <th>Dur</th>\n      <th>RunTime</th>\n      <th>Mean</th>\n      <th>Sum</th>\n      <th>Min</th>\n      <th>Max</th>\n      <th>Proto</th>\n      <th>sTos</th>\n      <th>...</th>\n      <th>sVid</th>\n      <th>dVid</th>\n      <th>SrcTCPBase</th>\n      <th>DstTCPBase</th>\n      <th>TcpRtt</th>\n      <th>SynAck</th>\n      <th>AckDat</th>\n      <th>Label</th>\n      <th>Attack Type</th>\n      <th>Attack Tool</th>\n    </tr>\n  </thead>\n  <tbody>\n    <tr>\n      <th>0</th>\n      <td>0</td>\n      <td>1</td>\n      <td>0.000000</td>\n      <td>0.000000</td>\n      <td>0.000000</td>\n      <td>0.000000</td>\n      <td>0.000000</td>\n      <td>0.000000</td>\n      <td>icmp</td>\n      <td>0.0</td>\n      <td>...</td>\n      <td>NaN</td>\n      <td>NaN</td>\n      <td>NaN</td>\n      <td>NaN</td>\n      <td>0.0</td>\n      <td>0.0</td>\n      <td>0.0</td>\n      <td>Benign</td>\n      <td>Benign</td>\n      <td>Benign</td>\n    </tr>\n    <tr>\n      <th>1</th>\n      <td>1</td>\n      <td>2</td>\n      <td>0.000000</td>\n      <td>0.000000</td>\n      <td>0.000000</td>\n      <td>0.000000</td>\n      <td>0.000000</td>\n      <td>0.000000</td>\n      <td>icmp</td>\n      <td>0.0</td>\n      <td>...</td>\n      <td>NaN</td>\n      <td>NaN</td>\n      <td>NaN</td>\n      <td>NaN</td>\n      <td>0.0</td>\n      <td>0.0</td>\n      <td>0.0</td>\n      <td>Benign</td>\n      <td>Benign</td>\n      <td>Benign</td>\n    </tr>\n    <tr>\n      <th>2</th>\n      <td>2</td>\n      <td>3</td>\n      <td>4.998020</td>\n      <td>4.998020</td>\n      <td>4.998020</td>\n      <td>4.998020</td>\n      <td>4.998020</td>\n      <td>4.998020</td>\n      <td>udp</td>\n      <td>0.0</td>\n      <td>...</td>\n      <td>NaN</td>\n      <td>NaN</td>\n      <td>NaN</td>\n      <td>NaN</td>\n      <td>0.0</td>\n      <td>0.0</td>\n      <td>0.0</td>\n      <td>Benign</td>\n      <td>Benign</td>\n      <td>Benign</td>\n    </tr>\n    <tr>\n      <th>3</th>\n      <td>3</td>\n      <td>4</td>\n      <td>4.998037</td>\n      <td>4.998037</td>\n      <td>4.998037</td>\n      <td>4.998037</td>\n      <td>4.998037</td>\n      <td>4.998037</td>\n      <td>udp</td>\n      <td>0.0</td>\n      <td>...</td>\n      <td>NaN</td>\n      <td>NaN</td>\n      <td>NaN</td>\n      <td>NaN</td>\n      <td>0.0</td>\n      <td>0.0</td>\n      <td>0.0</td>\n      <td>Benign</td>\n      <td>Benign</td>\n      <td>Benign</td>\n    </tr>\n    <tr>\n      <th>4</th>\n      <td>4</td>\n      <td>5</td>\n      <td>4.999453</td>\n      <td>4.999453</td>\n      <td>4.999453</td>\n      <td>4.999453</td>\n      <td>4.999453</td>\n      <td>4.999453</td>\n      <td>udp</td>\n      <td>0.0</td>\n      <td>...</td>\n      <td>NaN</td>\n      <td>NaN</td>\n      <td>NaN</td>\n      <td>NaN</td>\n      <td>0.0</td>\n      <td>0.0</td>\n      <td>0.0</td>\n      <td>Benign</td>\n      <td>Benign</td>\n      <td>Benign</td>\n    </tr>\n  </tbody>\n</table>\n<p>5 rows × 52 columns</p>\n</div>"
     },
     "metadata": {}
    }
   ]
  },
  {
   "cell_type": "code",
   "source": "print(df.shape)",
   "metadata": {
    "execution": {
     "iopub.status.busy": "2024-03-12T06:29:16.001599Z",
     "iopub.execute_input": "2024-03-12T06:29:16.001909Z",
     "iopub.status.idle": "2024-03-12T06:29:16.007038Z",
     "shell.execute_reply.started": "2024-03-12T06:29:16.001882Z",
     "shell.execute_reply": "2024-03-12T06:29:16.006105Z"
    },
    "trusted": true
   },
   "execution_count": 8,
   "outputs": [
    {
     "name": "stdout",
     "text": "(1215890, 52)\n",
     "output_type": "stream"
    }
   ]
  },
  {
   "cell_type": "code",
   "source": "pd.set_option('float_format', '{:f}'.format)\nplt.rcParams[\"figure.figsize\"] = (10, 5)\nplt.rcParams[\"xtick.labelsize\"] = 7\npd.set_option('future.no_silent_downcasting', True)",
   "metadata": {
    "execution": {
     "iopub.status.busy": "2024-03-12T06:29:16.008245Z",
     "iopub.execute_input": "2024-03-12T06:29:16.008993Z",
     "iopub.status.idle": "2024-03-12T06:29:16.020209Z",
     "shell.execute_reply.started": "2024-03-12T06:29:16.008960Z",
     "shell.execute_reply": "2024-03-12T06:29:16.019270Z"
    },
    "trusted": true
   },
   "execution_count": 9,
   "outputs": []
  },
  {
   "cell_type": "code",
   "source": "# Use GPU if it's available\ndevice = torch.device(\"cuda\" if torch.cuda.is_available() else \"cpu\")\ndevice",
   "metadata": {
    "execution": {
     "iopub.status.busy": "2024-03-12T06:29:16.024338Z",
     "iopub.execute_input": "2024-03-12T06:29:16.024683Z",
     "iopub.status.idle": "2024-03-12T06:29:16.065164Z",
     "shell.execute_reply.started": "2024-03-12T06:29:16.024652Z",
     "shell.execute_reply": "2024-03-12T06:29:16.064231Z"
    },
    "trusted": true
   },
   "execution_count": 10,
   "outputs": [
    {
     "execution_count": 10,
     "output_type": "execute_result",
     "data": {
      "text/plain": "device(type='cuda')"
     },
     "metadata": {}
    }
   ]
  },
  {
   "cell_type": "code",
   "source": "print('Torch', torch.__version__, 'CUDA', torch.version.cuda)\nprint('Device:', torch.device('cuda:0'))",
   "metadata": {
    "execution": {
     "iopub.status.busy": "2024-03-12T06:29:16.066353Z",
     "iopub.execute_input": "2024-03-12T06:29:16.066746Z",
     "iopub.status.idle": "2024-03-12T06:29:16.074972Z",
     "shell.execute_reply.started": "2024-03-12T06:29:16.066712Z",
     "shell.execute_reply": "2024-03-12T06:29:16.074057Z"
    },
    "trusted": true
   },
   "execution_count": 11,
   "outputs": [
    {
     "name": "stdout",
     "text": "Torch 2.1.2 CUDA 12.1\nDevice: cuda:0\n",
     "output_type": "stream"
    }
   ]
  },
  {
   "cell_type": "code",
   "source": "# number of subprocesses to use for data loading\nnum_workers = multiprocessing.cpu_count()\n# how many samples per batch to load\nbatch_size = 64\n# percentage of training set to use as validation\nvalid_size = 0.05\n\nnum_classes = df['Attack Type'].nunique()\nnum_classes",
   "metadata": {
    "execution": {
     "iopub.status.busy": "2024-03-12T06:29:16.076083Z",
     "iopub.execute_input": "2024-03-12T06:29:16.076395Z",
     "iopub.status.idle": "2024-03-12T06:29:16.173749Z",
     "shell.execute_reply.started": "2024-03-12T06:29:16.076333Z",
     "shell.execute_reply": "2024-03-12T06:29:16.172856Z"
    },
    "trusted": true
   },
   "execution_count": 12,
   "outputs": [
    {
     "execution_count": 12,
     "output_type": "execute_result",
     "data": {
      "text/plain": "9"
     },
     "metadata": {}
    }
   ]
  },
  {
   "cell_type": "code",
   "source": "# Segregate features and labels into separate variables\nX, y = df.iloc[:, :-2].values, df.iloc[:, [-2]].values\n\nX_train, X_test, y_train, y_test = train_test_split(X, y,\n                                                    stratify=y, \n                                                    test_size=0.05)\n\nX_train = pd.DataFrame(X_train, columns=df.columns.to_list()[:-2])\nX_test = pd.DataFrame(X_test, columns=df.columns.to_list()[:-2])\ny_train = pd.DataFrame(y_train, columns=['Attack Type'])\ny_test = pd.DataFrame(y_test, columns=['Attack Type'])\n\nprint(\"Training dataset size:\", X_train.shape)\nprint(\"Testing dataset size:\", X_test.shape)\nprint(\"Training target size:\", y_train.shape)\nprint(\"Testing target size:\", y_test.shape)",
   "metadata": {
    "execution": {
     "iopub.status.busy": "2024-03-12T06:29:16.174996Z",
     "iopub.execute_input": "2024-03-12T06:29:16.175353Z",
     "iopub.status.idle": "2024-03-12T06:29:34.407741Z",
     "shell.execute_reply.started": "2024-03-12T06:29:16.175316Z",
     "shell.execute_reply": "2024-03-12T06:29:34.406718Z"
    },
    "trusted": true
   },
   "execution_count": 13,
   "outputs": [
    {
     "name": "stdout",
     "text": "Training dataset size: (1155095, 50)\nTesting dataset size: (60795, 50)\nTraining target size: (1155095, 1)\nTesting target size: (60795, 1)\n",
     "output_type": "stream"
    }
   ]
  },
  {
   "cell_type": "code",
   "source": "# Define a function to impute NaN values with the most frequent value in the group\ndef impute_most_frequent(group):\n    mode_value = group.mode().iloc[0] if not group.mode().empty else np.nan\n    return group.fillna(mode_value)\n\ndef handle_missing_values(df):\n    df.drop_duplicates(inplace=True)\n    df.drop(['sVid', 'dVid'], axis=1, inplace=True)\n    df.dropna(subset=['sTos', 'sHops', 'sTtl', 'sDSb'], how='any', inplace=True)\n    df[['dTtl', 'dDSb', 'dTos', 'dHops', 'SrcGap', 'DstGap']] = df.groupby('Attack Type')[['dTtl', 'dDSb', 'dTos', 'dHops', 'SrcGap', 'DstGap']].transform(impute_most_frequent)\n    df['dDSb'] = df['dDSb'].fillna('cs0')\n    \n    df_subset_copy = df[['dTtl', 'dTos', 'dHops', 'SrcGap', 'DstGap', 'SrcTCPBase', 'DstTCPBase', 'SrcWin', 'DstWin']].copy(deep=True)\n    mice_imputer = IterativeImputer()\n    df_subset_copy.iloc[:, :] = mice_imputer.fit_transform(df_subset_copy)\n    df[['dTtl', 'dTos', 'dHops', 'SrcGap', 'DstGap', 'SrcTCPBase', 'DstTCPBase', 'SrcWin', 'DstWin']] = df_subset_copy",
   "metadata": {
    "execution": {
     "iopub.status.busy": "2024-03-12T06:29:34.408858Z",
     "iopub.execute_input": "2024-03-12T06:29:34.409148Z",
     "iopub.status.idle": "2024-03-12T06:29:34.419230Z",
     "shell.execute_reply.started": "2024-03-12T06:29:34.409123Z",
     "shell.execute_reply": "2024-03-12T06:29:34.418226Z"
    },
    "trusted": true
   },
   "execution_count": 14,
   "outputs": []
  },
  {
   "cell_type": "code",
   "source": "train_df = pd.concat([X_train, y_train], axis='columns')\n\nhandle_missing_values(train_df)\nprint(train_df.shape)\ntrain_df.isna().any()",
   "metadata": {
    "execution": {
     "iopub.status.busy": "2024-03-12T06:29:34.420499Z",
     "iopub.execute_input": "2024-03-12T06:29:34.420853Z",
     "iopub.status.idle": "2024-03-12T06:30:20.383006Z",
     "shell.execute_reply.started": "2024-03-12T06:29:34.420822Z",
     "shell.execute_reply": "2024-03-12T06:30:20.382078Z"
    },
    "trusted": true
   },
   "execution_count": 15,
   "outputs": [
    {
     "name": "stdout",
     "text": "(1154890, 49)\n",
     "output_type": "stream"
    },
    {
     "execution_count": 15,
     "output_type": "execute_result",
     "data": {
      "text/plain": "Unnamed: 0     False\nSeq            False\nDur            False\nRunTime        False\nMean           False\nSum            False\nMin            False\nMax            False\nProto          False\nsTos           False\ndTos           False\nsDSb           False\ndDSb           False\nsTtl           False\ndTtl           False\nsHops          False\ndHops          False\nCause          False\nTotPkts        False\nSrcPkts        False\nDstPkts        False\nTotBytes       False\nSrcBytes       False\nDstBytes       False\nOffset         False\nsMeanPktSz     False\ndMeanPktSz     False\nLoad           False\nSrcLoad        False\nDstLoad        False\nLoss           False\nSrcLoss        False\nDstLoss        False\npLoss          False\nSrcGap         False\nDstGap         False\nRate           False\nSrcRate        False\nDstRate        False\nState          False\nSrcWin         False\nDstWin         False\nSrcTCPBase     False\nDstTCPBase     False\nTcpRtt         False\nSynAck         False\nAckDat         False\nLabel          False\nAttack Type    False\ndtype: bool"
     },
     "metadata": {}
    }
   ]
  },
  {
   "cell_type": "code",
   "source": "labels = df['Attack Type'].unique()\nlabels",
   "metadata": {
    "execution": {
     "iopub.status.busy": "2024-03-12T06:30:20.384296Z",
     "iopub.execute_input": "2024-03-12T06:30:20.385106Z",
     "iopub.status.idle": "2024-03-12T06:30:20.474311Z",
     "shell.execute_reply.started": "2024-03-12T06:30:20.385071Z",
     "shell.execute_reply": "2024-03-12T06:30:20.473315Z"
    },
    "trusted": true
   },
   "execution_count": 16,
   "outputs": [
    {
     "execution_count": 16,
     "output_type": "execute_result",
     "data": {
      "text/plain": "array(['Benign', 'SYNScan', 'TCPConnectScan', 'UDPScan', 'ICMPFlood',\n       'UDPFlood', 'SYNFlood', 'HTTPFlood', 'SlowrateDoS'], dtype=object)"
     },
     "metadata": {}
    }
   ]
  },
  {
   "cell_type": "code",
   "source": "def handle_missing_values_test(test_df, train_df):\n    test_df.drop_duplicates(inplace=True)\n    test_df.drop(['sVid', 'dVid'], axis=1, inplace=True)\n    test_df.dropna(subset=['sTos', 'sHops', 'sTtl', 'sDSb'], how='any', inplace=True)\n    \n    # Replace missing values in the test dataset with the mode of each category in the training dataset\n    for col in ['dTtl', 'dTos', 'dHops', 'SrcGap', 'DstGap', 'SrcTCPBase', 'DstTCPBase', 'SrcWin', 'DstWin', 'dDSb']:\n        col_mode_values = train_df.groupby('Attack Type')[col].agg(pd.Series.mode)\n        for attack_type in labels:\n            if attack_type not in col_mode_values.index:\n                test_df[col] = test_df[col].fillna(train_df[col].mode().iloc[0])  \n            elif isinstance(col_mode_values[attack_type], np.ndarray):        \n                mask = test_df['Attack Type'] == attack_type\n                test_df.loc[mask, col] = test_df.loc[mask, col].fillna(col_mode_values[attack_type][0])\n            else:               \n                mask = test_df['Attack Type'] == attack_type\n                test_df.loc[mask, col] = test_df.loc[mask, col].fillna(col_mode_values[attack_type])\n\n    return test_df",
   "metadata": {
    "execution": {
     "iopub.status.busy": "2024-03-12T06:30:20.475831Z",
     "iopub.execute_input": "2024-03-12T06:30:20.476132Z",
     "iopub.status.idle": "2024-03-12T06:30:20.484906Z",
     "shell.execute_reply.started": "2024-03-12T06:30:20.476107Z",
     "shell.execute_reply": "2024-03-12T06:30:20.483969Z"
    },
    "trusted": true
   },
   "execution_count": 17,
   "outputs": []
  },
  {
   "cell_type": "code",
   "source": "test_df = pd.concat([X_test, y_test], axis='columns')\ntest_df = handle_missing_values_test(test_df, train_df)\nprint(test_df.shape)\ntest_df.isna().any()",
   "metadata": {
    "execution": {
     "iopub.status.busy": "2024-03-12T06:30:20.486096Z",
     "iopub.execute_input": "2024-03-12T06:30:20.486400Z",
     "iopub.status.idle": "2024-03-12T06:30:26.173928Z",
     "shell.execute_reply.started": "2024-03-12T06:30:20.486353Z",
     "shell.execute_reply": "2024-03-12T06:30:26.173009Z"
    },
    "trusted": true
   },
   "execution_count": 18,
   "outputs": [
    {
     "name": "stdout",
     "text": "(60785, 49)\n",
     "output_type": "stream"
    },
    {
     "execution_count": 18,
     "output_type": "execute_result",
     "data": {
      "text/plain": "Unnamed: 0     False\nSeq            False\nDur            False\nRunTime        False\nMean           False\nSum            False\nMin            False\nMax            False\nProto          False\nsTos           False\ndTos           False\nsDSb           False\ndDSb           False\nsTtl           False\ndTtl           False\nsHops          False\ndHops          False\nCause          False\nTotPkts        False\nSrcPkts        False\nDstPkts        False\nTotBytes       False\nSrcBytes       False\nDstBytes       False\nOffset         False\nsMeanPktSz     False\ndMeanPktSz     False\nLoad           False\nSrcLoad        False\nDstLoad        False\nLoss           False\nSrcLoss        False\nDstLoss        False\npLoss          False\nSrcGap         False\nDstGap         False\nRate           False\nSrcRate        False\nDstRate        False\nState          False\nSrcWin         False\nDstWin         False\nSrcTCPBase     False\nDstTCPBase     False\nTcpRtt         False\nSynAck         False\nAckDat         False\nLabel          False\nAttack Type    False\ndtype: bool"
     },
     "metadata": {}
    }
   ]
  },
  {
   "cell_type": "code",
   "source": "X_train, y_train = train_df.loc[:, train_df.columns != 'Attack Type'], train_df['Attack Type']\nprint(\"Training dataset size:\", X_train.shape)\nprint(\"Training target size:\", y_train.shape)",
   "metadata": {
    "execution": {
     "iopub.status.busy": "2024-03-12T06:30:26.175034Z",
     "iopub.execute_input": "2024-03-12T06:30:26.175640Z",
     "iopub.status.idle": "2024-03-12T06:30:28.717706Z",
     "shell.execute_reply.started": "2024-03-12T06:30:26.175613Z",
     "shell.execute_reply": "2024-03-12T06:30:28.716756Z"
    },
    "trusted": true
   },
   "execution_count": 19,
   "outputs": [
    {
     "name": "stdout",
     "text": "Training dataset size: (1154890, 48)\nTraining target size: (1154890,)\n",
     "output_type": "stream"
    }
   ]
  },
  {
   "cell_type": "code",
   "source": "X_test, y_test = test_df.loc[:, test_df.columns != 'Attack Type'], test_df['Attack Type']\nprint(\"Testing dataset size:\", X_test.shape)\nprint(\"Testing target size:\", y_test.shape)",
   "metadata": {
    "execution": {
     "iopub.status.busy": "2024-03-12T06:30:28.718743Z",
     "iopub.execute_input": "2024-03-12T06:30:28.719001Z",
     "iopub.status.idle": "2024-03-12T06:30:28.863452Z",
     "shell.execute_reply.started": "2024-03-12T06:30:28.718978Z",
     "shell.execute_reply": "2024-03-12T06:30:28.862275Z"
    },
    "trusted": true
   },
   "execution_count": 20,
   "outputs": [
    {
     "name": "stdout",
     "text": "Testing dataset size: (60785, 48)\nTesting target size: (60785,)\n",
     "output_type": "stream"
    }
   ]
  },
  {
   "cell_type": "code",
   "source": "df = pd.concat([train_df, test_df], axis = 0)\nprint(df.shape)",
   "metadata": {
    "execution": {
     "iopub.status.busy": "2024-03-12T06:30:28.864744Z",
     "iopub.execute_input": "2024-03-12T06:30:28.865047Z",
     "iopub.status.idle": "2024-03-12T06:30:30.103515Z",
     "shell.execute_reply.started": "2024-03-12T06:30:28.865020Z",
     "shell.execute_reply": "2024-03-12T06:30:30.102483Z"
    },
    "trusted": true
   },
   "execution_count": 21,
   "outputs": [
    {
     "name": "stdout",
     "text": "(1215675, 49)\n",
     "output_type": "stream"
    }
   ]
  },
  {
   "cell_type": "code",
   "source": "def one_hot_encode(df):\n    proto_dummies = pd.get_dummies(df.Proto, dtype=int, prefix='Proto')\n    proto_dummies.drop(columns=['Proto_ipv6-icmp'], inplace=True)\n    sDSb_dummies = pd.get_dummies(df.sDSb, dtype=int, prefix='sDSb')\n    sDSb_dummies.drop(columns=['sDSb_39','sDSb_54', 'sDSb_4', 'sDSb_cs4'], inplace=True)\n    dDSb_dummies = pd.get_dummies(df.dDSb, dtype=int, prefix='dDSb')\n    dDSb_dummies.drop(columns=['dDSb_cs4'], inplace=True)\n    Cause_dummies = pd.get_dummies(df.Cause, dtype=int, prefix='Cause')\n    Cause_dummies.drop(columns=['Cause_Shutdown'], inplace=True)\n    State_dummies = pd.get_dummies(df.State, dtype=int, prefix='State')\n    State_dummies.drop(columns=['State_RSP','State_TST','State_NRS'], inplace=True)\n    df = pd.concat([df, proto_dummies, sDSb_dummies, dDSb_dummies, Cause_dummies, State_dummies], axis='columns')\n    df.drop(columns=['Proto', 'sDSb', 'dDSb', 'Cause', 'State', 'Label', 'Unnamed: 0', 'Seq', 'RunTime', 'Mean', 'Sum', 'Min', 'Max'], inplace=True)\n    return df",
   "metadata": {
    "execution": {
     "iopub.status.busy": "2024-03-12T06:30:30.104737Z",
     "iopub.execute_input": "2024-03-12T06:30:30.105019Z",
     "iopub.status.idle": "2024-03-12T06:30:30.113889Z",
     "shell.execute_reply.started": "2024-03-12T06:30:30.104994Z",
     "shell.execute_reply": "2024-03-12T06:30:30.112955Z"
    },
    "trusted": true
   },
   "execution_count": 22,
   "outputs": []
  },
  {
   "cell_type": "code",
   "source": "df = one_hot_encode(df)\n\n# Split\ntrain_df, test_df = df.iloc[:X_train.shape[0], :], df.iloc[X_train.shape[0]:, :]\nprint(\"Training dataset size:\", train_df.shape)\nprint(\"Training target size:\", test_df.shape)",
   "metadata": {
    "execution": {
     "iopub.status.busy": "2024-03-12T06:30:30.115057Z",
     "iopub.execute_input": "2024-03-12T06:30:30.115349Z",
     "iopub.status.idle": "2024-03-12T06:30:38.654431Z",
     "shell.execute_reply.started": "2024-03-12T06:30:30.115323Z",
     "shell.execute_reply": "2024-03-12T06:30:38.653504Z"
    },
    "trusted": true
   },
   "execution_count": 23,
   "outputs": [
    {
     "name": "stdout",
     "text": "Training dataset size: (1154890, 63)\nTraining target size: (60785, 63)\n",
     "output_type": "stream"
    }
   ]
  },
  {
   "cell_type": "code",
   "source": "X_train, y_train = train_df.loc[:, train_df.columns != 'Attack Type'], train_df['Attack Type']\nprint(\"Training dataset size:\", X_train.shape)\nprint(\"Training target size:\", y_train.shape)",
   "metadata": {
    "execution": {
     "iopub.status.busy": "2024-03-12T06:30:38.655714Z",
     "iopub.execute_input": "2024-03-12T06:30:38.656005Z",
     "iopub.status.idle": "2024-03-12T06:30:40.065058Z",
     "shell.execute_reply.started": "2024-03-12T06:30:38.655981Z",
     "shell.execute_reply": "2024-03-12T06:30:40.064072Z"
    },
    "trusted": true
   },
   "execution_count": 24,
   "outputs": [
    {
     "name": "stdout",
     "text": "Training dataset size: (1154890, 62)\nTraining target size: (1154890,)\n",
     "output_type": "stream"
    }
   ]
  },
  {
   "cell_type": "code",
   "source": "X_test, y_test = test_df.loc[:, test_df.columns != 'Attack Type'], test_df['Attack Type']\nprint(\"Testing dataset size:\", X_test.shape)\nprint(\"Testing target size:\", y_test.shape)",
   "metadata": {
    "execution": {
     "iopub.status.busy": "2024-03-12T06:30:40.066400Z",
     "iopub.execute_input": "2024-03-12T06:30:40.066997Z",
     "iopub.status.idle": "2024-03-12T06:30:40.184579Z",
     "shell.execute_reply.started": "2024-03-12T06:30:40.066970Z",
     "shell.execute_reply": "2024-03-12T06:30:40.183664Z"
    },
    "trusted": true
   },
   "execution_count": 25,
   "outputs": [
    {
     "name": "stdout",
     "text": "Testing dataset size: (60785, 62)\nTesting target size: (60785,)\n",
     "output_type": "stream"
    }
   ]
  },
  {
   "cell_type": "code",
   "source": "print(X_train.head())\nX_train.columns",
   "metadata": {
    "execution": {
     "iopub.status.busy": "2024-03-12T06:30:40.185756Z",
     "iopub.execute_input": "2024-03-12T06:30:40.186019Z",
     "iopub.status.idle": "2024-03-12T06:30:40.200332Z",
     "shell.execute_reply.started": "2024-03-12T06:30:40.185996Z",
     "shell.execute_reply": "2024-03-12T06:30:40.199421Z"
    },
    "trusted": true
   },
   "execution_count": 26,
   "outputs": [
    {
     "name": "stdout",
     "text": "       Dur     sTos     dTos      sTtl       dTtl    sHops     dHops TotPkts  \\\n0 0.065017 0.000000 0.000000 64.000000 117.000000 0.000000 11.000000       4   \n1 2.576937 0.000000 0.000000 63.000000  64.000000 1.000000  0.000000       2   \n2 0.000000 0.000000 0.947618 63.000000  64.098404 1.000000  2.186495       1   \n3 2.574952 0.000000 0.000000 63.000000  64.000000 1.000000  0.000000       2   \n4 4.553506 0.000000 0.947618 63.000000  64.098404 1.000000  2.186495       2   \n\n  SrcPkts DstPkts  ... Cause_Start Cause_Status State_ACC State_CON State_ECO  \\\n0       2       2  ...           0            1         0         1         0   \n1       2       0  ...           0            1         0         0         0   \n2       1       0  ...           0            1         0         0         0   \n3       2       0  ...           0            1         0         0         0   \n4       2       0  ...           0            1         0         0         0   \n\n  State_FIN State_INT State_REQ State_RST State_URP  \n0         0         0         0         0         0  \n1         0         0         1         0         0  \n2         0         0         1         0         0  \n3         0         0         1         0         0  \n4         0         0         1         0         0  \n\n[5 rows x 62 columns]\n",
     "output_type": "stream"
    },
    {
     "execution_count": 26,
     "output_type": "execute_result",
     "data": {
      "text/plain": "Index(['Dur', 'sTos', 'dTos', 'sTtl', 'dTtl', 'sHops', 'dHops', 'TotPkts',\n       'SrcPkts', 'DstPkts', 'TotBytes', 'SrcBytes', 'DstBytes', 'Offset',\n       'sMeanPktSz', 'dMeanPktSz', 'Load', 'SrcLoad', 'DstLoad', 'Loss',\n       'SrcLoss', 'DstLoss', 'pLoss', 'SrcGap', 'DstGap', 'Rate', 'SrcRate',\n       'DstRate', 'SrcWin', 'DstWin', 'SrcTCPBase', 'DstTCPBase', 'TcpRtt',\n       'SynAck', 'AckDat', 'Proto_icmp', 'Proto_sctp', 'Proto_tcp',\n       'Proto_udp', 'sDSb_52', 'sDSb_af11', 'sDSb_af12', 'sDSb_af41',\n       'sDSb_cs0', 'sDSb_cs6', 'sDSb_cs7', 'sDSb_ef', 'dDSb_af11', 'dDSb_af12',\n       'dDSb_cs0', 'dDSb_cs1', 'dDSb_ef', 'Cause_Start', 'Cause_Status',\n       'State_ACC', 'State_CON', 'State_ECO', 'State_FIN', 'State_INT',\n       'State_REQ', 'State_RST', 'State_URP'],\n      dtype='object')"
     },
     "metadata": {}
    }
   ]
  },
  {
   "cell_type": "code",
   "source": "def normalize_dataframe(df):\n    std_scaler = preprocessing.StandardScaler()\n    std_normalized = std_scaler.fit_transform(df)\n    df = pd.DataFrame(std_normalized, columns = df.columns)\n    return df",
   "metadata": {
    "execution": {
     "iopub.status.busy": "2024-03-12T06:30:40.201626Z",
     "iopub.execute_input": "2024-03-12T06:30:40.201926Z",
     "iopub.status.idle": "2024-03-12T06:30:40.207767Z",
     "shell.execute_reply.started": "2024-03-12T06:30:40.201902Z",
     "shell.execute_reply": "2024-03-12T06:30:40.206827Z"
    },
    "trusted": true
   },
   "execution_count": 27,
   "outputs": []
  },
  {
   "cell_type": "code",
   "source": "X_train = normalize_dataframe(X_train)\nX_train.head()",
   "metadata": {
    "execution": {
     "iopub.status.busy": "2024-03-12T06:30:40.213697Z",
     "iopub.execute_input": "2024-03-12T06:30:40.213974Z",
     "iopub.status.idle": "2024-03-12T06:31:03.173045Z",
     "shell.execute_reply.started": "2024-03-12T06:30:40.213950Z",
     "shell.execute_reply": "2024-03-12T06:31:03.172259Z"
    },
    "trusted": true
   },
   "execution_count": 28,
   "outputs": [
    {
     "execution_count": 28,
     "output_type": "execute_result",
     "data": {
      "text/plain": "        Dur      sTos      dTos      sTtl      dTtl     sHops     dHops  \\\n0 -0.768727 -0.069002 -0.094655 -0.312234  3.959943 -0.633348  3.922331   \n1  0.716225 -0.069002 -0.094655 -0.330111 -0.007366 -0.352785 -0.973070   \n2 -0.807163 -0.069002  0.000000 -0.330111 -0.000000 -0.352785  0.000000   \n3  0.715052 -0.069002 -0.094655 -0.330111 -0.007366 -0.352785 -0.973070   \n4  1.884698 -0.069002  0.000000 -0.330111 -0.000000 -0.352785  0.000000   \n\n    TotPkts   SrcPkts   DstPkts  ...  Cause_Start  Cause_Status  State_ACC  \\\n0 -0.046164 -0.092513  0.044253  ...    -0.816726      0.817720  -0.030152   \n1 -0.126644 -0.092513 -0.115303  ...    -0.816726      0.817720  -0.030152   \n2 -0.166884 -0.146871 -0.115303  ...    -0.816726      0.817720  -0.030152   \n3 -0.126644 -0.092513 -0.115303  ...    -0.816726      0.817720  -0.030152   \n4 -0.126644 -0.092513 -0.115303  ...    -0.816726      0.817720  -0.030152   \n\n   State_CON  State_ECO  State_FIN  State_INT  State_REQ  State_RST  State_URP  \n0   2.863072  -0.155797  -0.226199  -0.608767  -0.969647  -0.257701  -0.025407  \n1  -0.349275  -0.155797  -0.226199  -0.608767   1.031303  -0.257701  -0.025407  \n2  -0.349275  -0.155797  -0.226199  -0.608767   1.031303  -0.257701  -0.025407  \n3  -0.349275  -0.155797  -0.226199  -0.608767   1.031303  -0.257701  -0.025407  \n4  -0.349275  -0.155797  -0.226199  -0.608767   1.031303  -0.257701  -0.025407  \n\n[5 rows x 62 columns]",
      "text/html": "<div>\n<style scoped>\n    .dataframe tbody tr th:only-of-type {\n        vertical-align: middle;\n    }\n\n    .dataframe tbody tr th {\n        vertical-align: top;\n    }\n\n    .dataframe thead th {\n        text-align: right;\n    }\n</style>\n<table border=\"1\" class=\"dataframe\">\n  <thead>\n    <tr style=\"text-align: right;\">\n      <th></th>\n      <th>Dur</th>\n      <th>sTos</th>\n      <th>dTos</th>\n      <th>sTtl</th>\n      <th>dTtl</th>\n      <th>sHops</th>\n      <th>dHops</th>\n      <th>TotPkts</th>\n      <th>SrcPkts</th>\n      <th>DstPkts</th>\n      <th>...</th>\n      <th>Cause_Start</th>\n      <th>Cause_Status</th>\n      <th>State_ACC</th>\n      <th>State_CON</th>\n      <th>State_ECO</th>\n      <th>State_FIN</th>\n      <th>State_INT</th>\n      <th>State_REQ</th>\n      <th>State_RST</th>\n      <th>State_URP</th>\n    </tr>\n  </thead>\n  <tbody>\n    <tr>\n      <th>0</th>\n      <td>-0.768727</td>\n      <td>-0.069002</td>\n      <td>-0.094655</td>\n      <td>-0.312234</td>\n      <td>3.959943</td>\n      <td>-0.633348</td>\n      <td>3.922331</td>\n      <td>-0.046164</td>\n      <td>-0.092513</td>\n      <td>0.044253</td>\n      <td>...</td>\n      <td>-0.816726</td>\n      <td>0.817720</td>\n      <td>-0.030152</td>\n      <td>2.863072</td>\n      <td>-0.155797</td>\n      <td>-0.226199</td>\n      <td>-0.608767</td>\n      <td>-0.969647</td>\n      <td>-0.257701</td>\n      <td>-0.025407</td>\n    </tr>\n    <tr>\n      <th>1</th>\n      <td>0.716225</td>\n      <td>-0.069002</td>\n      <td>-0.094655</td>\n      <td>-0.330111</td>\n      <td>-0.007366</td>\n      <td>-0.352785</td>\n      <td>-0.973070</td>\n      <td>-0.126644</td>\n      <td>-0.092513</td>\n      <td>-0.115303</td>\n      <td>...</td>\n      <td>-0.816726</td>\n      <td>0.817720</td>\n      <td>-0.030152</td>\n      <td>-0.349275</td>\n      <td>-0.155797</td>\n      <td>-0.226199</td>\n      <td>-0.608767</td>\n      <td>1.031303</td>\n      <td>-0.257701</td>\n      <td>-0.025407</td>\n    </tr>\n    <tr>\n      <th>2</th>\n      <td>-0.807163</td>\n      <td>-0.069002</td>\n      <td>0.000000</td>\n      <td>-0.330111</td>\n      <td>-0.000000</td>\n      <td>-0.352785</td>\n      <td>0.000000</td>\n      <td>-0.166884</td>\n      <td>-0.146871</td>\n      <td>-0.115303</td>\n      <td>...</td>\n      <td>-0.816726</td>\n      <td>0.817720</td>\n      <td>-0.030152</td>\n      <td>-0.349275</td>\n      <td>-0.155797</td>\n      <td>-0.226199</td>\n      <td>-0.608767</td>\n      <td>1.031303</td>\n      <td>-0.257701</td>\n      <td>-0.025407</td>\n    </tr>\n    <tr>\n      <th>3</th>\n      <td>0.715052</td>\n      <td>-0.069002</td>\n      <td>-0.094655</td>\n      <td>-0.330111</td>\n      <td>-0.007366</td>\n      <td>-0.352785</td>\n      <td>-0.973070</td>\n      <td>-0.126644</td>\n      <td>-0.092513</td>\n      <td>-0.115303</td>\n      <td>...</td>\n      <td>-0.816726</td>\n      <td>0.817720</td>\n      <td>-0.030152</td>\n      <td>-0.349275</td>\n      <td>-0.155797</td>\n      <td>-0.226199</td>\n      <td>-0.608767</td>\n      <td>1.031303</td>\n      <td>-0.257701</td>\n      <td>-0.025407</td>\n    </tr>\n    <tr>\n      <th>4</th>\n      <td>1.884698</td>\n      <td>-0.069002</td>\n      <td>0.000000</td>\n      <td>-0.330111</td>\n      <td>-0.000000</td>\n      <td>-0.352785</td>\n      <td>0.000000</td>\n      <td>-0.126644</td>\n      <td>-0.092513</td>\n      <td>-0.115303</td>\n      <td>...</td>\n      <td>-0.816726</td>\n      <td>0.817720</td>\n      <td>-0.030152</td>\n      <td>-0.349275</td>\n      <td>-0.155797</td>\n      <td>-0.226199</td>\n      <td>-0.608767</td>\n      <td>1.031303</td>\n      <td>-0.257701</td>\n      <td>-0.025407</td>\n    </tr>\n  </tbody>\n</table>\n<p>5 rows × 62 columns</p>\n</div>"
     },
     "metadata": {}
    }
   ]
  },
  {
   "cell_type": "code",
   "source": "train_df = pd.concat([X_train, y_train], axis='columns')\nprint(train_df.shape)\ntrain_df.head()",
   "metadata": {
    "execution": {
     "iopub.status.busy": "2024-03-12T06:31:03.174531Z",
     "iopub.execute_input": "2024-03-12T06:31:03.174812Z",
     "iopub.status.idle": "2024-03-12T06:31:03.534156Z",
     "shell.execute_reply.started": "2024-03-12T06:31:03.174789Z",
     "shell.execute_reply": "2024-03-12T06:31:03.533340Z"
    },
    "trusted": true
   },
   "execution_count": 29,
   "outputs": [
    {
     "name": "stdout",
     "text": "(1155095, 63)\n",
     "output_type": "stream"
    },
    {
     "execution_count": 29,
     "output_type": "execute_result",
     "data": {
      "text/plain": "        Dur      sTos      dTos      sTtl      dTtl     sHops     dHops  \\\n0 -0.768727 -0.069002 -0.094655 -0.312234  3.959943 -0.633348  3.922331   \n1  0.716225 -0.069002 -0.094655 -0.330111 -0.007366 -0.352785 -0.973070   \n2 -0.807163 -0.069002  0.000000 -0.330111 -0.000000 -0.352785  0.000000   \n3  0.715052 -0.069002 -0.094655 -0.330111 -0.007366 -0.352785 -0.973070   \n4  1.884698 -0.069002  0.000000 -0.330111 -0.000000 -0.352785  0.000000   \n\n    TotPkts   SrcPkts   DstPkts  ...  Cause_Status  State_ACC  State_CON  \\\n0 -0.046164 -0.092513  0.044253  ...      0.817720  -0.030152   2.863072   \n1 -0.126644 -0.092513 -0.115303  ...      0.817720  -0.030152  -0.349275   \n2 -0.166884 -0.146871 -0.115303  ...      0.817720  -0.030152  -0.349275   \n3 -0.126644 -0.092513 -0.115303  ...      0.817720  -0.030152  -0.349275   \n4 -0.126644 -0.092513 -0.115303  ...      0.817720  -0.030152  -0.349275   \n\n   State_ECO  State_FIN  State_INT  State_REQ  State_RST  State_URP  \\\n0  -0.155797  -0.226199  -0.608767  -0.969647  -0.257701  -0.025407   \n1  -0.155797  -0.226199  -0.608767   1.031303  -0.257701  -0.025407   \n2  -0.155797  -0.226199  -0.608767   1.031303  -0.257701  -0.025407   \n3  -0.155797  -0.226199  -0.608767   1.031303  -0.257701  -0.025407   \n4  -0.155797  -0.226199  -0.608767   1.031303  -0.257701  -0.025407   \n\n   Attack Type  \n0       Benign  \n1       Benign  \n2     UDPFlood  \n3       Benign  \n4     UDPFlood  \n\n[5 rows x 63 columns]",
      "text/html": "<div>\n<style scoped>\n    .dataframe tbody tr th:only-of-type {\n        vertical-align: middle;\n    }\n\n    .dataframe tbody tr th {\n        vertical-align: top;\n    }\n\n    .dataframe thead th {\n        text-align: right;\n    }\n</style>\n<table border=\"1\" class=\"dataframe\">\n  <thead>\n    <tr style=\"text-align: right;\">\n      <th></th>\n      <th>Dur</th>\n      <th>sTos</th>\n      <th>dTos</th>\n      <th>sTtl</th>\n      <th>dTtl</th>\n      <th>sHops</th>\n      <th>dHops</th>\n      <th>TotPkts</th>\n      <th>SrcPkts</th>\n      <th>DstPkts</th>\n      <th>...</th>\n      <th>Cause_Status</th>\n      <th>State_ACC</th>\n      <th>State_CON</th>\n      <th>State_ECO</th>\n      <th>State_FIN</th>\n      <th>State_INT</th>\n      <th>State_REQ</th>\n      <th>State_RST</th>\n      <th>State_URP</th>\n      <th>Attack Type</th>\n    </tr>\n  </thead>\n  <tbody>\n    <tr>\n      <th>0</th>\n      <td>-0.768727</td>\n      <td>-0.069002</td>\n      <td>-0.094655</td>\n      <td>-0.312234</td>\n      <td>3.959943</td>\n      <td>-0.633348</td>\n      <td>3.922331</td>\n      <td>-0.046164</td>\n      <td>-0.092513</td>\n      <td>0.044253</td>\n      <td>...</td>\n      <td>0.817720</td>\n      <td>-0.030152</td>\n      <td>2.863072</td>\n      <td>-0.155797</td>\n      <td>-0.226199</td>\n      <td>-0.608767</td>\n      <td>-0.969647</td>\n      <td>-0.257701</td>\n      <td>-0.025407</td>\n      <td>Benign</td>\n    </tr>\n    <tr>\n      <th>1</th>\n      <td>0.716225</td>\n      <td>-0.069002</td>\n      <td>-0.094655</td>\n      <td>-0.330111</td>\n      <td>-0.007366</td>\n      <td>-0.352785</td>\n      <td>-0.973070</td>\n      <td>-0.126644</td>\n      <td>-0.092513</td>\n      <td>-0.115303</td>\n      <td>...</td>\n      <td>0.817720</td>\n      <td>-0.030152</td>\n      <td>-0.349275</td>\n      <td>-0.155797</td>\n      <td>-0.226199</td>\n      <td>-0.608767</td>\n      <td>1.031303</td>\n      <td>-0.257701</td>\n      <td>-0.025407</td>\n      <td>Benign</td>\n    </tr>\n    <tr>\n      <th>2</th>\n      <td>-0.807163</td>\n      <td>-0.069002</td>\n      <td>0.000000</td>\n      <td>-0.330111</td>\n      <td>-0.000000</td>\n      <td>-0.352785</td>\n      <td>0.000000</td>\n      <td>-0.166884</td>\n      <td>-0.146871</td>\n      <td>-0.115303</td>\n      <td>...</td>\n      <td>0.817720</td>\n      <td>-0.030152</td>\n      <td>-0.349275</td>\n      <td>-0.155797</td>\n      <td>-0.226199</td>\n      <td>-0.608767</td>\n      <td>1.031303</td>\n      <td>-0.257701</td>\n      <td>-0.025407</td>\n      <td>UDPFlood</td>\n    </tr>\n    <tr>\n      <th>3</th>\n      <td>0.715052</td>\n      <td>-0.069002</td>\n      <td>-0.094655</td>\n      <td>-0.330111</td>\n      <td>-0.007366</td>\n      <td>-0.352785</td>\n      <td>-0.973070</td>\n      <td>-0.126644</td>\n      <td>-0.092513</td>\n      <td>-0.115303</td>\n      <td>...</td>\n      <td>0.817720</td>\n      <td>-0.030152</td>\n      <td>-0.349275</td>\n      <td>-0.155797</td>\n      <td>-0.226199</td>\n      <td>-0.608767</td>\n      <td>1.031303</td>\n      <td>-0.257701</td>\n      <td>-0.025407</td>\n      <td>Benign</td>\n    </tr>\n    <tr>\n      <th>4</th>\n      <td>1.884698</td>\n      <td>-0.069002</td>\n      <td>0.000000</td>\n      <td>-0.330111</td>\n      <td>-0.000000</td>\n      <td>-0.352785</td>\n      <td>0.000000</td>\n      <td>-0.126644</td>\n      <td>-0.092513</td>\n      <td>-0.115303</td>\n      <td>...</td>\n      <td>0.817720</td>\n      <td>-0.030152</td>\n      <td>-0.349275</td>\n      <td>-0.155797</td>\n      <td>-0.226199</td>\n      <td>-0.608767</td>\n      <td>1.031303</td>\n      <td>-0.257701</td>\n      <td>-0.025407</td>\n      <td>UDPFlood</td>\n    </tr>\n  </tbody>\n</table>\n<p>5 rows × 63 columns</p>\n</div>"
     },
     "metadata": {}
    }
   ]
  },
  {
   "cell_type": "code",
   "source": "X_test = normalize_dataframe(X_test)\nX_test.head()",
   "metadata": {
    "execution": {
     "iopub.status.busy": "2024-03-12T06:31:03.535612Z",
     "iopub.execute_input": "2024-03-12T06:31:03.536401Z",
     "iopub.status.idle": "2024-03-12T06:31:04.759078Z",
     "shell.execute_reply.started": "2024-03-12T06:31:03.536350Z",
     "shell.execute_reply": "2024-03-12T06:31:04.758095Z"
    },
    "trusted": true
   },
   "execution_count": 30,
   "outputs": [
    {
     "execution_count": 30,
     "output_type": "execute_result",
     "data": {
      "text/plain": "        Dur      sTos      dTos      sTtl      dTtl     sHops     dHops  \\\n0  0.728533 -0.069881 -0.095351 -0.327418 -0.006770 -0.350913 -0.974885   \n1  2.158180 -0.069881 -0.095351  0.642405 -0.006770  2.454294 -0.974885   \n2  0.723402 -0.069881 -0.095351 -0.327418 -0.006770 -0.350913 -0.974885   \n3  1.889155 -0.069881 -0.001602 -0.327418  0.000517 -0.350913  0.003345   \n4 -0.805600 -0.069881 -0.001602 -0.327418  0.000517 -0.350913  0.003345   \n\n    TotPkts   SrcPkts   DstPkts  ...  Cause_Start  Cause_Status  State_ACC  \\\n0 -0.128328 -0.090096 -0.128556  ...    -0.818289      0.819074  -0.031433   \n1  7.287500  8.661533  1.313374  ...    -0.818289      0.819074  -0.031433   \n2 -0.128328 -0.090096 -0.128556  ...    -0.818289      0.819074  -0.031433   \n3 -0.128328 -0.090096 -0.128556  ...     1.222062     -1.220892  -0.031433   \n4 -0.169527 -0.143460 -0.128556  ...    -0.818289      0.819074  -0.031433   \n\n   State_CON  State_ECO  State_FIN  State_INT  State_REQ  State_RST  State_URP  \n0  -0.348264  -0.156491  -0.226491  -0.609383   1.030624  -0.256416  -0.025980  \n1   2.871388  -0.156491  -0.226491  -0.609383  -0.970286  -0.256416  -0.025980  \n2  -0.348264  -0.156491  -0.226491  -0.609383   1.030624  -0.256416  -0.025980  \n3  -0.348264  -0.156491  -0.226491   1.641003  -0.970286  -0.256416  -0.025980  \n4  -0.348264  -0.156491  -0.226491  -0.609383   1.030624  -0.256416  -0.025980  \n\n[5 rows x 62 columns]",
      "text/html": "<div>\n<style scoped>\n    .dataframe tbody tr th:only-of-type {\n        vertical-align: middle;\n    }\n\n    .dataframe tbody tr th {\n        vertical-align: top;\n    }\n\n    .dataframe thead th {\n        text-align: right;\n    }\n</style>\n<table border=\"1\" class=\"dataframe\">\n  <thead>\n    <tr style=\"text-align: right;\">\n      <th></th>\n      <th>Dur</th>\n      <th>sTos</th>\n      <th>dTos</th>\n      <th>sTtl</th>\n      <th>dTtl</th>\n      <th>sHops</th>\n      <th>dHops</th>\n      <th>TotPkts</th>\n      <th>SrcPkts</th>\n      <th>DstPkts</th>\n      <th>...</th>\n      <th>Cause_Start</th>\n      <th>Cause_Status</th>\n      <th>State_ACC</th>\n      <th>State_CON</th>\n      <th>State_ECO</th>\n      <th>State_FIN</th>\n      <th>State_INT</th>\n      <th>State_REQ</th>\n      <th>State_RST</th>\n      <th>State_URP</th>\n    </tr>\n  </thead>\n  <tbody>\n    <tr>\n      <th>0</th>\n      <td>0.728533</td>\n      <td>-0.069881</td>\n      <td>-0.095351</td>\n      <td>-0.327418</td>\n      <td>-0.006770</td>\n      <td>-0.350913</td>\n      <td>-0.974885</td>\n      <td>-0.128328</td>\n      <td>-0.090096</td>\n      <td>-0.128556</td>\n      <td>...</td>\n      <td>-0.818289</td>\n      <td>0.819074</td>\n      <td>-0.031433</td>\n      <td>-0.348264</td>\n      <td>-0.156491</td>\n      <td>-0.226491</td>\n      <td>-0.609383</td>\n      <td>1.030624</td>\n      <td>-0.256416</td>\n      <td>-0.025980</td>\n    </tr>\n    <tr>\n      <th>1</th>\n      <td>2.158180</td>\n      <td>-0.069881</td>\n      <td>-0.095351</td>\n      <td>0.642405</td>\n      <td>-0.006770</td>\n      <td>2.454294</td>\n      <td>-0.974885</td>\n      <td>7.287500</td>\n      <td>8.661533</td>\n      <td>1.313374</td>\n      <td>...</td>\n      <td>-0.818289</td>\n      <td>0.819074</td>\n      <td>-0.031433</td>\n      <td>2.871388</td>\n      <td>-0.156491</td>\n      <td>-0.226491</td>\n      <td>-0.609383</td>\n      <td>-0.970286</td>\n      <td>-0.256416</td>\n      <td>-0.025980</td>\n    </tr>\n    <tr>\n      <th>2</th>\n      <td>0.723402</td>\n      <td>-0.069881</td>\n      <td>-0.095351</td>\n      <td>-0.327418</td>\n      <td>-0.006770</td>\n      <td>-0.350913</td>\n      <td>-0.974885</td>\n      <td>-0.128328</td>\n      <td>-0.090096</td>\n      <td>-0.128556</td>\n      <td>...</td>\n      <td>-0.818289</td>\n      <td>0.819074</td>\n      <td>-0.031433</td>\n      <td>-0.348264</td>\n      <td>-0.156491</td>\n      <td>-0.226491</td>\n      <td>-0.609383</td>\n      <td>1.030624</td>\n      <td>-0.256416</td>\n      <td>-0.025980</td>\n    </tr>\n    <tr>\n      <th>3</th>\n      <td>1.889155</td>\n      <td>-0.069881</td>\n      <td>-0.001602</td>\n      <td>-0.327418</td>\n      <td>0.000517</td>\n      <td>-0.350913</td>\n      <td>0.003345</td>\n      <td>-0.128328</td>\n      <td>-0.090096</td>\n      <td>-0.128556</td>\n      <td>...</td>\n      <td>1.222062</td>\n      <td>-1.220892</td>\n      <td>-0.031433</td>\n      <td>-0.348264</td>\n      <td>-0.156491</td>\n      <td>-0.226491</td>\n      <td>1.641003</td>\n      <td>-0.970286</td>\n      <td>-0.256416</td>\n      <td>-0.025980</td>\n    </tr>\n    <tr>\n      <th>4</th>\n      <td>-0.805600</td>\n      <td>-0.069881</td>\n      <td>-0.001602</td>\n      <td>-0.327418</td>\n      <td>0.000517</td>\n      <td>-0.350913</td>\n      <td>0.003345</td>\n      <td>-0.169527</td>\n      <td>-0.143460</td>\n      <td>-0.128556</td>\n      <td>...</td>\n      <td>-0.818289</td>\n      <td>0.819074</td>\n      <td>-0.031433</td>\n      <td>-0.348264</td>\n      <td>-0.156491</td>\n      <td>-0.226491</td>\n      <td>-0.609383</td>\n      <td>1.030624</td>\n      <td>-0.256416</td>\n      <td>-0.025980</td>\n    </tr>\n  </tbody>\n</table>\n<p>5 rows × 62 columns</p>\n</div>"
     },
     "metadata": {}
    }
   ]
  },
  {
   "cell_type": "code",
   "source": "test_df = pd.concat([X_test, y_test], axis='columns')\nprint(test_df.shape)\ntest_df.head()",
   "metadata": {
    "execution": {
     "iopub.status.busy": "2024-03-12T06:31:04.760464Z",
     "iopub.execute_input": "2024-03-12T06:31:04.760869Z",
     "iopub.status.idle": "2024-03-12T06:31:04.792773Z",
     "shell.execute_reply.started": "2024-03-12T06:31:04.760832Z",
     "shell.execute_reply": "2024-03-12T06:31:04.791884Z"
    },
    "trusted": true
   },
   "execution_count": 31,
   "outputs": [
    {
     "name": "stdout",
     "text": "(60795, 63)\n",
     "output_type": "stream"
    },
    {
     "execution_count": 31,
     "output_type": "execute_result",
     "data": {
      "text/plain": "        Dur      sTos      dTos      sTtl      dTtl     sHops     dHops  \\\n0  0.728533 -0.069881 -0.095351 -0.327418 -0.006770 -0.350913 -0.974885   \n1  2.158180 -0.069881 -0.095351  0.642405 -0.006770  2.454294 -0.974885   \n2  0.723402 -0.069881 -0.095351 -0.327418 -0.006770 -0.350913 -0.974885   \n3  1.889155 -0.069881 -0.001602 -0.327418  0.000517 -0.350913  0.003345   \n4 -0.805600 -0.069881 -0.001602 -0.327418  0.000517 -0.350913  0.003345   \n\n    TotPkts   SrcPkts   DstPkts  ...  Cause_Status  State_ACC  State_CON  \\\n0 -0.128328 -0.090096 -0.128556  ...      0.819074  -0.031433  -0.348264   \n1  7.287500  8.661533  1.313374  ...      0.819074  -0.031433   2.871388   \n2 -0.128328 -0.090096 -0.128556  ...      0.819074  -0.031433  -0.348264   \n3 -0.128328 -0.090096 -0.128556  ...     -1.220892  -0.031433  -0.348264   \n4 -0.169527 -0.143460 -0.128556  ...      0.819074  -0.031433  -0.348264   \n\n   State_ECO  State_FIN  State_INT  State_REQ  State_RST  State_URP  \\\n0  -0.156491  -0.226491  -0.609383   1.030624  -0.256416  -0.025980   \n1  -0.156491  -0.226491  -0.609383  -0.970286  -0.256416  -0.025980   \n2  -0.156491  -0.226491  -0.609383   1.030624  -0.256416  -0.025980   \n3  -0.156491  -0.226491   1.641003  -0.970286  -0.256416  -0.025980   \n4  -0.156491  -0.226491  -0.609383   1.030624  -0.256416  -0.025980   \n\n   Attack Type  \n0       Benign  \n1       Benign  \n2       Benign  \n3     UDPFlood  \n4     UDPFlood  \n\n[5 rows x 63 columns]",
      "text/html": "<div>\n<style scoped>\n    .dataframe tbody tr th:only-of-type {\n        vertical-align: middle;\n    }\n\n    .dataframe tbody tr th {\n        vertical-align: top;\n    }\n\n    .dataframe thead th {\n        text-align: right;\n    }\n</style>\n<table border=\"1\" class=\"dataframe\">\n  <thead>\n    <tr style=\"text-align: right;\">\n      <th></th>\n      <th>Dur</th>\n      <th>sTos</th>\n      <th>dTos</th>\n      <th>sTtl</th>\n      <th>dTtl</th>\n      <th>sHops</th>\n      <th>dHops</th>\n      <th>TotPkts</th>\n      <th>SrcPkts</th>\n      <th>DstPkts</th>\n      <th>...</th>\n      <th>Cause_Status</th>\n      <th>State_ACC</th>\n      <th>State_CON</th>\n      <th>State_ECO</th>\n      <th>State_FIN</th>\n      <th>State_INT</th>\n      <th>State_REQ</th>\n      <th>State_RST</th>\n      <th>State_URP</th>\n      <th>Attack Type</th>\n    </tr>\n  </thead>\n  <tbody>\n    <tr>\n      <th>0</th>\n      <td>0.728533</td>\n      <td>-0.069881</td>\n      <td>-0.095351</td>\n      <td>-0.327418</td>\n      <td>-0.006770</td>\n      <td>-0.350913</td>\n      <td>-0.974885</td>\n      <td>-0.128328</td>\n      <td>-0.090096</td>\n      <td>-0.128556</td>\n      <td>...</td>\n      <td>0.819074</td>\n      <td>-0.031433</td>\n      <td>-0.348264</td>\n      <td>-0.156491</td>\n      <td>-0.226491</td>\n      <td>-0.609383</td>\n      <td>1.030624</td>\n      <td>-0.256416</td>\n      <td>-0.025980</td>\n      <td>Benign</td>\n    </tr>\n    <tr>\n      <th>1</th>\n      <td>2.158180</td>\n      <td>-0.069881</td>\n      <td>-0.095351</td>\n      <td>0.642405</td>\n      <td>-0.006770</td>\n      <td>2.454294</td>\n      <td>-0.974885</td>\n      <td>7.287500</td>\n      <td>8.661533</td>\n      <td>1.313374</td>\n      <td>...</td>\n      <td>0.819074</td>\n      <td>-0.031433</td>\n      <td>2.871388</td>\n      <td>-0.156491</td>\n      <td>-0.226491</td>\n      <td>-0.609383</td>\n      <td>-0.970286</td>\n      <td>-0.256416</td>\n      <td>-0.025980</td>\n      <td>Benign</td>\n    </tr>\n    <tr>\n      <th>2</th>\n      <td>0.723402</td>\n      <td>-0.069881</td>\n      <td>-0.095351</td>\n      <td>-0.327418</td>\n      <td>-0.006770</td>\n      <td>-0.350913</td>\n      <td>-0.974885</td>\n      <td>-0.128328</td>\n      <td>-0.090096</td>\n      <td>-0.128556</td>\n      <td>...</td>\n      <td>0.819074</td>\n      <td>-0.031433</td>\n      <td>-0.348264</td>\n      <td>-0.156491</td>\n      <td>-0.226491</td>\n      <td>-0.609383</td>\n      <td>1.030624</td>\n      <td>-0.256416</td>\n      <td>-0.025980</td>\n      <td>Benign</td>\n    </tr>\n    <tr>\n      <th>3</th>\n      <td>1.889155</td>\n      <td>-0.069881</td>\n      <td>-0.001602</td>\n      <td>-0.327418</td>\n      <td>0.000517</td>\n      <td>-0.350913</td>\n      <td>0.003345</td>\n      <td>-0.128328</td>\n      <td>-0.090096</td>\n      <td>-0.128556</td>\n      <td>...</td>\n      <td>-1.220892</td>\n      <td>-0.031433</td>\n      <td>-0.348264</td>\n      <td>-0.156491</td>\n      <td>-0.226491</td>\n      <td>1.641003</td>\n      <td>-0.970286</td>\n      <td>-0.256416</td>\n      <td>-0.025980</td>\n      <td>UDPFlood</td>\n    </tr>\n    <tr>\n      <th>4</th>\n      <td>-0.805600</td>\n      <td>-0.069881</td>\n      <td>-0.001602</td>\n      <td>-0.327418</td>\n      <td>0.000517</td>\n      <td>-0.350913</td>\n      <td>0.003345</td>\n      <td>-0.169527</td>\n      <td>-0.143460</td>\n      <td>-0.128556</td>\n      <td>...</td>\n      <td>0.819074</td>\n      <td>-0.031433</td>\n      <td>-0.348264</td>\n      <td>-0.156491</td>\n      <td>-0.226491</td>\n      <td>-0.609383</td>\n      <td>1.030624</td>\n      <td>-0.256416</td>\n      <td>-0.025980</td>\n      <td>UDPFlood</td>\n    </tr>\n  </tbody>\n</table>\n<p>5 rows × 63 columns</p>\n</div>"
     },
     "metadata": {}
    }
   ]
  },
  {
   "cell_type": "code",
   "source": "from sklearn.preprocessing import LabelEncoder\n\n# define ordinal encoding\nle = LabelEncoder()\n\n# transform data\nle.fit(y_train.iloc[:].values)\nle_name_mapping = dict(zip(le.classes_, le.transform(le.classes_)))\nprint(le_name_mapping)",
   "metadata": {
    "execution": {
     "iopub.status.busy": "2024-03-12T06:31:04.794230Z",
     "iopub.execute_input": "2024-03-12T06:31:04.794774Z",
     "iopub.status.idle": "2024-03-12T06:31:04.834287Z",
     "shell.execute_reply.started": "2024-03-12T06:31:04.794739Z",
     "shell.execute_reply": "2024-03-12T06:31:04.833413Z"
    },
    "trusted": true
   },
   "execution_count": 32,
   "outputs": [
    {
     "name": "stdout",
     "text": "{'Benign': 0, 'HTTPFlood': 1, 'ICMPFlood': 2, 'SYNFlood': 3, 'SYNScan': 4, 'SlowrateDoS': 5, 'TCPConnectScan': 6, 'UDPFlood': 7, 'UDPScan': 8}\n",
     "output_type": "stream"
    }
   ]
  },
  {
   "cell_type": "code",
   "source": "y_test = le.fit_transform(y_test.iloc[:].values.ravel())\ny_test = pd.DataFrame(y_test, columns=['Attack Type'])\ny_test['Attack Type'] = pd.to_numeric(y_test['Attack Type'], downcast='integer')\ny_test.head()",
   "metadata": {
    "execution": {
     "iopub.status.busy": "2024-03-12T06:31:04.835386Z",
     "iopub.execute_input": "2024-03-12T06:31:04.835676Z",
     "iopub.status.idle": "2024-03-12T06:31:04.870515Z",
     "shell.execute_reply.started": "2024-03-12T06:31:04.835652Z",
     "shell.execute_reply": "2024-03-12T06:31:04.869432Z"
    },
    "trusted": true
   },
   "execution_count": 33,
   "outputs": [
    {
     "execution_count": 33,
     "output_type": "execute_result",
     "data": {
      "text/plain": "   Attack Type\n0            0\n1            0\n2            0\n3            7\n4            7",
      "text/html": "<div>\n<style scoped>\n    .dataframe tbody tr th:only-of-type {\n        vertical-align: middle;\n    }\n\n    .dataframe tbody tr th {\n        vertical-align: top;\n    }\n\n    .dataframe thead th {\n        text-align: right;\n    }\n</style>\n<table border=\"1\" class=\"dataframe\">\n  <thead>\n    <tr style=\"text-align: right;\">\n      <th></th>\n      <th>Attack Type</th>\n    </tr>\n  </thead>\n  <tbody>\n    <tr>\n      <th>0</th>\n      <td>0</td>\n    </tr>\n    <tr>\n      <th>1</th>\n      <td>0</td>\n    </tr>\n    <tr>\n      <th>2</th>\n      <td>0</td>\n    </tr>\n    <tr>\n      <th>3</th>\n      <td>7</td>\n    </tr>\n    <tr>\n      <th>4</th>\n      <td>7</td>\n    </tr>\n  </tbody>\n</table>\n</div>"
     },
     "metadata": {}
    }
   ]
  },
  {
   "cell_type": "code",
   "source": "y_test.nunique()",
   "metadata": {
    "execution": {
     "iopub.status.busy": "2024-03-12T06:31:04.874090Z",
     "iopub.execute_input": "2024-03-12T06:31:04.874399Z",
     "iopub.status.idle": "2024-03-12T06:31:04.888692Z",
     "shell.execute_reply.started": "2024-03-12T06:31:04.874349Z",
     "shell.execute_reply": "2024-03-12T06:31:04.887525Z"
    },
    "trusted": true
   },
   "execution_count": 34,
   "outputs": [
    {
     "execution_count": 34,
     "output_type": "execute_result",
     "data": {
      "text/plain": "Attack Type    9\ndtype: int64"
     },
     "metadata": {}
    }
   ]
  },
  {
   "cell_type": "code",
   "source": "y_train = le.fit_transform(y_train.iloc[:].values.ravel())\ny_train = pd.DataFrame(y_train, columns=['Attack Type'])\ny_train['Attack Type'] = pd.to_numeric(y_train['Attack Type'], downcast='integer')\ny_train.head()",
   "metadata": {
    "execution": {
     "iopub.status.busy": "2024-03-12T06:31:04.890127Z",
     "iopub.execute_input": "2024-03-12T06:31:04.890984Z",
     "iopub.status.idle": "2024-03-12T06:31:05.174558Z",
     "shell.execute_reply.started": "2024-03-12T06:31:04.890933Z",
     "shell.execute_reply": "2024-03-12T06:31:05.173673Z"
    },
    "trusted": true
   },
   "execution_count": 35,
   "outputs": [
    {
     "execution_count": 35,
     "output_type": "execute_result",
     "data": {
      "text/plain": "   Attack Type\n0            0\n1            0\n2            7\n3            0\n4            7",
      "text/html": "<div>\n<style scoped>\n    .dataframe tbody tr th:only-of-type {\n        vertical-align: middle;\n    }\n\n    .dataframe tbody tr th {\n        vertical-align: top;\n    }\n\n    .dataframe thead th {\n        text-align: right;\n    }\n</style>\n<table border=\"1\" class=\"dataframe\">\n  <thead>\n    <tr style=\"text-align: right;\">\n      <th></th>\n      <th>Attack Type</th>\n    </tr>\n  </thead>\n  <tbody>\n    <tr>\n      <th>0</th>\n      <td>0</td>\n    </tr>\n    <tr>\n      <th>1</th>\n      <td>0</td>\n    </tr>\n    <tr>\n      <th>2</th>\n      <td>7</td>\n    </tr>\n    <tr>\n      <th>3</th>\n      <td>0</td>\n    </tr>\n    <tr>\n      <th>4</th>\n      <td>7</td>\n    </tr>\n  </tbody>\n</table>\n</div>"
     },
     "metadata": {}
    }
   ]
  },
  {
   "cell_type": "code",
   "source": "print(le.classes_)\nprint(list(le.transform(le.classes_)))",
   "metadata": {
    "execution": {
     "iopub.status.busy": "2024-03-12T06:31:05.176014Z",
     "iopub.execute_input": "2024-03-12T06:31:05.176284Z",
     "iopub.status.idle": "2024-03-12T06:31:05.181292Z",
     "shell.execute_reply.started": "2024-03-12T06:31:05.176262Z",
     "shell.execute_reply": "2024-03-12T06:31:05.180437Z"
    },
    "trusted": true
   },
   "execution_count": 36,
   "outputs": [
    {
     "name": "stdout",
     "text": "['Benign' 'HTTPFlood' 'ICMPFlood' 'SYNFlood' 'SYNScan' 'SlowrateDoS'\n 'TCPConnectScan' 'UDPFlood' 'UDPScan']\n[0, 1, 2, 3, 4, 5, 6, 7, 8]\n",
     "output_type": "stream"
    }
   ]
  },
  {
   "cell_type": "code",
   "source": "class CustomTabularDataset(Dataset):\n    def __init__(self, data):\n        # Load and preprocess your tabular data here\n        self.features = torch.tensor(data['features'].values, dtype=torch.float32)\n        self.labels = torch.tensor(data['labels'].values, dtype=torch.float32)\n\n    def __len__(self):\n        return len(self.features)\n\n    def __getitem__(self, idx):\n        return self.features[idx], self.labels[idx]",
   "metadata": {
    "execution": {
     "iopub.status.busy": "2024-03-12T06:31:05.182332Z",
     "iopub.execute_input": "2024-03-12T06:31:05.182870Z",
     "iopub.status.idle": "2024-03-12T06:31:05.190269Z",
     "shell.execute_reply.started": "2024-03-12T06:31:05.182832Z",
     "shell.execute_reply": "2024-03-12T06:31:05.189355Z"
    },
    "trusted": true
   },
   "execution_count": 37,
   "outputs": []
  },
  {
   "cell_type": "code",
   "source": "# obtain training indices that will be used for validation\nnum_train = len(X_train)\nindices = list(range(num_train))\n\nnp.random.shuffle(indices)\nsplit = int(np.floor(valid_size * num_train))\ntrain_idx, valid_idx = indices[split:], indices[:split]\n\n# define samplers for obtaining training and validation batches\ntrain_sampler = SubsetRandomSampler(train_idx)\nvalid_sampler = SubsetRandomSampler(valid_idx)",
   "metadata": {
    "execution": {
     "iopub.status.busy": "2024-03-12T06:31:05.191622Z",
     "iopub.execute_input": "2024-03-12T06:31:05.191898Z",
     "iopub.status.idle": "2024-03-12T06:31:05.401652Z",
     "shell.execute_reply.started": "2024-03-12T06:31:05.191873Z",
     "shell.execute_reply": "2024-03-12T06:31:05.400706Z"
    },
    "trusted": true
   },
   "execution_count": 38,
   "outputs": []
  },
  {
   "cell_type": "code",
   "source": "print('Training set size:', num_train - split)\nprint('Validation set size:', split)\nprint('Testing set size:', len(X_test))",
   "metadata": {
    "execution": {
     "iopub.status.busy": "2024-03-12T06:31:05.402831Z",
     "iopub.execute_input": "2024-03-12T06:31:05.403125Z",
     "iopub.status.idle": "2024-03-12T06:31:05.412424Z",
     "shell.execute_reply.started": "2024-03-12T06:31:05.403095Z",
     "shell.execute_reply": "2024-03-12T06:31:05.411631Z"
    },
    "trusted": true
   },
   "execution_count": 39,
   "outputs": [
    {
     "name": "stdout",
     "text": "Training set size: 1097146\nValidation set size: 57744\nTesting set size: 60785\n",
     "output_type": "stream"
    }
   ]
  },
  {
   "cell_type": "code",
   "source": "train_data = {'features': X_train,  # Your feature data (Pandas DataFrame or similar)\n        'labels': y_train}     # Your label data\n\ndataset = CustomTabularDataset(train_data)\n\n# prepare data loaders (combine dataset and sampler)\ntrain_loader = torch.utils.data.DataLoader(dataset, batch_size=batch_size,\n    sampler=train_sampler, num_workers=num_workers)\nvalid_loader = torch.utils.data.DataLoader(dataset, batch_size=batch_size,\n    sampler=valid_sampler, num_workers=num_workers)",
   "metadata": {
    "execution": {
     "iopub.status.busy": "2024-03-12T06:31:05.413563Z",
     "iopub.execute_input": "2024-03-12T06:31:05.413863Z",
     "iopub.status.idle": "2024-03-12T06:31:05.484283Z",
     "shell.execute_reply.started": "2024-03-12T06:31:05.413834Z",
     "shell.execute_reply": "2024-03-12T06:31:05.483441Z"
    },
    "trusted": true
   },
   "execution_count": 40,
   "outputs": []
  },
  {
   "cell_type": "code",
   "source": "# Number of features\nnum_features = X_train.shape[1]",
   "metadata": {
    "execution": {
     "iopub.status.busy": "2024-03-12T06:31:05.485540Z",
     "iopub.execute_input": "2024-03-12T06:31:05.486001Z",
     "iopub.status.idle": "2024-03-12T06:31:05.490426Z",
     "shell.execute_reply.started": "2024-03-12T06:31:05.485962Z",
     "shell.execute_reply": "2024-03-12T06:31:05.489415Z"
    },
    "trusted": true
   },
   "execution_count": 41,
   "outputs": []
  },
  {
   "cell_type": "code",
   "source": "# Creating a PyTorch class\n# input_features ==> 12 ==> 32\nclass Autoencoder(torch.nn.Module):\n    def __init__(self):\n        super().__init__()\n\n        # Building an linear encoder with Linear\n        # layer followed by Tanh activation function\n        # input_features ===> 12\n        self.encoder = torch.nn.Sequential(\n            torch.nn.Linear(num_features, 32),\n            torch.nn.Tanh(),\n            torch.nn.Linear(32, 16),\n            torch.nn.Tanh(),\n            torch.nn.Linear(16, 12),\n            torch.nn.Tanh(),  \n        )\n        \n        # Dense neural network layers\n        self.dense_nn = torch.nn.Sequential(\n            torch.nn.Linear(12, 32),  # Input size is 12 from the encoder\n            torch.nn.BatchNorm1d(32),            \n            torch.nn.ReLU(), \n            torch.nn.Dropout(0.2),            \n            torch.nn.Linear(32, 64),\n            torch.nn.BatchNorm1d(64),                \n            torch.nn.ReLU(),\n            torch.nn.Dropout(0.2),              \n            torch.nn.Linear(64, 32),\n            torch.nn.BatchNorm1d(32),                \n            torch.nn.ReLU(),\n            torch.nn.Dropout(0.2),            \n            torch.nn.Linear(32, num_classes),  # Output size is the number of classes\n            torch.nn.Softmax(dim=1)\n        )        \n\n    def forward(self, x):\n        encoded = self.encoder(x)\n        output = self.dense_nn(encoded)\n        return output",
   "metadata": {
    "execution": {
     "iopub.status.busy": "2024-03-12T06:31:05.491700Z",
     "iopub.execute_input": "2024-03-12T06:31:05.491954Z",
     "iopub.status.idle": "2024-03-12T06:31:05.572721Z",
     "shell.execute_reply.started": "2024-03-12T06:31:05.491932Z",
     "shell.execute_reply": "2024-03-12T06:31:05.571631Z"
    },
    "trusted": true
   },
   "execution_count": 42,
   "outputs": []
  },
  {
   "cell_type": "code",
   "source": "# Model Initialization\nmodel = Autoencoder()\n\n# Validation using MSE Loss function\nloss_function = torch.nn.CrossEntropyLoss()\n\n# Using an Adam Optimizer with lr = 0.1\noptimizer = torch.optim.Adam(model.parameters(),\n                            lr = 0.001,\n                            weight_decay = 1e-8)\n",
   "metadata": {
    "execution": {
     "iopub.status.busy": "2024-03-12T06:31:05.573949Z",
     "iopub.execute_input": "2024-03-12T06:31:05.574353Z",
     "iopub.status.idle": "2024-03-12T06:31:08.128335Z",
     "shell.execute_reply.started": "2024-03-12T06:31:05.574326Z",
     "shell.execute_reply": "2024-03-12T06:31:08.127590Z"
    },
    "trusted": true
   },
   "execution_count": 43,
   "outputs": []
  },
  {
   "cell_type": "code",
   "source": "# number of epochs to train the model\nn_epochs = 8\n\n# initialize tracker for minimum validation loss\nvalid_loss_min = np.Inf # set initial \"min\" to infinity\ntrain_loss_min = np.Inf # set initial \"min\" to infinity\n\n# Lists to store training and validation accuracy during training\ntraining_loss = np.array([])\nvalidation_loss = np.array([])\n\ntraining_accuracy = np.array([])\nvalidation_accuracy = np.array([])\n\n# Moving model tensor to GPU if available\nmodel = model.to(device)\n\nfor epoch in range(1, n_epochs+1):\n\n    # keep track of training and validation loss and accuracy\n    train_loss = 0.0\n    valid_loss = 0.0\n    total_train_correct = 0\n    total_train_samples = 0\n    total_valid_correct = 0\n    total_valid_samples = 0\n\n    ###################\n    # train the model #\n    ###################\n\n    # model by default is set to train\n    model.train()\n\n    for data, target in tqdm(train_loader):        \n\n        # Moving input tensors to GPU if available\n        data, target = data.to(device), target.to(device)\n\n        # Forward prop:\n\n        # forward pass: compute predicted outputs by passing inputs to the model\n        output = model(data.float())    \n        \n        # Moving output tensor to GPU if available\n        output = output.to(device)\n\n        # calculate the batch loss\n        loss = loss_function(output, target.reshape(-1).long())\n        \n        # Backward prop:\n\n        # clear the gradients of all optimized variables\n        optimizer.zero_grad()\n\n        # backward pass: compute gradient of the loss with respect to model parameters\n        loss.backward()\n\n        # perform a single optimization step (parameter update)\n        optimizer.step()\n\n        # Metrics:\n\n        # update training loss\n        train_loss += loss.item()\n\n        # Calculate training accuracy\n        _, predicted = torch.max(output, 1)\n        total_train_correct += (predicted == target.view(*predicted.shape)).sum().item()\n        total_train_samples += target.size(0)\n\n\n    ######################\n    # validate the model #\n    ######################\n\n    model.eval() # prep model for evaluation\n\n    for data, target in tqdm(valid_loader):\n        \n        # Moving input tensors to GPU if available\n        data, target = data.to(device), target.to(device)\n        \n        # forward pass: compute predicted outputs by passing inputs to the model\n        output = model(data.float())\n        output = output.to(device)\n        \n        # calculate the loss\n        loss = loss_function(output, target.reshape(-1).long())        \n        \n        # update running validation loss\n        valid_loss += loss.item()\n        \n        # Calculate validation accuracy\n        _, predicted = torch.max(output, 1)\n        total_valid_correct += (predicted == target.view(*predicted.shape)).sum().item()\n        total_valid_samples += target.size(0)\n\n\n    # print training/validation statistics\n    \n    train_acc = 100 * total_train_correct / total_train_samples\n    valid_acc = 100 * total_valid_correct / total_valid_samples\n    \n    training_accuracy = np.append(training_accuracy, train_acc)\n    validation_accuracy = np.append(validation_accuracy, valid_acc)\n    \n    # calculate average loss over an epoch\n    train_loss = train_loss/len(train_loader)\n    valid_loss = valid_loss/len(valid_loader)\n    \n    training_loss = np.append(training_loss, train_loss)\n    validation_loss = np.append(validation_loss, valid_loss)\n\n    print('Epoch: {} \\tTraining Loss: {:.6f} \\tValidation Loss: {:.6f}'.format(\n        epoch,\n        train_loss,\n        valid_loss\n    ))\n    \n    print('Epoch: {} \\tTraining Accuracy: {:.6f} \\tValidation Accuracy: {:.6f}'.format(\n        epoch,\n        train_acc,\n        valid_acc\n    ))\n\n    # save model if validation loss has decreased\n    if valid_loss <= valid_loss_min and train_loss <= train_loss_min:\n        print('Training loss decreased ({:.6f} --> {:.6f}).'.format(\n            train_loss_min,\n            train_loss))\n        print('Validation loss decreased ({:.6f} --> {:.6f}).  Saving model ...'.format(\n            valid_loss_min,\n            valid_loss))\n        torch.save(model.state_dict(), 'model_pytorch_autoencoders.pt')\n        valid_loss_min = valid_loss\n        train_loss_min = train_loss",
   "metadata": {
    "execution": {
     "iopub.status.busy": "2024-03-12T06:31:08.129590Z",
     "iopub.execute_input": "2024-03-12T06:31:08.130054Z",
     "iopub.status.idle": "2024-03-12T06:43:30.358111Z",
     "shell.execute_reply.started": "2024-03-12T06:31:08.130026Z",
     "shell.execute_reply": "2024-03-12T06:43:30.357021Z"
    },
    "trusted": true
   },
   "execution_count": 44,
   "outputs": [
    {
     "name": "stderr",
     "text": "100%|██████████| 17143/17143 [01:28<00:00, 193.90it/s]\n100%|██████████| 903/903 [00:02<00:00, 323.52it/s]\n",
     "output_type": "stream"
    },
    {
     "name": "stdout",
     "text": "Epoch: 1 \tTraining Loss: 1.388575 \tValidation Loss: 1.377080\nEpoch: 1 \tTraining Accuracy: 98.557439 \tValidation Accuracy: 99.483929\nTraining loss decreased (inf --> 1.388575).\nValidation loss decreased (inf --> 1.377080).  Saving model ...\n",
     "output_type": "stream"
    },
    {
     "name": "stderr",
     "text": "100%|██████████| 17143/17143 [01:30<00:00, 189.26it/s]\n100%|██████████| 903/903 [00:03<00:00, 296.40it/s]\n",
     "output_type": "stream"
    },
    {
     "name": "stdout",
     "text": "Epoch: 2 \tTraining Loss: 1.378026 \tValidation Loss: 1.376259\nEpoch: 2 \tTraining Accuracy: 99.398713 \tValidation Accuracy: 99.573982\nTraining loss decreased (1.388575 --> 1.378026).\nValidation loss decreased (1.377080 --> 1.376259).  Saving model ...\n",
     "output_type": "stream"
    },
    {
     "name": "stderr",
     "text": "100%|██████████| 17143/17143 [01:32<00:00, 185.79it/s]\n100%|██████████| 903/903 [00:02<00:00, 308.36it/s]\n",
     "output_type": "stream"
    },
    {
     "name": "stdout",
     "text": "Epoch: 3 \tTraining Loss: 1.377722 \tValidation Loss: 1.379194\nEpoch: 3 \tTraining Accuracy: 99.425327 \tValidation Accuracy: 99.277847\n",
     "output_type": "stream"
    },
    {
     "name": "stderr",
     "text": "100%|██████████| 17143/17143 [01:28<00:00, 193.27it/s]\n100%|██████████| 903/903 [00:02<00:00, 304.97it/s]\n",
     "output_type": "stream"
    },
    {
     "name": "stdout",
     "text": "Epoch: 4 \tTraining Loss: 1.377294 \tValidation Loss: 1.375878\nEpoch: 4 \tTraining Accuracy: 99.468530 \tValidation Accuracy: 99.610349\nTraining loss decreased (1.378026 --> 1.377294).\nValidation loss decreased (1.376259 --> 1.375878).  Saving model ...\n",
     "output_type": "stream"
    },
    {
     "name": "stderr",
     "text": "100%|██████████| 17143/17143 [01:28<00:00, 193.04it/s]\n100%|██████████| 903/903 [00:03<00:00, 292.55it/s]\n",
     "output_type": "stream"
    },
    {
     "name": "stdout",
     "text": "Epoch: 5 \tTraining Loss: 1.377165 \tValidation Loss: 1.375976\nEpoch: 5 \tTraining Accuracy: 99.480470 \tValidation Accuracy: 99.596495\n",
     "output_type": "stream"
    },
    {
     "name": "stderr",
     "text": "100%|██████████| 17143/17143 [01:29<00:00, 192.39it/s]\n100%|██████████| 903/903 [00:02<00:00, 316.86it/s]\n",
     "output_type": "stream"
    },
    {
     "name": "stdout",
     "text": "Epoch: 6 \tTraining Loss: 1.377395 \tValidation Loss: 1.376044\nEpoch: 6 \tTraining Accuracy: 99.456408 \tValidation Accuracy: 99.589568\n",
     "output_type": "stream"
    },
    {
     "name": "stderr",
     "text": "100%|██████████| 17143/17143 [01:30<00:00, 189.79it/s]\n100%|██████████| 903/903 [00:03<00:00, 296.21it/s]\n",
     "output_type": "stream"
    },
    {
     "name": "stdout",
     "text": "Epoch: 7 \tTraining Loss: 1.377389 \tValidation Loss: 1.377411\nEpoch: 7 \tTraining Accuracy: 99.456681 \tValidation Accuracy: 99.452757\n",
     "output_type": "stream"
    },
    {
     "name": "stderr",
     "text": "100%|██████████| 17143/17143 [01:30<00:00, 190.13it/s]\n100%|██████████| 903/903 [00:02<00:00, 309.93it/s]",
     "output_type": "stream"
    },
    {
     "name": "stdout",
     "text": "Epoch: 8 \tTraining Loss: 1.377315 \tValidation Loss: 1.376391\nEpoch: 8 \tTraining Accuracy: 99.464337 \tValidation Accuracy: 99.554932\n",
     "output_type": "stream"
    },
    {
     "name": "stderr",
     "text": "\n",
     "output_type": "stream"
    }
   ]
  },
  {
   "cell_type": "code",
   "source": "fig, ax = plt.subplots(2, 1, figsize=(8, 8))\nepochs = np.arange(1, n_epochs+1)\n\n# First row for accuracy\nax[0].plot(epochs, training_accuracy, label='Training Accuracy', marker='o')\nax[0].plot(epochs, validation_accuracy, label='Validation Accuracy', marker='x')\nax[0].set_xlabel('Epoch')\nax[0].set_ylabel('Accuracy', color='black')\nax[0].tick_params(axis='y', labelcolor='black')\nax[0].legend(loc='lower right')\nax[0].grid(True)\n\n\n# Second row for loss\nax[1].plot(epochs, training_loss, label='Training Loss', marker='o')\nax[1].plot(epochs, validation_loss, label='Validation Loss', marker='x')\nax[1].set_xlabel('Epoch')\nax[1].set_ylabel('Loss', color='black')\nax[1].tick_params(axis='y', labelcolor='black')\nax[1].legend(loc='upper right')\nax[1].grid(True)\n\nplt.tight_layout()\nplt.show()",
   "metadata": {
    "execution": {
     "iopub.status.busy": "2024-03-12T06:43:30.359694Z",
     "iopub.execute_input": "2024-03-12T06:43:30.360013Z",
     "iopub.status.idle": "2024-03-12T06:43:30.963213Z",
     "shell.execute_reply.started": "2024-03-12T06:43:30.359983Z",
     "shell.execute_reply": "2024-03-12T06:43:30.962315Z"
    },
    "trusted": true
   },
   "execution_count": 45,
   "outputs": [
    {
     "output_type": "display_data",
     "data": {
      "text/plain": "<Figure size 800x800 with 2 Axes>",
      "image/png": "[encoded data removed]"
     },
     "metadata": {}
    }
   ]
  },
  {
   "cell_type": "markdown",
   "source": "Testing phase:",
   "metadata": {}
  },
  {
   "cell_type": "code",
   "source": "print(\"Testing dataset size:\", X_test.shape)\nprint(\"Testing target size:\", y_test.shape)\nprint(\"Test df size:\", test_df.shape)\n\ntest_df.head()",
   "metadata": {
    "execution": {
     "iopub.status.busy": "2024-03-12T06:43:30.964613Z",
     "iopub.execute_input": "2024-03-12T06:43:30.965006Z",
     "iopub.status.idle": "2024-03-12T06:43:30.986635Z",
     "shell.execute_reply.started": "2024-03-12T06:43:30.964964Z",
     "shell.execute_reply": "2024-03-12T06:43:30.985735Z"
    },
    "trusted": true
   },
   "execution_count": 46,
   "outputs": [
    {
     "name": "stdout",
     "text": "Testing dataset size: (60785, 62)\nTesting target size: (60785, 1)\nTest df size: (60795, 63)\n",
     "output_type": "stream"
    },
    {
     "execution_count": 46,
     "output_type": "execute_result",
     "data": {
      "text/plain": "        Dur      sTos      dTos      sTtl      dTtl     sHops     dHops  \\\n0  0.728533 -0.069881 -0.095351 -0.327418 -0.006770 -0.350913 -0.974885   \n1  2.158180 -0.069881 -0.095351  0.642405 -0.006770  2.454294 -0.974885   \n2  0.723402 -0.069881 -0.095351 -0.327418 -0.006770 -0.350913 -0.974885   \n3  1.889155 -0.069881 -0.001602 -0.327418  0.000517 -0.350913  0.003345   \n4 -0.805600 -0.069881 -0.001602 -0.327418  0.000517 -0.350913  0.003345   \n\n    TotPkts   SrcPkts   DstPkts  ...  Cause_Status  State_ACC  State_CON  \\\n0 -0.128328 -0.090096 -0.128556  ...      0.819074  -0.031433  -0.348264   \n1  7.287500  8.661533  1.313374  ...      0.819074  -0.031433   2.871388   \n2 -0.128328 -0.090096 -0.128556  ...      0.819074  -0.031433  -0.348264   \n3 -0.128328 -0.090096 -0.128556  ...     -1.220892  -0.031433  -0.348264   \n4 -0.169527 -0.143460 -0.128556  ...      0.819074  -0.031433  -0.348264   \n\n   State_ECO  State_FIN  State_INT  State_REQ  State_RST  State_URP  \\\n0  -0.156491  -0.226491  -0.609383   1.030624  -0.256416  -0.025980   \n1  -0.156491  -0.226491  -0.609383  -0.970286  -0.256416  -0.025980   \n2  -0.156491  -0.226491  -0.609383   1.030624  -0.256416  -0.025980   \n3  -0.156491  -0.226491   1.641003  -0.970286  -0.256416  -0.025980   \n4  -0.156491  -0.226491  -0.609383   1.030624  -0.256416  -0.025980   \n\n   Attack Type  \n0       Benign  \n1       Benign  \n2       Benign  \n3     UDPFlood  \n4     UDPFlood  \n\n[5 rows x 63 columns]",
      "text/html": "<div>\n<style scoped>\n    .dataframe tbody tr th:only-of-type {\n        vertical-align: middle;\n    }\n\n    .dataframe tbody tr th {\n        vertical-align: top;\n    }\n\n    .dataframe thead th {\n        text-align: right;\n    }\n</style>\n<table border=\"1\" class=\"dataframe\">\n  <thead>\n    <tr style=\"text-align: right;\">\n      <th></th>\n      <th>Dur</th>\n      <th>sTos</th>\n      <th>dTos</th>\n      <th>sTtl</th>\n      <th>dTtl</th>\n      <th>sHops</th>\n      <th>dHops</th>\n      <th>TotPkts</th>\n      <th>SrcPkts</th>\n      <th>DstPkts</th>\n      <th>...</th>\n      <th>Cause_Status</th>\n      <th>State_ACC</th>\n      <th>State_CON</th>\n      <th>State_ECO</th>\n      <th>State_FIN</th>\n      <th>State_INT</th>\n      <th>State_REQ</th>\n      <th>State_RST</th>\n      <th>State_URP</th>\n      <th>Attack Type</th>\n    </tr>\n  </thead>\n  <tbody>\n    <tr>\n      <th>0</th>\n      <td>0.728533</td>\n      <td>-0.069881</td>\n      <td>-0.095351</td>\n      <td>-0.327418</td>\n      <td>-0.006770</td>\n      <td>-0.350913</td>\n      <td>-0.974885</td>\n      <td>-0.128328</td>\n      <td>-0.090096</td>\n      <td>-0.128556</td>\n      <td>...</td>\n      <td>0.819074</td>\n      <td>-0.031433</td>\n      <td>-0.348264</td>\n      <td>-0.156491</td>\n      <td>-0.226491</td>\n      <td>-0.609383</td>\n      <td>1.030624</td>\n      <td>-0.256416</td>\n      <td>-0.025980</td>\n      <td>Benign</td>\n    </tr>\n    <tr>\n      <th>1</th>\n      <td>2.158180</td>\n      <td>-0.069881</td>\n      <td>-0.095351</td>\n      <td>0.642405</td>\n      <td>-0.006770</td>\n      <td>2.454294</td>\n      <td>-0.974885</td>\n      <td>7.287500</td>\n      <td>8.661533</td>\n      <td>1.313374</td>\n      <td>...</td>\n      <td>0.819074</td>\n      <td>-0.031433</td>\n      <td>2.871388</td>\n      <td>-0.156491</td>\n      <td>-0.226491</td>\n      <td>-0.609383</td>\n      <td>-0.970286</td>\n      <td>-0.256416</td>\n      <td>-0.025980</td>\n      <td>Benign</td>\n    </tr>\n    <tr>\n      <th>2</th>\n      <td>0.723402</td>\n      <td>-0.069881</td>\n      <td>-0.095351</td>\n      <td>-0.327418</td>\n      <td>-0.006770</td>\n      <td>-0.350913</td>\n      <td>-0.974885</td>\n      <td>-0.128328</td>\n      <td>-0.090096</td>\n      <td>-0.128556</td>\n      <td>...</td>\n      <td>0.819074</td>\n      <td>-0.031433</td>\n      <td>-0.348264</td>\n      <td>-0.156491</td>\n      <td>-0.226491</td>\n      <td>-0.609383</td>\n      <td>1.030624</td>\n      <td>-0.256416</td>\n      <td>-0.025980</td>\n      <td>Benign</td>\n    </tr>\n    <tr>\n      <th>3</th>\n      <td>1.889155</td>\n      <td>-0.069881</td>\n      <td>-0.001602</td>\n      <td>-0.327418</td>\n      <td>0.000517</td>\n      <td>-0.350913</td>\n      <td>0.003345</td>\n      <td>-0.128328</td>\n      <td>-0.090096</td>\n      <td>-0.128556</td>\n      <td>...</td>\n      <td>-1.220892</td>\n      <td>-0.031433</td>\n      <td>-0.348264</td>\n      <td>-0.156491</td>\n      <td>-0.226491</td>\n      <td>1.641003</td>\n      <td>-0.970286</td>\n      <td>-0.256416</td>\n      <td>-0.025980</td>\n      <td>UDPFlood</td>\n    </tr>\n    <tr>\n      <th>4</th>\n      <td>-0.805600</td>\n      <td>-0.069881</td>\n      <td>-0.001602</td>\n      <td>-0.327418</td>\n      <td>0.000517</td>\n      <td>-0.350913</td>\n      <td>0.003345</td>\n      <td>-0.169527</td>\n      <td>-0.143460</td>\n      <td>-0.128556</td>\n      <td>...</td>\n      <td>0.819074</td>\n      <td>-0.031433</td>\n      <td>-0.348264</td>\n      <td>-0.156491</td>\n      <td>-0.226491</td>\n      <td>-0.609383</td>\n      <td>1.030624</td>\n      <td>-0.256416</td>\n      <td>-0.025980</td>\n      <td>UDPFlood</td>\n    </tr>\n  </tbody>\n</table>\n<p>5 rows × 63 columns</p>\n</div>"
     },
     "metadata": {}
    }
   ]
  },
  {
   "cell_type": "code",
   "source": "y_test.head()",
   "metadata": {
    "execution": {
     "iopub.status.busy": "2024-03-12T06:43:30.987709Z",
     "iopub.execute_input": "2024-03-12T06:43:30.987977Z",
     "iopub.status.idle": "2024-03-12T06:43:31.005524Z",
     "shell.execute_reply.started": "2024-03-12T06:43:30.987954Z",
     "shell.execute_reply": "2024-03-12T06:43:31.004676Z"
    },
    "trusted": true
   },
   "execution_count": 47,
   "outputs": [
    {
     "execution_count": 47,
     "output_type": "execute_result",
     "data": {
      "text/plain": "   Attack Type\n0            0\n1            0\n2            0\n3            7\n4            7",
      "text/html": "<div>\n<style scoped>\n    .dataframe tbody tr th:only-of-type {\n        vertical-align: middle;\n    }\n\n    .dataframe tbody tr th {\n        vertical-align: top;\n    }\n\n    .dataframe thead th {\n        text-align: right;\n    }\n</style>\n<table border=\"1\" class=\"dataframe\">\n  <thead>\n    <tr style=\"text-align: right;\">\n      <th></th>\n      <th>Attack Type</th>\n    </tr>\n  </thead>\n  <tbody>\n    <tr>\n      <th>0</th>\n      <td>0</td>\n    </tr>\n    <tr>\n      <th>1</th>\n      <td>0</td>\n    </tr>\n    <tr>\n      <th>2</th>\n      <td>0</td>\n    </tr>\n    <tr>\n      <th>3</th>\n      <td>7</td>\n    </tr>\n    <tr>\n      <th>4</th>\n      <td>7</td>\n    </tr>\n  </tbody>\n</table>\n</div>"
     },
     "metadata": {}
    }
   ]
  },
  {
   "cell_type": "code",
   "source": "test_data = {'features': X_test,  # Your feature data (Pandas DataFrame or similar)\n        'labels': y_test}     # Your label data\n\ntest_dataset = CustomTabularDataset(test_data)",
   "metadata": {
    "execution": {
     "iopub.status.busy": "2024-03-12T06:43:31.006512Z",
     "iopub.execute_input": "2024-03-12T06:43:31.006773Z",
     "iopub.status.idle": "2024-03-12T06:43:31.019329Z",
     "shell.execute_reply.started": "2024-03-12T06:43:31.006750Z",
     "shell.execute_reply": "2024-03-12T06:43:31.018607Z"
    },
    "trusted": true
   },
   "execution_count": 48,
   "outputs": []
  },
  {
   "cell_type": "code",
   "source": "test_loader = torch.utils.data.DataLoader(test_dataset, batch_size=batch_size,\n    num_workers=num_workers)",
   "metadata": {
    "execution": {
     "iopub.status.busy": "2024-03-12T06:43:31.020393Z",
     "iopub.execute_input": "2024-03-12T06:43:31.020669Z",
     "iopub.status.idle": "2024-03-12T06:43:31.024831Z",
     "shell.execute_reply.started": "2024-03-12T06:43:31.020646Z",
     "shell.execute_reply": "2024-03-12T06:43:31.023867Z"
    },
    "trusted": true
   },
   "execution_count": 49,
   "outputs": []
  },
  {
   "cell_type": "code",
   "source": "model.load_state_dict(torch.load('model_pytorch_autoencoders.pt'))",
   "metadata": {
    "execution": {
     "iopub.status.busy": "2024-03-12T06:43:31.025788Z",
     "iopub.execute_input": "2024-03-12T06:43:31.026026Z",
     "iopub.status.idle": "2024-03-12T06:43:31.040208Z",
     "shell.execute_reply.started": "2024-03-12T06:43:31.026004Z",
     "shell.execute_reply": "2024-03-12T06:43:31.039526Z"
    },
    "trusted": true
   },
   "execution_count": 50,
   "outputs": [
    {
     "execution_count": 50,
     "output_type": "execute_result",
     "data": {
      "text/plain": "<All keys matched successfully>"
     },
     "metadata": {}
    }
   ]
  },
  {
   "cell_type": "code",
   "source": "le_name_mapping",
   "metadata": {
    "execution": {
     "iopub.status.busy": "2024-03-12T06:43:31.041127Z",
     "iopub.execute_input": "2024-03-12T06:43:31.041349Z",
     "iopub.status.idle": "2024-03-12T06:43:31.047076Z",
     "shell.execute_reply.started": "2024-03-12T06:43:31.041329Z",
     "shell.execute_reply": "2024-03-12T06:43:31.046155Z"
    },
    "trusted": true
   },
   "execution_count": 51,
   "outputs": [
    {
     "execution_count": 51,
     "output_type": "execute_result",
     "data": {
      "text/plain": "{'Benign': 0,\n 'HTTPFlood': 1,\n 'ICMPFlood': 2,\n 'SYNFlood': 3,\n 'SYNScan': 4,\n 'SlowrateDoS': 5,\n 'TCPConnectScan': 6,\n 'UDPFlood': 7,\n 'UDPScan': 8}"
     },
     "metadata": {}
    }
   ]
  },
  {
   "cell_type": "code",
   "source": "# initialize lists to monitor test loss and accuracy\ntest_loss = 0.0\n\nclass_correct = list(0. for i in range(num_classes))\nclass_total = list(0. for i in range(num_classes))\n\n# Moving model tensor to GPU if available\nmodel = model.to(device)\n\nmodel.eval() # prep model for evaluation\n\nfor data, target in tqdm(test_loader):\n    \n    # Moving input tensors to GPU if available\n    data, target = data.to(device), target.to(device)    \n    \n    # forward pass: compute predicted outputs by passing inputs to the model\n    output = model(data.float())\n    output = output.to(device)    \n    \n    # calculate the loss\n    loss = loss_function(output, target.reshape(-1).long())\n    \n    # update test loss\n    test_loss += loss.item()*data.size(0)\n    \n    # convert output probabilities to predicted class\n    _, pred = torch.max(output, 1)\n    \n    # compare predictions to true label\n    correct = np.squeeze(pred.eq(target.data.view_as(pred)))\n    \n    # calculate test accuracy for each object class\n    for i in range(data.shape[0]):\n        label = int(target.data[i].item())\n        class_correct[label] += int(correct[i].item())\n        class_total[label] += 1\n\n# calculate and print avg test loss\ntest_loss = test_loss/len(test_loader.dataset)\nprint('Test Loss: {:.6f}\\n'.format(test_loss))\n\nlabel_map = {}\nfor k, v in le_name_mapping.items():\n    label_map[v] = k\n\nfor i in range(num_classes):\n    if class_total[i] > 0:\n        print(f'Test Accuracy of %25s: %2d%% (%2d/%2d)' % (\n            str(i) + \"-\" + label_map[i], 100 * class_correct[i] / class_total[i],\n            np.sum(class_correct[i]), np.sum(class_total[i])))\n    else:\n        print('Test Accuracy of %25s: N/A (no training examples)' % (classes[i]))\n\nprint('\\nTest Accuracy (Overall): %2d%% (%2d/%2d)' % (\n    100. * np.sum(class_correct) / np.sum(class_total),\n    np.sum(class_correct), np.sum(class_total)))",
   "metadata": {
    "execution": {
     "iopub.status.busy": "2024-03-12T06:43:31.048414Z",
     "iopub.execute_input": "2024-03-12T06:43:31.049007Z",
     "iopub.status.idle": "2024-03-12T06:43:36.326616Z",
     "shell.execute_reply.started": "2024-03-12T06:43:31.048973Z",
     "shell.execute_reply": "2024-03-12T06:43:36.325432Z"
    },
    "trusted": true
   },
   "execution_count": 52,
   "outputs": [
    {
     "name": "stderr",
     "text": "100%|██████████| 950/950 [00:05<00:00, 180.69it/s]",
     "output_type": "stream"
    },
    {
     "name": "stdout",
     "text": "Test Loss: 1.376962\n\nTest Accuracy of                  0-Benign: 99% (23873/23877)\nTest Accuracy of               1-HTTPFlood: 98% (6910/7041)\nTest Accuracy of               2-ICMPFlood:  0% ( 0/58)\nTest Accuracy of                3-SYNFlood: 86% (422/486)\nTest Accuracy of                 4-SYNScan: 99% (1000/1002)\nTest Accuracy of             5-SlowrateDoS: 98% (3615/3656)\nTest Accuracy of          6-TCPConnectScan: 99% (1002/1003)\nTest Accuracy of                7-UDPFlood: 100% (22867/22867)\nTest Accuracy of                 8-UDPScan: 99% (791/795)\n\nTest Accuracy (Overall): 99% (60480/60785)\n",
     "output_type": "stream"
    },
    {
     "name": "stderr",
     "text": "\n",
     "output_type": "stream"
    }
   ]
  },
  {
   "cell_type": "code",
   "source": "",
   "metadata": {},
   "execution_count": null,
   "outputs": []
  }
 ]
}
