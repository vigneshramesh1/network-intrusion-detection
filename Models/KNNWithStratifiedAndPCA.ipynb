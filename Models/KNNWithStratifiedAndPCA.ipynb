{
  "cells": [
    {
      "cell_type": "code",
      "execution_count": null,
      "metadata": {
        "id": "eB-GOdDhagw4"
      },
      "outputs": [],
      "source": [
        "import pandas as pd\n",
        "import matplotlib.pyplot as plt\n",
        "from sklearn.tree import DecisionTreeRegressor\n",
        "from sklearn.preprocessing import StandardScaler\n",
        "\n",
        "from sklearn.model_selection import GridSearchCV\n",
        "from sklearn.model_selection import train_test_split\n",
        "from sklearn.preprocessing import LabelEncoder\n",
        "from sklearn.feature_selection import mutual_info_regression\n",
        "from sklearn.feature_selection import mutual_info_classif\n",
        "from sklearn.neighbors import KNeighborsClassifier\n",
        "from sklearn.metrics import accuracy_score, precision_score, recall_score, f1_score\n",
        "from sklearn.model_selection import train_test_split\n",
        "from sklearn.decomposition import PCA"
      ]
    },
    {
      "cell_type": "code",
      "source": [
        "!unzip /content/drive/MyDrive/Colab\\ Notebooks/csv_preprocessed.zip"
      ],
      "metadata": {
        "id": "z_AlNv7wJZgg",
        "colab": {
          "base_uri": "https://localhost:8080/"
        },
        "outputId": "0e533a45-23bc-4187-ae86-ae8e588d412c"
      },
      "execution_count": null,
      "outputs": [
        {
          "output_type": "stream",
          "name": "stdout",
          "text": [
            "Archive:  /content/drive/MyDrive/Colab Notebooks/csv_preprocessed.zip\n",
            "  inflating: csv_preprocessed.csv    \n",
            "  inflating: __MACOSX/._csv_preprocessed.csv  \n"
          ]
        }
      ]
    },
    {
      "cell_type": "code",
      "execution_count": null,
      "metadata": {
        "id": "yJ-LEZM-fVQm"
      },
      "outputs": [],
      "source": [
        "data = pd.read_csv('csv_preprocessed.csv')"
      ]
    },
    {
      "cell_type": "code",
      "source": [
        "data.info()"
      ],
      "metadata": {
        "colab": {
          "base_uri": "https://localhost:8080/"
        },
        "id": "7UdOmqL_Gqo7",
        "outputId": "6e29006a-5525-4014-8fb2-3bc9ce47649c"
      },
      "execution_count": null,
      "outputs": [
        {
          "output_type": "stream",
          "name": "stdout",
          "text": [
            "<class 'pandas.core.frame.DataFrame'>\n",
            "RangeIndex: 1215675 entries, 0 to 1215674\n",
            "Data columns (total 63 columns):\n",
            " #   Column        Non-Null Count    Dtype  \n",
            "---  ------        --------------    -----  \n",
            " 0   Dur           1215675 non-null  float64\n",
            " 1   sTos          1215675 non-null  float64\n",
            " 2   dTos          1215675 non-null  float64\n",
            " 3   sTtl          1215675 non-null  float64\n",
            " 4   dTtl          1215675 non-null  float64\n",
            " 5   sHops         1215675 non-null  float64\n",
            " 6   dHops         1215675 non-null  float64\n",
            " 7   TotPkts       1215675 non-null  float64\n",
            " 8   SrcPkts       1215675 non-null  float64\n",
            " 9   DstPkts       1215675 non-null  float64\n",
            " 10  TotBytes      1215675 non-null  float64\n",
            " 11  SrcBytes      1215675 non-null  float64\n",
            " 12  DstBytes      1215675 non-null  float64\n",
            " 13  Offset        1215675 non-null  float64\n",
            " 14  sMeanPktSz    1215675 non-null  float64\n",
            " 15  dMeanPktSz    1215675 non-null  float64\n",
            " 16  Load          1215675 non-null  float64\n",
            " 17  SrcLoad       1215675 non-null  float64\n",
            " 18  DstLoad       1215675 non-null  float64\n",
            " 19  Loss          1215675 non-null  float64\n",
            " 20  SrcLoss       1215675 non-null  float64\n",
            " 21  DstLoss       1215675 non-null  float64\n",
            " 22  pLoss         1215675 non-null  float64\n",
            " 23  SrcGap        1215675 non-null  float64\n",
            " 24  DstGap        1215675 non-null  float64\n",
            " 25  Rate          1215675 non-null  float64\n",
            " 26  SrcRate       1215675 non-null  float64\n",
            " 27  DstRate       1215675 non-null  float64\n",
            " 28  SrcWin        1215675 non-null  float64\n",
            " 29  DstWin        1215675 non-null  float64\n",
            " 30  SrcTCPBase    1215675 non-null  float64\n",
            " 31  DstTCPBase    1215675 non-null  float64\n",
            " 32  TcpRtt        1215675 non-null  float64\n",
            " 33  SynAck        1215675 non-null  float64\n",
            " 34  AckDat        1215675 non-null  float64\n",
            " 35  Proto_icmp    1215675 non-null  float64\n",
            " 36  Proto_sctp    1215675 non-null  float64\n",
            " 37  Proto_tcp     1215675 non-null  float64\n",
            " 38  Proto_udp     1215675 non-null  float64\n",
            " 39  sDSb_52       1215675 non-null  float64\n",
            " 40  sDSb_af11     1215675 non-null  float64\n",
            " 41  sDSb_af12     1215675 non-null  float64\n",
            " 42  sDSb_af41     1215675 non-null  float64\n",
            " 43  sDSb_cs0      1215675 non-null  float64\n",
            " 44  sDSb_cs6      1215675 non-null  float64\n",
            " 45  sDSb_cs7      1215675 non-null  float64\n",
            " 46  sDSb_ef       1215675 non-null  float64\n",
            " 47  dDSb_af11     1215675 non-null  float64\n",
            " 48  dDSb_af12     1215675 non-null  float64\n",
            " 49  dDSb_cs0      1215675 non-null  float64\n",
            " 50  dDSb_cs1      1215675 non-null  float64\n",
            " 51  dDSb_ef       1215675 non-null  float64\n",
            " 52  Cause_Start   1215675 non-null  float64\n",
            " 53  Cause_Status  1215675 non-null  float64\n",
            " 54  State_ACC     1215675 non-null  float64\n",
            " 55  State_CON     1215675 non-null  float64\n",
            " 56  State_ECO     1215675 non-null  float64\n",
            " 57  State_FIN     1215675 non-null  float64\n",
            " 58  State_INT     1215675 non-null  float64\n",
            " 59  State_REQ     1215675 non-null  float64\n",
            " 60  State_RST     1215675 non-null  float64\n",
            " 61  State_URP     1215675 non-null  float64\n",
            " 62  Attack Type   1215675 non-null  int64  \n",
            "dtypes: float64(62), int64(1)\n",
            "memory usage: 584.3 MB\n"
          ]
        }
      ]
    },
    {
      "cell_type": "code",
      "execution_count": null,
      "metadata": {
        "id": "WEHd8214l9iv"
      },
      "outputs": [],
      "source": [
        "X = data.drop(columns=[\"Attack Type\"])"
      ]
    },
    {
      "cell_type": "code",
      "source": [
        "Y = data[\"Attack Type\"]"
      ],
      "metadata": {
        "id": "m0vAEIU2tAE6"
      },
      "execution_count": null,
      "outputs": []
    },
    {
      "cell_type": "code",
      "source": [
        "def mutual_info(X, Y):\n",
        "  mutual_info_arr = mutual_info_classif(X, Y)\n",
        "  series_info = pd.Series(mutual_info_arr)\n",
        "  series_info.index = X.columns\n",
        "  series_top = series_info.sort_values(ascending=False)[:20]\n",
        "  return series_top"
      ],
      "metadata": {
        "id": "mfaGvavhtuqx"
      },
      "execution_count": null,
      "outputs": []
    },
    {
      "cell_type": "code",
      "execution_count": null,
      "metadata": {
        "id": "QpKZKgtellV5"
      },
      "outputs": [],
      "source": [
        "# result = mutual_info(X, Y)\n",
        "# result.plot.bar(figsize=(20,8))"
      ]
    },
    {
      "cell_type": "code",
      "execution_count": null,
      "metadata": {
        "id": "4MZ-ylIGsK1H"
      },
      "outputs": [],
      "source": [
        "# new_data = data[result.keys()]\n",
        "# new_data.head()"
      ]
    },
    {
      "cell_type": "code",
      "source": [
        "# Hard coding now to skip the mutual information step\n",
        "new_data = data[[\"SrcWin\", \"DstWin\", \"dHops\", \"dTtl\", \"TotBytes\", \"SrcBytes\", \"sMeanPktSz\", \"DstGap\", \"SrcGap\", \"dTos\", \"DstTCPBase\", \"SrcTCPBase\", \"TcpRtt\", \"Proto_udp\", \"DstBytes\", \"AckDat\" , \"dMeanPktSz\", \"Proto_tcp\", \"SynAck\", \"Load\"]]\n",
        "new_data.head()"
      ],
      "metadata": {
        "id": "L6YANZ5ZhxhC"
      },
      "execution_count": null,
      "outputs": []
    },
    {
      "cell_type": "code",
      "source": [
        "def concat_column_for_plot(pca_data, column_name):\n",
        "  for_plot = pd.concat([pca_data, data[column_name]], axis = 1)\n",
        "  return for_plot"
      ],
      "metadata": {
        "id": "nT_I0P-C30iI"
      },
      "execution_count": null,
      "outputs": []
    },
    {
      "cell_type": "code",
      "source": [
        "new_data = concat_column_for_plot(new_data, \"Attack Type\")"
      ],
      "metadata": {
        "id": "18_h_1tV3xms"
      },
      "execution_count": null,
      "outputs": []
    },
    {
      "cell_type": "code",
      "source": [
        "X_train, X_test, y_train, y_test = train_test_split(new_data.loc[:, new_data.columns != 'Attack Type'], new_data['Attack Type'],\n",
        "                                                    stratify=new_data['Attack Type'],\n",
        "                                                    test_size=0.15)\n",
        "\n",
        "X_train = pd.DataFrame(X_train, columns=new_data.columns.to_list()[:-1])\n",
        "X_test = pd.DataFrame(X_test, columns=new_data.columns.to_list()[:-1])\n",
        "y_train = pd.DataFrame(y_train, columns=['Attack Type'])\n",
        "y_test = pd.DataFrame(y_test, columns=['Attack Type'])\n",
        "\n",
        "print(\"Training dataset size:\", X_train.shape)\n",
        "print(\"Testing dataset size:\", X_test.shape)\n",
        "print(\"Training target size:\", y_train.shape)\n",
        "print(\"Testing target size:\", y_test.shape)"
      ],
      "metadata": {
        "colab": {
          "base_uri": "https://localhost:8080/"
        },
        "id": "QaEfRn3o3UoL",
        "outputId": "40978bb1-c31e-4c8f-8487-a1f8798e9637"
      },
      "execution_count": null,
      "outputs": [
        {
          "output_type": "stream",
          "name": "stdout",
          "text": [
            "Training dataset size: (1033323, 20)\n",
            "Testing dataset size: (182352, 20)\n",
            "Training target size: (1033323, 1)\n",
            "Testing target size: (182352, 1)\n"
          ]
        }
      ]
    },
    {
      "cell_type": "code",
      "source": [
        "def get_pca_df(scaled_data, no_of_components):\n",
        "\n",
        "  pca = PCA(n_components=no_of_components)\n",
        "  Principal_components=pca.fit_transform(scaled_data)\n",
        "  column_names = [\"PC \"+str(i) for i in range(1, no_of_components+1)]\n",
        "  pca_df = pd.DataFrame(data = Principal_components, columns = column_names)\n",
        "  return pca_df, pca"
      ],
      "metadata": {
        "id": "q2KNw2Jq4fpO"
      },
      "execution_count": null,
      "outputs": []
    },
    {
      "cell_type": "code",
      "source": [
        "from sklearn.model_selection import StratifiedKFold\n",
        "skf = StratifiedKFold(n_splits=5, shuffle=True, random_state=42)"
      ],
      "metadata": {
        "id": "vkhhaY99VAcr"
      },
      "execution_count": null,
      "outputs": []
    },
    {
      "cell_type": "code",
      "source": [
        "\n",
        "accuracy_scores = []\n",
        "precision_scores = []\n",
        "recall_scores = []\n",
        "f1_scores = []\n",
        "Y = new_data['Attack Type']\n",
        "X_train, pca = get_pca_df(X_train, 15)\n",
        "for train_index, test_index in skf.split(X_train, y_train):\n",
        "    X1_train, X1_test = X_train.iloc[train_index], X_train.iloc[test_index]\n",
        "    y1_train, y1_test = Y.iloc[train_index], Y.iloc[test_index]\n",
        "    # Initialize kNN classifier\n",
        "    knn = KNeighborsClassifier(n_neighbors=19)\n",
        "    # Train the classifier\n",
        "    knn.fit(X1_train, y1_train)\n",
        "    # Predict on the test set\n",
        "    y_pred = knn.predict(X1_test)\n",
        "    # Calculate evaluation metrics and store them\n",
        "    accuracy_scores.append(accuracy_score(y1_test, y_pred))\n",
        "    precision_scores.append(precision_score(y1_test, y_pred, average='weighted'))\n",
        "    recall_scores.append(recall_score(y1_test, y_pred, average='weighted'))\n",
        "    f1_scores.append(f1_score(y1_test, y_pred, average='weighted'))"
      ],
      "metadata": {
        "colab": {
          "base_uri": "https://localhost:8080/"
        },
        "id": "cOvIIVzRVIRa",
        "outputId": "fbd90343-ff9f-4580-e63c-c3b086e2513d"
      },
      "execution_count": null,
      "outputs": [
        {
          "output_type": "stream",
          "name": "stderr",
          "text": [
            "/usr/local/lib/python3.10/dist-packages/sklearn/metrics/_classification.py:1344: UndefinedMetricWarning: Precision is ill-defined and being set to 0.0 in labels with no predicted samples. Use `zero_division` parameter to control this behavior.\n",
            "  _warn_prf(average, modifier, msg_start, len(result))\n",
            "/usr/local/lib/python3.10/dist-packages/sklearn/metrics/_classification.py:1344: UndefinedMetricWarning: Precision is ill-defined and being set to 0.0 in labels with no predicted samples. Use `zero_division` parameter to control this behavior.\n",
            "  _warn_prf(average, modifier, msg_start, len(result))\n",
            "/usr/local/lib/python3.10/dist-packages/sklearn/metrics/_classification.py:1344: UndefinedMetricWarning: Precision is ill-defined and being set to 0.0 in labels with no predicted samples. Use `zero_division` parameter to control this behavior.\n",
            "  _warn_prf(average, modifier, msg_start, len(result))\n",
            "/usr/local/lib/python3.10/dist-packages/sklearn/metrics/_classification.py:1344: UndefinedMetricWarning: Precision is ill-defined and being set to 0.0 in labels with no predicted samples. Use `zero_division` parameter to control this behavior.\n",
            "  _warn_prf(average, modifier, msg_start, len(result))\n",
            "/usr/local/lib/python3.10/dist-packages/sklearn/metrics/_classification.py:1344: UndefinedMetricWarning: Precision is ill-defined and being set to 0.0 in labels with no predicted samples. Use `zero_division` parameter to control this behavior.\n",
            "  _warn_prf(average, modifier, msg_start, len(result))\n"
          ]
        }
      ]
    },
    {
      "cell_type": "code",
      "source": [
        "x_test = pca.transform(X_test)"
      ],
      "metadata": {
        "colab": {
          "base_uri": "https://localhost:8080/"
        },
        "id": "iuKmCZcF04k0",
        "outputId": "8b7653b2-a34a-410f-9417-216e174bafab"
      },
      "execution_count": null,
      "outputs": [
        {
          "output_type": "stream",
          "name": "stderr",
          "text": [
            "/usr/local/lib/python3.10/dist-packages/sklearn/base.py:439: UserWarning: X does not have valid feature names, but PCA was fitted with feature names\n",
            "  warnings.warn(\n"
          ]
        }
      ]
    },
    {
      "cell_type": "code",
      "source": [
        "x_test"
      ],
      "metadata": {
        "colab": {
          "base_uri": "https://localhost:8080/"
        },
        "id": "-e6tRpWA11AV",
        "outputId": "a0dafae1-f837-4d41-9843-c395f6a05b03"
      },
      "execution_count": null,
      "outputs": [
        {
          "output_type": "execute_result",
          "data": {
            "text/plain": [
              "array([[-0.57107728,  0.18321722,  0.00538576, ...,  0.21570903,\n",
              "        -0.09307064, -0.02413135],\n",
              "       [-0.57107728,  0.18321722,  0.00538576, ...,  0.21570903,\n",
              "        -0.09307064, -0.02413135],\n",
              "       [ 2.22870075, -0.75007281, -0.15343663, ...,  2.47693737,\n",
              "        -2.4635185 ,  0.42857824],\n",
              "       ...,\n",
              "       [-0.77833095,  0.52196473, -0.18920829, ..., -0.49155694,\n",
              "         0.03237503, -0.12210547],\n",
              "       [-0.85798596,  0.44121694, -0.16973661, ..., -0.51027521,\n",
              "         0.07402308, -0.08227476],\n",
              "       [ 0.9904141 , -1.31731417, -0.14635254, ...,  0.87718185,\n",
              "         0.29668345,  0.41363911]])"
            ]
          },
          "metadata": {},
          "execution_count": 33
        }
      ]
    },
    {
      "cell_type": "code",
      "source": [
        "y1_pred = knn.predict(x_test)"
      ],
      "metadata": {
        "colab": {
          "base_uri": "https://localhost:8080/"
        },
        "id": "5X2SoBid1TDo",
        "outputId": "7442bd9c-d9b1-4f55-8b46-3e35c1f7a159"
      },
      "execution_count": null,
      "outputs": [
        {
          "output_type": "stream",
          "name": "stderr",
          "text": [
            "/usr/local/lib/python3.10/dist-packages/sklearn/base.py:439: UserWarning: X does not have valid feature names, but KNeighborsClassifier was fitted with feature names\n",
            "  warnings.warn(\n"
          ]
        }
      ]
    },
    {
      "cell_type": "code",
      "source": [
        "accuracy_score(y_test, y1_pred)"
      ],
      "metadata": {
        "colab": {
          "base_uri": "https://localhost:8080/"
        },
        "id": "iL2FLRVnYSHT",
        "outputId": "00794696-d3e2-405e-9322-023d777d9d46"
      },
      "execution_count": null,
      "outputs": [
        {
          "output_type": "execute_result",
          "data": {
            "text/plain": [
              "0.35599828902342723"
            ]
          },
          "metadata": {},
          "execution_count": 35
        }
      ]
    },
    {
      "cell_type": "code",
      "source": [
        "accuracy_scores"
      ],
      "metadata": {
        "colab": {
          "base_uri": "https://localhost:8080/"
        },
        "id": "iIuT9OzXqrpK",
        "outputId": "d0544cde-b27c-4d5c-e08a-0edfb626c3db"
      },
      "execution_count": null,
      "outputs": [
        {
          "output_type": "execute_result",
          "data": {
            "text/plain": [
              "[0.4559318896909125,\n",
              " 0.7137433935879244,\n",
              " 0.3512122894688136,\n",
              " 0.4711250951117692,\n",
              " 0.634051041602402]"
            ]
          },
          "metadata": {},
          "execution_count": 15
        }
      ]
    }
  ],
  "metadata": {
    "colab": {
      "provenance": []
    },
    "kernelspec": {
      "display_name": "Python 3",
      "name": "python3"
    },
    "language_info": {
      "name": "python"
    }
  },
  "nbformat": 4,
  "nbformat_minor": 0
}