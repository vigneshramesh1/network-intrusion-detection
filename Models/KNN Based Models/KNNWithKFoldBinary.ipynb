{
 "cells": [
  {
   "cell_type": "code",
   "execution_count": 1,
   "metadata": {
    "id": "eB-GOdDhagw4"
   },
   "outputs": [],
   "source": [
    "import pandas as pd\n",
    "import matplotlib.pyplot as plt\n",
    "from sklearn.tree import DecisionTreeRegressor\n",
    "from sklearn.preprocessing import StandardScaler\n",
    "\n",
    "from sklearn.model_selection import GridSearchCV\n",
    "from sklearn.model_selection import train_test_split\n",
    "from sklearn.preprocessing import LabelEncoder\n",
    "from sklearn.feature_selection import mutual_info_regression\n",
    "from sklearn.feature_selection import mutual_info_classif\n",
    "from sklearn.neighbors import KNeighborsClassifier\n",
    "from sklearn.metrics import accuracy_score, precision_score, recall_score, f1_score\n",
    "from sklearn.model_selection import train_test_split\n",
    "from sklearn.decomposition import PCA\n",
    "import warnings\n",
    "warnings.filterwarnings('ignore')"
   ]
  },
  {
   "cell_type": "code",
   "execution_count": 2,
   "metadata": {
    "id": "yJ-LEZM-fVQm"
   },
   "outputs": [],
   "source": [
    "data = pd.read_csv('/Users/shanmugapriyan/Downloads/csv_preprocessed.csv')"
   ]
  },
  {
   "cell_type": "code",
   "execution_count": 3,
   "metadata": {},
   "outputs": [],
   "source": [
    "data['Attack Type'] = data['Attack Type'].apply(lambda x: 0 if x == 0 else 1)"
   ]
  },
  {
   "cell_type": "code",
   "execution_count": 4,
   "metadata": {
    "id": "WEHd8214l9iv"
   },
   "outputs": [],
   "source": [
    "X = data.drop(columns=[\"Attack Type\"])"
   ]
  },
  {
   "cell_type": "code",
   "execution_count": 5,
   "metadata": {
    "id": "m0vAEIU2tAE6"
   },
   "outputs": [],
   "source": [
    "Y = data[\"Attack Type\"]"
   ]
  },
  {
   "cell_type": "code",
   "execution_count": 6,
   "metadata": {
    "id": "mfaGvavhtuqx"
   },
   "outputs": [],
   "source": [
    "def mutual_info(X, Y):\n",
    "  mutual_info_arr = mutual_info_classif(X, Y)\n",
    "  series_info = pd.Series(mutual_info_arr)\n",
    "  series_info.index = X.columns\n",
    "  series_top = series_info.sort_values(ascending=False)[:25]\n",
    "  return series_top"
   ]
  },
  {
   "cell_type": "code",
   "execution_count": null,
   "metadata": {
    "id": "QpKZKgtellV5"
   },
   "outputs": [],
   "source": [
    "result = mutual_info(X, Y)\n",
    "result.plot.bar(figsize=(20,8))"
   ]
  },
  {
   "cell_type": "code",
   "execution_count": null,
   "metadata": {
    "id": "4MZ-ylIGsK1H"
   },
   "outputs": [],
   "source": [
    "new_data = data[result.keys()]\n",
    "new_data.head()"
   ]
  },
  {
   "cell_type": "code",
   "execution_count": null,
   "metadata": {
    "id": "L6YANZ5ZhxhC"
   },
   "outputs": [],
   "source": [
    "# # Hard coding now to skip the mutual information step\n",
    "# new_data = data[[\"SrcWin\", \"DstWin\", \"dHops\", \"dTtl\", \"TotBytes\", \"SrcBytes\", \"sMeanPktSz\", \"DstGap\", \"SrcGap\", \"dTos\", \"DstTCPBase\", \"SrcTCPBase\", \"TcpRtt\", \"Proto_udp\", \"DstBytes\", \"AckDat\" , \"dMeanPktSz\", \"Proto_tcp\", \"SynAck\", \"Load\"]]\n",
    "# new_data.head()"
   ]
  },
  {
   "cell_type": "code",
   "execution_count": null,
   "metadata": {
    "id": "nT_I0P-C30iI"
   },
   "outputs": [],
   "source": [
    "def concat_column_for_plot(pca_data, column_name):\n",
    "  for_plot = pd.concat([pca_data, data[column_name]], axis = 1)\n",
    "  return for_plot"
   ]
  },
  {
   "cell_type": "code",
   "execution_count": null,
   "metadata": {
    "id": "18_h_1tV3xms"
   },
   "outputs": [],
   "source": [
    "new_data = concat_column_for_plot(new_data, \"Attack Type\")"
   ]
  },
  {
   "cell_type": "code",
   "execution_count": null,
   "metadata": {
    "colab": {
     "base_uri": "https://localhost:8080/"
    },
    "id": "QaEfRn3o3UoL",
    "outputId": "40978bb1-c31e-4c8f-8487-a1f8798e9637"
   },
   "outputs": [],
   "source": [
    "X_train, X_test, y_train, y_test = train_test_split(new_data.loc[:, new_data.columns != 'Attack Type'], new_data['Attack Type'],\n",
    "                                                    stratify=new_data['Attack Type'],\n",
    "                                                    test_size=0.15)\n",
    "\n",
    "X_train = pd.DataFrame(X_train, columns=new_data.columns.to_list()[:-1])\n",
    "X_test = pd.DataFrame(X_test, columns=new_data.columns.to_list()[:-1])\n",
    "y_train = pd.DataFrame(y_train, columns=['Attack Type'])\n",
    "y_test = pd.DataFrame(y_test, columns=['Attack Type'])\n",
    "\n",
    "print(\"Training dataset size:\", X_train.shape)\n",
    "print(\"Testing dataset size:\", X_test.shape)\n",
    "print(\"Training target size:\", y_train.shape)\n",
    "print(\"Testing target size:\", y_test.shape)"
   ]
  },
  {
   "cell_type": "code",
   "execution_count": null,
   "metadata": {
    "id": "q2KNw2Jq4fpO"
   },
   "outputs": [],
   "source": [
    "def get_pca_df(scaled_data, no_of_components):\n",
    "  pca = PCA(n_components=no_of_components)\n",
    "  Principal_components=pca.fit_transform(scaled_data)\n",
    "  column_names = [\"PC \"+str(i) for i in range(1, no_of_components+1)]\n",
    "  pca_df = pd.DataFrame(data = Principal_components, columns = column_names)\n",
    "  return pca_df, pca"
   ]
  },
  {
   "cell_type": "code",
   "execution_count": null,
   "metadata": {
    "id": "vkhhaY99VAcr"
   },
   "outputs": [],
   "source": [
    "from sklearn.model_selection import StratifiedKFold\n",
    "skf = StratifiedKFold(n_splits=5, shuffle=True, random_state=42)"
   ]
  },
  {
   "cell_type": "code",
   "execution_count": null,
   "metadata": {
    "colab": {
     "base_uri": "https://localhost:8080/"
    },
    "id": "cOvIIVzRVIRa",
    "outputId": "fbd90343-ff9f-4580-e63c-c3b086e2513d"
   },
   "outputs": [],
   "source": [
    "accuracy_scores = []\n",
    "precision_scores = []\n",
    "recall_scores = []\n",
    "f1_scores = []\n",
    "Y = new_data['Attack Type']\n",
    "X_train, pca = get_pca_df(X_train, 15)\n",
    "for train_index, test_index in skf.split(X_train, y_train):\n",
    "    X1_train, X1_test = X_train.iloc[train_index], X_train.iloc[test_index]\n",
    "    y1_train, y1_test = y_train.iloc[train_index], y_train.iloc[test_index]\n",
    "    # Initialize kNN classifier\n",
    "    knn = KNeighborsClassifier(n_neighbors=19)\n",
    "    # Train the classifier\n",
    "    knn.fit(X1_train, y1_train)\n",
    "    # Predict on the test set\n",
    "    y_pred = knn.predict(X1_test)\n",
    "    # Calculate evaluation metrics and store them\n",
    "    accuracy_scores.append(accuracy_score(y1_test, y_pred))\n",
    "    precision_scores.append(precision_score(y1_test, y_pred, average='weighted'))\n",
    "    recall_scores.append(recall_score(y1_test, y_pred, average='weighted'))\n",
    "    f1_scores.append(f1_score(y1_test, y_pred, average='weighted'))"
   ]
  },
  {
   "cell_type": "code",
   "execution_count": null,
   "metadata": {
    "colab": {
     "base_uri": "https://localhost:8080/"
    },
    "id": "iuKmCZcF04k0",
    "outputId": "8b7653b2-a34a-410f-9417-216e174bafab"
   },
   "outputs": [],
   "source": [
    "x_test = pca.transform(X_test)\n"
   ]
  },
  {
   "cell_type": "code",
   "execution_count": null,
   "metadata": {
    "colab": {
     "base_uri": "https://localhost:8080/"
    },
    "id": "-e6tRpWA11AV",
    "outputId": "a0dafae1-f837-4d41-9843-c395f6a05b03"
   },
   "outputs": [],
   "source": [
    "x_test"
   ]
  },
  {
   "cell_type": "code",
   "execution_count": null,
   "metadata": {
    "colab": {
     "base_uri": "https://localhost:8080/"
    },
    "id": "5X2SoBid1TDo",
    "outputId": "7442bd9c-d9b1-4f55-8b46-3e35c1f7a159"
   },
   "outputs": [],
   "source": [
    "y1_pred = knn.predict(x_test)"
   ]
  },
  {
   "cell_type": "code",
   "execution_count": null,
   "metadata": {
    "colab": {
     "base_uri": "https://localhost:8080/"
    },
    "id": "iL2FLRVnYSHT",
    "outputId": "00794696-d3e2-405e-9322-023d777d9d46"
   },
   "outputs": [],
   "source": [
    "accuracy_score(y_test, y1_pred)"
   ]
  },
  {
   "cell_type": "code",
   "execution_count": null,
   "metadata": {
    "colab": {
     "base_uri": "https://localhost:8080/"
    },
    "id": "iIuT9OzXqrpK",
    "outputId": "d0544cde-b27c-4d5c-e08a-0edfb626c3db"
   },
   "outputs": [],
   "source": [
    "accuracy_scores"
   ]
  },
  {
   "cell_type": "code",
   "execution_count": null,
   "metadata": {},
   "outputs": [],
   "source": [
    "from sklearn.metrics import classification_report, confusion_matrix\n",
    "# Compute and print the confusion matrix\n",
    "conf_matrix = confusion_matrix(y_test, y1_pred)\n",
    "print('Confusion Matrix:')\n",
    "print(conf_matrix)"
   ]
  },
  {
   "cell_type": "code",
   "execution_count": null,
   "metadata": {},
   "outputs": [],
   "source": [
    "le_name_mapping = {'Benign': 0, 'HTTPFlood': 1, 'ICMPFlood': 2, 'SYNFlood': 3, 'SYNScan': 4, 'SlowrateDoS': 5, 'TCPConnectScan': 6, 'UDPFlood': 7, 'UDPScan': 8}\n",
    "\n",
    "from sklearn.metrics import confusion_matrix\n",
    "\n",
    "# Creating  a confusion matrix,which compares the y_test and y_pred\n",
    "cm = confusion_matrix(y_test, y1_pred)\n",
    "\n",
    "# Creating a dataframe for a array-formatted Confusion matrix,so it will be easy for plotting.\n",
    "cm_df = pd.DataFrame(cm,\n",
    "                     index = le_name_mapping.keys(), \n",
    "                     columns = le_name_mapping.keys())\n",
    "\n",
    "#Plotting the confusion matrix\n",
    "plt.figure(figsize=(10,8))\n",
    "sns.heatmap(cm_df, annot=True, fmt='d')\n",
    "plt.title('Confusion Matrix')\n",
    "plt.ylabel('Actal Values')\n",
    "plt.xlabel('Predicted Values')\n",
    "plt.show()"
   ]
  },
  {
   "cell_type": "code",
   "execution_count": null,
   "metadata": {},
   "outputs": [],
   "source": [
    "from sklearn.metrics import precision_score\n",
    "\n",
    "precision = precision_score(y_test, y1_pred, average='weighted') # Use 'binary' for binary classification\n",
    "print(f'Precision: {precision}')"
   ]
  },
  {
   "cell_type": "code",
   "execution_count": null,
   "metadata": {},
   "outputs": [],
   "source": [
    "from sklearn.metrics import recall_score\n",
    "\n",
    "recall = recall_score(y_test, y1_pred, average='weighted') # Use 'binary' for binary classification\n",
    "print(f'Recall: {recall}')"
   ]
  },
  {
   "cell_type": "code",
   "execution_count": null,
   "metadata": {},
   "outputs": [],
   "source": [
    "from sklearn.metrics import f1_score\n",
    "\n",
    "f1 = f1_score(y_test, y1_pred, average='weighted') # Use 'binary' for binary classification\n",
    "print(f'F1 Score: {f1}')"
   ]
  },
  {
   "cell_type": "code",
   "execution_count": null,
   "metadata": {},
   "outputs": [],
   "source": [
    "from sklearn.metrics import accuracy_score\n",
    "\n",
    "accuracy = accuracy_score(y_test, y1_pred)\n",
    "print(f'Accuracy: {accuracy}')"
   ]
  },
  {
   "cell_type": "code",
   "execution_count": null,
   "metadata": {},
   "outputs": [],
   "source": [
    "import matplotlib.pyplot as plt\n",
    "import seaborn as sns\n",
    "\n",
    "# Assuming metrics are stored in these variables\n",
    "metrics = {\n",
    "    'Accuracy': accuracy,\n",
    "    'Precision': precision,\n",
    "    'Recall': recall,\n",
    "    'F1 Score': f1,\n",
    "    # 'ROC-AUC': roc_auc  # Uncomment if ROC-AUC is applicable and calculated\n",
    "}\n",
    "\n",
    "# Convert dictionary to lists for plotting\n",
    "metric_names = list(metrics.keys())\n",
    "metric_values = [metrics[metric] for metric in metric_names]\n",
    "\n",
    "# Create bar plot\n",
    "sns.set_style(\"whitegrid\")\n",
    "plt.figure(figsize=(10, 6))\n",
    "sns.barplot(x=metric_values, y=metric_names, palette=\"viridis\")\n",
    "\n",
    "plt.xlabel('Score')\n",
    "plt.ylabel('Metric')\n",
    "plt.title('SVM Classification Metrics')\n",
    "plt.xlim(0, 1)  # Assuming the scores are between 0 and 1\n",
    "plt.show()"
   ]
  }
 ],
 "metadata": {
  "colab": {
   "provenance": []
  },
  "kernelspec": {
   "display_name": "Python 3 (ipykernel)",
   "language": "python",
   "name": "python3"
  },
  "language_info": {
   "codemirror_mode": {
    "name": "ipython",
    "version": 3
   },
   "file_extension": ".py",
   "mimetype": "text/x-python",
   "name": "python",
   "nbconvert_exporter": "python",
   "pygments_lexer": "ipython3",
   "version": "3.11.7"
  }
 },
 "nbformat": 4,
 "nbformat_minor": 4
}
