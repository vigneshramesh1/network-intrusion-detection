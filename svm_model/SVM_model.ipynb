{
 "cells": [
  {
   "cell_type": "code",
   "execution_count": null,
   "id": "0018d8eb-bad9-4bde-a13d-5351baee9afd",
   "metadata": {},
   "outputs": [],
   "source": [
    "import numpy as np\n",
    "import pandas as pd\n",
    "import seaborn as sns\n",
    "import matplotlib.pyplot as plt\n",
    "from sklearn.model_selection import train_test_split\n",
    "from sklearn.preprocessing import StandardScaler\n",
    "from sklearn.preprocessing import MinMaxScaler\n",
    "from sklearn.svm import SVC\n",
    "from sklearn import metrics\n",
    "from sklearn.metrics import classification_report, confusion_matrix\n",
    "from sklearn.svm import LinearSVC"
   ]
  },
  {
   "cell_type": "code",
   "execution_count": null,
   "id": "4fdd1ca4-6304-4c63-a2ae-e6ab2c3065ff",
   "metadata": {},
   "outputs": [],
   "source": [
    "PATH = 'C:\\\\Users\\\\josep\\\\OneDrive\\\\Desktop\\\\Capstone\\\\Jupyter\\\\Dataset\\\\'\n",
    "Dataset = pd.read_csv(PATH + 'dc_combined.csv')"
   ]
  },
  {
   "cell_type": "code",
   "execution_count": null,
   "id": "d4ff28bd-5554-4533-9dc8-44808c1d0068",
   "metadata": {},
   "outputs": [],
   "source": [
    "objectData = Dataset.select_dtypes(include=[object])\n",
    "objectColumns=list(objectData.columns)\n",
    "print(objectColumns)"
   ]
  },
  {
   "cell_type": "code",
   "execution_count": null,
   "id": "5330cf4b-71ea-43b5-9a7b-51d3308a044b",
   "metadata": {},
   "outputs": [],
   "source": [
    "df = Dataset.drop(columns=objectColumns, inplace=False)"
   ]
  },
  {
   "cell_type": "code",
   "execution_count": null,
   "id": "525c09c3-ad75-44f2-8844-0d89dfa9bc63",
   "metadata": {},
   "outputs": [],
   "source": [
    "df = df.drop(columns=['AtkTool_Benign', 'AtkTool_Goldeneye', 'AtkTool_Hping3', 'AtkTool_Nmap', 'AtkTool_Slowloris', 'AtkTool_Torshammer', 'AtkType_Benign', 'AtkType_HTTPFlood', 'AtkType_ICMPFlood',\n",
    "                 'AtkType_SYNFlood', 'AtkType_SYNScan', 'AtkType_SlowrateDoS', 'AtkType_TCPConnectScan', 'AtkType_UDPFlood', 'AtkType_UDPScan', 'Label_Malicious'])"
   ]
  },
  {
   "cell_type": "code",
   "execution_count": null,
   "id": "6452864c-8508-4791-b617-b3483d2469ba",
   "metadata": {},
   "outputs": [],
   "source": [
    "df.info()"
   ]
  },
  {
   "cell_type": "code",
   "execution_count": null,
   "id": "fa078e71-3205-4c86-9e42-a59b37781f6c",
   "metadata": {},
   "outputs": [],
   "source": [
    "X = df.drop(columns=['Label_Benign'])"
   ]
  },
  {
   "cell_type": "code",
   "execution_count": null,
   "id": "a8e2085c-d897-4d99-aaca-57989d682305",
   "metadata": {},
   "outputs": [],
   "source": [
    "Y = df['Label_Benign']"
   ]
  },
  {
   "cell_type": "code",
   "execution_count": null,
   "id": "f18fc5ec-9036-4944-9d13-bdfd44b5d82b",
   "metadata": {},
   "outputs": [],
   "source": [
    "X_train, X_test, Y_train, Y_test = train_test_split(X, Y, test_size = 0.25, random_state = 42)"
   ]
  },
  {
   "cell_type": "code",
   "execution_count": null,
   "id": "968bf92e-1668-447d-8a5d-df542af8a6fe",
   "metadata": {},
   "outputs": [],
   "source": []
  }
 ],
 "metadata": {
  "kernelspec": {
   "display_name": "Python 3 (ipykernel)",
   "language": "python",
   "name": "python3"
  },
  "language_info": {
   "codemirror_mode": {
    "name": "ipython",
    "version": 3
   },
   "file_extension": ".py",
   "mimetype": "text/x-python",
   "name": "python",
   "nbconvert_exporter": "python",
   "pygments_lexer": "ipython3",
   "version": "3.12.2"
  }
 },
 "nbformat": 4,
 "nbformat_minor": 5
}
