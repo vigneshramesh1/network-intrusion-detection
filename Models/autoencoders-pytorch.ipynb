{
 "metadata": {
  "kernelspec": {
   "language": "python",
   "display_name": "Python 3",
   "name": "python3"
  },
  "language_info": {
   "name": "python",
   "version": "3.10.13",
   "mimetype": "text/x-python",
   "codemirror_mode": {
    "name": "ipython",
    "version": 3
   },
   "pygments_lexer": "ipython3",
   "nbconvert_exporter": "python",
   "file_extension": ".py"
  },
  "kaggle": {
   "accelerator": "gpu",
   "dataSources": [
    {
     "sourceId": 5022035,
     "sourceType": "datasetVersion",
     "datasetId": 2914217
    },
    {
     "sourceId": 7890000,
     "sourceType": "datasetVersion",
     "datasetId": 4632204
    }
   ],
   "dockerImageVersionId": 30664,
   "isInternetEnabled": true,
   "language": "python",
   "sourceType": "notebook",
   "isGpuEnabled": true
  }
 },
 "nbformat_minor": 4,
 "nbformat": 4,
 "cells": [
  {
   "cell_type": "code",
   "source": "# This Python 3 environment comes with many helpful analytics libraries installed\n# It is defined by the kaggle/python Docker image: https://github.com/kaggle/docker-python\n# For example, here's several helpful packages to load\n\nimport numpy as np # linear algebra\nimport pandas as pd # data processing, CSV file I/O (e.g. pd.read_csv)\n\n# Input data files are available in the read-only \"../input/\" directory\n# For example, running this (by clicking run or pressing Shift+Enter) will list all files under the input directory\n\nimport os\nfor dirname, _, filenames in os.walk('/kaggle/input'):\n    for filename in filenames:\n        print(os.path.join(dirname, filename))\n\n# You can write up to 20GB to the current directory (/kaggle/working/) that gets preserved as output when you create a version using \"Save & Run All\" \n# You can also write temporary files to /kaggle/temp/, but they won't be saved outside of the current session",
   "metadata": {
    "_uuid": "8f2839f25d086af736a60e9eeb907d3b93b6e0e5",
    "_cell_guid": "b1076dfc-b9ad-4769-8c92-a6c4dae69d19",
    "execution": {
     "iopub.status.busy": "2024-03-19T23:03:17.159810Z",
     "iopub.execute_input": "2024-03-19T23:03:17.160083Z",
     "iopub.status.idle": "2024-03-19T23:03:17.172303Z",
     "shell.execute_reply.started": "2024-03-19T23:03:17.160059Z",
     "shell.execute_reply": "2024-03-19T23:03:17.171426Z"
    },
    "trusted": true
   },
   "execution_count": 1,
   "outputs": [
    {
     "name": "stdout",
     "text": "/kaggle/input/csv-preprocessed/csv_preprocessed.csv\n/kaggle/input/5g-nidd-dataset/Combined.csv\n",
     "output_type": "stream"
    }
   ]
  },
  {
   "cell_type": "code",
   "source": "import shutil\n\ninput_path = '/kaggle/input/csv-preprocessed'\noutput_path = '/kaggle/working/csv-preprocessed'\n# Copy dataset into working directory\nshutil.copytree(input_path, output_path)",
   "metadata": {
    "execution": {
     "iopub.status.busy": "2024-03-19T23:04:31.069533Z",
     "iopub.execute_input": "2024-03-19T23:04:31.070435Z",
     "iopub.status.idle": "2024-03-19T23:04:41.906046Z",
     "shell.execute_reply.started": "2024-03-19T23:04:31.070405Z",
     "shell.execute_reply": "2024-03-19T23:04:41.904989Z"
    },
    "trusted": true
   },
   "execution_count": 2,
   "outputs": [
    {
     "execution_count": 2,
     "output_type": "execute_result",
     "data": {
      "text/plain": "'/kaggle/working/csv-preprocessed'"
     },
     "metadata": {}
    }
   ]
  },
  {
   "cell_type": "code",
   "source": "cd /kaggle/working/csv-preprocessed",
   "metadata": {
    "execution": {
     "iopub.status.busy": "2024-03-19T23:05:06.266779Z",
     "iopub.execute_input": "2024-03-19T23:05:06.267519Z",
     "iopub.status.idle": "2024-03-19T23:05:06.273341Z",
     "shell.execute_reply.started": "2024-03-19T23:05:06.267480Z",
     "shell.execute_reply": "2024-03-19T23:05:06.272292Z"
    },
    "trusted": true
   },
   "execution_count": 3,
   "outputs": [
    {
     "name": "stdout",
     "text": "/kaggle/working/csv-preprocessed\n",
     "output_type": "stream"
    }
   ]
  },
  {
   "cell_type": "code",
   "source": "!pip install torch",
   "metadata": {
    "execution": {
     "iopub.status.busy": "2024-03-19T23:05:16.710543Z",
     "iopub.execute_input": "2024-03-19T23:05:16.710898Z",
     "iopub.status.idle": "2024-03-19T23:05:29.534124Z",
     "shell.execute_reply.started": "2024-03-19T23:05:16.710862Z",
     "shell.execute_reply": "2024-03-19T23:05:29.533162Z"
    },
    "trusted": true
   },
   "execution_count": 4,
   "outputs": [
    {
     "name": "stdout",
     "text": "Requirement already satisfied: torch in /opt/conda/lib/python3.10/site-packages (2.1.2)\nRequirement already satisfied: filelock in /opt/conda/lib/python3.10/site-packages (from torch) (3.13.1)\nRequirement already satisfied: typing-extensions in /opt/conda/lib/python3.10/site-packages (from torch) (4.9.0)\nRequirement already satisfied: sympy in /opt/conda/lib/python3.10/site-packages (from torch) (1.12)\nRequirement already satisfied: networkx in /opt/conda/lib/python3.10/site-packages (from torch) (3.2.1)\nRequirement already satisfied: jinja2 in /opt/conda/lib/python3.10/site-packages (from torch) (3.1.2)\nRequirement already satisfied: fsspec in /opt/conda/lib/python3.10/site-packages (from torch) (2024.2.0)\nRequirement already satisfied: MarkupSafe>=2.0 in /opt/conda/lib/python3.10/site-packages (from jinja2->torch) (2.1.3)\nRequirement already satisfied: mpmath>=0.19 in /opt/conda/lib/python3.10/site-packages (from sympy->torch) (1.3.0)\n",
     "output_type": "stream"
    }
   ]
  },
  {
   "cell_type": "code",
   "source": [
    "import numpy as np\n",
    "import pandas as pd\n",
    "import matplotlib.pyplot as plt\n",
    "import seaborn as sns\n",
    "import multiprocessing\n",
    "import torch\n",
    "from torch.utils.data import Dataset, DataLoader\n",
    "from torch.utils.data.sampler import SubsetRandomSampler\n",
    "from tqdm import tqdm\n",
    "from sklearn.model_selection import train_test_split"
   ],
   "metadata": {
    "execution": {
     "iopub.status.busy": "2024-03-19T23:06:15.428200Z",
     "iopub.execute_input": "2024-03-19T23:06:15.428862Z",
     "iopub.status.idle": "2024-03-19T23:06:15.435170Z",
     "shell.execute_reply.started": "2024-03-19T23:06:15.428831Z",
     "shell.execute_reply": "2024-03-19T23:06:15.434258Z"
    },
    "trusted": true
   },
   "execution_count": 6,
   "outputs": []
  },
  {
   "cell_type": "code",
   "source": "# Use GPU if it's available\ndevice = torch.device(\"cuda\" if torch.cuda.is_available() else \"cpu\")\nprint('Torch', torch.__version__, 'CUDA', torch.version.cuda)\nprint('Device:', torch.device('cuda:0'))\ndevice",
   "metadata": {
    "execution": {
     "iopub.status.busy": "2024-03-19T23:06:25.539226Z",
     "iopub.execute_input": "2024-03-19T23:06:25.539893Z",
     "iopub.status.idle": "2024-03-19T23:06:25.574946Z",
     "shell.execute_reply.started": "2024-03-19T23:06:25.539865Z",
     "shell.execute_reply": "2024-03-19T23:06:25.574024Z"
    },
    "trusted": true
   },
   "execution_count": 7,
   "outputs": [
    {
     "name": "stdout",
     "text": "Torch 2.1.2 CUDA 12.1\nDevice: cuda:0\n",
     "output_type": "stream"
    },
    {
     "execution_count": 7,
     "output_type": "execute_result",
     "data": {
      "text/plain": "device(type='cuda')"
     },
     "metadata": {}
    }
   ]
  },
  {
   "cell_type": "code",
   "source": "# number of subprocesses to use for data loading\nnum_workers = multiprocessing.cpu_count()\n\n# how many samples per batch to load\nbatch_size = 64\n\n# percentage of data set to use as validation\nvalid_size = 0.15",
   "metadata": {
    "execution": {
     "iopub.status.busy": "2024-03-19T23:06:28.174286Z",
     "iopub.execute_input": "2024-03-19T23:06:28.174664Z",
     "iopub.status.idle": "2024-03-19T23:06:28.179249Z",
     "shell.execute_reply.started": "2024-03-19T23:06:28.174607Z",
     "shell.execute_reply": "2024-03-19T23:06:28.178302Z"
    },
    "trusted": true
   },
   "execution_count": 8,
   "outputs": []
  },
  {
   "cell_type": "code",
   "source": "df = pd.read_csv('csv_preprocessed.csv', low_memory=False)\nprint(df.shape)\ndf.head()",
   "metadata": {
    "execution": {
     "iopub.status.busy": "2024-03-19T23:06:40.537545Z",
     "iopub.execute_input": "2024-03-19T23:06:40.538188Z",
     "iopub.status.idle": "2024-03-19T23:07:00.391548Z",
     "shell.execute_reply.started": "2024-03-19T23:06:40.538155Z",
     "shell.execute_reply": "2024-03-19T23:07:00.390675Z"
    },
    "trusted": true
   },
   "execution_count": 9,
   "outputs": [
    {
     "name": "stdout",
     "text": "(1215675, 63)\n",
     "output_type": "stream"
    },
    {
     "execution_count": 9,
     "output_type": "execute_result",
     "data": {
      "text/plain": "        Dur      sTos      dTos      sTtl     dTtl     sHops     dHops  \\\n0 -0.807085 -0.069046 -0.094739 -0.419379 -0.00732  1.050111 -0.973059   \n1 -0.807085 -0.069046 -0.094739 -0.419379 -0.00732  1.050111 -0.973059   \n2  2.147963 -0.069046 -0.094739  0.635573 -0.00732  2.452913 -0.973059   \n3  2.147973 -0.069046 -0.094739  0.635573 -0.00732  2.452913 -0.973059   \n4  2.148810 -0.069046 -0.094739  0.635573 -0.00732  2.452913 -0.973059   \n\n    TotPkts    SrcPkts   DstPkts  ...  Cause_Status  State_ACC  State_CON  \\\n0 -0.167011  -0.146696 -0.115856  ...           0.0        0.0        0.0   \n1 -0.167011  -0.146696 -0.115856  ...           0.0        0.0        0.0   \n2  8.414004  10.443194  1.327973  ...           0.0        0.0        1.0   \n3  7.205410   8.651059  1.568612  ...           0.0        0.0        1.0   \n4  8.776582  10.877651  1.408186  ...           0.0        0.0        1.0   \n\n   State_ECO  State_FIN  State_INT  State_REQ  State_RST  State_URP  \\\n0        1.0        0.0        0.0        0.0        0.0        0.0   \n1        1.0        0.0        0.0        0.0        0.0        0.0   \n2        0.0        0.0        0.0        0.0        0.0        0.0   \n3        0.0        0.0        0.0        0.0        0.0        0.0   \n4        0.0        0.0        0.0        0.0        0.0        0.0   \n\n   Attack Type  \n0            0  \n1            0  \n2            0  \n3            0  \n4            0  \n\n[5 rows x 63 columns]",
      "text/html": "<div>\n<style scoped>\n    .dataframe tbody tr th:only-of-type {\n        vertical-align: middle;\n    }\n\n    .dataframe tbody tr th {\n        vertical-align: top;\n    }\n\n    .dataframe thead th {\n        text-align: right;\n    }\n</style>\n<table border=\"1\" class=\"dataframe\">\n  <thead>\n    <tr style=\"text-align: right;\">\n      <th></th>\n      <th>Dur</th>\n      <th>sTos</th>\n      <th>dTos</th>\n      <th>sTtl</th>\n      <th>dTtl</th>\n      <th>sHops</th>\n      <th>dHops</th>\n      <th>TotPkts</th>\n      <th>SrcPkts</th>\n      <th>DstPkts</th>\n      <th>...</th>\n      <th>Cause_Status</th>\n      <th>State_ACC</th>\n      <th>State_CON</th>\n      <th>State_ECO</th>\n      <th>State_FIN</th>\n      <th>State_INT</th>\n      <th>State_REQ</th>\n      <th>State_RST</th>\n      <th>State_URP</th>\n      <th>Attack Type</th>\n    </tr>\n  </thead>\n  <tbody>\n    <tr>\n      <th>0</th>\n      <td>-0.807085</td>\n      <td>-0.069046</td>\n      <td>-0.094739</td>\n      <td>-0.419379</td>\n      <td>-0.00732</td>\n      <td>1.050111</td>\n      <td>-0.973059</td>\n      <td>-0.167011</td>\n      <td>-0.146696</td>\n      <td>-0.115856</td>\n      <td>...</td>\n      <td>0.0</td>\n      <td>0.0</td>\n      <td>0.0</td>\n      <td>1.0</td>\n      <td>0.0</td>\n      <td>0.0</td>\n      <td>0.0</td>\n      <td>0.0</td>\n      <td>0.0</td>\n      <td>0</td>\n    </tr>\n    <tr>\n      <th>1</th>\n      <td>-0.807085</td>\n      <td>-0.069046</td>\n      <td>-0.094739</td>\n      <td>-0.419379</td>\n      <td>-0.00732</td>\n      <td>1.050111</td>\n      <td>-0.973059</td>\n      <td>-0.167011</td>\n      <td>-0.146696</td>\n      <td>-0.115856</td>\n      <td>...</td>\n      <td>0.0</td>\n      <td>0.0</td>\n      <td>0.0</td>\n      <td>1.0</td>\n      <td>0.0</td>\n      <td>0.0</td>\n      <td>0.0</td>\n      <td>0.0</td>\n      <td>0.0</td>\n      <td>0</td>\n    </tr>\n    <tr>\n      <th>2</th>\n      <td>2.147963</td>\n      <td>-0.069046</td>\n      <td>-0.094739</td>\n      <td>0.635573</td>\n      <td>-0.00732</td>\n      <td>2.452913</td>\n      <td>-0.973059</td>\n      <td>8.414004</td>\n      <td>10.443194</td>\n      <td>1.327973</td>\n      <td>...</td>\n      <td>0.0</td>\n      <td>0.0</td>\n      <td>1.0</td>\n      <td>0.0</td>\n      <td>0.0</td>\n      <td>0.0</td>\n      <td>0.0</td>\n      <td>0.0</td>\n      <td>0.0</td>\n      <td>0</td>\n    </tr>\n    <tr>\n      <th>3</th>\n      <td>2.147973</td>\n      <td>-0.069046</td>\n      <td>-0.094739</td>\n      <td>0.635573</td>\n      <td>-0.00732</td>\n      <td>2.452913</td>\n      <td>-0.973059</td>\n      <td>7.205410</td>\n      <td>8.651059</td>\n      <td>1.568612</td>\n      <td>...</td>\n      <td>0.0</td>\n      <td>0.0</td>\n      <td>1.0</td>\n      <td>0.0</td>\n      <td>0.0</td>\n      <td>0.0</td>\n      <td>0.0</td>\n      <td>0.0</td>\n      <td>0.0</td>\n      <td>0</td>\n    </tr>\n    <tr>\n      <th>4</th>\n      <td>2.148810</td>\n      <td>-0.069046</td>\n      <td>-0.094739</td>\n      <td>0.635573</td>\n      <td>-0.00732</td>\n      <td>2.452913</td>\n      <td>-0.973059</td>\n      <td>8.776582</td>\n      <td>10.877651</td>\n      <td>1.408186</td>\n      <td>...</td>\n      <td>0.0</td>\n      <td>0.0</td>\n      <td>1.0</td>\n      <td>0.0</td>\n      <td>0.0</td>\n      <td>0.0</td>\n      <td>0.0</td>\n      <td>0.0</td>\n      <td>0.0</td>\n      <td>0</td>\n    </tr>\n  </tbody>\n</table>\n<p>5 rows × 63 columns</p>\n</div>"
     },
     "metadata": {}
    }
   ]
  },
  {
   "cell_type": "code",
   "source": "num_classes = df['Attack Type'].nunique()\nlabels = df['Attack Type'].unique()\nprint(labels)\nprint(num_classes)",
   "metadata": {
    "execution": {
     "iopub.status.busy": "2024-03-19T23:07:13.225417Z",
     "iopub.execute_input": "2024-03-19T23:07:13.225883Z",
     "iopub.status.idle": "2024-03-19T23:07:13.248702Z",
     "shell.execute_reply.started": "2024-03-19T23:07:13.225847Z",
     "shell.execute_reply": "2024-03-19T23:07:13.247745Z"
    },
    "trusted": true
   },
   "execution_count": 10,
   "outputs": [
    {
     "name": "stdout",
     "text": "[0 4 6 8 2 7 3 1 5]\n9\n",
     "output_type": "stream"
    }
   ]
  },
  {
   "cell_type": "code",
   "source": "# Train Test split\nX_train, X_test, y_train, y_test = train_test_split(df.loc[:, df.columns != 'Attack Type'], df['Attack Type'],\n                                                    stratify=df['Attack Type'], \n                                                    test_size=0.15)\n\nX_train = pd.DataFrame(X_train, columns=df.columns.to_list()[:-1])\nX_test = pd.DataFrame(X_test, columns=df.columns.to_list()[:-1])\ny_train = pd.DataFrame(y_train, columns=['Attack Type'])\ny_test = pd.DataFrame(y_test, columns=['Attack Type'])\n\nprint(\"Training dataset size:\", X_train.shape)\nprint(\"Testing dataset size:\", X_test.shape)\nprint(\"Training target size:\", y_train.shape)\nprint(\"Testing target size:\", y_test.shape)",
   "metadata": {
    "execution": {
     "iopub.status.busy": "2024-03-19T23:07:58.625360Z",
     "iopub.execute_input": "2024-03-19T23:07:58.625861Z",
     "iopub.status.idle": "2024-03-19T23:07:59.910451Z",
     "shell.execute_reply.started": "2024-03-19T23:07:58.625827Z",
     "shell.execute_reply": "2024-03-19T23:07:59.909510Z"
    },
    "trusted": true
   },
   "execution_count": 11,
   "outputs": [
    {
     "name": "stdout",
     "text": "Training dataset size: (1033323, 62)\nTesting dataset size: (182352, 62)\nTraining target size: (1033323, 1)\nTesting target size: (182352, 1)\n",
     "output_type": "stream"
    }
   ]
  },
  {
   "cell_type": "code",
   "source": "class CustomTabularDataset(Dataset):\n    def __init__(self, data):\n        # Load and preprocess your tabular data here\n        self.features = torch.tensor(data['features'].values, dtype=torch.float32)\n        self.labels = torch.tensor(data['labels'].values, dtype=torch.float32)\n\n    def __len__(self):\n        return len(self.features)\n\n    def __getitem__(self, idx):\n        return self.features[idx], self.labels[idx]",
   "metadata": {
    "execution": {
     "iopub.status.busy": "2024-03-19T23:08:04.483817Z",
     "iopub.execute_input": "2024-03-19T23:08:04.484167Z",
     "iopub.status.idle": "2024-03-19T23:08:04.490855Z",
     "shell.execute_reply.started": "2024-03-19T23:08:04.484140Z",
     "shell.execute_reply": "2024-03-19T23:08:04.489893Z"
    },
    "trusted": true
   },
   "execution_count": 12,
   "outputs": []
  },
  {
   "cell_type": "code",
   "source": "# obtain training indices that will be used for validation\nnum_train = len(X_train)\nindices = list(range(num_train))\n\nnp.random.shuffle(indices)\nsplit = int(np.floor(valid_size * (df.shape[0])))\ntrain_idx, valid_idx = indices[split:], indices[:split]\n\n# define samplers for obtaining training and validation batches\ntrain_sampler = SubsetRandomSampler(train_idx)\nvalid_sampler = SubsetRandomSampler(valid_idx)",
   "metadata": {
    "execution": {
     "iopub.status.busy": "2024-03-19T23:08:05.573779Z",
     "iopub.execute_input": "2024-03-19T23:08:05.574110Z",
     "iopub.status.idle": "2024-03-19T23:08:05.733408Z",
     "shell.execute_reply.started": "2024-03-19T23:08:05.574087Z",
     "shell.execute_reply": "2024-03-19T23:08:05.732525Z"
    },
    "trusted": true
   },
   "execution_count": 13,
   "outputs": []
  },
  {
   "cell_type": "code",
   "source": "print('Training set size:', num_train - split)\nprint('Validation set size:', split)\nprint('Testing set size:', len(X_test))",
   "metadata": {
    "execution": {
     "iopub.status.busy": "2024-03-19T23:08:07.117326Z",
     "iopub.execute_input": "2024-03-19T23:08:07.117673Z",
     "iopub.status.idle": "2024-03-19T23:08:07.123231Z",
     "shell.execute_reply.started": "2024-03-19T23:08:07.117647Z",
     "shell.execute_reply": "2024-03-19T23:08:07.122288Z"
    },
    "trusted": true
   },
   "execution_count": 14,
   "outputs": [
    {
     "name": "stdout",
     "text": "Training set size: 850972\nValidation set size: 182351\nTesting set size: 182352\n",
     "output_type": "stream"
    }
   ]
  },
  {
   "cell_type": "code",
   "source": "train_data = {'features': X_train,  # Your feature data (Pandas DataFrame or similar)\n        'labels': y_train}     # Your label data\n\ndataset = CustomTabularDataset(train_data)\n\n# prepare data loaders (combine dataset and sampler)\ntrain_loader = torch.utils.data.DataLoader(dataset, batch_size=batch_size,\n    sampler=train_sampler, num_workers=num_workers)\nvalid_loader = torch.utils.data.DataLoader(dataset, batch_size=batch_size,\n    sampler=valid_sampler, num_workers=num_workers)",
   "metadata": {
    "execution": {
     "iopub.status.busy": "2024-03-19T23:08:32.865000Z",
     "iopub.execute_input": "2024-03-19T23:08:32.865591Z",
     "iopub.status.idle": "2024-03-19T23:08:32.933453Z",
     "shell.execute_reply.started": "2024-03-19T23:08:32.865559Z",
     "shell.execute_reply": "2024-03-19T23:08:32.932668Z"
    },
    "trusted": true
   },
   "execution_count": 15,
   "outputs": []
  },
  {
   "cell_type": "code",
   "source": "# Number of features\nnum_features = X_train.shape[1]",
   "metadata": {
    "execution": {
     "iopub.status.busy": "2024-03-19T23:08:35.194489Z",
     "iopub.execute_input": "2024-03-19T23:08:35.195311Z",
     "iopub.status.idle": "2024-03-19T23:08:35.198952Z",
     "shell.execute_reply.started": "2024-03-19T23:08:35.195281Z",
     "shell.execute_reply": "2024-03-19T23:08:35.198000Z"
    },
    "trusted": true
   },
   "execution_count": 16,
   "outputs": []
  },
  {
   "cell_type": "code",
   "source": "# Creating a PyTorch class\n# input_features ==> 12 ==> 32\nclass Autoencoder(torch.nn.Module):\n    def __init__(self):\n        super(Autoencoder, self).__init__()\n\n        # Building an linear encoder with Linear\n        # layer followed by Tanh activation function\n        # input_features ===> 12\n        self.encoder = torch.nn.Sequential(\n            torch.nn.Linear(num_features, 32),\n            torch.nn.Tanh(),\n            torch.nn.Linear(32, 16),\n            torch.nn.Tanh(),\n            torch.nn.Linear(16, 12),\n            torch.nn.Tanh(),  \n        )\n        \n        # Dense neural network layers\n        self.dense_nn = torch.nn.Sequential(\n            torch.nn.Linear(12, 32),  # Input size is 12 from the encoder\n            torch.nn.BatchNorm1d(32),            \n            torch.nn.ReLU(), \n            torch.nn.Dropout(0.2),            \n            torch.nn.Linear(32, 64),\n            torch.nn.BatchNorm1d(64),                \n            torch.nn.ReLU(),\n            torch.nn.Dropout(0.2),              \n            torch.nn.Linear(64, 32),\n            torch.nn.BatchNorm1d(32),                \n            torch.nn.ReLU(),\n            torch.nn.Dropout(0.2),            \n            torch.nn.Linear(32, num_classes),  # Output size is the number of classes\n            torch.nn.Softmax(dim=1)\n        )        \n\n    def forward(self, x):\n        encoded = self.encoder(x)\n        output = self.dense_nn(encoded)\n        return output",
   "metadata": {
    "execution": {
     "iopub.status.busy": "2024-03-19T23:08:42.064212Z",
     "iopub.execute_input": "2024-03-19T23:08:42.064561Z",
     "iopub.status.idle": "2024-03-19T23:08:42.074291Z",
     "shell.execute_reply.started": "2024-03-19T23:08:42.064533Z",
     "shell.execute_reply": "2024-03-19T23:08:42.073388Z"
    },
    "trusted": true
   },
   "execution_count": 17,
   "outputs": []
  },
  {
   "cell_type": "code",
   "source": "# Model Initialization\nmodel = Autoencoder()\n\n# Validation using CrossEntropyLoss function\nloss_function = torch.nn.CrossEntropyLoss()\n\n# Using an Adam Optimizer with lr = 0.1\noptimizer = torch.optim.Adam(model.parameters(),\n                            lr = 0.001,\n                            weight_decay = 1e-8)\n",
   "metadata": {
    "execution": {
     "iopub.status.busy": "2024-03-19T23:08:45.046146Z",
     "iopub.execute_input": "2024-03-19T23:08:45.046492Z",
     "iopub.status.idle": "2024-03-19T23:08:47.659940Z",
     "shell.execute_reply.started": "2024-03-19T23:08:45.046464Z",
     "shell.execute_reply": "2024-03-19T23:08:47.659134Z"
    },
    "trusted": true
   },
   "execution_count": 18,
   "outputs": []
  },
  {
   "cell_type": "code",
   "source": "# number of epochs to train the model\nn_epochs = 8\n\n# initialize tracker for minimum validation loss\nvalid_loss_min = np.Inf # set initial \"min\" to infinity\ntrain_loss_min = np.Inf # set initial \"min\" to infinity\n\n# Lists to store training and validation accuracy during training\ntraining_loss = np.array([])\nvalidation_loss = np.array([])\n\ntraining_accuracy = np.array([])\nvalidation_accuracy = np.array([])\n\n# Moving model tensor to GPU if available\nmodel = model.to(device)\n\nfor epoch in range(1, n_epochs+1):\n\n    # keep track of training and validation loss and accuracy\n    train_loss = 0.0\n    valid_loss = 0.0\n    total_train_correct = 0\n    total_train_samples = 0\n    total_valid_correct = 0\n    total_valid_samples = 0\n\n    ###################\n    # train the model #\n    ###################\n\n    # model by default is set to train\n    model.train()\n\n    for data, target in tqdm(train_loader):        \n\n        # Moving input tensors to GPU if available\n        data, target = data.to(device), target.to(device)\n\n        # Forward prop:\n\n        # forward pass: compute predicted outputs by passing inputs to the model\n        output = model(data.float())    \n        \n        # Moving output tensor to GPU if available\n        output = output.to(device)\n\n        # calculate the batch loss\n        loss = loss_function(output, target.reshape(-1).long())\n        \n        # Backward prop:\n\n        # clear the gradients of all optimized variables\n        optimizer.zero_grad()\n\n        # backward pass: compute gradient of the loss with respect to model parameters\n        loss.backward()\n\n        # perform a single optimization step (parameter update)\n        optimizer.step()\n\n        # Metrics:\n\n        # update training loss\n        train_loss += loss.item()\n\n        # Calculate training accuracy\n        _, predicted = torch.max(output, 1)\n        total_train_correct += (predicted == target.view(*predicted.shape)).sum().item()\n        total_train_samples += target.size(0)\n\n\n    ######################\n    # validate the model #\n    ######################\n\n    model.eval() # prep model for evaluation\n\n    for data, target in tqdm(valid_loader):\n        \n        # Moving input tensors to GPU if available\n        data, target = data.to(device), target.to(device)\n        \n        # forward pass: compute predicted outputs by passing inputs to the model\n        output = model(data.float())\n        output = output.to(device)\n        \n        # calculate the loss\n        loss = loss_function(output, target.reshape(-1).long())        \n        \n        # update running validation loss\n        valid_loss += loss.item()\n        \n        # Calculate validation accuracy\n        _, predicted = torch.max(output, 1)\n        total_valid_correct += (predicted == target.view(*predicted.shape)).sum().item()\n        total_valid_samples += target.size(0)\n\n\n    # print training/validation statistics\n    \n    train_acc = 100 * total_train_correct / total_train_samples\n    valid_acc = 100 * total_valid_correct / total_valid_samples\n    \n    training_accuracy = np.append(training_accuracy, train_acc)\n    validation_accuracy = np.append(validation_accuracy, valid_acc)\n    \n    # calculate average loss over an epoch\n    train_loss = train_loss/len(train_loader)\n    valid_loss = valid_loss/len(valid_loader)\n    \n    training_loss = np.append(training_loss, train_loss)\n    validation_loss = np.append(validation_loss, valid_loss)\n\n    print('Epoch: {} \\tTraining Loss: {:.6f} \\tValidation Loss: {:.6f}'.format(\n        epoch,\n        train_loss,\n        valid_loss\n    ))\n    \n    print('Epoch: {} \\tTraining Accuracy: {:.6f} \\tValidation Accuracy: {:.6f}'.format(\n        epoch,\n        train_acc,\n        valid_acc\n    ))\n\n    # save model if validation loss has decreased\n    if valid_loss <= valid_loss_min and train_loss <= train_loss_min:\n        print('Training loss decreased ({:.6f} --> {:.6f}).'.format(\n            train_loss_min,\n            train_loss))\n        print('Validation loss decreased ({:.6f} --> {:.6f}).  Saving model ...'.format(\n            valid_loss_min,\n            valid_loss))\n        torch.save(model.state_dict(), 'model_pytorch_autoencoders.pt')\n        valid_loss_min = valid_loss\n        train_loss_min = train_loss",
   "metadata": {
    "execution": {
     "iopub.status.busy": "2024-03-19T23:08:52.531132Z",
     "iopub.execute_input": "2024-03-19T23:08:52.531669Z",
     "iopub.status.idle": "2024-03-19T23:19:06.168841Z",
     "shell.execute_reply.started": "2024-03-19T23:08:52.531636Z",
     "shell.execute_reply": "2024-03-19T23:19:06.167708Z"
    },
    "trusted": true
   },
   "execution_count": 19,
   "outputs": [
    {
     "name": "stderr",
     "text": "100%|██████████| 13297/13297 [01:07<00:00, 197.91it/s]\n100%|██████████| 2850/2850 [00:08<00:00, 354.11it/s]\n",
     "output_type": "stream"
    },
    {
     "name": "stdout",
     "text": "Epoch: 1 \tTraining Loss: 1.393928 \tValidation Loss: 1.376756\nEpoch: 1 \tTraining Accuracy: 98.036481 \tValidation Accuracy: 99.515221\nTraining loss decreased (inf --> 1.393928).\nValidation loss decreased (inf --> 1.376756).  Saving model ...\n",
     "output_type": "stream"
    },
    {
     "name": "stderr",
     "text": "100%|██████████| 13297/13297 [01:08<00:00, 195.02it/s]\n100%|██████████| 2850/2850 [00:08<00:00, 332.80it/s]\n",
     "output_type": "stream"
    },
    {
     "name": "stdout",
     "text": "Epoch: 2 \tTraining Loss: 1.378297 \tValidation Loss: 1.376555\nEpoch: 2 \tTraining Accuracy: 99.375185 \tValidation Accuracy: 99.534414\nTraining loss decreased (1.393928 --> 1.378297).\nValidation loss decreased (1.376756 --> 1.376555).  Saving model ...\n",
     "output_type": "stream"
    },
    {
     "name": "stderr",
     "text": "100%|██████████| 13297/13297 [01:08<00:00, 195.01it/s]\n100%|██████████| 2850/2850 [00:08<00:00, 346.98it/s]\n",
     "output_type": "stream"
    },
    {
     "name": "stdout",
     "text": "Epoch: 3 \tTraining Loss: 1.376981 \tValidation Loss: 1.375363\nEpoch: 3 \tTraining Accuracy: 99.505154 \tValidation Accuracy: 99.659996\nTraining loss decreased (1.378297 --> 1.376981).\nValidation loss decreased (1.376555 --> 1.375363).  Saving model ...\n",
     "output_type": "stream"
    },
    {
     "name": "stderr",
     "text": "100%|██████████| 13297/13297 [01:09<00:00, 192.47it/s]\n100%|██████████| 2850/2850 [00:08<00:00, 339.42it/s]\n",
     "output_type": "stream"
    },
    {
     "name": "stdout",
     "text": "Epoch: 4 \tTraining Loss: 1.376710 \tValidation Loss: 1.375638\nEpoch: 4 \tTraining Accuracy: 99.529479 \tValidation Accuracy: 99.631480\n",
     "output_type": "stream"
    },
    {
     "name": "stderr",
     "text": "100%|██████████| 13297/13297 [01:07<00:00, 195.55it/s]\n100%|██████████| 2850/2850 [00:08<00:00, 343.41it/s]\n",
     "output_type": "stream"
    },
    {
     "name": "stdout",
     "text": "Epoch: 5 \tTraining Loss: 1.376621 \tValidation Loss: 1.375087\nEpoch: 5 \tTraining Accuracy: 99.535590 \tValidation Accuracy: 99.686319\nTraining loss decreased (1.376981 --> 1.376621).\nValidation loss decreased (1.375363 --> 1.375087).  Saving model ...\n",
     "output_type": "stream"
    },
    {
     "name": "stderr",
     "text": "100%|██████████| 13297/13297 [01:08<00:00, 194.04it/s]\n100%|██████████| 2850/2850 [00:08<00:00, 335.85it/s]\n",
     "output_type": "stream"
    },
    {
     "name": "stdout",
     "text": "Epoch: 6 \tTraining Loss: 1.376128 \tValidation Loss: 1.375744\nEpoch: 6 \tTraining Accuracy: 99.584005 \tValidation Accuracy: 99.621060\n",
     "output_type": "stream"
    },
    {
     "name": "stderr",
     "text": "100%|██████████| 13297/13297 [01:08<00:00, 194.48it/s]\n100%|██████████| 2850/2850 [00:08<00:00, 343.68it/s]\n",
     "output_type": "stream"
    },
    {
     "name": "stdout",
     "text": "Epoch: 7 \tTraining Loss: 1.376149 \tValidation Loss: 1.376013\nEpoch: 7 \tTraining Accuracy: 99.581772 \tValidation Accuracy: 99.593641\n",
     "output_type": "stream"
    },
    {
     "name": "stderr",
     "text": "100%|██████████| 13297/13297 [01:09<00:00, 192.10it/s]\n100%|██████████| 2850/2850 [00:08<00:00, 341.87it/s]",
     "output_type": "stream"
    },
    {
     "name": "stdout",
     "text": "Epoch: 8 \tTraining Loss: 1.376340 \tValidation Loss: 1.375207\nEpoch: 8 \tTraining Accuracy: 99.562970 \tValidation Accuracy: 99.674255\n",
     "output_type": "stream"
    },
    {
     "name": "stderr",
     "text": "\n",
     "output_type": "stream"
    }
   ]
  },
  {
   "cell_type": "code",
   "source": "fig, ax = plt.subplots(2, 1, figsize=(8, 8))\nepochs = np.arange(1, n_epochs+1)\n\n# First row for accuracy\nax[0].plot(epochs, training_accuracy, label='Training Accuracy', marker='o')\nax[0].plot(epochs, validation_accuracy, label='Validation Accuracy', marker='x')\nax[0].set_xlabel('Epoch')\nax[0].set_ylabel('Accuracy', color='black')\nax[0].tick_params(axis='y', labelcolor='black')\nax[0].legend(loc='lower right')\nax[0].grid(True)\n\n\n# Second row for loss\nax[1].plot(epochs, training_loss, label='Training Loss', marker='o')\nax[1].plot(epochs, validation_loss, label='Validation Loss', marker='x')\nax[1].set_xlabel('Epoch')\nax[1].set_ylabel('Loss', color='black')\nax[1].tick_params(axis='y', labelcolor='black')\nax[1].legend(loc='upper right')\nax[1].grid(True)\n\nplt.tight_layout()\nplt.show()",
   "metadata": {
    "execution": {
     "iopub.status.busy": "2024-03-19T23:19:13.406284Z",
     "iopub.execute_input": "2024-03-19T23:19:13.406705Z",
     "iopub.status.idle": "2024-03-19T23:19:14.041539Z",
     "shell.execute_reply.started": "2024-03-19T23:19:13.406669Z",
     "shell.execute_reply": "2024-03-19T23:19:14.040604Z"
    },
    "trusted": true
   },
   "execution_count": 20,
   "outputs": [
    {
     "output_type": "display_data",
     "data": {
      "text/plain": "<Figure size 800x800 with 2 Axes>",
      "image/png": "[encoded data removed]"
     },
     "metadata": {}
    }
   ]
  },
  {
   "cell_type": "markdown",
   "source": "Testing phase:",
   "metadata": {}
  },
  {
   "cell_type": "code",
   "source": "print(\"Testing dataset size:\", X_test.shape)\nprint(\"Testing target size:\", y_test.shape)\n\nX_test.head()",
   "metadata": {
    "execution": {
     "iopub.status.busy": "2024-03-19T23:20:07.476699Z",
     "iopub.execute_input": "2024-03-19T23:20:07.477584Z",
     "iopub.status.idle": "2024-03-19T23:20:07.509940Z",
     "shell.execute_reply.started": "2024-03-19T23:20:07.477556Z",
     "shell.execute_reply": "2024-03-19T23:20:07.508924Z"
    },
    "trusted": true
   },
   "execution_count": 21,
   "outputs": [
    {
     "name": "stdout",
     "text": "Testing dataset size: (182352, 62)\nTesting target size: (182352, 1)\n",
     "output_type": "stream"
    },
    {
     "execution_count": 21,
     "output_type": "execute_result",
     "data": {
      "text/plain": "             Dur      sTos          dTos      sTtl          dTtl     sHops  \\\n511864 -0.807085 -0.069046 -9.473906e-02 -0.329976 -7.320131e-03 -0.352692   \n855998  0.716609 -0.069046 -1.773502e-16 -0.329976  1.190749e-13 -0.352692   \n595929 -0.807085 -0.069046 -9.473906e-02 -0.329976 -3.813893e-01 -0.352692   \n784322 -0.807085 -0.069046 -1.773502e-16 -0.329976  1.190749e-13 -0.352692   \n114250  1.898363 -0.069046 -1.773502e-16 -0.329976  1.190749e-13 -0.352692   \n\n               dHops   TotPkts   SrcPkts   DstPkts  ...  Cause_Start  \\\n511864 -9.730588e-01 -0.167011 -0.146696 -0.115856  ...          0.0   \n855998 -1.939318e-13 -0.126725 -0.092389 -0.115856  ...          1.0   \n595929  1.252708e+00 -0.126725 -0.146696 -0.035643  ...          0.0   \n784322 -1.939318e-13 -0.167011 -0.146696 -0.115856  ...          1.0   \n114250 -1.939318e-13 -0.086438 -0.038082 -0.115856  ...          0.0   \n\n        Cause_Status  State_ACC  State_CON  State_ECO  State_FIN  State_INT  \\\n511864           1.0        0.0        0.0        0.0        0.0        0.0   \n855998           0.0        0.0        0.0        0.0        0.0        1.0   \n595929           1.0        0.0        0.0        0.0        1.0        0.0   \n784322           0.0        0.0        0.0        0.0        0.0        1.0   \n114250           1.0        0.0        0.0        0.0        0.0        0.0   \n\n        State_REQ  State_RST  State_URP  \n511864        1.0        0.0        0.0  \n855998        0.0        0.0        0.0  \n595929        0.0        0.0        0.0  \n784322        0.0        0.0        0.0  \n114250        1.0        0.0        0.0  \n\n[5 rows x 62 columns]",
      "text/html": "<div>\n<style scoped>\n    .dataframe tbody tr th:only-of-type {\n        vertical-align: middle;\n    }\n\n    .dataframe tbody tr th {\n        vertical-align: top;\n    }\n\n    .dataframe thead th {\n        text-align: right;\n    }\n</style>\n<table border=\"1\" class=\"dataframe\">\n  <thead>\n    <tr style=\"text-align: right;\">\n      <th></th>\n      <th>Dur</th>\n      <th>sTos</th>\n      <th>dTos</th>\n      <th>sTtl</th>\n      <th>dTtl</th>\n      <th>sHops</th>\n      <th>dHops</th>\n      <th>TotPkts</th>\n      <th>SrcPkts</th>\n      <th>DstPkts</th>\n      <th>...</th>\n      <th>Cause_Start</th>\n      <th>Cause_Status</th>\n      <th>State_ACC</th>\n      <th>State_CON</th>\n      <th>State_ECO</th>\n      <th>State_FIN</th>\n      <th>State_INT</th>\n      <th>State_REQ</th>\n      <th>State_RST</th>\n      <th>State_URP</th>\n    </tr>\n  </thead>\n  <tbody>\n    <tr>\n      <th>511864</th>\n      <td>-0.807085</td>\n      <td>-0.069046</td>\n      <td>-9.473906e-02</td>\n      <td>-0.329976</td>\n      <td>-7.320131e-03</td>\n      <td>-0.352692</td>\n      <td>-9.730588e-01</td>\n      <td>-0.167011</td>\n      <td>-0.146696</td>\n      <td>-0.115856</td>\n      <td>...</td>\n      <td>0.0</td>\n      <td>1.0</td>\n      <td>0.0</td>\n      <td>0.0</td>\n      <td>0.0</td>\n      <td>0.0</td>\n      <td>0.0</td>\n      <td>1.0</td>\n      <td>0.0</td>\n      <td>0.0</td>\n    </tr>\n    <tr>\n      <th>855998</th>\n      <td>0.716609</td>\n      <td>-0.069046</td>\n      <td>-1.773502e-16</td>\n      <td>-0.329976</td>\n      <td>1.190749e-13</td>\n      <td>-0.352692</td>\n      <td>-1.939318e-13</td>\n      <td>-0.126725</td>\n      <td>-0.092389</td>\n      <td>-0.115856</td>\n      <td>...</td>\n      <td>1.0</td>\n      <td>0.0</td>\n      <td>0.0</td>\n      <td>0.0</td>\n      <td>0.0</td>\n      <td>0.0</td>\n      <td>1.0</td>\n      <td>0.0</td>\n      <td>0.0</td>\n      <td>0.0</td>\n    </tr>\n    <tr>\n      <th>595929</th>\n      <td>-0.807085</td>\n      <td>-0.069046</td>\n      <td>-9.473906e-02</td>\n      <td>-0.329976</td>\n      <td>-3.813893e-01</td>\n      <td>-0.352692</td>\n      <td>1.252708e+00</td>\n      <td>-0.126725</td>\n      <td>-0.146696</td>\n      <td>-0.035643</td>\n      <td>...</td>\n      <td>0.0</td>\n      <td>1.0</td>\n      <td>0.0</td>\n      <td>0.0</td>\n      <td>0.0</td>\n      <td>1.0</td>\n      <td>0.0</td>\n      <td>0.0</td>\n      <td>0.0</td>\n      <td>0.0</td>\n    </tr>\n    <tr>\n      <th>784322</th>\n      <td>-0.807085</td>\n      <td>-0.069046</td>\n      <td>-1.773502e-16</td>\n      <td>-0.329976</td>\n      <td>1.190749e-13</td>\n      <td>-0.352692</td>\n      <td>-1.939318e-13</td>\n      <td>-0.167011</td>\n      <td>-0.146696</td>\n      <td>-0.115856</td>\n      <td>...</td>\n      <td>1.0</td>\n      <td>0.0</td>\n      <td>0.0</td>\n      <td>0.0</td>\n      <td>0.0</td>\n      <td>0.0</td>\n      <td>1.0</td>\n      <td>0.0</td>\n      <td>0.0</td>\n      <td>0.0</td>\n    </tr>\n    <tr>\n      <th>114250</th>\n      <td>1.898363</td>\n      <td>-0.069046</td>\n      <td>-1.773502e-16</td>\n      <td>-0.329976</td>\n      <td>1.190749e-13</td>\n      <td>-0.352692</td>\n      <td>-1.939318e-13</td>\n      <td>-0.086438</td>\n      <td>-0.038082</td>\n      <td>-0.115856</td>\n      <td>...</td>\n      <td>0.0</td>\n      <td>1.0</td>\n      <td>0.0</td>\n      <td>0.0</td>\n      <td>0.0</td>\n      <td>0.0</td>\n      <td>0.0</td>\n      <td>1.0</td>\n      <td>0.0</td>\n      <td>0.0</td>\n    </tr>\n  </tbody>\n</table>\n<p>5 rows × 62 columns</p>\n</div>"
     },
     "metadata": {}
    }
   ]
  },
  {
   "cell_type": "code",
   "source": "y_test.head()",
   "metadata": {
    "execution": {
     "iopub.status.busy": "2024-03-19T23:20:17.100767Z",
     "iopub.execute_input": "2024-03-19T23:20:17.101543Z",
     "iopub.status.idle": "2024-03-19T23:20:17.110024Z",
     "shell.execute_reply.started": "2024-03-19T23:20:17.101504Z",
     "shell.execute_reply": "2024-03-19T23:20:17.109125Z"
    },
    "trusted": true
   },
   "execution_count": 22,
   "outputs": [
    {
     "execution_count": 22,
     "output_type": "execute_result",
     "data": {
      "text/plain": "        Attack Type\n511864            0\n855998            7\n595929            1\n784322            7\n114250            7",
      "text/html": "<div>\n<style scoped>\n    .dataframe tbody tr th:only-of-type {\n        vertical-align: middle;\n    }\n\n    .dataframe tbody tr th {\n        vertical-align: top;\n    }\n\n    .dataframe thead th {\n        text-align: right;\n    }\n</style>\n<table border=\"1\" class=\"dataframe\">\n  <thead>\n    <tr style=\"text-align: right;\">\n      <th></th>\n      <th>Attack Type</th>\n    </tr>\n  </thead>\n  <tbody>\n    <tr>\n      <th>511864</th>\n      <td>0</td>\n    </tr>\n    <tr>\n      <th>855998</th>\n      <td>7</td>\n    </tr>\n    <tr>\n      <th>595929</th>\n      <td>1</td>\n    </tr>\n    <tr>\n      <th>784322</th>\n      <td>7</td>\n    </tr>\n    <tr>\n      <th>114250</th>\n      <td>7</td>\n    </tr>\n  </tbody>\n</table>\n</div>"
     },
     "metadata": {}
    }
   ]
  },
  {
   "cell_type": "code",
   "source": "test_data = {'features': X_test,  # Your feature data (Pandas DataFrame or similar)\n        'labels': y_test}     # Your label data\n\ntest_dataset = CustomTabularDataset(test_data)",
   "metadata": {
    "execution": {
     "iopub.status.busy": "2024-03-19T23:20:33.371751Z",
     "iopub.execute_input": "2024-03-19T23:20:33.372132Z",
     "iopub.status.idle": "2024-03-19T23:20:33.391049Z",
     "shell.execute_reply.started": "2024-03-19T23:20:33.372103Z",
     "shell.execute_reply": "2024-03-19T23:20:33.390138Z"
    },
    "trusted": true
   },
   "execution_count": 23,
   "outputs": []
  },
  {
   "cell_type": "code",
   "source": "test_loader = torch.utils.data.DataLoader(test_dataset, batch_size=batch_size,\n    num_workers=num_workers)",
   "metadata": {
    "execution": {
     "iopub.status.busy": "2024-03-19T23:20:41.335459Z",
     "iopub.execute_input": "2024-03-19T23:20:41.336108Z",
     "iopub.status.idle": "2024-03-19T23:20:41.340642Z",
     "shell.execute_reply.started": "2024-03-19T23:20:41.336072Z",
     "shell.execute_reply": "2024-03-19T23:20:41.339611Z"
    },
    "trusted": true
   },
   "execution_count": 24,
   "outputs": []
  },
  {
   "cell_type": "code",
   "source": "model.load_state_dict(torch.load('model_pytorch_autoencoders.pt'))",
   "metadata": {
    "execution": {
     "iopub.status.busy": "2024-03-19T23:20:42.234586Z",
     "iopub.execute_input": "2024-03-19T23:20:42.235584Z",
     "iopub.status.idle": "2024-03-19T23:20:42.252709Z",
     "shell.execute_reply.started": "2024-03-19T23:20:42.235541Z",
     "shell.execute_reply": "2024-03-19T23:20:42.251806Z"
    },
    "trusted": true
   },
   "execution_count": 25,
   "outputs": [
    {
     "execution_count": 25,
     "output_type": "execute_result",
     "data": {
      "text/plain": "<All keys matched successfully>"
     },
     "metadata": {}
    }
   ]
  },
  {
   "cell_type": "code",
   "source": "le_name_mapping = {'Benign': 0, 'HTTPFlood': 1, 'ICMPFlood': 2, 'SYNFlood': 3, 'SYNScan': 4, 'SlowrateDoS': 5, 'TCPConnectScan': 6, 'UDPFlood': 7, 'UDPScan': 8}\nle_name_mapping",
   "metadata": {
    "execution": {
     "iopub.status.busy": "2024-03-19T23:20:44.253421Z",
     "iopub.execute_input": "2024-03-19T23:20:44.253818Z",
     "iopub.status.idle": "2024-03-19T23:20:44.261305Z",
     "shell.execute_reply.started": "2024-03-19T23:20:44.253788Z",
     "shell.execute_reply": "2024-03-19T23:20:44.260380Z"
    },
    "trusted": true
   },
   "execution_count": 26,
   "outputs": [
    {
     "execution_count": 26,
     "output_type": "execute_result",
     "data": {
      "text/plain": "{'Benign': 0,\n 'HTTPFlood': 1,\n 'ICMPFlood': 2,\n 'SYNFlood': 3,\n 'SYNScan': 4,\n 'SlowrateDoS': 5,\n 'TCPConnectScan': 6,\n 'UDPFlood': 7,\n 'UDPScan': 8}"
     },
     "metadata": {}
    }
   ]
  },
  {
   "cell_type": "code",
   "source": "# initialize lists to monitor test loss and accuracy\ntest_loss = 0.0\n\nclass_correct = list(0. for i in range(num_classes))\nclass_total = list(0. for i in range(num_classes))\n\n# Moving model tensor to GPU if available\nmodel = model.to(device)\n\nmodel.eval() # prep model for evaluation\n\nfor data, target in tqdm(test_loader):\n    \n    # Moving input tensors to GPU if available\n    data, target = data.to(device), target.to(device)    \n    \n    # forward pass: compute predicted outputs by passing inputs to the model\n    output = model(data.float())\n    output = output.to(device)    \n    \n    # calculate the loss\n    loss = loss_function(output, target.reshape(-1).long())\n    \n    # update test loss\n    test_loss += loss.item()*data.size(0)\n    \n    # convert output probabilities to predicted class\n    _, pred = torch.max(output, 1)\n    \n    # compare predictions to true label\n    correct = np.squeeze(pred.eq(target.data.view_as(pred)))\n    \n    # calculate test accuracy for each object class\n    for i in range(data.shape[0]):\n        label = int(target.data[i].item())\n        class_correct[label] += int(correct[i].item())\n        class_total[label] += 1\n\n# calculate and print avg test loss\ntest_loss = test_loss/len(test_loader.dataset)\nprint('Test Loss: {:.6f}\\n'.format(test_loss))\n\nlabel_map = {}\nfor k, v in le_name_mapping.items():\n    label_map[v] = k\n\nfor i in range(num_classes):\n    if class_total[i] > 0:\n        print(f'Test Accuracy of {str(i)}-{label_map[i]:<25}: {100 * class_correct[i] / class_total[i]:.6f}% ({int(np.sum(class_correct[i])):<2}/{int(np.sum(class_total[i])):<2})')\n    else:\n        print(f'Test Accuracy of {label_map[i]:<25}: N/A (no training examples)')\n\nprint(f'\\nTest Accuracy (Overall): {100. * np.sum(class_correct) / np.sum(class_total):.6f}% ({int(np.sum(class_correct))} / {int(np.sum(class_total))})')",
   "metadata": {
    "execution": {
     "iopub.status.busy": "2024-03-19T23:20:49.999456Z",
     "iopub.execute_input": "2024-03-19T23:20:50.000314Z",
     "iopub.status.idle": "2024-03-19T23:21:04.274209Z",
     "shell.execute_reply.started": "2024-03-19T23:20:50.000281Z",
     "shell.execute_reply": "2024-03-19T23:21:04.273086Z"
    },
    "trusted": true
   },
   "execution_count": 27,
   "outputs": [
    {
     "name": "stderr",
     "text": "100%|██████████| 2850/2850 [00:14<00:00, 199.94it/s]",
     "output_type": "stream"
    },
    {
     "name": "stdout",
     "text": "Test Loss: 1.374872\n\nTest Accuracy of 0-Benign                   : 99.980455% (71615/71629)\nTest Accuracy of 1-HTTPFlood                : 99.270902% (20968/21122)\nTest Accuracy of 2-ICMPFlood                : 100.000000% (173/173)\nTest Accuracy of 3-SYNFlood                 : 86.968450% (1268/1458)\nTest Accuracy of 4-SYNScan                  : 99.866933% (3002/3006)\nTest Accuracy of 5-SlowrateDoS              : 98.723676% (10829/10969)\nTest Accuracy of 6-TCPConnectScan           : 99.368351% (2989/3008)\nTest Accuracy of 7-UDPFlood                 : 100.000000% (68601/68601)\nTest Accuracy of 8-UDPScan                  : 99.497066% (2374/2386)\n\nTest Accuracy (Overall): 99.707708% (181819 / 182352)\n",
     "output_type": "stream"
    },
    {
     "name": "stderr",
     "text": "\n",
     "output_type": "stream"
    }
   ]
  }
 ]
}
