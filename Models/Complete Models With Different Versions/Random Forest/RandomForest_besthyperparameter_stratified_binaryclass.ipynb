{
  "nbformat": 4,
  "nbformat_minor": 0,
  "metadata": {
    "colab": {
      "provenance": []
    },
    "kernelspec": {
      "name": "python3",
      "display_name": "Python 3"
    },
    "language_info": {
      "name": "python"
    }
  },
  "cells": [
    {
      "cell_type": "code",
      "execution_count": 1,
      "metadata": {
        "colab": {
          "base_uri": "https://localhost:8080/"
        },
        "id": "19ZOpYb2WtSw",
        "outputId": "bb94a1dc-9daa-4329-cd0d-a73f3b15c70d"
      },
      "outputs": [
        {
          "output_type": "stream",
          "name": "stdout",
          "text": [
            "Mounted at /content/drive\n"
          ]
        }
      ],
      "source": [
        "from google.colab import drive\n",
        "drive.mount('/content/drive')"
      ]
    },
    {
      "cell_type": "code",
      "source": [
        "import numpy as np\n",
        "import pandas as pd\n",
        "from sklearn.model_selection import train_test_split, StratifiedKFold\n",
        "from sklearn.ensemble import RandomForestClassifier\n",
        "from sklearn.metrics import accuracy_score, precision_score, recall_score, f1_score, roc_auc_score\n",
        "from sklearn.decomposition import PCA\n",
        "from sklearn.feature_selection import mutual_info_classif"
      ],
      "metadata": {
        "id": "_49Xm87BXKXn"
      },
      "execution_count": 2,
      "outputs": []
    },
    {
      "cell_type": "code",
      "source": [
        "# Read the data\n",
        "PATH = '/content/drive/MyDrive/Dataset/'\n",
        "df = pd.read_csv(PATH + 'csv_preprocessed.csv')\n",
        "print(df.shape)"
      ],
      "metadata": {
        "colab": {
          "base_uri": "https://localhost:8080/"
        },
        "id": "2BgXBqhtXNRZ",
        "outputId": "b9318726-d907-4a1e-82bb-20cac43c4b72"
      },
      "execution_count": 3,
      "outputs": [
        {
          "output_type": "stream",
          "name": "stdout",
          "text": [
            "(1215675, 63)\n"
          ]
        }
      ]
    },
    {
      "cell_type": "code",
      "source": [
        "# Convert 'Attack Type' column to binary\n",
        "df['Attack Type'] = df['Attack Type'].apply(lambda x: 0 if x == 0 else 1)"
      ],
      "metadata": {
        "id": "RiqkCBssXjHF"
      },
      "execution_count": 4,
      "outputs": []
    },
    {
      "cell_type": "code",
      "source": [
        "# Train Test split\n",
        "X_train, X_test, y_train, y_test = train_test_split(df.drop(columns=['Attack Type']), df['Attack Type'],\n",
        "                                                    test_size=0.15,\n",
        "                                                    random_state=42)"
      ],
      "metadata": {
        "id": "MaX-ZmC-XkRg"
      },
      "execution_count": 5,
      "outputs": []
    },
    {
      "cell_type": "code",
      "source": [
        "X_train = pd.DataFrame(X_train, columns=df.drop(columns=['Attack Type']).columns.to_list())\n",
        "X_test = pd.DataFrame(X_test, columns=df.drop(columns=['Attack Type']).columns.to_list())\n",
        "y_train = pd.DataFrame(y_train, columns=['Attack Type'])\n",
        "y_test = pd.DataFrame(y_test, columns=['Attack Type'])"
      ],
      "metadata": {
        "id": "SSPmf80TXlqk"
      },
      "execution_count": 6,
      "outputs": []
    },
    {
      "cell_type": "code",
      "source": [
        "print(\"Training dataset size:\", X_train.shape)\n",
        "print(\"Testing dataset size:\", X_test.shape)\n",
        "print(\"Training target size:\", y_train.shape)\n",
        "print(\"Testing target size:\", y_test.shape)"
      ],
      "metadata": {
        "colab": {
          "base_uri": "https://localhost:8080/"
        },
        "id": "xGVd0D_hXmr6",
        "outputId": "171ca828-16a8-4a88-841a-1bbec2952d4e"
      },
      "execution_count": 7,
      "outputs": [
        {
          "output_type": "stream",
          "name": "stdout",
          "text": [
            "Training dataset size: (1033323, 62)\n",
            "Testing dataset size: (182352, 62)\n",
            "Training target size: (1033323, 1)\n",
            "Testing target size: (182352, 1)\n"
          ]
        }
      ]
    },
    {
      "cell_type": "code",
      "source": [
        "# Perform mutual information feature selection on training set\n",
        "mutual_info_arr = mutual_info_classif(X_train, y_train)\n",
        "top_features = X_train.columns[np.argsort(mutual_info_arr)[::-1][:15]]\n",
        "X_train_selected = X_train[top_features]\n",
        "X_test_selected = X_test[top_features]"
      ],
      "metadata": {
        "colab": {
          "base_uri": "https://localhost:8080/"
        },
        "id": "tKNGh7DwXqcm",
        "outputId": "c6c03315-3154-4d6d-e928-5b86375dd514"
      },
      "execution_count": 8,
      "outputs": [
        {
          "output_type": "stream",
          "name": "stderr",
          "text": [
            "/usr/local/lib/python3.10/dist-packages/sklearn/utils/validation.py:1143: DataConversionWarning: A column-vector y was passed when a 1d array was expected. Please change the shape of y to (n_samples, ), for example using ravel().\n",
            "  y = column_or_1d(y, warn=True)\n"
          ]
        }
      ]
    },
    {
      "cell_type": "code",
      "source": [
        "# Perform PCA on selected features\n",
        "pca = PCA(n_components=15)\n",
        "X_train_pca = pca.fit_transform(X_train_selected)\n",
        "X_test_pca = pca.transform(X_test_selected)"
      ],
      "metadata": {
        "id": "wdTpLNn2Xrfl"
      },
      "execution_count": 9,
      "outputs": []
    },
    {
      "cell_type": "code",
      "source": [
        "# Define the specific hyperparameters\n",
        "best_params = {'bootstrap': False, 'criterion': 'entropy', 'max_depth': None, 'min_samples_leaf': 2, 'min_samples_split': 2, 'n_estimators': 50}"
      ],
      "metadata": {
        "id": "VuSPzO7gXsmE"
      },
      "execution_count": 10,
      "outputs": []
    },
    {
      "cell_type": "code",
      "source": [
        "# Initialize Random Forest Classifier with specific hyperparameters\n",
        "rfc = RandomForestClassifier(**best_params, random_state=42)"
      ],
      "metadata": {
        "id": "b_411VgyXuBx"
      },
      "execution_count": 11,
      "outputs": []
    },
    {
      "cell_type": "code",
      "source": [
        "# Initialize StratifiedKFold\n",
        "skf = StratifiedKFold(n_splits=5, shuffle=True, random_state=42)"
      ],
      "metadata": {
        "id": "ryP8cU2NXxs4"
      },
      "execution_count": 12,
      "outputs": []
    },
    {
      "cell_type": "code",
      "source": [
        "# Lists to store evaluation metrics across folds\n",
        "accuracy_scores = []\n",
        "precision_scores = []\n",
        "recall_scores = []\n",
        "f1_scores = []\n",
        "roc_auc_scores = []"
      ],
      "metadata": {
        "id": "6rZFCCaDXy29"
      },
      "execution_count": 13,
      "outputs": []
    },
    {
      "cell_type": "code",
      "source": [
        "# Perform k-fold cross-validation\n",
        "for train_index, test_index in skf.split(X_train_pca, y_train):\n",
        "    X_train_fold, X_val_fold = X_train_pca[train_index], X_train_pca[test_index]\n",
        "    y_train_fold, y_val_fold = y_train.iloc[train_index], y_train.iloc[test_index]"
      ],
      "metadata": {
        "id": "vyP8ruo1Xz_i"
      },
      "execution_count": 14,
      "outputs": []
    },
    {
      "cell_type": "code",
      "source": [
        "    # Fit the model on the training fold\n",
        "    rfc.fit(X_train_fold, y_train_fold)"
      ],
      "metadata": {
        "colab": {
          "base_uri": "https://localhost:8080/",
          "height": 147
        },
        "id": "tfWHW95uX8Px",
        "outputId": "a52d9a7e-8353-4bc2-9202-c4c0d708a8e6"
      },
      "execution_count": 15,
      "outputs": [
        {
          "output_type": "stream",
          "name": "stderr",
          "text": [
            "<ipython-input-15-5baf39697865>:2: DataConversionWarning: A column-vector y was passed when a 1d array was expected. Please change the shape of y to (n_samples,), for example using ravel().\n",
            "  rfc.fit(X_train_fold, y_train_fold)\n"
          ]
        },
        {
          "output_type": "execute_result",
          "data": {
            "text/plain": [
              "RandomForestClassifier(bootstrap=False, criterion='entropy', min_samples_leaf=2,\n",
              "                       n_estimators=50, random_state=42)"
            ],
            "text/html": [
              "<style>#sk-container-id-1 {color: black;background-color: white;}#sk-container-id-1 pre{padding: 0;}#sk-container-id-1 div.sk-toggleable {background-color: white;}#sk-container-id-1 label.sk-toggleable__label {cursor: pointer;display: block;width: 100%;margin-bottom: 0;padding: 0.3em;box-sizing: border-box;text-align: center;}#sk-container-id-1 label.sk-toggleable__label-arrow:before {content: \"▸\";float: left;margin-right: 0.25em;color: #696969;}#sk-container-id-1 label.sk-toggleable__label-arrow:hover:before {color: black;}#sk-container-id-1 div.sk-estimator:hover label.sk-toggleable__label-arrow:before {color: black;}#sk-container-id-1 div.sk-toggleable__content {max-height: 0;max-width: 0;overflow: hidden;text-align: left;background-color: #f0f8ff;}#sk-container-id-1 div.sk-toggleable__content pre {margin: 0.2em;color: black;border-radius: 0.25em;background-color: #f0f8ff;}#sk-container-id-1 input.sk-toggleable__control:checked~div.sk-toggleable__content {max-height: 200px;max-width: 100%;overflow: auto;}#sk-container-id-1 input.sk-toggleable__control:checked~label.sk-toggleable__label-arrow:before {content: \"▾\";}#sk-container-id-1 div.sk-estimator input.sk-toggleable__control:checked~label.sk-toggleable__label {background-color: #d4ebff;}#sk-container-id-1 div.sk-label input.sk-toggleable__control:checked~label.sk-toggleable__label {background-color: #d4ebff;}#sk-container-id-1 input.sk-hidden--visually {border: 0;clip: rect(1px 1px 1px 1px);clip: rect(1px, 1px, 1px, 1px);height: 1px;margin: -1px;overflow: hidden;padding: 0;position: absolute;width: 1px;}#sk-container-id-1 div.sk-estimator {font-family: monospace;background-color: #f0f8ff;border: 1px dotted black;border-radius: 0.25em;box-sizing: border-box;margin-bottom: 0.5em;}#sk-container-id-1 div.sk-estimator:hover {background-color: #d4ebff;}#sk-container-id-1 div.sk-parallel-item::after {content: \"\";width: 100%;border-bottom: 1px solid gray;flex-grow: 1;}#sk-container-id-1 div.sk-label:hover label.sk-toggleable__label {background-color: #d4ebff;}#sk-container-id-1 div.sk-serial::before {content: \"\";position: absolute;border-left: 1px solid gray;box-sizing: border-box;top: 0;bottom: 0;left: 50%;z-index: 0;}#sk-container-id-1 div.sk-serial {display: flex;flex-direction: column;align-items: center;background-color: white;padding-right: 0.2em;padding-left: 0.2em;position: relative;}#sk-container-id-1 div.sk-item {position: relative;z-index: 1;}#sk-container-id-1 div.sk-parallel {display: flex;align-items: stretch;justify-content: center;background-color: white;position: relative;}#sk-container-id-1 div.sk-item::before, #sk-container-id-1 div.sk-parallel-item::before {content: \"\";position: absolute;border-left: 1px solid gray;box-sizing: border-box;top: 0;bottom: 0;left: 50%;z-index: -1;}#sk-container-id-1 div.sk-parallel-item {display: flex;flex-direction: column;z-index: 1;position: relative;background-color: white;}#sk-container-id-1 div.sk-parallel-item:first-child::after {align-self: flex-end;width: 50%;}#sk-container-id-1 div.sk-parallel-item:last-child::after {align-self: flex-start;width: 50%;}#sk-container-id-1 div.sk-parallel-item:only-child::after {width: 0;}#sk-container-id-1 div.sk-dashed-wrapped {border: 1px dashed gray;margin: 0 0.4em 0.5em 0.4em;box-sizing: border-box;padding-bottom: 0.4em;background-color: white;}#sk-container-id-1 div.sk-label label {font-family: monospace;font-weight: bold;display: inline-block;line-height: 1.2em;}#sk-container-id-1 div.sk-label-container {text-align: center;}#sk-container-id-1 div.sk-container {/* jupyter's `normalize.less` sets `[hidden] { display: none; }` but bootstrap.min.css set `[hidden] { display: none !important; }` so we also need the `!important` here to be able to override the default hidden behavior on the sphinx rendered scikit-learn.org. See: https://github.com/scikit-learn/scikit-learn/issues/21755 */display: inline-block !important;position: relative;}#sk-container-id-1 div.sk-text-repr-fallback {display: none;}</style><div id=\"sk-container-id-1\" class=\"sk-top-container\"><div class=\"sk-text-repr-fallback\"><pre>RandomForestClassifier(bootstrap=False, criterion=&#x27;entropy&#x27;, min_samples_leaf=2,\n",
              "                       n_estimators=50, random_state=42)</pre><b>In a Jupyter environment, please rerun this cell to show the HTML representation or trust the notebook. <br />On GitHub, the HTML representation is unable to render, please try loading this page with nbviewer.org.</b></div><div class=\"sk-container\" hidden><div class=\"sk-item\"><div class=\"sk-estimator sk-toggleable\"><input class=\"sk-toggleable__control sk-hidden--visually\" id=\"sk-estimator-id-1\" type=\"checkbox\" checked><label for=\"sk-estimator-id-1\" class=\"sk-toggleable__label sk-toggleable__label-arrow\">RandomForestClassifier</label><div class=\"sk-toggleable__content\"><pre>RandomForestClassifier(bootstrap=False, criterion=&#x27;entropy&#x27;, min_samples_leaf=2,\n",
              "                       n_estimators=50, random_state=42)</pre></div></div></div></div></div>"
            ]
          },
          "metadata": {},
          "execution_count": 15
        }
      ]
    },
    {
      "cell_type": "code",
      "source": [
        "    # Predict on the validation fold\n",
        "    y_val_pred = rfc.predict(X_val_fold)"
      ],
      "metadata": {
        "id": "ydAPBf8tX9gI"
      },
      "execution_count": 16,
      "outputs": []
    },
    {
      "cell_type": "code",
      "source": [
        "    # Evaluate the model on the validation fold\n",
        "    accuracy_fold = accuracy_score(y_val_fold, y_val_pred)\n",
        "    precision_fold = precision_score(y_val_fold, y_val_pred)\n",
        "    recall_fold = recall_score(y_val_fold, y_val_pred)\n",
        "    f1_fold = f1_score(y_val_fold, y_val_pred)\n",
        "    roc_auc_fold = roc_auc_score(y_val_fold, rfc.predict_proba(X_val_fold)[:, 1])"
      ],
      "metadata": {
        "id": "-CLUnvykX-xM"
      },
      "execution_count": 17,
      "outputs": []
    },
    {
      "cell_type": "code",
      "source": [
        "    # Append scores to lists\n",
        "    accuracy_scores.append(accuracy_fold)\n",
        "    precision_scores.append(precision_fold)\n",
        "    recall_scores.append(recall_fold)\n",
        "    f1_scores.append(f1_fold)\n",
        "    roc_auc_scores.append(roc_auc_fold)"
      ],
      "metadata": {
        "id": "Ik_qGcqrYAlb"
      },
      "execution_count": 18,
      "outputs": []
    },
    {
      "cell_type": "code",
      "source": [
        "# Average the evaluation metrics across folds\n",
        "average_accuracy = np.mean(accuracy_scores)\n",
        "average_precision = np.mean(precision_scores)\n",
        "average_recall = np.mean(recall_scores)\n",
        "average_f1 = np.mean(f1_scores)\n",
        "average_roc_auc = np.mean(roc_auc_scores)"
      ],
      "metadata": {
        "id": "m2ZE8_YPYB1w"
      },
      "execution_count": 19,
      "outputs": []
    },
    {
      "cell_type": "code",
      "source": [
        "# Predict on the X_test dataset\n",
        "y_test_pred = rfc.predict(X_test_pca)"
      ],
      "metadata": {
        "id": "tNsomKI3YCzA"
      },
      "execution_count": 20,
      "outputs": []
    },
    {
      "cell_type": "code",
      "source": [
        "# Evaluate the model on the X_test dataset\n",
        "accuracy_test = accuracy_score(y_test, y_test_pred)\n",
        "precision_test = precision_score(y_test, y_test_pred)\n",
        "recall_test = recall_score(y_test, y_test_pred)\n",
        "f1_test = f1_score(y_test, y_test_pred)\n",
        "roc_auc_test = roc_auc_score(y_test, rfc.predict_proba(X_test_pca)[:, 1])"
      ],
      "metadata": {
        "id": "IjdLUaeXYDzG"
      },
      "execution_count": 21,
      "outputs": []
    },
    {
      "cell_type": "code",
      "source": [
        "# Print the average scores and accuracy on test dataset\n",
        "print(f'Average Accuracy (cross-validation): {average_accuracy}')\n",
        "print(f'Average Precision (cross-validation): {average_precision}')\n",
        "print(f'Average Recall (cross-validation): {average_recall}')\n",
        "print(f'Average F1 Score (cross-validation): {average_f1}')\n",
        "print(f'Average ROC AUC Score (cross-validation): {average_roc_auc}')\n",
        "print('\\n')\n",
        "print(f'Accuracy (test dataset): {accuracy_test}')\n",
        "print(f'Precision (test dataset): {precision_test}')\n",
        "print(f'Recall (test dataset): {recall_test}')\n",
        "print(f'F1 Score (test dataset): {f1_test}')\n",
        "print(f'ROC AUC Score (test dataset): {roc_auc_test}')"
      ],
      "metadata": {
        "colab": {
          "base_uri": "https://localhost:8080/"
        },
        "id": "3jZTBbEfYE39",
        "outputId": "1437f3fa-28eb-46b4-8345-6ed104416f57"
      },
      "execution_count": 22,
      "outputs": [
        {
          "output_type": "stream",
          "name": "stdout",
          "text": [
            "Average Accuracy (cross-validation): 1.0\n",
            "Average Precision (cross-validation): 1.0\n",
            "Average Recall (cross-validation): 1.0\n",
            "Average F1 Score (cross-validation): 1.0\n",
            "Average ROC AUC Score (cross-validation): 1.0\n",
            "\n",
            "\n",
            "Accuracy (test dataset): 1.0\n",
            "Precision (test dataset): 1.0\n",
            "Recall (test dataset): 1.0\n",
            "F1 Score (test dataset): 1.0\n",
            "ROC AUC Score (test dataset): 1.0\n"
          ]
        }
      ]
    }
  ]
}