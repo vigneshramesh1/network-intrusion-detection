{
 "cells": [
  {
   "cell_type": "code",
   "execution_count": 66,
   "id": "173659be-77a4-454b-aee0-f4296d53c546",
   "metadata": {},
   "outputs": [],
   "source": [
    "import pandas as pd\n",
    "from sklearn.model_selection import StratifiedKFold\n",
    "import numpy as np\n",
    "from sklearn.neighbors import KNeighborsClassifier\n",
    "from sklearn.svm import SVC\n",
    "from sklearn.metrics import accuracy_score, precision_score, recall_score, f1_score\n"
   ]
  },
  {
   "cell_type": "code",
   "execution_count": 26,
   "id": "784eac9a-18bb-4736-925e-c9cd2e13644e",
   "metadata": {},
   "outputs": [],
   "source": [
    "from sklearn.datasets import load_iris\n"
   ]
  },
  {
   "cell_type": "code",
   "execution_count": 33,
   "id": "697736af-1bec-46a7-b14c-fcf86db9b74e",
   "metadata": {},
   "outputs": [],
   "source": [
    "\n",
    "import matplotlib.pyplot as plt\n",
    "from sklearn.tree import DecisionTreeRegressor\n",
    "from sklearn.preprocessing import StandardScaler\n",
    "from sklearn.feature_selection import mutual_info_regression\n",
    "from sklearn.model_selection import GridSearchCV\n",
    "from sklearn.model_selection import train_test_split\n",
    "from sklearn.preprocessing import LabelEncoder\n",
    "from sklearn.feature_selection import mutual_info_classif"
   ]
  },
  {
   "cell_type": "code",
   "execution_count": 43,
   "id": "80697b2c-ff9e-4d2d-807f-1e9c564a176d",
   "metadata": {},
   "outputs": [],
   "source": [
    "data = pd.read_csv('dc_combined.csv')\n"
   ]
  },
  {
   "cell_type": "code",
   "execution_count": 27,
   "id": "5a9da55f-05dc-4e2b-bca7-79888613576a",
   "metadata": {},
   "outputs": [],
   "source": [
    "iris = load_iris()\n",
    "X = iris.data\n",
    "y = iris.target\n"
   ]
  },
  {
   "cell_type": "code",
   "execution_count": 29,
   "id": "b910f73e-d17a-4ed9-aedc-cec6dd3002ca",
   "metadata": {},
   "outputs": [],
   "source": []
  },
  {
   "cell_type": "code",
   "execution_count": 30,
   "id": "26eab78a-7de9-4e76-8b6d-327014b71249",
   "metadata": {},
   "outputs": [
    {
     "name": "stdout",
     "output_type": "stream",
     "text": [
      "Average Accuracy: 0.9666666666666668\n"
     ]
    }
   ],
   "source": [
    "for train_index, test_index in skf.split(X, y):\n",
    "    X_train, X_test = X[train_index], X[test_index]\n",
    "    y_train, y_test = y[train_index], y[test_index]\n",
    "    \n",
    "    # Initialize kNN classifier\n",
    "    knn = KNeighborsClassifier(n_neighbors=5)\n",
    "    \n",
    "    # Train the classifier\n",
    "    knn.fit(X_train, y_train)\n",
    "    \n",
    "    # Predict on the test set\n",
    "    y_pred = knn.predict(X_test)\n",
    "    \n",
    "    # Calculate accuracy and store it\n",
    "    accuracy = accuracy_score(y_test, y_pred)\n",
    "    accuracy_scores.append(accuracy)\n",
    "\n",
    "# Calculate and print the average accuracy\n",
    "avg_accuracy = np.mean(accuracy_scores)\n",
    "print(\"Average Accuracy:\", avg_accuracy)"
   ]
  },
  {
   "cell_type": "code",
   "execution_count": 31,
   "id": "b036eb52-b36e-4512-b468-6dff018401e9",
   "metadata": {},
   "outputs": [
    {
     "data": {
      "text/plain": [
       "[1.0, 0.9666666666666667, 0.9333333333333333, 1.0, 0.9333333333333333]"
      ]
     },
     "execution_count": 31,
     "metadata": {},
     "output_type": "execute_result"
    }
   ],
   "source": [
    "accuracy_scores"
   ]
  },
  {
   "cell_type": "code",
   "execution_count": 44,
   "id": "1b55ccb3-54c6-411b-a75f-00704d9b4393",
   "metadata": {},
   "outputs": [
    {
     "name": "stdout",
     "output_type": "stream",
     "text": [
      "<class 'pandas.core.frame.DataFrame'>\n",
      "RangeIndex: 1215675 entries, 0 to 1215674\n",
      "Data columns (total 98 columns):\n",
      " #   Column                  Non-Null Count    Dtype  \n",
      "---  ------                  --------------    -----  \n",
      " 0   Seq                     1215675 non-null  int64  \n",
      " 1   Dur                     1215675 non-null  float64\n",
      " 2   RunTime                 1215675 non-null  float64\n",
      " 3   Mean                    1215675 non-null  float64\n",
      " 4   Sum                     1215675 non-null  float64\n",
      " 5   Min                     1215675 non-null  float64\n",
      " 6   Max                     1215675 non-null  float64\n",
      " 7   sTos                    1215675 non-null  float64\n",
      " 8   dTos                    1215675 non-null  float64\n",
      " 9   sTtl                    1215675 non-null  float64\n",
      " 10  dTtl                    1215675 non-null  float64\n",
      " 11  sHops                   1215675 non-null  float64\n",
      " 12  dHops                   1215675 non-null  float64\n",
      " 13  TotPkts                 1215675 non-null  int64  \n",
      " 14  SrcPkts                 1215675 non-null  int64  \n",
      " 15  DstPkts                 1215675 non-null  int64  \n",
      " 16  TotBytes                1215675 non-null  int64  \n",
      " 17  SrcBytes                1215675 non-null  int64  \n",
      " 18  DstBytes                1215675 non-null  int64  \n",
      " 19  Offset                  1215675 non-null  int64  \n",
      " 20  sMeanPktSz              1215675 non-null  float64\n",
      " 21  dMeanPktSz              1215675 non-null  float64\n",
      " 22  Load                    1215675 non-null  float64\n",
      " 23  SrcLoad                 1215675 non-null  float64\n",
      " 24  DstLoad                 1215675 non-null  float64\n",
      " 25  Loss                    1215675 non-null  int64  \n",
      " 26  SrcLoss                 1215675 non-null  int64  \n",
      " 27  DstLoss                 1215675 non-null  int64  \n",
      " 28  pLoss                   1215675 non-null  float64\n",
      " 29  SrcGap                  1215675 non-null  float64\n",
      " 30  DstGap                  1215675 non-null  float64\n",
      " 31  Rate                    1215675 non-null  float64\n",
      " 32  SrcRate                 1215675 non-null  float64\n",
      " 33  DstRate                 1215675 non-null  float64\n",
      " 34  SrcWin                  1215675 non-null  float64\n",
      " 35  DstWin                  1215675 non-null  float64\n",
      " 36  SrcTCPBase              1215675 non-null  float64\n",
      " 37  DstTCPBase              1215675 non-null  float64\n",
      " 38  TcpRtt                  1215675 non-null  float64\n",
      " 39  SynAck                  1215675 non-null  float64\n",
      " 40  AckDat                  1215675 non-null  float64\n",
      " 41  Label                   1215675 non-null  object \n",
      " 42  Attack Type             1215675 non-null  object \n",
      " 43  Attack Tool             1215675 non-null  object \n",
      " 44  Proto_icmp              1215675 non-null  int64  \n",
      " 45  Proto_ipv6-icmp         1215675 non-null  int64  \n",
      " 46  Proto_sctp              1215675 non-null  int64  \n",
      " 47  Proto_tcp               1215675 non-null  int64  \n",
      " 48  Proto_udp               1215675 non-null  int64  \n",
      " 49  sDSb_39                 1215675 non-null  int64  \n",
      " 50  sDSb_4                  1215675 non-null  int64  \n",
      " 51  sDSb_52                 1215675 non-null  int64  \n",
      " 52  sDSb_54                 1215675 non-null  int64  \n",
      " 53  sDSb_af11               1215675 non-null  int64  \n",
      " 54  sDSb_af12               1215675 non-null  int64  \n",
      " 55  sDSb_af41               1215675 non-null  int64  \n",
      " 56  sDSb_cs0                1215675 non-null  int64  \n",
      " 57  sDSb_cs4                1215675 non-null  int64  \n",
      " 58  sDSb_cs6                1215675 non-null  int64  \n",
      " 59  sDSb_cs7                1215675 non-null  int64  \n",
      " 60  sDSb_ef                 1215675 non-null  int64  \n",
      " 61  dDSb_af11               1215675 non-null  int64  \n",
      " 62  dDSb_af12               1215675 non-null  int64  \n",
      " 63  dDSb_cs0                1215675 non-null  int64  \n",
      " 64  dDSb_cs1                1215675 non-null  int64  \n",
      " 65  dDSb_cs4                1215675 non-null  int64  \n",
      " 66  dDSb_ef                 1215675 non-null  int64  \n",
      " 67  Cause_Shutdown          1215675 non-null  int64  \n",
      " 68  Cause_Start             1215675 non-null  int64  \n",
      " 69  Cause_Status            1215675 non-null  int64  \n",
      " 70  State_ACC               1215675 non-null  int64  \n",
      " 71  State_CON               1215675 non-null  int64  \n",
      " 72  State_ECO               1215675 non-null  int64  \n",
      " 73  State_FIN               1215675 non-null  int64  \n",
      " 74  State_INT               1215675 non-null  int64  \n",
      " 75  State_NRS               1215675 non-null  int64  \n",
      " 76  State_REQ               1215675 non-null  int64  \n",
      " 77  State_RSP               1215675 non-null  int64  \n",
      " 78  State_RST               1215675 non-null  int64  \n",
      " 79  State_TST               1215675 non-null  int64  \n",
      " 80  State_URP               1215675 non-null  int64  \n",
      " 81  AtkTool_Benign          1215675 non-null  int64  \n",
      " 82  AtkTool_Goldeneye       1215675 non-null  int64  \n",
      " 83  AtkTool_Hping3          1215675 non-null  int64  \n",
      " 84  AtkTool_Nmap            1215675 non-null  int64  \n",
      " 85  AtkTool_Slowloris       1215675 non-null  int64  \n",
      " 86  AtkTool_Torshammer      1215675 non-null  int64  \n",
      " 87  AtkType_Benign          1215675 non-null  int64  \n",
      " 88  AtkType_HTTPFlood       1215675 non-null  int64  \n",
      " 89  AtkType_ICMPFlood       1215675 non-null  int64  \n",
      " 90  AtkType_SYNFlood        1215675 non-null  int64  \n",
      " 91  AtkType_SYNScan         1215675 non-null  int64  \n",
      " 92  AtkType_SlowrateDoS     1215675 non-null  int64  \n",
      " 93  AtkType_TCPConnectScan  1215675 non-null  int64  \n",
      " 94  AtkType_UDPFlood        1215675 non-null  int64  \n",
      " 95  AtkType_UDPScan         1215675 non-null  int64  \n",
      " 96  Label_Benign            1215675 non-null  int64  \n",
      " 97  Label_Malicious         1215675 non-null  int64  \n",
      "dtypes: float64(30), int64(65), object(3)\n",
      "memory usage: 908.9+ MB\n"
     ]
    }
   ],
   "source": [
    "df.info()"
   ]
  },
  {
   "cell_type": "code",
   "execution_count": 45,
   "id": "7f6b2c3b-4d76-49fb-838b-2a339eb212ce",
   "metadata": {},
   "outputs": [],
   "source": [
    "\n",
    "def remove_attack_and_seq_labels(data):\n",
    "    X =  data.loc[:,~data.columns.str.startswith('Atk')]\n",
    "    X =  X.loc[:,~X.columns.str.startswith('Attack')]\n",
    "    X =  X.loc[:,~X.columns.str.startswith('Label_')]\n",
    "    X = X.drop(['Label', 'Seq'], axis=1)\n",
    "    return X"
   ]
  },
  {
   "cell_type": "code",
   "execution_count": 46,
   "id": "008df831-4c9c-42f4-97b7-d7363c2fe595",
   "metadata": {},
   "outputs": [
    {
     "name": "stdout",
     "output_type": "stream",
     "text": [
      "<class 'pandas.core.frame.DataFrame'>\n",
      "RangeIndex: 1215675 entries, 0 to 1215674\n",
      "Data columns (total 77 columns):\n",
      " #   Column           Non-Null Count    Dtype  \n",
      "---  ------           --------------    -----  \n",
      " 0   Dur              1215675 non-null  float64\n",
      " 1   RunTime          1215675 non-null  float64\n",
      " 2   Mean             1215675 non-null  float64\n",
      " 3   Sum              1215675 non-null  float64\n",
      " 4   Min              1215675 non-null  float64\n",
      " 5   Max              1215675 non-null  float64\n",
      " 6   sTos             1215675 non-null  float64\n",
      " 7   dTos             1215675 non-null  float64\n",
      " 8   sTtl             1215675 non-null  float64\n",
      " 9   dTtl             1215675 non-null  float64\n",
      " 10  sHops            1215675 non-null  float64\n",
      " 11  dHops            1215675 non-null  float64\n",
      " 12  TotPkts          1215675 non-null  int64  \n",
      " 13  SrcPkts          1215675 non-null  int64  \n",
      " 14  DstPkts          1215675 non-null  int64  \n",
      " 15  TotBytes         1215675 non-null  int64  \n",
      " 16  SrcBytes         1215675 non-null  int64  \n",
      " 17  DstBytes         1215675 non-null  int64  \n",
      " 18  Offset           1215675 non-null  int64  \n",
      " 19  sMeanPktSz       1215675 non-null  float64\n",
      " 20  dMeanPktSz       1215675 non-null  float64\n",
      " 21  Load             1215675 non-null  float64\n",
      " 22  SrcLoad          1215675 non-null  float64\n",
      " 23  DstLoad          1215675 non-null  float64\n",
      " 24  Loss             1215675 non-null  int64  \n",
      " 25  SrcLoss          1215675 non-null  int64  \n",
      " 26  DstLoss          1215675 non-null  int64  \n",
      " 27  pLoss            1215675 non-null  float64\n",
      " 28  SrcGap           1215675 non-null  float64\n",
      " 29  DstGap           1215675 non-null  float64\n",
      " 30  Rate             1215675 non-null  float64\n",
      " 31  SrcRate          1215675 non-null  float64\n",
      " 32  DstRate          1215675 non-null  float64\n",
      " 33  SrcWin           1215675 non-null  float64\n",
      " 34  DstWin           1215675 non-null  float64\n",
      " 35  SrcTCPBase       1215675 non-null  float64\n",
      " 36  DstTCPBase       1215675 non-null  float64\n",
      " 37  TcpRtt           1215675 non-null  float64\n",
      " 38  SynAck           1215675 non-null  float64\n",
      " 39  AckDat           1215675 non-null  float64\n",
      " 40  Proto_icmp       1215675 non-null  int64  \n",
      " 41  Proto_ipv6-icmp  1215675 non-null  int64  \n",
      " 42  Proto_sctp       1215675 non-null  int64  \n",
      " 43  Proto_tcp        1215675 non-null  int64  \n",
      " 44  Proto_udp        1215675 non-null  int64  \n",
      " 45  sDSb_39          1215675 non-null  int64  \n",
      " 46  sDSb_4           1215675 non-null  int64  \n",
      " 47  sDSb_52          1215675 non-null  int64  \n",
      " 48  sDSb_54          1215675 non-null  int64  \n",
      " 49  sDSb_af11        1215675 non-null  int64  \n",
      " 50  sDSb_af12        1215675 non-null  int64  \n",
      " 51  sDSb_af41        1215675 non-null  int64  \n",
      " 52  sDSb_cs0         1215675 non-null  int64  \n",
      " 53  sDSb_cs4         1215675 non-null  int64  \n",
      " 54  sDSb_cs6         1215675 non-null  int64  \n",
      " 55  sDSb_cs7         1215675 non-null  int64  \n",
      " 56  sDSb_ef          1215675 non-null  int64  \n",
      " 57  dDSb_af11        1215675 non-null  int64  \n",
      " 58  dDSb_af12        1215675 non-null  int64  \n",
      " 59  dDSb_cs0         1215675 non-null  int64  \n",
      " 60  dDSb_cs1         1215675 non-null  int64  \n",
      " 61  dDSb_cs4         1215675 non-null  int64  \n",
      " 62  dDSb_ef          1215675 non-null  int64  \n",
      " 63  Cause_Shutdown   1215675 non-null  int64  \n",
      " 64  Cause_Start      1215675 non-null  int64  \n",
      " 65  Cause_Status     1215675 non-null  int64  \n",
      " 66  State_ACC        1215675 non-null  int64  \n",
      " 67  State_CON        1215675 non-null  int64  \n",
      " 68  State_ECO        1215675 non-null  int64  \n",
      " 69  State_FIN        1215675 non-null  int64  \n",
      " 70  State_INT        1215675 non-null  int64  \n",
      " 71  State_NRS        1215675 non-null  int64  \n",
      " 72  State_REQ        1215675 non-null  int64  \n",
      " 73  State_RSP        1215675 non-null  int64  \n",
      " 74  State_RST        1215675 non-null  int64  \n",
      " 75  State_TST        1215675 non-null  int64  \n",
      " 76  State_URP        1215675 non-null  int64  \n",
      "dtypes: float64(30), int64(47)\n",
      "memory usage: 714.2 MB\n"
     ]
    }
   ],
   "source": [
    "X = remove_attack_and_seq_labels(data)\n",
    "X.info()\n"
   ]
  },
  {
   "cell_type": "code",
   "execution_count": 47,
   "id": "ff5acf33-f701-4e16-b661-790344333281",
   "metadata": {},
   "outputs": [],
   "source": [
    "def label_encoder(data, column_name):\n",
    "  Y = data[column_name]\n",
    "  label_encoder = LabelEncoder()\n",
    "  y_encoded = label_encoder.fit_transform(Y)\n",
    "  return y_encoded"
   ]
  },
  {
   "cell_type": "code",
   "execution_count": 48,
   "id": "53630a86-18e5-4e2e-bb67-83ca75573d4d",
   "metadata": {},
   "outputs": [],
   "source": [
    "Y = label_encoder(data, 'Label')"
   ]
  },
  {
   "cell_type": "code",
   "execution_count": 49,
   "id": "a2296af7-abf7-4d80-9f12-b879a9c06d4d",
   "metadata": {},
   "outputs": [],
   "source": [
    "def mutual_info(X, Y):\n",
    "  mutual_info_arr = mutual_info_classif(X, Y)\n",
    "  series_info = pd.Series(mutual_info_arr)\n",
    "  series_info.index = X.columns\n",
    "  series_top = series_info.sort_values(ascending=False)[:20]\n",
    "  return series_top"
   ]
  },
  {
   "cell_type": "code",
   "execution_count": 50,
   "id": "852bca3e-1816-4515-b07c-20091a81ed34",
   "metadata": {},
   "outputs": [],
   "source": [
    "result = mutual_info(X, Y)\n",
    "     "
   ]
  },
  {
   "cell_type": "code",
   "execution_count": 51,
   "id": "308ec9ef-026a-4de1-aa2c-5afe9674a0ca",
   "metadata": {},
   "outputs": [
    {
     "data": {
      "text/plain": [
       "<Axes: >"
      ]
     },
     "execution_count": 51,
     "metadata": {},
     "output_type": "execute_result"
    },
    {
     "data": {
      "image/png": "[encoded data removed]",
      "text/plain": [
       "<Figure size 2000x800 with 1 Axes>"
      ]
     },
     "metadata": {},
     "output_type": "display_data"
    }
   ],
   "source": [
    "result.plot.bar(figsize=(20,8))\n"
   ]
  },
  {
   "cell_type": "code",
   "execution_count": 54,
   "id": "2effc2f0-ec42-45c0-89d5-13486784fc70",
   "metadata": {},
   "outputs": [
    {
     "data": {
      "text/html": [
       "<div>\n",
       "<style scoped>\n",
       "    .dataframe tbody tr th:only-of-type {\n",
       "        vertical-align: middle;\n",
       "    }\n",
       "\n",
       "    .dataframe tbody tr th {\n",
       "        vertical-align: top;\n",
       "    }\n",
       "\n",
       "    .dataframe thead th {\n",
       "        text-align: right;\n",
       "    }\n",
       "</style>\n",
       "<table border=\"1\" class=\"dataframe\">\n",
       "  <thead>\n",
       "    <tr style=\"text-align: right;\">\n",
       "      <th></th>\n",
       "      <th>dTtl</th>\n",
       "      <th>dHops</th>\n",
       "      <th>DstWin</th>\n",
       "      <th>SrcWin</th>\n",
       "      <th>sTtl</th>\n",
       "      <th>dTos</th>\n",
       "      <th>DstGap</th>\n",
       "      <th>SrcGap</th>\n",
       "      <th>sMeanPktSz</th>\n",
       "      <th>TotBytes</th>\n",
       "      <th>SrcBytes</th>\n",
       "      <th>Offset</th>\n",
       "      <th>sHops</th>\n",
       "      <th>Proto_udp</th>\n",
       "      <th>SrcTCPBase</th>\n",
       "      <th>DstTCPBase</th>\n",
       "      <th>sDSb_cs0</th>\n",
       "      <th>Cause_Status</th>\n",
       "      <th>Proto_tcp</th>\n",
       "      <th>DstBytes</th>\n",
       "    </tr>\n",
       "  </thead>\n",
       "  <tbody>\n",
       "    <tr>\n",
       "      <th>0</th>\n",
       "      <td>64.0</td>\n",
       "      <td>0.0</td>\n",
       "      <td>74432.548869</td>\n",
       "      <td>915681.012054</td>\n",
       "      <td>58.0</td>\n",
       "      <td>0.0</td>\n",
       "      <td>0.0</td>\n",
       "      <td>0.0</td>\n",
       "      <td>98.000000</td>\n",
       "      <td>98</td>\n",
       "      <td>98</td>\n",
       "      <td>128</td>\n",
       "      <td>6.0</td>\n",
       "      <td>0</td>\n",
       "      <td>2.044248e+09</td>\n",
       "      <td>2.145664e+09</td>\n",
       "      <td>1</td>\n",
       "      <td>0</td>\n",
       "      <td>0</td>\n",
       "      <td>0</td>\n",
       "    </tr>\n",
       "    <tr>\n",
       "      <th>1</th>\n",
       "      <td>64.0</td>\n",
       "      <td>0.0</td>\n",
       "      <td>74432.548869</td>\n",
       "      <td>915681.012054</td>\n",
       "      <td>58.0</td>\n",
       "      <td>0.0</td>\n",
       "      <td>0.0</td>\n",
       "      <td>0.0</td>\n",
       "      <td>98.000000</td>\n",
       "      <td>98</td>\n",
       "      <td>98</td>\n",
       "      <td>232</td>\n",
       "      <td>6.0</td>\n",
       "      <td>0</td>\n",
       "      <td>2.044248e+09</td>\n",
       "      <td>2.145664e+09</td>\n",
       "      <td>1</td>\n",
       "      <td>0</td>\n",
       "      <td>0</td>\n",
       "      <td>0</td>\n",
       "    </tr>\n",
       "    <tr>\n",
       "      <th>2</th>\n",
       "      <td>64.0</td>\n",
       "      <td>0.0</td>\n",
       "      <td>74432.548869</td>\n",
       "      <td>915681.012054</td>\n",
       "      <td>117.0</td>\n",
       "      <td>0.0</td>\n",
       "      <td>0.0</td>\n",
       "      <td>0.0</td>\n",
       "      <td>1245.979614</td>\n",
       "      <td>249093</td>\n",
       "      <td>244212</td>\n",
       "      <td>336</td>\n",
       "      <td>11.0</td>\n",
       "      <td>1</td>\n",
       "      <td>2.044248e+09</td>\n",
       "      <td>2.145664e+09</td>\n",
       "      <td>1</td>\n",
       "      <td>0</td>\n",
       "      <td>0</td>\n",
       "      <td>4881</td>\n",
       "    </tr>\n",
       "    <tr>\n",
       "      <th>3</th>\n",
       "      <td>64.0</td>\n",
       "      <td>0.0</td>\n",
       "      <td>74432.548869</td>\n",
       "      <td>915681.012054</td>\n",
       "      <td>117.0</td>\n",
       "      <td>0.0</td>\n",
       "      <td>0.0</td>\n",
       "      <td>0.0</td>\n",
       "      <td>1326.656494</td>\n",
       "      <td>221712</td>\n",
       "      <td>216245</td>\n",
       "      <td>440</td>\n",
       "      <td>11.0</td>\n",
       "      <td>1</td>\n",
       "      <td>2.044248e+09</td>\n",
       "      <td>2.145664e+09</td>\n",
       "      <td>1</td>\n",
       "      <td>0</td>\n",
       "      <td>0</td>\n",
       "      <td>5467</td>\n",
       "    </tr>\n",
       "    <tr>\n",
       "      <th>4</th>\n",
       "      <td>64.0</td>\n",
       "      <td>0.0</td>\n",
       "      <td>74432.548869</td>\n",
       "      <td>915681.012054</td>\n",
       "      <td>117.0</td>\n",
       "      <td>0.0</td>\n",
       "      <td>0.0</td>\n",
       "      <td>0.0</td>\n",
       "      <td>1351.583374</td>\n",
       "      <td>280216</td>\n",
       "      <td>275723</td>\n",
       "      <td>544</td>\n",
       "      <td>11.0</td>\n",
       "      <td>1</td>\n",
       "      <td>2.044248e+09</td>\n",
       "      <td>2.145664e+09</td>\n",
       "      <td>1</td>\n",
       "      <td>0</td>\n",
       "      <td>0</td>\n",
       "      <td>4493</td>\n",
       "    </tr>\n",
       "    <tr>\n",
       "      <th>...</th>\n",
       "      <td>...</td>\n",
       "      <td>...</td>\n",
       "      <td>...</td>\n",
       "      <td>...</td>\n",
       "      <td>...</td>\n",
       "      <td>...</td>\n",
       "      <td>...</td>\n",
       "      <td>...</td>\n",
       "      <td>...</td>\n",
       "      <td>...</td>\n",
       "      <td>...</td>\n",
       "      <td>...</td>\n",
       "      <td>...</td>\n",
       "      <td>...</td>\n",
       "      <td>...</td>\n",
       "      <td>...</td>\n",
       "      <td>...</td>\n",
       "      <td>...</td>\n",
       "      <td>...</td>\n",
       "      <td>...</td>\n",
       "    </tr>\n",
       "    <tr>\n",
       "      <th>1215670</th>\n",
       "      <td>255.0</td>\n",
       "      <td>1.0</td>\n",
       "      <td>74432.928519</td>\n",
       "      <td>915740.586960</td>\n",
       "      <td>252.0</td>\n",
       "      <td>186.0</td>\n",
       "      <td>0.0</td>\n",
       "      <td>0.0</td>\n",
       "      <td>102.000000</td>\n",
       "      <td>200</td>\n",
       "      <td>102</td>\n",
       "      <td>190300</td>\n",
       "      <td>4.0</td>\n",
       "      <td>0</td>\n",
       "      <td>2.044248e+09</td>\n",
       "      <td>2.145664e+09</td>\n",
       "      <td>0</td>\n",
       "      <td>1</td>\n",
       "      <td>0</td>\n",
       "      <td>98</td>\n",
       "    </tr>\n",
       "    <tr>\n",
       "      <th>1215671</th>\n",
       "      <td>250.0</td>\n",
       "      <td>6.0</td>\n",
       "      <td>74432.907511</td>\n",
       "      <td>915737.284844</td>\n",
       "      <td>255.0</td>\n",
       "      <td>40.0</td>\n",
       "      <td>0.0</td>\n",
       "      <td>0.0</td>\n",
       "      <td>96.666664</td>\n",
       "      <td>3056</td>\n",
       "      <td>290</td>\n",
       "      <td>190392</td>\n",
       "      <td>1.0</td>\n",
       "      <td>0</td>\n",
       "      <td>2.044248e+09</td>\n",
       "      <td>2.145664e+09</td>\n",
       "      <td>0</td>\n",
       "      <td>1</td>\n",
       "      <td>0</td>\n",
       "      <td>2766</td>\n",
       "    </tr>\n",
       "    <tr>\n",
       "      <th>1215672</th>\n",
       "      <td>114.0</td>\n",
       "      <td>14.0</td>\n",
       "      <td>273.000000</td>\n",
       "      <td>213.000000</td>\n",
       "      <td>64.0</td>\n",
       "      <td>0.0</td>\n",
       "      <td>0.0</td>\n",
       "      <td>0.0</td>\n",
       "      <td>80.000000</td>\n",
       "      <td>252</td>\n",
       "      <td>160</td>\n",
       "      <td>190496</td>\n",
       "      <td>0.0</td>\n",
       "      <td>0</td>\n",
       "      <td>2.237373e+09</td>\n",
       "      <td>1.983280e+09</td>\n",
       "      <td>1</td>\n",
       "      <td>0</td>\n",
       "      <td>1</td>\n",
       "      <td>92</td>\n",
       "    </tr>\n",
       "    <tr>\n",
       "      <th>1215673</th>\n",
       "      <td>250.0</td>\n",
       "      <td>6.0</td>\n",
       "      <td>74432.907511</td>\n",
       "      <td>915737.284844</td>\n",
       "      <td>255.0</td>\n",
       "      <td>40.0</td>\n",
       "      <td>0.0</td>\n",
       "      <td>0.0</td>\n",
       "      <td>102.000000</td>\n",
       "      <td>596</td>\n",
       "      <td>306</td>\n",
       "      <td>190704</td>\n",
       "      <td>1.0</td>\n",
       "      <td>0</td>\n",
       "      <td>2.044248e+09</td>\n",
       "      <td>2.145664e+09</td>\n",
       "      <td>0</td>\n",
       "      <td>1</td>\n",
       "      <td>0</td>\n",
       "      <td>290</td>\n",
       "    </tr>\n",
       "    <tr>\n",
       "      <th>1215674</th>\n",
       "      <td>255.0</td>\n",
       "      <td>1.0</td>\n",
       "      <td>74432.928519</td>\n",
       "      <td>915740.586960</td>\n",
       "      <td>252.0</td>\n",
       "      <td>186.0</td>\n",
       "      <td>0.0</td>\n",
       "      <td>0.0</td>\n",
       "      <td>100.000000</td>\n",
       "      <td>392</td>\n",
       "      <td>200</td>\n",
       "      <td>190808</td>\n",
       "      <td>4.0</td>\n",
       "      <td>0</td>\n",
       "      <td>2.044248e+09</td>\n",
       "      <td>2.145664e+09</td>\n",
       "      <td>0</td>\n",
       "      <td>1</td>\n",
       "      <td>0</td>\n",
       "      <td>192</td>\n",
       "    </tr>\n",
       "  </tbody>\n",
       "</table>\n",
       "<p>1215675 rows × 20 columns</p>\n",
       "</div>"
      ],
      "text/plain": [
       "          dTtl  dHops        DstWin         SrcWin   sTtl   dTos  DstGap  \\\n",
       "0         64.0    0.0  74432.548869  915681.012054   58.0    0.0     0.0   \n",
       "1         64.0    0.0  74432.548869  915681.012054   58.0    0.0     0.0   \n",
       "2         64.0    0.0  74432.548869  915681.012054  117.0    0.0     0.0   \n",
       "3         64.0    0.0  74432.548869  915681.012054  117.0    0.0     0.0   \n",
       "4         64.0    0.0  74432.548869  915681.012054  117.0    0.0     0.0   \n",
       "...        ...    ...           ...            ...    ...    ...     ...   \n",
       "1215670  255.0    1.0  74432.928519  915740.586960  252.0  186.0     0.0   \n",
       "1215671  250.0    6.0  74432.907511  915737.284844  255.0   40.0     0.0   \n",
       "1215672  114.0   14.0    273.000000     213.000000   64.0    0.0     0.0   \n",
       "1215673  250.0    6.0  74432.907511  915737.284844  255.0   40.0     0.0   \n",
       "1215674  255.0    1.0  74432.928519  915740.586960  252.0  186.0     0.0   \n",
       "\n",
       "         SrcGap   sMeanPktSz  TotBytes  SrcBytes  Offset  sHops  Proto_udp  \\\n",
       "0           0.0    98.000000        98        98     128    6.0          0   \n",
       "1           0.0    98.000000        98        98     232    6.0          0   \n",
       "2           0.0  1245.979614    249093    244212     336   11.0          1   \n",
       "3           0.0  1326.656494    221712    216245     440   11.0          1   \n",
       "4           0.0  1351.583374    280216    275723     544   11.0          1   \n",
       "...         ...          ...       ...       ...     ...    ...        ...   \n",
       "1215670     0.0   102.000000       200       102  190300    4.0          0   \n",
       "1215671     0.0    96.666664      3056       290  190392    1.0          0   \n",
       "1215672     0.0    80.000000       252       160  190496    0.0          0   \n",
       "1215673     0.0   102.000000       596       306  190704    1.0          0   \n",
       "1215674     0.0   100.000000       392       200  190808    4.0          0   \n",
       "\n",
       "           SrcTCPBase    DstTCPBase  sDSb_cs0  Cause_Status  Proto_tcp  \\\n",
       "0        2.044248e+09  2.145664e+09         1             0          0   \n",
       "1        2.044248e+09  2.145664e+09         1             0          0   \n",
       "2        2.044248e+09  2.145664e+09         1             0          0   \n",
       "3        2.044248e+09  2.145664e+09         1             0          0   \n",
       "4        2.044248e+09  2.145664e+09         1             0          0   \n",
       "...               ...           ...       ...           ...        ...   \n",
       "1215670  2.044248e+09  2.145664e+09         0             1          0   \n",
       "1215671  2.044248e+09  2.145664e+09         0             1          0   \n",
       "1215672  2.237373e+09  1.983280e+09         1             0          1   \n",
       "1215673  2.044248e+09  2.145664e+09         0             1          0   \n",
       "1215674  2.044248e+09  2.145664e+09         0             1          0   \n",
       "\n",
       "         DstBytes  \n",
       "0               0  \n",
       "1               0  \n",
       "2            4881  \n",
       "3            5467  \n",
       "4            4493  \n",
       "...           ...  \n",
       "1215670        98  \n",
       "1215671      2766  \n",
       "1215672        92  \n",
       "1215673       290  \n",
       "1215674       192  \n",
       "\n",
       "[1215675 rows x 20 columns]"
      ]
     },
     "execution_count": 54,
     "metadata": {},
     "output_type": "execute_result"
    }
   ],
   "source": [
    "new_data = data[result.keys()]\n",
    "new_data\n"
   ]
  },
  {
   "cell_type": "code",
   "execution_count": 55,
   "id": "0a74fc1f-4590-4dbe-ac64-0424258a39f4",
   "metadata": {},
   "outputs": [],
   "source": [
    "def min_max_normalisation(X):\n",
    "  from sklearn.preprocessing import MinMaxScaler\n",
    "  scaler = MinMaxScaler(feature_range=(-1, 1))\n",
    "  scaled_data = scaler.fit_transform(X)\n",
    "  return scaled_data"
   ]
  },
  {
   "cell_type": "code",
   "execution_count": 56,
   "id": "b17517b5-7fe7-4b5c-8056-879c85e0f760",
   "metadata": {},
   "outputs": [],
   "source": [
    "normalised_data = min_max_normalisation(new_data)\n"
   ]
  },
  {
   "cell_type": "code",
   "execution_count": null,
   "id": "88884f59-47e3-42e1-89bb-6a37bb519878",
   "metadata": {},
   "outputs": [],
   "source": [
    "#Stratifies K fold "
   ]
  },
  {
   "cell_type": "code",
   "execution_count": 58,
   "id": "1c37f340-25ef-4df7-ac4e-a656086d14df",
   "metadata": {},
   "outputs": [],
   "source": [
    "\n",
    "skf = StratifiedKFold(n_splits=5, shuffle=True, random_state=42)\n"
   ]
  },
  {
   "cell_type": "code",
   "execution_count": 60,
   "id": "0e4998f7-ac3d-4b08-ae47-c036e4384565",
   "metadata": {},
   "outputs": [],
   "source": [
    "X= normalised_data\n",
    "y= Y"
   ]
  },
  {
   "cell_type": "code",
   "execution_count": 64,
   "id": "98c47b31-2d16-48c9-83c9-51b47c392f03",
   "metadata": {},
   "outputs": [],
   "source": [
    "accuracy_scores = []\n",
    "precision_scores = []\n",
    "recall_scores = []\n",
    "f1_scores = []"
   ]
  },
  {
   "cell_type": "code",
   "execution_count": 73,
   "id": "55e5e718-59a0-446f-bdec-34595a8d7eb2",
   "metadata": {},
   "outputs": [],
   "source": [
    "for train_index, test_index in skf.split(X, y):\n",
    "    X_train, X_test = X[train_index], X[test_index]\n",
    "    y_train, y_test = y[train_index], y[test_index]\n",
    "    \n",
    "    # Initialize kNN classifier\n",
    "    knn = KNeighborsClassifier(n_neighbors=20)\n",
    "    \n",
    "    # Train the classifier\n",
    "    knn.fit(X_train, y_train)\n",
    "    \n",
    "    # Predict on the test set\n",
    "    y_pred = knn.predict(X_test)\n",
    "    \n",
    "    # Calculate evaluation metrics and store them\n",
    "    accuracy_scores.append(accuracy_score(y_test, y_pred))\n",
    "    precision_scores.append(precision_score(y_test, y_pred, average='weighted'))\n",
    "    recall_scores.append(recall_score(y_test, y_pred, average='weighted'))\n",
    "    f1_scores.append(f1_score(y_test, y_pred, average='weighted'))\n"
   ]
  },
  {
   "cell_type": "code",
   "execution_count": 68,
   "id": "3dd9a259-c91b-4ae4-94d5-f45ab135a5a2",
   "metadata": {},
   "outputs": [
    {
     "name": "stdout",
     "output_type": "stream",
     "text": [
      "Average Accuracy: 0.9995537458613528\n"
     ]
    }
   ],
   "source": [
    "# Calculate and print the average accuracy\n",
    "avg_accuracy = np.mean(accuracy_scores)\n",
    "print(\"Average Accuracy:\", avg_accuracy)"
   ]
  },
  {
   "cell_type": "code",
   "execution_count": 69,
   "id": "86cff074-0405-4480-b5be-ed3b9d5edb8e",
   "metadata": {},
   "outputs": [
    {
     "data": {
      "text/plain": [
       "[0.9995969317457379,\n",
       " 0.9995969317457379,\n",
       " 0.9994941082114874,\n",
       " 0.999605157628478,\n",
       " 0.9995516893906677,\n",
       " 0.9994776564460074]"
      ]
     },
     "execution_count": 69,
     "metadata": {},
     "output_type": "execute_result"
    }
   ],
   "source": [
    "accuracy_scores"
   ]
  },
  {
   "cell_type": "code",
   "execution_count": 70,
   "id": "572876ae-cfa2-41e5-a5fe-6d576f7e94e4",
   "metadata": {},
   "outputs": [
    {
     "data": {
      "text/plain": [
       "[0.9995971991337005,\n",
       " 0.999494483918819,\n",
       " 0.9996054022042862,\n",
       " 0.9995520201464306,\n",
       " 0.999478073823047]"
      ]
     },
     "execution_count": 70,
     "metadata": {},
     "output_type": "execute_result"
    }
   ],
   "source": [
    "precision_scores"
   ]
  },
  {
   "cell_type": "code",
   "execution_count": 71,
   "id": "048ba7cb-9619-4bce-9435-e344c20cdb82",
   "metadata": {},
   "outputs": [
    {
     "data": {
      "text/plain": [
       "[0.9995969317457379,\n",
       " 0.9994941082114874,\n",
       " 0.999605157628478,\n",
       " 0.9995516893906677,\n",
       " 0.9994776564460074]"
      ]
     },
     "execution_count": 71,
     "metadata": {},
     "output_type": "execute_result"
    }
   ],
   "source": [
    "recall_scores"
   ]
  },
  {
   "cell_type": "code",
   "execution_count": 72,
   "id": "414622de-35b6-4791-bcef-1808fd5b211c",
   "metadata": {},
   "outputs": [
    {
     "data": {
      "text/plain": [
       "[0.9995968951622995,\n",
       " 0.9994940533715932,\n",
       " 0.9996051232558122,\n",
       " 0.9995516441213531,\n",
       " 0.9994775969089443]"
      ]
     },
     "execution_count": 72,
     "metadata": {},
     "output_type": "execute_result"
    }
   ],
   "source": [
    "f1_scores"
   ]
  },
  {
   "cell_type": "code",
   "execution_count": null,
   "id": "67730715-a382-49f3-b7a4-c7d01844960c",
   "metadata": {},
   "outputs": [],
   "source": [
    "#SVM"
   ]
  },
  {
   "cell_type": "code",
   "execution_count": null,
   "id": "bdfb73f7-e94c-4dbd-9605-0d67be4462dc",
   "metadata": {},
   "outputs": [],
   "source": [
    "for train_index, test_index in skf.split(X, y):\n",
    "    X_train, X_test = X[train_index], X[test_index]\n",
    "    y_train, y_test = y[train_index], y[test_index]\n",
    "    \n",
    "    # Initialize SVM classifier\n",
    "    svm = SVC(kernel='rbf', C=1, gamma='auto')\n",
    "    \n",
    "    # Train the classifier\n",
    "    svm.fit(X_train, y_train)\n",
    "    \n",
    "    # Predict on the test set\n",
    "    y_pred = svm.predict(X_test)\n",
    "    \n",
    "    # Calculate evaluation metrics and store them\n",
    "    accuracy_scores.append(accuracy_score(y_test, y_pred))\n",
    "    precision_scores.append(precision_score(y_test, y_pred, average='weighted'))\n",
    "    recall_scores.append(recall_score(y_test, y_pred, average='weighted'))\n",
    "    f1_scores.append(f1_score(y_test, y_pred, average='weighted'))\n"
   ]
  },
  {
   "cell_type": "code",
   "execution_count": null,
   "id": "8218f314-382a-401e-9505-5123d988a462",
   "metadata": {},
   "outputs": [],
   "source": [
    "# Calculate and print the average accuracy\n",
    "avg_accuracy = np.mean(accuracy_scores)\n",
    "print(\"Average Accuracy:\", avg_accuracy)"
   ]
  }
 ],
 "metadata": {
  "kernelspec": {
   "display_name": "Python 3 (ipykernel)",
   "language": "python",
   "name": "python3"
  },
  "language_info": {
   "codemirror_mode": {
    "name": "ipython",
    "version": 3
   },
   "file_extension": ".py",
   "mimetype": "text/x-python",
   "name": "python",
   "nbconvert_exporter": "python",
   "pygments_lexer": "ipython3",
   "version": "3.11.7"
  }
 },
 "nbformat": 4,
 "nbformat_minor": 5
}
