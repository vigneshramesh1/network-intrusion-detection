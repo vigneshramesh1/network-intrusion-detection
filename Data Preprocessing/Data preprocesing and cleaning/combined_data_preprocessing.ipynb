{
 "metadata": {
  "kernelspec": {
   "language": "python",
   "display_name": "Python 3",
   "name": "python3"
  },
  "language_info": {
   "name": "python",
   "version": "3.10.13",
   "mimetype": "text/x-python",
   "codemirror_mode": {
    "name": "ipython",
    "version": 3
   },
   "pygments_lexer": "ipython3",
   "nbconvert_exporter": "python",
   "file_extension": ".py"
  },
  "kaggle": {
   "accelerator": "gpu",
   "dataSources": [
    {
     "sourceId": 5022035,
     "sourceType": "datasetVersion",
     "datasetId": 2914217
    }
   ],
   "dockerImageVersionId": 30664,
   "isInternetEnabled": true,
   "language": "python",
   "sourceType": "notebook",
   "isGpuEnabled": true
  }
 },
 "nbformat_minor": 4,
 "nbformat": 4,
 "cells": [
  {
   "cell_type": "code",
   "source": [
    "# This Python 3 environment comes with many helpful analytics libraries installed\n",
    "# It is defined by the kaggle/python Docker image: https://github.com/kaggle/docker-python\n",
    "# For example, here's several helpful packages to load\n",
    "\n",
    "import numpy as np # linear algebra\n",
    "import pandas as pd # data processing, CSV file I/O (e.g. pd.read_csv)\n",
    "\n",
    "# Input data files are available in the read-only \"../input/\" directory\n",
    "# For example, running this (by clicking run or pressing Shift+Enter) will list all files under the input directory\n",
    "\n",
    "import os\n",
    "for dirname, _, filenames in os.walk('/kaggle/input'):\n",
    "    for filename in filenames:\n",
    "        print(os.path.join(dirname, filename))\n",
    "\n",
    "# You can write up to 20GB to the current directory (/kaggle/working/) that gets preserved as output when you create a version using \"Save & Run All\" \n",
    "# You can also write temporary files to /kaggle/temp/, but they won't be saved outside of the current session"
   ],
   "metadata": {
    "_uuid": "8f2839f25d086af736a60e9eeb907d3b93b6e0e5",
    "_cell_guid": "b1076dfc-b9ad-4769-8c92-a6c4dae69d19",
    "execution": {
     "iopub.status.busy": "2024-03-13T06:03:37.222023Z",
     "iopub.execute_input": "2024-03-13T06:03:37.222429Z",
     "iopub.status.idle": "2024-03-13T06:03:37.230103Z",
     "shell.execute_reply.started": "2024-03-13T06:03:37.222386Z",
     "shell.execute_reply": "2024-03-13T06:03:37.229102Z"
    },
    "trusted": true
   },
   "execution_count": 61,
   "outputs": [
    {
     "name": "stdout",
     "text": "/kaggle/input/5g-nidd-dataset/Combined.csv\n",
     "output_type": "stream"
    }
   ]
  },
  {
   "cell_type": "code",
   "source": [
    "import shutil\n",
    "\n",
    "input_path = '/kaggle/input/5g-nidd-dataset'\n",
    "output_path = '/kaggle/working/5g-nidd-dataset'\n",
    "# Copy dataset into working directory\n",
    "shutil.copytree(input_path, output_path)"
   ],
   "metadata": {
    "execution": {
     "iopub.status.busy": "2024-03-13T06:03:37.243413Z",
     "iopub.execute_input": "2024-03-13T06:03:37.243724Z",
     "iopub.status.idle": "2024-03-13T06:03:37.477535Z",
     "shell.execute_reply.started": "2024-03-13T06:03:37.243700Z",
     "shell.execute_reply": "2024-03-13T06:03:37.476557Z"
    },
    "trusted": true
   },
   "execution_count": 62,
   "outputs": [
    {
     "execution_count": 62,
     "output_type": "execute_result",
     "data": {
      "text/plain": "'/kaggle/working/5g-nidd-dataset'"
     },
     "metadata": {}
    }
   ]
  },
  {
   "cell_type": "code",
   "source": [
    "cd /kaggle/working/5g-nidd-dataset"
   ],
   "metadata": {
    "execution": {
     "iopub.status.busy": "2024-03-13T06:03:37.479241Z",
     "iopub.execute_input": "2024-03-13T06:03:37.479510Z",
     "iopub.status.idle": "2024-03-13T06:03:37.485946Z",
     "shell.execute_reply.started": "2024-03-13T06:03:37.479487Z",
     "shell.execute_reply": "2024-03-13T06:03:37.484998Z"
    },
    "trusted": true
   },
   "execution_count": 63,
   "outputs": [
    {
     "name": "stdout",
     "text": "/kaggle/working/5g-nidd-dataset\n",
     "output_type": "stream"
    }
   ]
  },
  {
   "cell_type": "code",
   "source": [
    "!pip install fancyimpute\n",
    "!pip install torch"
   ],
   "metadata": {
    "execution": {
     "iopub.status.busy": "2024-03-13T06:03:37.487176Z",
     "iopub.execute_input": "2024-03-13T06:03:37.487484Z",
     "iopub.status.idle": "2024-03-13T06:04:04.566488Z",
     "shell.execute_reply.started": "2024-03-13T06:03:37.487452Z",
     "shell.execute_reply": "2024-03-13T06:04:04.565302Z"
    },
    "trusted": true
   },
   "execution_count": 64,
   "outputs": [
    {
     "name": "stdout",
     "text": "Requirement already satisfied: fancyimpute in /opt/conda/lib/python3.10/site-packages (0.7.0)\nRequirement already satisfied: knnimpute>=0.1.0 in /opt/conda/lib/python3.10/site-packages (from fancyimpute) (0.1.0)\nRequirement already satisfied: scikit-learn>=0.24.2 in /opt/conda/lib/python3.10/site-packages (from fancyimpute) (1.2.2)\nRequirement already satisfied: cvxpy in /opt/conda/lib/python3.10/site-packages (from fancyimpute) (1.4.2)\nRequirement already satisfied: cvxopt in /opt/conda/lib/python3.10/site-packages (from fancyimpute) (1.3.2)\nRequirement already satisfied: pytest in /opt/conda/lib/python3.10/site-packages (from fancyimpute) (8.0.1)\nRequirement already satisfied: nose in /opt/conda/lib/python3.10/site-packages (from fancyimpute) (1.3.7)\nRequirement already satisfied: six in /opt/conda/lib/python3.10/site-packages (from knnimpute>=0.1.0->fancyimpute) (1.16.0)\nRequirement already satisfied: numpy>=1.10 in /opt/conda/lib/python3.10/site-packages (from knnimpute>=0.1.0->fancyimpute) (1.26.4)\nRequirement already satisfied: scipy>=1.3.2 in /opt/conda/lib/python3.10/site-packages (from scikit-learn>=0.24.2->fancyimpute) (1.11.4)\nRequirement already satisfied: joblib>=1.1.1 in /opt/conda/lib/python3.10/site-packages (from scikit-learn>=0.24.2->fancyimpute) (1.3.2)\nRequirement already satisfied: threadpoolctl>=2.0.0 in /opt/conda/lib/python3.10/site-packages (from scikit-learn>=0.24.2->fancyimpute) (3.2.0)\nRequirement already satisfied: osqp>=0.6.2 in /opt/conda/lib/python3.10/site-packages (from cvxpy->fancyimpute) (0.6.5)\nRequirement already satisfied: ecos>=2 in /opt/conda/lib/python3.10/site-packages (from cvxpy->fancyimpute) (2.0.13)\nRequirement already satisfied: clarabel>=0.5.0 in /opt/conda/lib/python3.10/site-packages (from cvxpy->fancyimpute) (0.7.1)\nRequirement already satisfied: scs>=3.0 in /opt/conda/lib/python3.10/site-packages (from cvxpy->fancyimpute) (3.2.4.post1)\nRequirement already satisfied: pybind11 in /opt/conda/lib/python3.10/site-packages (from cvxpy->fancyimpute) (2.11.1)\nRequirement already satisfied: iniconfig in /opt/conda/lib/python3.10/site-packages (from pytest->fancyimpute) (2.0.0)\nRequirement already satisfied: packaging in /opt/conda/lib/python3.10/site-packages (from pytest->fancyimpute) (21.3)\nRequirement already satisfied: pluggy<2.0,>=1.3.0 in /opt/conda/lib/python3.10/site-packages (from pytest->fancyimpute) (1.3.0)\nRequirement already satisfied: exceptiongroup>=1.0.0rc8 in /opt/conda/lib/python3.10/site-packages (from pytest->fancyimpute) (1.2.0)\nRequirement already satisfied: tomli>=1.0.0 in /opt/conda/lib/python3.10/site-packages (from pytest->fancyimpute) (2.0.1)\nRequirement already satisfied: qdldl in /opt/conda/lib/python3.10/site-packages (from osqp>=0.6.2->cvxpy->fancyimpute) (0.1.7.post0)\nRequirement already satisfied: pyparsing!=3.0.5,>=2.0.2 in /opt/conda/lib/python3.10/site-packages (from packaging->pytest->fancyimpute) (3.1.1)\nRequirement already satisfied: torch in /opt/conda/lib/python3.10/site-packages (2.1.2)\nRequirement already satisfied: filelock in /opt/conda/lib/python3.10/site-packages (from torch) (3.13.1)\nRequirement already satisfied: typing-extensions in /opt/conda/lib/python3.10/site-packages (from torch) (4.9.0)\nRequirement already satisfied: sympy in /opt/conda/lib/python3.10/site-packages (from torch) (1.12)\nRequirement already satisfied: networkx in /opt/conda/lib/python3.10/site-packages (from torch) (3.2.1)\nRequirement already satisfied: jinja2 in /opt/conda/lib/python3.10/site-packages (from torch) (3.1.2)\nRequirement already satisfied: fsspec in /opt/conda/lib/python3.10/site-packages (from torch) (2024.2.0)\nRequirement already satisfied: MarkupSafe>=2.0 in /opt/conda/lib/python3.10/site-packages (from jinja2->torch) (2.1.3)\nRequirement already satisfied: mpmath>=0.19 in /opt/conda/lib/python3.10/site-packages (from sympy->torch) (1.3.0)\n",
     "output_type": "stream"
    }
   ]
  },
  {
   "cell_type": "code",
   "source": [
    "import numpy as np\n",
    "import pandas as pd\n",
    "import matplotlib.pyplot as plt\n",
    "import seaborn as sns\n",
    "import requests, zipfile, io\n",
    "import sklearn\n",
    "from sklearn import preprocessing\n",
    "from sklearn.model_selection import train_test_split\n",
    "from sklearn.metrics import accuracy_score\n",
    "import fancyimpute\n",
    "from fancyimpute import IterativeImputer\n",
    "from sklearn.preprocessing import LabelEncoder\n",
    "from sklearn.preprocessing import MinMaxScaler"
   ],
   "metadata": {
    "execution": {
     "iopub.status.busy": "2024-03-13T06:04:04.568360Z",
     "iopub.execute_input": "2024-03-13T06:04:04.568763Z",
     "iopub.status.idle": "2024-03-13T06:04:04.578287Z",
     "shell.execute_reply.started": "2024-03-13T06:04:04.568728Z",
     "shell.execute_reply": "2024-03-13T06:04:04.577200Z"
    },
    "trusted": true
   },
   "execution_count": 65,
   "outputs": []
  },
  {
   "cell_type": "code",
   "source": [
    "pd.set_option('future.no_silent_downcasting', True)"
   ],
   "metadata": {
    "execution": {
     "iopub.status.busy": "2024-03-13T06:04:04.582452Z",
     "iopub.execute_input": "2024-03-13T06:04:04.582893Z",
     "iopub.status.idle": "2024-03-13T06:04:04.594642Z",
     "shell.execute_reply.started": "2024-03-13T06:04:04.582863Z",
     "shell.execute_reply": "2024-03-13T06:04:04.593571Z"
    },
    "trusted": true
   },
   "execution_count": 66,
   "outputs": []
  },
  {
   "cell_type": "code",
   "source": [
    "df = pd.read_csv('Combined.csv', low_memory=False)\n",
    "print(df.shape)\n",
    "df.head()"
   ],
   "metadata": {
    "execution": {
     "iopub.status.busy": "2024-03-13T06:04:04.623689Z",
     "iopub.execute_input": "2024-03-13T06:04:04.624138Z",
     "iopub.status.idle": "2024-03-13T06:04:15.116396Z",
     "shell.execute_reply.started": "2024-03-13T06:04:04.624102Z",
     "shell.execute_reply": "2024-03-13T06:04:15.115445Z"
    },
    "trusted": true
   },
   "execution_count": 69,
   "outputs": [
    {
     "name": "stdout",
     "text": "(1215890, 52)\n",
     "output_type": "stream"
    },
    {
     "execution_count": 69,
     "output_type": "execute_result",
     "data": {
      "text/plain": "   Unnamed: 0  Seq       Dur   RunTime      Mean       Sum       Min  \\\n0           0    1  0.000000  0.000000  0.000000  0.000000  0.000000   \n1           1    2  0.000000  0.000000  0.000000  0.000000  0.000000   \n2           2    3  4.998020  4.998020  4.998020  4.998020  4.998020   \n3           3    4  4.998037  4.998037  4.998037  4.998037  4.998037   \n4           4    5  4.999453  4.999453  4.999453  4.999453  4.999453   \n\n        Max Proto  sTos  ...  sVid dVid SrcTCPBase  DstTCPBase  TcpRtt  \\\n0  0.000000  icmp   0.0  ...   NaN  NaN        NaN         NaN     0.0   \n1  0.000000  icmp   0.0  ...   NaN  NaN        NaN         NaN     0.0   \n2  4.998020   udp   0.0  ...   NaN  NaN        NaN         NaN     0.0   \n3  4.998037   udp   0.0  ...   NaN  NaN        NaN         NaN     0.0   \n4  4.999453   udp   0.0  ...   NaN  NaN        NaN         NaN     0.0   \n\n   SynAck  AckDat   Label  Attack Type  Attack Tool  \n0     0.0     0.0  Benign       Benign       Benign  \n1     0.0     0.0  Benign       Benign       Benign  \n2     0.0     0.0  Benign       Benign       Benign  \n3     0.0     0.0  Benign       Benign       Benign  \n4     0.0     0.0  Benign       Benign       Benign  \n\n[5 rows x 52 columns]",
      "text/html": "<div>\n<style scoped>\n    .dataframe tbody tr th:only-of-type {\n        vertical-align: middle;\n    }\n\n    .dataframe tbody tr th {\n        vertical-align: top;\n    }\n\n    .dataframe thead th {\n        text-align: right;\n    }\n</style>\n<table border=\"1\" class=\"dataframe\">\n  <thead>\n    <tr style=\"text-align: right;\">\n      <th></th>\n      <th>Unnamed: 0</th>\n      <th>Seq</th>\n      <th>Dur</th>\n      <th>RunTime</th>\n      <th>Mean</th>\n      <th>Sum</th>\n      <th>Min</th>\n      <th>Max</th>\n      <th>Proto</th>\n      <th>sTos</th>\n      <th>...</th>\n      <th>sVid</th>\n      <th>dVid</th>\n      <th>SrcTCPBase</th>\n      <th>DstTCPBase</th>\n      <th>TcpRtt</th>\n      <th>SynAck</th>\n      <th>AckDat</th>\n      <th>Label</th>\n      <th>Attack Type</th>\n      <th>Attack Tool</th>\n    </tr>\n  </thead>\n  <tbody>\n    <tr>\n      <th>0</th>\n      <td>0</td>\n      <td>1</td>\n      <td>0.000000</td>\n      <td>0.000000</td>\n      <td>0.000000</td>\n      <td>0.000000</td>\n      <td>0.000000</td>\n      <td>0.000000</td>\n      <td>icmp</td>\n      <td>0.0</td>\n      <td>...</td>\n      <td>NaN</td>\n      <td>NaN</td>\n      <td>NaN</td>\n      <td>NaN</td>\n      <td>0.0</td>\n      <td>0.0</td>\n      <td>0.0</td>\n      <td>Benign</td>\n      <td>Benign</td>\n      <td>Benign</td>\n    </tr>\n    <tr>\n      <th>1</th>\n      <td>1</td>\n      <td>2</td>\n      <td>0.000000</td>\n      <td>0.000000</td>\n      <td>0.000000</td>\n      <td>0.000000</td>\n      <td>0.000000</td>\n      <td>0.000000</td>\n      <td>icmp</td>\n      <td>0.0</td>\n      <td>...</td>\n      <td>NaN</td>\n      <td>NaN</td>\n      <td>NaN</td>\n      <td>NaN</td>\n      <td>0.0</td>\n      <td>0.0</td>\n      <td>0.0</td>\n      <td>Benign</td>\n      <td>Benign</td>\n      <td>Benign</td>\n    </tr>\n    <tr>\n      <th>2</th>\n      <td>2</td>\n      <td>3</td>\n      <td>4.998020</td>\n      <td>4.998020</td>\n      <td>4.998020</td>\n      <td>4.998020</td>\n      <td>4.998020</td>\n      <td>4.998020</td>\n      <td>udp</td>\n      <td>0.0</td>\n      <td>...</td>\n      <td>NaN</td>\n      <td>NaN</td>\n      <td>NaN</td>\n      <td>NaN</td>\n      <td>0.0</td>\n      <td>0.0</td>\n      <td>0.0</td>\n      <td>Benign</td>\n      <td>Benign</td>\n      <td>Benign</td>\n    </tr>\n    <tr>\n      <th>3</th>\n      <td>3</td>\n      <td>4</td>\n      <td>4.998037</td>\n      <td>4.998037</td>\n      <td>4.998037</td>\n      <td>4.998037</td>\n      <td>4.998037</td>\n      <td>4.998037</td>\n      <td>udp</td>\n      <td>0.0</td>\n      <td>...</td>\n      <td>NaN</td>\n      <td>NaN</td>\n      <td>NaN</td>\n      <td>NaN</td>\n      <td>0.0</td>\n      <td>0.0</td>\n      <td>0.0</td>\n      <td>Benign</td>\n      <td>Benign</td>\n      <td>Benign</td>\n    </tr>\n    <tr>\n      <th>4</th>\n      <td>4</td>\n      <td>5</td>\n      <td>4.999453</td>\n      <td>4.999453</td>\n      <td>4.999453</td>\n      <td>4.999453</td>\n      <td>4.999453</td>\n      <td>4.999453</td>\n      <td>udp</td>\n      <td>0.0</td>\n      <td>...</td>\n      <td>NaN</td>\n      <td>NaN</td>\n      <td>NaN</td>\n      <td>NaN</td>\n      <td>0.0</td>\n      <td>0.0</td>\n      <td>0.0</td>\n      <td>Benign</td>\n      <td>Benign</td>\n      <td>Benign</td>\n    </tr>\n  </tbody>\n</table>\n<p>5 rows × 52 columns</p>\n</div>"
     },
     "metadata": {}
    }
   ]
  },
  {
   "cell_type": "code",
   "source": [
    "num_classes = df['Attack Type'].nunique()\n",
    "labels = df['Attack Type'].unique()\n",
    "print(labels)\n",
    "print(num_classes)"
   ],
   "metadata": {
    "execution": {
     "iopub.status.busy": "2024-03-13T06:04:15.117503Z",
     "iopub.execute_input": "2024-03-13T06:04:15.117790Z",
     "iopub.status.idle": "2024-03-13T06:04:15.307512Z",
     "shell.execute_reply.started": "2024-03-13T06:04:15.117767Z",
     "shell.execute_reply": "2024-03-13T06:04:15.306457Z"
    },
    "trusted": true
   },
   "execution_count": 70,
   "outputs": [
    {
     "name": "stdout",
     "text": "['Benign' 'SYNScan' 'TCPConnectScan' 'UDPScan' 'ICMPFlood' 'UDPFlood'\n 'SYNFlood' 'HTTPFlood' 'SlowrateDoS']\n9\n",
     "output_type": "stream"
    }
   ]
  },
  {
   "cell_type": "code",
   "source": [
    "# Define a function to impute NaN values with the most frequent value in the group\n",
    "def impute_most_frequent(group):\n",
    "    mode_value = group.mode().iloc[0] if not group.mode().empty else np.nan\n",
    "    return group.fillna(mode_value)\n",
    "\n",
    "def handle_missing_values(df):\n",
    "    df.drop_duplicates(inplace=True)\n",
    "    df.drop(['sVid', 'dVid'], axis=1, inplace=True)\n",
    "    df.dropna(subset=['sTos', 'sHops', 'sTtl', 'sDSb'], how='any', inplace=True)\n",
    "    df[['dTtl', 'dDSb', 'dTos', 'dHops', 'SrcGap', 'DstGap']] = df.groupby('Attack Type')[['dTtl', 'dDSb', 'dTos', 'dHops', 'SrcGap', 'DstGap']].transform(impute_most_frequent)\n",
    "    df['dDSb'] = df['dDSb'].fillna('cs0')\n",
    "    df_subset_copy = df[['dTtl', 'dTos', 'dHops', 'SrcGap', 'DstGap', 'SrcTCPBase', 'DstTCPBase', 'SrcWin', 'DstWin']].copy(deep=True)\n",
    "    mice_imputer = IterativeImputer()\n",
    "    df_subset_copy.iloc[:, :] = mice_imputer.fit_transform(df_subset_copy)\n",
    "    df[['dTtl', 'dTos', 'dHops', 'SrcGap', 'DstGap', 'SrcTCPBase', 'DstTCPBase', 'SrcWin', 'DstWin']] = df_subset_copy"
   ],
   "metadata": {
    "execution": {
     "iopub.status.busy": "2024-03-13T06:04:15.309148Z",
     "iopub.execute_input": "2024-03-13T06:04:15.309588Z",
     "iopub.status.idle": "2024-03-13T06:04:15.320695Z",
     "shell.execute_reply.started": "2024-03-13T06:04:15.309550Z",
     "shell.execute_reply": "2024-03-13T06:04:15.319564Z"
    },
    "trusted": true
   },
   "execution_count": 71,
   "outputs": []
  },
  {
   "cell_type": "code",
   "source": [
    "def one_hot_encode(df):\n",
    "    proto_dummies = pd.get_dummies(df.Proto, dtype=int, prefix='Proto')\n",
    "    proto_dummies.drop(columns=['Proto_ipv6-icmp'], inplace=True)\n",
    "    sDSb_dummies = pd.get_dummies(df.sDSb, dtype=int, prefix='sDSb')\n",
    "    sDSb_dummies.drop(columns=['sDSb_39','sDSb_54', 'sDSb_4', 'sDSb_cs4'], inplace=True)\n",
    "    dDSb_dummies = pd.get_dummies(df.dDSb, dtype=int, prefix='dDSb')\n",
    "    dDSb_dummies.drop(columns=['dDSb_cs4'], inplace=True)\n",
    "    Cause_dummies = pd.get_dummies(df.Cause, dtype=int, prefix='Cause')\n",
    "    Cause_dummies.drop(columns=['Cause_Shutdown'], inplace=True)\n",
    "    State_dummies = pd.get_dummies(df.State, dtype=int, prefix='State')\n",
    "    State_dummies.drop(columns=['State_RSP','State_TST','State_NRS'], inplace=True)\n",
    "    X, y = df.loc[:, df.columns != 'Attack Type'], df['Attack Type']\n",
    "    X = pd.concat([X, proto_dummies, sDSb_dummies, dDSb_dummies, Cause_dummies, State_dummies], axis='columns')\n",
    "    df = pd.concat([X, y], axis='columns')\n",
    "    df.drop(columns=['Proto', 'sDSb', 'dDSb', 'Cause', 'State', 'Label', 'Unnamed: 0', 'Seq', 'RunTime', 'Mean', 'Sum', 'Min', 'Max', 'Attack Tool'], inplace=True)\n",
    "    return df"
   ],
   "metadata": {
    "execution": {
     "iopub.status.busy": "2024-03-13T06:04:15.322145Z",
     "iopub.execute_input": "2024-03-13T06:04:15.322539Z",
     "iopub.status.idle": "2024-03-13T06:04:15.340866Z",
     "shell.execute_reply.started": "2024-03-13T06:04:15.322493Z",
     "shell.execute_reply": "2024-03-13T06:04:15.339798Z"
    },
    "trusted": true
   },
   "execution_count": 72,
   "outputs": []
  },
  {
   "cell_type": "code",
   "source": [
    "def normalize_dataframe(df):\n",
    "    X, y = df.loc[:, df.columns != 'Attack Type'], df['Attack Type']    \n",
    "    std_scaler = preprocessing.StandardScaler()\n",
    "    min_max_scaler = preprocessing.MinMaxScaler()\n",
    "    \n",
    "    numeric_df = X.loc[:, ~X.columns.str.contains('_')]\n",
    "    categorical_df = X.loc[:, X.columns.str.contains('_')]\n",
    "    \n",
    "    std_normalized = std_scaler.fit_transform(numeric_df)\n",
    "    min_max_normalized = min_max_scaler.fit_transform(categorical_df)\n",
    "    \n",
    "    numeric_df = pd.DataFrame(std_normalized, columns = numeric_df.columns, index = numeric_df.index)\n",
    "    categorical_df = pd.DataFrame(min_max_normalized, columns = categorical_df.columns, index = categorical_df.index)\n",
    "    \n",
    "    X = pd.concat([numeric_df, categorical_df], axis='columns')   \n",
    "    df = pd.concat([X, y], axis='columns')   \n",
    "    return df"
   ],
   "metadata": {
    "execution": {
     "iopub.status.busy": "2024-03-13T06:04:15.342403Z",
     "iopub.execute_input": "2024-03-13T06:04:15.342846Z",
     "iopub.status.idle": "2024-03-13T06:04:15.357226Z",
     "shell.execute_reply.started": "2024-03-13T06:04:15.342807Z",
     "shell.execute_reply": "2024-03-13T06:04:15.356231Z"
    },
    "trusted": true
   },
   "execution_count": 73,
   "outputs": []
  },
  {
   "cell_type": "code",
   "source": [
    "def label_encode(df):\n",
    "    # define ordinal encoding\n",
    "    le = LabelEncoder()\n",
    "    df['Attack Type'] = le.fit_transform(df['Attack Type'].iloc[:].values.ravel())\n",
    "    df['Attack Type'] = pd.to_numeric(df['Attack Type'], downcast='integer')\n",
    "    return df"
   ],
   "metadata": {
    "execution": {
     "iopub.status.busy": "2024-03-13T06:04:15.358394Z",
     "iopub.execute_input": "2024-03-13T06:04:15.359336Z",
     "iopub.status.idle": "2024-03-13T06:04:15.369820Z",
     "shell.execute_reply.started": "2024-03-13T06:04:15.359308Z",
     "shell.execute_reply": "2024-03-13T06:04:15.368751Z"
    },
    "trusted": true
   },
   "execution_count": 74,
   "outputs": []
  },
  {
   "cell_type": "code",
   "source": [
    "def pre_process(df):\n",
    "    handle_missing_values(df)\n",
    "    df = one_hot_encode(df)\n",
    "    df = normalize_dataframe(df)\n",
    "    df = label_encode(df)\n",
    "    return df"
   ],
   "metadata": {
    "execution": {
     "iopub.status.busy": "2024-03-13T06:04:15.374579Z",
     "iopub.execute_input": "2024-03-13T06:04:15.374978Z",
     "iopub.status.idle": "2024-03-13T06:04:15.384786Z",
     "shell.execute_reply.started": "2024-03-13T06:04:15.374950Z",
     "shell.execute_reply": "2024-03-13T06:04:15.383869Z"
    },
    "trusted": true
   },
   "execution_count": 75,
   "outputs": []
  },
  {
   "cell_type": "code",
   "source": [
    "df = pre_process(df)\n",
    "df.head()"
   ],
   "metadata": {
    "execution": {
     "iopub.status.busy": "2024-03-13T06:04:15.386077Z",
     "iopub.execute_input": "2024-03-13T06:04:15.386834Z",
     "iopub.status.idle": "2024-03-13T06:04:36.054151Z",
     "shell.execute_reply.started": "2024-03-13T06:04:15.386796Z",
     "shell.execute_reply": "2024-03-13T06:04:36.053070Z"
    },
    "trusted": true
   },
   "execution_count": 76,
   "outputs": [
    {
     "execution_count": 76,
     "output_type": "execute_result",
     "data": {
      "text/plain": "        Dur      sTos      dTos      sTtl     dTtl     sHops     dHops  \\\n0 -0.807085 -0.069046 -0.094739 -0.419379 -0.00732  1.050111 -0.973059   \n1 -0.807085 -0.069046 -0.094739 -0.419379 -0.00732  1.050111 -0.973059   \n2  2.147963 -0.069046 -0.094739  0.635573 -0.00732  2.452913 -0.973059   \n3  2.147973 -0.069046 -0.094739  0.635573 -0.00732  2.452913 -0.973059   \n4  2.148810 -0.069046 -0.094739  0.635573 -0.00732  2.452913 -0.973059   \n\n    TotPkts    SrcPkts   DstPkts  ...  Cause_Status  State_ACC  State_CON  \\\n0 -0.167011  -0.146696 -0.115856  ...           0.0        0.0        0.0   \n1 -0.167011  -0.146696 -0.115856  ...           0.0        0.0        0.0   \n2  8.414004  10.443194  1.327973  ...           0.0        0.0        1.0   \n3  7.205410   8.651059  1.568612  ...           0.0        0.0        1.0   \n4  8.776582  10.877651  1.408186  ...           0.0        0.0        1.0   \n\n   State_ECO  State_FIN  State_INT  State_REQ  State_RST  State_URP  \\\n0        1.0        0.0        0.0        0.0        0.0        0.0   \n1        1.0        0.0        0.0        0.0        0.0        0.0   \n2        0.0        0.0        0.0        0.0        0.0        0.0   \n3        0.0        0.0        0.0        0.0        0.0        0.0   \n4        0.0        0.0        0.0        0.0        0.0        0.0   \n\n   Attack Type  \n0            0  \n1            0  \n2            0  \n3            0  \n4            0  \n\n[5 rows x 63 columns]",
      "text/html": "<div>\n<style scoped>\n    .dataframe tbody tr th:only-of-type {\n        vertical-align: middle;\n    }\n\n    .dataframe tbody tr th {\n        vertical-align: top;\n    }\n\n    .dataframe thead th {\n        text-align: right;\n    }\n</style>\n<table border=\"1\" class=\"dataframe\">\n  <thead>\n    <tr style=\"text-align: right;\">\n      <th></th>\n      <th>Dur</th>\n      <th>sTos</th>\n      <th>dTos</th>\n      <th>sTtl</th>\n      <th>dTtl</th>\n      <th>sHops</th>\n      <th>dHops</th>\n      <th>TotPkts</th>\n      <th>SrcPkts</th>\n      <th>DstPkts</th>\n      <th>...</th>\n      <th>Cause_Status</th>\n      <th>State_ACC</th>\n      <th>State_CON</th>\n      <th>State_ECO</th>\n      <th>State_FIN</th>\n      <th>State_INT</th>\n      <th>State_REQ</th>\n      <th>State_RST</th>\n      <th>State_URP</th>\n      <th>Attack Type</th>\n    </tr>\n  </thead>\n  <tbody>\n    <tr>\n      <th>0</th>\n      <td>-0.807085</td>\n      <td>-0.069046</td>\n      <td>-0.094739</td>\n      <td>-0.419379</td>\n      <td>-0.00732</td>\n      <td>1.050111</td>\n      <td>-0.973059</td>\n      <td>-0.167011</td>\n      <td>-0.146696</td>\n      <td>-0.115856</td>\n      <td>...</td>\n      <td>0.0</td>\n      <td>0.0</td>\n      <td>0.0</td>\n      <td>1.0</td>\n      <td>0.0</td>\n      <td>0.0</td>\n      <td>0.0</td>\n      <td>0.0</td>\n      <td>0.0</td>\n      <td>0</td>\n    </tr>\n    <tr>\n      <th>1</th>\n      <td>-0.807085</td>\n      <td>-0.069046</td>\n      <td>-0.094739</td>\n      <td>-0.419379</td>\n      <td>-0.00732</td>\n      <td>1.050111</td>\n      <td>-0.973059</td>\n      <td>-0.167011</td>\n      <td>-0.146696</td>\n      <td>-0.115856</td>\n      <td>...</td>\n      <td>0.0</td>\n      <td>0.0</td>\n      <td>0.0</td>\n      <td>1.0</td>\n      <td>0.0</td>\n      <td>0.0</td>\n      <td>0.0</td>\n      <td>0.0</td>\n      <td>0.0</td>\n      <td>0</td>\n    </tr>\n    <tr>\n      <th>2</th>\n      <td>2.147963</td>\n      <td>-0.069046</td>\n      <td>-0.094739</td>\n      <td>0.635573</td>\n      <td>-0.00732</td>\n      <td>2.452913</td>\n      <td>-0.973059</td>\n      <td>8.414004</td>\n      <td>10.443194</td>\n      <td>1.327973</td>\n      <td>...</td>\n      <td>0.0</td>\n      <td>0.0</td>\n      <td>1.0</td>\n      <td>0.0</td>\n      <td>0.0</td>\n      <td>0.0</td>\n      <td>0.0</td>\n      <td>0.0</td>\n      <td>0.0</td>\n      <td>0</td>\n    </tr>\n    <tr>\n      <th>3</th>\n      <td>2.147973</td>\n      <td>-0.069046</td>\n      <td>-0.094739</td>\n      <td>0.635573</td>\n      <td>-0.00732</td>\n      <td>2.452913</td>\n      <td>-0.973059</td>\n      <td>7.205410</td>\n      <td>8.651059</td>\n      <td>1.568612</td>\n      <td>...</td>\n      <td>0.0</td>\n      <td>0.0</td>\n      <td>1.0</td>\n      <td>0.0</td>\n      <td>0.0</td>\n      <td>0.0</td>\n      <td>0.0</td>\n      <td>0.0</td>\n      <td>0.0</td>\n      <td>0</td>\n    </tr>\n    <tr>\n      <th>4</th>\n      <td>2.148810</td>\n      <td>-0.069046</td>\n      <td>-0.094739</td>\n      <td>0.635573</td>\n      <td>-0.00732</td>\n      <td>2.452913</td>\n      <td>-0.973059</td>\n      <td>8.776582</td>\n      <td>10.877651</td>\n      <td>1.408186</td>\n      <td>...</td>\n      <td>0.0</td>\n      <td>0.0</td>\n      <td>1.0</td>\n      <td>0.0</td>\n      <td>0.0</td>\n      <td>0.0</td>\n      <td>0.0</td>\n      <td>0.0</td>\n      <td>0.0</td>\n      <td>0</td>\n    </tr>\n  </tbody>\n</table>\n<p>5 rows × 63 columns</p>\n</div>"
     },
     "metadata": {}
    }
   ]
  },
  {
   "cell_type": "code",
   "source": [
    "# Save the preprocessed dataframe to a CSV file\n",
    "df.to_csv('csv_preprocessed.csv',index=False)"
   ],
   "metadata": {
    "execution": {
     "iopub.status.busy": "2024-03-13T06:04:36.055589Z",
     "iopub.execute_input": "2024-03-13T06:04:36.055973Z",
     "iopub.status.idle": "2024-03-13T06:06:38.613852Z",
     "shell.execute_reply.started": "2024-03-13T06:04:36.055942Z",
     "shell.execute_reply": "2024-03-13T06:06:38.612994Z"
    },
    "trusted": true
   },
   "execution_count": 77,
   "outputs": []
  },
  {
   "cell_type": "code",
   "source": [
    "# Train Test split\n",
    "X_train, X_test, y_train, y_test = train_test_split(df.loc[:, df.columns != 'Attack Type'], df['Attack Type'],\n",
    "                                                    stratify=df['Attack Type'], \n",
    "                                                    test_size=0.15)\n",
    "\n",
    "X_train = pd.DataFrame(X_train, columns=df.columns.to_list()[:-1])\n",
    "X_test = pd.DataFrame(X_test, columns=df.columns.to_list()[:-1])\n",
    "y_train = pd.DataFrame(y_train, columns=['Attack Type'])\n",
    "y_test = pd.DataFrame(y_test, columns=['Attack Type'])\n",
    "\n",
    "print(\"Training dataset size:\", X_train.shape)\n",
    "print(\"Testing dataset size:\", X_test.shape)\n",
    "print(\"Training target size:\", y_train.shape)\n",
    "print(\"Testing target size:\", y_test.shape)"
   ],
   "metadata": {
    "execution": {
     "iopub.status.busy": "2024-03-13T06:06:38.615241Z",
     "iopub.execute_input": "2024-03-13T06:06:38.615960Z",
     "iopub.status.idle": "2024-03-13T06:06:40.061356Z",
     "shell.execute_reply.started": "2024-03-13T06:06:38.615922Z",
     "shell.execute_reply": "2024-03-13T06:06:40.060325Z"
    },
    "trusted": true
   },
   "execution_count": 78,
   "outputs": [
    {
     "name": "stdout",
     "text": "Training dataset size: (1033323, 62)\nTesting dataset size: (182352, 62)\nTraining target size: (1033323, 1)\nTesting target size: (182352, 1)\n",
     "output_type": "stream"
    }
   ]
  }
 ]
}
