{
 "metadata": {
  "kernelspec": {
   "language": "python",
   "display_name": "Python 3",
   "name": "python3"
  },
  "language_info": {
   "name": "python",
   "version": "3.10.13",
   "mimetype": "text/x-python",
   "codemirror_mode": {
    "name": "ipython",
    "version": 3
   },
   "pygments_lexer": "ipython3",
   "nbconvert_exporter": "python",
   "file_extension": ".py"
  },
  "kaggle": {
   "accelerator": "gpu",
   "dataSources": [
    {
     "sourceId": 7890000,
     "sourceType": "datasetVersion",
     "datasetId": 4632204
    },
    {
     "sourceId": 5022035,
     "sourceType": "datasetVersion",
     "datasetId": 2914217
    }
   ],
   "dockerImageVersionId": 30674,
   "isInternetEnabled": true,
   "language": "python",
   "sourceType": "notebook",
   "isGpuEnabled": true
  }
 },
 "nbformat_minor": 4,
 "nbformat": 4,
 "cells": [
  {
   "cell_type": "code",
   "source": [
    "import numpy as np\n",
    "import pandas as pd\n",
    "import matplotlib.pyplot as plt\n",
    "import seaborn as sns\n",
    "import multiprocessing\n",
    "import scipy\n",
    "import sklearn\n",
    "import torch\n",
    "from torch.utils.data import Dataset, DataLoader\n",
    "from torch.utils.data.sampler import SubsetRandomSampler\n",
    "from tqdm import tqdm\n",
    "import torch.nn.functional as F\n",
    "from sklearn.model_selection import train_test_split\n",
    "from sklearn.model_selection import GridSearchCV, StratifiedKFold\n",
    "from sklearn.metrics import accuracy_score\n",
    "import torchmetrics\n",
    "from torchmetrics import Accuracy, Precision, Recall, F1Score, ConfusionMatrix\n",
    "from sklearn.metrics import confusion_matrix\n",
    "from skorch import NeuralNetClassifier"
   ],
   "metadata": {
    "_uuid": "8f2839f25d086af736a60e9eeb907d3b93b6e0e5",
    "_cell_guid": "b1076dfc-b9ad-4769-8c92-a6c4dae69d19",
    "execution": {
     "iopub.status.busy": "2024-04-05T00:47:47.523921Z",
     "iopub.execute_input": "2024-04-05T00:47:47.524334Z",
     "iopub.status.idle": "2024-04-05T00:47:48.436769Z",
     "shell.execute_reply.started": "2024-04-05T00:47:47.524300Z",
     "shell.execute_reply": "2024-04-05T00:47:48.435795Z"
    },
    "trusted": true
   },
   "execution_count": 1,
   "outputs": [
    {
     "name": "stdout",
     "text": "/kaggle/input/csv-preprocessed/csv_preprocessed.csv\n/kaggle/input/5g-nidd-dataset/Combined.csv\n",
     "output_type": "stream"
    }
   ]
  },
  {
   "cell_type": "code",
   "source": [
    "# Use GPU if it's available\n",
    "device = torch.device(\"cuda\" if torch.cuda.is_available() else \"cpu\")\n",
    "print('Torch', torch.__version__, 'CUDA', torch.version.cuda)\n",
    "print('Device:', torch.device('cuda:0'))"
   ],
   "metadata": {
    "execution": {
     "iopub.status.busy": "2024-04-05T00:59:41.834599Z",
     "iopub.execute_input": "2024-04-05T00:59:41.835265Z",
     "iopub.status.idle": "2024-04-05T00:59:41.843576Z",
     "shell.execute_reply.started": "2024-04-05T00:59:41.835233Z",
     "shell.execute_reply": "2024-04-05T00:59:41.842602Z"
    },
    "trusted": true
   },
   "execution_count": 9,
   "outputs": [
    {
     "name": "stdout",
     "text": "Torch 2.1.2 CUDA 12.1\nDevice: cuda:0\n",
     "output_type": "stream"
    },
    {
     "execution_count": 9,
     "output_type": "execute_result",
     "data": {
      "text/plain": "device(type='cuda')"
     },
     "metadata": {}
    }
   ]
  },
  {
   "cell_type": "code",
   "source": [
    "# number of subprocesses to use for data loading\n",
    "num_workers = multiprocessing.cpu_count()\n",
    "\n",
    "# how many samples per batch to load\n",
    "batch_size = 64\n",
    "\n",
    "# percentage of data set to use as validation\n",
    "valid_size = 0.15"
   ],
   "metadata": {
    "execution": {
     "iopub.status.busy": "2024-04-05T00:59:43.289298Z",
     "iopub.execute_input": "2024-04-05T00:59:43.289920Z",
     "iopub.status.idle": "2024-04-05T00:59:43.295666Z",
     "shell.execute_reply.started": "2024-04-05T00:59:43.289878Z",
     "shell.execute_reply": "2024-04-05T00:59:43.294385Z"
    },
    "trusted": true
   },
   "execution_count": 10,
   "outputs": []
  },
  {
   "cell_type": "code",
   "source": [
    "df = pd.read_csv('/scratch/vrames25/NIDS/datasets/csv_preprocessed.csv', low_memory=False)\n",
    "print(df.shape)"
   ],
   "metadata": {
    "execution": {
     "iopub.status.busy": "2024-04-05T00:59:44.074269Z",
     "iopub.execute_input": "2024-04-05T00:59:44.074907Z",
     "iopub.status.idle": "2024-04-05T01:00:05.180028Z",
     "shell.execute_reply.started": "2024-04-05T00:59:44.074872Z",
     "shell.execute_reply": "2024-04-05T01:00:05.179110Z"
    },
    "trusted": true
   },
   "execution_count": 11,
   "outputs": [
    {
     "name": "stdout",
     "text": "(1215675, 63)\n",
     "output_type": "stream"
    },
    {
     "execution_count": 11,
     "output_type": "execute_result",
     "data": {
      "text/plain": "        Dur      sTos      dTos      sTtl     dTtl     sHops     dHops  \\\n0 -0.807085 -0.069046 -0.094739 -0.419379 -0.00732  1.050111 -0.973059   \n1 -0.807085 -0.069046 -0.094739 -0.419379 -0.00732  1.050111 -0.973059   \n2  2.147963 -0.069046 -0.094739  0.635573 -0.00732  2.452913 -0.973059   \n3  2.147973 -0.069046 -0.094739  0.635573 -0.00732  2.452913 -0.973059   \n4  2.148810 -0.069046 -0.094739  0.635573 -0.00732  2.452913 -0.973059   \n\n    TotPkts    SrcPkts   DstPkts  ...  Cause_Status  State_ACC  State_CON  \\\n0 -0.167011  -0.146696 -0.115856  ...           0.0        0.0        0.0   \n1 -0.167011  -0.146696 -0.115856  ...           0.0        0.0        0.0   \n2  8.414004  10.443194  1.327973  ...           0.0        0.0        1.0   \n3  7.205410   8.651059  1.568612  ...           0.0        0.0        1.0   \n4  8.776582  10.877651  1.408186  ...           0.0        0.0        1.0   \n\n   State_ECO  State_FIN  State_INT  State_REQ  State_RST  State_URP  \\\n0        1.0        0.0        0.0        0.0        0.0        0.0   \n1        1.0        0.0        0.0        0.0        0.0        0.0   \n2        0.0        0.0        0.0        0.0        0.0        0.0   \n3        0.0        0.0        0.0        0.0        0.0        0.0   \n4        0.0        0.0        0.0        0.0        0.0        0.0   \n\n   Attack Type  \n0            0  \n1            0  \n2            0  \n3            0  \n4            0  \n\n[5 rows x 63 columns]",
      "text/html": "<div>\n<style scoped>\n    .dataframe tbody tr th:only-of-type {\n        vertical-align: middle;\n    }\n\n    .dataframe tbody tr th {\n        vertical-align: top;\n    }\n\n    .dataframe thead th {\n        text-align: right;\n    }\n</style>\n<table border=\"1\" class=\"dataframe\">\n  <thead>\n    <tr style=\"text-align: right;\">\n      <th></th>\n      <th>Dur</th>\n      <th>sTos</th>\n      <th>dTos</th>\n      <th>sTtl</th>\n      <th>dTtl</th>\n      <th>sHops</th>\n      <th>dHops</th>\n      <th>TotPkts</th>\n      <th>SrcPkts</th>\n      <th>DstPkts</th>\n      <th>...</th>\n      <th>Cause_Status</th>\n      <th>State_ACC</th>\n      <th>State_CON</th>\n      <th>State_ECO</th>\n      <th>State_FIN</th>\n      <th>State_INT</th>\n      <th>State_REQ</th>\n      <th>State_RST</th>\n      <th>State_URP</th>\n      <th>Attack Type</th>\n    </tr>\n  </thead>\n  <tbody>\n    <tr>\n      <th>0</th>\n      <td>-0.807085</td>\n      <td>-0.069046</td>\n      <td>-0.094739</td>\n      <td>-0.419379</td>\n      <td>-0.00732</td>\n      <td>1.050111</td>\n      <td>-0.973059</td>\n      <td>-0.167011</td>\n      <td>-0.146696</td>\n      <td>-0.115856</td>\n      <td>...</td>\n      <td>0.0</td>\n      <td>0.0</td>\n      <td>0.0</td>\n      <td>1.0</td>\n      <td>0.0</td>\n      <td>0.0</td>\n      <td>0.0</td>\n      <td>0.0</td>\n      <td>0.0</td>\n      <td>0</td>\n    </tr>\n    <tr>\n      <th>1</th>\n      <td>-0.807085</td>\n      <td>-0.069046</td>\n      <td>-0.094739</td>\n      <td>-0.419379</td>\n      <td>-0.00732</td>\n      <td>1.050111</td>\n      <td>-0.973059</td>\n      <td>-0.167011</td>\n      <td>-0.146696</td>\n      <td>-0.115856</td>\n      <td>...</td>\n      <td>0.0</td>\n      <td>0.0</td>\n      <td>0.0</td>\n      <td>1.0</td>\n      <td>0.0</td>\n      <td>0.0</td>\n      <td>0.0</td>\n      <td>0.0</td>\n      <td>0.0</td>\n      <td>0</td>\n    </tr>\n    <tr>\n      <th>2</th>\n      <td>2.147963</td>\n      <td>-0.069046</td>\n      <td>-0.094739</td>\n      <td>0.635573</td>\n      <td>-0.00732</td>\n      <td>2.452913</td>\n      <td>-0.973059</td>\n      <td>8.414004</td>\n      <td>10.443194</td>\n      <td>1.327973</td>\n      <td>...</td>\n      <td>0.0</td>\n      <td>0.0</td>\n      <td>1.0</td>\n      <td>0.0</td>\n      <td>0.0</td>\n      <td>0.0</td>\n      <td>0.0</td>\n      <td>0.0</td>\n      <td>0.0</td>\n      <td>0</td>\n    </tr>\n    <tr>\n      <th>3</th>\n      <td>2.147973</td>\n      <td>-0.069046</td>\n      <td>-0.094739</td>\n      <td>0.635573</td>\n      <td>-0.00732</td>\n      <td>2.452913</td>\n      <td>-0.973059</td>\n      <td>7.205410</td>\n      <td>8.651059</td>\n      <td>1.568612</td>\n      <td>...</td>\n      <td>0.0</td>\n      <td>0.0</td>\n      <td>1.0</td>\n      <td>0.0</td>\n      <td>0.0</td>\n      <td>0.0</td>\n      <td>0.0</td>\n      <td>0.0</td>\n      <td>0.0</td>\n      <td>0</td>\n    </tr>\n    <tr>\n      <th>4</th>\n      <td>2.148810</td>\n      <td>-0.069046</td>\n      <td>-0.094739</td>\n      <td>0.635573</td>\n      <td>-0.00732</td>\n      <td>2.452913</td>\n      <td>-0.973059</td>\n      <td>8.776582</td>\n      <td>10.877651</td>\n      <td>1.408186</td>\n      <td>...</td>\n      <td>0.0</td>\n      <td>0.0</td>\n      <td>1.0</td>\n      <td>0.0</td>\n      <td>0.0</td>\n      <td>0.0</td>\n      <td>0.0</td>\n      <td>0.0</td>\n      <td>0.0</td>\n      <td>0</td>\n    </tr>\n  </tbody>\n</table>\n<p>5 rows × 63 columns</p>\n</div>"
     },
     "metadata": {}
    }
   ]
  },
  {
   "cell_type": "code",
   "source": [
    "num_classes = df['Attack Type'].nunique()\n",
    "print(num_classes)"
   ],
   "metadata": {
    "execution": {
     "iopub.status.busy": "2024-04-05T01:00:11.091034Z",
     "iopub.execute_input": "2024-04-05T01:00:11.091411Z",
     "iopub.status.idle": "2024-04-05T01:00:11.106915Z",
     "shell.execute_reply.started": "2024-04-05T01:00:11.091382Z",
     "shell.execute_reply": "2024-04-05T01:00:11.106017Z"
    },
    "trusted": true
   },
   "execution_count": 12,
   "outputs": [
    {
     "name": "stdout",
     "text": "9\n",
     "output_type": "stream"
    }
   ]
  },
  {
   "cell_type": "code",
   "source": [
    "# Train Test split\n",
    "X_train, X_test, y_train, y_test = train_test_split(df.loc[:, df.columns != 'Attack Type'], df['Attack Type'],\n",
    "                                                    stratify=df['Attack Type'], \n",
    "                                                    shuffle=True,\n",
    "                                                    test_size=0.15)\n",
    "\n",
    "X_train = pd.DataFrame(X_train, columns=df.drop(columns=['Attack Type']).columns.to_list())\n",
    "X_test = pd.DataFrame(X_test, columns=df.drop(columns=['Attack Type']).columns.to_list())\n",
    "y_train = pd.DataFrame(y_train, columns=['Attack Type'])\n",
    "y_test = pd.DataFrame(y_test, columns=['Attack Type'])\n",
    "\n",
    "print(\"Training dataset size:\", X_train.shape)\n",
    "print(\"Testing dataset size:\", X_test.shape)\n",
    "print(\"Training target size:\", y_train.shape)\n",
    "print(\"Testing target size:\", y_test.shape)"
   ],
   "metadata": {
    "execution": {
     "iopub.status.busy": "2024-04-05T01:20:56.600405Z",
     "iopub.execute_input": "2024-04-05T01:20:56.600847Z",
     "iopub.status.idle": "2024-04-05T01:20:58.134254Z",
     "shell.execute_reply.started": "2024-04-05T01:20:56.600813Z",
     "shell.execute_reply": "2024-04-05T01:20:58.133161Z"
    },
    "trusted": true
   },
   "execution_count": 39,
   "outputs": [
    {
     "name": "stdout",
     "text": "Training dataset size: (1033323, 62)\nTesting dataset size: (182352, 62)\nTraining target size: (1033323, 1)\nTesting target size: (182352, 1)\n",
     "output_type": "stream"
    }
   ]
  },
  {
   "cell_type": "code",
   "source": [
    "# Number of features\n",
    "num_features = X_train.shape[1]"
   ],
   "metadata": {
    "execution": {
     "iopub.status.busy": "2024-04-05T01:21:21.565097Z",
     "iopub.execute_input": "2024-04-05T01:21:21.565509Z",
     "iopub.status.idle": "2024-04-05T01:21:21.570621Z",
     "shell.execute_reply.started": "2024-04-05T01:21:21.565476Z",
     "shell.execute_reply": "2024-04-05T01:21:21.569492Z"
    },
    "trusted": true
   },
   "execution_count": 41,
   "outputs": []
  },
  {
   "cell_type": "code",
   "source": [
    "# Creating a PyTorch class\n",
    "# input_features ==> 12 ==> 32\n",
    "class Autoencoder(torch.nn.Module):\n",
    "    def __init__(self):\n",
    "        super(Autoencoder, self).__init__()\n",
    "\n",
    "        # Building a linear encoder with Linear\n",
    "        # layer followed by Tanh activation function\n",
    "        # input_features ===> 12\n",
    "        self.encoder = torch.nn.Sequential(\n",
    "            torch.nn.Linear(num_features, 32),\n",
    "            torch.nn.Tanh(),\n",
    "            torch.nn.Linear(32, 16),\n",
    "            torch.nn.Tanh(),\n",
    "            torch.nn.Linear(16, 12),\n",
    "            torch.nn.Tanh()\n",
    "        )\n",
    "        \n",
    "        # Dense neural network layers\n",
    "        self.dense_nn = torch.nn.Sequential(\n",
    "            torch.nn.Linear(12, 32),  # Input size is 12 from the encoder\n",
    "            torch.nn.BatchNorm1d(32),            \n",
    "            torch.nn.ReLU(), \n",
    "            torch.nn.Dropout(0.2),          \n",
    "            torch.nn.Linear(32, num_classes),  # Output size is the number of classes\n",
    "            torch.nn.Softmax(dim=1)\n",
    "        )        \n",
    "\n",
    "    def forward(self, x):\n",
    "        encoded = self.encoder(x)\n",
    "        output = self.dense_nn(encoded)\n",
    "        return output"
   ],
   "metadata": {
    "execution": {
     "iopub.status.busy": "2024-04-05T01:25:37.158142Z",
     "iopub.execute_input": "2024-04-05T01:25:37.158609Z",
     "iopub.status.idle": "2024-04-05T01:25:37.170160Z",
     "shell.execute_reply.started": "2024-04-05T01:25:37.158575Z",
     "shell.execute_reply": "2024-04-05T01:25:37.169115Z"
    },
    "trusted": true
   },
   "execution_count": 42,
   "outputs": []
  },
  {
   "cell_type": "code",
   "source": [
    "param_grid = {'optimizer__lr': [0.01, 0.001, 0.0001], \n",
    "              'max_epochs': [4, 8, 16, 32], \n",
    "              'batch_size':[1, 32, 64, 128, 256, 512, 1024]}"
   ],
   "metadata": {
    "execution": {
     "iopub.status.busy": "2024-04-05T02:16:09.829083Z",
     "iopub.execute_input": "2024-04-05T02:16:09.829822Z",
     "iopub.status.idle": "2024-04-05T02:16:09.836040Z",
     "shell.execute_reply.started": "2024-04-05T02:16:09.829780Z",
     "shell.execute_reply": "2024-04-05T02:16:09.834977Z"
    },
    "trusted": true
   },
   "execution_count": 64,
   "outputs": []
  },
  {
   "cell_type": "code",
   "source": [
    "model = NeuralNetClassifier(\n",
    "    module=Autoencoder,\n",
    "    max_epochs=4,\n",
    "    batch_size=32,\n",
    "    criterion=torch.nn.CrossEntropyLoss,\n",
    "    optimizer=torch.optim.Adam,\n",
    "    verbose=True,\n",
    "    device=device  # Specify device\n",
    ")"
   ],
   "metadata": {
    "execution": {
     "iopub.status.busy": "2024-04-05T02:16:17.334958Z",
     "iopub.execute_input": "2024-04-05T02:16:17.335699Z",
     "iopub.status.idle": "2024-04-05T02:16:17.340782Z",
     "shell.execute_reply.started": "2024-04-05T02:16:17.335664Z",
     "shell.execute_reply": "2024-04-05T02:16:17.339706Z"
    },
    "trusted": true
   },
   "execution_count": 65,
   "outputs": []
  },
  {
   "cell_type": "code",
   "source": [
    "print(model.initialize())"
   ],
   "metadata": {
    "execution": {
     "iopub.status.busy": "2024-04-05T02:16:18.427808Z",
     "iopub.execute_input": "2024-04-05T02:16:18.428231Z",
     "iopub.status.idle": "2024-04-05T02:16:18.439498Z",
     "shell.execute_reply.started": "2024-04-05T02:16:18.428201Z",
     "shell.execute_reply": "2024-04-05T02:16:18.438366Z"
    },
    "trusted": true
   },
   "execution_count": 66,
   "outputs": [
    {
     "name": "stdout",
     "text": "<class 'skorch.classifier.NeuralNetClassifier'>[initialized](\n  module_=Autoencoder(\n    (encoder): Sequential(\n      (0): Linear(in_features=62, out_features=32, bias=True)\n      (1): Tanh()\n      (2): Linear(in_features=32, out_features=16, bias=True)\n      (3): Tanh()\n      (4): Linear(in_features=16, out_features=12, bias=True)\n      (5): Tanh()\n    )\n    (dense_nn): Sequential(\n      (0): Linear(in_features=12, out_features=32, bias=True)\n      (1): BatchNorm1d(32, eps=1e-05, momentum=0.1, affine=True, track_running_stats=True)\n      (2): ReLU()\n      (3): Dropout(p=0.2, inplace=False)\n      (4): Linear(in_features=32, out_features=64, bias=True)\n      (5): BatchNorm1d(64, eps=1e-05, momentum=0.1, affine=True, track_running_stats=True)\n      (6): ReLU()\n      (7): Dropout(p=0.2, inplace=False)\n      (8): Linear(in_features=64, out_features=32, bias=True)\n      (9): BatchNorm1d(32, eps=1e-05, momentum=0.1, affine=True, track_running_stats=True)\n      (10): ReLU()\n      (11): Dropout(p=0.2, inplace=False)\n      (12): Linear(in_features=32, out_features=9, bias=True)\n      (13): Softmax(dim=1)\n    )\n  ),\n)\n",
     "output_type": "stream"
    }
   ]
  },
  {
   "cell_type": "code",
   "source": [
    "# Using StratifiedKFold cross-validation\n",
    "skf = StratifiedKFold(n_splits=5, shuffle=True, random_state=42)\n",
    "\n",
    "# Perform grid search\n",
    "grid_search = GridSearchCV(estimator=model, param_grid=param_grid, n_jobs=-1, \n",
    "                           cv=skf, \n",
    "                           scoring='accuracy', verbose=10)\n",
    "grid_search.fit(X_train.values.astype(np.float32), y_train.values.ravel())\n",
    "# grid_search.fit(X_train_tensor, y_train_tensor)\n",
    "\n",
    "# Get the best parameters and score\n",
    "best_params = grid_search.best_params_\n",
    "best_score = grid_search.best_score_\n",
    "\n",
    "print(\"Best Parameters:\", best_params)\n",
    "print(\"Best Score:\", best_score)"
   ],
   "metadata": {
    "execution": {
     "iopub.status.busy": "2024-04-05T02:23:34.178880Z",
     "iopub.execute_input": "2024-04-05T02:23:34.179934Z",
     "iopub.status.idle": "2024-04-05T02:40:59.253340Z",
     "shell.execute_reply.started": "2024-04-05T02:23:34.179896Z",
     "shell.execute_reply": "2024-04-05T02:40:59.252210Z"
    },
    "trusted": true
   },
   "execution_count": 72,
   "outputs": [
    {
     "name": "stdout",
     "text": "Fitting 1 folds for each of 8 candidates, totalling 8 fits\n  epoch    train_loss    valid_acc    valid_loss      dur\n-------  ------------  -----------  ------------  -------\n      1        \u001B[36m1.4168\u001B[0m       \u001B[32m0.9539\u001B[0m        \u001B[35m1.4180\u001B[0m  76.7510\n  epoch    train_loss    valid_acc    valid_loss      dur\n-------  ------------  -----------  ------------  -------\n      1        \u001B[36m1.4244\u001B[0m       \u001B[32m0.9642\u001B[0m        \u001B[35m1.4078\u001B[0m  76.4696\n  epoch    train_loss    valid_acc    valid_loss      dur\n-------  ------------  -----------  ------------  -------\n      1        \u001B[36m1.3946\u001B[0m       \u001B[32m0.9924\u001B[0m        \u001B[35m1.3795\u001B[0m  76.6572\n  epoch    train_loss    valid_acc    valid_loss      dur\n-------  ------------  -----------  ------------  -------\n      1        \u001B[36m1.3962\u001B[0m       \u001B[32m0.9934\u001B[0m        \u001B[35m1.3785\u001B[0m  76.9068\n      2        \u001B[36m1.3988\u001B[0m       \u001B[32m0.9754\u001B[0m        \u001B[35m1.3965\u001B[0m  77.5278\n      2        \u001B[36m1.3782\u001B[0m       \u001B[32m0.9944\u001B[0m        \u001B[35m1.3776\u001B[0m  77.5233\n      2        \u001B[36m1.4093\u001B[0m       0.9627        1.4093  77.7237\n      2        \u001B[36m1.3788\u001B[0m       \u001B[32m0.9954\u001B[0m        \u001B[35m1.3766\u001B[0m  77.4560\n      3        \u001B[36m1.3962\u001B[0m       \u001B[32m0.9838\u001B[0m        \u001B[35m1.3881\u001B[0m  76.8948\n      3        \u001B[36m1.3772\u001B[0m       \u001B[32m0.9964\u001B[0m        \u001B[35m1.3755\u001B[0m  76.7428\n      3        \u001B[36m1.3778\u001B[0m       \u001B[32m0.9960\u001B[0m        \u001B[35m1.3759\u001B[0m  76.4333\n      3        \u001B[36m1.4087\u001B[0m       \u001B[32m0.9678\u001B[0m        \u001B[35m1.4041\u001B[0m  77.2509\n      4        \u001B[36m1.3945\u001B[0m       0.9811        1.3908  76.3619\n      4        \u001B[36m1.3766\u001B[0m       \u001B[32m0.9965\u001B[0m        \u001B[35m1.3754\u001B[0m  77.0117\n      4        \u001B[36m1.3770\u001B[0m       0.9959        1.3761  77.0273\n      4        1.4129       0.9669        1.4050  76.8154\n  epoch    train_loss    valid_acc    valid_loss      dur\n-------  ------------  -----------  ------------  -------\n      1        \u001B[36m1.4148\u001B[0m       \u001B[32m0.9598\u001B[0m        \u001B[35m1.4122\u001B[0m  44.3983\n  epoch    train_loss    valid_acc    valid_loss      dur\n-------  ------------  -----------  ------------  -------\n      1        \u001B[36m1.4041\u001B[0m       \u001B[32m0.9951\u001B[0m        \u001B[35m1.3768\u001B[0m  44.5073\n      5        1.4132       \u001B[32m0.9696\u001B[0m        \u001B[35m1.4024\u001B[0m  75.3210\n      5        \u001B[36m1.3770\u001B[0m       \u001B[32m0.9963\u001B[0m        \u001B[35m1.3756\u001B[0m  75.5523\n      2        \u001B[36m1.4049\u001B[0m       \u001B[32m0.9733\u001B[0m        \u001B[35m1.3987\u001B[0m  43.9583\n      2        \u001B[36m1.3785\u001B[0m       0.9947        1.3771  44.4822\n      3        1.4116       0.9660        1.4060  44.1612\n      3        \u001B[36m1.3777\u001B[0m       \u001B[32m0.9962\u001B[0m        \u001B[35m1.3757\u001B[0m  43.6492\n      6        \u001B[36m1.3988\u001B[0m       \u001B[32m0.9814\u001B[0m        \u001B[35m1.3906\u001B[0m  75.8400\n      6        1.3771       \u001B[32m0.9967\u001B[0m        \u001B[35m1.3753\u001B[0m  76.3139\n      4        1.4077       \u001B[32m0.9762\u001B[0m        \u001B[35m1.3957\u001B[0m  45.0379\n      4        \u001B[36m1.3768\u001B[0m       0.9945        1.3775  44.9694\n      7        \u001B[36m1.3973\u001B[0m       0.9624        1.4095  75.2074\n      7        \u001B[36m1.3768\u001B[0m       0.9963        1.3757  76.1352\n  epoch    train_loss    valid_acc    valid_loss      dur\n-------  ------------  -----------  ------------  -------\n      1        \u001B[36m1.4075\u001B[0m       \u001B[32m0.9814\u001B[0m        \u001B[35m1.3905\u001B[0m  43.3837\n  epoch    train_loss    valid_acc    valid_loss      dur\n-------  ------------  -----------  ------------  -------\n      1        \u001B[36m1.4080\u001B[0m       \u001B[32m0.9948\u001B[0m        \u001B[35m1.3771\u001B[0m  44.0658\n      2        \u001B[36m1.3942\u001B[0m       \u001B[32m0.9832\u001B[0m        \u001B[35m1.3887\u001B[0m  44.2763\n      2        \u001B[36m1.3794\u001B[0m       0.9946        1.3771  43.7612\n      8        1.4043       0.9793        1.3927  75.5891\n      8        \u001B[36m1.3768\u001B[0m       0.9946        1.3773  75.5476\n      3        \u001B[36m1.3876\u001B[0m       0.9799        1.3921  35.3893\n      3        \u001B[36m1.3772\u001B[0m       \u001B[32m0.9957\u001B[0m        \u001B[35m1.3763\u001B[0m  35.4383\n      4        \u001B[36m1.3875\u001B[0m       0.9808        1.3911  30.2935\n      4        \u001B[36m1.3772\u001B[0m       \u001B[32m0.9960\u001B[0m        \u001B[35m1.3760\u001B[0m  30.0714\n      5        1.3884       \u001B[32m0.9884\u001B[0m        \u001B[35m1.3836\u001B[0m  30.2192\n      5        \u001B[36m1.3765\u001B[0m       \u001B[32m0.9966\u001B[0m        \u001B[35m1.3754\u001B[0m  30.0441\n      6        \u001B[36m1.3852\u001B[0m       \u001B[32m0.9896\u001B[0m        \u001B[35m1.3823\u001B[0m  30.3216\n      6        1.3766       0.9960        1.3760  30.2211\n      7        1.3898       0.9841        1.3878  29.9467\n      7        \u001B[36m1.3760\u001B[0m       0.9960        1.3759  29.7365\n      8        \u001B[36m1.3843\u001B[0m       \u001B[32m0.9922\u001B[0m        \u001B[35m1.3797\u001B[0m  29.8829\n      8        1.3761       \u001B[32m0.9967\u001B[0m        \u001B[35m1.3753\u001B[0m  29.9844\n  epoch    train_loss    valid_acc    valid_loss      dur\n-------  ------------  -----------  ------------  -------\n      1        \u001B[36m1.3912\u001B[0m       \u001B[32m0.9953\u001B[0m        \u001B[35m1.3766\u001B[0m  57.8250\n      2        \u001B[36m1.3782\u001B[0m       \u001B[32m0.9963\u001B[0m        \u001B[35m1.3756\u001B[0m  57.4565\n      3        \u001B[36m1.3771\u001B[0m       \u001B[32m0.9967\u001B[0m        \u001B[35m1.3753\u001B[0m  57.2657\n      4        \u001B[36m1.3767\u001B[0m       0.9963        1.3756  57.1925\nBest Parameters: {'batch_size': 64, 'max_epochs': 4, 'optimizer__lr': 0.001}\nBest Score: 0.996769965615763\n",
     "output_type": "stream"
    }
   ]
  }
 ]
}
