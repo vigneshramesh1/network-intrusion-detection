{
 "cells": [
  {
   "cell_type": "code",
   "execution_count": 1,
   "outputs": [
    {
     "name": "stdout",
     "output_type": "stream",
     "text": [
      "Requirement already satisfied: numpy in /Users/vigneshramesh/opt/anaconda3/envs/group32-capstone/lib/python3.10/site-packages (from -r requirements.txt (line 1)) (1.26.3)\r\n",
      "Requirement already satisfied: pandas in /Users/vigneshramesh/opt/anaconda3/envs/group32-capstone/lib/python3.10/site-packages (from -r requirements.txt (line 2)) (2.1.4)\r\n",
      "Requirement already satisfied: matplotlib in /Users/vigneshramesh/opt/anaconda3/envs/group32-capstone/lib/python3.10/site-packages (from -r requirements.txt (line 3)) (3.8.0)\r\n",
      "Requirement already satisfied: seaborn in /Users/vigneshramesh/opt/anaconda3/envs/group32-capstone/lib/python3.10/site-packages (from -r requirements.txt (line 4)) (0.12.2)\r\n",
      "Requirement already satisfied: python-dateutil>=2.8.2 in /Users/vigneshramesh/opt/anaconda3/envs/group32-capstone/lib/python3.10/site-packages (from pandas->-r requirements.txt (line 2)) (2.8.2)\r\n",
      "Requirement already satisfied: pytz>=2020.1 in /Users/vigneshramesh/opt/anaconda3/envs/group32-capstone/lib/python3.10/site-packages (from pandas->-r requirements.txt (line 2)) (2023.3.post1)\r\n",
      "Requirement already satisfied: tzdata>=2022.1 in /Users/vigneshramesh/opt/anaconda3/envs/group32-capstone/lib/python3.10/site-packages (from pandas->-r requirements.txt (line 2)) (2023.3)\r\n",
      "Requirement already satisfied: contourpy>=1.0.1 in /Users/vigneshramesh/opt/anaconda3/envs/group32-capstone/lib/python3.10/site-packages (from matplotlib->-r requirements.txt (line 3)) (1.2.0)\r\n",
      "Requirement already satisfied: cycler>=0.10 in /Users/vigneshramesh/opt/anaconda3/envs/group32-capstone/lib/python3.10/site-packages (from matplotlib->-r requirements.txt (line 3)) (0.11.0)\r\n",
      "Requirement already satisfied: fonttools>=4.22.0 in /Users/vigneshramesh/opt/anaconda3/envs/group32-capstone/lib/python3.10/site-packages (from matplotlib->-r requirements.txt (line 3)) (4.25.0)\r\n",
      "Requirement already satisfied: kiwisolver>=1.0.1 in /Users/vigneshramesh/opt/anaconda3/envs/group32-capstone/lib/python3.10/site-packages (from matplotlib->-r requirements.txt (line 3)) (1.4.4)\r\n",
      "Requirement already satisfied: packaging>=20.0 in /Users/vigneshramesh/opt/anaconda3/envs/group32-capstone/lib/python3.10/site-packages (from matplotlib->-r requirements.txt (line 3)) (23.1)\r\n",
      "Requirement already satisfied: pillow>=6.2.0 in /Users/vigneshramesh/opt/anaconda3/envs/group32-capstone/lib/python3.10/site-packages (from matplotlib->-r requirements.txt (line 3)) (10.0.1)\r\n",
      "Requirement already satisfied: pyparsing>=2.3.1 in /Users/vigneshramesh/opt/anaconda3/envs/group32-capstone/lib/python3.10/site-packages (from matplotlib->-r requirements.txt (line 3)) (3.0.9)\r\n",
      "Requirement already satisfied: six>=1.5 in /Users/vigneshramesh/opt/anaconda3/envs/group32-capstone/lib/python3.10/site-packages (from python-dateutil>=2.8.2->pandas->-r requirements.txt (line 2)) (1.16.0)\r\n"
     ]
    }
   ],
   "source": [
    "# Use the pip command below to install packages\n",
    "!pip install -r requirements.txt"
   ],
   "metadata": {
    "collapsed": false
   }
  },
  {
   "cell_type": "code",
   "execution_count": 2,
   "outputs": [],
   "source": [
    "import numpy as np\n",
    "import pandas as pd\n",
    "import matplotlib.pyplot as plt\n",
    "import seaborn as sns"
   ],
   "metadata": {
    "collapsed": false
   }
  },
  {
   "cell_type": "code",
   "execution_count": 3,
   "outputs": [],
   "source": [],
   "metadata": {
    "collapsed": false
   }
  }
 ],
 "metadata": {
  "kernelspec": {
   "display_name": "Python 3",
   "language": "python",
   "name": "python3"
  },
  "language_info": {
   "codemirror_mode": {
    "name": "ipython",
    "version": 2
   },
   "file_extension": ".py",
   "mimetype": "text/x-python",
   "name": "python",
   "nbconvert_exporter": "python",
   "pygments_lexer": "ipython2",
   "version": "2.7.6"
  }
 },
 "nbformat": 4,
 "nbformat_minor": 0
}
