{
 "metadata": {
  "kernelspec": {
   "language": "python",
   "display_name": "Python 3",
   "name": "python3"
  },
  "language_info": {
   "name": "python",
   "version": "3.10.13",
   "mimetype": "text/x-python",
   "codemirror_mode": {
    "name": "ipython",
    "version": 3
   },
   "pygments_lexer": "ipython3",
   "nbconvert_exporter": "python",
   "file_extension": ".py"
  },
  "kaggle": {
   "accelerator": "gpu",
   "dataSources": [
    {
     "sourceId": 5022035,
     "sourceType": "datasetVersion",
     "datasetId": 2914217
    }
   ],
   "dockerImageVersionId": 30664,
   "isInternetEnabled": true,
   "language": "python",
   "sourceType": "notebook",
   "isGpuEnabled": true
  }
 },
 "nbformat_minor": 4,
 "nbformat": 4,
 "cells": [
  {
   "cell_type": "code",
   "source": [
    "# This Python 3 environment comes with many helpful analytics libraries installed\n",
    "# It is defined by the kaggle/python Docker image: https://github.com/kaggle/docker-python\n",
    "# For example, here's several helpful packages to load\n",
    "\n",
    "import numpy as np # linear algebra\n",
    "import pandas as pd # data processing, CSV file I/O (e.g. pd.read_csv)\n",
    "\n",
    "# Input data files are available in the read-only \"../input/\" directory\n",
    "# For example, running this (by clicking run or pressing Shift+Enter) will list all files under the input directory\n",
    "\n",
    "import os\n",
    "for dirname, _, filenames in os.walk('/kaggle/input'):\n",
    "    for filename in filenames:\n",
    "        print(os.path.join(dirname, filename))\n",
    "\n",
    "# You can write up to 20GB to the current directory (/kaggle/working/) that gets preserved as output when you create a version using \"Save & Run All\" \n",
    "# You can also write temporary files to /kaggle/temp/, but they won't be saved outside of the current session"
   ],
   "metadata": {
    "_uuid": "8f2839f25d086af736a60e9eeb907d3b93b6e0e5",
    "_cell_guid": "b1076dfc-b9ad-4769-8c92-a6c4dae69d19",
    "execution": {
     "iopub.status.busy": "2024-03-10T19:22:35.653304Z",
     "iopub.execute_input": "2024-03-10T19:22:35.653709Z",
     "iopub.status.idle": "2024-03-10T19:22:35.662399Z",
     "shell.execute_reply.started": "2024-03-10T19:22:35.653676Z",
     "shell.execute_reply": "2024-03-10T19:22:35.661397Z"
    },
    "trusted": true
   },
   "execution_count": 16,
   "outputs": [
    {
     "name": "stdout",
     "text": "/kaggle/input/5g-nidd-dataset/Combined.csv\n",
     "output_type": "stream"
    }
   ]
  },
  {
   "cell_type": "code",
   "source": [
    "# import shutil\n",
    "\n",
    "# input_path = '/kaggle/input/5g-nidd-dataset'\n",
    "# output_path = '/kaggle/temp/5g-nidd-dataset'\n",
    "# # Copy dataset into working directory\n",
    "# shutil.copytree(input_path, output_path)"
   ],
   "metadata": {
    "execution": {
     "iopub.status.busy": "2024-03-10T19:22:35.664137Z",
     "iopub.execute_input": "2024-03-10T19:22:35.664474Z",
     "iopub.status.idle": "2024-03-10T19:22:35.674035Z",
     "shell.execute_reply.started": "2024-03-10T19:22:35.664438Z",
     "shell.execute_reply": "2024-03-10T19:22:35.673036Z"
    },
    "trusted": true
   },
   "execution_count": 17,
   "outputs": []
  },
  {
   "cell_type": "code",
   "source": [
    "cd /kaggle/temp/5g-nidd-dataset"
   ],
   "metadata": {
    "execution": {
     "iopub.status.busy": "2024-03-10T19:22:35.675172Z",
     "iopub.execute_input": "2024-03-10T19:22:35.676060Z",
     "iopub.status.idle": "2024-03-10T19:22:35.685158Z",
     "shell.execute_reply.started": "2024-03-10T19:22:35.676025Z",
     "shell.execute_reply": "2024-03-10T19:22:35.684304Z"
    },
    "trusted": true
   },
   "execution_count": 18,
   "outputs": [
    {
     "name": "stdout",
     "text": "/kaggle/temp/5g-nidd-dataset\n",
     "output_type": "stream"
    }
   ]
  },
  {
   "cell_type": "code",
   "source": [
    "!pip install fancyimpute\n",
    "!pip install torch\n",
    "!pip install scipy\n",
    "!pip install --upgrade scikit-learn"
   ],
   "metadata": {
    "execution": {
     "iopub.status.busy": "2024-03-10T19:22:35.687714Z",
     "iopub.execute_input": "2024-03-10T19:22:35.688167Z",
     "iopub.status.idle": "2024-03-10T19:23:25.904782Z",
     "shell.execute_reply.started": "2024-03-10T19:22:35.688138Z",
     "shell.execute_reply": "2024-03-10T19:23:25.903535Z"
    },
    "trusted": true
   },
   "execution_count": 19,
   "outputs": [
    {
     "name": "stdout",
     "text": "Requirement already satisfied: fancyimpute in /opt/conda/lib/python3.10/site-packages (0.7.0)\nRequirement already satisfied: knnimpute>=0.1.0 in /opt/conda/lib/python3.10/site-packages (from fancyimpute) (0.1.0)\nRequirement already satisfied: scikit-learn>=0.24.2 in /opt/conda/lib/python3.10/site-packages (from fancyimpute) (1.4.1.post1)\nRequirement already satisfied: cvxpy in /opt/conda/lib/python3.10/site-packages (from fancyimpute) (1.4.2)\nRequirement already satisfied: cvxopt in /opt/conda/lib/python3.10/site-packages (from fancyimpute) (1.3.2)\nRequirement already satisfied: pytest in /opt/conda/lib/python3.10/site-packages (from fancyimpute) (8.0.1)\nRequirement already satisfied: nose in /opt/conda/lib/python3.10/site-packages (from fancyimpute) (1.3.7)\nRequirement already satisfied: six in /opt/conda/lib/python3.10/site-packages (from knnimpute>=0.1.0->fancyimpute) (1.16.0)\nRequirement already satisfied: numpy>=1.10 in /opt/conda/lib/python3.10/site-packages (from knnimpute>=0.1.0->fancyimpute) (1.26.4)\nRequirement already satisfied: scipy>=1.6.0 in /opt/conda/lib/python3.10/site-packages (from scikit-learn>=0.24.2->fancyimpute) (1.11.4)\nRequirement already satisfied: joblib>=1.2.0 in /opt/conda/lib/python3.10/site-packages (from scikit-learn>=0.24.2->fancyimpute) (1.3.2)\nRequirement already satisfied: threadpoolctl>=2.0.0 in /opt/conda/lib/python3.10/site-packages (from scikit-learn>=0.24.2->fancyimpute) (3.2.0)\nRequirement already satisfied: osqp>=0.6.2 in /opt/conda/lib/python3.10/site-packages (from cvxpy->fancyimpute) (0.6.5)\nRequirement already satisfied: ecos>=2 in /opt/conda/lib/python3.10/site-packages (from cvxpy->fancyimpute) (2.0.13)\nRequirement already satisfied: clarabel>=0.5.0 in /opt/conda/lib/python3.10/site-packages (from cvxpy->fancyimpute) (0.7.1)\nRequirement already satisfied: scs>=3.0 in /opt/conda/lib/python3.10/site-packages (from cvxpy->fancyimpute) (3.2.4.post1)\nRequirement already satisfied: pybind11 in /opt/conda/lib/python3.10/site-packages (from cvxpy->fancyimpute) (2.11.1)\nRequirement already satisfied: iniconfig in /opt/conda/lib/python3.10/site-packages (from pytest->fancyimpute) (2.0.0)\nRequirement already satisfied: packaging in /opt/conda/lib/python3.10/site-packages (from pytest->fancyimpute) (21.3)\nRequirement already satisfied: pluggy<2.0,>=1.3.0 in /opt/conda/lib/python3.10/site-packages (from pytest->fancyimpute) (1.3.0)\nRequirement already satisfied: exceptiongroup>=1.0.0rc8 in /opt/conda/lib/python3.10/site-packages (from pytest->fancyimpute) (1.2.0)\nRequirement already satisfied: tomli>=1.0.0 in /opt/conda/lib/python3.10/site-packages (from pytest->fancyimpute) (2.0.1)\nRequirement already satisfied: qdldl in /opt/conda/lib/python3.10/site-packages (from osqp>=0.6.2->cvxpy->fancyimpute) (0.1.7.post0)\nRequirement already satisfied: pyparsing!=3.0.5,>=2.0.2 in /opt/conda/lib/python3.10/site-packages (from packaging->pytest->fancyimpute) (3.1.1)\nRequirement already satisfied: torch in /opt/conda/lib/python3.10/site-packages (2.1.2)\nRequirement already satisfied: filelock in /opt/conda/lib/python3.10/site-packages (from torch) (3.13.1)\nRequirement already satisfied: typing-extensions in /opt/conda/lib/python3.10/site-packages (from torch) (4.9.0)\nRequirement already satisfied: sympy in /opt/conda/lib/python3.10/site-packages (from torch) (1.12)\nRequirement already satisfied: networkx in /opt/conda/lib/python3.10/site-packages (from torch) (3.2.1)\nRequirement already satisfied: jinja2 in /opt/conda/lib/python3.10/site-packages (from torch) (3.1.2)\nRequirement already satisfied: fsspec in /opt/conda/lib/python3.10/site-packages (from torch) (2024.2.0)\nRequirement already satisfied: MarkupSafe>=2.0 in /opt/conda/lib/python3.10/site-packages (from jinja2->torch) (2.1.3)\nRequirement already satisfied: mpmath>=0.19 in /opt/conda/lib/python3.10/site-packages (from sympy->torch) (1.3.0)\nRequirement already satisfied: scipy in /opt/conda/lib/python3.10/site-packages (1.11.4)\nRequirement already satisfied: numpy<1.28.0,>=1.21.6 in /opt/conda/lib/python3.10/site-packages (from scipy) (1.26.4)\nRequirement already satisfied: scikit-learn in /opt/conda/lib/python3.10/site-packages (1.4.1.post1)\nRequirement already satisfied: numpy<2.0,>=1.19.5 in /opt/conda/lib/python3.10/site-packages (from scikit-learn) (1.26.4)\nRequirement already satisfied: scipy>=1.6.0 in /opt/conda/lib/python3.10/site-packages (from scikit-learn) (1.11.4)\nRequirement already satisfied: joblib>=1.2.0 in /opt/conda/lib/python3.10/site-packages (from scikit-learn) (1.3.2)\nRequirement already satisfied: threadpoolctl>=2.0.0 in /opt/conda/lib/python3.10/site-packages (from scikit-learn) (3.2.0)\n",
     "output_type": "stream"
    }
   ]
  },
  {
   "cell_type": "code",
   "source": [
    "import numpy as np\n",
    "import pandas as pd\n",
    "import matplotlib.pyplot as plt\n",
    "import seaborn as sns\n",
    "import requests, zipfile, io\n",
    "import missingno as msno\n",
    "import multiprocessing\n",
    "import scipy\n",
    "import sklearn\n",
    "import torch\n",
    "from torch.utils.data import Dataset, DataLoader\n",
    "from torch.utils.data.sampler import SubsetRandomSampler\n",
    "from tqdm import tqdm\n",
    "import torch.nn.functional as F"
   ],
   "metadata": {
    "execution": {
     "iopub.status.busy": "2024-03-10T19:25:39.231697Z",
     "iopub.execute_input": "2024-03-10T19:25:39.232763Z",
     "iopub.status.idle": "2024-03-10T19:25:39.238398Z",
     "shell.execute_reply.started": "2024-03-10T19:25:39.232726Z",
     "shell.execute_reply": "2024-03-10T19:25:39.237417Z"
    },
    "trusted": true
   },
   "execution_count": 48,
   "outputs": []
  },
  {
   "cell_type": "code",
   "source": [
    "from sklearn import preprocessing\n",
    "from sklearn.model_selection import train_test_split\n",
    "from sklearn.metrics import accuracy_score\n",
    "import fancyimpute\n",
    "from fancyimpute import IterativeImputer"
   ],
   "metadata": {
    "execution": {
     "iopub.status.busy": "2024-03-10T19:23:25.916267Z",
     "iopub.execute_input": "2024-03-10T19:23:25.916578Z",
     "iopub.status.idle": "2024-03-10T19:23:25.924516Z",
     "shell.execute_reply.started": "2024-03-10T19:23:25.916547Z",
     "shell.execute_reply": "2024-03-10T19:23:25.923511Z"
    },
    "trusted": true
   },
   "execution_count": 21,
   "outputs": []
  },
  {
   "cell_type": "code",
   "source": [
    "df = pd.read_csv('Combined.csv', low_memory=False)\n",
    "df.head()"
   ],
   "metadata": {
    "execution": {
     "iopub.status.busy": "2024-03-10T19:23:25.925700Z",
     "iopub.execute_input": "2024-03-10T19:23:25.925963Z",
     "iopub.status.idle": "2024-03-10T19:23:35.777576Z",
     "shell.execute_reply.started": "2024-03-10T19:23:25.925941Z",
     "shell.execute_reply": "2024-03-10T19:23:35.776604Z"
    },
    "trusted": true
   },
   "execution_count": 22,
   "outputs": [
    {
     "execution_count": 22,
     "output_type": "execute_result",
     "data": {
      "text/plain": "   Unnamed: 0  Seq      Dur  RunTime     Mean      Sum      Min      Max  \\\n0           0    1 0.000000 0.000000 0.000000 0.000000 0.000000 0.000000   \n1           1    2 0.000000 0.000000 0.000000 0.000000 0.000000 0.000000   \n2           2    3 4.998020 4.998020 4.998020 4.998020 4.998020 4.998020   \n3           3    4 4.998037 4.998037 4.998037 4.998037 4.998037 4.998037   \n4           4    5 4.999453 4.999453 4.999453 4.999453 4.999453 4.999453   \n\n  Proto     sTos  ...  sVid dVid SrcTCPBase  DstTCPBase   TcpRtt   SynAck  \\\n0  icmp 0.000000  ...   NaN  NaN        NaN         NaN 0.000000 0.000000   \n1  icmp 0.000000  ...   NaN  NaN        NaN         NaN 0.000000 0.000000   \n2   udp 0.000000  ...   NaN  NaN        NaN         NaN 0.000000 0.000000   \n3   udp 0.000000  ...   NaN  NaN        NaN         NaN 0.000000 0.000000   \n4   udp 0.000000  ...   NaN  NaN        NaN         NaN 0.000000 0.000000   \n\n    AckDat   Label  Attack Type  Attack Tool  \n0 0.000000  Benign       Benign       Benign  \n1 0.000000  Benign       Benign       Benign  \n2 0.000000  Benign       Benign       Benign  \n3 0.000000  Benign       Benign       Benign  \n4 0.000000  Benign       Benign       Benign  \n\n[5 rows x 52 columns]",
      "text/html": "<div>\n<style scoped>\n    .dataframe tbody tr th:only-of-type {\n        vertical-align: middle;\n    }\n\n    .dataframe tbody tr th {\n        vertical-align: top;\n    }\n\n    .dataframe thead th {\n        text-align: right;\n    }\n</style>\n<table border=\"1\" class=\"dataframe\">\n  <thead>\n    <tr style=\"text-align: right;\">\n      <th></th>\n      <th>Unnamed: 0</th>\n      <th>Seq</th>\n      <th>Dur</th>\n      <th>RunTime</th>\n      <th>Mean</th>\n      <th>Sum</th>\n      <th>Min</th>\n      <th>Max</th>\n      <th>Proto</th>\n      <th>sTos</th>\n      <th>...</th>\n      <th>sVid</th>\n      <th>dVid</th>\n      <th>SrcTCPBase</th>\n      <th>DstTCPBase</th>\n      <th>TcpRtt</th>\n      <th>SynAck</th>\n      <th>AckDat</th>\n      <th>Label</th>\n      <th>Attack Type</th>\n      <th>Attack Tool</th>\n    </tr>\n  </thead>\n  <tbody>\n    <tr>\n      <th>0</th>\n      <td>0</td>\n      <td>1</td>\n      <td>0.000000</td>\n      <td>0.000000</td>\n      <td>0.000000</td>\n      <td>0.000000</td>\n      <td>0.000000</td>\n      <td>0.000000</td>\n      <td>icmp</td>\n      <td>0.000000</td>\n      <td>...</td>\n      <td>NaN</td>\n      <td>NaN</td>\n      <td>NaN</td>\n      <td>NaN</td>\n      <td>0.000000</td>\n      <td>0.000000</td>\n      <td>0.000000</td>\n      <td>Benign</td>\n      <td>Benign</td>\n      <td>Benign</td>\n    </tr>\n    <tr>\n      <th>1</th>\n      <td>1</td>\n      <td>2</td>\n      <td>0.000000</td>\n      <td>0.000000</td>\n      <td>0.000000</td>\n      <td>0.000000</td>\n      <td>0.000000</td>\n      <td>0.000000</td>\n      <td>icmp</td>\n      <td>0.000000</td>\n      <td>...</td>\n      <td>NaN</td>\n      <td>NaN</td>\n      <td>NaN</td>\n      <td>NaN</td>\n      <td>0.000000</td>\n      <td>0.000000</td>\n      <td>0.000000</td>\n      <td>Benign</td>\n      <td>Benign</td>\n      <td>Benign</td>\n    </tr>\n    <tr>\n      <th>2</th>\n      <td>2</td>\n      <td>3</td>\n      <td>4.998020</td>\n      <td>4.998020</td>\n      <td>4.998020</td>\n      <td>4.998020</td>\n      <td>4.998020</td>\n      <td>4.998020</td>\n      <td>udp</td>\n      <td>0.000000</td>\n      <td>...</td>\n      <td>NaN</td>\n      <td>NaN</td>\n      <td>NaN</td>\n      <td>NaN</td>\n      <td>0.000000</td>\n      <td>0.000000</td>\n      <td>0.000000</td>\n      <td>Benign</td>\n      <td>Benign</td>\n      <td>Benign</td>\n    </tr>\n    <tr>\n      <th>3</th>\n      <td>3</td>\n      <td>4</td>\n      <td>4.998037</td>\n      <td>4.998037</td>\n      <td>4.998037</td>\n      <td>4.998037</td>\n      <td>4.998037</td>\n      <td>4.998037</td>\n      <td>udp</td>\n      <td>0.000000</td>\n      <td>...</td>\n      <td>NaN</td>\n      <td>NaN</td>\n      <td>NaN</td>\n      <td>NaN</td>\n      <td>0.000000</td>\n      <td>0.000000</td>\n      <td>0.000000</td>\n      <td>Benign</td>\n      <td>Benign</td>\n      <td>Benign</td>\n    </tr>\n    <tr>\n      <th>4</th>\n      <td>4</td>\n      <td>5</td>\n      <td>4.999453</td>\n      <td>4.999453</td>\n      <td>4.999453</td>\n      <td>4.999453</td>\n      <td>4.999453</td>\n      <td>4.999453</td>\n      <td>udp</td>\n      <td>0.000000</td>\n      <td>...</td>\n      <td>NaN</td>\n      <td>NaN</td>\n      <td>NaN</td>\n      <td>NaN</td>\n      <td>0.000000</td>\n      <td>0.000000</td>\n      <td>0.000000</td>\n      <td>Benign</td>\n      <td>Benign</td>\n      <td>Benign</td>\n    </tr>\n  </tbody>\n</table>\n<p>5 rows × 52 columns</p>\n</div>"
     },
     "metadata": {}
    }
   ]
  },
  {
   "cell_type": "code",
   "source": [
    "print(df.shape)"
   ],
   "metadata": {
    "execution": {
     "iopub.status.busy": "2024-03-10T19:23:35.779136Z",
     "iopub.execute_input": "2024-03-10T19:23:35.779559Z",
     "iopub.status.idle": "2024-03-10T19:23:35.785139Z",
     "shell.execute_reply.started": "2024-03-10T19:23:35.779507Z",
     "shell.execute_reply": "2024-03-10T19:23:35.783835Z"
    },
    "trusted": true
   },
   "execution_count": 23,
   "outputs": [
    {
     "name": "stdout",
     "text": "(1215890, 52)\n",
     "output_type": "stream"
    }
   ]
  },
  {
   "cell_type": "code",
   "source": [
    "pd.set_option('float_format', '{:f}'.format)\n",
    "plt.rcParams[\"figure.figsize\"] = (10, 5)\n",
    "plt.rcParams[\"xtick.labelsize\"] = 7\n",
    "pd.set_option('future.no_silent_downcasting', True)"
   ],
   "metadata": {
    "execution": {
     "iopub.status.busy": "2024-03-10T19:23:35.786621Z",
     "iopub.execute_input": "2024-03-10T19:23:35.787159Z",
     "iopub.status.idle": "2024-03-10T19:23:35.812258Z",
     "shell.execute_reply.started": "2024-03-10T19:23:35.787119Z",
     "shell.execute_reply": "2024-03-10T19:23:35.811309Z"
    },
    "trusted": true
   },
   "execution_count": 24,
   "outputs": []
  },
  {
   "cell_type": "code",
   "source": [
    "# Use GPU if it's available\n",
    "device = torch.device(\"cuda\" if torch.cuda.is_available() else \"cpu\")\n",
    "device"
   ],
   "metadata": {
    "execution": {
     "iopub.status.busy": "2024-03-10T19:23:35.816676Z",
     "iopub.execute_input": "2024-03-10T19:23:35.816958Z",
     "iopub.status.idle": "2024-03-10T19:23:35.824998Z",
     "shell.execute_reply.started": "2024-03-10T19:23:35.816934Z",
     "shell.execute_reply": "2024-03-10T19:23:35.824113Z"
    },
    "trusted": true
   },
   "execution_count": 25,
   "outputs": [
    {
     "execution_count": 25,
     "output_type": "execute_result",
     "data": {
      "text/plain": "device(type='cuda')"
     },
     "metadata": {}
    }
   ]
  },
  {
   "cell_type": "code",
   "source": [
    "print('Torch', torch.__version__, 'CUDA', torch.version.cuda)\n",
    "print('Device:', torch.device('cuda:0'))"
   ],
   "metadata": {
    "execution": {
     "iopub.status.busy": "2024-03-10T19:23:35.826118Z",
     "iopub.execute_input": "2024-03-10T19:23:35.826397Z",
     "iopub.status.idle": "2024-03-10T19:23:35.833968Z",
     "shell.execute_reply.started": "2024-03-10T19:23:35.826375Z",
     "shell.execute_reply": "2024-03-10T19:23:35.833181Z"
    },
    "trusted": true
   },
   "execution_count": 26,
   "outputs": [
    {
     "name": "stdout",
     "text": "Torch 2.1.2 CUDA 12.1\nDevice: cuda:0\n",
     "output_type": "stream"
    }
   ]
  },
  {
   "cell_type": "code",
   "source": [
    "# number of subprocesses to use for data loading\n",
    "num_workers = multiprocessing.cpu_count()\n",
    "# how many samples per batch to load\n",
    "batch_size = 64\n",
    "# percentage of training set to use as validation\n",
    "valid_size = 0.01\n",
    "\n",
    "num_classes = df['Attack Type'].nunique()\n",
    "num_classes"
   ],
   "metadata": {
    "execution": {
     "iopub.status.busy": "2024-03-10T19:23:35.835056Z",
     "iopub.execute_input": "2024-03-10T19:23:35.835353Z",
     "iopub.status.idle": "2024-03-10T19:23:35.930118Z",
     "shell.execute_reply.started": "2024-03-10T19:23:35.835331Z",
     "shell.execute_reply": "2024-03-10T19:23:35.929147Z"
    },
    "trusted": true
   },
   "execution_count": 27,
   "outputs": [
    {
     "execution_count": 27,
     "output_type": "execute_result",
     "data": {
      "text/plain": "9"
     },
     "metadata": {}
    }
   ]
  },
  {
   "cell_type": "code",
   "source": [
    "# Segregate features and labels into separate variables\n",
    "X, y = df.iloc[:, :-2].values, df.iloc[:, [-2]].values\n",
    "\n",
    "X_train, X_test, y_train, y_test = train_test_split(X, y,\n",
    "                                                    stratify=y, \n",
    "                                                    test_size=0.01)\n",
    "\n",
    "X_train = pd.DataFrame(X_train, columns=df.columns.to_list()[:-2])\n",
    "X_test = pd.DataFrame(X_test, columns=df.columns.to_list()[:-2])\n",
    "y_train = pd.DataFrame(y_train, columns=['Attack Type'])\n",
    "y_test = pd.DataFrame(y_test, columns=['Attack Type'])\n",
    "\n",
    "print(\"Training dataset size:\", X_train.shape)\n",
    "print(\"Testing dataset size:\", X_test.shape)\n",
    "print(\"Training target size:\", y_train.shape)\n",
    "print(\"Testing target size:\", y_test.shape)"
   ],
   "metadata": {
    "execution": {
     "iopub.status.busy": "2024-03-10T19:23:35.931290Z",
     "iopub.execute_input": "2024-03-10T19:23:35.931584Z",
     "iopub.status.idle": "2024-03-10T19:23:55.713472Z",
     "shell.execute_reply.started": "2024-03-10T19:23:35.931556Z",
     "shell.execute_reply": "2024-03-10T19:23:55.712572Z"
    },
    "trusted": true
   },
   "execution_count": 28,
   "outputs": [
    {
     "name": "stdout",
     "text": "Training dataset size: (1203731, 50)\nTesting dataset size: (12159, 50)\nTraining target size: (1203731, 1)\nTesting target size: (12159, 1)\n",
     "output_type": "stream"
    }
   ]
  },
  {
   "cell_type": "code",
   "source": [
    "# Define a function to impute NaN values with the most frequent value in the group\n",
    "def impute_most_frequent(group):\n",
    "    mode_value = group.mode().iloc[0] if not group.mode().empty else np.nan\n",
    "    return group.fillna(mode_value)\n",
    "\n",
    "def handle_missing_values(df):\n",
    "    df.drop_duplicates(inplace=True)\n",
    "    df.drop(['sVid', 'dVid'], axis=1, inplace=True)\n",
    "    df.dropna(subset=['sTos', 'sHops', 'sTtl', 'sDSb'], how='any', inplace=True)\n",
    "    df[['dTtl', 'dDSb', 'dTos', 'dHops', 'SrcGap', 'DstGap']] = df.groupby('Attack Type')[['dTtl', 'dDSb', 'dTos', 'dHops', 'SrcGap', 'DstGap']].transform(impute_most_frequent)\n",
    "    df['dDSb'] = df['dDSb'].fillna('cs0')\n",
    "    \n",
    "    df_subset_copy = df[['dTtl', 'dTos', 'dHops', 'SrcGap', 'DstGap', 'SrcTCPBase', 'DstTCPBase', 'SrcWin', 'DstWin']].copy(deep=True)\n",
    "    mice_imputer = IterativeImputer()\n",
    "    df_subset_copy.iloc[:, :] = mice_imputer.fit_transform(df_subset_copy)\n",
    "    df[['dTtl', 'dTos', 'dHops', 'SrcGap', 'DstGap', 'SrcTCPBase', 'DstTCPBase', 'SrcWin', 'DstWin']] = df_subset_copy"
   ],
   "metadata": {
    "execution": {
     "iopub.status.busy": "2024-03-10T19:23:55.714755Z",
     "iopub.execute_input": "2024-03-10T19:23:55.715039Z",
     "iopub.status.idle": "2024-03-10T19:23:55.723938Z",
     "shell.execute_reply.started": "2024-03-10T19:23:55.715015Z",
     "shell.execute_reply": "2024-03-10T19:23:55.722985Z"
    },
    "trusted": true
   },
   "execution_count": 29,
   "outputs": []
  },
  {
   "cell_type": "code",
   "source": [
    "train_df = pd.concat([X_train, y_train], axis='columns')\n",
    "handle_missing_values(train_df)\n",
    "print(train_df.shape)\n",
    "train_df.isna().any()"
   ],
   "metadata": {
    "execution": {
     "iopub.status.busy": "2024-03-10T19:23:55.725162Z",
     "iopub.execute_input": "2024-03-10T19:23:55.725502Z",
     "iopub.status.idle": "2024-03-10T19:24:42.604821Z",
     "shell.execute_reply.started": "2024-03-10T19:23:55.725467Z",
     "shell.execute_reply": "2024-03-10T19:24:42.603746Z"
    },
    "trusted": true
   },
   "execution_count": 30,
   "outputs": [
    {
     "name": "stdout",
     "text": "(1203516, 49)\n",
     "output_type": "stream"
    },
    {
     "execution_count": 30,
     "output_type": "execute_result",
     "data": {
      "text/plain": "Unnamed: 0     False\nSeq            False\nDur            False\nRunTime        False\nMean           False\nSum            False\nMin            False\nMax            False\nProto          False\nsTos           False\ndTos           False\nsDSb           False\ndDSb           False\nsTtl           False\ndTtl           False\nsHops          False\ndHops          False\nCause          False\nTotPkts        False\nSrcPkts        False\nDstPkts        False\nTotBytes       False\nSrcBytes       False\nDstBytes       False\nOffset         False\nsMeanPktSz     False\ndMeanPktSz     False\nLoad           False\nSrcLoad        False\nDstLoad        False\nLoss           False\nSrcLoss        False\nDstLoss        False\npLoss          False\nSrcGap         False\nDstGap         False\nRate           False\nSrcRate        False\nDstRate        False\nState          False\nSrcWin         False\nDstWin         False\nSrcTCPBase     False\nDstTCPBase     False\nTcpRtt         False\nSynAck         False\nAckDat         False\nLabel          False\nAttack Type    False\ndtype: bool"
     },
     "metadata": {}
    }
   ]
  },
  {
   "cell_type": "code",
   "source": [
    "X_train, y_train = train_df.loc[:, train_df.columns != 'Attack Type'], train_df['Attack Type']\n",
    "print(\"Training dataset size:\", X_train.shape)\n",
    "print(\"Training target size:\", y_train.shape)"
   ],
   "metadata": {
    "execution": {
     "iopub.status.busy": "2024-03-10T19:24:42.606371Z",
     "iopub.execute_input": "2024-03-10T19:24:42.606810Z",
     "iopub.status.idle": "2024-03-10T19:24:45.393206Z",
     "shell.execute_reply.started": "2024-03-10T19:24:42.606775Z",
     "shell.execute_reply": "2024-03-10T19:24:45.392249Z"
    },
    "trusted": true
   },
   "execution_count": 31,
   "outputs": [
    {
     "name": "stdout",
     "text": "Training dataset size: (1203516, 48)\nTraining target size: (1203516,)\n",
     "output_type": "stream"
    }
   ]
  },
  {
   "cell_type": "code",
   "source": [
    "def one_hot_encode(df):\n",
    "    proto_dummies = pd.get_dummies(df.Proto, dtype=int, prefix='Proto')\n",
    "    proto_dummies.drop(columns=['Proto_ipv6-icmp'], inplace=True)\n",
    "    sDSb_dummies = pd.get_dummies(df.sDSb, dtype=int, prefix='sDSb')\n",
    "    sDSb_dummies.drop(columns=['sDSb_39','sDSb_54', 'sDSb_4', 'sDSb_cs4'], inplace=True)\n",
    "    dDSb_dummies = pd.get_dummies(df.dDSb, dtype=int, prefix='dDSb')\n",
    "    dDSb_dummies.drop(columns=['dDSb_cs4'], inplace=True)\n",
    "    Cause_dummies = pd.get_dummies(df.Cause, dtype=int, prefix='Cause')\n",
    "    Cause_dummies.drop(columns=['Cause_Shutdown'], inplace=True)\n",
    "    State_dummies = pd.get_dummies(df.State, dtype=int, prefix='State')\n",
    "    State_dummies.drop(columns=['State_RSP','State_TST','State_NRS'], inplace=True)\n",
    "    df = pd.concat([df, proto_dummies, sDSb_dummies, dDSb_dummies, Cause_dummies, State_dummies], axis='columns')\n",
    "    df.drop(columns=['Proto', 'sDSb', 'dDSb', 'Cause', 'State', 'Label', 'Unnamed: 0', 'Seq', 'RunTime', 'Mean', 'Sum', 'Min', 'Max'], inplace=True)\n",
    "    return df"
   ],
   "metadata": {
    "execution": {
     "iopub.status.busy": "2024-03-10T19:24:45.394328Z",
     "iopub.execute_input": "2024-03-10T19:24:45.394649Z",
     "iopub.status.idle": "2024-03-10T19:24:45.403800Z",
     "shell.execute_reply.started": "2024-03-10T19:24:45.394623Z",
     "shell.execute_reply": "2024-03-10T19:24:45.402949Z"
    },
    "trusted": true
   },
   "execution_count": 32,
   "outputs": []
  },
  {
   "cell_type": "code",
   "source": [
    "X_train = one_hot_encode(X_train)"
   ],
   "metadata": {
    "execution": {
     "iopub.status.busy": "2024-03-10T19:24:45.405037Z",
     "iopub.execute_input": "2024-03-10T19:24:45.405630Z",
     "iopub.status.idle": "2024-03-10T19:24:52.935839Z",
     "shell.execute_reply.started": "2024-03-10T19:24:45.405598Z",
     "shell.execute_reply": "2024-03-10T19:24:52.934894Z"
    },
    "trusted": true
   },
   "execution_count": 33,
   "outputs": []
  },
  {
   "cell_type": "code",
   "source": [
    "print(X_train.head())\n",
    "X_train.columns"
   ],
   "metadata": {
    "execution": {
     "iopub.status.busy": "2024-03-10T19:24:52.937554Z",
     "iopub.execute_input": "2024-03-10T19:24:52.937921Z",
     "iopub.status.idle": "2024-03-10T19:24:52.956139Z",
     "shell.execute_reply.started": "2024-03-10T19:24:52.937892Z",
     "shell.execute_reply": "2024-03-10T19:24:52.954946Z"
    },
    "trusted": true
   },
   "execution_count": 34,
   "outputs": [
    {
     "name": "stdout",
     "text": "       Dur     sTos     dTos      sTtl      dTtl    sHops    dHops TotPkts  \\\n0 0.000000 0.000000 0.000000 63.000000 64.000000 1.000000 0.000000       1   \n1 0.000000 0.000000 0.949951 63.000000 64.096707 1.000000 2.185725       1   \n2 2.583721 0.000000 0.949951 63.000000 64.096707 1.000000 2.185725       2   \n3 0.034361 0.000000 0.000000 63.000000 59.000000 1.000000 5.000000       7   \n4 4.547992 0.000000 0.949951 63.000000 64.096707 1.000000 2.185725       2   \n\n  SrcPkts DstPkts  ... Cause_Start Cause_Status State_ACC State_CON State_ECO  \\\n0       1       0  ...           0            1         0         0         0   \n1       1       0  ...           1            0         0         0         0   \n2       2       0  ...           0            1         0         0         0   \n3       4       3  ...           1            0         0         1         0   \n4       2       0  ...           1            0         0         0         0   \n\n  State_FIN State_INT State_REQ State_RST State_URP  \n0         0         0         1         0         0  \n1         0         1         0         0         0  \n2         0         0         1         0         0  \n3         0         0         0         0         0  \n4         0         1         0         0         0  \n\n[5 rows x 62 columns]\n",
     "output_type": "stream"
    },
    {
     "execution_count": 34,
     "output_type": "execute_result",
     "data": {
      "text/plain": "Index(['Dur', 'sTos', 'dTos', 'sTtl', 'dTtl', 'sHops', 'dHops', 'TotPkts',\n       'SrcPkts', 'DstPkts', 'TotBytes', 'SrcBytes', 'DstBytes', 'Offset',\n       'sMeanPktSz', 'dMeanPktSz', 'Load', 'SrcLoad', 'DstLoad', 'Loss',\n       'SrcLoss', 'DstLoss', 'pLoss', 'SrcGap', 'DstGap', 'Rate', 'SrcRate',\n       'DstRate', 'SrcWin', 'DstWin', 'SrcTCPBase', 'DstTCPBase', 'TcpRtt',\n       'SynAck', 'AckDat', 'Proto_icmp', 'Proto_sctp', 'Proto_tcp',\n       'Proto_udp', 'sDSb_52', 'sDSb_af11', 'sDSb_af12', 'sDSb_af41',\n       'sDSb_cs0', 'sDSb_cs6', 'sDSb_cs7', 'sDSb_ef', 'dDSb_af11', 'dDSb_af12',\n       'dDSb_cs0', 'dDSb_cs1', 'dDSb_ef', 'Cause_Start', 'Cause_Status',\n       'State_ACC', 'State_CON', 'State_ECO', 'State_FIN', 'State_INT',\n       'State_REQ', 'State_RST', 'State_URP'],\n      dtype='object')"
     },
     "metadata": {}
    }
   ]
  },
  {
   "cell_type": "code",
   "source": [
    "def normalize_dataframe(df):\n",
    "    std_scaler = preprocessing.StandardScaler()\n",
    "    std_normalized = std_scaler.fit_transform(df)\n",
    "    df = pd.DataFrame(std_normalized, columns = df.columns)\n",
    "    return df"
   ],
   "metadata": {
    "execution": {
     "iopub.status.busy": "2024-03-10T19:24:52.957469Z",
     "iopub.execute_input": "2024-03-10T19:24:52.957847Z",
     "iopub.status.idle": "2024-03-10T19:24:52.965033Z",
     "shell.execute_reply.started": "2024-03-10T19:24:52.957819Z",
     "shell.execute_reply": "2024-03-10T19:24:52.964042Z"
    },
    "trusted": true
   },
   "execution_count": 35,
   "outputs": []
  },
  {
   "cell_type": "code",
   "source": [
    "X_train = normalize_dataframe(X_train)\n",
    "X_train.head()"
   ],
   "metadata": {
    "execution": {
     "iopub.status.busy": "2024-03-10T19:24:52.966223Z",
     "iopub.execute_input": "2024-03-10T19:24:52.966611Z",
     "iopub.status.idle": "2024-03-10T19:25:16.636258Z",
     "shell.execute_reply.started": "2024-03-10T19:24:52.966569Z",
     "shell.execute_reply": "2024-03-10T19:25:16.635306Z"
    },
    "trusted": true
   },
   "execution_count": 36,
   "outputs": [
    {
     "execution_count": 36,
     "output_type": "execute_result",
     "data": {
      "text/plain": "        Dur      sTos      dTos      sTtl      dTtl     sHops     dHops  \\\n0 -0.807007 -0.069049 -0.094771 -0.330093 -0.007236 -0.352786 -0.973032   \n1 -0.807007 -0.069049  0.000000 -0.330093  0.000000 -0.352786  0.000000   \n2  0.720610 -0.069049  0.000000 -0.330093  0.000000 -0.352786  0.000000   \n3 -0.786692 -0.069049 -0.094771 -0.330093 -0.381365 -0.352786  1.252848   \n4  1.881979 -0.069049  0.000000 -0.330093  0.000000 -0.352786  0.000000   \n\n    TotPkts   SrcPkts   DstPkts  ...  Cause_Start  Cause_Status  State_ACC  \\\n0 -0.166854 -0.146671 -0.115594  ...    -0.816856      0.817844  -0.030274   \n1 -0.166854 -0.146671 -0.115594  ...     1.224205     -1.222728  -0.030274   \n2 -0.126607 -0.092361 -0.115594  ...    -0.816856      0.817844  -0.030274   \n3  0.074627  0.016258  0.124372  ...     1.224205     -1.222728  -0.030274   \n4 -0.126607 -0.092361 -0.115594  ...     1.224205     -1.222728  -0.030274   \n\n   State_CON  State_ECO  State_FIN  State_INT  State_REQ  State_RST  State_URP  \n0  -0.349203  -0.155785  -0.226143  -0.608858   1.031289  -0.257690  -0.025384  \n1  -0.349203  -0.155785  -0.226143   1.642419  -0.969660  -0.257690  -0.025384  \n2  -0.349203  -0.155785  -0.226143  -0.608858   1.031289  -0.257690  -0.025384  \n3   2.863662  -0.155785  -0.226143  -0.608858  -0.969660  -0.257690  -0.025384  \n4  -0.349203  -0.155785  -0.226143   1.642419  -0.969660  -0.257690  -0.025384  \n\n[5 rows x 62 columns]",
      "text/html": "<div>\n<style scoped>\n    .dataframe tbody tr th:only-of-type {\n        vertical-align: middle;\n    }\n\n    .dataframe tbody tr th {\n        vertical-align: top;\n    }\n\n    .dataframe thead th {\n        text-align: right;\n    }\n</style>\n<table border=\"1\" class=\"dataframe\">\n  <thead>\n    <tr style=\"text-align: right;\">\n      <th></th>\n      <th>Dur</th>\n      <th>sTos</th>\n      <th>dTos</th>\n      <th>sTtl</th>\n      <th>dTtl</th>\n      <th>sHops</th>\n      <th>dHops</th>\n      <th>TotPkts</th>\n      <th>SrcPkts</th>\n      <th>DstPkts</th>\n      <th>...</th>\n      <th>Cause_Start</th>\n      <th>Cause_Status</th>\n      <th>State_ACC</th>\n      <th>State_CON</th>\n      <th>State_ECO</th>\n      <th>State_FIN</th>\n      <th>State_INT</th>\n      <th>State_REQ</th>\n      <th>State_RST</th>\n      <th>State_URP</th>\n    </tr>\n  </thead>\n  <tbody>\n    <tr>\n      <th>0</th>\n      <td>-0.807007</td>\n      <td>-0.069049</td>\n      <td>-0.094771</td>\n      <td>-0.330093</td>\n      <td>-0.007236</td>\n      <td>-0.352786</td>\n      <td>-0.973032</td>\n      <td>-0.166854</td>\n      <td>-0.146671</td>\n      <td>-0.115594</td>\n      <td>...</td>\n      <td>-0.816856</td>\n      <td>0.817844</td>\n      <td>-0.030274</td>\n      <td>-0.349203</td>\n      <td>-0.155785</td>\n      <td>-0.226143</td>\n      <td>-0.608858</td>\n      <td>1.031289</td>\n      <td>-0.257690</td>\n      <td>-0.025384</td>\n    </tr>\n    <tr>\n      <th>1</th>\n      <td>-0.807007</td>\n      <td>-0.069049</td>\n      <td>0.000000</td>\n      <td>-0.330093</td>\n      <td>0.000000</td>\n      <td>-0.352786</td>\n      <td>0.000000</td>\n      <td>-0.166854</td>\n      <td>-0.146671</td>\n      <td>-0.115594</td>\n      <td>...</td>\n      <td>1.224205</td>\n      <td>-1.222728</td>\n      <td>-0.030274</td>\n      <td>-0.349203</td>\n      <td>-0.155785</td>\n      <td>-0.226143</td>\n      <td>1.642419</td>\n      <td>-0.969660</td>\n      <td>-0.257690</td>\n      <td>-0.025384</td>\n    </tr>\n    <tr>\n      <th>2</th>\n      <td>0.720610</td>\n      <td>-0.069049</td>\n      <td>0.000000</td>\n      <td>-0.330093</td>\n      <td>0.000000</td>\n      <td>-0.352786</td>\n      <td>0.000000</td>\n      <td>-0.126607</td>\n      <td>-0.092361</td>\n      <td>-0.115594</td>\n      <td>...</td>\n      <td>-0.816856</td>\n      <td>0.817844</td>\n      <td>-0.030274</td>\n      <td>-0.349203</td>\n      <td>-0.155785</td>\n      <td>-0.226143</td>\n      <td>-0.608858</td>\n      <td>1.031289</td>\n      <td>-0.257690</td>\n      <td>-0.025384</td>\n    </tr>\n    <tr>\n      <th>3</th>\n      <td>-0.786692</td>\n      <td>-0.069049</td>\n      <td>-0.094771</td>\n      <td>-0.330093</td>\n      <td>-0.381365</td>\n      <td>-0.352786</td>\n      <td>1.252848</td>\n      <td>0.074627</td>\n      <td>0.016258</td>\n      <td>0.124372</td>\n      <td>...</td>\n      <td>1.224205</td>\n      <td>-1.222728</td>\n      <td>-0.030274</td>\n      <td>2.863662</td>\n      <td>-0.155785</td>\n      <td>-0.226143</td>\n      <td>-0.608858</td>\n      <td>-0.969660</td>\n      <td>-0.257690</td>\n      <td>-0.025384</td>\n    </tr>\n    <tr>\n      <th>4</th>\n      <td>1.881979</td>\n      <td>-0.069049</td>\n      <td>0.000000</td>\n      <td>-0.330093</td>\n      <td>0.000000</td>\n      <td>-0.352786</td>\n      <td>0.000000</td>\n      <td>-0.126607</td>\n      <td>-0.092361</td>\n      <td>-0.115594</td>\n      <td>...</td>\n      <td>1.224205</td>\n      <td>-1.222728</td>\n      <td>-0.030274</td>\n      <td>-0.349203</td>\n      <td>-0.155785</td>\n      <td>-0.226143</td>\n      <td>1.642419</td>\n      <td>-0.969660</td>\n      <td>-0.257690</td>\n      <td>-0.025384</td>\n    </tr>\n  </tbody>\n</table>\n<p>5 rows × 62 columns</p>\n</div>"
     },
     "metadata": {}
    }
   ]
  },
  {
   "cell_type": "code",
   "source": [
    "class CustomTabularDataset(Dataset):\n",
    "    def __init__(self, data):\n",
    "        # Load and preprocess your tabular data here\n",
    "        self.features = torch.tensor(data['features'].values, dtype=torch.float32)\n",
    "        self.labels = torch.tensor(data['labels'].values, dtype=torch.float32)\n",
    "\n",
    "    def __len__(self):\n",
    "        return len(self.features)\n",
    "\n",
    "    def __getitem__(self, idx):\n",
    "        return self.features[idx], self.labels[idx]"
   ],
   "metadata": {
    "execution": {
     "iopub.status.busy": "2024-03-10T19:25:16.655071Z",
     "iopub.execute_input": "2024-03-10T19:25:16.655322Z",
     "iopub.status.idle": "2024-03-10T19:25:16.666889Z",
     "shell.execute_reply.started": "2024-03-10T19:25:16.655293Z",
     "shell.execute_reply": "2024-03-10T19:25:16.666009Z"
    },
    "trusted": true
   },
   "execution_count": 39,
   "outputs": []
  },
  {
   "cell_type": "code",
   "source": [
    "train_df = pd.concat([X_train, y_train], axis='columns')\n",
    "print(train_df.shape)\n",
    "train_df.head()"
   ],
   "metadata": {
    "execution": {
     "iopub.status.busy": "2024-03-10T19:25:16.667912Z",
     "iopub.execute_input": "2024-03-10T19:25:16.668172Z",
     "iopub.status.idle": "2024-03-10T19:25:18.048348Z",
     "shell.execute_reply.started": "2024-03-10T19:25:16.668150Z",
     "shell.execute_reply": "2024-03-10T19:25:18.047296Z"
    },
    "trusted": true
   },
   "execution_count": 40,
   "outputs": [
    {
     "name": "stdout",
     "text": "(1203731, 63)\n",
     "output_type": "stream"
    },
    {
     "execution_count": 40,
     "output_type": "execute_result",
     "data": {
      "text/plain": "        Dur      sTos      dTos      sTtl      dTtl     sHops     dHops  \\\n0 -0.807007 -0.069049 -0.094771 -0.330093 -0.007236 -0.352786 -0.973032   \n1 -0.807007 -0.069049  0.000000 -0.330093  0.000000 -0.352786  0.000000   \n2  0.720610 -0.069049  0.000000 -0.330093  0.000000 -0.352786  0.000000   \n3 -0.786692 -0.069049 -0.094771 -0.330093 -0.381365 -0.352786  1.252848   \n4  1.881979 -0.069049  0.000000 -0.330093  0.000000 -0.352786  0.000000   \n\n    TotPkts   SrcPkts   DstPkts  ...  Cause_Status  State_ACC  State_CON  \\\n0 -0.166854 -0.146671 -0.115594  ...      0.817844  -0.030274  -0.349203   \n1 -0.166854 -0.146671 -0.115594  ...     -1.222728  -0.030274  -0.349203   \n2 -0.126607 -0.092361 -0.115594  ...      0.817844  -0.030274  -0.349203   \n3  0.074627  0.016258  0.124372  ...     -1.222728  -0.030274   2.863662   \n4 -0.126607 -0.092361 -0.115594  ...     -1.222728  -0.030274  -0.349203   \n\n   State_ECO  State_FIN  State_INT  State_REQ  State_RST  State_URP  \\\n0  -0.155785  -0.226143  -0.608858   1.031289  -0.257690  -0.025384   \n1  -0.155785  -0.226143   1.642419  -0.969660  -0.257690  -0.025384   \n2  -0.155785  -0.226143  -0.608858   1.031289  -0.257690  -0.025384   \n3  -0.155785  -0.226143  -0.608858  -0.969660  -0.257690  -0.025384   \n4  -0.155785  -0.226143   1.642419  -0.969660  -0.257690  -0.025384   \n\n   Attack Type  \n0       Benign  \n1     UDPFlood  \n2     UDPFlood  \n3  SlowrateDoS  \n4     UDPFlood  \n\n[5 rows x 63 columns]",
      "text/html": "<div>\n<style scoped>\n    .dataframe tbody tr th:only-of-type {\n        vertical-align: middle;\n    }\n\n    .dataframe tbody tr th {\n        vertical-align: top;\n    }\n\n    .dataframe thead th {\n        text-align: right;\n    }\n</style>\n<table border=\"1\" class=\"dataframe\">\n  <thead>\n    <tr style=\"text-align: right;\">\n      <th></th>\n      <th>Dur</th>\n      <th>sTos</th>\n      <th>dTos</th>\n      <th>sTtl</th>\n      <th>dTtl</th>\n      <th>sHops</th>\n      <th>dHops</th>\n      <th>TotPkts</th>\n      <th>SrcPkts</th>\n      <th>DstPkts</th>\n      <th>...</th>\n      <th>Cause_Status</th>\n      <th>State_ACC</th>\n      <th>State_CON</th>\n      <th>State_ECO</th>\n      <th>State_FIN</th>\n      <th>State_INT</th>\n      <th>State_REQ</th>\n      <th>State_RST</th>\n      <th>State_URP</th>\n      <th>Attack Type</th>\n    </tr>\n  </thead>\n  <tbody>\n    <tr>\n      <th>0</th>\n      <td>-0.807007</td>\n      <td>-0.069049</td>\n      <td>-0.094771</td>\n      <td>-0.330093</td>\n      <td>-0.007236</td>\n      <td>-0.352786</td>\n      <td>-0.973032</td>\n      <td>-0.166854</td>\n      <td>-0.146671</td>\n      <td>-0.115594</td>\n      <td>...</td>\n      <td>0.817844</td>\n      <td>-0.030274</td>\n      <td>-0.349203</td>\n      <td>-0.155785</td>\n      <td>-0.226143</td>\n      <td>-0.608858</td>\n      <td>1.031289</td>\n      <td>-0.257690</td>\n      <td>-0.025384</td>\n      <td>Benign</td>\n    </tr>\n    <tr>\n      <th>1</th>\n      <td>-0.807007</td>\n      <td>-0.069049</td>\n      <td>0.000000</td>\n      <td>-0.330093</td>\n      <td>0.000000</td>\n      <td>-0.352786</td>\n      <td>0.000000</td>\n      <td>-0.166854</td>\n      <td>-0.146671</td>\n      <td>-0.115594</td>\n      <td>...</td>\n      <td>-1.222728</td>\n      <td>-0.030274</td>\n      <td>-0.349203</td>\n      <td>-0.155785</td>\n      <td>-0.226143</td>\n      <td>1.642419</td>\n      <td>-0.969660</td>\n      <td>-0.257690</td>\n      <td>-0.025384</td>\n      <td>UDPFlood</td>\n    </tr>\n    <tr>\n      <th>2</th>\n      <td>0.720610</td>\n      <td>-0.069049</td>\n      <td>0.000000</td>\n      <td>-0.330093</td>\n      <td>0.000000</td>\n      <td>-0.352786</td>\n      <td>0.000000</td>\n      <td>-0.126607</td>\n      <td>-0.092361</td>\n      <td>-0.115594</td>\n      <td>...</td>\n      <td>0.817844</td>\n      <td>-0.030274</td>\n      <td>-0.349203</td>\n      <td>-0.155785</td>\n      <td>-0.226143</td>\n      <td>-0.608858</td>\n      <td>1.031289</td>\n      <td>-0.257690</td>\n      <td>-0.025384</td>\n      <td>UDPFlood</td>\n    </tr>\n    <tr>\n      <th>3</th>\n      <td>-0.786692</td>\n      <td>-0.069049</td>\n      <td>-0.094771</td>\n      <td>-0.330093</td>\n      <td>-0.381365</td>\n      <td>-0.352786</td>\n      <td>1.252848</td>\n      <td>0.074627</td>\n      <td>0.016258</td>\n      <td>0.124372</td>\n      <td>...</td>\n      <td>-1.222728</td>\n      <td>-0.030274</td>\n      <td>2.863662</td>\n      <td>-0.155785</td>\n      <td>-0.226143</td>\n      <td>-0.608858</td>\n      <td>-0.969660</td>\n      <td>-0.257690</td>\n      <td>-0.025384</td>\n      <td>SlowrateDoS</td>\n    </tr>\n    <tr>\n      <th>4</th>\n      <td>1.881979</td>\n      <td>-0.069049</td>\n      <td>0.000000</td>\n      <td>-0.330093</td>\n      <td>0.000000</td>\n      <td>-0.352786</td>\n      <td>0.000000</td>\n      <td>-0.126607</td>\n      <td>-0.092361</td>\n      <td>-0.115594</td>\n      <td>...</td>\n      <td>-1.222728</td>\n      <td>-0.030274</td>\n      <td>-0.349203</td>\n      <td>-0.155785</td>\n      <td>-0.226143</td>\n      <td>1.642419</td>\n      <td>-0.969660</td>\n      <td>-0.257690</td>\n      <td>-0.025384</td>\n      <td>UDPFlood</td>\n    </tr>\n  </tbody>\n</table>\n<p>5 rows × 63 columns</p>\n</div>"
     },
     "metadata": {}
    }
   ]
  },
  {
   "cell_type": "code",
   "source": [
    "from sklearn.preprocessing import OrdinalEncoder\n",
    "\n",
    "# define ordinal encoding\n",
    "encoder = OrdinalEncoder()\n",
    "# transform data\n",
    "y_train = encoder.fit_transform(y_train.iloc[:].values.reshape(-1, 1))\n",
    "y_train = pd.DataFrame(y_train, columns=['Attack Type'])\n",
    "y_train['Attack Type'] = pd.to_numeric(y_train['Attack Type'], downcast='integer')\n",
    "y_train.head()"
   ],
   "metadata": {
    "execution": {
     "iopub.status.busy": "2024-03-10T19:25:18.049628Z",
     "iopub.execute_input": "2024-03-10T19:25:18.049992Z",
     "iopub.status.idle": "2024-03-10T19:25:18.378558Z",
     "shell.execute_reply.started": "2024-03-10T19:25:18.049961Z",
     "shell.execute_reply": "2024-03-10T19:25:18.377432Z"
    },
    "trusted": true
   },
   "execution_count": 41,
   "outputs": [
    {
     "execution_count": 41,
     "output_type": "execute_result",
     "data": {
      "text/plain": "   Attack Type\n0            0\n1            7\n2            7\n3            5\n4            7",
      "text/html": "<div>\n<style scoped>\n    .dataframe tbody tr th:only-of-type {\n        vertical-align: middle;\n    }\n\n    .dataframe tbody tr th {\n        vertical-align: top;\n    }\n\n    .dataframe thead th {\n        text-align: right;\n    }\n</style>\n<table border=\"1\" class=\"dataframe\">\n  <thead>\n    <tr style=\"text-align: right;\">\n      <th></th>\n      <th>Attack Type</th>\n    </tr>\n  </thead>\n  <tbody>\n    <tr>\n      <th>0</th>\n      <td>0</td>\n    </tr>\n    <tr>\n      <th>1</th>\n      <td>7</td>\n    </tr>\n    <tr>\n      <th>2</th>\n      <td>7</td>\n    </tr>\n    <tr>\n      <th>3</th>\n      <td>5</td>\n    </tr>\n    <tr>\n      <th>4</th>\n      <td>7</td>\n    </tr>\n  </tbody>\n</table>\n</div>"
     },
     "metadata": {}
    }
   ]
  },
  {
   "cell_type": "code",
   "source": [
    "train_df.head()"
   ],
   "metadata": {
    "execution": {
     "iopub.status.busy": "2024-03-10T19:25:18.383600Z",
     "iopub.execute_input": "2024-03-10T19:25:18.383925Z",
     "iopub.status.idle": "2024-03-10T19:25:18.402319Z",
     "shell.execute_reply.started": "2024-03-10T19:25:18.383898Z",
     "shell.execute_reply": "2024-03-10T19:25:18.401341Z"
    },
    "trusted": true
   },
   "execution_count": 42,
   "outputs": [
    {
     "execution_count": 42,
     "output_type": "execute_result",
     "data": {
      "text/plain": "        Dur      sTos      dTos      sTtl      dTtl     sHops     dHops  \\\n0 -0.807007 -0.069049 -0.094771 -0.330093 -0.007236 -0.352786 -0.973032   \n1 -0.807007 -0.069049  0.000000 -0.330093  0.000000 -0.352786  0.000000   \n2  0.720610 -0.069049  0.000000 -0.330093  0.000000 -0.352786  0.000000   \n3 -0.786692 -0.069049 -0.094771 -0.330093 -0.381365 -0.352786  1.252848   \n4  1.881979 -0.069049  0.000000 -0.330093  0.000000 -0.352786  0.000000   \n\n    TotPkts   SrcPkts   DstPkts  ...  Cause_Status  State_ACC  State_CON  \\\n0 -0.166854 -0.146671 -0.115594  ...      0.817844  -0.030274  -0.349203   \n1 -0.166854 -0.146671 -0.115594  ...     -1.222728  -0.030274  -0.349203   \n2 -0.126607 -0.092361 -0.115594  ...      0.817844  -0.030274  -0.349203   \n3  0.074627  0.016258  0.124372  ...     -1.222728  -0.030274   2.863662   \n4 -0.126607 -0.092361 -0.115594  ...     -1.222728  -0.030274  -0.349203   \n\n   State_ECO  State_FIN  State_INT  State_REQ  State_RST  State_URP  \\\n0  -0.155785  -0.226143  -0.608858   1.031289  -0.257690  -0.025384   \n1  -0.155785  -0.226143   1.642419  -0.969660  -0.257690  -0.025384   \n2  -0.155785  -0.226143  -0.608858   1.031289  -0.257690  -0.025384   \n3  -0.155785  -0.226143  -0.608858  -0.969660  -0.257690  -0.025384   \n4  -0.155785  -0.226143   1.642419  -0.969660  -0.257690  -0.025384   \n\n   Attack Type  \n0       Benign  \n1     UDPFlood  \n2     UDPFlood  \n3  SlowrateDoS  \n4     UDPFlood  \n\n[5 rows x 63 columns]",
      "text/html": "<div>\n<style scoped>\n    .dataframe tbody tr th:only-of-type {\n        vertical-align: middle;\n    }\n\n    .dataframe tbody tr th {\n        vertical-align: top;\n    }\n\n    .dataframe thead th {\n        text-align: right;\n    }\n</style>\n<table border=\"1\" class=\"dataframe\">\n  <thead>\n    <tr style=\"text-align: right;\">\n      <th></th>\n      <th>Dur</th>\n      <th>sTos</th>\n      <th>dTos</th>\n      <th>sTtl</th>\n      <th>dTtl</th>\n      <th>sHops</th>\n      <th>dHops</th>\n      <th>TotPkts</th>\n      <th>SrcPkts</th>\n      <th>DstPkts</th>\n      <th>...</th>\n      <th>Cause_Status</th>\n      <th>State_ACC</th>\n      <th>State_CON</th>\n      <th>State_ECO</th>\n      <th>State_FIN</th>\n      <th>State_INT</th>\n      <th>State_REQ</th>\n      <th>State_RST</th>\n      <th>State_URP</th>\n      <th>Attack Type</th>\n    </tr>\n  </thead>\n  <tbody>\n    <tr>\n      <th>0</th>\n      <td>-0.807007</td>\n      <td>-0.069049</td>\n      <td>-0.094771</td>\n      <td>-0.330093</td>\n      <td>-0.007236</td>\n      <td>-0.352786</td>\n      <td>-0.973032</td>\n      <td>-0.166854</td>\n      <td>-0.146671</td>\n      <td>-0.115594</td>\n      <td>...</td>\n      <td>0.817844</td>\n      <td>-0.030274</td>\n      <td>-0.349203</td>\n      <td>-0.155785</td>\n      <td>-0.226143</td>\n      <td>-0.608858</td>\n      <td>1.031289</td>\n      <td>-0.257690</td>\n      <td>-0.025384</td>\n      <td>Benign</td>\n    </tr>\n    <tr>\n      <th>1</th>\n      <td>-0.807007</td>\n      <td>-0.069049</td>\n      <td>0.000000</td>\n      <td>-0.330093</td>\n      <td>0.000000</td>\n      <td>-0.352786</td>\n      <td>0.000000</td>\n      <td>-0.166854</td>\n      <td>-0.146671</td>\n      <td>-0.115594</td>\n      <td>...</td>\n      <td>-1.222728</td>\n      <td>-0.030274</td>\n      <td>-0.349203</td>\n      <td>-0.155785</td>\n      <td>-0.226143</td>\n      <td>1.642419</td>\n      <td>-0.969660</td>\n      <td>-0.257690</td>\n      <td>-0.025384</td>\n      <td>UDPFlood</td>\n    </tr>\n    <tr>\n      <th>2</th>\n      <td>0.720610</td>\n      <td>-0.069049</td>\n      <td>0.000000</td>\n      <td>-0.330093</td>\n      <td>0.000000</td>\n      <td>-0.352786</td>\n      <td>0.000000</td>\n      <td>-0.126607</td>\n      <td>-0.092361</td>\n      <td>-0.115594</td>\n      <td>...</td>\n      <td>0.817844</td>\n      <td>-0.030274</td>\n      <td>-0.349203</td>\n      <td>-0.155785</td>\n      <td>-0.226143</td>\n      <td>-0.608858</td>\n      <td>1.031289</td>\n      <td>-0.257690</td>\n      <td>-0.025384</td>\n      <td>UDPFlood</td>\n    </tr>\n    <tr>\n      <th>3</th>\n      <td>-0.786692</td>\n      <td>-0.069049</td>\n      <td>-0.094771</td>\n      <td>-0.330093</td>\n      <td>-0.381365</td>\n      <td>-0.352786</td>\n      <td>1.252848</td>\n      <td>0.074627</td>\n      <td>0.016258</td>\n      <td>0.124372</td>\n      <td>...</td>\n      <td>-1.222728</td>\n      <td>-0.030274</td>\n      <td>2.863662</td>\n      <td>-0.155785</td>\n      <td>-0.226143</td>\n      <td>-0.608858</td>\n      <td>-0.969660</td>\n      <td>-0.257690</td>\n      <td>-0.025384</td>\n      <td>SlowrateDoS</td>\n    </tr>\n    <tr>\n      <th>4</th>\n      <td>1.881979</td>\n      <td>-0.069049</td>\n      <td>0.000000</td>\n      <td>-0.330093</td>\n      <td>0.000000</td>\n      <td>-0.352786</td>\n      <td>0.000000</td>\n      <td>-0.126607</td>\n      <td>-0.092361</td>\n      <td>-0.115594</td>\n      <td>...</td>\n      <td>-1.222728</td>\n      <td>-0.030274</td>\n      <td>-0.349203</td>\n      <td>-0.155785</td>\n      <td>-0.226143</td>\n      <td>1.642419</td>\n      <td>-0.969660</td>\n      <td>-0.257690</td>\n      <td>-0.025384</td>\n      <td>UDPFlood</td>\n    </tr>\n  </tbody>\n</table>\n<p>5 rows × 63 columns</p>\n</div>"
     },
     "metadata": {}
    }
   ]
  },
  {
   "cell_type": "code",
   "source": [
    "# obtain training indices that will be used for validation\n",
    "num_train = len(X_train)\n",
    "indices = list(range(num_train))\n",
    "np.random.shuffle(indices)\n",
    "split = int(np.floor(valid_size * num_train))\n",
    "train_idx, valid_idx = indices[split:], indices[:split]\n",
    "\n",
    "# define samplers for obtaining training and validation batches\n",
    "train_sampler = SubsetRandomSampler(train_idx)\n",
    "valid_sampler = SubsetRandomSampler(valid_idx)"
   ],
   "metadata": {
    "execution": {
     "iopub.status.busy": "2024-03-10T19:25:18.403579Z",
     "iopub.execute_input": "2024-03-10T19:25:18.403949Z",
     "iopub.status.idle": "2024-03-10T19:25:18.626922Z",
     "shell.execute_reply.started": "2024-03-10T19:25:18.403914Z",
     "shell.execute_reply": "2024-03-10T19:25:18.626029Z"
    },
    "trusted": true
   },
   "execution_count": 43,
   "outputs": []
  },
  {
   "cell_type": "code",
   "source": [
    "print('Training set size:', num_train - split)\n",
    "print('Validation set size:', split)\n",
    "print('Testing set size:', len(X_test))"
   ],
   "metadata": {
    "execution": {
     "iopub.status.busy": "2024-03-10T19:25:18.628187Z",
     "iopub.execute_input": "2024-03-10T19:25:18.628520Z",
     "iopub.status.idle": "2024-03-10T19:25:18.636321Z",
     "shell.execute_reply.started": "2024-03-10T19:25:18.628488Z",
     "shell.execute_reply": "2024-03-10T19:25:18.635396Z"
    },
    "trusted": true
   },
   "execution_count": 44,
   "outputs": [
    {
     "name": "stdout",
     "text": "Training set size: 1191481\nValidation set size: 12035\nTesting set size: 12159\n",
     "output_type": "stream"
    }
   ]
  },
  {
   "cell_type": "code",
   "source": [
    "# Example usage\n",
    "train_data = {'features': X_train,  # Your feature data (Pandas DataFrame or similar)\n",
    "        'labels': y_train}     # Your label data\n",
    "\n",
    "dataset = CustomTabularDataset(train_data)\n",
    "\n",
    "# prepare data loaders (combine dataset and sampler)\n",
    "train_loader = torch.utils.data.DataLoader(dataset, batch_size=batch_size,\n",
    "    sampler=train_sampler, num_workers=num_workers)\n",
    "valid_loader = torch.utils.data.DataLoader(dataset, batch_size=batch_size,\n",
    "    sampler=valid_sampler, num_workers=num_workers)\n",
    "# test_loader = torch.utils.data.DataLoader(X_test, batch_size=batch_size,\n",
    "#     num_workers=num_workers)"
   ],
   "metadata": {
    "execution": {
     "iopub.status.busy": "2024-03-10T19:25:18.637343Z",
     "iopub.execute_input": "2024-03-10T19:25:18.637658Z",
     "iopub.status.idle": "2024-03-10T19:25:18.786482Z",
     "shell.execute_reply.started": "2024-03-10T19:25:18.637634Z",
     "shell.execute_reply": "2024-03-10T19:25:18.785671Z"
    },
    "trusted": true
   },
   "execution_count": 45,
   "outputs": []
  },
  {
   "cell_type": "code",
   "source": [
    "# Creating a PyTorch class\n",
    "# 62 ==> 12 ==> 32\n",
    "class Autoencoder(torch.nn.Module):\n",
    "    def __init__(self):\n",
    "        super().__init__()\n",
    "\n",
    "        # Building an linear encoder with Linear\n",
    "        # layer followed by Relu activation function\n",
    "        # 62 ===> 8\n",
    "        self.encoder = torch.nn.Sequential(\n",
    "            torch.nn.Linear(62, 32),\n",
    "            torch.nn.Tanh(),\n",
    "            torch.nn.Linear(32, 16),\n",
    "            torch.nn.Tanh(),\n",
    "            torch.nn.Linear(16, 12),\n",
    "            torch.nn.Tanh(),  \n",
    "        )\n",
    "\n",
    "        # Building an linear decoder with Linear\n",
    "        # layer followed by Relu activation function\n",
    "        # The Sigmoid activation function\n",
    "        # outputs the value between 0 and 1\n",
    "        # 8 ==> 62\n",
    "#         self.decoder = torch.nn.Sequential(\n",
    "#             torch.nn.Linear(8, 16),\n",
    "#             torch.nn.ReLU(),\n",
    "#             torch.nn.Linear(16, 32),\n",
    "#             torch.nn.ReLU(),\n",
    "#             torch.nn.Linear(32, 62),\n",
    "#             torch.nn.Sigmoid()\n",
    "#         )\n",
    "        \n",
    "        # Dense neural network layers\n",
    "        self.dense_nn = torch.nn.Sequential(\n",
    "            torch.nn.Linear(12, 32),  # Input size is 8 from the encoder\n",
    "            torch.nn.BatchNorm1d(32),            \n",
    "            torch.nn.ReLU(), \n",
    "            torch.nn.Dropout(0.2),            \n",
    "            torch.nn.Linear(32, 64),  # Input size is 8 from the encoder\n",
    "            torch.nn.BatchNorm1d(64),                \n",
    "            torch.nn.ReLU(),\n",
    "            torch.nn.Dropout(0.2),              \n",
    "            torch.nn.Linear(64, 32),\n",
    "            torch.nn.BatchNorm1d(32),                \n",
    "            torch.nn.ReLU(),\n",
    "            torch.nn.Dropout(0.2),            \n",
    "            torch.nn.Linear(32, num_classes),  # Output size is the number of classes\n",
    "            torch.nn.Softmax(dim=1)\n",
    "        )        \n",
    "\n",
    "    def forward(self, x):\n",
    "        encoded = self.encoder(x)\n",
    "#         decoded = self.decoder(encoded)\n",
    "        output = self.dense_nn(encoded)\n",
    "        return output"
   ],
   "metadata": {
    "execution": {
     "iopub.status.busy": "2024-03-10T19:35:07.101654Z",
     "iopub.execute_input": "2024-03-10T19:35:07.102388Z",
     "iopub.status.idle": "2024-03-10T19:35:07.112414Z",
     "shell.execute_reply.started": "2024-03-10T19:35:07.102357Z",
     "shell.execute_reply": "2024-03-10T19:35:07.111461Z"
    },
    "trusted": true
   },
   "execution_count": 54,
   "outputs": []
  },
  {
   "cell_type": "code",
   "source": [
    "# Model Initialization\n",
    "model = Autoencoder()\n",
    "\n",
    "# Validation using MSE Loss function\n",
    "loss_function = torch.nn.CrossEntropyLoss()\n",
    "\n",
    "# Using an Adam Optimizer with lr = 0.1\n",
    "optimizer = torch.optim.Adam(model.parameters(),\n",
    "                            lr = 0.001,\n",
    "                            weight_decay = 1e-8)\n"
   ],
   "metadata": {
    "execution": {
     "iopub.status.busy": "2024-03-10T19:35:08.103955Z",
     "iopub.execute_input": "2024-03-10T19:35:08.104339Z",
     "iopub.status.idle": "2024-03-10T19:35:08.113780Z",
     "shell.execute_reply.started": "2024-03-10T19:35:08.104295Z",
     "shell.execute_reply": "2024-03-10T19:35:08.112895Z"
    },
    "trusted": true
   },
   "execution_count": 55,
   "outputs": []
  },
  {
   "cell_type": "code",
   "source": [
    "# number of epochs to train the model\n",
    "n_epochs = 8\n",
    "\n",
    "# initialize tracker for minimum validation loss\n",
    "valid_loss_min = np.Inf # set initial \"min\" to infinity\n",
    "train_loss_min = np.Inf # set initial \"min\" to infinity\n",
    "\n",
    "# Lists to store training and validation accuracy during training\n",
    "training_loss = np.array([])\n",
    "validation_loss = np.array([])\n",
    "\n",
    "training_accuracy = np.array([])\n",
    "validation_accuracy = np.array([])\n",
    "\n",
    "# Moving model tensor to GPU if available\n",
    "model = model.to(device)\n",
    "\n",
    "for epoch in range(1, n_epochs+1):\n",
    "\n",
    "    # keep track of training and validation loss and accuracy\n",
    "    train_loss = 0.0\n",
    "    valid_loss = 0.0\n",
    "    total_train_correct = 0\n",
    "    total_train_samples = 0\n",
    "    total_valid_correct = 0\n",
    "    total_valid_samples = 0\n",
    "\n",
    "    ###################\n",
    "    # train the model #\n",
    "    ###################\n",
    "\n",
    "    # model by default is set to train\n",
    "    model.train()\n",
    "\n",
    "    for data, target in tqdm(train_loader):        \n",
    "\n",
    "        # Moving input tensors to GPU if available\n",
    "        data, target = data.to(device), target.to(device)\n",
    "\n",
    "        # Forward prop:\n",
    "\n",
    "        # forward pass: compute predicted outputs by passing inputs to the model\n",
    "        output = model(data.float())    \n",
    "        \n",
    "        # Moving output tensor to GPU if available\n",
    "        output = output.to(device)\n",
    "\n",
    "        # calculate the batch loss\n",
    "        loss = loss_function(output, target.reshape(-1).long())\n",
    "        \n",
    "        # Backward prop:\n",
    "\n",
    "        # clear the gradients of all optimized variables\n",
    "        optimizer.zero_grad()\n",
    "\n",
    "        # backward pass: compute gradient of the loss with respect to model parameters\n",
    "        loss.backward()\n",
    "\n",
    "        # perform a single optimization step (parameter update)\n",
    "        optimizer.step()\n",
    "\n",
    "        # Metrics:\n",
    "\n",
    "        # update training loss\n",
    "        train_loss += loss.item()\n",
    "\n",
    "        # Calculate training accuracy\n",
    "        _, predicted = torch.max(output, 1)\n",
    "        total_train_correct += (predicted == target.view(*predicted.shape)).sum().item()\n",
    "        total_train_samples += target.size(0)\n",
    "#         print(total_train_correct)\n",
    "#         print(total_train_samples)\n",
    "#         print((predicted == target).sum().item())\n",
    "#         print('---------------')\n",
    "\n",
    "\n",
    "    ######################\n",
    "    # validate the model #\n",
    "    ######################\n",
    "\n",
    "    model.eval() # prep model for evaluation\n",
    "\n",
    "    for data, target in tqdm(valid_loader):\n",
    "        \n",
    "        # Moving input tensors to GPU if available\n",
    "        data, target = data.to(device), target.to(device)\n",
    "        \n",
    "        # forward pass: compute predicted outputs by passing inputs to the model\n",
    "        output = model(data.float())\n",
    "        output = output.to(device)\n",
    "        \n",
    "        # calculate the loss\n",
    "        loss = loss_function(output, target.reshape(-1).long())        \n",
    "        \n",
    "        # update running validation loss\n",
    "        valid_loss += loss.item()\n",
    "        \n",
    "        # Calculate validation accuracy\n",
    "        _, predicted = torch.max(output, 1)\n",
    "        total_valid_correct += (predicted == target.view(*predicted.shape)).sum().item()\n",
    "        total_valid_samples += target.size(0)\n",
    "\n",
    "\n",
    "    # print training/validation statistics\n",
    "    \n",
    "    train_acc = 100 * total_train_correct / total_train_samples\n",
    "    valid_acc = 100 * total_valid_correct / total_valid_samples\n",
    "    \n",
    "    training_accuracy = np.append(training_accuracy, train_acc)\n",
    "    validation_accuracy = np.append(validation_accuracy, valid_acc)\n",
    "    \n",
    "    # calculate average loss over an epoch\n",
    "    train_loss = train_loss/len(train_loader)\n",
    "    valid_loss = valid_loss/len(valid_loader)\n",
    "    \n",
    "    training_loss = np.append(training_loss, train_loss)\n",
    "    validation_loss = np.append(validation_loss, valid_loss)\n",
    "\n",
    "    print('Epoch: {} \\tTraining Loss: {:.6f} \\tValidation Loss: {:.6f}'.format(\n",
    "        epoch,\n",
    "        train_loss,\n",
    "        valid_loss\n",
    "    ))\n",
    "    \n",
    "    print('Epoch: {} \\tTraining Accuracy: {:.6f} \\tValidation Accuracy: {:.6f}'.format(\n",
    "        epoch,\n",
    "        train_acc,\n",
    "        valid_acc\n",
    "    ))\n",
    "\n",
    "    # save model if validation loss has decreased\n",
    "    if valid_loss <= valid_loss_min and train_loss <= train_loss_min:\n",
    "        print('Training loss decreased ({:.6f} --> {:.6f}).'.format(\n",
    "            train_loss_min,\n",
    "            train_loss))\n",
    "        print('Validation loss decreased ({:.6f} --> {:.6f}).  Saving model ...'.format(\n",
    "            valid_loss_min,\n",
    "            valid_loss))\n",
    "        torch.save(model.state_dict(), 'model_pytorch_autoencoders.pt')\n",
    "        valid_loss_min = valid_loss\n",
    "        train_loss_min = train_loss"
   ],
   "metadata": {
    "execution": {
     "iopub.status.busy": "2024-03-10T19:35:13.973140Z",
     "iopub.execute_input": "2024-03-10T19:35:13.973817Z",
     "iopub.status.idle": "2024-03-10T19:49:17.636359Z",
     "shell.execute_reply.started": "2024-03-10T19:35:13.973785Z",
     "shell.execute_reply": "2024-03-10T19:49:17.635090Z"
    },
    "trusted": true
   },
   "execution_count": 56,
   "outputs": [
    {
     "name": "stderr",
     "text": "100%|██████████| 18617/18617 [01:43<00:00, 179.23it/s]\n100%|██████████| 189/189 [00:00<00:00, 197.22it/s]\n",
     "output_type": "stream"
    },
    {
     "name": "stdout",
     "text": "Epoch: 1 \tTraining Loss: 1.385485 \tValidation Loss: 1.376494\nEpoch: 1 \tTraining Accuracy: 98.897003 \tValidation Accuracy: 99.543000\nTraining loss decreased (inf --> 1.385485).\nValidation loss decreased (inf --> 1.376494).  Saving model ...\n",
     "output_type": "stream"
    },
    {
     "name": "stderr",
     "text": "100%|██████████| 18617/18617 [01:45<00:00, 176.77it/s]\n100%|██████████| 189/189 [00:00<00:00, 199.05it/s]\n",
     "output_type": "stream"
    },
    {
     "name": "stdout",
     "text": "Epoch: 2 \tTraining Loss: 1.377803 \tValidation Loss: 1.376628\nEpoch: 2 \tTraining Accuracy: 99.420553 \tValidation Accuracy: 99.526381\n",
     "output_type": "stream"
    },
    {
     "name": "stderr",
     "text": "100%|██████████| 18617/18617 [01:43<00:00, 179.42it/s]\n100%|██████████| 189/189 [00:00<00:00, 206.36it/s]\n",
     "output_type": "stream"
    },
    {
     "name": "stdout",
     "text": "Epoch: 3 \tTraining Loss: 1.376976 \tValidation Loss: 1.375641\nEpoch: 3 \tTraining Accuracy: 99.502300 \tValidation Accuracy: 99.626091\nTraining loss decreased (1.385485 --> 1.376976).\nValidation loss decreased (1.376494 --> 1.375641).  Saving model ...\n",
     "output_type": "stream"
    },
    {
     "name": "stderr",
     "text": "100%|██████████| 18617/18617 [01:44<00:00, 177.46it/s]\n100%|██████████| 189/189 [00:00<00:00, 198.78it/s]\n",
     "output_type": "stream"
    },
    {
     "name": "stdout",
     "text": "Epoch: 4 \tTraining Loss: 1.376719 \tValidation Loss: 1.375260\nEpoch: 4 \tTraining Accuracy: 99.526388 \tValidation Accuracy: 99.667636\nTraining loss decreased (1.376976 --> 1.376719).\nValidation loss decreased (1.375641 --> 1.375260).  Saving model ...\n",
     "output_type": "stream"
    },
    {
     "name": "stderr",
     "text": "100%|██████████| 18617/18617 [01:44<00:00, 178.67it/s]\n100%|██████████| 189/189 [00:00<00:00, 208.31it/s]\n",
     "output_type": "stream"
    },
    {
     "name": "stdout",
     "text": "Epoch: 5 \tTraining Loss: 1.376591 \tValidation Loss: 1.376156\nEpoch: 5 \tTraining Accuracy: 99.537634 \tValidation Accuracy: 99.576236\n",
     "output_type": "stream"
    },
    {
     "name": "stderr",
     "text": "100%|██████████| 18617/18617 [01:44<00:00, 178.51it/s]\n100%|██████████| 189/189 [00:00<00:00, 194.76it/s]\n",
     "output_type": "stream"
    },
    {
     "name": "stdout",
     "text": "Epoch: 6 \tTraining Loss: 1.376226 \tValidation Loss: 1.375209\nEpoch: 6 \tTraining Accuracy: 99.573724 \tValidation Accuracy: 99.675945\nTraining loss decreased (1.376719 --> 1.376226).\nValidation loss decreased (1.375260 --> 1.375209).  Saving model ...\n",
     "output_type": "stream"
    },
    {
     "name": "stderr",
     "text": "100%|██████████| 18617/18617 [01:45<00:00, 176.32it/s]\n100%|██████████| 189/189 [00:00<00:00, 192.62it/s]\n",
     "output_type": "stream"
    },
    {
     "name": "stdout",
     "text": "Epoch: 7 \tTraining Loss: 1.376388 \tValidation Loss: 1.375589\nEpoch: 7 \tTraining Accuracy: 99.556938 \tValidation Accuracy: 99.634400\n",
     "output_type": "stream"
    },
    {
     "name": "stderr",
     "text": "100%|██████████| 18617/18617 [01:44<00:00, 178.94it/s]\n100%|██████████| 189/189 [00:00<00:00, 197.79it/s]",
     "output_type": "stream"
    },
    {
     "name": "stdout",
     "text": "Epoch: 8 \tTraining Loss: 1.376507 \tValidation Loss: 1.376002\nEpoch: 8 \tTraining Accuracy: 99.545859 \tValidation Accuracy: 99.592854\n",
     "output_type": "stream"
    },
    {
     "name": "stderr",
     "text": "\n",
     "output_type": "stream"
    }
   ]
  },
  {
   "cell_type": "code",
   "source": [
    "fig, ax = plt.subplots(2, 1, figsize=(8, 8))\n",
    "epochs = np.arange(1, n_epochs+1)\n",
    "\n",
    "# First row for accuracy\n",
    "ax[0].plot(epochs, training_accuracy, label='Training Accuracy', marker='o')\n",
    "ax[0].plot(epochs, validation_accuracy, label='Validation Accuracy', marker='x')\n",
    "ax[0].set_xlabel('Epoch')\n",
    "ax[0].set_ylabel('Accuracy', color='black')\n",
    "ax[0].tick_params(axis='y', labelcolor='black')\n",
    "ax[0].legend(loc='lower right')\n",
    "ax[0].grid(True)\n",
    "\n",
    "# Second row for loss\n",
    "ax[1].plot(epochs, training_loss, label='Training Loss', marker='o')\n",
    "ax[1].plot(epochs, validation_loss, label='Validation Loss', marker='x')\n",
    "ax[1].set_xlabel('Epoch')\n",
    "ax[1].set_ylabel('Loss', color='black')\n",
    "ax[1].tick_params(axis='y', labelcolor='black')\n",
    "ax[1].legend(loc='upper right')\n",
    "ax[1].grid(True)\n",
    "\n",
    "plt.tight_layout()\n",
    "plt.show()"
   ],
   "metadata": {
    "execution": {
     "iopub.status.busy": "2024-03-10T19:50:23.175884Z",
     "iopub.execute_input": "2024-03-10T19:50:23.177059Z",
     "iopub.status.idle": "2024-03-10T19:50:23.805408Z",
     "shell.execute_reply.started": "2024-03-10T19:50:23.177017Z",
     "shell.execute_reply": "2024-03-10T19:50:23.804643Z"
    },
    "trusted": true
   },
   "execution_count": 57,
   "outputs": [
    {
     "output_type": "display_data",
     "data": {
      "text/plain": "<Figure size 800x800 with 2 Axes>",
      "image/png": "[encoded data removed]"
     },
     "metadata": {}
    }
   ]
  },
  {
   "cell_type": "code",
   "source": [],
   "metadata": {},
   "execution_count": null,
   "outputs": []
  }
 ]
}
