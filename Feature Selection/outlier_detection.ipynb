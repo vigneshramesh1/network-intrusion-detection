{
 "cells": [
  {
   "cell_type": "code",
   "execution_count": 3,
   "id": "173659be-77a4-454b-aee0-f4296d53c546",
   "metadata": {},
   "outputs": [],
   "source": [
    "import pandas as pd\n",
    "from sklearn.model_selection import StratifiedKFold\n",
    "import numpy as np\n",
    "from sklearn.neighbors import KNeighborsClassifier\n",
    "from sklearn.svm import SVC\n",
    "from sklearn.metrics import accuracy_score, precision_score, recall_score, f1_score\n"
   ]
  },
  {
   "cell_type": "code",
   "execution_count": 4,
   "id": "784eac9a-18bb-4736-925e-c9cd2e13644e",
   "metadata": {},
   "outputs": [],
   "source": [
    "from sklearn.neighbors import LocalOutlierFactor\n",
    "from sklearn.ensemble import IsolationForest\n"
   ]
  },
  {
   "cell_type": "code",
   "execution_count": 5,
   "id": "697736af-1bec-46a7-b14c-fcf86db9b74e",
   "metadata": {},
   "outputs": [],
   "source": [
    "\n",
    "import matplotlib.pyplot as plt\n",
    "from sklearn.tree import DecisionTreeRegressor\n",
    "from sklearn.preprocessing import StandardScaler\n",
    "from sklearn.feature_selection import mutual_info_regression\n",
    "from sklearn.model_selection import GridSearchCV\n",
    "from sklearn.model_selection import train_test_split\n",
    "from sklearn.preprocessing import LabelEncoder\n",
    "from sklearn.feature_selection import mutual_info_classif"
   ]
  },
  {
   "cell_type": "code",
   "execution_count": 6,
   "id": "80697b2c-ff9e-4d2d-807f-1e9c564a176d",
   "metadata": {},
   "outputs": [],
   "source": [
    "data = pd.read_csv('dc_combined.csv')\n"
   ]
  },
  {
   "cell_type": "code",
   "execution_count": 7,
   "id": "7f6b2c3b-4d76-49fb-838b-2a339eb212ce",
   "metadata": {},
   "outputs": [],
   "source": [
    "\n",
    "def remove_attack_and_seq_labels(data):\n",
    "    X =  data.loc[:,~data.columns.str.startswith('Atk')]\n",
    "    X =  X.loc[:,~X.columns.str.startswith('Attack')]\n",
    "    X =  X.loc[:,~X.columns.str.startswith('Label_')]\n",
    "    X = X.drop(['Label', 'Seq'], axis=1)\n",
    "    return X"
   ]
  },
  {
   "cell_type": "code",
   "execution_count": 8,
   "id": "008df831-4c9c-42f4-97b7-d7363c2fe595",
   "metadata": {},
   "outputs": [],
   "source": [
    "X = remove_attack_and_seq_labels(data)\n"
   ]
  },
  {
   "cell_type": "code",
   "execution_count": 9,
   "id": "ff5acf33-f701-4e16-b661-790344333281",
   "metadata": {},
   "outputs": [],
   "source": [
    "def label_encoder(data, column_name):\n",
    "  Y = data[column_name]\n",
    "  label_encoder = LabelEncoder()\n",
    "  y_encoded = label_encoder.fit_transform(Y)\n",
    "  return y_encoded"
   ]
  },
  {
   "cell_type": "code",
   "execution_count": 10,
   "id": "53630a86-18e5-4e2e-bb67-83ca75573d4d",
   "metadata": {},
   "outputs": [],
   "source": [
    "Y = label_encoder(data, 'Label')"
   ]
  },
  {
   "cell_type": "code",
   "execution_count": 11,
   "id": "a2296af7-abf7-4d80-9f12-b879a9c06d4d",
   "metadata": {},
   "outputs": [],
   "source": [
    "def mutual_info(X, Y):\n",
    "  mutual_info_arr = mutual_info_classif(X, Y)\n",
    "  series_info = pd.Series(mutual_info_arr)\n",
    "  series_info.index = X.columns\n",
    "  series_top = series_info.sort_values(ascending=False)[:20]\n",
    "  return series_top"
   ]
  },
  {
   "cell_type": "code",
   "execution_count": 12,
   "id": "852bca3e-1816-4515-b07c-20091a81ed34",
   "metadata": {},
   "outputs": [],
   "source": [
    "result = mutual_info(X, Y)\n",
    "     "
   ]
  },
  {
   "cell_type": "code",
   "execution_count": 13,
   "id": "2effc2f0-ec42-45c0-89d5-13486784fc70",
   "metadata": {},
   "outputs": [],
   "source": [
    "new_data = data[result.keys()]\n"
   ]
  },
  {
   "cell_type": "code",
   "execution_count": 14,
   "id": "0a74fc1f-4590-4dbe-ac64-0424258a39f4",
   "metadata": {},
   "outputs": [],
   "source": [
    "def min_max_normalisation(X):\n",
    "  from sklearn.preprocessing import MinMaxScaler\n",
    "  scaler = MinMaxScaler(feature_range=(-1, 1))\n",
    "  scaled_data = scaler.fit_transform(X)\n",
    "  return scaled_data"
   ]
  },
  {
   "cell_type": "code",
   "execution_count": 15,
   "id": "b17517b5-7fe7-4b5c-8056-879c85e0f760",
   "metadata": {},
   "outputs": [],
   "source": [
    "normalised_data = min_max_normalisation(new_data)\n"
   ]
  },
  {
   "cell_type": "code",
   "execution_count": 16,
   "id": "0e4998f7-ac3d-4b08-ae47-c036e4384565",
   "metadata": {},
   "outputs": [],
   "source": [
    "X= normalised_data\n",
    "y= Y"
   ]
  },
  {
   "cell_type": "code",
   "execution_count": null,
   "id": "cba06ba8-ae12-40ce-9451-a49d4858b84e",
   "metadata": {},
   "outputs": [],
   "source": [
    "# Fit the LOF model\n",
    "lof = LocalOutlierFactor(n_neighbors=20, contamination=0.1)\n",
    "y_pred = lof.fit_predict(X)"
   ]
  },
  {
   "cell_type": "code",
   "execution_count": null,
   "id": "4039d2a3-e0ff-4c4f-b407-7d469b475807",
   "metadata": {},
   "outputs": [],
   "source": [
    "# Identify outliers (anomalies)\n",
    "outliers = np.where(y_pred == -1)[0]"
   ]
  },
  {
   "cell_type": "code",
   "execution_count": null,
   "id": "654b64d8-f411-40c8-91eb-15713889809d",
   "metadata": {},
   "outputs": [],
   "source": [
    "import matplotlib.pyplot as plt\n",
    "\n",
    "# Scatter plot of the dataset\n",
    "plt.figure(figsize=(20, 6))\n",
    "plt.scatter(X[:, 0], X[:, 1], c='blue', label='Inliers', alpha=0.8)\n",
    "\n",
    "# Highlight outliers detected by Local Outlier Factor\n",
    "plt.scatter(X[outliers, 0], X[outliers, 1], c='red', label='Outliers')\n",
    "plt.title('Outliers Detected by Local Outlier Factor')\n",
    "plt.xlabel('Feature 1')\n",
    "plt.ylabel('Feature 2')\n",
    "plt.legend()\n",
    "plt.show()\n"
   ]
  },
  {
   "cell_type": "code",
   "execution_count": null,
   "id": "d6d36e3b-dd9f-44bf-a3f8-0860509bf256",
   "metadata": {},
   "outputs": [],
   "source": [
    "# Fit the Isolation Forest model\n",
    "isolation_forest = IsolationForest(contamination=0.1, random_state=42)\n",
    "isolation_forest.fit(X)\n",
    "\n",
    "# Predict anomaly scores\n",
    "anomaly_scores = isolation_forest.decision_function(X)\n",
    "\n",
    "# Identify outliers (anomalies)\n",
    "outliers = np.where(isolation_forest.predict(X) == -1)[0]\n",
    "print(\"Indices of outliers:\", outliers)"
   ]
  },
  {
   "cell_type": "code",
   "execution_count": null,
   "id": "af2b6399-4daf-437e-8a71-deecab365b5f",
   "metadata": {},
   "outputs": [],
   "source": [
    "\n",
    "\n",
    "\n",
    "# Highlight outliers detected by Isolation Forest\n",
    "plt.scatter(X[outliers, 0], X[outliers, 1], c='red', label='Outliers')\n",
    "plt.title('Outliers Detected by Isolation Forest')\n",
    "plt.xlabel('Feature 1')\n",
    "plt.ylabel('Feature 2')\n",
    "plt.legend()\n",
    "plt.show()"
   ]
  }
 ],
 "metadata": {
  "kernelspec": {
   "display_name": "Python 3 (ipykernel)",
   "language": "python",
   "name": "python3"
  },
  "language_info": {
   "codemirror_mode": {
    "name": "ipython",
    "version": 3
   },
   "file_extension": ".py",
   "mimetype": "text/x-python",
   "name": "python",
   "nbconvert_exporter": "python",
   "pygments_lexer": "ipython3",
   "version": "3.11.7"
  }
 },
 "nbformat": 4,
 "nbformat_minor": 5
}
