{
 "cells": [
  {
   "cell_type": "code",
   "execution_count": 38,
   "id": "0018d8eb-bad9-4bde-a13d-5351baee9afd",
   "metadata": {},
   "outputs": [],
   "source": [
    "# Importing libraries\n",
    "\n",
    "import numpy as np\n",
    "import pandas as pd\n",
    "import seaborn as sns\n",
    "import matplotlib.pyplot as plt\n",
    "from sklearn.model_selection import train_test_split\n",
    "from sklearn.preprocessing import StandardScaler\n",
    "from sklearn.preprocessing import MinMaxScaler\n",
    "from sklearn.preprocessing import LabelEncoder\n",
    "from sklearn.svm import SVC\n",
    "from sklearn import metrics\n",
    "from sklearn.metrics import classification_report, confusion_matrix\n",
    "from sklearn.svm import LinearSVC\n",
    "from sklearn.feature_selection import mutual_info_classif"
   ]
  },
  {
   "cell_type": "code",
   "execution_count": 22,
   "id": "4fdd1ca4-6304-4c63-a2ae-e6ab2c3065ff",
   "metadata": {},
   "outputs": [],
   "source": [
    "# Loadig dataset\n",
    "\n",
    "PATH = 'C:\\\\Users\\\\josep\\\\OneDrive\\\\Desktop\\\\Capstone\\\\Jupyter\\\\Dataset\\\\'\n",
    "Dataset = pd.read_csv(PATH + 'dc_combined.csv')"
   ]
  },
  {
   "cell_type": "code",
   "execution_count": 23,
   "id": "0e2b2b38-1223-40e1-86b2-d459fcc21fa5",
   "metadata": {},
   "outputs": [
    {
     "name": "stdout",
     "output_type": "stream",
     "text": [
      "<class 'pandas.core.frame.DataFrame'>\n",
      "RangeIndex: 1215675 entries, 0 to 1215674\n",
      "Data columns (total 98 columns):\n",
      " #   Column                  Non-Null Count    Dtype  \n",
      "---  ------                  --------------    -----  \n",
      " 0   Seq                     1215675 non-null  int64  \n",
      " 1   Dur                     1215675 non-null  float64\n",
      " 2   RunTime                 1215675 non-null  float64\n",
      " 3   Mean                    1215675 non-null  float64\n",
      " 4   Sum                     1215675 non-null  float64\n",
      " 5   Min                     1215675 non-null  float64\n",
      " 6   Max                     1215675 non-null  float64\n",
      " 7   sTos                    1215675 non-null  float64\n",
      " 8   dTos                    1215675 non-null  float64\n",
      " 9   sTtl                    1215675 non-null  float64\n",
      " 10  dTtl                    1215675 non-null  float64\n",
      " 11  sHops                   1215675 non-null  float64\n",
      " 12  dHops                   1215675 non-null  float64\n",
      " 13  TotPkts                 1215675 non-null  int64  \n",
      " 14  SrcPkts                 1215675 non-null  int64  \n",
      " 15  DstPkts                 1215675 non-null  int64  \n",
      " 16  TotBytes                1215675 non-null  int64  \n",
      " 17  SrcBytes                1215675 non-null  int64  \n",
      " 18  DstBytes                1215675 non-null  int64  \n",
      " 19  Offset                  1215675 non-null  int64  \n",
      " 20  sMeanPktSz              1215675 non-null  float64\n",
      " 21  dMeanPktSz              1215675 non-null  float64\n",
      " 22  Load                    1215675 non-null  float64\n",
      " 23  SrcLoad                 1215675 non-null  float64\n",
      " 24  DstLoad                 1215675 non-null  float64\n",
      " 25  Loss                    1215675 non-null  int64  \n",
      " 26  SrcLoss                 1215675 non-null  int64  \n",
      " 27  DstLoss                 1215675 non-null  int64  \n",
      " 28  pLoss                   1215675 non-null  float64\n",
      " 29  SrcGap                  1215675 non-null  float64\n",
      " 30  DstGap                  1215675 non-null  float64\n",
      " 31  Rate                    1215675 non-null  float64\n",
      " 32  SrcRate                 1215675 non-null  float64\n",
      " 33  DstRate                 1215675 non-null  float64\n",
      " 34  SrcWin                  1215675 non-null  float64\n",
      " 35  DstWin                  1215675 non-null  float64\n",
      " 36  SrcTCPBase              1215675 non-null  float64\n",
      " 37  DstTCPBase              1215675 non-null  float64\n",
      " 38  TcpRtt                  1215675 non-null  float64\n",
      " 39  SynAck                  1215675 non-null  float64\n",
      " 40  AckDat                  1215675 non-null  float64\n",
      " 41  Label                   1215675 non-null  object \n",
      " 42  Attack Type             1215675 non-null  object \n",
      " 43  Attack Tool             1215675 non-null  object \n",
      " 44  Proto_icmp              1215675 non-null  int64  \n",
      " 45  Proto_ipv6-icmp         1215675 non-null  int64  \n",
      " 46  Proto_sctp              1215675 non-null  int64  \n",
      " 47  Proto_tcp               1215675 non-null  int64  \n",
      " 48  Proto_udp               1215675 non-null  int64  \n",
      " 49  sDSb_39                 1215675 non-null  int64  \n",
      " 50  sDSb_4                  1215675 non-null  int64  \n",
      " 51  sDSb_52                 1215675 non-null  int64  \n",
      " 52  sDSb_54                 1215675 non-null  int64  \n",
      " 53  sDSb_af11               1215675 non-null  int64  \n",
      " 54  sDSb_af12               1215675 non-null  int64  \n",
      " 55  sDSb_af41               1215675 non-null  int64  \n",
      " 56  sDSb_cs0                1215675 non-null  int64  \n",
      " 57  sDSb_cs4                1215675 non-null  int64  \n",
      " 58  sDSb_cs6                1215675 non-null  int64  \n",
      " 59  sDSb_cs7                1215675 non-null  int64  \n",
      " 60  sDSb_ef                 1215675 non-null  int64  \n",
      " 61  dDSb_af11               1215675 non-null  int64  \n",
      " 62  dDSb_af12               1215675 non-null  int64  \n",
      " 63  dDSb_cs0                1215675 non-null  int64  \n",
      " 64  dDSb_cs1                1215675 non-null  int64  \n",
      " 65  dDSb_cs4                1215675 non-null  int64  \n",
      " 66  dDSb_ef                 1215675 non-null  int64  \n",
      " 67  Cause_Shutdown          1215675 non-null  int64  \n",
      " 68  Cause_Start             1215675 non-null  int64  \n",
      " 69  Cause_Status            1215675 non-null  int64  \n",
      " 70  State_ACC               1215675 non-null  int64  \n",
      " 71  State_CON               1215675 non-null  int64  \n",
      " 72  State_ECO               1215675 non-null  int64  \n",
      " 73  State_FIN               1215675 non-null  int64  \n",
      " 74  State_INT               1215675 non-null  int64  \n",
      " 75  State_NRS               1215675 non-null  int64  \n",
      " 76  State_REQ               1215675 non-null  int64  \n",
      " 77  State_RSP               1215675 non-null  int64  \n",
      " 78  State_RST               1215675 non-null  int64  \n",
      " 79  State_TST               1215675 non-null  int64  \n",
      " 80  State_URP               1215675 non-null  int64  \n",
      " 81  AtkTool_Benign          1215675 non-null  int64  \n",
      " 82  AtkTool_Goldeneye       1215675 non-null  int64  \n",
      " 83  AtkTool_Hping3          1215675 non-null  int64  \n",
      " 84  AtkTool_Nmap            1215675 non-null  int64  \n",
      " 85  AtkTool_Slowloris       1215675 non-null  int64  \n",
      " 86  AtkTool_Torshammer      1215675 non-null  int64  \n",
      " 87  AtkType_Benign          1215675 non-null  int64  \n",
      " 88  AtkType_HTTPFlood       1215675 non-null  int64  \n",
      " 89  AtkType_ICMPFlood       1215675 non-null  int64  \n",
      " 90  AtkType_SYNFlood        1215675 non-null  int64  \n",
      " 91  AtkType_SYNScan         1215675 non-null  int64  \n",
      " 92  AtkType_SlowrateDoS     1215675 non-null  int64  \n",
      " 93  AtkType_TCPConnectScan  1215675 non-null  int64  \n",
      " 94  AtkType_UDPFlood        1215675 non-null  int64  \n",
      " 95  AtkType_UDPScan         1215675 non-null  int64  \n",
      " 96  Label_Benign            1215675 non-null  int64  \n",
      " 97  Label_Malicious         1215675 non-null  int64  \n",
      "dtypes: float64(30), int64(65), object(3)\n",
      "memory usage: 908.9+ MB\n"
     ]
    }
   ],
   "source": [
    "Dataset.info()"
   ]
  },
  {
   "cell_type": "code",
   "execution_count": 24,
   "id": "d4ff28bd-5554-4533-9dc8-44808c1d0068",
   "metadata": {},
   "outputs": [],
   "source": [
    "# Finding and removing columns with type \"object\"\n",
    "\n",
    "def find_and_remove_columns_with_type_object(data):\n",
    "    objectData = data.select_dtypes(include=[object])\n",
    "    objectColumns=list(objectData.columns)\n",
    "    print(objectColumns)\n",
    "    new_data = data.drop(columns=objectColumns, inplace=False)\n",
    "    return new_data"
   ]
  },
  {
   "cell_type": "code",
   "execution_count": 25,
   "id": "5330cf4b-71ea-43b5-9a7b-51d3308a044b",
   "metadata": {},
   "outputs": [
    {
     "name": "stdout",
     "output_type": "stream",
     "text": [
      "['Label', 'Attack Type', 'Attack Tool']\n"
     ]
    }
   ],
   "source": [
    "X = find_and_remove_columns_with_type_object(Dataset)"
   ]
  },
  {
   "cell_type": "code",
   "execution_count": 26,
   "id": "7c986f19-70b8-4eac-a49b-ee3d01e46079",
   "metadata": {},
   "outputs": [
    {
     "name": "stdout",
     "output_type": "stream",
     "text": [
      "<class 'pandas.core.frame.DataFrame'>\n",
      "RangeIndex: 1215675 entries, 0 to 1215674\n",
      "Data columns (total 95 columns):\n",
      " #   Column                  Non-Null Count    Dtype  \n",
      "---  ------                  --------------    -----  \n",
      " 0   Seq                     1215675 non-null  int64  \n",
      " 1   Dur                     1215675 non-null  float64\n",
      " 2   RunTime                 1215675 non-null  float64\n",
      " 3   Mean                    1215675 non-null  float64\n",
      " 4   Sum                     1215675 non-null  float64\n",
      " 5   Min                     1215675 non-null  float64\n",
      " 6   Max                     1215675 non-null  float64\n",
      " 7   sTos                    1215675 non-null  float64\n",
      " 8   dTos                    1215675 non-null  float64\n",
      " 9   sTtl                    1215675 non-null  float64\n",
      " 10  dTtl                    1215675 non-null  float64\n",
      " 11  sHops                   1215675 non-null  float64\n",
      " 12  dHops                   1215675 non-null  float64\n",
      " 13  TotPkts                 1215675 non-null  int64  \n",
      " 14  SrcPkts                 1215675 non-null  int64  \n",
      " 15  DstPkts                 1215675 non-null  int64  \n",
      " 16  TotBytes                1215675 non-null  int64  \n",
      " 17  SrcBytes                1215675 non-null  int64  \n",
      " 18  DstBytes                1215675 non-null  int64  \n",
      " 19  Offset                  1215675 non-null  int64  \n",
      " 20  sMeanPktSz              1215675 non-null  float64\n",
      " 21  dMeanPktSz              1215675 non-null  float64\n",
      " 22  Load                    1215675 non-null  float64\n",
      " 23  SrcLoad                 1215675 non-null  float64\n",
      " 24  DstLoad                 1215675 non-null  float64\n",
      " 25  Loss                    1215675 non-null  int64  \n",
      " 26  SrcLoss                 1215675 non-null  int64  \n",
      " 27  DstLoss                 1215675 non-null  int64  \n",
      " 28  pLoss                   1215675 non-null  float64\n",
      " 29  SrcGap                  1215675 non-null  float64\n",
      " 30  DstGap                  1215675 non-null  float64\n",
      " 31  Rate                    1215675 non-null  float64\n",
      " 32  SrcRate                 1215675 non-null  float64\n",
      " 33  DstRate                 1215675 non-null  float64\n",
      " 34  SrcWin                  1215675 non-null  float64\n",
      " 35  DstWin                  1215675 non-null  float64\n",
      " 36  SrcTCPBase              1215675 non-null  float64\n",
      " 37  DstTCPBase              1215675 non-null  float64\n",
      " 38  TcpRtt                  1215675 non-null  float64\n",
      " 39  SynAck                  1215675 non-null  float64\n",
      " 40  AckDat                  1215675 non-null  float64\n",
      " 41  Proto_icmp              1215675 non-null  int64  \n",
      " 42  Proto_ipv6-icmp         1215675 non-null  int64  \n",
      " 43  Proto_sctp              1215675 non-null  int64  \n",
      " 44  Proto_tcp               1215675 non-null  int64  \n",
      " 45  Proto_udp               1215675 non-null  int64  \n",
      " 46  sDSb_39                 1215675 non-null  int64  \n",
      " 47  sDSb_4                  1215675 non-null  int64  \n",
      " 48  sDSb_52                 1215675 non-null  int64  \n",
      " 49  sDSb_54                 1215675 non-null  int64  \n",
      " 50  sDSb_af11               1215675 non-null  int64  \n",
      " 51  sDSb_af12               1215675 non-null  int64  \n",
      " 52  sDSb_af41               1215675 non-null  int64  \n",
      " 53  sDSb_cs0                1215675 non-null  int64  \n",
      " 54  sDSb_cs4                1215675 non-null  int64  \n",
      " 55  sDSb_cs6                1215675 non-null  int64  \n",
      " 56  sDSb_cs7                1215675 non-null  int64  \n",
      " 57  sDSb_ef                 1215675 non-null  int64  \n",
      " 58  dDSb_af11               1215675 non-null  int64  \n",
      " 59  dDSb_af12               1215675 non-null  int64  \n",
      " 60  dDSb_cs0                1215675 non-null  int64  \n",
      " 61  dDSb_cs1                1215675 non-null  int64  \n",
      " 62  dDSb_cs4                1215675 non-null  int64  \n",
      " 63  dDSb_ef                 1215675 non-null  int64  \n",
      " 64  Cause_Shutdown          1215675 non-null  int64  \n",
      " 65  Cause_Start             1215675 non-null  int64  \n",
      " 66  Cause_Status            1215675 non-null  int64  \n",
      " 67  State_ACC               1215675 non-null  int64  \n",
      " 68  State_CON               1215675 non-null  int64  \n",
      " 69  State_ECO               1215675 non-null  int64  \n",
      " 70  State_FIN               1215675 non-null  int64  \n",
      " 71  State_INT               1215675 non-null  int64  \n",
      " 72  State_NRS               1215675 non-null  int64  \n",
      " 73  State_REQ               1215675 non-null  int64  \n",
      " 74  State_RSP               1215675 non-null  int64  \n",
      " 75  State_RST               1215675 non-null  int64  \n",
      " 76  State_TST               1215675 non-null  int64  \n",
      " 77  State_URP               1215675 non-null  int64  \n",
      " 78  AtkTool_Benign          1215675 non-null  int64  \n",
      " 79  AtkTool_Goldeneye       1215675 non-null  int64  \n",
      " 80  AtkTool_Hping3          1215675 non-null  int64  \n",
      " 81  AtkTool_Nmap            1215675 non-null  int64  \n",
      " 82  AtkTool_Slowloris       1215675 non-null  int64  \n",
      " 83  AtkTool_Torshammer      1215675 non-null  int64  \n",
      " 84  AtkType_Benign          1215675 non-null  int64  \n",
      " 85  AtkType_HTTPFlood       1215675 non-null  int64  \n",
      " 86  AtkType_ICMPFlood       1215675 non-null  int64  \n",
      " 87  AtkType_SYNFlood        1215675 non-null  int64  \n",
      " 88  AtkType_SYNScan         1215675 non-null  int64  \n",
      " 89  AtkType_SlowrateDoS     1215675 non-null  int64  \n",
      " 90  AtkType_TCPConnectScan  1215675 non-null  int64  \n",
      " 91  AtkType_UDPFlood        1215675 non-null  int64  \n",
      " 92  AtkType_UDPScan         1215675 non-null  int64  \n",
      " 93  Label_Benign            1215675 non-null  int64  \n",
      " 94  Label_Malicious         1215675 non-null  int64  \n",
      "dtypes: float64(30), int64(65)\n",
      "memory usage: 881.1 MB\n"
     ]
    }
   ],
   "source": [
    "X.info()"
   ]
  },
  {
   "cell_type": "code",
   "execution_count": 27,
   "id": "bc939252-7445-43a3-bb3d-1f7fe411161f",
   "metadata": {},
   "outputs": [],
   "source": [
    "def remove_attack_and_seq_labels(data):\n",
    "    X =  data.loc[:,~data.columns.str.startswith('Atk')]\n",
    "    X =  X.loc[:,~X.columns.str.startswith('Attack')]\n",
    "    X =  X.loc[:,~X.columns.str.startswith('Label_')]\n",
    "    # X = X.drop(['Label', 'Seq'], axis=1)\n",
    "    X = X.drop(['Seq'], axis=1)\n",
    "    return X"
   ]
  },
  {
   "cell_type": "code",
   "execution_count": 28,
   "id": "81b195df-1dc5-4815-a287-91f4d2357ea0",
   "metadata": {},
   "outputs": [],
   "source": [
    "X = remove_attack_and_seq_labels(X)"
   ]
  },
  {
   "cell_type": "code",
   "execution_count": 29,
   "id": "2d947a4b-8b3d-430f-8def-138f201a4097",
   "metadata": {},
   "outputs": [
    {
     "name": "stdout",
     "output_type": "stream",
     "text": [
      "<class 'pandas.core.frame.DataFrame'>\n",
      "RangeIndex: 1215675 entries, 0 to 1215674\n",
      "Data columns (total 77 columns):\n",
      " #   Column           Non-Null Count    Dtype  \n",
      "---  ------           --------------    -----  \n",
      " 0   Dur              1215675 non-null  float64\n",
      " 1   RunTime          1215675 non-null  float64\n",
      " 2   Mean             1215675 non-null  float64\n",
      " 3   Sum              1215675 non-null  float64\n",
      " 4   Min              1215675 non-null  float64\n",
      " 5   Max              1215675 non-null  float64\n",
      " 6   sTos             1215675 non-null  float64\n",
      " 7   dTos             1215675 non-null  float64\n",
      " 8   sTtl             1215675 non-null  float64\n",
      " 9   dTtl             1215675 non-null  float64\n",
      " 10  sHops            1215675 non-null  float64\n",
      " 11  dHops            1215675 non-null  float64\n",
      " 12  TotPkts          1215675 non-null  int64  \n",
      " 13  SrcPkts          1215675 non-null  int64  \n",
      " 14  DstPkts          1215675 non-null  int64  \n",
      " 15  TotBytes         1215675 non-null  int64  \n",
      " 16  SrcBytes         1215675 non-null  int64  \n",
      " 17  DstBytes         1215675 non-null  int64  \n",
      " 18  Offset           1215675 non-null  int64  \n",
      " 19  sMeanPktSz       1215675 non-null  float64\n",
      " 20  dMeanPktSz       1215675 non-null  float64\n",
      " 21  Load             1215675 non-null  float64\n",
      " 22  SrcLoad          1215675 non-null  float64\n",
      " 23  DstLoad          1215675 non-null  float64\n",
      " 24  Loss             1215675 non-null  int64  \n",
      " 25  SrcLoss          1215675 non-null  int64  \n",
      " 26  DstLoss          1215675 non-null  int64  \n",
      " 27  pLoss            1215675 non-null  float64\n",
      " 28  SrcGap           1215675 non-null  float64\n",
      " 29  DstGap           1215675 non-null  float64\n",
      " 30  Rate             1215675 non-null  float64\n",
      " 31  SrcRate          1215675 non-null  float64\n",
      " 32  DstRate          1215675 non-null  float64\n",
      " 33  SrcWin           1215675 non-null  float64\n",
      " 34  DstWin           1215675 non-null  float64\n",
      " 35  SrcTCPBase       1215675 non-null  float64\n",
      " 36  DstTCPBase       1215675 non-null  float64\n",
      " 37  TcpRtt           1215675 non-null  float64\n",
      " 38  SynAck           1215675 non-null  float64\n",
      " 39  AckDat           1215675 non-null  float64\n",
      " 40  Proto_icmp       1215675 non-null  int64  \n",
      " 41  Proto_ipv6-icmp  1215675 non-null  int64  \n",
      " 42  Proto_sctp       1215675 non-null  int64  \n",
      " 43  Proto_tcp        1215675 non-null  int64  \n",
      " 44  Proto_udp        1215675 non-null  int64  \n",
      " 45  sDSb_39          1215675 non-null  int64  \n",
      " 46  sDSb_4           1215675 non-null  int64  \n",
      " 47  sDSb_52          1215675 non-null  int64  \n",
      " 48  sDSb_54          1215675 non-null  int64  \n",
      " 49  sDSb_af11        1215675 non-null  int64  \n",
      " 50  sDSb_af12        1215675 non-null  int64  \n",
      " 51  sDSb_af41        1215675 non-null  int64  \n",
      " 52  sDSb_cs0         1215675 non-null  int64  \n",
      " 53  sDSb_cs4         1215675 non-null  int64  \n",
      " 54  sDSb_cs6         1215675 non-null  int64  \n",
      " 55  sDSb_cs7         1215675 non-null  int64  \n",
      " 56  sDSb_ef          1215675 non-null  int64  \n",
      " 57  dDSb_af11        1215675 non-null  int64  \n",
      " 58  dDSb_af12        1215675 non-null  int64  \n",
      " 59  dDSb_cs0         1215675 non-null  int64  \n",
      " 60  dDSb_cs1         1215675 non-null  int64  \n",
      " 61  dDSb_cs4         1215675 non-null  int64  \n",
      " 62  dDSb_ef          1215675 non-null  int64  \n",
      " 63  Cause_Shutdown   1215675 non-null  int64  \n",
      " 64  Cause_Start      1215675 non-null  int64  \n",
      " 65  Cause_Status     1215675 non-null  int64  \n",
      " 66  State_ACC        1215675 non-null  int64  \n",
      " 67  State_CON        1215675 non-null  int64  \n",
      " 68  State_ECO        1215675 non-null  int64  \n",
      " 69  State_FIN        1215675 non-null  int64  \n",
      " 70  State_INT        1215675 non-null  int64  \n",
      " 71  State_NRS        1215675 non-null  int64  \n",
      " 72  State_REQ        1215675 non-null  int64  \n",
      " 73  State_RSP        1215675 non-null  int64  \n",
      " 74  State_RST        1215675 non-null  int64  \n",
      " 75  State_TST        1215675 non-null  int64  \n",
      " 76  State_URP        1215675 non-null  int64  \n",
      "dtypes: float64(30), int64(47)\n",
      "memory usage: 714.2 MB\n"
     ]
    }
   ],
   "source": [
    "X.info()"
   ]
  },
  {
   "cell_type": "code",
   "execution_count": 32,
   "id": "9d281393-03cf-406d-88a6-17da2cb9f1c9",
   "metadata": {},
   "outputs": [],
   "source": [
    "def label_encoder(data, column_name):\n",
    "  Y = data[column_name]\n",
    "  label_encoder = LabelEncoder()\n",
    "  y_encoded = label_encoder.fit_transform(Y)\n",
    "  return y_encoded"
   ]
  },
  {
   "cell_type": "code",
   "execution_count": 35,
   "id": "48209c3e-7815-4b57-a7d9-8c1f733c9906",
   "metadata": {},
   "outputs": [],
   "source": [
    "Y = label_encoder(Dataset, 'Label')"
   ]
  },
  {
   "cell_type": "code",
   "execution_count": 36,
   "id": "40e78904-57aa-4989-930f-45fe90965957",
   "metadata": {},
   "outputs": [],
   "source": [
    "def mutual_info(X, Y):\n",
    "  mutual_info_arr = mutual_info_classif(X, Y)\n",
    "  series_info = pd.Series(mutual_info_arr)\n",
    "  series_info.index = X.columns\n",
    "  series_top = series_info.sort_values(ascending=False)[:20]\n",
    "  return series_top"
   ]
  },
  {
   "cell_type": "code",
   "execution_count": 39,
   "id": "80510848-261a-4c09-a22d-c3f7ec390e26",
   "metadata": {},
   "outputs": [],
   "source": [
    "result = mutual_info(X, Y)"
   ]
  },
  {
   "cell_type": "code",
   "execution_count": 40,
   "id": "8725062b-4e27-4445-8ad5-fcedba3d501e",
   "metadata": {},
   "outputs": [
    {
     "data": {
      "text/plain": [
       "<Axes: >"
      ]
     },
     "execution_count": 40,
     "metadata": {},
     "output_type": "execute_result"
    },
    {
     "data": {
      "image/png": "[encoded data removed]",
      "text/plain": [
       "<Figure size 2000x800 with 1 Axes>"
      ]
     },
     "metadata": {},
     "output_type": "display_data"
    }
   ],
   "source": [
    "result.plot.bar(figsize=(20,8))"
   ]
  },
  {
   "cell_type": "code",
   "execution_count": 42,
   "id": "490b4848-99bf-457a-8118-87e07c32aace",
   "metadata": {},
   "outputs": [],
   "source": [
    "new_data = Dataset[result.keys()]"
   ]
  },
  {
   "cell_type": "code",
   "execution_count": 43,
   "id": "2eb7db71-e894-4587-8e9f-cc7fe93ebe2c",
   "metadata": {},
   "outputs": [
    {
     "name": "stdout",
     "output_type": "stream",
     "text": [
      "<class 'pandas.core.frame.DataFrame'>\n",
      "RangeIndex: 1215675 entries, 0 to 1215674\n",
      "Data columns (total 20 columns):\n",
      " #   Column        Non-Null Count    Dtype  \n",
      "---  ------        --------------    -----  \n",
      " 0   dTtl          1215675 non-null  float64\n",
      " 1   dHops         1215675 non-null  float64\n",
      " 2   DstWin        1215675 non-null  float64\n",
      " 3   SrcWin        1215675 non-null  float64\n",
      " 4   sTtl          1215675 non-null  float64\n",
      " 5   dTos          1215675 non-null  float64\n",
      " 6   DstGap        1215675 non-null  float64\n",
      " 7   SrcGap        1215675 non-null  float64\n",
      " 8   sMeanPktSz    1215675 non-null  float64\n",
      " 9   TotBytes      1215675 non-null  int64  \n",
      " 10  SrcBytes      1215675 non-null  int64  \n",
      " 11  Offset        1215675 non-null  int64  \n",
      " 12  sHops         1215675 non-null  float64\n",
      " 13  Proto_udp     1215675 non-null  int64  \n",
      " 14  SrcTCPBase    1215675 non-null  float64\n",
      " 15  DstTCPBase    1215675 non-null  float64\n",
      " 16  sDSb_cs0      1215675 non-null  int64  \n",
      " 17  Cause_Status  1215675 non-null  int64  \n",
      " 18  Proto_tcp     1215675 non-null  int64  \n",
      " 19  DstBytes      1215675 non-null  int64  \n",
      "dtypes: float64(12), int64(8)\n",
      "memory usage: 185.5 MB\n"
     ]
    }
   ],
   "source": [
    "new_data.info()"
   ]
  },
  {
   "cell_type": "code",
   "execution_count": null,
   "id": "f7b99f8e-f8d1-40ff-a4f9-78cc18e56959",
   "metadata": {},
   "outputs": [],
   "source": []
  },
  {
   "cell_type": "code",
   "execution_count": null,
   "id": "525c09c3-ad75-44f2-8844-0d89dfa9bc63",
   "metadata": {},
   "outputs": [],
   "source": [
    "df = df.drop(columns=['AtkTool_Benign', 'AtkTool_Goldeneye', 'AtkTool_Hping3', 'AtkTool_Nmap', 'AtkTool_Slowloris', 'AtkTool_Torshammer', 'AtkType_Benign', 'AtkType_HTTPFlood', 'AtkType_ICMPFlood',\n",
    "                 'AtkType_SYNFlood', 'AtkType_SYNScan', 'AtkType_SlowrateDoS', 'AtkType_TCPConnectScan', 'AtkType_UDPFlood', 'AtkType_UDPScan', 'Label_Malicious'])"
   ]
  },
  {
   "cell_type": "code",
   "execution_count": null,
   "id": "6452864c-8508-4791-b617-b3483d2469ba",
   "metadata": {},
   "outputs": [],
   "source": [
    "df.info()"
   ]
  },
  {
   "cell_type": "code",
   "execution_count": null,
   "id": "fa078e71-3205-4c86-9e42-a59b37781f6c",
   "metadata": {},
   "outputs": [],
   "source": [
    "X = df.drop(columns=['Label_Benign'])"
   ]
  },
  {
   "cell_type": "code",
   "execution_count": null,
   "id": "a8e2085c-d897-4d99-aaca-57989d682305",
   "metadata": {},
   "outputs": [],
   "source": [
    "Y = df['Label_Benign']"
   ]
  },
  {
   "cell_type": "code",
   "execution_count": null,
   "id": "f18fc5ec-9036-4944-9d13-bdfd44b5d82b",
   "metadata": {},
   "outputs": [],
   "source": [
    "X_train, X_test, Y_train, Y_test = train_test_split(X, Y, test_size = 0.25, random_state = 42)"
   ]
  },
  {
   "cell_type": "code",
   "execution_count": null,
   "id": "968bf92e-1668-447d-8a5d-df542af8a6fe",
   "metadata": {},
   "outputs": [],
   "source": [
    "# Trying SVC\n",
    "clf = SVC()\n",
    "clf.fit(X_train, Y_train)\n",
    "clf_predict = clf.predict(X_test)"
   ]
  },
  {
   "cell_type": "code",
   "execution_count": null,
   "id": "28975d84-2b85-4601-a692-5c724b708701",
   "metadata": {},
   "outputs": [],
   "source": [
    "print(\"Accuracy Score (training) for Decision Tree:{0:6f}\".format(metrics.accuracy_score(Y_train,clf_predict)))\n",
    "print(\"Confusion Matrix for Decision Tree\")\n",
    "print(confusion_matrix(Y_train, clf_predict))"
   ]
  },
  {
   "cell_type": "code",
   "execution_count": null,
   "id": "0be84a20-c2c3-49c3-998f-622ad8a93721",
   "metadata": {},
   "outputs": [],
   "source": [
    "# trying LinearSVC\n",
    "clf = LinearSVC()\n",
    "clf.fit(X_train, Y_train)\n",
    "clf_predict = clf.predict(X_test)\n",
    "clf_train_predict = clf.predict(X_train)"
   ]
  },
  {
   "cell_type": "code",
   "execution_count": null,
   "id": "aa2752c8-475d-4818-9c20-3649aa1ba83b",
   "metadata": {},
   "outputs": [],
   "source": [
    "print(\"Accuracy Score (training) for Decision Tree: {:.6f}\".format(metrics.accuracy_score(Y_train, clf_train_predict)))\n",
    "print(\"Confusion Matrix for Decision Tree (training):\")\n",
    "print(confusion_matrix(Y_train, clf_train_predict))"
   ]
  },
  {
   "cell_type": "code",
   "execution_count": null,
   "id": "3da3f83d-037a-4dd8-a9c7-0691589babbc",
   "metadata": {},
   "outputs": [],
   "source": [
    "print(\"Accuracy Score (test) for Decision Tree: {:.6f}\".format(metrics.accuracy_score(Y_test, clf_predict)))\n",
    "print(\"Confusion Matrix for Decision Tree (test):\")\n",
    "print(confusion_matrix(Y_test, clf_predict))"
   ]
  }
 ],
 "metadata": {
  "kernelspec": {
   "display_name": "Python 3 (ipykernel)",
   "language": "python",
   "name": "python3"
  },
  "language_info": {
   "codemirror_mode": {
    "name": "ipython",
    "version": 3
   },
   "file_extension": ".py",
   "mimetype": "text/x-python",
   "name": "python",
   "nbconvert_exporter": "python",
   "pygments_lexer": "ipython3",
   "version": "3.12.2"
  }
 },
 "nbformat": 4,
 "nbformat_minor": 5
}
