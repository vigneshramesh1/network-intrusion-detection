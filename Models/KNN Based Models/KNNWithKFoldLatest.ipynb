{
 "cells": [
  {
   "cell_type": "code",
   "execution_count": 1,
   "metadata": {
    "id": "eB-GOdDhagw4"
   },
   "outputs": [],
   "source": [
    "import pandas as pd\n",
    "import matplotlib.pyplot as plt\n",
    "from sklearn.tree import DecisionTreeRegressor\n",
    "from sklearn.preprocessing import StandardScaler\n",
    "\n",
    "from sklearn.model_selection import GridSearchCV\n",
    "from sklearn.model_selection import train_test_split\n",
    "from sklearn.preprocessing import LabelEncoder\n",
    "from sklearn.feature_selection import mutual_info_regression\n",
    "from sklearn.feature_selection import mutual_info_classif\n",
    "from sklearn.neighbors import KNeighborsClassifier\n",
    "from sklearn.metrics import accuracy_score, precision_score, recall_score, f1_score\n",
    "from sklearn.model_selection import train_test_split\n",
    "from sklearn.decomposition import PCA\n",
    "import warnings\n",
    "warnings.filterwarnings('ignore')"
   ]
  },
  {
   "cell_type": "code",
   "execution_count": 2,
   "metadata": {
    "id": "yJ-LEZM-fVQm"
   },
   "outputs": [],
   "source": [
    "data = pd.read_csv('/Users/shanmugapriyan/Downloads/csv_preprocessed.csv')"
   ]
  },
  {
   "cell_type": "code",
   "execution_count": 3,
   "metadata": {
    "id": "WEHd8214l9iv"
   },
   "outputs": [],
   "source": [
    "X = data.drop(columns=[\"Attack Type\"])"
   ]
  },
  {
   "cell_type": "code",
   "execution_count": 4,
   "metadata": {
    "id": "m0vAEIU2tAE6"
   },
   "outputs": [],
   "source": [
    "Y = data[\"Attack Type\"]"
   ]
  },
  {
   "cell_type": "code",
   "execution_count": 5,
   "metadata": {
    "id": "mfaGvavhtuqx"
   },
   "outputs": [],
   "source": [
    "def mutual_info(X, Y):\n",
    "  mutual_info_arr = mutual_info_classif(X, Y)\n",
    "  series_info = pd.Series(mutual_info_arr)\n",
    "  series_info.index = X.columns\n",
    "  series_top = series_info.sort_values(ascending=False)[:20]\n",
    "  return series_top"
   ]
  },
  {
   "cell_type": "code",
   "execution_count": 6,
   "metadata": {
    "id": "QpKZKgtellV5"
   },
   "outputs": [],
   "source": [
    "# result = mutual_info(X, Y)\n",
    "# result.plot.bar(figsize=(20,8))"
   ]
  },
  {
   "cell_type": "code",
   "execution_count": 7,
   "metadata": {
    "id": "4MZ-ylIGsK1H"
   },
   "outputs": [],
   "source": [
    "# new_data = data[result.keys()]\n",
    "# new_data.head()"
   ]
  },
  {
   "cell_type": "code",
   "execution_count": 8,
   "metadata": {
    "id": "L6YANZ5ZhxhC"
   },
   "outputs": [
    {
     "data": {
      "text/html": [
       "<div>\n",
       "<style scoped>\n",
       "    .dataframe tbody tr th:only-of-type {\n",
       "        vertical-align: middle;\n",
       "    }\n",
       "\n",
       "    .dataframe tbody tr th {\n",
       "        vertical-align: top;\n",
       "    }\n",
       "\n",
       "    .dataframe thead th {\n",
       "        text-align: right;\n",
       "    }\n",
       "</style>\n",
       "<table border=\"1\" class=\"dataframe\">\n",
       "  <thead>\n",
       "    <tr style=\"text-align: right;\">\n",
       "      <th></th>\n",
       "      <th>SrcWin</th>\n",
       "      <th>DstWin</th>\n",
       "      <th>dHops</th>\n",
       "      <th>dTtl</th>\n",
       "      <th>TotBytes</th>\n",
       "      <th>SrcBytes</th>\n",
       "      <th>sMeanPktSz</th>\n",
       "      <th>DstGap</th>\n",
       "      <th>SrcGap</th>\n",
       "      <th>dTos</th>\n",
       "      <th>DstTCPBase</th>\n",
       "      <th>SrcTCPBase</th>\n",
       "      <th>TcpRtt</th>\n",
       "      <th>Proto_udp</th>\n",
       "      <th>DstBytes</th>\n",
       "      <th>AckDat</th>\n",
       "      <th>dMeanPktSz</th>\n",
       "      <th>Proto_tcp</th>\n",
       "      <th>SynAck</th>\n",
       "      <th>Load</th>\n",
       "    </tr>\n",
       "  </thead>\n",
       "  <tbody>\n",
       "    <tr>\n",
       "      <th>0</th>\n",
       "      <td>3.442533e-07</td>\n",
       "      <td>6.217791e-08</td>\n",
       "      <td>-0.973059</td>\n",
       "      <td>-0.00732</td>\n",
       "      <td>-0.117591</td>\n",
       "      <td>-0.099523</td>\n",
       "      <td>0.164660</td>\n",
       "      <td>-0.006334</td>\n",
       "      <td>-0.00383</td>\n",
       "      <td>-0.094739</td>\n",
       "      <td>-4.275809e-14</td>\n",
       "      <td>3.187841e-12</td>\n",
       "      <td>-0.267969</td>\n",
       "      <td>0.0</td>\n",
       "      <td>-0.066388</td>\n",
       "      <td>-0.388062</td>\n",
       "      <td>-0.287785</td>\n",
       "      <td>0.0</td>\n",
       "      <td>-0.044552</td>\n",
       "      <td>-0.008291</td>\n",
       "    </tr>\n",
       "    <tr>\n",
       "      <th>1</th>\n",
       "      <td>3.442533e-07</td>\n",
       "      <td>6.217791e-08</td>\n",
       "      <td>-0.973059</td>\n",
       "      <td>-0.00732</td>\n",
       "      <td>-0.117591</td>\n",
       "      <td>-0.099523</td>\n",
       "      <td>0.164660</td>\n",
       "      <td>-0.006334</td>\n",
       "      <td>-0.00383</td>\n",
       "      <td>-0.094739</td>\n",
       "      <td>-4.275809e-14</td>\n",
       "      <td>3.187841e-12</td>\n",
       "      <td>-0.267969</td>\n",
       "      <td>0.0</td>\n",
       "      <td>-0.066388</td>\n",
       "      <td>-0.388062</td>\n",
       "      <td>-0.287785</td>\n",
       "      <td>0.0</td>\n",
       "      <td>-0.044552</td>\n",
       "      <td>-0.008291</td>\n",
       "    </tr>\n",
       "    <tr>\n",
       "      <th>2</th>\n",
       "      <td>3.442533e-07</td>\n",
       "      <td>6.217791e-08</td>\n",
       "      <td>-0.973059</td>\n",
       "      <td>-0.00732</td>\n",
       "      <td>8.131316</td>\n",
       "      <td>9.877388</td>\n",
       "      <td>8.044846</td>\n",
       "      <td>-0.006334</td>\n",
       "      <td>-0.00383</td>\n",
       "      <td>-0.094739</td>\n",
       "      <td>-4.275809e-14</td>\n",
       "      <td>3.187841e-12</td>\n",
       "      <td>-0.267969</td>\n",
       "      <td>1.0</td>\n",
       "      <td>0.224388</td>\n",
       "      <td>-0.388062</td>\n",
       "      <td>0.972879</td>\n",
       "      <td>0.0</td>\n",
       "      <td>-0.044552</td>\n",
       "      <td>-0.007624</td>\n",
       "    </tr>\n",
       "    <tr>\n",
       "      <th>3</th>\n",
       "      <td>3.442533e-07</td>\n",
       "      <td>6.217791e-08</td>\n",
       "      <td>-0.973059</td>\n",
       "      <td>-0.00732</td>\n",
       "      <td>7.224216</td>\n",
       "      <td>8.734380</td>\n",
       "      <td>8.598644</td>\n",
       "      <td>-0.006334</td>\n",
       "      <td>-0.00383</td>\n",
       "      <td>-0.094739</td>\n",
       "      <td>-4.275809e-14</td>\n",
       "      <td>3.187841e-12</td>\n",
       "      <td>-0.267969</td>\n",
       "      <td>1.0</td>\n",
       "      <td>0.259298</td>\n",
       "      <td>-0.388062</td>\n",
       "      <td>0.922515</td>\n",
       "      <td>0.0</td>\n",
       "      <td>-0.044552</td>\n",
       "      <td>-0.007698</td>\n",
       "    </tr>\n",
       "    <tr>\n",
       "      <th>4</th>\n",
       "      <td>3.442533e-07</td>\n",
       "      <td>6.217791e-08</td>\n",
       "      <td>-0.973059</td>\n",
       "      <td>-0.00732</td>\n",
       "      <td>9.162383</td>\n",
       "      <td>11.165238</td>\n",
       "      <td>8.769752</td>\n",
       "      <td>-0.006334</td>\n",
       "      <td>-0.00383</td>\n",
       "      <td>-0.094739</td>\n",
       "      <td>-4.275809e-14</td>\n",
       "      <td>3.187841e-12</td>\n",
       "      <td>-0.267969</td>\n",
       "      <td>1.0</td>\n",
       "      <td>0.201274</td>\n",
       "      <td>-0.388062</td>\n",
       "      <td>0.811590</td>\n",
       "      <td>0.0</td>\n",
       "      <td>-0.044552</td>\n",
       "      <td>-0.007541</td>\n",
       "    </tr>\n",
       "  </tbody>\n",
       "</table>\n",
       "</div>"
      ],
      "text/plain": [
       "         SrcWin        DstWin     dHops     dTtl  TotBytes   SrcBytes  \\\n",
       "0  3.442533e-07  6.217791e-08 -0.973059 -0.00732 -0.117591  -0.099523   \n",
       "1  3.442533e-07  6.217791e-08 -0.973059 -0.00732 -0.117591  -0.099523   \n",
       "2  3.442533e-07  6.217791e-08 -0.973059 -0.00732  8.131316   9.877388   \n",
       "3  3.442533e-07  6.217791e-08 -0.973059 -0.00732  7.224216   8.734380   \n",
       "4  3.442533e-07  6.217791e-08 -0.973059 -0.00732  9.162383  11.165238   \n",
       "\n",
       "   sMeanPktSz    DstGap   SrcGap      dTos    DstTCPBase    SrcTCPBase  \\\n",
       "0    0.164660 -0.006334 -0.00383 -0.094739 -4.275809e-14  3.187841e-12   \n",
       "1    0.164660 -0.006334 -0.00383 -0.094739 -4.275809e-14  3.187841e-12   \n",
       "2    8.044846 -0.006334 -0.00383 -0.094739 -4.275809e-14  3.187841e-12   \n",
       "3    8.598644 -0.006334 -0.00383 -0.094739 -4.275809e-14  3.187841e-12   \n",
       "4    8.769752 -0.006334 -0.00383 -0.094739 -4.275809e-14  3.187841e-12   \n",
       "\n",
       "     TcpRtt  Proto_udp  DstBytes    AckDat  dMeanPktSz  Proto_tcp    SynAck  \\\n",
       "0 -0.267969        0.0 -0.066388 -0.388062   -0.287785        0.0 -0.044552   \n",
       "1 -0.267969        0.0 -0.066388 -0.388062   -0.287785        0.0 -0.044552   \n",
       "2 -0.267969        1.0  0.224388 -0.388062    0.972879        0.0 -0.044552   \n",
       "3 -0.267969        1.0  0.259298 -0.388062    0.922515        0.0 -0.044552   \n",
       "4 -0.267969        1.0  0.201274 -0.388062    0.811590        0.0 -0.044552   \n",
       "\n",
       "       Load  \n",
       "0 -0.008291  \n",
       "1 -0.008291  \n",
       "2 -0.007624  \n",
       "3 -0.007698  \n",
       "4 -0.007541  "
      ]
     },
     "execution_count": 8,
     "metadata": {},
     "output_type": "execute_result"
    }
   ],
   "source": [
    "# Hard coding now to skip the mutual information step\n",
    "new_data = data[[\"SrcWin\", \"DstWin\", \"dHops\", \"dTtl\", \"TotBytes\", \"SrcBytes\", \"sMeanPktSz\", \"DstGap\", \"SrcGap\", \"dTos\", \"DstTCPBase\", \"SrcTCPBase\", \"TcpRtt\", \"Proto_udp\", \"DstBytes\", \"AckDat\" , \"dMeanPktSz\", \"Proto_tcp\", \"SynAck\", \"Load\"]]\n",
    "new_data.head()"
   ]
  },
  {
   "cell_type": "code",
   "execution_count": 9,
   "metadata": {
    "id": "nT_I0P-C30iI"
   },
   "outputs": [],
   "source": [
    "def concat_column_for_plot(pca_data, column_name):\n",
    "  for_plot = pd.concat([pca_data, data[column_name]], axis = 1)\n",
    "  return for_plot"
   ]
  },
  {
   "cell_type": "code",
   "execution_count": 10,
   "metadata": {
    "id": "18_h_1tV3xms"
   },
   "outputs": [],
   "source": [
    "new_data = concat_column_for_plot(new_data, \"Attack Type\")"
   ]
  },
  {
   "cell_type": "code",
   "execution_count": 11,
   "metadata": {
    "colab": {
     "base_uri": "https://localhost:8080/"
    },
    "id": "QaEfRn3o3UoL",
    "outputId": "40978bb1-c31e-4c8f-8487-a1f8798e9637"
   },
   "outputs": [
    {
     "name": "stdout",
     "output_type": "stream",
     "text": [
      "Training dataset size: (1033323, 20)\n",
      "Testing dataset size: (182352, 20)\n",
      "Training target size: (1033323, 1)\n",
      "Testing target size: (182352, 1)\n"
     ]
    }
   ],
   "source": [
    "X_train, X_test, y_train, y_test = train_test_split(new_data.loc[:, new_data.columns != 'Attack Type'], new_data['Attack Type'],\n",
    "                                                    stratify=new_data['Attack Type'],\n",
    "                                                    test_size=0.15)\n",
    "\n",
    "X_train = pd.DataFrame(X_train, columns=new_data.columns.to_list()[:-1])\n",
    "X_test = pd.DataFrame(X_test, columns=new_data.columns.to_list()[:-1])\n",
    "y_train = pd.DataFrame(y_train, columns=['Attack Type'])\n",
    "y_test = pd.DataFrame(y_test, columns=['Attack Type'])\n",
    "\n",
    "print(\"Training dataset size:\", X_train.shape)\n",
    "print(\"Testing dataset size:\", X_test.shape)\n",
    "print(\"Training target size:\", y_train.shape)\n",
    "print(\"Testing target size:\", y_test.shape)"
   ]
  },
  {
   "cell_type": "code",
   "execution_count": 12,
   "metadata": {
    "id": "q2KNw2Jq4fpO"
   },
   "outputs": [],
   "source": [
    "def get_pca_df(scaled_data, no_of_components):\n",
    "  pca = PCA(n_components=no_of_components)\n",
    "  Principal_components=pca.fit_transform(scaled_data)\n",
    "  column_names = [\"PC \"+str(i) for i in range(1, no_of_components+1)]\n",
    "  pca_df = pd.DataFrame(data = Principal_components, columns = column_names)\n",
    "  return pca_df, pca"
   ]
  },
  {
   "cell_type": "code",
   "execution_count": 13,
   "metadata": {
    "id": "vkhhaY99VAcr"
   },
   "outputs": [],
   "source": [
    "from sklearn.model_selection import StratifiedKFold\n",
    "skf = StratifiedKFold(n_splits=5, shuffle=True, random_state=42)"
   ]
  },
  {
   "cell_type": "code",
   "execution_count": 14,
   "metadata": {
    "colab": {
     "base_uri": "https://localhost:8080/"
    },
    "id": "cOvIIVzRVIRa",
    "outputId": "fbd90343-ff9f-4580-e63c-c3b086e2513d"
   },
   "outputs": [],
   "source": [
    "accuracy_scores = []\n",
    "precision_scores = []\n",
    "recall_scores = []\n",
    "f1_scores = []\n",
    "Y = new_data['Attack Type']\n",
    "X_train, pca = get_pca_df(X_train, 15)\n",
    "for train_index, test_index in skf.split(X_train, y_train):\n",
    "    X1_train, X1_test = X_train.iloc[train_index], X_train.iloc[test_index]\n",
    "    y1_train, y1_test = y_train.iloc[train_index], y_train.iloc[test_index]\n",
    "    # Initialize kNN classifier\n",
    "    knn = KNeighborsClassifier(n_neighbors=19)\n",
    "    # Train the classifier\n",
    "    knn.fit(X1_train, y1_train)\n",
    "    # Predict on the test set\n",
    "    y_pred = knn.predict(X1_test)\n",
    "    # Calculate evaluation metrics and store them\n",
    "    accuracy_scores.append(accuracy_score(y1_test, y_pred))\n",
    "    precision_scores.append(precision_score(y1_test, y_pred, average='weighted'))\n",
    "    recall_scores.append(recall_score(y1_test, y_pred, average='weighted'))\n",
    "    f1_scores.append(f1_score(y1_test, y_pred, average='weighted'))"
   ]
  },
  {
   "cell_type": "code",
   "execution_count": 15,
   "metadata": {
    "colab": {
     "base_uri": "https://localhost:8080/"
    },
    "id": "iuKmCZcF04k0",
    "outputId": "8b7653b2-a34a-410f-9417-216e174bafab"
   },
   "outputs": [],
   "source": [
    "x_test = pca.transform(X_test)\n"
   ]
  },
  {
   "cell_type": "code",
   "execution_count": 16,
   "metadata": {
    "colab": {
     "base_uri": "https://localhost:8080/"
    },
    "id": "-e6tRpWA11AV",
    "outputId": "a0dafae1-f837-4d41-9843-c395f6a05b03"
   },
   "outputs": [
    {
     "data": {
      "text/plain": [
       "array([[-5.65514375e-01,  1.99562033e-01,  1.29644220e-03, ...,\n",
       "         2.13513484e-01, -1.00236638e-01, -2.22777964e-02],\n",
       "       [-5.65514374e-01,  1.99562032e-01,  1.29644234e-03, ...,\n",
       "         2.13513485e-01, -1.00236637e-01, -2.22777965e-02],\n",
       "       [ 3.17940889e+00, -1.90947067e+00,  1.10608083e-01, ...,\n",
       "        -1.39797310e+00, -1.67440195e+00,  3.73384319e-01],\n",
       "       ...,\n",
       "       [ 1.00360785e+00, -1.22096187e+00, -2.00502025e-01, ...,\n",
       "         5.90617636e-01,  3.81359870e-01,  2.84443356e-01],\n",
       "       [-2.08280012e-01, -2.14409782e-01, -1.92131711e-01, ...,\n",
       "         1.14540587e+00, -3.48267721e-01,  1.62946016e-01],\n",
       "       [-5.65514375e-01,  1.99562033e-01,  1.29644220e-03, ...,\n",
       "         2.13513484e-01, -1.00236638e-01, -2.22777964e-02]])"
      ]
     },
     "execution_count": 16,
     "metadata": {},
     "output_type": "execute_result"
    }
   ],
   "source": [
    "x_test"
   ]
  },
  {
   "cell_type": "code",
   "execution_count": 17,
   "metadata": {
    "colab": {
     "base_uri": "https://localhost:8080/"
    },
    "id": "5X2SoBid1TDo",
    "outputId": "7442bd9c-d9b1-4f55-8b46-3e35c1f7a159"
   },
   "outputs": [],
   "source": [
    "y1_pred = knn.predict(x_test)"
   ]
  },
  {
   "cell_type": "code",
   "execution_count": 18,
   "metadata": {
    "colab": {
     "base_uri": "https://localhost:8080/"
    },
    "id": "iL2FLRVnYSHT",
    "outputId": "00794696-d3e2-405e-9322-023d777d9d46"
   },
   "outputs": [
    {
     "data": {
      "text/plain": [
       "0.9863999298060894"
      ]
     },
     "execution_count": 18,
     "metadata": {},
     "output_type": "execute_result"
    }
   ],
   "source": [
    "accuracy_score(y_test, y1_pred)"
   ]
  },
  {
   "cell_type": "code",
   "execution_count": 19,
   "metadata": {
    "colab": {
     "base_uri": "https://localhost:8080/"
    },
    "id": "iIuT9OzXqrpK",
    "outputId": "d0544cde-b27c-4d5c-e08a-0edfb626c3db"
   },
   "outputs": [
    {
     "data": {
      "text/plain": [
       "[0.9858902087920064,\n",
       " 0.9859966612633972,\n",
       " 0.9862144049548787,\n",
       " 0.9860449812255642,\n",
       " 0.9859530445554137]"
      ]
     },
     "execution_count": 19,
     "metadata": {},
     "output_type": "execute_result"
    }
   ],
   "source": [
    "accuracy_scores"
   ]
  }
 ],
 "metadata": {
  "colab": {
   "provenance": []
  },
  "kernelspec": {
   "display_name": "Python 3 (ipykernel)",
   "language": "python",
   "name": "python3"
  },
  "language_info": {
   "codemirror_mode": {
    "name": "ipython",
    "version": 3
   },
   "file_extension": ".py",
   "mimetype": "text/x-python",
   "name": "python",
   "nbconvert_exporter": "python",
   "pygments_lexer": "ipython3",
   "version": "3.11.7"
  }
 },
 "nbformat": 4,
 "nbformat_minor": 4
}
