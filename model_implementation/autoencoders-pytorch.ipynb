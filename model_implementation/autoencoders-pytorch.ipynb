{
 "metadata": {
  "kernelspec": {
   "language": "python",
   "display_name": "Python 3",
   "name": "python3"
  },
  "language_info": {
   "name": "python",
   "version": "3.10.13",
   "mimetype": "text/x-python",
   "codemirror_mode": {
    "name": "ipython",
    "version": 3
   },
   "pygments_lexer": "ipython3",
   "nbconvert_exporter": "python",
   "file_extension": ".py"
  },
  "kaggle": {
   "accelerator": "gpu",
   "dataSources": [
    {
     "sourceId": 5022035,
     "sourceType": "datasetVersion",
     "datasetId": 2914217
    }
   ],
   "dockerImageVersionId": 30664,
   "isInternetEnabled": true,
   "language": "python",
   "sourceType": "notebook",
   "isGpuEnabled": true
  }
 },
 "nbformat_minor": 4,
 "nbformat": 4,
 "cells": [
  {
   "cell_type": "code",
   "source": "# This Python 3 environment comes with many helpful analytics libraries installed\n# It is defined by the kaggle/python Docker image: https://github.com/kaggle/docker-python\n# For example, here's several helpful packages to load\n\nimport numpy as np # linear algebra\nimport pandas as pd # data processing, CSV file I/O (e.g. pd.read_csv)\n\n# Input data files are available in the read-only \"../input/\" directory\n# For example, running this (by clicking run or pressing Shift+Enter) will list all files under the input directory\n\nimport os\nfor dirname, _, filenames in os.walk('/kaggle/input'):\n    for filename in filenames:\n        print(os.path.join(dirname, filename))\n\n# You can write up to 20GB to the current directory (/kaggle/working/) that gets preserved as output when you create a version using \"Save & Run All\" \n# You can also write temporary files to /kaggle/temp/, but they won't be saved outside of the current session",
   "metadata": {
    "_uuid": "8f2839f25d086af736a60e9eeb907d3b93b6e0e5",
    "_cell_guid": "b1076dfc-b9ad-4769-8c92-a6c4dae69d19",
    "execution": {
     "iopub.status.busy": "2024-03-13T00:49:45.371410Z",
     "iopub.execute_input": "2024-03-13T00:49:45.372135Z",
     "iopub.status.idle": "2024-03-13T00:49:45.383329Z",
     "shell.execute_reply.started": "2024-03-13T00:49:45.372101Z",
     "shell.execute_reply": "2024-03-13T00:49:45.382111Z"
    },
    "trusted": true
   },
   "execution_count": 1,
   "outputs": [
    {
     "name": "stdout",
     "text": "/kaggle/input/5g-nidd-dataset/Combined.csv\n",
     "output_type": "stream"
    }
   ]
  },
  {
   "cell_type": "code",
   "source": "import shutil\n\ninput_path = '/kaggle/input/5g-nidd-dataset'\noutput_path = '/kaggle/temp/5g-nidd-dataset'\n# Copy dataset into working directory\nshutil.copytree(input_path, output_path)",
   "metadata": {
    "execution": {
     "iopub.status.busy": "2024-03-13T00:49:45.386161Z",
     "iopub.execute_input": "2024-03-13T00:49:45.386617Z",
     "iopub.status.idle": "2024-03-13T00:49:48.192719Z",
     "shell.execute_reply.started": "2024-03-13T00:49:45.386580Z",
     "shell.execute_reply": "2024-03-13T00:49:48.191395Z"
    },
    "trusted": true
   },
   "execution_count": 2,
   "outputs": [
    {
     "execution_count": 2,
     "output_type": "execute_result",
     "data": {
      "text/plain": "'/kaggle/temp/5g-nidd-dataset'"
     },
     "metadata": {}
    }
   ]
  },
  {
   "cell_type": "code",
   "source": "cd /kaggle/temp/5g-nidd-dataset",
   "metadata": {
    "execution": {
     "iopub.status.busy": "2024-03-13T00:51:45.000313Z",
     "iopub.execute_input": "2024-03-13T00:51:45.001288Z",
     "iopub.status.idle": "2024-03-13T00:51:45.007468Z",
     "shell.execute_reply.started": "2024-03-13T00:51:45.001215Z",
     "shell.execute_reply": "2024-03-13T00:51:45.006544Z"
    },
    "trusted": true
   },
   "execution_count": 3,
   "outputs": [
    {
     "name": "stdout",
     "text": "/kaggle/temp/5g-nidd-dataset\n",
     "output_type": "stream"
    }
   ]
  },
  {
   "cell_type": "code",
   "source": "!pip install fancyimpute\n!pip install torch",
   "metadata": {
    "execution": {
     "iopub.status.busy": "2024-03-13T00:51:54.090544Z",
     "iopub.execute_input": "2024-03-13T00:51:54.090925Z",
     "iopub.status.idle": "2024-03-13T00:52:29.123049Z",
     "shell.execute_reply.started": "2024-03-13T00:51:54.090898Z",
     "shell.execute_reply": "2024-03-13T00:52:29.121907Z"
    },
    "trusted": true
   },
   "execution_count": 4,
   "outputs": [
    {
     "name": "stdout",
     "text": "Collecting fancyimpute\n  Downloading fancyimpute-0.7.0.tar.gz (25 kB)\n  Preparing metadata (setup.py) ... \u001B[?25ldone\n\u001B[?25hCollecting knnimpute>=0.1.0 (from fancyimpute)\n  Downloading knnimpute-0.1.0.tar.gz (8.3 kB)\n  Preparing metadata (setup.py) ... \u001B[?25ldone\n\u001B[?25hRequirement already satisfied: scikit-learn>=0.24.2 in /opt/conda/lib/python3.10/site-packages (from fancyimpute) (1.2.2)\nCollecting cvxpy (from fancyimpute)\n  Downloading cvxpy-1.4.2-cp310-cp310-manylinux_2_17_x86_64.manylinux2014_x86_64.whl.metadata (8.8 kB)\nCollecting cvxopt (from fancyimpute)\n  Downloading cvxopt-1.3.2-cp310-cp310-manylinux_2_17_x86_64.manylinux2014_x86_64.whl.metadata (1.3 kB)\nRequirement already satisfied: pytest in /opt/conda/lib/python3.10/site-packages (from fancyimpute) (8.0.1)\nRequirement already satisfied: nose in /opt/conda/lib/python3.10/site-packages (from fancyimpute) (1.3.7)\nRequirement already satisfied: six in /opt/conda/lib/python3.10/site-packages (from knnimpute>=0.1.0->fancyimpute) (1.16.0)\nRequirement already satisfied: numpy>=1.10 in /opt/conda/lib/python3.10/site-packages (from knnimpute>=0.1.0->fancyimpute) (1.26.4)\nRequirement already satisfied: scipy>=1.3.2 in /opt/conda/lib/python3.10/site-packages (from scikit-learn>=0.24.2->fancyimpute) (1.11.4)\nRequirement already satisfied: joblib>=1.1.1 in /opt/conda/lib/python3.10/site-packages (from scikit-learn>=0.24.2->fancyimpute) (1.3.2)\nRequirement already satisfied: threadpoolctl>=2.0.0 in /opt/conda/lib/python3.10/site-packages (from scikit-learn>=0.24.2->fancyimpute) (3.2.0)\nCollecting osqp>=0.6.2 (from cvxpy->fancyimpute)\n  Downloading osqp-0.6.5-cp310-cp310-manylinux_2_5_x86_64.manylinux1_x86_64.manylinux_2_17_x86_64.manylinux2014_x86_64.whl.metadata (1.8 kB)\nRequirement already satisfied: ecos>=2 in /opt/conda/lib/python3.10/site-packages (from cvxpy->fancyimpute) (2.0.13)\nCollecting clarabel>=0.5.0 (from cvxpy->fancyimpute)\n  Downloading clarabel-0.7.1-cp37-abi3-manylinux_2_17_x86_64.manylinux2014_x86_64.whl.metadata (4.6 kB)\nCollecting scs>=3.0 (from cvxpy->fancyimpute)\n  Downloading scs-3.2.4.post1-cp310-cp310-manylinux_2_17_x86_64.manylinux2014_x86_64.whl.metadata (2.1 kB)\nRequirement already satisfied: pybind11 in /opt/conda/lib/python3.10/site-packages (from cvxpy->fancyimpute) (2.11.1)\nRequirement already satisfied: iniconfig in /opt/conda/lib/python3.10/site-packages (from pytest->fancyimpute) (2.0.0)\nRequirement already satisfied: packaging in /opt/conda/lib/python3.10/site-packages (from pytest->fancyimpute) (21.3)\nRequirement already satisfied: pluggy<2.0,>=1.3.0 in /opt/conda/lib/python3.10/site-packages (from pytest->fancyimpute) (1.3.0)\nRequirement already satisfied: exceptiongroup>=1.0.0rc8 in /opt/conda/lib/python3.10/site-packages (from pytest->fancyimpute) (1.2.0)\nRequirement already satisfied: tomli>=1.0.0 in /opt/conda/lib/python3.10/site-packages (from pytest->fancyimpute) (2.0.1)\nCollecting qdldl (from osqp>=0.6.2->cvxpy->fancyimpute)\n  Downloading qdldl-0.1.7.post0-cp310-cp310-manylinux_2_17_x86_64.manylinux2014_x86_64.whl.metadata (1.7 kB)\nRequirement already satisfied: pyparsing!=3.0.5,>=2.0.2 in /opt/conda/lib/python3.10/site-packages (from packaging->pytest->fancyimpute) (3.1.1)\nDownloading cvxopt-1.3.2-cp310-cp310-manylinux_2_17_x86_64.manylinux2014_x86_64.whl (13.6 MB)\n\u001B[2K   \u001B[90m━━━━━━━━━━━━━━━━━━━━━━━━━━━━━━━━━━━━━━━━\u001B[0m \u001B[32m13.6/13.6 MB\u001B[0m \u001B[31m39.8 MB/s\u001B[0m eta \u001B[36m0:00:00\u001B[0m00:01\u001B[0m00:01\u001B[0m\n\u001B[?25hDownloading cvxpy-1.4.2-cp310-cp310-manylinux_2_17_x86_64.manylinux2014_x86_64.whl (1.2 MB)\n\u001B[2K   \u001B[90m━━━━━━━━━━━━━━━━━━━━━━━━━━━━━━━━━━━━━━━━\u001B[0m \u001B[32m1.2/1.2 MB\u001B[0m \u001B[31m52.7 MB/s\u001B[0m eta \u001B[36m0:00:00\u001B[0m\n\u001B[?25hDownloading clarabel-0.7.1-cp37-abi3-manylinux_2_17_x86_64.manylinux2014_x86_64.whl (1.3 MB)\n\u001B[2K   \u001B[90m━━━━━━━━━━━━━━━━━━━━━━━━━━━━━━━━━━━━━━━━\u001B[0m \u001B[32m1.3/1.3 MB\u001B[0m \u001B[31m58.1 MB/s\u001B[0m eta \u001B[36m0:00:00\u001B[0m\n\u001B[?25hDownloading osqp-0.6.5-cp310-cp310-manylinux_2_5_x86_64.manylinux1_x86_64.manylinux_2_17_x86_64.manylinux2014_x86_64.whl (298 kB)\n\u001B[2K   \u001B[90m━━━━━━━━━━━━━━━━━━━━━━━━━━━━━━━━━━━━━━━━\u001B[0m \u001B[32m299.0/299.0 kB\u001B[0m \u001B[31m18.8 MB/s\u001B[0m eta \u001B[36m0:00:00\u001B[0m\n\u001B[?25hDownloading scs-3.2.4.post1-cp310-cp310-manylinux_2_17_x86_64.manylinux2014_x86_64.whl (10.4 MB)\n\u001B[2K   \u001B[90m━━━━━━━━━━━━━━━━━━━━━━━━━━━━━━━━━━━━━━━━\u001B[0m \u001B[32m10.4/10.4 MB\u001B[0m \u001B[31m99.1 MB/s\u001B[0m eta \u001B[36m0:00:00\u001B[0m:00:01\u001B[0m0:01\u001B[0m\n\u001B[?25hDownloading qdldl-0.1.7.post0-cp310-cp310-manylinux_2_17_x86_64.manylinux2014_x86_64.whl (1.1 MB)\n\u001B[2K   \u001B[90m━━━━━━━━━━━━━━━━━━━━━━━━━━━━━━━━━━━━━━━━\u001B[0m \u001B[32m1.1/1.1 MB\u001B[0m \u001B[31m48.1 MB/s\u001B[0m eta \u001B[36m0:00:00\u001B[0m\n\u001B[?25hBuilding wheels for collected packages: fancyimpute, knnimpute\n  Building wheel for fancyimpute (setup.py) ... \u001B[?25ldone\n\u001B[?25h  Created wheel for fancyimpute: filename=fancyimpute-0.7.0-py3-none-any.whl size=29880 sha256=17e99eaffddc4432b6a122c1db621d934e4f2ac8d51343d8532c7449680f2a95\n  Stored in directory: /root/.cache/pip/wheels/7b/0c/d3/ee82d1fbdcc0858d96434af108608d01703505d453720c84ed\n  Building wheel for knnimpute (setup.py) ... \u001B[?25ldone\n\u001B[?25h  Created wheel for knnimpute: filename=knnimpute-0.1.0-py3-none-any.whl size=11329 sha256=372f67684889e80e4d3bd6b7037f007e6a01cf5f1418744e15adf3d4def53b22\n  Stored in directory: /root/.cache/pip/wheels/46/06/a5/45a724630562413c374e29c08732411d496092408b3a7bf754\nSuccessfully built fancyimpute knnimpute\nInstalling collected packages: knnimpute, cvxopt, scs, qdldl, clarabel, osqp, cvxpy, fancyimpute\nSuccessfully installed clarabel-0.7.1 cvxopt-1.3.2 cvxpy-1.4.2 fancyimpute-0.7.0 knnimpute-0.1.0 osqp-0.6.5 qdldl-0.1.7.post0 scs-3.2.4.post1\nRequirement already satisfied: torch in /opt/conda/lib/python3.10/site-packages (2.1.2)\nRequirement already satisfied: filelock in /opt/conda/lib/python3.10/site-packages (from torch) (3.13.1)\nRequirement already satisfied: typing-extensions in /opt/conda/lib/python3.10/site-packages (from torch) (4.9.0)\nRequirement already satisfied: sympy in /opt/conda/lib/python3.10/site-packages (from torch) (1.12)\nRequirement already satisfied: networkx in /opt/conda/lib/python3.10/site-packages (from torch) (3.2.1)\nRequirement already satisfied: jinja2 in /opt/conda/lib/python3.10/site-packages (from torch) (3.1.2)\nRequirement already satisfied: fsspec in /opt/conda/lib/python3.10/site-packages (from torch) (2024.2.0)\nRequirement already satisfied: MarkupSafe>=2.0 in /opt/conda/lib/python3.10/site-packages (from jinja2->torch) (2.1.3)\nRequirement already satisfied: mpmath>=0.19 in /opt/conda/lib/python3.10/site-packages (from sympy->torch) (1.3.0)\n",
     "output_type": "stream"
    }
   ]
  },
  {
   "cell_type": "code",
   "source": "import numpy as np\nimport pandas as pd\nimport matplotlib.pyplot as plt\nimport seaborn as sns\nimport requests, zipfile, io\nimport missingno as msno\nimport multiprocessing\nimport scipy\nimport sklearn\nimport torch\nfrom torch.utils.data import Dataset, DataLoader\nfrom torch.utils.data.sampler import SubsetRandomSampler\nfrom tqdm import tqdm\nimport torch.nn.functional as F\nfrom sklearn import preprocessing\nfrom sklearn.model_selection import train_test_split\nfrom sklearn.metrics import accuracy_score\nimport fancyimpute\nfrom fancyimpute import IterativeImputer\nfrom sklearn.preprocessing import LabelEncoder",
   "metadata": {
    "execution": {
     "iopub.status.busy": "2024-03-13T00:52:42.344479Z",
     "iopub.execute_input": "2024-03-13T00:52:42.344947Z",
     "iopub.status.idle": "2024-03-13T00:52:42.720931Z",
     "shell.execute_reply.started": "2024-03-13T00:52:42.344913Z",
     "shell.execute_reply": "2024-03-13T00:52:42.719796Z"
    },
    "trusted": true
   },
   "execution_count": 5,
   "outputs": [
    {
     "name": "stdout",
     "text": "(CVXPY) Mar 13 12:52:42 AM: Encountered unexpected exception importing solver GLOP:\nRuntimeError('Version of ortools (9.4.1874) is too old. Expected >= 9.5.0.')\n(CVXPY) Mar 13 12:52:42 AM: Encountered unexpected exception importing solver PDLP:\nRuntimeError('Version of ortools (9.4.1874) is too old. Expected >= 9.5.0.')\n",
     "output_type": "stream"
    }
   ]
  },
  {
   "cell_type": "code",
   "source": "pd.set_option('future.no_silent_downcasting', True)",
   "metadata": {
    "execution": {
     "iopub.status.busy": "2024-03-13T00:52:44.173637Z",
     "iopub.execute_input": "2024-03-13T00:52:44.174682Z",
     "iopub.status.idle": "2024-03-13T00:52:44.179395Z",
     "shell.execute_reply.started": "2024-03-13T00:52:44.174649Z",
     "shell.execute_reply": "2024-03-13T00:52:44.178254Z"
    },
    "trusted": true
   },
   "execution_count": 6,
   "outputs": []
  },
  {
   "cell_type": "code",
   "source": "# Use GPU if it's available\ndevice = torch.device(\"cuda\" if torch.cuda.is_available() else \"cpu\")\nprint('Torch', torch.__version__, 'CUDA', torch.version.cuda)\nprint('Device:', torch.device('cuda:0'))\ndevice",
   "metadata": {
    "execution": {
     "iopub.status.busy": "2024-03-13T00:52:45.581129Z",
     "iopub.execute_input": "2024-03-13T00:52:45.581955Z",
     "iopub.status.idle": "2024-03-13T00:52:45.620484Z",
     "shell.execute_reply.started": "2024-03-13T00:52:45.581920Z",
     "shell.execute_reply": "2024-03-13T00:52:45.619433Z"
    },
    "trusted": true
   },
   "execution_count": 7,
   "outputs": [
    {
     "name": "stdout",
     "text": "Torch 2.1.2 CUDA 12.1\nDevice: cuda:0\n",
     "output_type": "stream"
    },
    {
     "execution_count": 7,
     "output_type": "execute_result",
     "data": {
      "text/plain": "device(type='cuda')"
     },
     "metadata": {}
    }
   ]
  },
  {
   "cell_type": "code",
   "source": "# number of subprocesses to use for data loading\nnum_workers = multiprocessing.cpu_count()\n\n# how many samples per batch to load\nbatch_size = 64\n\n# percentage of data set to use as validation\nvalid_size = 0.15",
   "metadata": {
    "execution": {
     "iopub.status.busy": "2024-03-13T00:52:46.463629Z",
     "iopub.execute_input": "2024-03-13T00:52:46.464022Z",
     "iopub.status.idle": "2024-03-13T00:52:46.469246Z",
     "shell.execute_reply.started": "2024-03-13T00:52:46.463991Z",
     "shell.execute_reply": "2024-03-13T00:52:46.468189Z"
    },
    "trusted": true
   },
   "execution_count": 8,
   "outputs": []
  },
  {
   "cell_type": "code",
   "source": "df = pd.read_csv('Combined.csv', low_memory=False)\nprint(df.shape)\ndf.head()",
   "metadata": {
    "execution": {
     "iopub.status.busy": "2024-03-13T00:52:47.741559Z",
     "iopub.execute_input": "2024-03-13T00:52:47.741962Z",
     "iopub.status.idle": "2024-03-13T00:52:57.626712Z",
     "shell.execute_reply.started": "2024-03-13T00:52:47.741930Z",
     "shell.execute_reply": "2024-03-13T00:52:57.625621Z"
    },
    "trusted": true
   },
   "execution_count": 9,
   "outputs": [
    {
     "name": "stdout",
     "text": "(1215890, 52)\n",
     "output_type": "stream"
    },
    {
     "execution_count": 9,
     "output_type": "execute_result",
     "data": {
      "text/plain": "   Unnamed: 0  Seq       Dur   RunTime      Mean       Sum       Min  \\\n0           0    1  0.000000  0.000000  0.000000  0.000000  0.000000   \n1           1    2  0.000000  0.000000  0.000000  0.000000  0.000000   \n2           2    3  4.998020  4.998020  4.998020  4.998020  4.998020   \n3           3    4  4.998037  4.998037  4.998037  4.998037  4.998037   \n4           4    5  4.999453  4.999453  4.999453  4.999453  4.999453   \n\n        Max Proto  sTos  ...  sVid dVid SrcTCPBase  DstTCPBase  TcpRtt  \\\n0  0.000000  icmp   0.0  ...   NaN  NaN        NaN         NaN     0.0   \n1  0.000000  icmp   0.0  ...   NaN  NaN        NaN         NaN     0.0   \n2  4.998020   udp   0.0  ...   NaN  NaN        NaN         NaN     0.0   \n3  4.998037   udp   0.0  ...   NaN  NaN        NaN         NaN     0.0   \n4  4.999453   udp   0.0  ...   NaN  NaN        NaN         NaN     0.0   \n\n   SynAck  AckDat   Label  Attack Type  Attack Tool  \n0     0.0     0.0  Benign       Benign       Benign  \n1     0.0     0.0  Benign       Benign       Benign  \n2     0.0     0.0  Benign       Benign       Benign  \n3     0.0     0.0  Benign       Benign       Benign  \n4     0.0     0.0  Benign       Benign       Benign  \n\n[5 rows x 52 columns]",
      "text/html": "<div>\n<style scoped>\n    .dataframe tbody tr th:only-of-type {\n        vertical-align: middle;\n    }\n\n    .dataframe tbody tr th {\n        vertical-align: top;\n    }\n\n    .dataframe thead th {\n        text-align: right;\n    }\n</style>\n<table border=\"1\" class=\"dataframe\">\n  <thead>\n    <tr style=\"text-align: right;\">\n      <th></th>\n      <th>Unnamed: 0</th>\n      <th>Seq</th>\n      <th>Dur</th>\n      <th>RunTime</th>\n      <th>Mean</th>\n      <th>Sum</th>\n      <th>Min</th>\n      <th>Max</th>\n      <th>Proto</th>\n      <th>sTos</th>\n      <th>...</th>\n      <th>sVid</th>\n      <th>dVid</th>\n      <th>SrcTCPBase</th>\n      <th>DstTCPBase</th>\n      <th>TcpRtt</th>\n      <th>SynAck</th>\n      <th>AckDat</th>\n      <th>Label</th>\n      <th>Attack Type</th>\n      <th>Attack Tool</th>\n    </tr>\n  </thead>\n  <tbody>\n    <tr>\n      <th>0</th>\n      <td>0</td>\n      <td>1</td>\n      <td>0.000000</td>\n      <td>0.000000</td>\n      <td>0.000000</td>\n      <td>0.000000</td>\n      <td>0.000000</td>\n      <td>0.000000</td>\n      <td>icmp</td>\n      <td>0.0</td>\n      <td>...</td>\n      <td>NaN</td>\n      <td>NaN</td>\n      <td>NaN</td>\n      <td>NaN</td>\n      <td>0.0</td>\n      <td>0.0</td>\n      <td>0.0</td>\n      <td>Benign</td>\n      <td>Benign</td>\n      <td>Benign</td>\n    </tr>\n    <tr>\n      <th>1</th>\n      <td>1</td>\n      <td>2</td>\n      <td>0.000000</td>\n      <td>0.000000</td>\n      <td>0.000000</td>\n      <td>0.000000</td>\n      <td>0.000000</td>\n      <td>0.000000</td>\n      <td>icmp</td>\n      <td>0.0</td>\n      <td>...</td>\n      <td>NaN</td>\n      <td>NaN</td>\n      <td>NaN</td>\n      <td>NaN</td>\n      <td>0.0</td>\n      <td>0.0</td>\n      <td>0.0</td>\n      <td>Benign</td>\n      <td>Benign</td>\n      <td>Benign</td>\n    </tr>\n    <tr>\n      <th>2</th>\n      <td>2</td>\n      <td>3</td>\n      <td>4.998020</td>\n      <td>4.998020</td>\n      <td>4.998020</td>\n      <td>4.998020</td>\n      <td>4.998020</td>\n      <td>4.998020</td>\n      <td>udp</td>\n      <td>0.0</td>\n      <td>...</td>\n      <td>NaN</td>\n      <td>NaN</td>\n      <td>NaN</td>\n      <td>NaN</td>\n      <td>0.0</td>\n      <td>0.0</td>\n      <td>0.0</td>\n      <td>Benign</td>\n      <td>Benign</td>\n      <td>Benign</td>\n    </tr>\n    <tr>\n      <th>3</th>\n      <td>3</td>\n      <td>4</td>\n      <td>4.998037</td>\n      <td>4.998037</td>\n      <td>4.998037</td>\n      <td>4.998037</td>\n      <td>4.998037</td>\n      <td>4.998037</td>\n      <td>udp</td>\n      <td>0.0</td>\n      <td>...</td>\n      <td>NaN</td>\n      <td>NaN</td>\n      <td>NaN</td>\n      <td>NaN</td>\n      <td>0.0</td>\n      <td>0.0</td>\n      <td>0.0</td>\n      <td>Benign</td>\n      <td>Benign</td>\n      <td>Benign</td>\n    </tr>\n    <tr>\n      <th>4</th>\n      <td>4</td>\n      <td>5</td>\n      <td>4.999453</td>\n      <td>4.999453</td>\n      <td>4.999453</td>\n      <td>4.999453</td>\n      <td>4.999453</td>\n      <td>4.999453</td>\n      <td>udp</td>\n      <td>0.0</td>\n      <td>...</td>\n      <td>NaN</td>\n      <td>NaN</td>\n      <td>NaN</td>\n      <td>NaN</td>\n      <td>0.0</td>\n      <td>0.0</td>\n      <td>0.0</td>\n      <td>Benign</td>\n      <td>Benign</td>\n      <td>Benign</td>\n    </tr>\n  </tbody>\n</table>\n<p>5 rows × 52 columns</p>\n</div>"
     },
     "metadata": {}
    }
   ]
  },
  {
   "cell_type": "code",
   "source": "num_classes = df['Attack Type'].nunique()\nlabels = df['Attack Type'].unique()\nprint(labels)\nprint(num_classes)",
   "metadata": {
    "execution": {
     "iopub.status.busy": "2024-03-13T00:52:59.832994Z",
     "iopub.execute_input": "2024-03-13T00:52:59.833419Z",
     "iopub.status.idle": "2024-03-13T00:53:00.018735Z",
     "shell.execute_reply.started": "2024-03-13T00:52:59.833386Z",
     "shell.execute_reply": "2024-03-13T00:53:00.017647Z"
    },
    "trusted": true
   },
   "execution_count": 10,
   "outputs": [
    {
     "name": "stdout",
     "text": "['Benign' 'SYNScan' 'TCPConnectScan' 'UDPScan' 'ICMPFlood' 'UDPFlood'\n 'SYNFlood' 'HTTPFlood' 'SlowrateDoS']\n9\n",
     "output_type": "stream"
    }
   ]
  },
  {
   "cell_type": "code",
   "source": "# Define a function to impute NaN values with the most frequent value in the group\ndef impute_most_frequent(group):\n    mode_value = group.mode().iloc[0] if not group.mode().empty else np.nan\n    return group.fillna(mode_value)\n\ndef handle_missing_values(df):\n    df.drop_duplicates(inplace=True)\n    df.drop(['sVid', 'dVid'], axis=1, inplace=True)\n    df.dropna(subset=['sTos', 'sHops', 'sTtl', 'sDSb'], how='any', inplace=True)\n    df[['dTtl', 'dDSb', 'dTos', 'dHops', 'SrcGap', 'DstGap']] = df.groupby('Attack Type')[['dTtl', 'dDSb', 'dTos', 'dHops', 'SrcGap', 'DstGap']].transform(impute_most_frequent)\n    df['dDSb'] = df['dDSb'].fillna('cs0')\n    \n    df_subset_copy = df[['dTtl', 'dTos', 'dHops', 'SrcGap', 'DstGap', 'SrcTCPBase', 'DstTCPBase', 'SrcWin', 'DstWin']].copy(deep=True)\n    mice_imputer = IterativeImputer()\n    df_subset_copy.iloc[:, :] = mice_imputer.fit_transform(df_subset_copy)\n    df[['dTtl', 'dTos', 'dHops', 'SrcGap', 'DstGap', 'SrcTCPBase', 'DstTCPBase', 'SrcWin', 'DstWin']] = df_subset_copy",
   "metadata": {
    "execution": {
     "iopub.status.busy": "2024-03-13T00:53:09.215604Z",
     "iopub.execute_input": "2024-03-13T00:53:09.216530Z",
     "iopub.status.idle": "2024-03-13T00:53:09.225459Z",
     "shell.execute_reply.started": "2024-03-13T00:53:09.216492Z",
     "shell.execute_reply": "2024-03-13T00:53:09.224425Z"
    },
    "trusted": true
   },
   "execution_count": 11,
   "outputs": []
  },
  {
   "cell_type": "code",
   "source": "def one_hot_encode(df):\n    proto_dummies = pd.get_dummies(df.Proto, dtype=int, prefix='Proto')\n    proto_dummies.drop(columns=['Proto_ipv6-icmp'], inplace=True)\n    sDSb_dummies = pd.get_dummies(df.sDSb, dtype=int, prefix='sDSb')\n    sDSb_dummies.drop(columns=['sDSb_39','sDSb_54', 'sDSb_4', 'sDSb_cs4'], inplace=True)\n    dDSb_dummies = pd.get_dummies(df.dDSb, dtype=int, prefix='dDSb')\n    dDSb_dummies.drop(columns=['dDSb_cs4'], inplace=True)\n    Cause_dummies = pd.get_dummies(df.Cause, dtype=int, prefix='Cause')\n    Cause_dummies.drop(columns=['Cause_Shutdown'], inplace=True)\n    State_dummies = pd.get_dummies(df.State, dtype=int, prefix='State')\n    State_dummies.drop(columns=['State_RSP','State_TST','State_NRS'], inplace=True)\n    X, y = df.loc[:, df.columns != 'Attack Type'], df['Attack Type']\n    X = pd.concat([X, proto_dummies, sDSb_dummies, dDSb_dummies, Cause_dummies, State_dummies], axis='columns')\n    df = pd.concat([X, y], axis='columns')\n    df.drop(columns=['Proto', 'sDSb', 'dDSb', 'Cause', 'State', 'Label', 'Unnamed: 0', 'Seq', 'RunTime', 'Mean', 'Sum', 'Min', 'Max', 'Attack Tool'], inplace=True)\n    return df",
   "metadata": {
    "execution": {
     "iopub.status.busy": "2024-03-13T00:53:10.259030Z",
     "iopub.execute_input": "2024-03-13T00:53:10.259985Z",
     "iopub.status.idle": "2024-03-13T00:53:10.270068Z",
     "shell.execute_reply.started": "2024-03-13T00:53:10.259945Z",
     "shell.execute_reply": "2024-03-13T00:53:10.269029Z"
    },
    "trusted": true
   },
   "execution_count": 12,
   "outputs": []
  },
  {
   "cell_type": "code",
   "source": "def normalize_dataframe(df):\n    X, y = df.loc[:, df.columns != 'Attack Type'], df['Attack Type']    \n    std_scaler = preprocessing.StandardScaler()\n    min_max_scaler = preprocessing\n    std_normalized = std_scaler.fit_transform(X)\n    X = pd.DataFrame(std_normalized, columns = X.columns, index = X.index)\n    df = pd.concat([X, y], axis='columns')   \n    return df",
   "metadata": {
    "execution": {
     "iopub.status.busy": "2024-03-13T00:53:14.154749Z",
     "iopub.execute_input": "2024-03-13T00:53:14.155135Z",
     "iopub.status.idle": "2024-03-13T00:53:14.161339Z",
     "shell.execute_reply.started": "2024-03-13T00:53:14.155108Z",
     "shell.execute_reply": "2024-03-13T00:53:14.160107Z"
    },
    "trusted": true
   },
   "execution_count": 13,
   "outputs": []
  },
  {
   "cell_type": "code",
   "source": "def label_encode(df):\n    # define ordinal encoding\n    le = LabelEncoder()\n    df['Attack Type'] = le.fit_transform(df['Attack Type'].iloc[:].values.ravel())\n    df['Attack Type'] = pd.to_numeric(df['Attack Type'], downcast='integer')\n    return df",
   "metadata": {
    "execution": {
     "iopub.status.busy": "2024-03-13T00:53:15.532275Z",
     "iopub.execute_input": "2024-03-13T00:53:15.533239Z",
     "iopub.status.idle": "2024-03-13T00:53:15.539276Z",
     "shell.execute_reply.started": "2024-03-13T00:53:15.533180Z",
     "shell.execute_reply": "2024-03-13T00:53:15.538156Z"
    },
    "trusted": true
   },
   "execution_count": 14,
   "outputs": []
  },
  {
   "cell_type": "code",
   "source": "def pre_process(df):\n    handle_missing_values(df)\n    df = one_hot_encode(df)\n    df = normalize_dataframe(df)\n    df = label_encode(df)\n    return df",
   "metadata": {
    "execution": {
     "iopub.status.busy": "2024-03-13T00:53:17.339405Z",
     "iopub.execute_input": "2024-03-13T00:53:17.339846Z",
     "iopub.status.idle": "2024-03-13T00:53:17.344889Z",
     "shell.execute_reply.started": "2024-03-13T00:53:17.339816Z",
     "shell.execute_reply": "2024-03-13T00:53:17.343908Z"
    },
    "trusted": true
   },
   "execution_count": 15,
   "outputs": []
  },
  {
   "cell_type": "code",
   "source": "df = pre_process(df)\ndf.head()",
   "metadata": {
    "execution": {
     "iopub.status.busy": "2024-03-13T00:53:29.456273Z",
     "iopub.execute_input": "2024-03-13T00:53:29.457171Z",
     "iopub.status.idle": "2024-03-13T00:53:48.821550Z",
     "shell.execute_reply.started": "2024-03-13T00:53:29.457135Z",
     "shell.execute_reply": "2024-03-13T00:53:48.820506Z"
    },
    "trusted": true
   },
   "execution_count": 16,
   "outputs": [
    {
     "execution_count": 16,
     "output_type": "execute_result",
     "data": {
      "text/plain": "        Dur      sTos      dTos      sTtl     dTtl     sHops     dHops  \\\n0 -0.807085 -0.069046 -0.094739 -0.419379 -0.00732  1.050111 -0.973059   \n1 -0.807085 -0.069046 -0.094739 -0.419379 -0.00732  1.050111 -0.973059   \n2  2.147963 -0.069046 -0.094739  0.635573 -0.00732  2.452913 -0.973059   \n3  2.147973 -0.069046 -0.094739  0.635573 -0.00732  2.452913 -0.973059   \n4  2.148810 -0.069046 -0.094739  0.635573 -0.00732  2.452913 -0.973059   \n\n    TotPkts    SrcPkts   DstPkts  ...  Cause_Status  State_ACC  State_CON  \\\n0 -0.167011  -0.146696 -0.115856  ...     -1.222812  -0.030217  -0.349225   \n1 -0.167011  -0.146696 -0.115856  ...     -1.222812  -0.030217  -0.349225   \n2  8.414004  10.443194  1.327973  ...     -1.222812  -0.030217   2.863486   \n3  7.205410   8.651059  1.568612  ...     -1.222812  -0.030217   2.863486   \n4  8.776582  10.877651  1.408186  ...     -1.222812  -0.030217   2.863486   \n\n   State_ECO  State_FIN  State_INT  State_REQ  State_RST  State_URP  \\\n0   6.417179  -0.226214  -0.608798  -0.969679  -0.257637  -0.025436   \n1   6.417179  -0.226214  -0.608798  -0.969679  -0.257637  -0.025436   \n2  -0.155832  -0.226214  -0.608798  -0.969679  -0.257637  -0.025436   \n3  -0.155832  -0.226214  -0.608798  -0.969679  -0.257637  -0.025436   \n4  -0.155832  -0.226214  -0.608798  -0.969679  -0.257637  -0.025436   \n\n   Attack Type  \n0            0  \n1            0  \n2            0  \n3            0  \n4            0  \n\n[5 rows x 63 columns]",
      "text/html": "<div>\n<style scoped>\n    .dataframe tbody tr th:only-of-type {\n        vertical-align: middle;\n    }\n\n    .dataframe tbody tr th {\n        vertical-align: top;\n    }\n\n    .dataframe thead th {\n        text-align: right;\n    }\n</style>\n<table border=\"1\" class=\"dataframe\">\n  <thead>\n    <tr style=\"text-align: right;\">\n      <th></th>\n      <th>Dur</th>\n      <th>sTos</th>\n      <th>dTos</th>\n      <th>sTtl</th>\n      <th>dTtl</th>\n      <th>sHops</th>\n      <th>dHops</th>\n      <th>TotPkts</th>\n      <th>SrcPkts</th>\n      <th>DstPkts</th>\n      <th>...</th>\n      <th>Cause_Status</th>\n      <th>State_ACC</th>\n      <th>State_CON</th>\n      <th>State_ECO</th>\n      <th>State_FIN</th>\n      <th>State_INT</th>\n      <th>State_REQ</th>\n      <th>State_RST</th>\n      <th>State_URP</th>\n      <th>Attack Type</th>\n    </tr>\n  </thead>\n  <tbody>\n    <tr>\n      <th>0</th>\n      <td>-0.807085</td>\n      <td>-0.069046</td>\n      <td>-0.094739</td>\n      <td>-0.419379</td>\n      <td>-0.00732</td>\n      <td>1.050111</td>\n      <td>-0.973059</td>\n      <td>-0.167011</td>\n      <td>-0.146696</td>\n      <td>-0.115856</td>\n      <td>...</td>\n      <td>-1.222812</td>\n      <td>-0.030217</td>\n      <td>-0.349225</td>\n      <td>6.417179</td>\n      <td>-0.226214</td>\n      <td>-0.608798</td>\n      <td>-0.969679</td>\n      <td>-0.257637</td>\n      <td>-0.025436</td>\n      <td>0</td>\n    </tr>\n    <tr>\n      <th>1</th>\n      <td>-0.807085</td>\n      <td>-0.069046</td>\n      <td>-0.094739</td>\n      <td>-0.419379</td>\n      <td>-0.00732</td>\n      <td>1.050111</td>\n      <td>-0.973059</td>\n      <td>-0.167011</td>\n      <td>-0.146696</td>\n      <td>-0.115856</td>\n      <td>...</td>\n      <td>-1.222812</td>\n      <td>-0.030217</td>\n      <td>-0.349225</td>\n      <td>6.417179</td>\n      <td>-0.226214</td>\n      <td>-0.608798</td>\n      <td>-0.969679</td>\n      <td>-0.257637</td>\n      <td>-0.025436</td>\n      <td>0</td>\n    </tr>\n    <tr>\n      <th>2</th>\n      <td>2.147963</td>\n      <td>-0.069046</td>\n      <td>-0.094739</td>\n      <td>0.635573</td>\n      <td>-0.00732</td>\n      <td>2.452913</td>\n      <td>-0.973059</td>\n      <td>8.414004</td>\n      <td>10.443194</td>\n      <td>1.327973</td>\n      <td>...</td>\n      <td>-1.222812</td>\n      <td>-0.030217</td>\n      <td>2.863486</td>\n      <td>-0.155832</td>\n      <td>-0.226214</td>\n      <td>-0.608798</td>\n      <td>-0.969679</td>\n      <td>-0.257637</td>\n      <td>-0.025436</td>\n      <td>0</td>\n    </tr>\n    <tr>\n      <th>3</th>\n      <td>2.147973</td>\n      <td>-0.069046</td>\n      <td>-0.094739</td>\n      <td>0.635573</td>\n      <td>-0.00732</td>\n      <td>2.452913</td>\n      <td>-0.973059</td>\n      <td>7.205410</td>\n      <td>8.651059</td>\n      <td>1.568612</td>\n      <td>...</td>\n      <td>-1.222812</td>\n      <td>-0.030217</td>\n      <td>2.863486</td>\n      <td>-0.155832</td>\n      <td>-0.226214</td>\n      <td>-0.608798</td>\n      <td>-0.969679</td>\n      <td>-0.257637</td>\n      <td>-0.025436</td>\n      <td>0</td>\n    </tr>\n    <tr>\n      <th>4</th>\n      <td>2.148810</td>\n      <td>-0.069046</td>\n      <td>-0.094739</td>\n      <td>0.635573</td>\n      <td>-0.00732</td>\n      <td>2.452913</td>\n      <td>-0.973059</td>\n      <td>8.776582</td>\n      <td>10.877651</td>\n      <td>1.408186</td>\n      <td>...</td>\n      <td>-1.222812</td>\n      <td>-0.030217</td>\n      <td>2.863486</td>\n      <td>-0.155832</td>\n      <td>-0.226214</td>\n      <td>-0.608798</td>\n      <td>-0.969679</td>\n      <td>-0.257637</td>\n      <td>-0.025436</td>\n      <td>0</td>\n    </tr>\n  </tbody>\n</table>\n<p>5 rows × 63 columns</p>\n</div>"
     },
     "metadata": {}
    }
   ]
  },
  {
   "cell_type": "code",
   "source": "# Train Test split\nX_train, X_test, y_train, y_test = train_test_split(df.loc[:, df.columns != 'Attack Type'], df['Attack Type'],\n                                                    stratify=df['Attack Type'], \n                                                    test_size=0.15)\n\nX_train = pd.DataFrame(X_train, columns=df.columns.to_list()[:-1])\nX_test = pd.DataFrame(X_test, columns=df.columns.to_list()[:-1])\ny_train = pd.DataFrame(y_train, columns=['Attack Type'])\ny_test = pd.DataFrame(y_test, columns=['Attack Type'])\n\nprint(\"Training dataset size:\", X_train.shape)\nprint(\"Testing dataset size:\", X_test.shape)\nprint(\"Training target size:\", y_train.shape)\nprint(\"Testing target size:\", y_test.shape)",
   "metadata": {
    "execution": {
     "iopub.status.busy": "2024-03-13T00:55:20.689119Z",
     "iopub.execute_input": "2024-03-13T00:55:20.689846Z",
     "iopub.status.idle": "2024-03-13T00:55:22.034466Z",
     "shell.execute_reply.started": "2024-03-13T00:55:20.689810Z",
     "shell.execute_reply": "2024-03-13T00:55:22.033198Z"
    },
    "trusted": true
   },
   "execution_count": 19,
   "outputs": [
    {
     "name": "stdout",
     "text": "Training dataset size: (1033323, 62)\nTesting dataset size: (182352, 62)\nTraining target size: (1033323, 1)\nTesting target size: (182352, 1)\n",
     "output_type": "stream"
    }
   ]
  },
  {
   "cell_type": "code",
   "source": "class CustomTabularDataset(Dataset):\n    def __init__(self, data):\n        # Load and preprocess your tabular data here\n        self.features = torch.tensor(data['features'].values, dtype=torch.float32)\n        self.labels = torch.tensor(data['labels'].values, dtype=torch.float32)\n\n    def __len__(self):\n        return len(self.features)\n\n    def __getitem__(self, idx):\n        return self.features[idx], self.labels[idx]",
   "metadata": {
    "execution": {
     "iopub.status.busy": "2024-03-13T00:55:37.326070Z",
     "iopub.execute_input": "2024-03-13T00:55:37.326520Z",
     "iopub.status.idle": "2024-03-13T00:55:37.333177Z",
     "shell.execute_reply.started": "2024-03-13T00:55:37.326488Z",
     "shell.execute_reply": "2024-03-13T00:55:37.332285Z"
    },
    "trusted": true
   },
   "execution_count": 20,
   "outputs": []
  },
  {
   "cell_type": "code",
   "source": "# obtain training indices that will be used for validation\nnum_train = len(X_train)\nindices = list(range(num_train))\n\nnp.random.shuffle(indices)\nsplit = int(np.floor(valid_size * (df.shape[0])))\ntrain_idx, valid_idx = indices[split:], indices[:split]\n\n# define samplers for obtaining training and validation batches\ntrain_sampler = SubsetRandomSampler(train_idx)\nvalid_sampler = SubsetRandomSampler(valid_idx)",
   "metadata": {
    "execution": {
     "iopub.status.busy": "2024-03-13T00:55:38.688355Z",
     "iopub.execute_input": "2024-03-13T00:55:38.689120Z",
     "iopub.status.idle": "2024-03-13T00:55:38.866087Z",
     "shell.execute_reply.started": "2024-03-13T00:55:38.689085Z",
     "shell.execute_reply": "2024-03-13T00:55:38.864771Z"
    },
    "trusted": true
   },
   "execution_count": 21,
   "outputs": []
  },
  {
   "cell_type": "code",
   "source": "print('Training set size:', num_train - split)\nprint('Validation set size:', split)\nprint('Testing set size:', len(X_test))",
   "metadata": {
    "execution": {
     "iopub.status.busy": "2024-03-13T00:55:40.278468Z",
     "iopub.execute_input": "2024-03-13T00:55:40.279234Z",
     "iopub.status.idle": "2024-03-13T00:55:40.284475Z",
     "shell.execute_reply.started": "2024-03-13T00:55:40.279191Z",
     "shell.execute_reply": "2024-03-13T00:55:40.283550Z"
    },
    "trusted": true
   },
   "execution_count": 22,
   "outputs": [
    {
     "name": "stdout",
     "text": "Training set size: 850972\nValidation set size: 182351\nTesting set size: 182352\n",
     "output_type": "stream"
    }
   ]
  },
  {
   "cell_type": "code",
   "source": "train_data = {'features': X_train,  # Your feature data (Pandas DataFrame or similar)\n        'labels': y_train}     # Your label data\n\ndataset = CustomTabularDataset(train_data)\n\n# prepare data loaders (combine dataset and sampler)\ntrain_loader = torch.utils.data.DataLoader(dataset, batch_size=batch_size,\n    sampler=train_sampler, num_workers=num_workers)\nvalid_loader = torch.utils.data.DataLoader(dataset, batch_size=batch_size,\n    sampler=valid_sampler, num_workers=num_workers)",
   "metadata": {
    "execution": {
     "iopub.status.busy": "2024-03-13T00:56:08.805456Z",
     "iopub.execute_input": "2024-03-13T00:56:08.806377Z",
     "iopub.status.idle": "2024-03-13T00:56:08.971989Z",
     "shell.execute_reply.started": "2024-03-13T00:56:08.806336Z",
     "shell.execute_reply": "2024-03-13T00:56:08.970957Z"
    },
    "trusted": true
   },
   "execution_count": 24,
   "outputs": []
  },
  {
   "cell_type": "code",
   "source": "# Number of features\nnum_features = X_train.shape[1]",
   "metadata": {
    "execution": {
     "iopub.status.busy": "2024-03-13T00:56:09.951945Z",
     "iopub.execute_input": "2024-03-13T00:56:09.952344Z",
     "iopub.status.idle": "2024-03-13T00:56:09.956853Z",
     "shell.execute_reply.started": "2024-03-13T00:56:09.952310Z",
     "shell.execute_reply": "2024-03-13T00:56:09.955855Z"
    },
    "trusted": true
   },
   "execution_count": 25,
   "outputs": []
  },
  {
   "cell_type": "code",
   "source": "# Creating a PyTorch class\n# input_features ==> 12 ==> 32\nclass Autoencoder(torch.nn.Module):\n    def __init__(self):\n        super().__init__()\n\n        # Building an linear encoder with Linear\n        # layer followed by Tanh activation function\n        # input_features ===> 12\n        self.encoder = torch.nn.Sequential(\n            torch.nn.Linear(num_features, 32),\n            torch.nn.Tanh(),\n            torch.nn.Linear(32, 16),\n            torch.nn.Tanh(),\n            torch.nn.Linear(16, 12),\n            torch.nn.Tanh(),  \n        )\n        \n        # Dense neural network layers\n        self.dense_nn = torch.nn.Sequential(\n            torch.nn.Linear(12, 32),  # Input size is 12 from the encoder\n            torch.nn.BatchNorm1d(32),            \n            torch.nn.ReLU(), \n            torch.nn.Dropout(0.2),            \n            torch.nn.Linear(32, 64),\n            torch.nn.BatchNorm1d(64),                \n            torch.nn.ReLU(),\n            torch.nn.Dropout(0.2),              \n            torch.nn.Linear(64, 32),\n            torch.nn.BatchNorm1d(32),                \n            torch.nn.ReLU(),\n            torch.nn.Dropout(0.2),            \n            torch.nn.Linear(32, num_classes),  # Output size is the number of classes\n            torch.nn.Softmax(dim=1)\n        )        \n\n    def forward(self, x):\n        encoded = self.encoder(x)\n        output = self.dense_nn(encoded)\n        return output",
   "metadata": {
    "execution": {
     "iopub.status.busy": "2024-03-13T00:56:12.278920Z",
     "iopub.execute_input": "2024-03-13T00:56:12.279351Z",
     "iopub.status.idle": "2024-03-13T00:56:12.343812Z",
     "shell.execute_reply.started": "2024-03-13T00:56:12.279319Z",
     "shell.execute_reply": "2024-03-13T00:56:12.342632Z"
    },
    "trusted": true
   },
   "execution_count": 26,
   "outputs": []
  },
  {
   "cell_type": "code",
   "source": "# Model Initialization\nmodel = Autoencoder()\n\n# Validation using MSE Loss function\nloss_function = torch.nn.CrossEntropyLoss()\n\n# Using an Adam Optimizer with lr = 0.1\noptimizer = torch.optim.Adam(model.parameters(),\n                            lr = 0.001,\n                            weight_decay = 1e-8)\n",
   "metadata": {
    "execution": {
     "iopub.status.busy": "2024-03-13T00:56:16.580468Z",
     "iopub.execute_input": "2024-03-13T00:56:16.580852Z",
     "iopub.status.idle": "2024-03-13T00:56:18.927337Z",
     "shell.execute_reply.started": "2024-03-13T00:56:16.580822Z",
     "shell.execute_reply": "2024-03-13T00:56:18.926458Z"
    },
    "trusted": true
   },
   "execution_count": 27,
   "outputs": []
  },
  {
   "cell_type": "code",
   "source": "# number of epochs to train the model\nn_epochs = 16\n\n# initialize tracker for minimum validation loss\nvalid_loss_min = np.Inf # set initial \"min\" to infinity\ntrain_loss_min = np.Inf # set initial \"min\" to infinity\n\n# Lists to store training and validation accuracy during training\ntraining_loss = np.array([])\nvalidation_loss = np.array([])\n\ntraining_accuracy = np.array([])\nvalidation_accuracy = np.array([])\n\n# Moving model tensor to GPU if available\nmodel = model.to(device)\n\nfor epoch in range(1, n_epochs+1):\n\n    # keep track of training and validation loss and accuracy\n    train_loss = 0.0\n    valid_loss = 0.0\n    total_train_correct = 0\n    total_train_samples = 0\n    total_valid_correct = 0\n    total_valid_samples = 0\n\n    ###################\n    # train the model #\n    ###################\n\n    # model by default is set to train\n    model.train()\n\n    for data, target in tqdm(train_loader):        \n\n        # Moving input tensors to GPU if available\n        data, target = data.to(device), target.to(device)\n\n        # Forward prop:\n\n        # forward pass: compute predicted outputs by passing inputs to the model\n        output = model(data.float())    \n        \n        # Moving output tensor to GPU if available\n        output = output.to(device)\n\n        # calculate the batch loss\n        loss = loss_function(output, target.reshape(-1).long())\n        \n        # Backward prop:\n\n        # clear the gradients of all optimized variables\n        optimizer.zero_grad()\n\n        # backward pass: compute gradient of the loss with respect to model parameters\n        loss.backward()\n\n        # perform a single optimization step (parameter update)\n        optimizer.step()\n\n        # Metrics:\n\n        # update training loss\n        train_loss += loss.item()\n\n        # Calculate training accuracy\n        _, predicted = torch.max(output, 1)\n        total_train_correct += (predicted == target.view(*predicted.shape)).sum().item()\n        total_train_samples += target.size(0)\n\n\n    ######################\n    # validate the model #\n    ######################\n\n    model.eval() # prep model for evaluation\n\n    for data, target in tqdm(valid_loader):\n        \n        # Moving input tensors to GPU if available\n        data, target = data.to(device), target.to(device)\n        \n        # forward pass: compute predicted outputs by passing inputs to the model\n        output = model(data.float())\n        output = output.to(device)\n        \n        # calculate the loss\n        loss = loss_function(output, target.reshape(-1).long())        \n        \n        # update running validation loss\n        valid_loss += loss.item()\n        \n        # Calculate validation accuracy\n        _, predicted = torch.max(output, 1)\n        total_valid_correct += (predicted == target.view(*predicted.shape)).sum().item()\n        total_valid_samples += target.size(0)\n\n\n    # print training/validation statistics\n    \n    train_acc = 100 * total_train_correct / total_train_samples\n    valid_acc = 100 * total_valid_correct / total_valid_samples\n    \n    training_accuracy = np.append(training_accuracy, train_acc)\n    validation_accuracy = np.append(validation_accuracy, valid_acc)\n    \n    # calculate average loss over an epoch\n    train_loss = train_loss/len(train_loader)\n    valid_loss = valid_loss/len(valid_loader)\n    \n    training_loss = np.append(training_loss, train_loss)\n    validation_loss = np.append(validation_loss, valid_loss)\n\n    print('Epoch: {} \\tTraining Loss: {:.6f} \\tValidation Loss: {:.6f}'.format(\n        epoch,\n        train_loss,\n        valid_loss\n    ))\n    \n    print('Epoch: {} \\tTraining Accuracy: {:.6f} \\tValidation Accuracy: {:.6f}'.format(\n        epoch,\n        train_acc,\n        valid_acc\n    ))\n\n    # save model if validation loss has decreased\n    if valid_loss <= valid_loss_min and train_loss <= train_loss_min:\n        print('Training loss decreased ({:.6f} --> {:.6f}).'.format(\n            train_loss_min,\n            train_loss))\n        print('Validation loss decreased ({:.6f} --> {:.6f}).  Saving model ...'.format(\n            valid_loss_min,\n            valid_loss))\n        torch.save(model.state_dict(), 'model_pytorch_autoencoders.pt')\n        valid_loss_min = valid_loss\n        train_loss_min = train_loss",
   "metadata": {
    "execution": {
     "iopub.status.busy": "2024-03-13T00:56:27.086907Z",
     "iopub.execute_input": "2024-03-13T00:56:27.087526Z",
     "iopub.status.idle": "2024-03-13T01:20:29.576109Z",
     "shell.execute_reply.started": "2024-03-13T00:56:27.087493Z",
     "shell.execute_reply": "2024-03-13T01:20:29.575031Z"
    },
    "trusted": true
   },
   "execution_count": 28,
   "outputs": [
    {
     "name": "stderr",
     "text": "100%|██████████| 13297/13297 [01:18<00:00, 168.89it/s]\n100%|██████████| 2850/2850 [00:09<00:00, 300.39it/s]\n",
     "output_type": "stream"
    },
    {
     "name": "stdout",
     "text": "Epoch: 1 \tTraining Loss: 1.391426 \tValidation Loss: 1.377563\nEpoch: 1 \tTraining Accuracy: 98.346949 \tValidation Accuracy: 99.437349\nTraining loss decreased (inf --> 1.391426).\nValidation loss decreased (inf --> 1.377563).  Saving model ...\n",
     "output_type": "stream"
    },
    {
     "name": "stderr",
     "text": "100%|██████████| 13297/13297 [01:18<00:00, 169.32it/s]\n100%|██████████| 2850/2850 [00:09<00:00, 309.28it/s]\n",
     "output_type": "stream"
    },
    {
     "name": "stdout",
     "text": "Epoch: 2 \tTraining Loss: 1.378452 \tValidation Loss: 1.376958\nEpoch: 2 \tTraining Accuracy: 99.359791 \tValidation Accuracy: 99.499866\nTraining loss decreased (1.391426 --> 1.378452).\nValidation loss decreased (1.377563 --> 1.376958).  Saving model ...\n",
     "output_type": "stream"
    },
    {
     "name": "stderr",
     "text": "100%|██████████| 13297/13297 [01:18<00:00, 168.48it/s]\n100%|██████████| 2850/2850 [00:09<00:00, 295.73it/s]\n",
     "output_type": "stream"
    },
    {
     "name": "stdout",
     "text": "Epoch: 3 \tTraining Loss: 1.377866 \tValidation Loss: 1.377336\nEpoch: 3 \tTraining Accuracy: 99.410439 \tValidation Accuracy: 99.462027\n",
     "output_type": "stream"
    },
    {
     "name": "stderr",
     "text": "100%|██████████| 13297/13297 [01:20<00:00, 165.87it/s]\n100%|██████████| 2850/2850 [00:09<00:00, 307.18it/s]\n",
     "output_type": "stream"
    },
    {
     "name": "stdout",
     "text": "Epoch: 4 \tTraining Loss: 1.377825 \tValidation Loss: 1.376995\nEpoch: 4 \tTraining Accuracy: 99.415374 \tValidation Accuracy: 99.492737\n",
     "output_type": "stream"
    },
    {
     "name": "stderr",
     "text": "100%|██████████| 13297/13297 [01:19<00:00, 166.24it/s]\n100%|██████████| 2850/2850 [00:09<00:00, 294.92it/s]\n",
     "output_type": "stream"
    },
    {
     "name": "stdout",
     "text": "Epoch: 5 \tTraining Loss: 1.377608 \tValidation Loss: 1.377311\nEpoch: 5 \tTraining Accuracy: 99.437349 \tValidation Accuracy: 99.466414\n",
     "output_type": "stream"
    },
    {
     "name": "stderr",
     "text": "100%|██████████| 13297/13297 [01:19<00:00, 166.60it/s]\n100%|██████████| 2850/2850 [00:09<00:00, 309.75it/s]\n",
     "output_type": "stream"
    },
    {
     "name": "stdout",
     "text": "Epoch: 6 \tTraining Loss: 1.376260 \tValidation Loss: 1.375781\nEpoch: 6 \tTraining Accuracy: 99.572254 \tValidation Accuracy: 99.616673\nTraining loss decreased (1.378452 --> 1.376260).\nValidation loss decreased (1.376958 --> 1.375781).  Saving model ...\n",
     "output_type": "stream"
    },
    {
     "name": "stderr",
     "text": "100%|██████████| 13297/13297 [01:20<00:00, 164.79it/s]\n100%|██████████| 2850/2850 [00:09<00:00, 291.95it/s]\n",
     "output_type": "stream"
    },
    {
     "name": "stdout",
     "text": "Epoch: 7 \tTraining Loss: 1.376614 \tValidation Loss: 1.375617\nEpoch: 7 \tTraining Accuracy: 99.535590 \tValidation Accuracy: 99.633125\n",
     "output_type": "stream"
    },
    {
     "name": "stderr",
     "text": "100%|██████████| 13297/13297 [01:22<00:00, 160.54it/s]\n100%|██████████| 2850/2850 [00:09<00:00, 297.30it/s]\n",
     "output_type": "stream"
    },
    {
     "name": "stdout",
     "text": "Epoch: 8 \tTraining Loss: 1.376168 \tValidation Loss: 1.375598\nEpoch: 8 \tTraining Accuracy: 99.580715 \tValidation Accuracy: 99.635867\nTraining loss decreased (1.376260 --> 1.376168).\nValidation loss decreased (1.375781 --> 1.375598).  Saving model ...\n",
     "output_type": "stream"
    },
    {
     "name": "stderr",
     "text": "100%|██████████| 13297/13297 [01:19<00:00, 168.07it/s]\n100%|██████████| 2850/2850 [00:09<00:00, 296.40it/s]\n",
     "output_type": "stream"
    },
    {
     "name": "stdout",
     "text": "Epoch: 9 \tTraining Loss: 1.376643 \tValidation Loss: 1.377470\nEpoch: 9 \tTraining Accuracy: 99.531712 \tValidation Accuracy: 99.447220\n",
     "output_type": "stream"
    },
    {
     "name": "stderr",
     "text": "100%|██████████| 13297/13297 [01:19<00:00, 166.38it/s]\n100%|██████████| 2850/2850 [00:09<00:00, 311.92it/s]\n",
     "output_type": "stream"
    },
    {
     "name": "stdout",
     "text": "Epoch: 10 \tTraining Loss: 1.376198 \tValidation Loss: 1.378944\nEpoch: 10 \tTraining Accuracy: 99.577072 \tValidation Accuracy: 99.301896\n",
     "output_type": "stream"
    },
    {
     "name": "stderr",
     "text": "100%|██████████| 13297/13297 [01:20<00:00, 166.02it/s]\n100%|██████████| 2850/2850 [00:09<00:00, 307.71it/s]\n",
     "output_type": "stream"
    },
    {
     "name": "stdout",
     "text": "Epoch: 11 \tTraining Loss: 1.376558 \tValidation Loss: 1.377532\nEpoch: 11 \tTraining Accuracy: 99.540408 \tValidation Accuracy: 99.441736\n",
     "output_type": "stream"
    },
    {
     "name": "stderr",
     "text": "100%|██████████| 13297/13297 [01:21<00:00, 162.99it/s]\n100%|██████████| 2850/2850 [00:09<00:00, 297.50it/s]\n",
     "output_type": "stream"
    },
    {
     "name": "stdout",
     "text": "Epoch: 12 \tTraining Loss: 1.376261 \tValidation Loss: 1.375570\nEpoch: 12 \tTraining Accuracy: 99.569551 \tValidation Accuracy: 99.638061\n",
     "output_type": "stream"
    },
    {
     "name": "stderr",
     "text": "100%|██████████| 13297/13297 [01:20<00:00, 165.13it/s]\n100%|██████████| 2850/2850 [00:09<00:00, 304.48it/s]\n",
     "output_type": "stream"
    },
    {
     "name": "stdout",
     "text": "Epoch: 13 \tTraining Loss: 1.376534 \tValidation Loss: 1.378951\nEpoch: 13 \tTraining Accuracy: 99.542876 \tValidation Accuracy: 99.299702\n",
     "output_type": "stream"
    },
    {
     "name": "stderr",
     "text": "100%|██████████| 13297/13297 [01:22<00:00, 161.22it/s]\n100%|██████████| 2850/2850 [00:09<00:00, 285.63it/s]\n",
     "output_type": "stream"
    },
    {
     "name": "stdout",
     "text": "Epoch: 14 \tTraining Loss: 1.376196 \tValidation Loss: 1.375833\nEpoch: 14 \tTraining Accuracy: 99.576602 \tValidation Accuracy: 99.611189\n",
     "output_type": "stream"
    },
    {
     "name": "stderr",
     "text": "100%|██████████| 13297/13297 [01:24<00:00, 157.37it/s]\n100%|██████████| 2850/2850 [00:09<00:00, 295.31it/s]\n",
     "output_type": "stream"
    },
    {
     "name": "stdout",
     "text": "Epoch: 15 \tTraining Loss: 1.376302 \tValidation Loss: 1.376625\nEpoch: 15 \tTraining Accuracy: 99.565908 \tValidation Accuracy: 99.532221\n",
     "output_type": "stream"
    },
    {
     "name": "stderr",
     "text": "100%|██████████| 13297/13297 [01:21<00:00, 163.52it/s]\n100%|██████████| 2850/2850 [00:10<00:00, 276.71it/s]",
     "output_type": "stream"
    },
    {
     "name": "stdout",
     "text": "Epoch: 16 \tTraining Loss: 1.376213 \tValidation Loss: 1.376277\nEpoch: 16 \tTraining Accuracy: 99.574017 \tValidation Accuracy: 99.567318\n",
     "output_type": "stream"
    },
    {
     "name": "stderr",
     "text": "\n",
     "output_type": "stream"
    }
   ]
  },
  {
   "cell_type": "code",
   "source": "fig, ax = plt.subplots(2, 1, figsize=(8, 8))\nepochs = np.arange(1, n_epochs+1)\n\n# First row for accuracy\nax[0].plot(epochs, training_accuracy, label='Training Accuracy', marker='o')\nax[0].plot(epochs, validation_accuracy, label='Validation Accuracy', marker='x')\nax[0].set_xlabel('Epoch')\nax[0].set_ylabel('Accuracy', color='black')\nax[0].tick_params(axis='y', labelcolor='black')\nax[0].legend(loc='lower right')\nax[0].grid(True)\n\n\n# Second row for loss\nax[1].plot(epochs, training_loss, label='Training Loss', marker='o')\nax[1].plot(epochs, validation_loss, label='Validation Loss', marker='x')\nax[1].set_xlabel('Epoch')\nax[1].set_ylabel('Loss', color='black')\nax[1].tick_params(axis='y', labelcolor='black')\nax[1].legend(loc='upper right')\nax[1].grid(True)\n\nplt.tight_layout()\nplt.show()",
   "metadata": {
    "execution": {
     "iopub.status.busy": "2024-03-13T01:26:22.226204Z",
     "iopub.execute_input": "2024-03-13T01:26:22.227173Z",
     "iopub.status.idle": "2024-03-13T01:26:22.902246Z",
     "shell.execute_reply.started": "2024-03-13T01:26:22.227136Z",
     "shell.execute_reply": "2024-03-13T01:26:22.901117Z"
    },
    "trusted": true
   },
   "execution_count": 29,
   "outputs": [
    {
     "output_type": "display_data",
     "data": {
      "text/plain": "<Figure size 800x800 with 2 Axes>",
      "image/png": "[encoded data removed]"
     },
     "metadata": {}
    }
   ]
  },
  {
   "cell_type": "markdown",
   "source": "Testing phase:",
   "metadata": {}
  },
  {
   "cell_type": "code",
   "source": "print(\"Testing dataset size:\", X_test.shape)\nprint(\"Testing target size:\", y_test.shape)\n\nX_test.head()",
   "metadata": {
    "execution": {
     "iopub.status.busy": "2024-03-13T01:28:54.299473Z",
     "iopub.execute_input": "2024-03-13T01:28:54.299912Z",
     "iopub.status.idle": "2024-03-13T01:28:54.329732Z",
     "shell.execute_reply.started": "2024-03-13T01:28:54.299879Z",
     "shell.execute_reply": "2024-03-13T01:28:54.328741Z"
    },
    "trusted": true
   },
   "execution_count": 30,
   "outputs": [
    {
     "name": "stdout",
     "text": "Testing dataset size: (182352, 62)\nTesting target size: (182352, 1)\n",
     "output_type": "stream"
    },
    {
     "execution_count": 30,
     "output_type": "execute_result",
     "data": {
      "text/plain": "              Dur      sTos          dTos      sTtl          dTtl     sHops  \\\n321026   0.717735 -0.069046 -9.473906e-02 -0.329976 -7.320131e-03 -0.352692   \n1010867  0.719005 -0.069046 -1.773502e-16 -0.329976  1.190749e-13 -0.352692   \n141875   1.893564 -0.069046 -1.773502e-16 -0.329976  1.190749e-13 -0.352692   \n487847  -0.807085 -0.069046 -9.473906e-02 -0.329976 -7.320131e-03 -0.352692   \n920222  -0.807085 -0.069046 -1.773502e-16 -0.329976  1.190749e-13 -0.352692   \n\n                dHops   TotPkts   SrcPkts   DstPkts  ...  Cause_Start  \\\n321026  -9.730588e-01 -0.126725 -0.092389 -0.115856  ...    -0.816804   \n1010867 -1.939318e-13 -0.126725 -0.092389 -0.115856  ...    -0.816804   \n141875  -1.939318e-13 -0.086438 -0.038082 -0.115856  ...    -0.816804   \n487847  -9.730588e-01 -0.167011 -0.146696 -0.115856  ...    -0.816804   \n920222  -1.939318e-13 -0.167011 -0.146696 -0.115856  ...    -0.816804   \n\n         Cause_Status  State_ACC  State_CON  State_ECO  State_FIN  State_INT  \\\n321026       0.817787  -0.030217  -0.349225  -0.155832  -0.226214  -0.608798   \n1010867      0.817787  -0.030217  -0.349225  -0.155832  -0.226214  -0.608798   \n141875       0.817787  -0.030217  -0.349225  -0.155832  -0.226214  -0.608798   \n487847       0.817787  -0.030217  -0.349225  -0.155832  -0.226214  -0.608798   \n920222       0.817787  -0.030217  -0.349225  -0.155832  -0.226214  -0.608798   \n\n         State_REQ  State_RST  State_URP  \n321026    1.031269  -0.257637  -0.025436  \n1010867   1.031269  -0.257637  -0.025436  \n141875    1.031269  -0.257637  -0.025436  \n487847    1.031269  -0.257637  -0.025436  \n920222    1.031269  -0.257637  -0.025436  \n\n[5 rows x 62 columns]",
      "text/html": "<div>\n<style scoped>\n    .dataframe tbody tr th:only-of-type {\n        vertical-align: middle;\n    }\n\n    .dataframe tbody tr th {\n        vertical-align: top;\n    }\n\n    .dataframe thead th {\n        text-align: right;\n    }\n</style>\n<table border=\"1\" class=\"dataframe\">\n  <thead>\n    <tr style=\"text-align: right;\">\n      <th></th>\n      <th>Dur</th>\n      <th>sTos</th>\n      <th>dTos</th>\n      <th>sTtl</th>\n      <th>dTtl</th>\n      <th>sHops</th>\n      <th>dHops</th>\n      <th>TotPkts</th>\n      <th>SrcPkts</th>\n      <th>DstPkts</th>\n      <th>...</th>\n      <th>Cause_Start</th>\n      <th>Cause_Status</th>\n      <th>State_ACC</th>\n      <th>State_CON</th>\n      <th>State_ECO</th>\n      <th>State_FIN</th>\n      <th>State_INT</th>\n      <th>State_REQ</th>\n      <th>State_RST</th>\n      <th>State_URP</th>\n    </tr>\n  </thead>\n  <tbody>\n    <tr>\n      <th>321026</th>\n      <td>0.717735</td>\n      <td>-0.069046</td>\n      <td>-9.473906e-02</td>\n      <td>-0.329976</td>\n      <td>-7.320131e-03</td>\n      <td>-0.352692</td>\n      <td>-9.730588e-01</td>\n      <td>-0.126725</td>\n      <td>-0.092389</td>\n      <td>-0.115856</td>\n      <td>...</td>\n      <td>-0.816804</td>\n      <td>0.817787</td>\n      <td>-0.030217</td>\n      <td>-0.349225</td>\n      <td>-0.155832</td>\n      <td>-0.226214</td>\n      <td>-0.608798</td>\n      <td>1.031269</td>\n      <td>-0.257637</td>\n      <td>-0.025436</td>\n    </tr>\n    <tr>\n      <th>1010867</th>\n      <td>0.719005</td>\n      <td>-0.069046</td>\n      <td>-1.773502e-16</td>\n      <td>-0.329976</td>\n      <td>1.190749e-13</td>\n      <td>-0.352692</td>\n      <td>-1.939318e-13</td>\n      <td>-0.126725</td>\n      <td>-0.092389</td>\n      <td>-0.115856</td>\n      <td>...</td>\n      <td>-0.816804</td>\n      <td>0.817787</td>\n      <td>-0.030217</td>\n      <td>-0.349225</td>\n      <td>-0.155832</td>\n      <td>-0.226214</td>\n      <td>-0.608798</td>\n      <td>1.031269</td>\n      <td>-0.257637</td>\n      <td>-0.025436</td>\n    </tr>\n    <tr>\n      <th>141875</th>\n      <td>1.893564</td>\n      <td>-0.069046</td>\n      <td>-1.773502e-16</td>\n      <td>-0.329976</td>\n      <td>1.190749e-13</td>\n      <td>-0.352692</td>\n      <td>-1.939318e-13</td>\n      <td>-0.086438</td>\n      <td>-0.038082</td>\n      <td>-0.115856</td>\n      <td>...</td>\n      <td>-0.816804</td>\n      <td>0.817787</td>\n      <td>-0.030217</td>\n      <td>-0.349225</td>\n      <td>-0.155832</td>\n      <td>-0.226214</td>\n      <td>-0.608798</td>\n      <td>1.031269</td>\n      <td>-0.257637</td>\n      <td>-0.025436</td>\n    </tr>\n    <tr>\n      <th>487847</th>\n      <td>-0.807085</td>\n      <td>-0.069046</td>\n      <td>-9.473906e-02</td>\n      <td>-0.329976</td>\n      <td>-7.320131e-03</td>\n      <td>-0.352692</td>\n      <td>-9.730588e-01</td>\n      <td>-0.167011</td>\n      <td>-0.146696</td>\n      <td>-0.115856</td>\n      <td>...</td>\n      <td>-0.816804</td>\n      <td>0.817787</td>\n      <td>-0.030217</td>\n      <td>-0.349225</td>\n      <td>-0.155832</td>\n      <td>-0.226214</td>\n      <td>-0.608798</td>\n      <td>1.031269</td>\n      <td>-0.257637</td>\n      <td>-0.025436</td>\n    </tr>\n    <tr>\n      <th>920222</th>\n      <td>-0.807085</td>\n      <td>-0.069046</td>\n      <td>-1.773502e-16</td>\n      <td>-0.329976</td>\n      <td>1.190749e-13</td>\n      <td>-0.352692</td>\n      <td>-1.939318e-13</td>\n      <td>-0.167011</td>\n      <td>-0.146696</td>\n      <td>-0.115856</td>\n      <td>...</td>\n      <td>-0.816804</td>\n      <td>0.817787</td>\n      <td>-0.030217</td>\n      <td>-0.349225</td>\n      <td>-0.155832</td>\n      <td>-0.226214</td>\n      <td>-0.608798</td>\n      <td>1.031269</td>\n      <td>-0.257637</td>\n      <td>-0.025436</td>\n    </tr>\n  </tbody>\n</table>\n<p>5 rows × 62 columns</p>\n</div>"
     },
     "metadata": {}
    }
   ]
  },
  {
   "cell_type": "code",
   "source": "y_test.head()",
   "metadata": {
    "execution": {
     "iopub.status.busy": "2024-03-13T01:28:59.343006Z",
     "iopub.execute_input": "2024-03-13T01:28:59.343722Z",
     "iopub.status.idle": "2024-03-13T01:28:59.353601Z",
     "shell.execute_reply.started": "2024-03-13T01:28:59.343674Z",
     "shell.execute_reply": "2024-03-13T01:28:59.352498Z"
    },
    "trusted": true
   },
   "execution_count": 31,
   "outputs": [
    {
     "execution_count": 31,
     "output_type": "execute_result",
     "data": {
      "text/plain": "         Attack Type\n321026             0\n1010867            7\n141875             7\n487847             0\n920222             7",
      "text/html": "<div>\n<style scoped>\n    .dataframe tbody tr th:only-of-type {\n        vertical-align: middle;\n    }\n\n    .dataframe tbody tr th {\n        vertical-align: top;\n    }\n\n    .dataframe thead th {\n        text-align: right;\n    }\n</style>\n<table border=\"1\" class=\"dataframe\">\n  <thead>\n    <tr style=\"text-align: right;\">\n      <th></th>\n      <th>Attack Type</th>\n    </tr>\n  </thead>\n  <tbody>\n    <tr>\n      <th>321026</th>\n      <td>0</td>\n    </tr>\n    <tr>\n      <th>1010867</th>\n      <td>7</td>\n    </tr>\n    <tr>\n      <th>141875</th>\n      <td>7</td>\n    </tr>\n    <tr>\n      <th>487847</th>\n      <td>0</td>\n    </tr>\n    <tr>\n      <th>920222</th>\n      <td>7</td>\n    </tr>\n  </tbody>\n</table>\n</div>"
     },
     "metadata": {}
    }
   ]
  },
  {
   "cell_type": "code",
   "source": "test_data = {'features': X_test,  # Your feature data (Pandas DataFrame or similar)\n        'labels': y_test}     # Your label data\n\ntest_dataset = CustomTabularDataset(test_data)",
   "metadata": {
    "execution": {
     "iopub.status.busy": "2024-03-13T01:29:02.726709Z",
     "iopub.execute_input": "2024-03-13T01:29:02.727079Z",
     "iopub.status.idle": "2024-03-13T01:29:02.752994Z",
     "shell.execute_reply.started": "2024-03-13T01:29:02.727053Z",
     "shell.execute_reply": "2024-03-13T01:29:02.751628Z"
    },
    "trusted": true
   },
   "execution_count": 32,
   "outputs": []
  },
  {
   "cell_type": "code",
   "source": "test_loader = torch.utils.data.DataLoader(test_dataset, batch_size=batch_size,\n    num_workers=num_workers)",
   "metadata": {
    "execution": {
     "iopub.status.busy": "2024-03-13T01:29:10.175883Z",
     "iopub.execute_input": "2024-03-13T01:29:10.176712Z",
     "iopub.status.idle": "2024-03-13T01:29:10.181303Z",
     "shell.execute_reply.started": "2024-03-13T01:29:10.176669Z",
     "shell.execute_reply": "2024-03-13T01:29:10.180265Z"
    },
    "trusted": true
   },
   "execution_count": 33,
   "outputs": []
  },
  {
   "cell_type": "code",
   "source": "model.load_state_dict(torch.load('model_pytorch_autoencoders.pt'))",
   "metadata": {
    "execution": {
     "iopub.status.busy": "2024-03-13T01:29:11.669261Z",
     "iopub.execute_input": "2024-03-13T01:29:11.670004Z",
     "iopub.status.idle": "2024-03-13T01:29:11.685870Z",
     "shell.execute_reply.started": "2024-03-13T01:29:11.669972Z",
     "shell.execute_reply": "2024-03-13T01:29:11.684784Z"
    },
    "trusted": true
   },
   "execution_count": 34,
   "outputs": [
    {
     "execution_count": 34,
     "output_type": "execute_result",
     "data": {
      "text/plain": "<All keys matched successfully>"
     },
     "metadata": {}
    }
   ]
  },
  {
   "cell_type": "code",
   "source": "le_name_mapping = {'Benign': 0, 'HTTPFlood': 1, 'ICMPFlood': 2, 'SYNFlood': 3, 'SYNScan': 4, 'SlowrateDoS': 5, 'TCPConnectScan': 6, 'UDPFlood': 7, 'UDPScan': 8}\nle_name_mapping",
   "metadata": {
    "execution": {
     "iopub.status.busy": "2024-03-13T01:33:36.266318Z",
     "iopub.execute_input": "2024-03-13T01:33:36.267025Z",
     "iopub.status.idle": "2024-03-13T01:33:36.274416Z",
     "shell.execute_reply.started": "2024-03-13T01:33:36.266992Z",
     "shell.execute_reply": "2024-03-13T01:33:36.273392Z"
    },
    "trusted": true
   },
   "execution_count": 39,
   "outputs": [
    {
     "execution_count": 39,
     "output_type": "execute_result",
     "data": {
      "text/plain": "{'Benign': 0,\n 'HTTPFlood': 1,\n 'ICMPFlood': 2,\n 'SYNFlood': 3,\n 'SYNScan': 4,\n 'SlowrateDoS': 5,\n 'TCPConnectScan': 6,\n 'UDPFlood': 7,\n 'UDPScan': 8}"
     },
     "metadata": {}
    }
   ]
  },
  {
   "cell_type": "code",
   "source": "# initialize lists to monitor test loss and accuracy\ntest_loss = 0.0\n\nclass_correct = list(0. for i in range(num_classes))\nclass_total = list(0. for i in range(num_classes))\n\n# Moving model tensor to GPU if available\nmodel = model.to(device)\n\nmodel.eval() # prep model for evaluation\n\nfor data, target in tqdm(test_loader):\n    \n    # Moving input tensors to GPU if available\n    data, target = data.to(device), target.to(device)    \n    \n    # forward pass: compute predicted outputs by passing inputs to the model\n    output = model(data.float())\n    output = output.to(device)    \n    \n    # calculate the loss\n    loss = loss_function(output, target.reshape(-1).long())\n    \n    # update test loss\n    test_loss += loss.item()*data.size(0)\n    \n    # convert output probabilities to predicted class\n    _, pred = torch.max(output, 1)\n    \n    # compare predictions to true label\n    correct = np.squeeze(pred.eq(target.data.view_as(pred)))\n    \n    # calculate test accuracy for each object class\n    for i in range(data.shape[0]):\n        label = int(target.data[i].item())\n        class_correct[label] += int(correct[i].item())\n        class_total[label] += 1\n\n# calculate and print avg test loss\ntest_loss = test_loss/len(test_loader.dataset)\nprint('Test Loss: {:.6f}\\n'.format(test_loss))\n\nlabel_map = {}\nfor k, v in le_name_mapping.items():\n    label_map[v] = k\n\nfor i in range(num_classes):\n    if class_total[i] > 0:\n        print(f'Test Accuracy of {str(i)}-{label_map[i]:<25}: {100 * class_correct[i] / class_total[i]:.6f}% ({int(np.sum(class_correct[i])):<2}/{int(np.sum(class_total[i])):<2})')\n    else:\n        print(f'Test Accuracy of {label_map[i]:<25}: N/A (no training examples)')\n\nprint(f'\\nTest Accuracy (Overall): {100. * np.sum(class_correct) / np.sum(class_total):.6f}% ({int(np.sum(class_correct))} / {int(np.sum(class_total))})')",
   "metadata": {
    "execution": {
     "iopub.status.busy": "2024-03-13T01:33:45.426655Z",
     "iopub.execute_input": "2024-03-13T01:33:45.427026Z",
     "iopub.status.idle": "2024-03-13T01:34:01.854884Z",
     "shell.execute_reply.started": "2024-03-13T01:33:45.426998Z",
     "shell.execute_reply": "2024-03-13T01:34:01.853471Z"
    },
    "trusted": true
   },
   "execution_count": 40,
   "outputs": [
    {
     "name": "stderr",
     "text": "100%|██████████| 2850/2850 [00:16<00:00, 173.71it/s]",
     "output_type": "stream"
    },
    {
     "name": "stdout",
     "text": "Test Loss: 1.375518\n\nTest Accuracy of 0-Benign                   : 99.956721% (71598/71629)\nTest Accuracy of 1-HTTPFlood                : 99.521826% (21021/21122)\nTest Accuracy of 2-ICMPFlood                : 100.000000% (173/173)\nTest Accuracy of 3-SYNFlood                 : 85.665295% (1249/1458)\nTest Accuracy of 4-SYNScan                  : 99.800399% (3000/3006)\nTest Accuracy of 5-SlowrateDoS              : 97.438235% (10688/10969)\nTest Accuracy of 6-TCPConnectScan           : 99.368351% (2989/3008)\nTest Accuracy of 7-UDPFlood                 : 100.000000% (68601/68601)\nTest Accuracy of 8-UDPScan                  : 99.790444% (2381/2386)\n\nTest Accuracy (Overall): 99.642450% (181700 / 182352)\n",
     "output_type": "stream"
    },
    {
     "name": "stderr",
     "text": "\n",
     "output_type": "stream"
    }
   ]
  },
  {
   "cell_type": "code",
   "source": "",
   "metadata": {},
   "execution_count": null,
   "outputs": []
  }
 ]
}
