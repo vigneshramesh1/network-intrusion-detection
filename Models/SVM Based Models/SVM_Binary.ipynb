{
 "cells": [
  {
   "cell_type": "code",
   "execution_count": 1,
   "metadata": {
    "id": "lOiQmYiK6m7v"
   },
   "outputs": [],
   "source": [
    "# from google.colab import drive\n",
    "# drive.mount('/content/drive')"
   ]
  },
  {
   "cell_type": "code",
   "execution_count": 2,
   "metadata": {
    "id": "bRRmce3T6xLM"
   },
   "outputs": [],
   "source": [
    "import numpy as np # linear algebra\n",
    "import pandas as pd # data processing, CSV file I/O (e.g. pd.read_csv)\n",
    "import seaborn as sns\n",
    "import matplotlib.pyplot as plt\n",
    "from sklearn.model_selection import train_test_split\n",
    "from sklearn.preprocessing import LabelEncoder\n",
    "from sklearn.svm import SVC\n",
    "from sklearn import metrics\n",
    "from sklearn.metrics import classification_report, confusion_matrix\n",
    "from sklearn.svm import LinearSVC\n",
    "from sklearn.feature_selection import mutual_info_classif\n",
    "from sklearn.tree import DecisionTreeRegressor\n",
    "from sklearn.preprocessing import StandardScaler\n",
    "from sklearn.model_selection import GridSearchCV\n",
    "from sklearn.feature_selection import mutual_info_regression\n",
    "from sklearn.metrics import accuracy_score, precision_score, recall_score, f1_score\n",
    "from sklearn.decomposition import PCA\n",
    "from sklearn.model_selection import StratifiedKFold\n",
    "from time import time\n",
    "import warnings"
   ]
  },
  {
   "cell_type": "code",
   "execution_count": 3,
   "metadata": {
    "id": "Rz7fX-8qn2vR"
   },
   "outputs": [],
   "source": [
    "warnings.filterwarnings('ignore')"
   ]
  },
  {
   "cell_type": "code",
   "execution_count": 4,
   "metadata": {
    "id": "CR8ozqfs61jS"
   },
   "outputs": [],
   "source": [
    "# For Google Drive\n",
    "# PATH = '/content/drive/MyDrive/SER 517/Dataset/'\n",
    "# Dataset = pd.read_csv(PATH + 'csv_preprocessed.csv')\n",
    "\n",
    "# # For Local Jupyter Notebook\n",
    "PATH = 'C:\\\\Users\\\\josep\\\\OneDrive\\\\Desktop\\\\Capstone\\\\Jupyter\\\\Dataset\\\\'\n",
    "Dataset = pd.read_csv(PATH + 'csv_preprocessed.csv')\n",
    "\n",
    "# Dataset = pd.read_csv('/scratch/vrames25/NIDS/datasets/csv_preprocessed.csv', low_memory=False)"
   ]
  },
  {
   "cell_type": "code",
   "execution_count": 5,
   "metadata": {
    "id": "GY1SlrFd-eCl"
   },
   "outputs": [],
   "source": [
    "# Classiying all malicious attacks as 1\n",
    "\n",
    "Dataset['Attack Type'] = Dataset['Attack Type'].apply(lambda x: 0 if x == 0 else 1)"
   ]
  },
  {
   "cell_type": "code",
   "execution_count": 6,
   "metadata": {
    "colab": {
     "base_uri": "https://localhost:8080/",
     "height": 313
    },
    "id": "vw1OTZV87idI",
    "outputId": "22f310bb-89b1-42b1-a782-93daead5cab3"
   },
   "outputs": [],
   "source": [
    "data = Dataset[[\"SrcWin\", \"DstWin\", \"dHops\", \"dTtl\", \"TotBytes\", \"SrcBytes\", \"sMeanPktSz\", \"DstGap\", \"SrcGap\", \"dTos\", \"DstTCPBase\", \"SrcTCPBase\", \"TcpRtt\", \"Proto_udp\", \"DstBytes\", \"AckDat\" , \"dMeanPktSz\", \"Proto_tcp\", \"SynAck\", \"Load\", \"Rate\", \"DstPkts\", \"SrcLoad\", \"Dur\", \"SrcRate\"]]"
   ]
  },
  {
   "cell_type": "code",
   "execution_count": 7,
   "metadata": {
    "id": "Vl_tMQyv_bGY"
   },
   "outputs": [],
   "source": [
    "def concat_column(dataset, column_name):\n",
    "  concat_column_data = pd.concat([dataset, Dataset[column_name]], axis = 1)\n",
    "  return concat_column_data\n",
    "\n",
    "data = concat_column(data, \"Attack Type\")"
   ]
  },
  {
   "cell_type": "code",
   "execution_count": 8,
   "metadata": {
    "colab": {
     "base_uri": "https://localhost:8080/"
    },
    "id": "nZdZcL4lAJlD",
    "outputId": "e7c1d4eb-aa89-45fb-82e2-26e907d8d67e"
   },
   "outputs": [
    {
     "name": "stdout",
     "output_type": "stream",
     "text": [
      "Training dataset size: (1033323, 25)\n",
      "Testing dataset size: (182352, 25)\n",
      "Training target size: (1033323, 1)\n",
      "Testing target size: (182352, 1)\n"
     ]
    }
   ],
   "source": [
    "# Segregate features and labels into separate variables\n",
    "X_train, X_test, y_train, y_test = train_test_split(data.loc[:, data.columns != 'Attack Type'], data['Attack Type'],\n",
    "                                                    stratify=data['Attack Type'],\n",
    "                                                    test_size=0.15)\n",
    "\n",
    "X_train = pd.DataFrame(X_train, columns=data.columns.to_list()[:-1])\n",
    "X_test = pd.DataFrame(X_test, columns=data.columns.to_list()[:-1])\n",
    "y_train = pd.DataFrame(y_train, columns=['Attack Type'])\n",
    "y_test = pd.DataFrame(y_test, columns=['Attack Type'])\n",
    "\n",
    "print(\"Training dataset size:\", X_train.shape)\n",
    "print(\"Testing dataset size:\", X_test.shape)\n",
    "print(\"Training target size:\", y_train.shape)\n",
    "print(\"Testing target size:\", y_test.shape)"
   ]
  },
  {
   "cell_type": "code",
   "execution_count": 9,
   "metadata": {
    "id": "nY80xQZAAYWU"
   },
   "outputs": [],
   "source": [
    "# def get_pca_df(dataset, no_of_components):\n",
    "#   from sklearn.decomposition import PCA\n",
    "#   pca = PCA(n_components=no_of_components)\n",
    "#   Principal_components=pca.fit_transform(dataset)\n",
    "#   column_names = [\"PC \"+str(i) for i in range(1, no_of_components+1)]\n",
    "#   pca_df = pd.DataFrame(data = Principal_components, columns = column_names)\n",
    "#   return pca_df, pca\n",
    "\n",
    "\n",
    "def pca_train_test(X_train, X_test, no_of_components):\n",
    "\n",
    "  # Initialize PCA model\n",
    "  pca = PCA(n_components=no_of_components)\n",
    "\n",
    "  # Fit and transform the training data\n",
    "  Principal_components_train = pca.fit_transform(X_train)\n",
    "  column_names = [\"PC \" + str(i) for i in range(1, no_of_components + 1)]\n",
    "\n",
    "  # Create a DataFrame for the training data\n",
    "  train_data = pd.DataFrame(data=Principal_components_train, columns=column_names)\n",
    "\n",
    "  # # Transform the test data using the same PCA model\n",
    "  # Principal_components_test = pca.transform(X_test)\n",
    "\n",
    "  # # Create a DataFrame for the test data\n",
    "  # test_data = pd.DataFrame(data=Principal_components_test, columns=column_names)\n",
    "\n",
    "  test_data = pca.transform(X_test)\n",
    "\n",
    "  return train_data, test_data"
   ]
  },
  {
   "cell_type": "code",
   "execution_count": 10,
   "metadata": {
    "id": "fCEWPtHDAvW2"
   },
   "outputs": [],
   "source": [
    "X_train, X_test = pca_train_test(X_train, X_test, 15)"
   ]
  },
  {
   "cell_type": "code",
   "execution_count": 11,
   "metadata": {
    "id": "lfDPhY_fnyqV"
   },
   "outputs": [],
   "source": [
    "y_train = y_train.values.ravel()"
   ]
  },
  {
   "cell_type": "code",
   "execution_count": 12,
   "metadata": {
    "id": "IAo_5PvnCbEl",
    "outputId": "057d558d-53f5-45dd-9ff9-01f209af4a01"
   },
   "outputs": [],
   "source": [
    "# Initialize and train the SVC model\n",
    "svc_model = SVC(kernel='rbf', random_state=42)  # You can choose different kernels like 'rbf', 'poly', etc.\n",
    "start_time = time()\n",
    "svc_model.fit(X_train, y_train)\n",
    "end_time = time()"
   ]
  },
  {
   "cell_type": "code",
   "execution_count": 13,
   "metadata": {
    "id": "tODlwXykpJuz"
   },
   "outputs": [
    {
     "name": "stdout",
     "output_type": "stream",
     "text": [
      " Train start: 1713836808.2693658\n",
      " Train end: 1713848261.7741961\n",
      " Training time: 11453.504830360413 seconds\n",
      "\n"
     ]
    }
   ],
   "source": [
    "print(f' Train start: {start_time}')\n",
    "print(f' Train end: {end_time}')\n",
    "print(f' Training time: {end_time - start_time} seconds\\n')"
   ]
  },
  {
   "cell_type": "code",
   "execution_count": 14,
   "metadata": {
    "id": "vhCxaDtEeRcV",
    "outputId": "7f6d2c2d-25fb-4ea6-ffc9-bf97337820b8"
   },
   "outputs": [],
   "source": [
    "# Predictions\n",
    "prediction_start_time = time()\n",
    "y_pred_SVC = svc_model.predict(X_test)\n",
    "prediction_end_time = time()"
   ]
  },
  {
   "cell_type": "code",
   "execution_count": 15,
   "metadata": {
    "id": "KnKu60dSpjsB"
   },
   "outputs": [
    {
     "name": "stdout",
     "output_type": "stream",
     "text": [
      " Prediction start: 1713848261.8217452\n",
      " Prediction end: 1713848280.145665\n",
      " Prediction time: 18.323919773101807 seconds\n",
      "\n"
     ]
    }
   ],
   "source": [
    "print(f' Prediction start: {prediction_start_time}')\n",
    "print(f' Prediction end: {prediction_end_time}')\n",
    "print(f' Prediction time: {prediction_end_time - prediction_start_time} seconds\\n')"
   ]
  },
  {
   "cell_type": "code",
   "execution_count": 16,
   "metadata": {
    "id": "e7YtOL7lFp32",
    "outputId": "9c5a5a47-9d8f-413b-bf34-9bf286fdf9e9"
   },
   "outputs": [
    {
     "name": "stdout",
     "output_type": "stream",
     "text": [
      "Confusion Matrix:\n",
      "[[ 71629      0]\n",
      " [     2 110721]]\n"
     ]
    }
   ],
   "source": [
    "# Compute and print the confusion matrix\n",
    "conf_matrix = confusion_matrix(y_test, y_pred_SVC)\n",
    "print('Confusion Matrix:')\n",
    "print(conf_matrix)"
   ]
  },
  {
   "cell_type": "code",
   "execution_count": 17,
   "metadata": {
    "id": "z0npATKAp4-V"
   },
   "outputs": [],
   "source": [
    "le_name_mapping = {'Benign': 0, 'Malicious': 1}"
   ]
  },
  {
   "cell_type": "code",
   "execution_count": 18,
   "metadata": {
    "id": "QsvPAmwLp5rd"
   },
   "outputs": [],
   "source": [
    "# Creating  a confusion matrix,which compares the y_test and y_pred\n",
    "cm = confusion_matrix(y_test, y_pred_SVC)"
   ]
  },
  {
   "cell_type": "code",
   "execution_count": 19,
   "metadata": {
    "id": "_lOWCbVcqLkp"
   },
   "outputs": [],
   "source": [
    "# Creating a dataframe for a array-formatted Confusion matrix,so it will be easy for plotting.\n",
    "cm_df = pd.DataFrame(cm,\n",
    "                     index = le_name_mapping.keys(),\n",
    "                     columns = le_name_mapping.keys())"
   ]
  },
  {
   "cell_type": "code",
   "execution_count": 23,
   "metadata": {
    "id": "N2SVdTPTBUeI",
    "outputId": "a4e918b1-fe14-4d52-de4e-217403ff35d8"
   },
   "outputs": [
    {
     "data": {
      "image/png": "[encoded data removed]",
      "text/plain": [
       "<Figure size 1000x800 with 2 Axes>"
      ]
     },
     "metadata": {},
     "output_type": "display_data"
    }
   ],
   "source": [
    "#Plotting the confusion matrix\n",
    "plt.figure(figsize=(10,8))\n",
    "sns.heatmap(cm_df, annot=True, fmt='d')\n",
    "plt.title('Confusion Matrix')\n",
    "plt.ylabel('Actual Values')\n",
    "plt.xlabel('Predicted Values')\n",
    "plt.savefig('confusion_matrix_svm_binary.png')"
   ]
  },
  {
   "cell_type": "code",
   "execution_count": 24,
   "metadata": {
    "id": "P7iMv4GzBdlA",
    "outputId": "890992e5-9b04-4218-aa26-b9e5e4190ad1"
   },
   "outputs": [
    {
     "name": "stdout",
     "output_type": "stream",
     "text": [
      "Accuracy: 0.9999890322014565\n"
     ]
    }
   ],
   "source": [
    "accuracy = accuracy_score(y_test, y_pred_SVC)\n",
    "print(f'Accuracy: {accuracy}')"
   ]
  },
  {
   "cell_type": "code",
   "execution_count": 25,
   "metadata": {
    "id": "HZG_jsshBdv8",
    "outputId": "dfc1d689-8d9c-4f01-8d24-2b863457b109"
   },
   "outputs": [
    {
     "name": "stdout",
     "output_type": "stream",
     "text": [
      "Precision: 0.9999890325076871\n"
     ]
    }
   ],
   "source": [
    "precision = precision_score(y_test, y_pred_SVC, average='weighted') # Use 'binary' for binary classification\n",
    "print(f'Precision: {precision}')"
   ]
  },
  {
   "cell_type": "code",
   "execution_count": 26,
   "metadata": {
    "id": "SS6uFDzJBd3G",
    "outputId": "cf337207-baa9-488f-afaf-3899253affba"
   },
   "outputs": [
    {
     "name": "stdout",
     "output_type": "stream",
     "text": [
      "Recall: 0.9999890322014565\n"
     ]
    }
   ],
   "source": [
    "recall = recall_score(y_test, y_pred_SVC, average='weighted') # Use 'binary' for binary classification\n",
    "print(f'Recall: {recall}')"
   ]
  },
  {
   "cell_type": "code",
   "execution_count": 27,
   "metadata": {
    "id": "QQCfxPqXBd6x",
    "outputId": "a74175d0-4e15-43d6-b0c2-1bdc2c1fd75d"
   },
   "outputs": [
    {
     "name": "stdout",
     "output_type": "stream",
     "text": [
      "F1 Score: 0.9999890322284867\n"
     ]
    }
   ],
   "source": [
    "f1 = f1_score(y_test, y_pred_SVC, average='weighted') # Use 'binary' for binary classification\n",
    "print(f'F1 Score: {f1}')"
   ]
  },
  {
   "cell_type": "code",
   "execution_count": 29,
   "metadata": {
    "id": "qflX0oApBd-B",
    "outputId": "2f5fe95e-7771-48b6-d386-95d9fbb9561e"
   },
   "outputs": [
    {
     "data": {
      "image/png": "[encoded data removed]",
      "text/plain": [
       "<Figure size 1000x600 with 1 Axes>"
      ]
     },
     "metadata": {},
     "output_type": "display_data"
    }
   ],
   "source": [
    "# Assuming metrics are stored in these variables\n",
    "metrics = {\n",
    "    'Accuracy': accuracy,\n",
    "    'Precision': precision,\n",
    "    'Recall': recall,\n",
    "    'F1 Score': f1,\n",
    "    # 'ROC-AUC': roc_auc  # Uncomment if ROC-AUC is applicable and calculated\n",
    "}\n",
    "\n",
    "# Convert dictionary to lists for plotting\n",
    "metric_names = list(metrics.keys())\n",
    "metric_values = [metrics[metric] for metric in metric_names]\n",
    "\n",
    "# Create bar plot\n",
    "sns.set_style(\"whitegrid\")\n",
    "plt.figure(figsize=(10, 6))\n",
    "sns.barplot(x=metric_values, y=metric_names, palette=\"viridis\")\n",
    "\n",
    "plt.xlabel('Score')\n",
    "plt.ylabel('Metric')\n",
    "plt.title('SVM Binary Classification Metrics')\n",
    "plt.xlim(0, 1)  # Assuming the scores are between 0 and 1\n",
    "plt.savefig('svm_binary_metrics.png')"
   ]
  }
 ],
 "metadata": {
  "accelerator": "GPU",
  "colab": {
   "gpuType": "T4",
   "provenance": []
  },
  "kernelspec": {
   "display_name": "Python 3 (ipykernel)",
   "language": "python",
   "name": "python3"
  },
  "language_info": {
   "codemirror_mode": {
    "name": "ipython",
    "version": 3
   },
   "file_extension": ".py",
   "mimetype": "text/x-python",
   "name": "python",
   "nbconvert_exporter": "python",
   "pygments_lexer": "ipython3",
   "version": "3.12.2"
  }
 },
 "nbformat": 4,
 "nbformat_minor": 4
}
