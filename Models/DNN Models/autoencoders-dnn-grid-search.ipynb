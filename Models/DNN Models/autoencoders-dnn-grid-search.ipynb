{
 "metadata": {
  "kernelspec": {
   "language": "python",
   "display_name": "Python 3",
   "name": "python3"
  },
  "language_info": {
   "name": "python",
   "version": "3.10.13",
   "mimetype": "text/x-python",
   "codemirror_mode": {
    "name": "ipython",
    "version": 3
   },
   "pygments_lexer": "ipython3",
   "nbconvert_exporter": "python",
   "file_extension": ".py"
  },
  "kaggle": {
   "accelerator": "gpu",
   "dataSources": [
    {
     "sourceId": 7890000,
     "sourceType": "datasetVersion",
     "datasetId": 4632204
    },
    {
     "sourceId": 5022035,
     "sourceType": "datasetVersion",
     "datasetId": 2914217
    }
   ],
   "dockerImageVersionId": 30674,
   "isInternetEnabled": true,
   "language": "python",
   "sourceType": "notebook",
   "isGpuEnabled": true
  }
 },
 "nbformat_minor": 4,
 "nbformat": 4,
 "cells": [
  {
   "cell_type": "code",
   "source": [
    "# This Python 3 environment comes with many helpful analytics libraries installed\n",
    "# It is defined by the kaggle/python Docker image: https://github.com/kaggle/docker-python\n",
    "# For example, here's several helpful packages to load\n",
    "\n",
    "import numpy as np # linear algebra\n",
    "import pandas as pd # data processing, CSV file I/O (e.g. pd.read_csv)\n",
    "\n",
    "# Input data files are available in the read-only \"../input/\" directory\n",
    "# For example, running this (by clicking run or pressing Shift+Enter) will list all files under the input directory\n",
    "\n",
    "import os\n",
    "for dirname, _, filenames in os.walk('/kaggle/input'):\n",
    "    for filename in filenames:\n",
    "        print(os.path.join(dirname, filename))\n",
    "\n",
    "# You can write up to 20GB to the current directory (/kaggle/working/) that gets preserved as output when you create a version using \"Save & Run All\" \n",
    "# You can also write temporary files to /kaggle/temp/, but they won't be saved outside of the current session"
   ],
   "metadata": {
    "_uuid": "8f2839f25d086af736a60e9eeb907d3b93b6e0e5",
    "_cell_guid": "b1076dfc-b9ad-4769-8c92-a6c4dae69d19",
    "execution": {
     "iopub.status.busy": "2024-04-05T00:47:47.523921Z",
     "iopub.execute_input": "2024-04-05T00:47:47.524334Z",
     "iopub.status.idle": "2024-04-05T00:47:48.436769Z",
     "shell.execute_reply.started": "2024-04-05T00:47:47.524300Z",
     "shell.execute_reply": "2024-04-05T00:47:48.435795Z"
    },
    "trusted": true
   },
   "execution_count": 1,
   "outputs": [
    {
     "name": "stdout",
     "text": "/kaggle/input/csv-preprocessed/csv_preprocessed.csv\n/kaggle/input/5g-nidd-dataset/Combined.csv\n",
     "output_type": "stream"
    }
   ]
  },
  {
   "cell_type": "code",
   "source": [
    "import shutil\n",
    "\n",
    "input_path = '/kaggle/input/csv-preprocessed'\n",
    "output_path = '/kaggle/working/csv-preprocessed'\n",
    "# Copy dataset into working directory\n",
    "shutil.copytree(input_path, output_path)"
   ],
   "metadata": {
    "execution": {
     "iopub.status.busy": "2024-04-05T00:47:55.751543Z",
     "iopub.execute_input": "2024-04-05T00:47:55.752323Z",
     "iopub.status.idle": "2024-04-05T00:48:05.873775Z",
     "shell.execute_reply.started": "2024-04-05T00:47:55.752290Z",
     "shell.execute_reply": "2024-04-05T00:48:05.872916Z"
    },
    "trusted": true
   },
   "execution_count": 2,
   "outputs": [
    {
     "execution_count": 2,
     "output_type": "execute_result",
     "data": {
      "text/plain": "'/kaggle/working/csv-preprocessed'"
     },
     "metadata": {}
    }
   ]
  },
  {
   "cell_type": "code",
   "source": [
    "cd /kaggle/working/csv-preprocessed"
   ],
   "metadata": {
    "execution": {
     "iopub.status.busy": "2024-04-05T00:48:23.415483Z",
     "iopub.execute_input": "2024-04-05T00:48:23.416241Z",
     "iopub.status.idle": "2024-04-05T00:48:23.422527Z",
     "shell.execute_reply.started": "2024-04-05T00:48:23.416207Z",
     "shell.execute_reply": "2024-04-05T00:48:23.421480Z"
    },
    "trusted": true
   },
   "execution_count": 3,
   "outputs": [
    {
     "name": "stdout",
     "text": "/kaggle/working/csv-preprocessed\n",
     "output_type": "stream"
    }
   ]
  },
  {
   "cell_type": "code",
   "source": [
    "!pip install torch\n",
    "!pip install skorch\n",
    "!pip install torchmetrics --upgrade"
   ],
   "metadata": {
    "execution": {
     "iopub.status.busy": "2024-04-05T01:06:23.282503Z",
     "iopub.execute_input": "2024-04-05T01:06:23.283545Z",
     "iopub.status.idle": "2024-04-05T01:07:02.215014Z",
     "shell.execute_reply.started": "2024-04-05T01:06:23.283509Z",
     "shell.execute_reply": "2024-04-05T01:07:02.213801Z"
    },
    "trusted": true
   },
   "execution_count": 25,
   "outputs": [
    {
     "name": "stdout",
     "text": "Requirement already satisfied: torch in /opt/conda/lib/python3.10/site-packages (2.1.2)\nRequirement already satisfied: filelock in /opt/conda/lib/python3.10/site-packages (from torch) (3.13.1)\nRequirement already satisfied: typing-extensions in /opt/conda/lib/python3.10/site-packages (from torch) (4.9.0)\nRequirement already satisfied: sympy in /opt/conda/lib/python3.10/site-packages (from torch) (1.12)\nRequirement already satisfied: networkx in /opt/conda/lib/python3.10/site-packages (from torch) (3.2.1)\nRequirement already satisfied: jinja2 in /opt/conda/lib/python3.10/site-packages (from torch) (3.1.2)\nRequirement already satisfied: fsspec in /opt/conda/lib/python3.10/site-packages (from torch) (2024.3.0)\nRequirement already satisfied: MarkupSafe>=2.0 in /opt/conda/lib/python3.10/site-packages (from jinja2->torch) (2.1.3)\nRequirement already satisfied: mpmath>=0.19 in /opt/conda/lib/python3.10/site-packages (from sympy->torch) (1.3.0)\nCollecting skorch\n  Downloading skorch-0.15.0-py3-none-any.whl.metadata (11 kB)\nRequirement already satisfied: numpy>=1.13.3 in /opt/conda/lib/python3.10/site-packages (from skorch) (1.26.4)\nRequirement already satisfied: scikit-learn>=0.22.0 in /opt/conda/lib/python3.10/site-packages (from skorch) (1.2.2)\nRequirement already satisfied: scipy>=1.1.0 in /opt/conda/lib/python3.10/site-packages (from skorch) (1.11.4)\nRequirement already satisfied: tabulate>=0.7.7 in /opt/conda/lib/python3.10/site-packages (from skorch) (0.9.0)\nRequirement already satisfied: tqdm>=4.14.0 in /opt/conda/lib/python3.10/site-packages (from skorch) (4.66.1)\nRequirement already satisfied: joblib>=1.1.1 in /opt/conda/lib/python3.10/site-packages (from scikit-learn>=0.22.0->skorch) (1.3.2)\nRequirement already satisfied: threadpoolctl>=2.0.0 in /opt/conda/lib/python3.10/site-packages (from scikit-learn>=0.22.0->skorch) (3.2.0)\nDownloading skorch-0.15.0-py3-none-any.whl (239 kB)\n\u001B[2K   \u001B[90m━━━━━━━━━━━━━━━━━━━━━━━━━━━━━━━━━━━━━━━━\u001B[0m \u001B[32m239.3/239.3 kB\u001B[0m \u001B[31m8.2 MB/s\u001B[0m eta \u001B[36m0:00:00\u001B[0m\n\u001B[?25hInstalling collected packages: skorch\nSuccessfully installed skorch-0.15.0\nRequirement already satisfied: torchmetrics in /opt/conda/lib/python3.10/site-packages (1.3.2)\nRequirement already satisfied: numpy>1.20.0 in /opt/conda/lib/python3.10/site-packages (from torchmetrics) (1.26.4)\nRequirement already satisfied: packaging>17.1 in /opt/conda/lib/python3.10/site-packages (from torchmetrics) (21.3)\nRequirement already satisfied: torch>=1.10.0 in /opt/conda/lib/python3.10/site-packages (from torchmetrics) (2.1.2)\nRequirement already satisfied: lightning-utilities>=0.8.0 in /opt/conda/lib/python3.10/site-packages (from torchmetrics) (0.10.1)\nRequirement already satisfied: setuptools in /opt/conda/lib/python3.10/site-packages (from lightning-utilities>=0.8.0->torchmetrics) (69.0.3)\nRequirement already satisfied: typing-extensions in /opt/conda/lib/python3.10/site-packages (from lightning-utilities>=0.8.0->torchmetrics) (4.9.0)\nRequirement already satisfied: pyparsing!=3.0.5,>=2.0.2 in /opt/conda/lib/python3.10/site-packages (from packaging>17.1->torchmetrics) (3.1.1)\nRequirement already satisfied: filelock in /opt/conda/lib/python3.10/site-packages (from torch>=1.10.0->torchmetrics) (3.13.1)\nRequirement already satisfied: sympy in /opt/conda/lib/python3.10/site-packages (from torch>=1.10.0->torchmetrics) (1.12)\nRequirement already satisfied: networkx in /opt/conda/lib/python3.10/site-packages (from torch>=1.10.0->torchmetrics) (3.2.1)\nRequirement already satisfied: jinja2 in /opt/conda/lib/python3.10/site-packages (from torch>=1.10.0->torchmetrics) (3.1.2)\nRequirement already satisfied: fsspec in /opt/conda/lib/python3.10/site-packages (from torch>=1.10.0->torchmetrics) (2024.3.0)\nRequirement already satisfied: MarkupSafe>=2.0 in /opt/conda/lib/python3.10/site-packages (from jinja2->torch>=1.10.0->torchmetrics) (2.1.3)\nRequirement already satisfied: mpmath>=0.19 in /opt/conda/lib/python3.10/site-packages (from sympy->torch>=1.10.0->torchmetrics) (1.3.0)\n",
     "output_type": "stream"
    }
   ]
  },
  {
   "cell_type": "code",
   "source": [
    "import numpy as np\n",
    "import pandas as pd\n",
    "import matplotlib.pyplot as plt\n",
    "import seaborn as sns\n",
    "import multiprocessing\n",
    "import scipy\n",
    "import sklearn\n",
    "import torch\n",
    "from torch.utils.data import Dataset, DataLoader\n",
    "from torch.utils.data.sampler import SubsetRandomSampler\n",
    "from tqdm import tqdm\n",
    "import torch.nn.functional as F\n",
    "from sklearn.model_selection import train_test_split\n",
    "from sklearn.metrics import accuracy_score\n",
    "import torchmetrics\n",
    "from skorch import NeuralNetClassifier"
   ],
   "metadata": {
    "execution": {
     "iopub.status.busy": "2024-04-05T01:07:33.647488Z",
     "iopub.execute_input": "2024-04-05T01:07:33.648268Z",
     "iopub.status.idle": "2024-04-05T01:07:33.713595Z",
     "shell.execute_reply.started": "2024-04-05T01:07:33.648220Z",
     "shell.execute_reply": "2024-04-05T01:07:33.712846Z"
    },
    "trusted": true
   },
   "execution_count": 26,
   "outputs": []
  },
  {
   "cell_type": "code",
   "source": [
    "# Use GPU if it's available\n",
    "device = torch.device(\"cuda\" if torch.cuda.is_available() else \"cpu\")\n",
    "print('Torch', torch.__version__, 'CUDA', torch.version.cuda)\n",
    "print('Device:', torch.device('cuda:0'))\n",
    "device"
   ],
   "metadata": {
    "execution": {
     "iopub.status.busy": "2024-04-05T00:59:41.834599Z",
     "iopub.execute_input": "2024-04-05T00:59:41.835265Z",
     "iopub.status.idle": "2024-04-05T00:59:41.843576Z",
     "shell.execute_reply.started": "2024-04-05T00:59:41.835233Z",
     "shell.execute_reply": "2024-04-05T00:59:41.842602Z"
    },
    "trusted": true
   },
   "execution_count": 9,
   "outputs": [
    {
     "name": "stdout",
     "text": "Torch 2.1.2 CUDA 12.1\nDevice: cuda:0\n",
     "output_type": "stream"
    },
    {
     "execution_count": 9,
     "output_type": "execute_result",
     "data": {
      "text/plain": "device(type='cuda')"
     },
     "metadata": {}
    }
   ]
  },
  {
   "cell_type": "code",
   "source": [
    "# number of subprocesses to use for data loading\n",
    "num_workers = multiprocessing.cpu_count()\n",
    "\n",
    "# how many samples per batch to load\n",
    "batch_size = 64\n",
    "\n",
    "# percentage of data set to use as validation\n",
    "valid_size = 0.15"
   ],
   "metadata": {
    "execution": {
     "iopub.status.busy": "2024-04-05T00:59:43.289298Z",
     "iopub.execute_input": "2024-04-05T00:59:43.289920Z",
     "iopub.status.idle": "2024-04-05T00:59:43.295666Z",
     "shell.execute_reply.started": "2024-04-05T00:59:43.289878Z",
     "shell.execute_reply": "2024-04-05T00:59:43.294385Z"
    },
    "trusted": true
   },
   "execution_count": 10,
   "outputs": []
  },
  {
   "cell_type": "code",
   "source": [
    "df = pd.read_csv('csv_preprocessed.csv', low_memory=False)\n",
    "print(df.shape)\n",
    "df.head()"
   ],
   "metadata": {
    "execution": {
     "iopub.status.busy": "2024-04-05T00:59:44.074269Z",
     "iopub.execute_input": "2024-04-05T00:59:44.074907Z",
     "iopub.status.idle": "2024-04-05T01:00:05.180028Z",
     "shell.execute_reply.started": "2024-04-05T00:59:44.074872Z",
     "shell.execute_reply": "2024-04-05T01:00:05.179110Z"
    },
    "trusted": true
   },
   "execution_count": 11,
   "outputs": [
    {
     "name": "stdout",
     "text": "(1215675, 63)\n",
     "output_type": "stream"
    },
    {
     "execution_count": 11,
     "output_type": "execute_result",
     "data": {
      "text/plain": "        Dur      sTos      dTos      sTtl     dTtl     sHops     dHops  \\\n0 -0.807085 -0.069046 -0.094739 -0.419379 -0.00732  1.050111 -0.973059   \n1 -0.807085 -0.069046 -0.094739 -0.419379 -0.00732  1.050111 -0.973059   \n2  2.147963 -0.069046 -0.094739  0.635573 -0.00732  2.452913 -0.973059   \n3  2.147973 -0.069046 -0.094739  0.635573 -0.00732  2.452913 -0.973059   \n4  2.148810 -0.069046 -0.094739  0.635573 -0.00732  2.452913 -0.973059   \n\n    TotPkts    SrcPkts   DstPkts  ...  Cause_Status  State_ACC  State_CON  \\\n0 -0.167011  -0.146696 -0.115856  ...           0.0        0.0        0.0   \n1 -0.167011  -0.146696 -0.115856  ...           0.0        0.0        0.0   \n2  8.414004  10.443194  1.327973  ...           0.0        0.0        1.0   \n3  7.205410   8.651059  1.568612  ...           0.0        0.0        1.0   \n4  8.776582  10.877651  1.408186  ...           0.0        0.0        1.0   \n\n   State_ECO  State_FIN  State_INT  State_REQ  State_RST  State_URP  \\\n0        1.0        0.0        0.0        0.0        0.0        0.0   \n1        1.0        0.0        0.0        0.0        0.0        0.0   \n2        0.0        0.0        0.0        0.0        0.0        0.0   \n3        0.0        0.0        0.0        0.0        0.0        0.0   \n4        0.0        0.0        0.0        0.0        0.0        0.0   \n\n   Attack Type  \n0            0  \n1            0  \n2            0  \n3            0  \n4            0  \n\n[5 rows x 63 columns]",
      "text/html": "<div>\n<style scoped>\n    .dataframe tbody tr th:only-of-type {\n        vertical-align: middle;\n    }\n\n    .dataframe tbody tr th {\n        vertical-align: top;\n    }\n\n    .dataframe thead th {\n        text-align: right;\n    }\n</style>\n<table border=\"1\" class=\"dataframe\">\n  <thead>\n    <tr style=\"text-align: right;\">\n      <th></th>\n      <th>Dur</th>\n      <th>sTos</th>\n      <th>dTos</th>\n      <th>sTtl</th>\n      <th>dTtl</th>\n      <th>sHops</th>\n      <th>dHops</th>\n      <th>TotPkts</th>\n      <th>SrcPkts</th>\n      <th>DstPkts</th>\n      <th>...</th>\n      <th>Cause_Status</th>\n      <th>State_ACC</th>\n      <th>State_CON</th>\n      <th>State_ECO</th>\n      <th>State_FIN</th>\n      <th>State_INT</th>\n      <th>State_REQ</th>\n      <th>State_RST</th>\n      <th>State_URP</th>\n      <th>Attack Type</th>\n    </tr>\n  </thead>\n  <tbody>\n    <tr>\n      <th>0</th>\n      <td>-0.807085</td>\n      <td>-0.069046</td>\n      <td>-0.094739</td>\n      <td>-0.419379</td>\n      <td>-0.00732</td>\n      <td>1.050111</td>\n      <td>-0.973059</td>\n      <td>-0.167011</td>\n      <td>-0.146696</td>\n      <td>-0.115856</td>\n      <td>...</td>\n      <td>0.0</td>\n      <td>0.0</td>\n      <td>0.0</td>\n      <td>1.0</td>\n      <td>0.0</td>\n      <td>0.0</td>\n      <td>0.0</td>\n      <td>0.0</td>\n      <td>0.0</td>\n      <td>0</td>\n    </tr>\n    <tr>\n      <th>1</th>\n      <td>-0.807085</td>\n      <td>-0.069046</td>\n      <td>-0.094739</td>\n      <td>-0.419379</td>\n      <td>-0.00732</td>\n      <td>1.050111</td>\n      <td>-0.973059</td>\n      <td>-0.167011</td>\n      <td>-0.146696</td>\n      <td>-0.115856</td>\n      <td>...</td>\n      <td>0.0</td>\n      <td>0.0</td>\n      <td>0.0</td>\n      <td>1.0</td>\n      <td>0.0</td>\n      <td>0.0</td>\n      <td>0.0</td>\n      <td>0.0</td>\n      <td>0.0</td>\n      <td>0</td>\n    </tr>\n    <tr>\n      <th>2</th>\n      <td>2.147963</td>\n      <td>-0.069046</td>\n      <td>-0.094739</td>\n      <td>0.635573</td>\n      <td>-0.00732</td>\n      <td>2.452913</td>\n      <td>-0.973059</td>\n      <td>8.414004</td>\n      <td>10.443194</td>\n      <td>1.327973</td>\n      <td>...</td>\n      <td>0.0</td>\n      <td>0.0</td>\n      <td>1.0</td>\n      <td>0.0</td>\n      <td>0.0</td>\n      <td>0.0</td>\n      <td>0.0</td>\n      <td>0.0</td>\n      <td>0.0</td>\n      <td>0</td>\n    </tr>\n    <tr>\n      <th>3</th>\n      <td>2.147973</td>\n      <td>-0.069046</td>\n      <td>-0.094739</td>\n      <td>0.635573</td>\n      <td>-0.00732</td>\n      <td>2.452913</td>\n      <td>-0.973059</td>\n      <td>7.205410</td>\n      <td>8.651059</td>\n      <td>1.568612</td>\n      <td>...</td>\n      <td>0.0</td>\n      <td>0.0</td>\n      <td>1.0</td>\n      <td>0.0</td>\n      <td>0.0</td>\n      <td>0.0</td>\n      <td>0.0</td>\n      <td>0.0</td>\n      <td>0.0</td>\n      <td>0</td>\n    </tr>\n    <tr>\n      <th>4</th>\n      <td>2.148810</td>\n      <td>-0.069046</td>\n      <td>-0.094739</td>\n      <td>0.635573</td>\n      <td>-0.00732</td>\n      <td>2.452913</td>\n      <td>-0.973059</td>\n      <td>8.776582</td>\n      <td>10.877651</td>\n      <td>1.408186</td>\n      <td>...</td>\n      <td>0.0</td>\n      <td>0.0</td>\n      <td>1.0</td>\n      <td>0.0</td>\n      <td>0.0</td>\n      <td>0.0</td>\n      <td>0.0</td>\n      <td>0.0</td>\n      <td>0.0</td>\n      <td>0</td>\n    </tr>\n  </tbody>\n</table>\n<p>5 rows × 63 columns</p>\n</div>"
     },
     "metadata": {}
    }
   ]
  },
  {
   "cell_type": "code",
   "source": [
    "num_classes = df['Attack Type'].nunique()\n",
    "print(num_classes)"
   ],
   "metadata": {
    "execution": {
     "iopub.status.busy": "2024-04-05T01:00:11.091034Z",
     "iopub.execute_input": "2024-04-05T01:00:11.091411Z",
     "iopub.status.idle": "2024-04-05T01:00:11.106915Z",
     "shell.execute_reply.started": "2024-04-05T01:00:11.091382Z",
     "shell.execute_reply": "2024-04-05T01:00:11.106017Z"
    },
    "trusted": true
   },
   "execution_count": 12,
   "outputs": [
    {
     "name": "stdout",
     "text": "9\n",
     "output_type": "stream"
    }
   ]
  },
  {
   "cell_type": "code",
   "source": [
    "# Train Test split\n",
    "X_train, X_test, y_train, y_test = train_test_split(df.loc[:, df.columns != 'Attack Type'], df['Attack Type'],\n",
    "                                                    stratify=df['Attack Type'], \n",
    "                                                    test_size=0.15)\n",
    "\n",
    "X_train = pd.DataFrame(X_train, columns=df.columns.to_list()[:-1])\n",
    "X_test = pd.DataFrame(X_test, columns=df.columns.to_list()[:-1])\n",
    "y_train = pd.DataFrame(y_train, columns=['Attack Type'])\n",
    "y_test = pd.DataFrame(y_test, columns=['Attack Type'])\n",
    "\n",
    "print(\"Training dataset size:\", X_train.shape)\n",
    "print(\"Testing dataset size:\", X_test.shape)\n",
    "print(\"Training target size:\", y_train.shape)\n",
    "print(\"Testing target size:\", y_test.shape)"
   ],
   "metadata": {
    "execution": {
     "iopub.status.busy": "2024-04-05T01:20:56.600405Z",
     "iopub.execute_input": "2024-04-05T01:20:56.600847Z",
     "iopub.status.idle": "2024-04-05T01:20:58.134254Z",
     "shell.execute_reply.started": "2024-04-05T01:20:56.600813Z",
     "shell.execute_reply": "2024-04-05T01:20:58.133161Z"
    },
    "trusted": true
   },
   "execution_count": 39,
   "outputs": [
    {
     "name": "stdout",
     "text": "Training dataset size: (1033323, 62)\nTesting dataset size: (182352, 62)\nTraining target size: (1033323, 1)\nTesting target size: (182352, 1)\n",
     "output_type": "stream"
    }
   ]
  },
  {
   "cell_type": "code",
   "source": [
    "# Number of features\n",
    "num_features = X_train.shape[1]"
   ],
   "metadata": {
    "execution": {
     "iopub.status.busy": "2024-04-05T01:21:21.565097Z",
     "iopub.execute_input": "2024-04-05T01:21:21.565509Z",
     "iopub.status.idle": "2024-04-05T01:21:21.570621Z",
     "shell.execute_reply.started": "2024-04-05T01:21:21.565476Z",
     "shell.execute_reply": "2024-04-05T01:21:21.569492Z"
    },
    "trusted": true
   },
   "execution_count": 41,
   "outputs": []
  },
  {
   "cell_type": "code",
   "source": [
    "# Creating a PyTorch class\n",
    "# input_features ==> 12 ==> 32\n",
    "class Autoencoder(torch.nn.Module):\n",
    "    def __init__(self):\n",
    "        super(Autoencoder, self).__init__()\n",
    "\n",
    "        # Building an linear encoder with Linear\n",
    "        # layer followed by Tanh activation function\n",
    "        # input_features ===> 12\n",
    "        self.encoder = torch.nn.Sequential(\n",
    "            torch.nn.Linear(num_features, 32),\n",
    "            torch.nn.Tanh(),\n",
    "            torch.nn.Linear(32, 16),\n",
    "            torch.nn.Tanh(),\n",
    "            torch.nn.Linear(16, 12),\n",
    "            torch.nn.Tanh(),  \n",
    "        )\n",
    "        \n",
    "        # Dense neural network layers\n",
    "        self.dense_nn = torch.nn.Sequential(\n",
    "            torch.nn.Linear(12, 32),  # Input size is 12 from the encoder\n",
    "            torch.nn.BatchNorm1d(32),            \n",
    "            torch.nn.ReLU(), \n",
    "            torch.nn.Dropout(0.2),            \n",
    "            torch.nn.Linear(32, 64),\n",
    "            torch.nn.BatchNorm1d(64),                \n",
    "            torch.nn.ReLU(),\n",
    "            torch.nn.Dropout(0.2),              \n",
    "            torch.nn.Linear(64, 32),\n",
    "            torch.nn.BatchNorm1d(32),                \n",
    "            torch.nn.ReLU(),\n",
    "            torch.nn.Dropout(0.2),            \n",
    "            torch.nn.Linear(32, num_classes),  # Output size is the number of classes\n",
    "            torch.nn.Softmax(dim=1)\n",
    "        )        \n",
    "\n",
    "    def forward(self, x):\n",
    "        encoded = self.encoder(x)\n",
    "        output = self.dense_nn(encoded)\n",
    "        return output"
   ],
   "metadata": {
    "execution": {
     "iopub.status.busy": "2024-04-05T01:25:37.158142Z",
     "iopub.execute_input": "2024-04-05T01:25:37.158609Z",
     "iopub.status.idle": "2024-04-05T01:25:37.170160Z",
     "shell.execute_reply.started": "2024-04-05T01:25:37.158575Z",
     "shell.execute_reply": "2024-04-05T01:25:37.169115Z"
    },
    "trusted": true
   },
   "execution_count": 42,
   "outputs": []
  },
  {
   "cell_type": "code",
   "source": [
    "param_grid = {'optimizer__lr': [0.01, 0.001], \n",
    "              'max_epochs': [4, 8], \n",
    "              'batch_size':[64, 128]}"
   ],
   "metadata": {
    "execution": {
     "iopub.status.busy": "2024-04-05T02:16:09.829083Z",
     "iopub.execute_input": "2024-04-05T02:16:09.829822Z",
     "iopub.status.idle": "2024-04-05T02:16:09.836040Z",
     "shell.execute_reply.started": "2024-04-05T02:16:09.829780Z",
     "shell.execute_reply": "2024-04-05T02:16:09.834977Z"
    },
    "trusted": true
   },
   "execution_count": 64,
   "outputs": []
  },
  {
   "cell_type": "code",
   "source": [
    "model = NeuralNetClassifier(\n",
    "    module=Autoencoder,\n",
    "    max_epochs=4,\n",
    "    batch_size=32,\n",
    "    criterion=torch.nn.CrossEntropyLoss,\n",
    "    optimizer=torch.optim.Adam,\n",
    "    verbose=True,\n",
    "    device=device  # Specify device\n",
    ")"
   ],
   "metadata": {
    "execution": {
     "iopub.status.busy": "2024-04-05T02:16:17.334958Z",
     "iopub.execute_input": "2024-04-05T02:16:17.335699Z",
     "iopub.status.idle": "2024-04-05T02:16:17.340782Z",
     "shell.execute_reply.started": "2024-04-05T02:16:17.335664Z",
     "shell.execute_reply": "2024-04-05T02:16:17.339706Z"
    },
    "trusted": true
   },
   "execution_count": 65,
   "outputs": []
  },
  {
   "cell_type": "code",
   "source": [
    "print(model.initialize())"
   ],
   "metadata": {
    "execution": {
     "iopub.status.busy": "2024-04-05T02:16:18.427808Z",
     "iopub.execute_input": "2024-04-05T02:16:18.428231Z",
     "iopub.status.idle": "2024-04-05T02:16:18.439498Z",
     "shell.execute_reply.started": "2024-04-05T02:16:18.428201Z",
     "shell.execute_reply": "2024-04-05T02:16:18.438366Z"
    },
    "trusted": true
   },
   "execution_count": 66,
   "outputs": [
    {
     "name": "stdout",
     "text": "<class 'skorch.classifier.NeuralNetClassifier'>[initialized](\n  module_=Autoencoder(\n    (encoder): Sequential(\n      (0): Linear(in_features=62, out_features=32, bias=True)\n      (1): Tanh()\n      (2): Linear(in_features=32, out_features=16, bias=True)\n      (3): Tanh()\n      (4): Linear(in_features=16, out_features=12, bias=True)\n      (5): Tanh()\n    )\n    (dense_nn): Sequential(\n      (0): Linear(in_features=12, out_features=32, bias=True)\n      (1): BatchNorm1d(32, eps=1e-05, momentum=0.1, affine=True, track_running_stats=True)\n      (2): ReLU()\n      (3): Dropout(p=0.2, inplace=False)\n      (4): Linear(in_features=32, out_features=64, bias=True)\n      (5): BatchNorm1d(64, eps=1e-05, momentum=0.1, affine=True, track_running_stats=True)\n      (6): ReLU()\n      (7): Dropout(p=0.2, inplace=False)\n      (8): Linear(in_features=64, out_features=32, bias=True)\n      (9): BatchNorm1d(32, eps=1e-05, momentum=0.1, affine=True, track_running_stats=True)\n      (10): ReLU()\n      (11): Dropout(p=0.2, inplace=False)\n      (12): Linear(in_features=32, out_features=9, bias=True)\n      (13): Softmax(dim=1)\n    )\n  ),\n)\n",
     "output_type": "stream"
    }
   ]
  },
  {
   "cell_type": "code",
   "source": [
    "# obtain training indices that will be used for validation\n",
    "num_train = len(X_train)\n",
    "indices = list(range(num_train))\n",
    "\n",
    "np.random.shuffle(indices)\n",
    "split = int(np.floor(valid_size * (df.shape[0])))\n",
    "train_idx, valid_idx = indices[split:], indices[:split]"
   ],
   "metadata": {
    "execution": {
     "iopub.status.busy": "2024-04-05T02:19:49.165260Z",
     "iopub.execute_input": "2024-04-05T02:19:49.166117Z",
     "iopub.status.idle": "2024-04-05T02:19:49.408542Z",
     "shell.execute_reply.started": "2024-04-05T02:19:49.166079Z",
     "shell.execute_reply": "2024-04-05T02:19:49.407458Z"
    },
    "trusted": true
   },
   "execution_count": 67,
   "outputs": []
  },
  {
   "cell_type": "code",
   "source": [
    "from sklearn.model_selection import GridSearchCV, StratifiedKFold\n",
    "\n",
    "# Using StratifiedKFold cross-validation\n",
    "# skf = StratifiedKFold(n_splits=5, shuffle=True, random_state=42)\n",
    "\n",
    "# Perform grid search\n",
    "grid_search = GridSearchCV(estimator=model, param_grid=param_grid, n_jobs=-1, \n",
    "                           cv=[(train_idx, valid_idx)], \n",
    "                           scoring='accuracy', verbose=1)\n",
    "grid_search.fit(X_train.values.astype(np.float32), y_train.values.ravel())\n",
    "# grid_search.fit(X_train_tensor, y_train_tensor)\n",
    "\n",
    "# Get the best parameters and score\n",
    "best_params = grid_search.best_params_\n",
    "best_score = grid_search.best_score_\n",
    "\n",
    "print(\"Best Parameters:\", best_params)\n",
    "print(\"Best Score:\", best_score)"
   ],
   "metadata": {
    "execution": {
     "iopub.status.busy": "2024-04-05T02:23:34.178880Z",
     "iopub.execute_input": "2024-04-05T02:23:34.179934Z",
     "iopub.status.idle": "2024-04-05T02:40:59.253340Z",
     "shell.execute_reply.started": "2024-04-05T02:23:34.179896Z",
     "shell.execute_reply": "2024-04-05T02:40:59.252210Z"
    },
    "trusted": true
   },
   "execution_count": 72,
   "outputs": [
    {
     "name": "stdout",
     "text": "Fitting 1 folds for each of 8 candidates, totalling 8 fits\n  epoch    train_loss    valid_acc    valid_loss      dur\n-------  ------------  -----------  ------------  -------\n      1        \u001B[36m1.4168\u001B[0m       \u001B[32m0.9539\u001B[0m        \u001B[35m1.4180\u001B[0m  76.7510\n  epoch    train_loss    valid_acc    valid_loss      dur\n-------  ------------  -----------  ------------  -------\n      1        \u001B[36m1.4244\u001B[0m       \u001B[32m0.9642\u001B[0m        \u001B[35m1.4078\u001B[0m  76.4696\n  epoch    train_loss    valid_acc    valid_loss      dur\n-------  ------------  -----------  ------------  -------\n      1        \u001B[36m1.3946\u001B[0m       \u001B[32m0.9924\u001B[0m        \u001B[35m1.3795\u001B[0m  76.6572\n  epoch    train_loss    valid_acc    valid_loss      dur\n-------  ------------  -----------  ------------  -------\n      1        \u001B[36m1.3962\u001B[0m       \u001B[32m0.9934\u001B[0m        \u001B[35m1.3785\u001B[0m  76.9068\n      2        \u001B[36m1.3988\u001B[0m       \u001B[32m0.9754\u001B[0m        \u001B[35m1.3965\u001B[0m  77.5278\n      2        \u001B[36m1.3782\u001B[0m       \u001B[32m0.9944\u001B[0m        \u001B[35m1.3776\u001B[0m  77.5233\n      2        \u001B[36m1.4093\u001B[0m       0.9627        1.4093  77.7237\n      2        \u001B[36m1.3788\u001B[0m       \u001B[32m0.9954\u001B[0m        \u001B[35m1.3766\u001B[0m  77.4560\n      3        \u001B[36m1.3962\u001B[0m       \u001B[32m0.9838\u001B[0m        \u001B[35m1.3881\u001B[0m  76.8948\n      3        \u001B[36m1.3772\u001B[0m       \u001B[32m0.9964\u001B[0m        \u001B[35m1.3755\u001B[0m  76.7428\n      3        \u001B[36m1.3778\u001B[0m       \u001B[32m0.9960\u001B[0m        \u001B[35m1.3759\u001B[0m  76.4333\n      3        \u001B[36m1.4087\u001B[0m       \u001B[32m0.9678\u001B[0m        \u001B[35m1.4041\u001B[0m  77.2509\n      4        \u001B[36m1.3945\u001B[0m       0.9811        1.3908  76.3619\n      4        \u001B[36m1.3766\u001B[0m       \u001B[32m0.9965\u001B[0m        \u001B[35m1.3754\u001B[0m  77.0117\n      4        \u001B[36m1.3770\u001B[0m       0.9959        1.3761  77.0273\n      4        1.4129       0.9669        1.4050  76.8154\n  epoch    train_loss    valid_acc    valid_loss      dur\n-------  ------------  -----------  ------------  -------\n      1        \u001B[36m1.4148\u001B[0m       \u001B[32m0.9598\u001B[0m        \u001B[35m1.4122\u001B[0m  44.3983\n  epoch    train_loss    valid_acc    valid_loss      dur\n-------  ------------  -----------  ------------  -------\n      1        \u001B[36m1.4041\u001B[0m       \u001B[32m0.9951\u001B[0m        \u001B[35m1.3768\u001B[0m  44.5073\n      5        1.4132       \u001B[32m0.9696\u001B[0m        \u001B[35m1.4024\u001B[0m  75.3210\n      5        \u001B[36m1.3770\u001B[0m       \u001B[32m0.9963\u001B[0m        \u001B[35m1.3756\u001B[0m  75.5523\n      2        \u001B[36m1.4049\u001B[0m       \u001B[32m0.9733\u001B[0m        \u001B[35m1.3987\u001B[0m  43.9583\n      2        \u001B[36m1.3785\u001B[0m       0.9947        1.3771  44.4822\n      3        1.4116       0.9660        1.4060  44.1612\n      3        \u001B[36m1.3777\u001B[0m       \u001B[32m0.9962\u001B[0m        \u001B[35m1.3757\u001B[0m  43.6492\n      6        \u001B[36m1.3988\u001B[0m       \u001B[32m0.9814\u001B[0m        \u001B[35m1.3906\u001B[0m  75.8400\n      6        1.3771       \u001B[32m0.9967\u001B[0m        \u001B[35m1.3753\u001B[0m  76.3139\n      4        1.4077       \u001B[32m0.9762\u001B[0m        \u001B[35m1.3957\u001B[0m  45.0379\n      4        \u001B[36m1.3768\u001B[0m       0.9945        1.3775  44.9694\n      7        \u001B[36m1.3973\u001B[0m       0.9624        1.4095  75.2074\n      7        \u001B[36m1.3768\u001B[0m       0.9963        1.3757  76.1352\n  epoch    train_loss    valid_acc    valid_loss      dur\n-------  ------------  -----------  ------------  -------\n      1        \u001B[36m1.4075\u001B[0m       \u001B[32m0.9814\u001B[0m        \u001B[35m1.3905\u001B[0m  43.3837\n  epoch    train_loss    valid_acc    valid_loss      dur\n-------  ------------  -----------  ------------  -------\n      1        \u001B[36m1.4080\u001B[0m       \u001B[32m0.9948\u001B[0m        \u001B[35m1.3771\u001B[0m  44.0658\n      2        \u001B[36m1.3942\u001B[0m       \u001B[32m0.9832\u001B[0m        \u001B[35m1.3887\u001B[0m  44.2763\n      2        \u001B[36m1.3794\u001B[0m       0.9946        1.3771  43.7612\n      8        1.4043       0.9793        1.3927  75.5891\n      8        \u001B[36m1.3768\u001B[0m       0.9946        1.3773  75.5476\n      3        \u001B[36m1.3876\u001B[0m       0.9799        1.3921  35.3893\n      3        \u001B[36m1.3772\u001B[0m       \u001B[32m0.9957\u001B[0m        \u001B[35m1.3763\u001B[0m  35.4383\n      4        \u001B[36m1.3875\u001B[0m       0.9808        1.3911  30.2935\n      4        \u001B[36m1.3772\u001B[0m       \u001B[32m0.9960\u001B[0m        \u001B[35m1.3760\u001B[0m  30.0714\n      5        1.3884       \u001B[32m0.9884\u001B[0m        \u001B[35m1.3836\u001B[0m  30.2192\n      5        \u001B[36m1.3765\u001B[0m       \u001B[32m0.9966\u001B[0m        \u001B[35m1.3754\u001B[0m  30.0441\n      6        \u001B[36m1.3852\u001B[0m       \u001B[32m0.9896\u001B[0m        \u001B[35m1.3823\u001B[0m  30.3216\n      6        1.3766       0.9960        1.3760  30.2211\n      7        1.3898       0.9841        1.3878  29.9467\n      7        \u001B[36m1.3760\u001B[0m       0.9960        1.3759  29.7365\n      8        \u001B[36m1.3843\u001B[0m       \u001B[32m0.9922\u001B[0m        \u001B[35m1.3797\u001B[0m  29.8829\n      8        1.3761       \u001B[32m0.9967\u001B[0m        \u001B[35m1.3753\u001B[0m  29.9844\n  epoch    train_loss    valid_acc    valid_loss      dur\n-------  ------------  -----------  ------------  -------\n      1        \u001B[36m1.3912\u001B[0m       \u001B[32m0.9953\u001B[0m        \u001B[35m1.3766\u001B[0m  57.8250\n      2        \u001B[36m1.3782\u001B[0m       \u001B[32m0.9963\u001B[0m        \u001B[35m1.3756\u001B[0m  57.4565\n      3        \u001B[36m1.3771\u001B[0m       \u001B[32m0.9967\u001B[0m        \u001B[35m1.3753\u001B[0m  57.2657\n      4        \u001B[36m1.3767\u001B[0m       0.9963        1.3756  57.1925\nBest Parameters: {'batch_size': 64, 'max_epochs': 4, 'optimizer__lr': 0.001}\nBest Score: 0.996769965615763\n",
     "output_type": "stream"
    }
   ]
  },
  {
   "cell_type": "code",
   "source": [
    "param_grid = {'optimizer__lr': [0.01, 0.001, 0.0001], \n",
    "              'max_epochs': [4, 8, 16], \n",
    "              'batch_size':[32, 64, 128]}"
   ],
   "metadata": {
    "execution": {
     "iopub.status.busy": "2024-04-05T02:46:23.822759Z",
     "iopub.execute_input": "2024-04-05T02:46:23.823515Z",
     "iopub.status.idle": "2024-04-05T02:46:23.828492Z",
     "shell.execute_reply.started": "2024-04-05T02:46:23.823477Z",
     "shell.execute_reply": "2024-04-05T02:46:23.827536Z"
    },
    "trusted": true
   },
   "execution_count": 73,
   "outputs": []
  },
  {
   "cell_type": "code",
   "source": [
    "from sklearn.model_selection import GridSearchCV, StratifiedKFold\n",
    "\n",
    "# Using StratifiedKFold cross-validation\n",
    "# skf = StratifiedKFold(n_splits=5, shuffle=True, random_state=42)\n",
    "\n",
    "# Perform grid search\n",
    "grid_search = GridSearchCV(estimator=model, param_grid=param_grid, n_jobs=-1, \n",
    "                           cv=[(train_idx, valid_idx)], \n",
    "                           scoring='accuracy', verbose=1)\n",
    "grid_search.fit(X_train.values.astype(np.float32), y_train.values.ravel())\n",
    "# grid_search.fit(X_train_tensor, y_train_tensor)\n",
    "\n",
    "# Get the best parameters and score\n",
    "best_params = grid_search.best_params_\n",
    "best_score = grid_search.best_score_\n",
    "\n",
    "print(\"Best Parameters:\", best_params)\n",
    "print(\"Best Score:\", best_score)"
   ],
   "metadata": {
    "execution": {
     "iopub.status.busy": "2024-04-05T02:46:52.678439Z",
     "iopub.execute_input": "2024-04-05T02:46:52.678815Z",
     "iopub.status.idle": "2024-04-05T04:26:19.946778Z",
     "shell.execute_reply.started": "2024-04-05T02:46:52.678784Z",
     "shell.execute_reply": "2024-04-05T04:26:19.945828Z"
    },
    "trusted": true
   },
   "execution_count": 74,
   "outputs": [
    {
     "name": "stdout",
     "text": "Fitting 1 folds for each of 27 candidates, totalling 27 fits\n  epoch    train_loss    valid_acc    valid_loss       dur\n-------  ------------  -----------  ------------  --------\n      1        \u001B[36m1.4415\u001B[0m       \u001B[32m0.9878\u001B[0m        \u001B[35m1.3825\u001B[0m  142.7070\n  epoch    train_loss    valid_acc    valid_loss       dur\n-------  ------------  -----------  ------------  --------\n      1        \u001B[36m1.4294\u001B[0m       \u001B[32m0.9667\u001B[0m        \u001B[35m1.4053\u001B[0m  143.0781\n  epoch    train_loss    valid_acc    valid_loss       dur\n-------  ------------  -----------  ------------  --------\n      1        \u001B[36m1.4341\u001B[0m       \u001B[32m0.9360\u001B[0m        \u001B[35m1.4359\u001B[0m  143.0325\n  epoch    train_loss    valid_acc    valid_loss       dur\n-------  ------------  -----------  ------------  --------\n      1        \u001B[36m1.3959\u001B[0m       \u001B[32m0.9944\u001B[0m        \u001B[35m1.3776\u001B[0m  143.7026\n      2        \u001B[36m1.3831\u001B[0m       \u001B[32m0.9951\u001B[0m        \u001B[35m1.3768\u001B[0m  141.4838\n      2        1.4435       0.9264        1.4455  142.4484\n      2        \u001B[36m1.4272\u001B[0m       0.9508        1.4211  142.7232\n      2        \u001B[36m1.3801\u001B[0m       \u001B[32m0.9949\u001B[0m        \u001B[35m1.3770\u001B[0m  142.0067\n      3        \u001B[36m1.3797\u001B[0m       \u001B[32m0.9951\u001B[0m        \u001B[35m1.3768\u001B[0m  140.5579\n      3        1.4632       0.8622        1.5098  141.2857\n      3        \u001B[36m1.3790\u001B[0m       0.9928        1.3792  141.5886\n      3        1.4586       0.6791        1.6928  141.9252\n      4        \u001B[36m1.3787\u001B[0m       \u001B[32m0.9957\u001B[0m        \u001B[35m1.3762\u001B[0m  141.7151\n      4        \u001B[36m1.3784\u001B[0m       0.9949        1.3770  141.9314\n      4        1.4918       0.8828        1.4892  143.0585\n      4        1.4736       0.9427        1.4293  142.9478\n      5        1.4422       0.9359        1.4360  140.2616\n  epoch    train_loss    valid_acc    valid_loss       dur\n-------  ------------  -----------  ------------  --------\n      1        \u001B[36m1.3936\u001B[0m       \u001B[32m0.9946\u001B[0m        \u001B[35m1.3774\u001B[0m  140.8006\n  epoch    train_loss    valid_acc    valid_loss       dur\n-------  ------------  -----------  ------------  --------\n      1        \u001B[36m1.4411\u001B[0m       \u001B[32m0.9880\u001B[0m        \u001B[35m1.3841\u001B[0m  141.3328\n  epoch    train_loss    valid_acc    valid_loss       dur\n-------  ------------  -----------  ------------  --------\n      1        \u001B[36m1.4388\u001B[0m       \u001B[32m0.9612\u001B[0m        \u001B[35m1.4107\u001B[0m  141.3286\n      6        1.4407       0.9051        1.4669  142.9060\n      2        \u001B[36m1.3793\u001B[0m       \u001B[32m0.9956\u001B[0m        \u001B[35m1.3764\u001B[0m  142.9794\n      2        1.4440       0.9194        1.4526  142.5737\n      2        \u001B[36m1.3865\u001B[0m       \u001B[32m0.9957\u001B[0m        \u001B[35m1.3764\u001B[0m  143.0662\n      7        1.4585       0.9046        1.4673  142.6441\n      3        \u001B[36m1.3778\u001B[0m       \u001B[32m0.9961\u001B[0m        \u001B[35m1.3759\u001B[0m  142.3019\n      3        1.4515       0.9265        1.4455  141.4635\n      3        \u001B[36m1.3798\u001B[0m       0.9951        1.3768  143.0957\n      8        1.4970       0.8951        1.4768  141.5744\n      4        \u001B[36m1.3770\u001B[0m       \u001B[32m0.9965\u001B[0m        \u001B[35m1.3755\u001B[0m  140.5283\n      4        1.4694       0.9278        1.4441  140.8741\n      4        \u001B[36m1.3785\u001B[0m       \u001B[32m0.9958\u001B[0m        \u001B[35m1.3762\u001B[0m  141.2371\n      5        \u001B[36m1.3769\u001B[0m       \u001B[32m0.9966\u001B[0m        \u001B[35m1.3754\u001B[0m  139.6259\n      5        1.4677       0.9361        1.4358  140.5432\n      5        \u001B[36m1.3780\u001B[0m       \u001B[32m0.9960\u001B[0m        \u001B[35m1.3759\u001B[0m  140.5601\n  epoch    train_loss    valid_acc    valid_loss       dur\n-------  ------------  -----------  ------------  --------\n      1        \u001B[36m1.3938\u001B[0m       \u001B[32m0.9942\u001B[0m        \u001B[35m1.3777\u001B[0m  141.2070\n      6        1.3773       0.9893        1.3826  140.6625\n      6        1.5447       0.9078        1.4642  140.7401\n      6        \u001B[36m1.3778\u001B[0m       0.9959        1.3760  139.9458\n      2        \u001B[36m1.3798\u001B[0m       \u001B[32m0.9947\u001B[0m        \u001B[35m1.3773\u001B[0m  140.6877\n      7        1.3771       0.9960        1.3759  141.2810\n      7        1.4609       0.8108        1.5611  141.3934\n      7        \u001B[36m1.3776\u001B[0m       0.9954        1.3766  141.5685\n      3        \u001B[36m1.3790\u001B[0m       \u001B[32m0.9948\u001B[0m        \u001B[35m1.3771\u001B[0m  141.7049\n      8        1.3777       0.9964        1.3755  144.1366\n      8        1.4738       0.8606        1.5114  143.1653\n      8        \u001B[36m1.3776\u001B[0m       0.9953        1.3767  144.9277\n      4        \u001B[36m1.3785\u001B[0m       0.9945        1.3774  143.9191\n  epoch    train_loss    valid_acc    valid_loss      dur\n-------  ------------  -----------  ------------  -------\n      1        \u001B[36m1.4326\u001B[0m       \u001B[32m0.9542\u001B[0m        \u001B[35m1.4177\u001B[0m  77.1013\n      9        1.5149       0.8444        1.5275  140.6638\n      5        \u001B[36m1.3782\u001B[0m       \u001B[32m0.9954\u001B[0m        \u001B[35m1.3765\u001B[0m  140.4643\n  epoch    train_loss    valid_acc    valid_loss       dur\n-------  ------------  -----------  ------------  --------\n      1        \u001B[36m1.4409\u001B[0m       \u001B[32m0.9879\u001B[0m        \u001B[35m1.3829\u001B[0m  140.2140\n      2        \u001B[36m1.4254\u001B[0m       0.9366        1.4354  76.0152\n      3        \u001B[36m1.4115\u001B[0m       \u001B[32m0.9611\u001B[0m        \u001B[35m1.4108\u001B[0m  77.0138\n     10        1.4628       0.9276        1.4444  138.9344\n      6        1.3783       0.9950        1.3769  139.6632\n      2        \u001B[36m1.3838\u001B[0m       \u001B[32m0.9953\u001B[0m        \u001B[35m1.3767\u001B[0m  139.7056\n      4        1.4201       0.9366        1.4353  76.0125\n     11        1.4636       0.8819        1.4901  138.6834\n      7        \u001B[36m1.3782\u001B[0m       0.9953        1.3767  139.0852\n  epoch    train_loss    valid_acc    valid_loss      dur\n-------  ------------  -----------  ------------  -------\n      1        \u001B[36m1.3933\u001B[0m       \u001B[32m0.9953\u001B[0m        \u001B[35m1.3767\u001B[0m  76.0530\n      3        \u001B[36m1.3802\u001B[0m       \u001B[32m0.9957\u001B[0m        \u001B[35m1.3763\u001B[0m  137.9685\n      2        \u001B[36m1.3781\u001B[0m       0.9938        1.3782  78.1761\n     12        1.4886       0.9261        1.4459  141.3454\n      8        1.3784       0.9932        1.3788  142.9512\n      4        \u001B[36m1.3791\u001B[0m       \u001B[32m0.9958\u001B[0m        \u001B[35m1.3761\u001B[0m  142.1797\n      3        \u001B[36m1.3771\u001B[0m       \u001B[32m0.9961\u001B[0m        \u001B[35m1.3759\u001B[0m  77.5135\n      4        1.3771       0.9819        1.3900  77.1605\n     13        1.4757       0.9021        1.4698  141.1459\n      9        \u001B[36m1.3778\u001B[0m       0.9942        1.3778  141.2634\n      5        \u001B[36m1.3783\u001B[0m       0.9958        1.3761  139.2955\n  epoch    train_loss    valid_acc    valid_loss      dur\n-------  ------------  -----------  ------------  -------\n      1        \u001B[36m1.4709\u001B[0m       \u001B[32m0.9877\u001B[0m        \u001B[35m1.3853\u001B[0m  75.6714\n      2        \u001B[36m1.3895\u001B[0m       \u001B[32m0.9887\u001B[0m        \u001B[35m1.3832\u001B[0m  77.4881\n     14        1.4827       0.8039        1.5680  140.2887\n     10        1.3779       \u001B[32m0.9956\u001B[0m        \u001B[35m1.3764\u001B[0m  141.1203\n      6        \u001B[36m1.3781\u001B[0m       \u001B[32m0.9960\u001B[0m        \u001B[35m1.3759\u001B[0m  141.7122\n      3        \u001B[36m1.3827\u001B[0m       \u001B[32m0.9956\u001B[0m        \u001B[35m1.3763\u001B[0m  76.8326\n     15        1.4682       0.9286        1.4434  139.2855\n      4        \u001B[36m1.3789\u001B[0m       0.9954        1.3766  77.2711\n     11        \u001B[36m1.3766\u001B[0m       0.9953        1.3767  139.9206\n      7        \u001B[36m1.3778\u001B[0m       0.9957        1.3763  138.6923\n  epoch    train_loss    valid_acc    valid_loss      dur\n-------  ------------  -----------  ------------  -------\n      1        \u001B[36m1.4122\u001B[0m       \u001B[32m0.9770\u001B[0m        \u001B[35m1.3950\u001B[0m  76.2569\n     16        1.4484       0.9147        1.4573  139.5195\n     12        1.3774       0.9944        1.3775  140.5509\n      8        \u001B[36m1.3776\u001B[0m       0.9953        1.3766  139.2603\n      2        \u001B[36m1.3977\u001B[0m       \u001B[32m0.9870\u001B[0m        \u001B[35m1.3849\u001B[0m  76.1458\n  epoch    train_loss    valid_acc    valid_loss      dur\n-------  ------------  -----------  ------------  -------\n      1        \u001B[36m1.3958\u001B[0m       \u001B[32m0.9949\u001B[0m        \u001B[35m1.3770\u001B[0m  76.6822\n      3        \u001B[36m1.3976\u001B[0m       0.9863        1.3856  76.6876\n     13        1.3770       0.9942        1.3778  140.1457\n      9        \u001B[36m1.3774\u001B[0m       0.9960        \u001B[35m1.3759\u001B[0m  139.8225\n      2        \u001B[36m1.3784\u001B[0m       0.9945        1.3775  75.3869\n      4        \u001B[36m1.3919\u001B[0m       \u001B[32m0.9874\u001B[0m        \u001B[35m1.3845\u001B[0m  75.9154\n      3        \u001B[36m1.3774\u001B[0m       \u001B[32m0.9960\u001B[0m        \u001B[35m1.3760\u001B[0m  76.8054\n      5        \u001B[36m1.3913\u001B[0m       0.9845        1.3874  76.2317\n     14        1.3767       \u001B[32m0.9959\u001B[0m        \u001B[35m1.3760\u001B[0m  139.8040\n     10        \u001B[36m1.3773\u001B[0m       \u001B[32m0.9961\u001B[0m        \u001B[35m1.3759\u001B[0m  139.1413\n      4        \u001B[36m1.3770\u001B[0m       \u001B[32m0.9963\u001B[0m        \u001B[35m1.3756\u001B[0m  75.1390\n      6        1.3971       0.9192        1.4528  76.6372\n      5        \u001B[36m1.3767\u001B[0m       \u001B[32m0.9964\u001B[0m        \u001B[35m1.3756\u001B[0m  77.0435\n      7        1.3999       0.9837        1.3883  77.1080\n     15        1.3769       \u001B[32m0.9960\u001B[0m        \u001B[35m1.3759\u001B[0m  139.0652\n     11        1.3773       0.9960        1.3759  138.1966\n      6        \u001B[36m1.3765\u001B[0m       0.9935        1.3784  74.9626\n      8        1.4224       0.9559        1.4160  75.3716\n      7        \u001B[36m1.3764\u001B[0m       \u001B[32m0.9968\u001B[0m        \u001B[35m1.3752\u001B[0m  74.5993\n     16        \u001B[36m1.3761\u001B[0m       \u001B[32m0.9963\u001B[0m        \u001B[35m1.3757\u001B[0m  139.3490\n     12        \u001B[36m1.3771\u001B[0m       \u001B[32m0.9961\u001B[0m        \u001B[35m1.3758\u001B[0m  137.6022\n  epoch    train_loss    valid_acc    valid_loss      dur\n-------  ------------  -----------  ------------  -------\n      1        \u001B[36m1.4678\u001B[0m       \u001B[32m0.9880\u001B[0m        \u001B[35m1.3840\u001B[0m  74.9419\n      8        \u001B[36m1.3761\u001B[0m       0.9965        1.3754  75.1838\n      2        \u001B[36m1.3874\u001B[0m       \u001B[32m0.9933\u001B[0m        \u001B[35m1.3786\u001B[0m  75.8087\n  epoch    train_loss    valid_acc    valid_loss      dur\n-------  ------------  -----------  ------------  -------\n      1        \u001B[36m1.4244\u001B[0m       \u001B[32m0.9524\u001B[0m        \u001B[35m1.4196\u001B[0m  75.8050\n     13        \u001B[36m1.3769\u001B[0m       0.9951        1.3768  136.9668\n  epoch    train_loss    valid_acc    valid_loss      dur\n-------  ------------  -----------  ------------  -------\n      1        \u001B[36m1.3956\u001B[0m       \u001B[32m0.9928\u001B[0m        \u001B[35m1.3791\u001B[0m  75.4582\n      3        \u001B[36m1.3804\u001B[0m       \u001B[32m0.9945\u001B[0m        \u001B[35m1.3775\u001B[0m  76.2700\n      2        \u001B[36m1.4114\u001B[0m       \u001B[32m0.9528\u001B[0m        \u001B[35m1.4191\u001B[0m  76.0505\n      2        \u001B[36m1.3791\u001B[0m       \u001B[32m0.9937\u001B[0m        \u001B[35m1.3782\u001B[0m  76.4877\n      4        \u001B[36m1.3790\u001B[0m       \u001B[32m0.9951\u001B[0m        \u001B[35m1.3768\u001B[0m  75.6391\n      3        \u001B[36m1.4076\u001B[0m       \u001B[32m0.9713\u001B[0m        \u001B[35m1.4007\u001B[0m  75.7115\n     14        1.3770       0.9961        1.3758  137.9599\n      3        \u001B[36m1.3780\u001B[0m       \u001B[32m0.9940\u001B[0m        \u001B[35m1.3780\u001B[0m  75.5095\n      5        \u001B[36m1.3785\u001B[0m       0.9949        1.3770  75.0757\n      4        1.4108       0.9094        1.4626  75.6630\n      4        \u001B[36m1.3772\u001B[0m       \u001B[32m0.9962\u001B[0m        \u001B[35m1.3757\u001B[0m  75.3520\n      6        \u001B[36m1.3780\u001B[0m       \u001B[32m0.9955\u001B[0m        \u001B[35m1.3765\u001B[0m  75.8214\n      5        1.4406       0.9695        1.4025  75.5265\n     15        \u001B[36m1.3769\u001B[0m       0.9960        1.3759  137.8750\n      5        \u001B[36m1.3768\u001B[0m       0.9939        1.3781  75.3258\n      7        \u001B[36m1.3779\u001B[0m       \u001B[32m0.9959\u001B[0m        \u001B[35m1.3760\u001B[0m  75.1864\n      6        1.4169       0.9506        1.4214  75.9973\n      6        1.3769       0.9953        1.3766  75.8384\n      8        \u001B[36m1.3777\u001B[0m       0.9955        1.3764  76.4927\n      7        1.4130       0.9219        1.4500  75.1864\n     16        \u001B[36m1.3769\u001B[0m       0.9961        1.3759  137.7851\n      7        1.3769       0.9951        1.3768  75.4540\n  epoch    train_loss    valid_acc    valid_loss      dur\n-------  ------------  -----------  ------------  -------\n      1        \u001B[36m1.4165\u001B[0m       \u001B[32m0.9682\u001B[0m        \u001B[35m1.4037\u001B[0m  43.3707\n      8        1.4185       0.9652        1.4068  74.8082\n  epoch    train_loss    valid_acc    valid_loss      dur\n-------  ------------  -----------  ------------  -------\n      1        \u001B[36m1.4681\u001B[0m       \u001B[32m0.9762\u001B[0m        \u001B[35m1.3929\u001B[0m  74.5556\n      2        1.4207       0.9521        1.4198  43.8389\n      8        \u001B[36m1.3761\u001B[0m       \u001B[32m0.9965\u001B[0m        \u001B[35m1.3754\u001B[0m  74.9084\n      9        1.4143       0.9613        1.4106  75.9269\n      3        1.4231       0.9638        1.4082  43.7634\n      2        \u001B[36m1.3882\u001B[0m       \u001B[32m0.9956\u001B[0m        \u001B[35m1.3765\u001B[0m  74.4610\n      4        \u001B[36m1.4100\u001B[0m       0.9573        1.4147  43.7919\n      9        1.3762       \u001B[32m0.9967\u001B[0m        \u001B[35m1.3752\u001B[0m  75.0384\n     10        1.4242       0.9536        1.4184  74.8528\n      3        \u001B[36m1.3802\u001B[0m       0.9945        1.3774  74.6569\n  epoch    train_loss    valid_acc    valid_loss      dur\n-------  ------------  -----------  ------------  -------\n      1        \u001B[36m1.4044\u001B[0m       \u001B[32m0.9948\u001B[0m        \u001B[35m1.3771\u001B[0m  43.2445\n     10        1.3764       0.9966        1.3753  75.0010\n      2        \u001B[36m1.3784\u001B[0m       \u001B[32m0.9964\u001B[0m        \u001B[35m1.3756\u001B[0m  43.4464\n     11        1.4224       0.9588        1.4132  75.2529\n      4        \u001B[36m1.3786\u001B[0m       0.9956        \u001B[35m1.3764\u001B[0m  74.7675\n      3        \u001B[36m1.3773\u001B[0m       \u001B[32m0.9965\u001B[0m        \u001B[35m1.3755\u001B[0m  44.1102\n     11        1.3762       0.9966        1.3754  75.1214\n     12        1.4186       0.9538        1.4182  75.6776\n      5        \u001B[36m1.3782\u001B[0m       0.9953        1.3766  75.1417\n      4        \u001B[36m1.3767\u001B[0m       0.9960        1.3759  42.9029\n     12        1.3761       0.9967        1.3753  75.2457\n  epoch    train_loss    valid_acc    valid_loss      dur\n-------  ------------  -----------  ------------  -------\n      1        \u001B[36m1.5144\u001B[0m       \u001B[32m0.9744\u001B[0m        \u001B[35m1.4019\u001B[0m  43.4168\n     13        1.4251       0.9460        1.4260  74.7784\n      6        \u001B[36m1.3779\u001B[0m       0.9947        1.3773  74.7864\n      2        \u001B[36m1.3955\u001B[0m       \u001B[32m0.9884\u001B[0m        \u001B[35m1.3832\u001B[0m  43.5841\n     13        1.3761       0.9962        1.3758  75.2810\n     14        1.4239       0.9495        1.4224  75.6165\n      7        \u001B[36m1.3776\u001B[0m       0.9950        1.3769  76.0108\n      3        \u001B[36m1.3842\u001B[0m       \u001B[32m0.9955\u001B[0m        \u001B[35m1.3764\u001B[0m  43.5255\n      4        \u001B[36m1.3795\u001B[0m       0.9954        1.3765  43.6237\n     14        \u001B[36m1.3758\u001B[0m       \u001B[32m0.9967\u001B[0m        \u001B[35m1.3752\u001B[0m  75.0636\n     15        1.4366       0.9503        1.4217  75.3710\n      8        \u001B[36m1.3774\u001B[0m       0.9955        \u001B[35m1.3763\u001B[0m  75.7104\n  epoch    train_loss    valid_acc    valid_loss      dur\n-------  ------------  -----------  ------------  -------\n      1        \u001B[36m1.4193\u001B[0m       \u001B[32m0.9674\u001B[0m        \u001B[35m1.4046\u001B[0m  44.2446\n     15        \u001B[36m1.3758\u001B[0m       0.9960        1.3759  76.0207\n      2        \u001B[36m1.4045\u001B[0m       \u001B[32m0.9754\u001B[0m        \u001B[35m1.3966\u001B[0m  43.4583\n     16        1.4252       0.9509        1.4210  76.1500\n      9        \u001B[36m1.3773\u001B[0m       \u001B[32m0.9960\u001B[0m        \u001B[35m1.3759\u001B[0m  75.2892\n      3        \u001B[36m1.4014\u001B[0m       0.9659        1.4061  42.0386\n     16        1.3760       0.9963        1.3756  73.5176\n  epoch    train_loss    valid_acc    valid_loss      dur\n-------  ------------  -----------  ------------  -------\n      1        \u001B[36m1.4068\u001B[0m       \u001B[32m0.9951\u001B[0m        \u001B[35m1.3768\u001B[0m  42.4263\n     10        \u001B[36m1.3773\u001B[0m       0.9954        1.3766  73.3507\n      4        \u001B[36m1.4001\u001B[0m       0.9700        1.4020  42.5540\n      2        \u001B[36m1.3792\u001B[0m       \u001B[32m0.9955\u001B[0m        \u001B[35m1.3764\u001B[0m  41.9962\n  epoch    train_loss    valid_acc    valid_loss      dur\n-------  ------------  -----------  ------------  -------\n      1        \u001B[36m1.5137\u001B[0m       \u001B[32m0.9584\u001B[0m        \u001B[35m1.4139\u001B[0m  42.1401\n      5        \u001B[36m1.3906\u001B[0m       \u001B[32m0.9863\u001B[0m        \u001B[35m1.3856\u001B[0m  42.3699\n      3        \u001B[36m1.3774\u001B[0m       \u001B[32m0.9963\u001B[0m        \u001B[35m1.3757\u001B[0m  42.3043\n     11        \u001B[36m1.3770\u001B[0m       0.9958        1.3761  72.3081\n      2        \u001B[36m1.3989\u001B[0m       \u001B[32m0.9885\u001B[0m        \u001B[35m1.3832\u001B[0m  41.6589\n      6        1.3959       0.9778        1.3942  41.4641\n      4        \u001B[36m1.3766\u001B[0m       \u001B[32m0.9966\u001B[0m        \u001B[35m1.3754\u001B[0m  42.1277\n      3        \u001B[36m1.3870\u001B[0m       \u001B[32m0.9926\u001B[0m        \u001B[35m1.3806\u001B[0m  42.0815\n      7        1.3975       0.9754        1.3966  42.3521\n     12        \u001B[36m1.3770\u001B[0m       0.9959        1.3760  72.8338\n      5        \u001B[36m1.3760\u001B[0m       \u001B[32m0.9966\u001B[0m        \u001B[35m1.3753\u001B[0m  42.3145\n      4        \u001B[36m1.3807\u001B[0m       \u001B[32m0.9956\u001B[0m        \u001B[35m1.3763\u001B[0m  41.6981\n      8        1.3979       0.9783        1.3937  42.3265\n      6        1.3762       0.9963        1.3756  42.0198\n      5        \u001B[36m1.3790\u001B[0m       0.9955        1.3765  41.7570\n     13        \u001B[36m1.3770\u001B[0m       0.9956        1.3763  72.2992\n  epoch    train_loss    valid_acc    valid_loss      dur\n-------  ------------  -----------  ------------  -------\n      1        \u001B[36m1.4325\u001B[0m       \u001B[32m0.9317\u001B[0m        \u001B[35m1.4402\u001B[0m  42.1110\n      7        1.3762       \u001B[32m0.9967\u001B[0m        \u001B[35m1.3752\u001B[0m  41.5891\n      6        \u001B[36m1.3783\u001B[0m       \u001B[32m0.9956\u001B[0m        \u001B[35m1.3763\u001B[0m  41.7408\n      2        \u001B[36m1.4114\u001B[0m       \u001B[32m0.9692\u001B[0m        \u001B[35m1.4027\u001B[0m  41.9955\n      8        \u001B[36m1.3758\u001B[0m       \u001B[32m0.9970\u001B[0m        \u001B[35m1.3749\u001B[0m  42.1266\n      7        \u001B[36m1.3780\u001B[0m       \u001B[32m0.9960\u001B[0m        \u001B[35m1.3760\u001B[0m  42.1746\n     14        \u001B[36m1.3768\u001B[0m       \u001B[32m0.9960\u001B[0m        \u001B[35m1.3759\u001B[0m  72.8013\n      3        \u001B[36m1.4069\u001B[0m       \u001B[32m0.9706\u001B[0m        \u001B[35m1.4014\u001B[0m  43.4214\n      8        \u001B[36m1.3777\u001B[0m       \u001B[32m0.9960\u001B[0m        \u001B[35m1.3759\u001B[0m  42.3526\n  epoch    train_loss    valid_acc    valid_loss      dur\n-------  ------------  -----------  ------------  -------\n      1        \u001B[36m1.4029\u001B[0m       \u001B[32m0.9944\u001B[0m        \u001B[35m1.3775\u001B[0m  42.5219\n      4        1.4084       0.9604        1.4115  42.5069\n     15        1.3768       0.9959        1.3760  73.0990\n      2        \u001B[36m1.3788\u001B[0m       \u001B[32m0.9964\u001B[0m        \u001B[35m1.3756\u001B[0m  42.1420\n  epoch    train_loss    valid_acc    valid_loss      dur\n-------  ------------  -----------  ------------  -------\n      1        \u001B[36m1.5035\u001B[0m       \u001B[32m0.9415\u001B[0m        \u001B[35m1.4215\u001B[0m  41.8774\n      5        1.4081       0.9671        1.4048  42.9070\n      3        \u001B[36m1.3775\u001B[0m       \u001B[32m0.9965\u001B[0m        \u001B[35m1.3754\u001B[0m  43.2008\n      2        \u001B[36m1.4073\u001B[0m       \u001B[32m0.9882\u001B[0m        \u001B[35m1.3829\u001B[0m  43.3835\n     16        \u001B[36m1.3768\u001B[0m       0.9952        1.3767  74.5347\n      6        1.4102       0.9427        1.4293  43.7499\n      4        \u001B[36m1.3770\u001B[0m       0.9946        1.3773  41.6571\n      3        \u001B[36m1.3851\u001B[0m       \u001B[32m0.9954\u001B[0m        \u001B[35m1.3766\u001B[0m  41.3385\n      7        1.4172       0.9658        1.4061  36.8034\n      5        \u001B[36m1.3767\u001B[0m       0.9963        1.3757  37.1442\n      4        \u001B[36m1.3800\u001B[0m       \u001B[32m0.9955\u001B[0m        \u001B[35m1.3764\u001B[0m  36.7126\n      8        1.4210       0.9522        1.4197  37.4997\n      6        \u001B[36m1.3763\u001B[0m       \u001B[32m0.9967\u001B[0m        \u001B[35m1.3753\u001B[0m  36.6850\n      5        \u001B[36m1.3787\u001B[0m       0.9950        1.3769  36.6426\n      9        \u001B[36m1.4055\u001B[0m       0.9606        1.4113  36.6896\n      7        1.3764       0.9965        1.3754  36.5796\n      6        \u001B[36m1.3780\u001B[0m       \u001B[32m0.9958\u001B[0m        \u001B[35m1.3761\u001B[0m  36.6556\n     10        1.4167       0.9517        1.4202  36.3171\n      8        \u001B[36m1.3762\u001B[0m       \u001B[32m0.9968\u001B[0m        \u001B[35m1.3751\u001B[0m  36.5476\n      7        \u001B[36m1.3777\u001B[0m       0.9946        1.3773  36.7802\n     11        1.4150       0.9646        1.4073  36.5848\n      9        \u001B[36m1.3762\u001B[0m       0.9959        1.3761  36.2132\n      8        \u001B[36m1.3775\u001B[0m       0.9958        1.3761  37.0320\n     12        1.4139       0.9567        1.4152  37.0435\n     10        \u001B[36m1.3760\u001B[0m       0.9966        1.3753  36.3034\n      9        \u001B[36m1.3773\u001B[0m       0.9955        1.3764  36.2562\n     13        1.4209       0.9572        1.4147  35.4823\n     11        \u001B[36m1.3759\u001B[0m       0.9963        1.3756  36.9465\n     10        \u001B[36m1.3773\u001B[0m       0.9957        1.3762  36.3974\n     14        1.4233       0.9531        1.4189  36.8817\n     12        \u001B[36m1.3758\u001B[0m       0.9961        1.3758  35.6233\n     11        \u001B[36m1.3770\u001B[0m       0.9958        1.3761  36.8140\n     15        1.4253       0.9686        1.4033  36.0123\n     13        1.3760       0.9966        1.3753  37.1295\n     12        \u001B[36m1.3769\u001B[0m       0.9949        1.3770  36.0517\n     16        1.4062       0.9652        1.4067  36.4436\n     14        \u001B[36m1.3758\u001B[0m       0.9966        1.3754  34.8344\n     13        \u001B[36m1.3768\u001B[0m       0.9956        1.3763  32.7050\n     15        \u001B[36m1.3755\u001B[0m       0.9966        1.3753  29.3607\n     14        \u001B[36m1.3768\u001B[0m       0.9957        1.3762  29.2042\n     16        1.3758       0.9965        1.3754  29.9438\n     15        \u001B[36m1.3767\u001B[0m       \u001B[32m0.9968\u001B[0m        \u001B[35m1.3757\u001B[0m  29.3410\n     16        \u001B[36m1.3761\u001B[0m       \u001B[32m0.9969\u001B[0m        \u001B[35m1.3750\u001B[0m  26.6902\n  epoch    train_loss    valid_acc    valid_loss      dur\n-------  ------------  -----------  ------------  -------\n      1        \u001B[36m1.4002\u001B[0m       \u001B[32m0.9953\u001B[0m        \u001B[35m1.3767\u001B[0m  33.2520\n      2        \u001B[36m1.3781\u001B[0m       0.9937        1.3782  33.0803\n      3        \u001B[36m1.3769\u001B[0m       \u001B[32m0.9969\u001B[0m        \u001B[35m1.3750\u001B[0m  33.0727\n      4        \u001B[36m1.3762\u001B[0m       0.9965        1.3754  32.8432\n      5        \u001B[36m1.3761\u001B[0m       0.9969        1.3751  32.8819\n      6        \u001B[36m1.3760\u001B[0m       0.9969        1.3751  32.7639\n      7        \u001B[36m1.3757\u001B[0m       0.9967        1.3752  33.0167\n      8        1.3759       0.9965        1.3754  32.9134\nBest Parameters: {'batch_size': 128, 'max_epochs': 8, 'optimizer__lr': 0.001}\nBest Score: 0.997269003186163\n",
     "output_type": "stream"
    }
   ]
  },
  {
   "cell_type": "markdown",
   "source": [
    "Testing phase:"
   ],
   "metadata": {}
  }
 ]
}
