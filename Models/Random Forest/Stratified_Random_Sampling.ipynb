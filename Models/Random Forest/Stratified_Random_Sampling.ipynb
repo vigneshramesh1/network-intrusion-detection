{
  "nbformat": 4,
  "nbformat_minor": 0,
  "metadata": {
    "colab": {
      "provenance": []
    },
    "kernelspec": {
      "name": "python3",
      "display_name": "Python 3"
    },
    "language_info": {
      "name": "python"
    }
  },
  "cells": [
    {
      "cell_type": "code",
      "execution_count": 1,
      "metadata": {
        "colab": {
          "base_uri": "https://localhost:8080/"
        },
        "id": "XxcsQIXF68jM",
        "outputId": "0639c5cf-b289-4682-bf1c-2ba390a95bd5"
      },
      "outputs": [
        {
          "output_type": "stream",
          "name": "stdout",
          "text": [
            "Collecting fancyimpute\n",
            "  Downloading fancyimpute-0.7.0.tar.gz (25 kB)\n",
            "  Preparing metadata (setup.py) ... \u001b[?25l\u001b[?25hdone\n",
            "Collecting knnimpute>=0.1.0 (from fancyimpute)\n",
            "  Downloading knnimpute-0.1.0.tar.gz (8.3 kB)\n",
            "  Preparing metadata (setup.py) ... \u001b[?25l\u001b[?25hdone\n",
            "Requirement already satisfied: scikit-learn>=0.24.2 in /usr/local/lib/python3.10/dist-packages (from fancyimpute) (1.2.2)\n",
            "Requirement already satisfied: cvxpy in /usr/local/lib/python3.10/dist-packages (from fancyimpute) (1.3.3)\n",
            "Requirement already satisfied: cvxopt in /usr/local/lib/python3.10/dist-packages (from fancyimpute) (1.3.2)\n",
            "Requirement already satisfied: pytest in /usr/local/lib/python3.10/dist-packages (from fancyimpute) (7.4.4)\n",
            "Collecting nose (from fancyimpute)\n",
            "  Downloading nose-1.3.7-py3-none-any.whl (154 kB)\n",
            "\u001b[2K     \u001b[90m━━━━━━━━━━━━━━━━━━━━━━━━━━━━━━━━━━━━━━━━\u001b[0m \u001b[32m154.7/154.7 kB\u001b[0m \u001b[31m7.4 MB/s\u001b[0m eta \u001b[36m0:00:00\u001b[0m\n",
            "\u001b[?25hRequirement already satisfied: six in /usr/local/lib/python3.10/dist-packages (from knnimpute>=0.1.0->fancyimpute) (1.16.0)\n",
            "Requirement already satisfied: numpy>=1.10 in /usr/local/lib/python3.10/dist-packages (from knnimpute>=0.1.0->fancyimpute) (1.25.2)\n",
            "Requirement already satisfied: scipy>=1.3.2 in /usr/local/lib/python3.10/dist-packages (from scikit-learn>=0.24.2->fancyimpute) (1.11.4)\n",
            "Requirement already satisfied: joblib>=1.1.1 in /usr/local/lib/python3.10/dist-packages (from scikit-learn>=0.24.2->fancyimpute) (1.3.2)\n",
            "Requirement already satisfied: threadpoolctl>=2.0.0 in /usr/local/lib/python3.10/dist-packages (from scikit-learn>=0.24.2->fancyimpute) (3.3.0)\n",
            "Requirement already satisfied: osqp>=0.4.1 in /usr/local/lib/python3.10/dist-packages (from cvxpy->fancyimpute) (0.6.2.post8)\n",
            "Requirement already satisfied: ecos>=2 in /usr/local/lib/python3.10/dist-packages (from cvxpy->fancyimpute) (2.0.13)\n",
            "Requirement already satisfied: scs>=1.1.6 in /usr/local/lib/python3.10/dist-packages (from cvxpy->fancyimpute) (3.2.4.post1)\n",
            "Requirement already satisfied: setuptools>65.5.1 in /usr/local/lib/python3.10/dist-packages (from cvxpy->fancyimpute) (67.7.2)\n",
            "Requirement already satisfied: iniconfig in /usr/local/lib/python3.10/dist-packages (from pytest->fancyimpute) (2.0.0)\n",
            "Requirement already satisfied: packaging in /usr/local/lib/python3.10/dist-packages (from pytest->fancyimpute) (24.0)\n",
            "Requirement already satisfied: pluggy<2.0,>=0.12 in /usr/local/lib/python3.10/dist-packages (from pytest->fancyimpute) (1.4.0)\n",
            "Requirement already satisfied: exceptiongroup>=1.0.0rc8 in /usr/local/lib/python3.10/dist-packages (from pytest->fancyimpute) (1.2.0)\n",
            "Requirement already satisfied: tomli>=1.0.0 in /usr/local/lib/python3.10/dist-packages (from pytest->fancyimpute) (2.0.1)\n",
            "Requirement already satisfied: qdldl in /usr/local/lib/python3.10/dist-packages (from osqp>=0.4.1->cvxpy->fancyimpute) (0.1.7.post0)\n",
            "Building wheels for collected packages: fancyimpute, knnimpute\n",
            "  Building wheel for fancyimpute (setup.py) ... \u001b[?25l\u001b[?25hdone\n",
            "  Created wheel for fancyimpute: filename=fancyimpute-0.7.0-py3-none-any.whl size=29881 sha256=ef6236664e2ab4ed3cc51bb5fc07725a6fcc7a59901051827c68ed73268d1a15\n",
            "  Stored in directory: /root/.cache/pip/wheels/7b/0c/d3/ee82d1fbdcc0858d96434af108608d01703505d453720c84ed\n",
            "  Building wheel for knnimpute (setup.py) ... \u001b[?25l\u001b[?25hdone\n",
            "  Created wheel for knnimpute: filename=knnimpute-0.1.0-py3-none-any.whl size=11330 sha256=677a2df6eefeabb65182a51ababd93f7ae3009410d61944046f1d656d9392186\n",
            "  Stored in directory: /root/.cache/pip/wheels/46/06/a5/45a724630562413c374e29c08732411d496092408b3a7bf754\n",
            "Successfully built fancyimpute knnimpute\n",
            "Installing collected packages: nose, knnimpute, fancyimpute\n",
            "Successfully installed fancyimpute-0.7.0 knnimpute-0.1.0 nose-1.3.7\n"
          ]
        }
      ],
      "source": [
        "!pip install fancyimpute"
      ]
    },
    {
      "cell_type": "code",
      "source": [
        "import numpy as np\n",
        "import pandas as pd\n",
        "import matplotlib.pyplot as plt\n",
        "import seaborn as sns\n",
        "import missingno as msno\n",
        "import multiprocessing\n",
        "import sklearn\n",
        "from tqdm import tqdm\n",
        "from sklearn import preprocessing\n",
        "from sklearn.model_selection import train_test_split\n",
        "from sklearn.metrics import accuracy_score\n",
        "import fancyimpute\n",
        "from fancyimpute import IterativeImputer\n",
        "from sklearn.decomposition import PCA\n",
        "from sklearn.feature_selection import mutual_info_classif\n",
        "from sklearn.ensemble import RandomForestClassifier\n",
        "from sklearn.metrics import confusion_matrix\n",
        "import seaborn as sns\n",
        "import matplotlib.pyplot as plt\n",
        "from sklearn.metrics import accuracy_score, precision_score, recall_score, f1_score\n",
        "from sklearn.model_selection import StratifiedShuffleSplit"
      ],
      "metadata": {
        "id": "fW6CuUk48MBT"
      },
      "execution_count": 2,
      "outputs": []
    },
    {
      "cell_type": "code",
      "source": [
        "# Read the data\n",
        "df = pd.read_csv('csv_preprocessed.csv', low_memory=False)\n",
        "df.describe()"
      ],
      "metadata": {
        "colab": {
          "base_uri": "https://localhost:8080/",
          "height": 436
        },
        "id": "cvtwPUrM8QVf",
        "outputId": "34e4be6e-7c66-49d6-b6a1-06ec2688fc39"
      },
      "execution_count": 72,
      "outputs": [
        {
          "output_type": "execute_result",
          "data": {
            "text/plain": [
              "                Dur          sTos          dTos          sTtl          dTtl  \\\n",
              "count  1.215675e+06  1.215675e+06  1.215675e+06  1.215675e+06  1.215675e+06   \n",
              "mean   4.004418e-16  9.127304e-17  1.204505e-16  1.077321e-16  3.433961e-15   \n",
              "std    1.000000e+00  1.000000e+00  1.000000e+00  1.000000e+00  1.000000e+00   \n",
              "min   -8.070846e-01 -6.904596e-02 -9.473906e-02 -8.127508e-01 -2.027293e+00   \n",
              "25%   -8.070846e-01 -6.904596e-02 -9.473906e-02 -3.299762e-01 -7.320131e-03   \n",
              "50%   -8.070846e-01 -6.904596e-02 -9.473906e-02 -3.299762e-01 -7.320131e-03   \n",
              "75%    7.185632e-01 -6.904596e-02 -1.773502e-16 -3.299762e-01  1.190749e-13   \n",
              "max    1.097086e+01  1.782382e+01  1.847537e+01  3.103087e+00  1.428212e+01   \n",
              "\n",
              "              sHops         dHops       TotPkts       SrcPkts       DstPkts  \\\n",
              "count  1.215675e+06  1.215675e+06  1.215675e+06  1.215675e+06  1.215675e+06   \n",
              "mean  -7.359824e-17 -5.308051e-16  2.749413e-17  2.899041e-17  3.721995e-17   \n",
              "std    1.000000e+00  1.000000e+00  1.000000e+00  1.000000e+00  1.000000e+00   \n",
              "min   -6.332522e-01 -9.730588e-01 -1.670113e-01 -2.010034e-01 -1.158561e-01   \n",
              "25%   -3.526917e-01 -9.730588e-01 -1.670113e-01 -1.466962e-01 -1.158561e-01   \n",
              "50%   -3.526917e-01 -1.939318e-13 -1.267248e-01 -1.466962e-01 -1.158561e-01   \n",
              "75%   -3.526917e-01 -1.939318e-13 -1.267248e-01 -9.238911e-02 -1.158561e-01   \n",
              "max    7.222442e+00  2.128461e+01  1.608177e+02  5.334583e+01  2.526345e+02   \n",
              "\n",
              "       ...  Cause_Status     State_ACC     State_CON     State_ECO  \\\n",
              "count  ...  1.215675e+06  1.215675e+06  1.215675e+06  1.215675e+06   \n",
              "mean   ...  5.992416e-01  9.122504e-04  1.087009e-01  2.370782e-02   \n",
              "std    ...  4.900524e-01  3.018972e-02  3.112637e-01  1.521374e-01   \n",
              "min    ...  0.000000e+00  0.000000e+00  0.000000e+00  0.000000e+00   \n",
              "25%    ...  0.000000e+00  0.000000e+00  0.000000e+00  0.000000e+00   \n",
              "50%    ...  1.000000e+00  0.000000e+00  0.000000e+00  0.000000e+00   \n",
              "75%    ...  1.000000e+00  0.000000e+00  0.000000e+00  0.000000e+00   \n",
              "max    ...  1.000000e+00  1.000000e+00  1.000000e+00  1.000000e+00   \n",
              "\n",
              "          State_FIN     State_INT     State_REQ     State_RST     State_URP  \\\n",
              "count  1.215675e+06  1.215675e+06  1.215675e+06  1.215675e+06  1.215675e+06   \n",
              "mean   4.868160e-02  2.704111e-01  4.846098e-01  6.224525e-02  6.465544e-04   \n",
              "std    2.152016e-01  4.441724e-01  4.997633e-01  2.416006e-01  2.541922e-02   \n",
              "min    0.000000e+00  0.000000e+00  0.000000e+00  0.000000e+00  0.000000e+00   \n",
              "25%    0.000000e+00  0.000000e+00  0.000000e+00  0.000000e+00  0.000000e+00   \n",
              "50%    0.000000e+00  0.000000e+00  0.000000e+00  0.000000e+00  0.000000e+00   \n",
              "75%    0.000000e+00  1.000000e+00  1.000000e+00  0.000000e+00  0.000000e+00   \n",
              "max    1.000000e+00  1.000000e+00  1.000000e+00  1.000000e+00  1.000000e+00   \n",
              "\n",
              "        Attack Type  \n",
              "count  1.215675e+06  \n",
              "mean   3.345480e+00  \n",
              "std    3.260681e+00  \n",
              "min    0.000000e+00  \n",
              "25%    0.000000e+00  \n",
              "50%    1.000000e+00  \n",
              "75%    7.000000e+00  \n",
              "max    8.000000e+00  \n",
              "\n",
              "[8 rows x 63 columns]"
            ],
            "text/html": [
              "\n",
              "  <div id=\"df-deca874a-081b-42f9-aae1-1a40683cff07\" class=\"colab-df-container\">\n",
              "    <div>\n",
              "<style scoped>\n",
              "    .dataframe tbody tr th:only-of-type {\n",
              "        vertical-align: middle;\n",
              "    }\n",
              "\n",
              "    .dataframe tbody tr th {\n",
              "        vertical-align: top;\n",
              "    }\n",
              "\n",
              "    .dataframe thead th {\n",
              "        text-align: right;\n",
              "    }\n",
              "</style>\n",
              "<table border=\"1\" class=\"dataframe\">\n",
              "  <thead>\n",
              "    <tr style=\"text-align: right;\">\n",
              "      <th></th>\n",
              "      <th>Dur</th>\n",
              "      <th>sTos</th>\n",
              "      <th>dTos</th>\n",
              "      <th>sTtl</th>\n",
              "      <th>dTtl</th>\n",
              "      <th>sHops</th>\n",
              "      <th>dHops</th>\n",
              "      <th>TotPkts</th>\n",
              "      <th>SrcPkts</th>\n",
              "      <th>DstPkts</th>\n",
              "      <th>...</th>\n",
              "      <th>Cause_Status</th>\n",
              "      <th>State_ACC</th>\n",
              "      <th>State_CON</th>\n",
              "      <th>State_ECO</th>\n",
              "      <th>State_FIN</th>\n",
              "      <th>State_INT</th>\n",
              "      <th>State_REQ</th>\n",
              "      <th>State_RST</th>\n",
              "      <th>State_URP</th>\n",
              "      <th>Attack Type</th>\n",
              "    </tr>\n",
              "  </thead>\n",
              "  <tbody>\n",
              "    <tr>\n",
              "      <th>count</th>\n",
              "      <td>1.215675e+06</td>\n",
              "      <td>1.215675e+06</td>\n",
              "      <td>1.215675e+06</td>\n",
              "      <td>1.215675e+06</td>\n",
              "      <td>1.215675e+06</td>\n",
              "      <td>1.215675e+06</td>\n",
              "      <td>1.215675e+06</td>\n",
              "      <td>1.215675e+06</td>\n",
              "      <td>1.215675e+06</td>\n",
              "      <td>1.215675e+06</td>\n",
              "      <td>...</td>\n",
              "      <td>1.215675e+06</td>\n",
              "      <td>1.215675e+06</td>\n",
              "      <td>1.215675e+06</td>\n",
              "      <td>1.215675e+06</td>\n",
              "      <td>1.215675e+06</td>\n",
              "      <td>1.215675e+06</td>\n",
              "      <td>1.215675e+06</td>\n",
              "      <td>1.215675e+06</td>\n",
              "      <td>1.215675e+06</td>\n",
              "      <td>1.215675e+06</td>\n",
              "    </tr>\n",
              "    <tr>\n",
              "      <th>mean</th>\n",
              "      <td>4.004418e-16</td>\n",
              "      <td>9.127304e-17</td>\n",
              "      <td>1.204505e-16</td>\n",
              "      <td>1.077321e-16</td>\n",
              "      <td>3.433961e-15</td>\n",
              "      <td>-7.359824e-17</td>\n",
              "      <td>-5.308051e-16</td>\n",
              "      <td>2.749413e-17</td>\n",
              "      <td>2.899041e-17</td>\n",
              "      <td>3.721995e-17</td>\n",
              "      <td>...</td>\n",
              "      <td>5.992416e-01</td>\n",
              "      <td>9.122504e-04</td>\n",
              "      <td>1.087009e-01</td>\n",
              "      <td>2.370782e-02</td>\n",
              "      <td>4.868160e-02</td>\n",
              "      <td>2.704111e-01</td>\n",
              "      <td>4.846098e-01</td>\n",
              "      <td>6.224525e-02</td>\n",
              "      <td>6.465544e-04</td>\n",
              "      <td>3.345480e+00</td>\n",
              "    </tr>\n",
              "    <tr>\n",
              "      <th>std</th>\n",
              "      <td>1.000000e+00</td>\n",
              "      <td>1.000000e+00</td>\n",
              "      <td>1.000000e+00</td>\n",
              "      <td>1.000000e+00</td>\n",
              "      <td>1.000000e+00</td>\n",
              "      <td>1.000000e+00</td>\n",
              "      <td>1.000000e+00</td>\n",
              "      <td>1.000000e+00</td>\n",
              "      <td>1.000000e+00</td>\n",
              "      <td>1.000000e+00</td>\n",
              "      <td>...</td>\n",
              "      <td>4.900524e-01</td>\n",
              "      <td>3.018972e-02</td>\n",
              "      <td>3.112637e-01</td>\n",
              "      <td>1.521374e-01</td>\n",
              "      <td>2.152016e-01</td>\n",
              "      <td>4.441724e-01</td>\n",
              "      <td>4.997633e-01</td>\n",
              "      <td>2.416006e-01</td>\n",
              "      <td>2.541922e-02</td>\n",
              "      <td>3.260681e+00</td>\n",
              "    </tr>\n",
              "    <tr>\n",
              "      <th>min</th>\n",
              "      <td>-8.070846e-01</td>\n",
              "      <td>-6.904596e-02</td>\n",
              "      <td>-9.473906e-02</td>\n",
              "      <td>-8.127508e-01</td>\n",
              "      <td>-2.027293e+00</td>\n",
              "      <td>-6.332522e-01</td>\n",
              "      <td>-9.730588e-01</td>\n",
              "      <td>-1.670113e-01</td>\n",
              "      <td>-2.010034e-01</td>\n",
              "      <td>-1.158561e-01</td>\n",
              "      <td>...</td>\n",
              "      <td>0.000000e+00</td>\n",
              "      <td>0.000000e+00</td>\n",
              "      <td>0.000000e+00</td>\n",
              "      <td>0.000000e+00</td>\n",
              "      <td>0.000000e+00</td>\n",
              "      <td>0.000000e+00</td>\n",
              "      <td>0.000000e+00</td>\n",
              "      <td>0.000000e+00</td>\n",
              "      <td>0.000000e+00</td>\n",
              "      <td>0.000000e+00</td>\n",
              "    </tr>\n",
              "    <tr>\n",
              "      <th>25%</th>\n",
              "      <td>-8.070846e-01</td>\n",
              "      <td>-6.904596e-02</td>\n",
              "      <td>-9.473906e-02</td>\n",
              "      <td>-3.299762e-01</td>\n",
              "      <td>-7.320131e-03</td>\n",
              "      <td>-3.526917e-01</td>\n",
              "      <td>-9.730588e-01</td>\n",
              "      <td>-1.670113e-01</td>\n",
              "      <td>-1.466962e-01</td>\n",
              "      <td>-1.158561e-01</td>\n",
              "      <td>...</td>\n",
              "      <td>0.000000e+00</td>\n",
              "      <td>0.000000e+00</td>\n",
              "      <td>0.000000e+00</td>\n",
              "      <td>0.000000e+00</td>\n",
              "      <td>0.000000e+00</td>\n",
              "      <td>0.000000e+00</td>\n",
              "      <td>0.000000e+00</td>\n",
              "      <td>0.000000e+00</td>\n",
              "      <td>0.000000e+00</td>\n",
              "      <td>0.000000e+00</td>\n",
              "    </tr>\n",
              "    <tr>\n",
              "      <th>50%</th>\n",
              "      <td>-8.070846e-01</td>\n",
              "      <td>-6.904596e-02</td>\n",
              "      <td>-9.473906e-02</td>\n",
              "      <td>-3.299762e-01</td>\n",
              "      <td>-7.320131e-03</td>\n",
              "      <td>-3.526917e-01</td>\n",
              "      <td>-1.939318e-13</td>\n",
              "      <td>-1.267248e-01</td>\n",
              "      <td>-1.466962e-01</td>\n",
              "      <td>-1.158561e-01</td>\n",
              "      <td>...</td>\n",
              "      <td>1.000000e+00</td>\n",
              "      <td>0.000000e+00</td>\n",
              "      <td>0.000000e+00</td>\n",
              "      <td>0.000000e+00</td>\n",
              "      <td>0.000000e+00</td>\n",
              "      <td>0.000000e+00</td>\n",
              "      <td>0.000000e+00</td>\n",
              "      <td>0.000000e+00</td>\n",
              "      <td>0.000000e+00</td>\n",
              "      <td>1.000000e+00</td>\n",
              "    </tr>\n",
              "    <tr>\n",
              "      <th>75%</th>\n",
              "      <td>7.185632e-01</td>\n",
              "      <td>-6.904596e-02</td>\n",
              "      <td>-1.773502e-16</td>\n",
              "      <td>-3.299762e-01</td>\n",
              "      <td>1.190749e-13</td>\n",
              "      <td>-3.526917e-01</td>\n",
              "      <td>-1.939318e-13</td>\n",
              "      <td>-1.267248e-01</td>\n",
              "      <td>-9.238911e-02</td>\n",
              "      <td>-1.158561e-01</td>\n",
              "      <td>...</td>\n",
              "      <td>1.000000e+00</td>\n",
              "      <td>0.000000e+00</td>\n",
              "      <td>0.000000e+00</td>\n",
              "      <td>0.000000e+00</td>\n",
              "      <td>0.000000e+00</td>\n",
              "      <td>1.000000e+00</td>\n",
              "      <td>1.000000e+00</td>\n",
              "      <td>0.000000e+00</td>\n",
              "      <td>0.000000e+00</td>\n",
              "      <td>7.000000e+00</td>\n",
              "    </tr>\n",
              "    <tr>\n",
              "      <th>max</th>\n",
              "      <td>1.097086e+01</td>\n",
              "      <td>1.782382e+01</td>\n",
              "      <td>1.847537e+01</td>\n",
              "      <td>3.103087e+00</td>\n",
              "      <td>1.428212e+01</td>\n",
              "      <td>7.222442e+00</td>\n",
              "      <td>2.128461e+01</td>\n",
              "      <td>1.608177e+02</td>\n",
              "      <td>5.334583e+01</td>\n",
              "      <td>2.526345e+02</td>\n",
              "      <td>...</td>\n",
              "      <td>1.000000e+00</td>\n",
              "      <td>1.000000e+00</td>\n",
              "      <td>1.000000e+00</td>\n",
              "      <td>1.000000e+00</td>\n",
              "      <td>1.000000e+00</td>\n",
              "      <td>1.000000e+00</td>\n",
              "      <td>1.000000e+00</td>\n",
              "      <td>1.000000e+00</td>\n",
              "      <td>1.000000e+00</td>\n",
              "      <td>8.000000e+00</td>\n",
              "    </tr>\n",
              "  </tbody>\n",
              "</table>\n",
              "<p>8 rows × 63 columns</p>\n",
              "</div>\n",
              "    <div class=\"colab-df-buttons\">\n",
              "\n",
              "  <div class=\"colab-df-container\">\n",
              "    <button class=\"colab-df-convert\" onclick=\"convertToInteractive('df-deca874a-081b-42f9-aae1-1a40683cff07')\"\n",
              "            title=\"Convert this dataframe to an interactive table.\"\n",
              "            style=\"display:none;\">\n",
              "\n",
              "  <svg xmlns=\"http://www.w3.org/2000/svg\" height=\"24px\" viewBox=\"0 -960 960 960\">\n",
              "    <path d=\"M120-120v-720h720v720H120Zm60-500h600v-160H180v160Zm220 220h160v-160H400v160Zm0 220h160v-160H400v160ZM180-400h160v-160H180v160Zm440 0h160v-160H620v160ZM180-180h160v-160H180v160Zm440 0h160v-160H620v160Z\"/>\n",
              "  </svg>\n",
              "    </button>\n",
              "\n",
              "  <style>\n",
              "    .colab-df-container {\n",
              "      display:flex;\n",
              "      gap: 12px;\n",
              "    }\n",
              "\n",
              "    .colab-df-convert {\n",
              "      background-color: #E8F0FE;\n",
              "      border: none;\n",
              "      border-radius: 50%;\n",
              "      cursor: pointer;\n",
              "      display: none;\n",
              "      fill: #1967D2;\n",
              "      height: 32px;\n",
              "      padding: 0 0 0 0;\n",
              "      width: 32px;\n",
              "    }\n",
              "\n",
              "    .colab-df-convert:hover {\n",
              "      background-color: #E2EBFA;\n",
              "      box-shadow: 0px 1px 2px rgba(60, 64, 67, 0.3), 0px 1px 3px 1px rgba(60, 64, 67, 0.15);\n",
              "      fill: #174EA6;\n",
              "    }\n",
              "\n",
              "    .colab-df-buttons div {\n",
              "      margin-bottom: 4px;\n",
              "    }\n",
              "\n",
              "    [theme=dark] .colab-df-convert {\n",
              "      background-color: #3B4455;\n",
              "      fill: #D2E3FC;\n",
              "    }\n",
              "\n",
              "    [theme=dark] .colab-df-convert:hover {\n",
              "      background-color: #434B5C;\n",
              "      box-shadow: 0px 1px 3px 1px rgba(0, 0, 0, 0.15);\n",
              "      filter: drop-shadow(0px 1px 2px rgba(0, 0, 0, 0.3));\n",
              "      fill: #FFFFFF;\n",
              "    }\n",
              "  </style>\n",
              "\n",
              "    <script>\n",
              "      const buttonEl =\n",
              "        document.querySelector('#df-deca874a-081b-42f9-aae1-1a40683cff07 button.colab-df-convert');\n",
              "      buttonEl.style.display =\n",
              "        google.colab.kernel.accessAllowed ? 'block' : 'none';\n",
              "\n",
              "      async function convertToInteractive(key) {\n",
              "        const element = document.querySelector('#df-deca874a-081b-42f9-aae1-1a40683cff07');\n",
              "        const dataTable =\n",
              "          await google.colab.kernel.invokeFunction('convertToInteractive',\n",
              "                                                    [key], {});\n",
              "        if (!dataTable) return;\n",
              "\n",
              "        const docLinkHtml = 'Like what you see? Visit the ' +\n",
              "          '<a target=\"_blank\" href=https://colab.research.google.com/notebooks/data_table.ipynb>data table notebook</a>'\n",
              "          + ' to learn more about interactive tables.';\n",
              "        element.innerHTML = '';\n",
              "        dataTable['output_type'] = 'display_data';\n",
              "        await google.colab.output.renderOutput(dataTable, element);\n",
              "        const docLink = document.createElement('div');\n",
              "        docLink.innerHTML = docLinkHtml;\n",
              "        element.appendChild(docLink);\n",
              "      }\n",
              "    </script>\n",
              "  </div>\n",
              "\n",
              "\n",
              "<div id=\"df-74bb859d-0b4d-40e5-9566-184b541a853c\">\n",
              "  <button class=\"colab-df-quickchart\" onclick=\"quickchart('df-74bb859d-0b4d-40e5-9566-184b541a853c')\"\n",
              "            title=\"Suggest charts\"\n",
              "            style=\"display:none;\">\n",
              "\n",
              "<svg xmlns=\"http://www.w3.org/2000/svg\" height=\"24px\"viewBox=\"0 0 24 24\"\n",
              "     width=\"24px\">\n",
              "    <g>\n",
              "        <path d=\"M19 3H5c-1.1 0-2 .9-2 2v14c0 1.1.9 2 2 2h14c1.1 0 2-.9 2-2V5c0-1.1-.9-2-2-2zM9 17H7v-7h2v7zm4 0h-2V7h2v10zm4 0h-2v-4h2v4z\"/>\n",
              "    </g>\n",
              "</svg>\n",
              "  </button>\n",
              "\n",
              "<style>\n",
              "  .colab-df-quickchart {\n",
              "      --bg-color: #E8F0FE;\n",
              "      --fill-color: #1967D2;\n",
              "      --hover-bg-color: #E2EBFA;\n",
              "      --hover-fill-color: #174EA6;\n",
              "      --disabled-fill-color: #AAA;\n",
              "      --disabled-bg-color: #DDD;\n",
              "  }\n",
              "\n",
              "  [theme=dark] .colab-df-quickchart {\n",
              "      --bg-color: #3B4455;\n",
              "      --fill-color: #D2E3FC;\n",
              "      --hover-bg-color: #434B5C;\n",
              "      --hover-fill-color: #FFFFFF;\n",
              "      --disabled-bg-color: #3B4455;\n",
              "      --disabled-fill-color: #666;\n",
              "  }\n",
              "\n",
              "  .colab-df-quickchart {\n",
              "    background-color: var(--bg-color);\n",
              "    border: none;\n",
              "    border-radius: 50%;\n",
              "    cursor: pointer;\n",
              "    display: none;\n",
              "    fill: var(--fill-color);\n",
              "    height: 32px;\n",
              "    padding: 0;\n",
              "    width: 32px;\n",
              "  }\n",
              "\n",
              "  .colab-df-quickchart:hover {\n",
              "    background-color: var(--hover-bg-color);\n",
              "    box-shadow: 0 1px 2px rgba(60, 64, 67, 0.3), 0 1px 3px 1px rgba(60, 64, 67, 0.15);\n",
              "    fill: var(--button-hover-fill-color);\n",
              "  }\n",
              "\n",
              "  .colab-df-quickchart-complete:disabled,\n",
              "  .colab-df-quickchart-complete:disabled:hover {\n",
              "    background-color: var(--disabled-bg-color);\n",
              "    fill: var(--disabled-fill-color);\n",
              "    box-shadow: none;\n",
              "  }\n",
              "\n",
              "  .colab-df-spinner {\n",
              "    border: 2px solid var(--fill-color);\n",
              "    border-color: transparent;\n",
              "    border-bottom-color: var(--fill-color);\n",
              "    animation:\n",
              "      spin 1s steps(1) infinite;\n",
              "  }\n",
              "\n",
              "  @keyframes spin {\n",
              "    0% {\n",
              "      border-color: transparent;\n",
              "      border-bottom-color: var(--fill-color);\n",
              "      border-left-color: var(--fill-color);\n",
              "    }\n",
              "    20% {\n",
              "      border-color: transparent;\n",
              "      border-left-color: var(--fill-color);\n",
              "      border-top-color: var(--fill-color);\n",
              "    }\n",
              "    30% {\n",
              "      border-color: transparent;\n",
              "      border-left-color: var(--fill-color);\n",
              "      border-top-color: var(--fill-color);\n",
              "      border-right-color: var(--fill-color);\n",
              "    }\n",
              "    40% {\n",
              "      border-color: transparent;\n",
              "      border-right-color: var(--fill-color);\n",
              "      border-top-color: var(--fill-color);\n",
              "    }\n",
              "    60% {\n",
              "      border-color: transparent;\n",
              "      border-right-color: var(--fill-color);\n",
              "    }\n",
              "    80% {\n",
              "      border-color: transparent;\n",
              "      border-right-color: var(--fill-color);\n",
              "      border-bottom-color: var(--fill-color);\n",
              "    }\n",
              "    90% {\n",
              "      border-color: transparent;\n",
              "      border-bottom-color: var(--fill-color);\n",
              "    }\n",
              "  }\n",
              "</style>\n",
              "\n",
              "  <script>\n",
              "    async function quickchart(key) {\n",
              "      const quickchartButtonEl =\n",
              "        document.querySelector('#' + key + ' button');\n",
              "      quickchartButtonEl.disabled = true;  // To prevent multiple clicks.\n",
              "      quickchartButtonEl.classList.add('colab-df-spinner');\n",
              "      try {\n",
              "        const charts = await google.colab.kernel.invokeFunction(\n",
              "            'suggestCharts', [key], {});\n",
              "      } catch (error) {\n",
              "        console.error('Error during call to suggestCharts:', error);\n",
              "      }\n",
              "      quickchartButtonEl.classList.remove('colab-df-spinner');\n",
              "      quickchartButtonEl.classList.add('colab-df-quickchart-complete');\n",
              "    }\n",
              "    (() => {\n",
              "      let quickchartButtonEl =\n",
              "        document.querySelector('#df-74bb859d-0b4d-40e5-9566-184b541a853c button');\n",
              "      quickchartButtonEl.style.display =\n",
              "        google.colab.kernel.accessAllowed ? 'block' : 'none';\n",
              "    })();\n",
              "  </script>\n",
              "</div>\n",
              "    </div>\n",
              "  </div>\n"
            ],
            "application/vnd.google.colaboratory.intrinsic+json": {
              "type": "dataframe"
            }
          },
          "metadata": {},
          "execution_count": 72
        }
      ]
    },
    {
      "cell_type": "code",
      "source": [
        "print(df.shape)"
      ],
      "metadata": {
        "colab": {
          "base_uri": "https://localhost:8080/"
        },
        "id": "ByaEoITY8WUW",
        "outputId": "c0a537ae-4858-4234-90e1-e14232df45da"
      },
      "execution_count": 73,
      "outputs": [
        {
          "output_type": "stream",
          "name": "stdout",
          "text": [
            "(1215675, 63)\n"
          ]
        }
      ]
    },
    {
      "cell_type": "code",
      "source": [
        "# Train Test split\n",
        "X_train, X_test, y_train, y_test = train_test_split(df.loc[:, df.columns != 'Attack Type'], df['Attack Type'],\n",
        "                                                    stratify=df['Attack Type'],\n",
        "                                                    test_size=0.15)"
      ],
      "metadata": {
        "id": "VHONFQihCRmQ"
      },
      "execution_count": 74,
      "outputs": []
    },
    {
      "cell_type": "code",
      "source": [
        "# Stratified random sampling\n",
        "n_splits = 1  # You can adjust this based on your requirement\n",
        "stratified_splitter = StratifiedShuffleSplit(n_splits=n_splits, test_size=0.15, random_state=42)\n",
        "for train_index, test_index in stratified_splitter.split(df.loc[:, df.columns != 'Attack Type'], df['Attack Type']):\n",
        "    X_train_strat, X_test_strat = df.iloc[train_index], df.iloc[test_index]\n",
        "    y_train_strat, y_test_strat = df['Attack Type'].iloc[train_index], df['Attack Type'].iloc[test_index]"
      ],
      "metadata": {
        "id": "2QpUCakuCUcw"
      },
      "execution_count": 75,
      "outputs": []
    },
    {
      "cell_type": "code",
      "source": [
        "# Print the sizes of the datasets\n",
        "print(\"Stratified Training dataset size:\", X_train_strat.shape)\n",
        "print(\"Stratified Testing dataset size:\", X_test_strat.shape)\n",
        "print(\"Stratified Training target size:\", y_train_strat.shape)\n",
        "print(\"Stratified Testing target size:\", y_test_strat.shape)"
      ],
      "metadata": {
        "colab": {
          "base_uri": "https://localhost:8080/"
        },
        "id": "sHXgUV1dCZS2",
        "outputId": "88f76989-0941-4d26-f4d9-36d426d5d3aa"
      },
      "execution_count": 76,
      "outputs": [
        {
          "output_type": "stream",
          "name": "stdout",
          "text": [
            "Stratified Training dataset size: (1033323, 63)\n",
            "Stratified Testing dataset size: (182352, 63)\n",
            "Stratified Training target size: (1033323,)\n",
            "Stratified Testing target size: (182352,)\n"
          ]
        }
      ]
    },
    {
      "cell_type": "code",
      "source": [
        "# Feature selection\n",
        "def mutual_info(X, Y):\n",
        "    mutual_info_arr = mutual_info_classif(X, Y)\n",
        "    series_info = pd.Series(mutual_info_arr)\n",
        "    series_info.index = X.columns\n",
        "    series_top = series_info.sort_values(ascending=False)[:20]\n",
        "    return series_top"
      ],
      "metadata": {
        "id": "8qDkQujHCbpm"
      },
      "execution_count": 77,
      "outputs": []
    },
    {
      "cell_type": "code",
      "source": [
        "result = mutual_info(X_train, y_train)\n",
        "train_df = X_train[result.keys()]\n",
        "test_df = X_test[result.keys()]"
      ],
      "metadata": {
        "id": "2u5R1H53Cd0S"
      },
      "execution_count": 78,
      "outputs": []
    },
    {
      "cell_type": "code",
      "source": [
        "# PCA\n",
        "def get_pca_df(scaled_data, no_of_components, pca_model):\n",
        "    Principal_components = pca.transform(scaled_data)\n",
        "    column_names = [\"PC \"+str(i) for i in range(1, no_of_components+1)]\n",
        "    pca_df = pd.DataFrame(data=Principal_components, columns=column_names)\n",
        "    return pca_df"
      ],
      "metadata": {
        "id": "R8Cwfk-GFgJn"
      },
      "execution_count": 79,
      "outputs": []
    },
    {
      "cell_type": "code",
      "source": [
        "def get_pca_model(train_data, no_of_components):\n",
        "    pca = PCA(n_components=no_of_components)\n",
        "    pca_model = pca.fit(train_data)\n",
        "    return pca_model"
      ],
      "metadata": {
        "id": "WuDAwhfIFhvw"
      },
      "execution_count": 80,
      "outputs": []
    },
    {
      "cell_type": "code",
      "source": [
        "pca = get_pca_model(train_df, 15)\n",
        "train_df = get_pca_df(train_df, 15, pca)\n",
        "test_df = get_pca_df(test_df, 15, pca)"
      ],
      "metadata": {
        "id": "IWpvi9LeFjqL"
      },
      "execution_count": 81,
      "outputs": []
    },
    {
      "cell_type": "code",
      "source": [
        "# Random Forest Classifier\n",
        "rfc = RandomForestClassifier(n_estimators=5, criterion=\"gini\", random_state=21)\n",
        "rfc.fit(train_df.values, y_train.values)\n",
        "y_pred = rfc.predict(test_df)"
      ],
      "metadata": {
        "colab": {
          "base_uri": "https://localhost:8080/"
        },
        "id": "TyVVPyP6FoY3",
        "outputId": "7256ed66-78a3-4659-f780-ee8fe4e551a5"
      },
      "execution_count": 82,
      "outputs": [
        {
          "output_type": "stream",
          "name": "stderr",
          "text": [
            "/usr/local/lib/python3.10/dist-packages/sklearn/base.py:432: UserWarning: X has feature names, but RandomForestClassifier was fitted without feature names\n",
            "  warnings.warn(\n"
          ]
        }
      ]
    },
    {
      "cell_type": "code",
      "source": [
        "# Confusion Matrix\n",
        "confusion_mat = confusion_matrix(y_test, y_pred)\n",
        "sns.heatmap(confusion_mat, annot=True, fmt='d')\n",
        "plt.xlabel(\"Predicted Label\")\n",
        "plt.ylabel(\"True Label\")\n",
        "plt.title(\"Confusion matrix\")\n",
        "plt.show()"
      ],
      "metadata": {
        "colab": {
          "base_uri": "https://localhost:8080/",
          "height": 472
        },
        "id": "ixK6EBkfFwWK",
        "outputId": "9532d6db-1c9f-46e8-9a0c-08bb8363efef"
      },
      "execution_count": 83,
      "outputs": [
        {
          "output_type": "display_data",
          "data": {
            "text/plain": [
              "<Figure size 640x480 with 2 Axes>"
            ],
            "image/png": "[encoded data removed]"
          },
          "metadata": {}
        }
      ]
    },
    {
      "cell_type": "code",
      "source": [
        "# Metrics\n",
        "accuracy = accuracy_score(y_test, y_pred)\n",
        "print(f'Accuracy: {accuracy}')"
      ],
      "metadata": {
        "colab": {
          "base_uri": "https://localhost:8080/"
        },
        "id": "kAtXzNaeFzZD",
        "outputId": "9fbc8356-05c3-4a5f-b706-8b9021bc41a7"
      },
      "execution_count": 84,
      "outputs": [
        {
          "output_type": "stream",
          "name": "stdout",
          "text": [
            "Accuracy: 0.9928435114503816\n"
          ]
        }
      ]
    },
    {
      "cell_type": "code",
      "source": [
        "precision = precision_score(y_test, y_pred, average='weighted')\n",
        "print(f'Precision: {precision}')"
      ],
      "metadata": {
        "colab": {
          "base_uri": "https://localhost:8080/"
        },
        "id": "yYG2zzwTF2rZ",
        "outputId": "37f35d2f-cb9d-435d-e855-504c21a9815d"
      },
      "execution_count": 85,
      "outputs": [
        {
          "output_type": "stream",
          "name": "stdout",
          "text": [
            "Precision: 0.9928262498818363\n"
          ]
        }
      ]
    },
    {
      "cell_type": "code",
      "source": [
        "recall = recall_score(y_test, y_pred, average='weighted')\n",
        "print(f'Recall: {recall}')"
      ],
      "metadata": {
        "colab": {
          "base_uri": "https://localhost:8080/"
        },
        "id": "Poesnr9SF4pN",
        "outputId": "b6d51643-fc95-45ae-d2da-c34974046f55"
      },
      "execution_count": 86,
      "outputs": [
        {
          "output_type": "stream",
          "name": "stdout",
          "text": [
            "Recall: 0.9928435114503816\n"
          ]
        }
      ]
    },
    {
      "cell_type": "code",
      "source": [
        "f1 = f1_score(y_test, y_pred, average='weighted')\n",
        "print(f'F1 Score: {f1}')"
      ],
      "metadata": {
        "colab": {
          "base_uri": "https://localhost:8080/"
        },
        "id": "lapJDNFCF6YP",
        "outputId": "7d14a367-5103-4bd5-9082-9e5c08ebf05f"
      },
      "execution_count": 87,
      "outputs": [
        {
          "output_type": "stream",
          "name": "stdout",
          "text": [
            "F1 Score: 0.9928279790107102\n"
          ]
        }
      ]
    }
  ]
}