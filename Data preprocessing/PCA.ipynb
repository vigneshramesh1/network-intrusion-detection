{
  "nbformat": 4,
  "nbformat_minor": 0,
  "metadata": {
    "colab": {
      "provenance": []
    },
    "kernelspec": {
      "name": "python3",
      "display_name": "Python 3"
    },
    "language_info": {
      "name": "python"
    }
  },
  "cells": [
    {
      "cell_type": "code",
      "execution_count": 1,
      "metadata": {
        "id": "eB-GOdDhagw4"
      },
      "outputs": [],
      "source": [
        "import pandas as pd\n",
        "import matplotlib.pyplot as plt\n",
        "from sklearn.tree import DecisionTreeRegressor\n",
        "from sklearn.preprocessing import StandardScaler\n",
        "from sklearn.feature_selection import mutual_info_regression\n",
        "from sklearn.model_selection import GridSearchCV\n",
        "from sklearn.model_selection import train_test_split\n",
        "from sklearn.preprocessing import LabelEncoder"
      ]
    },
    {
      "cell_type": "code",
      "source": [
        "data = pd.read_csv('Encoded.csv')"
      ],
      "metadata": {
        "id": "yJ-LEZM-fVQm"
      },
      "execution_count": 18,
      "outputs": []
    },
    {
      "cell_type": "code",
      "source": [
        "data.info()"
      ],
      "metadata": {
        "colab": {
          "base_uri": "https://localhost:8080/"
        },
        "id": "mFUb6_Y2feo2",
        "outputId": "716c361e-f9b0-4fe4-f3c5-315e808b6ca5"
      },
      "execution_count": 19,
      "outputs": [
        {
          "output_type": "stream",
          "name": "stdout",
          "text": [
            "<class 'pandas.core.frame.DataFrame'>\n",
            "RangeIndex: 1215890 entries, 0 to 1215889\n",
            "Data columns (total 96 columns):\n",
            " #   Column       Non-Null Count    Dtype  \n",
            "---  ------       --------------    -----  \n",
            " 0   Unnamed: 0   1215890 non-null  int64  \n",
            " 1   Seq          1215890 non-null  int64  \n",
            " 2   Dur          1215890 non-null  float64\n",
            " 3   RunTime      1215890 non-null  float64\n",
            " 4   Mean         1215890 non-null  float64\n",
            " 5   Sum          1215890 non-null  float64\n",
            " 6   Min          1215890 non-null  float64\n",
            " 7   Max          1215890 non-null  float64\n",
            " 8   sTos         1215676 non-null  float64\n",
            " 9   dTos         272823 non-null   float64\n",
            " 10  sTtl         1215676 non-null  float64\n",
            " 11  dTtl         272823 non-null   float64\n",
            " 12  sHops        1215676 non-null  float64\n",
            " 13  dHops        272823 non-null   float64\n",
            " 14  TotPkts      1215890 non-null  int64  \n",
            " 15  SrcPkts      1215890 non-null  int64  \n",
            " 16  DstPkts      1215890 non-null  int64  \n",
            " 17  TotBytes     1215890 non-null  int64  \n",
            " 18  SrcBytes     1215890 non-null  int64  \n",
            " 19  DstBytes     1215890 non-null  int64  \n",
            " 20  Offset       1215890 non-null  int64  \n",
            " 21  sMeanPktSz   1215890 non-null  float64\n",
            " 22  dMeanPktSz   1215890 non-null  float64\n",
            " 23  Load         1215890 non-null  float64\n",
            " 24  SrcLoad      1215890 non-null  float64\n",
            " 25  DstLoad      1215890 non-null  float64\n",
            " 26  Loss         1215890 non-null  int64  \n",
            " 27  SrcLoss      1215890 non-null  int64  \n",
            " 28  DstLoss      1215890 non-null  int64  \n",
            " 29  pLoss        1215890 non-null  float64\n",
            " 30  SrcGap       278671 non-null   float64\n",
            " 31  DstGap       278671 non-null   float64\n",
            " 32  Rate         1215890 non-null  float64\n",
            " 33  SrcRate      1215890 non-null  float64\n",
            " 34  DstRate      1215890 non-null  float64\n",
            " 35  SrcWin       242420 non-null   float64\n",
            " 36  DstWin       177078 non-null   float64\n",
            " 37  sVid         114571 non-null   float64\n",
            " 38  dVid         2009 non-null     float64\n",
            " 39  SrcTCPBase   278671 non-null   float64\n",
            " 40  DstTCPBase   230047 non-null   float64\n",
            " 41  TcpRtt       1215890 non-null  float64\n",
            " 42  SynAck       1215890 non-null  float64\n",
            " 43  AckDat       1215890 non-null  float64\n",
            " 44  Label        1215890 non-null  object \n",
            " 45  Attack Type  1215890 non-null  object \n",
            " 46  Attack Tool  1215890 non-null  object \n",
            " 47   *           1215890 non-null  float64\n",
            " 48   *    V      1215890 non-null  float64\n",
            " 49   *    f      1215890 non-null  float64\n",
            " 50   e           1215890 non-null  float64\n",
            " 51   e    f      1215890 non-null  float64\n",
            " 52   e &         1215890 non-null  float64\n",
            " 53   e *         1215890 non-null  float64\n",
            " 54   e d         1215890 non-null  float64\n",
            " 55   e g         1215890 non-null  float64\n",
            " 56   e i         1215890 non-null  float64\n",
            " 57   e r         1215890 non-null  float64\n",
            " 58   e s         1215890 non-null  float64\n",
            " 59   eU          1215890 non-null  float64\n",
            " 60  e            1215890 non-null  float64\n",
            " 61  arp          1215890 non-null  float64\n",
            " 62  icmp         1215890 non-null  float64\n",
            " 63  ipv6-icmp    1215890 non-null  float64\n",
            " 64  llc          1215890 non-null  float64\n",
            " 65  lldp         1215890 non-null  float64\n",
            " 66  sctp         1215890 non-null  float64\n",
            " 67  tcp          1215890 non-null  float64\n",
            " 68  udp          1215890 non-null  float64\n",
            " 69  ACC          1215890 non-null  float64\n",
            " 70  CON          1215890 non-null  float64\n",
            " 71  ECO          1215890 non-null  float64\n",
            " 72  FIN          1215890 non-null  float64\n",
            " 73  INT          1215890 non-null  float64\n",
            " 74  NRS          1215890 non-null  float64\n",
            " 75  REQ          1215890 non-null  float64\n",
            " 76  RSP          1215890 non-null  float64\n",
            " 77  RST          1215890 non-null  float64\n",
            " 78  TST          1215890 non-null  float64\n",
            " 79  URP          1215890 non-null  float64\n",
            " 80  Shutdown     1215890 non-null  float64\n",
            " 81  Start        1215890 non-null  float64\n",
            " 82  Status       1215890 non-null  float64\n",
            " 83  39           1215890 non-null  float64\n",
            " 84  4            1215890 non-null  float64\n",
            " 85  52           1215890 non-null  float64\n",
            " 86  54           1215890 non-null  float64\n",
            " 87  af11         1215890 non-null  float64\n",
            " 88  af12         1215890 non-null  float64\n",
            " 89  af41         1215890 non-null  float64\n",
            " 90  cs0          1215890 non-null  float64\n",
            " 91  cs4          1215890 non-null  float64\n",
            " 92  cs6          1215890 non-null  float64\n",
            " 93  cs7          1215890 non-null  float64\n",
            " 94  ef           1215890 non-null  float64\n",
            " 95  nan          1215890 non-null  float64\n",
            "dtypes: float64(81), int64(12), object(3)\n",
            "memory usage: 890.5+ MB\n"
          ]
        }
      ]
    },
    {
      "cell_type": "code",
      "source": [
        "from sklearn.feature_selection import mutual_info_classif"
      ],
      "metadata": {
        "id": "k6uYl8pehggB"
      },
      "execution_count": 20,
      "outputs": []
    },
    {
      "cell_type": "code",
      "source": [
        "# X = .drop(columns= 'Label')\n",
        "X = data.loc[:, ~data.columns.str.contains('^Unnamed')]\n",
        "X = X.dropna(axis=1)"
      ],
      "metadata": {
        "id": "1bl7rgBhlqu9"
      },
      "execution_count": 23,
      "outputs": []
    },
    {
      "cell_type": "code",
      "source": [
        "X.info()"
      ],
      "metadata": {
        "colab": {
          "base_uri": "https://localhost:8080/"
        },
        "id": "7kLi6yGpqEwD",
        "outputId": "b8d4794a-7d61-4ac2-ce90-c059967b1ce7"
      },
      "execution_count": 24,
      "outputs": [
        {
          "output_type": "stream",
          "name": "stdout",
          "text": [
            "<class 'pandas.core.frame.DataFrame'>\n",
            "RangeIndex: 1215890 entries, 0 to 1215889\n",
            "Data columns (total 81 columns):\n",
            " #   Column       Non-Null Count    Dtype  \n",
            "---  ------       --------------    -----  \n",
            " 0   Seq          1215890 non-null  int64  \n",
            " 1   Dur          1215890 non-null  float64\n",
            " 2   RunTime      1215890 non-null  float64\n",
            " 3   Mean         1215890 non-null  float64\n",
            " 4   Sum          1215890 non-null  float64\n",
            " 5   Min          1215890 non-null  float64\n",
            " 6   Max          1215890 non-null  float64\n",
            " 7   TotPkts      1215890 non-null  int64  \n",
            " 8   SrcPkts      1215890 non-null  int64  \n",
            " 9   DstPkts      1215890 non-null  int64  \n",
            " 10  TotBytes     1215890 non-null  int64  \n",
            " 11  SrcBytes     1215890 non-null  int64  \n",
            " 12  DstBytes     1215890 non-null  int64  \n",
            " 13  Offset       1215890 non-null  int64  \n",
            " 14  sMeanPktSz   1215890 non-null  float64\n",
            " 15  dMeanPktSz   1215890 non-null  float64\n",
            " 16  Load         1215890 non-null  float64\n",
            " 17  SrcLoad      1215890 non-null  float64\n",
            " 18  DstLoad      1215890 non-null  float64\n",
            " 19  Loss         1215890 non-null  int64  \n",
            " 20  SrcLoss      1215890 non-null  int64  \n",
            " 21  DstLoss      1215890 non-null  int64  \n",
            " 22  pLoss        1215890 non-null  float64\n",
            " 23  Rate         1215890 non-null  float64\n",
            " 24  SrcRate      1215890 non-null  float64\n",
            " 25  DstRate      1215890 non-null  float64\n",
            " 26  TcpRtt       1215890 non-null  float64\n",
            " 27  SynAck       1215890 non-null  float64\n",
            " 28  AckDat       1215890 non-null  float64\n",
            " 29  Label        1215890 non-null  object \n",
            " 30  Attack Type  1215890 non-null  object \n",
            " 31  Attack Tool  1215890 non-null  object \n",
            " 32   *           1215890 non-null  float64\n",
            " 33   *    V      1215890 non-null  float64\n",
            " 34   *    f      1215890 non-null  float64\n",
            " 35   e           1215890 non-null  float64\n",
            " 36   e    f      1215890 non-null  float64\n",
            " 37   e &         1215890 non-null  float64\n",
            " 38   e *         1215890 non-null  float64\n",
            " 39   e d         1215890 non-null  float64\n",
            " 40   e g         1215890 non-null  float64\n",
            " 41   e i         1215890 non-null  float64\n",
            " 42   e r         1215890 non-null  float64\n",
            " 43   e s         1215890 non-null  float64\n",
            " 44   eU          1215890 non-null  float64\n",
            " 45  e            1215890 non-null  float64\n",
            " 46  arp          1215890 non-null  float64\n",
            " 47  icmp         1215890 non-null  float64\n",
            " 48  ipv6-icmp    1215890 non-null  float64\n",
            " 49  llc          1215890 non-null  float64\n",
            " 50  lldp         1215890 non-null  float64\n",
            " 51  sctp         1215890 non-null  float64\n",
            " 52  tcp          1215890 non-null  float64\n",
            " 53  udp          1215890 non-null  float64\n",
            " 54  ACC          1215890 non-null  float64\n",
            " 55  CON          1215890 non-null  float64\n",
            " 56  ECO          1215890 non-null  float64\n",
            " 57  FIN          1215890 non-null  float64\n",
            " 58  INT          1215890 non-null  float64\n",
            " 59  NRS          1215890 non-null  float64\n",
            " 60  REQ          1215890 non-null  float64\n",
            " 61  RSP          1215890 non-null  float64\n",
            " 62  RST          1215890 non-null  float64\n",
            " 63  TST          1215890 non-null  float64\n",
            " 64  URP          1215890 non-null  float64\n",
            " 65  Shutdown     1215890 non-null  float64\n",
            " 66  Start        1215890 non-null  float64\n",
            " 67  Status       1215890 non-null  float64\n",
            " 68  39           1215890 non-null  float64\n",
            " 69  4            1215890 non-null  float64\n",
            " 70  52           1215890 non-null  float64\n",
            " 71  54           1215890 non-null  float64\n",
            " 72  af11         1215890 non-null  float64\n",
            " 73  af12         1215890 non-null  float64\n",
            " 74  af41         1215890 non-null  float64\n",
            " 75  cs0          1215890 non-null  float64\n",
            " 76  cs4          1215890 non-null  float64\n",
            " 77  cs6          1215890 non-null  float64\n",
            " 78  cs7          1215890 non-null  float64\n",
            " 79  ef           1215890 non-null  float64\n",
            " 80  nan          1215890 non-null  float64\n",
            "dtypes: float64(67), int64(11), object(3)\n",
            "memory usage: 751.4+ MB\n"
          ]
        }
      ]
    },
    {
      "cell_type": "code",
      "source": [
        "Y = data.Label"
      ],
      "metadata": {
        "id": "WEHd8214l9iv"
      },
      "execution_count": 25,
      "outputs": []
    },
    {
      "cell_type": "code",
      "source": [
        "# from sklearn.preprocessing import LabelEncoder\n",
        "label_encoder = LabelEncoder()\n",
        "y_encoded = label_encoder.fit_transform(Y)\n",
        "# y2_encoded = label_encoder.fit_transform(Y2)\n",
        "# # print(y_encoded)"
      ],
      "metadata": {
        "id": "-msAhc0lnOSO"
      },
      "execution_count": 26,
      "outputs": []
    },
    {
      "cell_type": "code",
      "source": [
        "X = pd.get_dummies(X)"
      ],
      "metadata": {
        "id": "KPB88Em1p0KG"
      },
      "execution_count": 27,
      "outputs": []
    },
    {
      "cell_type": "code",
      "source": [
        "X.info()"
      ],
      "metadata": {
        "colab": {
          "base_uri": "https://localhost:8080/"
        },
        "id": "dH5Adw8ikj1X",
        "outputId": "3adb99ce-d01f-4409-80d0-01e729bde9e7"
      },
      "execution_count": 28,
      "outputs": [
        {
          "output_type": "stream",
          "name": "stdout",
          "text": [
            "<class 'pandas.core.frame.DataFrame'>\n",
            "RangeIndex: 1215890 entries, 0 to 1215889\n",
            "Data columns (total 95 columns):\n",
            " #   Column                      Non-Null Count    Dtype  \n",
            "---  ------                      --------------    -----  \n",
            " 0   Seq                         1215890 non-null  int64  \n",
            " 1   Dur                         1215890 non-null  float64\n",
            " 2   RunTime                     1215890 non-null  float64\n",
            " 3   Mean                        1215890 non-null  float64\n",
            " 4   Sum                         1215890 non-null  float64\n",
            " 5   Min                         1215890 non-null  float64\n",
            " 6   Max                         1215890 non-null  float64\n",
            " 7   TotPkts                     1215890 non-null  int64  \n",
            " 8   SrcPkts                     1215890 non-null  int64  \n",
            " 9   DstPkts                     1215890 non-null  int64  \n",
            " 10  TotBytes                    1215890 non-null  int64  \n",
            " 11  SrcBytes                    1215890 non-null  int64  \n",
            " 12  DstBytes                    1215890 non-null  int64  \n",
            " 13  Offset                      1215890 non-null  int64  \n",
            " 14  sMeanPktSz                  1215890 non-null  float64\n",
            " 15  dMeanPktSz                  1215890 non-null  float64\n",
            " 16  Load                        1215890 non-null  float64\n",
            " 17  SrcLoad                     1215890 non-null  float64\n",
            " 18  DstLoad                     1215890 non-null  float64\n",
            " 19  Loss                        1215890 non-null  int64  \n",
            " 20  SrcLoss                     1215890 non-null  int64  \n",
            " 21  DstLoss                     1215890 non-null  int64  \n",
            " 22  pLoss                       1215890 non-null  float64\n",
            " 23  Rate                        1215890 non-null  float64\n",
            " 24  SrcRate                     1215890 non-null  float64\n",
            " 25  DstRate                     1215890 non-null  float64\n",
            " 26  TcpRtt                      1215890 non-null  float64\n",
            " 27  SynAck                      1215890 non-null  float64\n",
            " 28  AckDat                      1215890 non-null  float64\n",
            " 29   *                          1215890 non-null  float64\n",
            " 30   *    V                     1215890 non-null  float64\n",
            " 31   *    f                     1215890 non-null  float64\n",
            " 32   e                          1215890 non-null  float64\n",
            " 33   e    f                     1215890 non-null  float64\n",
            " 34   e &                        1215890 non-null  float64\n",
            " 35   e *                        1215890 non-null  float64\n",
            " 36   e d                        1215890 non-null  float64\n",
            " 37   e g                        1215890 non-null  float64\n",
            " 38   e i                        1215890 non-null  float64\n",
            " 39   e r                        1215890 non-null  float64\n",
            " 40   e s                        1215890 non-null  float64\n",
            " 41   eU                         1215890 non-null  float64\n",
            " 42  e                           1215890 non-null  float64\n",
            " 43  arp                         1215890 non-null  float64\n",
            " 44  icmp                        1215890 non-null  float64\n",
            " 45  ipv6-icmp                   1215890 non-null  float64\n",
            " 46  llc                         1215890 non-null  float64\n",
            " 47  lldp                        1215890 non-null  float64\n",
            " 48  sctp                        1215890 non-null  float64\n",
            " 49  tcp                         1215890 non-null  float64\n",
            " 50  udp                         1215890 non-null  float64\n",
            " 51  ACC                         1215890 non-null  float64\n",
            " 52  CON                         1215890 non-null  float64\n",
            " 53  ECO                         1215890 non-null  float64\n",
            " 54  FIN                         1215890 non-null  float64\n",
            " 55  INT                         1215890 non-null  float64\n",
            " 56  NRS                         1215890 non-null  float64\n",
            " 57  REQ                         1215890 non-null  float64\n",
            " 58  RSP                         1215890 non-null  float64\n",
            " 59  RST                         1215890 non-null  float64\n",
            " 60  TST                         1215890 non-null  float64\n",
            " 61  URP                         1215890 non-null  float64\n",
            " 62  Shutdown                    1215890 non-null  float64\n",
            " 63  Start                       1215890 non-null  float64\n",
            " 64  Status                      1215890 non-null  float64\n",
            " 65  39                          1215890 non-null  float64\n",
            " 66  4                           1215890 non-null  float64\n",
            " 67  52                          1215890 non-null  float64\n",
            " 68  54                          1215890 non-null  float64\n",
            " 69  af11                        1215890 non-null  float64\n",
            " 70  af12                        1215890 non-null  float64\n",
            " 71  af41                        1215890 non-null  float64\n",
            " 72  cs0                         1215890 non-null  float64\n",
            " 73  cs4                         1215890 non-null  float64\n",
            " 74  cs6                         1215890 non-null  float64\n",
            " 75  cs7                         1215890 non-null  float64\n",
            " 76  ef                          1215890 non-null  float64\n",
            " 77  nan                         1215890 non-null  float64\n",
            " 78  Label_Benign                1215890 non-null  uint8  \n",
            " 79  Label_Malicious             1215890 non-null  uint8  \n",
            " 80  Attack Type_Benign          1215890 non-null  uint8  \n",
            " 81  Attack Type_HTTPFlood       1215890 non-null  uint8  \n",
            " 82  Attack Type_ICMPFlood       1215890 non-null  uint8  \n",
            " 83  Attack Type_SYNFlood        1215890 non-null  uint8  \n",
            " 84  Attack Type_SYNScan         1215890 non-null  uint8  \n",
            " 85  Attack Type_SlowrateDoS     1215890 non-null  uint8  \n",
            " 86  Attack Type_TCPConnectScan  1215890 non-null  uint8  \n",
            " 87  Attack Type_UDPFlood        1215890 non-null  uint8  \n",
            " 88  Attack Type_UDPScan         1215890 non-null  uint8  \n",
            " 89  Attack Tool_Benign          1215890 non-null  uint8  \n",
            " 90  Attack Tool_Goldeneye       1215890 non-null  uint8  \n",
            " 91  Attack Tool_Hping3          1215890 non-null  uint8  \n",
            " 92  Attack Tool_Nmap            1215890 non-null  uint8  \n",
            " 93  Attack Tool_Slowloris       1215890 non-null  uint8  \n",
            " 94  Attack Tool_Torshammer      1215890 non-null  uint8  \n",
            "dtypes: float64(67), int64(11), uint8(17)\n",
            "memory usage: 743.3 MB\n"
          ]
        }
      ]
    },
    {
      "cell_type": "code",
      "source": [
        "from sklearn.preprocessing import StandardScaler\n",
        "scaler = StandardScaler()"
      ],
      "metadata": {
        "id": "VPgQ9ZPDp_xg"
      },
      "execution_count": 11,
      "outputs": []
    },
    {
      "cell_type": "code",
      "source": [
        "X = StandardScaler().fit_transform(X)"
      ],
      "metadata": {
        "id": "VMHZmMzgsd6P"
      },
      "execution_count": 29,
      "outputs": []
    },
    {
      "cell_type": "code",
      "source": [
        "from sklearn.decomposition import PCA\n",
        "\n",
        "pca = PCA(n_components=2)\n",
        "\n",
        "principalComponents = pca.fit_transform(X)\n",
        "\n",
        "principalDf = pd.DataFrame(data = principalComponents, columns = ['RunTime', 'Dur'])"
      ],
      "metadata": {
        "id": "fqCKkR-XiEro"
      },
      "execution_count": 30,
      "outputs": []
    },
    {
      "cell_type": "code",
      "source": [
        "finalDf = pd.concat([principalDf, X[['Label']]], axis = 1)\n"
      ],
      "metadata": {
        "colab": {
          "base_uri": "https://localhost:8080/",
          "height": 162
        },
        "id": "O_RZOemkQKX9",
        "outputId": "d08dbdf5-513a-4a1d-d333-da0876aae1a2"
      },
      "execution_count": 34,
      "outputs": [
        {
          "output_type": "error",
          "ename": "IndexError",
          "evalue": "only integers, slices (`:`), ellipsis (`...`), numpy.newaxis (`None`) and integer or boolean arrays are valid indices",
          "traceback": [
            "\u001b[0;31m---------------------------------------------------------------------------\u001b[0m",
            "\u001b[0;31mIndexError\u001b[0m                                Traceback (most recent call last)",
            "\u001b[0;32m<ipython-input-34-8bb26ec08f28>\u001b[0m in \u001b[0;36m<cell line: 1>\u001b[0;34m()\u001b[0m\n\u001b[0;32m----> 1\u001b[0;31m \u001b[0mfinalDf\u001b[0m \u001b[0;34m=\u001b[0m \u001b[0mpd\u001b[0m\u001b[0;34m.\u001b[0m\u001b[0mconcat\u001b[0m\u001b[0;34m(\u001b[0m\u001b[0;34m[\u001b[0m\u001b[0mprincipalDf\u001b[0m\u001b[0;34m,\u001b[0m \u001b[0mX\u001b[0m\u001b[0;34m[\u001b[0m\u001b[0;34m[\u001b[0m\u001b[0;34m'Label'\u001b[0m\u001b[0;34m]\u001b[0m\u001b[0;34m]\u001b[0m\u001b[0;34m]\u001b[0m\u001b[0;34m,\u001b[0m \u001b[0maxis\u001b[0m \u001b[0;34m=\u001b[0m \u001b[0;36m1\u001b[0m\u001b[0;34m)\u001b[0m\u001b[0;34m\u001b[0m\u001b[0;34m\u001b[0m\u001b[0m\n\u001b[0m",
            "\u001b[0;31mIndexError\u001b[0m: only integers, slices (`:`), ellipsis (`...`), numpy.newaxis (`None`) and integer or boolean arrays are valid indices"
          ]
        }
      ]
    },
    {
      "cell_type": "code",
      "source": [
        "fig = plt.figure(figsize = (8,8))\n",
        "ax = fig.add_subplot(1,1,1)\n",
        "ax.set_xlabel('Principal Component 1', fontsize = 15)\n",
        "ax.set_ylabel('Principal Component 2', fontsize = 15)\n",
        "ax.set_title('2 component PCA', fontsize = 20)\n",
        "\n",
        "targets = ['Iris-setosa', 'Iris-versicolor', 'Iris-virginica']\n",
        "colors = ['r', 'g', 'b']\n",
        "for target, color in zip(targets,colors):\n",
        "    indicesToKeep = principalDf['Label'] == target\n",
        "    ax.scatter(finalDf.loc[indicesToKeep, 'principal component 1']\n",
        "               , finalDf.loc[indicesToKeep, 'principal component 2']\n",
        "               , c = color\n",
        "               , s = 50)\n",
        "ax.legend(targets)\n",
        "ax.grid()"
      ],
      "metadata": {
        "colab": {
          "base_uri": "https://localhost:8080/",
          "height": 1000
        },
        "id": "CAIyY_OKOgod",
        "outputId": "18c2531a-48fd-4cf6-8acf-0f4ef185c4d2"
      },
      "execution_count": 32,
      "outputs": [
        {
          "output_type": "error",
          "ename": "KeyError",
          "evalue": "'Label'",
          "traceback": [
            "\u001b[0;31m---------------------------------------------------------------------------\u001b[0m",
            "\u001b[0;31mKeyError\u001b[0m                                  Traceback (most recent call last)",
            "\u001b[0;32m/usr/local/lib/python3.10/dist-packages/pandas/core/indexes/base.py\u001b[0m in \u001b[0;36mget_loc\u001b[0;34m(self, key, method, tolerance)\u001b[0m\n\u001b[1;32m   3801\u001b[0m             \u001b[0;32mtry\u001b[0m\u001b[0;34m:\u001b[0m\u001b[0;34m\u001b[0m\u001b[0;34m\u001b[0m\u001b[0m\n\u001b[0;32m-> 3802\u001b[0;31m                 \u001b[0;32mreturn\u001b[0m \u001b[0mself\u001b[0m\u001b[0;34m.\u001b[0m\u001b[0m_engine\u001b[0m\u001b[0;34m.\u001b[0m\u001b[0mget_loc\u001b[0m\u001b[0;34m(\u001b[0m\u001b[0mcasted_key\u001b[0m\u001b[0;34m)\u001b[0m\u001b[0;34m\u001b[0m\u001b[0;34m\u001b[0m\u001b[0m\n\u001b[0m\u001b[1;32m   3803\u001b[0m             \u001b[0;32mexcept\u001b[0m \u001b[0mKeyError\u001b[0m \u001b[0;32mas\u001b[0m \u001b[0merr\u001b[0m\u001b[0;34m:\u001b[0m\u001b[0;34m\u001b[0m\u001b[0;34m\u001b[0m\u001b[0m\n",
            "\u001b[0;32m/usr/local/lib/python3.10/dist-packages/pandas/_libs/index.pyx\u001b[0m in \u001b[0;36mpandas._libs.index.IndexEngine.get_loc\u001b[0;34m()\u001b[0m\n",
            "\u001b[0;32m/usr/local/lib/python3.10/dist-packages/pandas/_libs/index.pyx\u001b[0m in \u001b[0;36mpandas._libs.index.IndexEngine.get_loc\u001b[0;34m()\u001b[0m\n",
            "\u001b[0;32mpandas/_libs/hashtable_class_helper.pxi\u001b[0m in \u001b[0;36mpandas._libs.hashtable.PyObjectHashTable.get_item\u001b[0;34m()\u001b[0m\n",
            "\u001b[0;32mpandas/_libs/hashtable_class_helper.pxi\u001b[0m in \u001b[0;36mpandas._libs.hashtable.PyObjectHashTable.get_item\u001b[0;34m()\u001b[0m\n",
            "\u001b[0;31mKeyError\u001b[0m: 'Label'",
            "\nThe above exception was the direct cause of the following exception:\n",
            "\u001b[0;31mKeyError\u001b[0m                                  Traceback (most recent call last)",
            "\u001b[0;32m<ipython-input-32-57b7628f930b>\u001b[0m in \u001b[0;36m<cell line: 9>\u001b[0;34m()\u001b[0m\n\u001b[1;32m      8\u001b[0m \u001b[0mcolors\u001b[0m \u001b[0;34m=\u001b[0m \u001b[0;34m[\u001b[0m\u001b[0;34m'r'\u001b[0m\u001b[0;34m,\u001b[0m \u001b[0;34m'g'\u001b[0m\u001b[0;34m,\u001b[0m \u001b[0;34m'b'\u001b[0m\u001b[0;34m]\u001b[0m\u001b[0;34m\u001b[0m\u001b[0;34m\u001b[0m\u001b[0m\n\u001b[1;32m      9\u001b[0m \u001b[0;32mfor\u001b[0m \u001b[0mtarget\u001b[0m\u001b[0;34m,\u001b[0m \u001b[0mcolor\u001b[0m \u001b[0;32min\u001b[0m \u001b[0mzip\u001b[0m\u001b[0;34m(\u001b[0m\u001b[0mtargets\u001b[0m\u001b[0;34m,\u001b[0m\u001b[0mcolors\u001b[0m\u001b[0;34m)\u001b[0m\u001b[0;34m:\u001b[0m\u001b[0;34m\u001b[0m\u001b[0;34m\u001b[0m\u001b[0m\n\u001b[0;32m---> 10\u001b[0;31m     \u001b[0mindicesToKeep\u001b[0m \u001b[0;34m=\u001b[0m \u001b[0mprincipalDf\u001b[0m\u001b[0;34m[\u001b[0m\u001b[0;34m'Label'\u001b[0m\u001b[0;34m]\u001b[0m \u001b[0;34m==\u001b[0m \u001b[0mtarget\u001b[0m\u001b[0;34m\u001b[0m\u001b[0;34m\u001b[0m\u001b[0m\n\u001b[0m\u001b[1;32m     11\u001b[0m     ax.scatter(finalDf.loc[indicesToKeep, 'principal component 1']\n\u001b[1;32m     12\u001b[0m                \u001b[0;34m,\u001b[0m \u001b[0mfinalDf\u001b[0m\u001b[0;34m.\u001b[0m\u001b[0mloc\u001b[0m\u001b[0;34m[\u001b[0m\u001b[0mindicesToKeep\u001b[0m\u001b[0;34m,\u001b[0m \u001b[0;34m'principal component 2'\u001b[0m\u001b[0;34m]\u001b[0m\u001b[0;34m\u001b[0m\u001b[0;34m\u001b[0m\u001b[0m\n",
            "\u001b[0;32m/usr/local/lib/python3.10/dist-packages/pandas/core/frame.py\u001b[0m in \u001b[0;36m__getitem__\u001b[0;34m(self, key)\u001b[0m\n\u001b[1;32m   3805\u001b[0m             \u001b[0;32mif\u001b[0m \u001b[0mself\u001b[0m\u001b[0;34m.\u001b[0m\u001b[0mcolumns\u001b[0m\u001b[0;34m.\u001b[0m\u001b[0mnlevels\u001b[0m \u001b[0;34m>\u001b[0m \u001b[0;36m1\u001b[0m\u001b[0;34m:\u001b[0m\u001b[0;34m\u001b[0m\u001b[0;34m\u001b[0m\u001b[0m\n\u001b[1;32m   3806\u001b[0m                 \u001b[0;32mreturn\u001b[0m \u001b[0mself\u001b[0m\u001b[0;34m.\u001b[0m\u001b[0m_getitem_multilevel\u001b[0m\u001b[0;34m(\u001b[0m\u001b[0mkey\u001b[0m\u001b[0;34m)\u001b[0m\u001b[0;34m\u001b[0m\u001b[0;34m\u001b[0m\u001b[0m\n\u001b[0;32m-> 3807\u001b[0;31m             \u001b[0mindexer\u001b[0m \u001b[0;34m=\u001b[0m \u001b[0mself\u001b[0m\u001b[0;34m.\u001b[0m\u001b[0mcolumns\u001b[0m\u001b[0;34m.\u001b[0m\u001b[0mget_loc\u001b[0m\u001b[0;34m(\u001b[0m\u001b[0mkey\u001b[0m\u001b[0;34m)\u001b[0m\u001b[0;34m\u001b[0m\u001b[0;34m\u001b[0m\u001b[0m\n\u001b[0m\u001b[1;32m   3808\u001b[0m             \u001b[0;32mif\u001b[0m \u001b[0mis_integer\u001b[0m\u001b[0;34m(\u001b[0m\u001b[0mindexer\u001b[0m\u001b[0;34m)\u001b[0m\u001b[0;34m:\u001b[0m\u001b[0;34m\u001b[0m\u001b[0;34m\u001b[0m\u001b[0m\n\u001b[1;32m   3809\u001b[0m                 \u001b[0mindexer\u001b[0m \u001b[0;34m=\u001b[0m \u001b[0;34m[\u001b[0m\u001b[0mindexer\u001b[0m\u001b[0;34m]\u001b[0m\u001b[0;34m\u001b[0m\u001b[0;34m\u001b[0m\u001b[0m\n",
            "\u001b[0;32m/usr/local/lib/python3.10/dist-packages/pandas/core/indexes/base.py\u001b[0m in \u001b[0;36mget_loc\u001b[0;34m(self, key, method, tolerance)\u001b[0m\n\u001b[1;32m   3802\u001b[0m                 \u001b[0;32mreturn\u001b[0m \u001b[0mself\u001b[0m\u001b[0;34m.\u001b[0m\u001b[0m_engine\u001b[0m\u001b[0;34m.\u001b[0m\u001b[0mget_loc\u001b[0m\u001b[0;34m(\u001b[0m\u001b[0mcasted_key\u001b[0m\u001b[0;34m)\u001b[0m\u001b[0;34m\u001b[0m\u001b[0;34m\u001b[0m\u001b[0m\n\u001b[1;32m   3803\u001b[0m             \u001b[0;32mexcept\u001b[0m \u001b[0mKeyError\u001b[0m \u001b[0;32mas\u001b[0m \u001b[0merr\u001b[0m\u001b[0;34m:\u001b[0m\u001b[0;34m\u001b[0m\u001b[0;34m\u001b[0m\u001b[0m\n\u001b[0;32m-> 3804\u001b[0;31m                 \u001b[0;32mraise\u001b[0m \u001b[0mKeyError\u001b[0m\u001b[0;34m(\u001b[0m\u001b[0mkey\u001b[0m\u001b[0;34m)\u001b[0m \u001b[0;32mfrom\u001b[0m \u001b[0merr\u001b[0m\u001b[0;34m\u001b[0m\u001b[0;34m\u001b[0m\u001b[0m\n\u001b[0m\u001b[1;32m   3805\u001b[0m             \u001b[0;32mexcept\u001b[0m \u001b[0mTypeError\u001b[0m\u001b[0;34m:\u001b[0m\u001b[0;34m\u001b[0m\u001b[0;34m\u001b[0m\u001b[0m\n\u001b[1;32m   3806\u001b[0m                 \u001b[0;31m# If we have a listlike key, _check_indexing_error will raise\u001b[0m\u001b[0;34m\u001b[0m\u001b[0;34m\u001b[0m\u001b[0m\n",
            "\u001b[0;31mKeyError\u001b[0m: 'Label'"
          ]
        },
        {
          "output_type": "display_data",
          "data": {
            "text/plain": [
              "<Figure size 800x800 with 1 Axes>"
            ],
            "image/png": "[encoded data removed]"
          },
          "metadata": {}
        }
      ]
    }
  ]
}