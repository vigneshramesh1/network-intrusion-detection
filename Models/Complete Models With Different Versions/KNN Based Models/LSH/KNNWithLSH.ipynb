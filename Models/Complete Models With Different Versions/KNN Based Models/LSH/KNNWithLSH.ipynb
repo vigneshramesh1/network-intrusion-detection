{
 "cells": [
  {
   "cell_type": "code",
   "execution_count": 1,
   "metadata": {
    "id": "eB-GOdDhagw4"
   },
   "outputs": [],
   "source": [
    "import pandas as pd\n",
    "import matplotlib.pyplot as plt\n",
    "from sklearn.tree import DecisionTreeRegressor\n",
    "from sklearn.preprocessing import StandardScaler\n",
    "\n",
    "from sklearn.model_selection import GridSearchCV\n",
    "from sklearn.model_selection import train_test_split\n",
    "from sklearn.preprocessing import LabelEncoder\n",
    "from sklearn.feature_selection import mutual_info_regression\n",
    "from sklearn.feature_selection import mutual_info_classif\n",
    "from sklearn.neighbors import KNeighborsClassifier\n",
    "from sklearn.metrics import accuracy_score, precision_score, recall_score, f1_score\n",
    "from sklearn.model_selection import train_test_split\n",
    "from sklearn.decomposition import PCA"
   ]
  },
  {
   "cell_type": "code",
   "execution_count": 2,
   "metadata": {
    "id": "yJ-LEZM-fVQm"
   },
   "outputs": [],
   "source": [
    "data = pd.read_csv('/Users/shanmugapriyan/Downloads/csv_preprocessed.csv')"
   ]
  },
  {
   "cell_type": "code",
   "execution_count": 3,
   "metadata": {
    "colab": {
     "base_uri": "https://localhost:8080/"
    },
    "id": "7UdOmqL_Gqo7",
    "outputId": "10aabfca-7e42-4211-b0d7-bcac4ccc36d6"
   },
   "outputs": [
    {
     "name": "stdout",
     "output_type": "stream",
     "text": [
      "<class 'pandas.core.frame.DataFrame'>\n",
      "RangeIndex: 1215675 entries, 0 to 1215674\n",
      "Data columns (total 63 columns):\n",
      " #   Column        Non-Null Count    Dtype  \n",
      "---  ------        --------------    -----  \n",
      " 0   Dur           1215675 non-null  float64\n",
      " 1   sTos          1215675 non-null  float64\n",
      " 2   dTos          1215675 non-null  float64\n",
      " 3   sTtl          1215675 non-null  float64\n",
      " 4   dTtl          1215675 non-null  float64\n",
      " 5   sHops         1215675 non-null  float64\n",
      " 6   dHops         1215675 non-null  float64\n",
      " 7   TotPkts       1215675 non-null  float64\n",
      " 8   SrcPkts       1215675 non-null  float64\n",
      " 9   DstPkts       1215675 non-null  float64\n",
      " 10  TotBytes      1215675 non-null  float64\n",
      " 11  SrcBytes      1215675 non-null  float64\n",
      " 12  DstBytes      1215675 non-null  float64\n",
      " 13  Offset        1215675 non-null  float64\n",
      " 14  sMeanPktSz    1215675 non-null  float64\n",
      " 15  dMeanPktSz    1215675 non-null  float64\n",
      " 16  Load          1215675 non-null  float64\n",
      " 17  SrcLoad       1215675 non-null  float64\n",
      " 18  DstLoad       1215675 non-null  float64\n",
      " 19  Loss          1215675 non-null  float64\n",
      " 20  SrcLoss       1215675 non-null  float64\n",
      " 21  DstLoss       1215675 non-null  float64\n",
      " 22  pLoss         1215675 non-null  float64\n",
      " 23  SrcGap        1215675 non-null  float64\n",
      " 24  DstGap        1215675 non-null  float64\n",
      " 25  Rate          1215675 non-null  float64\n",
      " 26  SrcRate       1215675 non-null  float64\n",
      " 27  DstRate       1215675 non-null  float64\n",
      " 28  SrcWin        1215675 non-null  float64\n",
      " 29  DstWin        1215675 non-null  float64\n",
      " 30  SrcTCPBase    1215675 non-null  float64\n",
      " 31  DstTCPBase    1215675 non-null  float64\n",
      " 32  TcpRtt        1215675 non-null  float64\n",
      " 33  SynAck        1215675 non-null  float64\n",
      " 34  AckDat        1215675 non-null  float64\n",
      " 35  Proto_icmp    1215675 non-null  float64\n",
      " 36  Proto_sctp    1215675 non-null  float64\n",
      " 37  Proto_tcp     1215675 non-null  float64\n",
      " 38  Proto_udp     1215675 non-null  float64\n",
      " 39  sDSb_52       1215675 non-null  float64\n",
      " 40  sDSb_af11     1215675 non-null  float64\n",
      " 41  sDSb_af12     1215675 non-null  float64\n",
      " 42  sDSb_af41     1215675 non-null  float64\n",
      " 43  sDSb_cs0      1215675 non-null  float64\n",
      " 44  sDSb_cs6      1215675 non-null  float64\n",
      " 45  sDSb_cs7      1215675 non-null  float64\n",
      " 46  sDSb_ef       1215675 non-null  float64\n",
      " 47  dDSb_af11     1215675 non-null  float64\n",
      " 48  dDSb_af12     1215675 non-null  float64\n",
      " 49  dDSb_cs0      1215675 non-null  float64\n",
      " 50  dDSb_cs1      1215675 non-null  float64\n",
      " 51  dDSb_ef       1215675 non-null  float64\n",
      " 52  Cause_Start   1215675 non-null  float64\n",
      " 53  Cause_Status  1215675 non-null  float64\n",
      " 54  State_ACC     1215675 non-null  float64\n",
      " 55  State_CON     1215675 non-null  float64\n",
      " 56  State_ECO     1215675 non-null  float64\n",
      " 57  State_FIN     1215675 non-null  float64\n",
      " 58  State_INT     1215675 non-null  float64\n",
      " 59  State_REQ     1215675 non-null  float64\n",
      " 60  State_RST     1215675 non-null  float64\n",
      " 61  State_URP     1215675 non-null  float64\n",
      " 62  Attack Type   1215675 non-null  int64  \n",
      "dtypes: float64(62), int64(1)\n",
      "memory usage: 584.3 MB\n"
     ]
    }
   ],
   "source": [
    "data.info()"
   ]
  },
  {
   "cell_type": "code",
   "execution_count": 4,
   "metadata": {
    "id": "WEHd8214l9iv"
   },
   "outputs": [],
   "source": [
    "X = data.drop(columns=[\"Attack Type\"])"
   ]
  },
  {
   "cell_type": "code",
   "execution_count": 5,
   "metadata": {
    "id": "m0vAEIU2tAE6"
   },
   "outputs": [],
   "source": [
    "Y = data[\"Attack Type\"]"
   ]
  },
  {
   "cell_type": "code",
   "execution_count": 6,
   "metadata": {
    "id": "mfaGvavhtuqx"
   },
   "outputs": [],
   "source": [
    "def mutual_info(X, Y):\n",
    "  mutual_info_arr = mutual_info_classif(X, Y)\n",
    "  series_info = pd.Series(mutual_info_arr)\n",
    "  series_info.index = X.columns\n",
    "  series_top = series_info.sort_values(ascending=False)[:20]\n",
    "  return series_top"
   ]
  },
  {
   "cell_type": "code",
   "execution_count": 7,
   "metadata": {
    "id": "QpKZKgtellV5"
   },
   "outputs": [],
   "source": [
    "# result = mutual_info(X, Y)\n",
    "# result.plot.bar(figsize=(20,8))"
   ]
  },
  {
   "cell_type": "code",
   "execution_count": 8,
   "metadata": {
    "id": "4MZ-ylIGsK1H"
   },
   "outputs": [],
   "source": [
    "# new_data = data[result.keys()]\n",
    "# new_data.head()"
   ]
  },
  {
   "cell_type": "code",
   "execution_count": 9,
   "metadata": {
    "colab": {
     "base_uri": "https://localhost:8080/",
     "height": 313
    },
    "id": "L6YANZ5ZhxhC",
    "outputId": "598fa511-9ec2-4f8f-d4b0-07cbfe8e61d1"
   },
   "outputs": [
    {
     "data": {
      "text/html": [
       "<div>\n",
       "<style scoped>\n",
       "    .dataframe tbody tr th:only-of-type {\n",
       "        vertical-align: middle;\n",
       "    }\n",
       "\n",
       "    .dataframe tbody tr th {\n",
       "        vertical-align: top;\n",
       "    }\n",
       "\n",
       "    .dataframe thead th {\n",
       "        text-align: right;\n",
       "    }\n",
       "</style>\n",
       "<table border=\"1\" class=\"dataframe\">\n",
       "  <thead>\n",
       "    <tr style=\"text-align: right;\">\n",
       "      <th></th>\n",
       "      <th>SrcWin</th>\n",
       "      <th>DstWin</th>\n",
       "      <th>dHops</th>\n",
       "      <th>dTtl</th>\n",
       "      <th>TotBytes</th>\n",
       "      <th>SrcBytes</th>\n",
       "      <th>sMeanPktSz</th>\n",
       "      <th>DstGap</th>\n",
       "      <th>SrcGap</th>\n",
       "      <th>dTos</th>\n",
       "      <th>DstTCPBase</th>\n",
       "      <th>SrcTCPBase</th>\n",
       "      <th>TcpRtt</th>\n",
       "      <th>Proto_udp</th>\n",
       "      <th>DstBytes</th>\n",
       "      <th>AckDat</th>\n",
       "      <th>dMeanPktSz</th>\n",
       "      <th>Proto_tcp</th>\n",
       "      <th>SynAck</th>\n",
       "      <th>Load</th>\n",
       "    </tr>\n",
       "  </thead>\n",
       "  <tbody>\n",
       "    <tr>\n",
       "      <th>0</th>\n",
       "      <td>3.442533e-07</td>\n",
       "      <td>6.217791e-08</td>\n",
       "      <td>-0.973059</td>\n",
       "      <td>-0.00732</td>\n",
       "      <td>-0.117591</td>\n",
       "      <td>-0.099523</td>\n",
       "      <td>0.164660</td>\n",
       "      <td>-0.006334</td>\n",
       "      <td>-0.00383</td>\n",
       "      <td>-0.094739</td>\n",
       "      <td>-4.275809e-14</td>\n",
       "      <td>3.187841e-12</td>\n",
       "      <td>-0.267969</td>\n",
       "      <td>0.0</td>\n",
       "      <td>-0.066388</td>\n",
       "      <td>-0.388062</td>\n",
       "      <td>-0.287785</td>\n",
       "      <td>0.0</td>\n",
       "      <td>-0.044552</td>\n",
       "      <td>-0.008291</td>\n",
       "    </tr>\n",
       "    <tr>\n",
       "      <th>1</th>\n",
       "      <td>3.442533e-07</td>\n",
       "      <td>6.217791e-08</td>\n",
       "      <td>-0.973059</td>\n",
       "      <td>-0.00732</td>\n",
       "      <td>-0.117591</td>\n",
       "      <td>-0.099523</td>\n",
       "      <td>0.164660</td>\n",
       "      <td>-0.006334</td>\n",
       "      <td>-0.00383</td>\n",
       "      <td>-0.094739</td>\n",
       "      <td>-4.275809e-14</td>\n",
       "      <td>3.187841e-12</td>\n",
       "      <td>-0.267969</td>\n",
       "      <td>0.0</td>\n",
       "      <td>-0.066388</td>\n",
       "      <td>-0.388062</td>\n",
       "      <td>-0.287785</td>\n",
       "      <td>0.0</td>\n",
       "      <td>-0.044552</td>\n",
       "      <td>-0.008291</td>\n",
       "    </tr>\n",
       "    <tr>\n",
       "      <th>2</th>\n",
       "      <td>3.442533e-07</td>\n",
       "      <td>6.217791e-08</td>\n",
       "      <td>-0.973059</td>\n",
       "      <td>-0.00732</td>\n",
       "      <td>8.131316</td>\n",
       "      <td>9.877388</td>\n",
       "      <td>8.044846</td>\n",
       "      <td>-0.006334</td>\n",
       "      <td>-0.00383</td>\n",
       "      <td>-0.094739</td>\n",
       "      <td>-4.275809e-14</td>\n",
       "      <td>3.187841e-12</td>\n",
       "      <td>-0.267969</td>\n",
       "      <td>1.0</td>\n",
       "      <td>0.224388</td>\n",
       "      <td>-0.388062</td>\n",
       "      <td>0.972879</td>\n",
       "      <td>0.0</td>\n",
       "      <td>-0.044552</td>\n",
       "      <td>-0.007624</td>\n",
       "    </tr>\n",
       "    <tr>\n",
       "      <th>3</th>\n",
       "      <td>3.442533e-07</td>\n",
       "      <td>6.217791e-08</td>\n",
       "      <td>-0.973059</td>\n",
       "      <td>-0.00732</td>\n",
       "      <td>7.224216</td>\n",
       "      <td>8.734380</td>\n",
       "      <td>8.598644</td>\n",
       "      <td>-0.006334</td>\n",
       "      <td>-0.00383</td>\n",
       "      <td>-0.094739</td>\n",
       "      <td>-4.275809e-14</td>\n",
       "      <td>3.187841e-12</td>\n",
       "      <td>-0.267969</td>\n",
       "      <td>1.0</td>\n",
       "      <td>0.259298</td>\n",
       "      <td>-0.388062</td>\n",
       "      <td>0.922515</td>\n",
       "      <td>0.0</td>\n",
       "      <td>-0.044552</td>\n",
       "      <td>-0.007698</td>\n",
       "    </tr>\n",
       "    <tr>\n",
       "      <th>4</th>\n",
       "      <td>3.442533e-07</td>\n",
       "      <td>6.217791e-08</td>\n",
       "      <td>-0.973059</td>\n",
       "      <td>-0.00732</td>\n",
       "      <td>9.162383</td>\n",
       "      <td>11.165238</td>\n",
       "      <td>8.769752</td>\n",
       "      <td>-0.006334</td>\n",
       "      <td>-0.00383</td>\n",
       "      <td>-0.094739</td>\n",
       "      <td>-4.275809e-14</td>\n",
       "      <td>3.187841e-12</td>\n",
       "      <td>-0.267969</td>\n",
       "      <td>1.0</td>\n",
       "      <td>0.201274</td>\n",
       "      <td>-0.388062</td>\n",
       "      <td>0.811590</td>\n",
       "      <td>0.0</td>\n",
       "      <td>-0.044552</td>\n",
       "      <td>-0.007541</td>\n",
       "    </tr>\n",
       "  </tbody>\n",
       "</table>\n",
       "</div>"
      ],
      "text/plain": [
       "         SrcWin        DstWin     dHops     dTtl  TotBytes   SrcBytes  \\\n",
       "0  3.442533e-07  6.217791e-08 -0.973059 -0.00732 -0.117591  -0.099523   \n",
       "1  3.442533e-07  6.217791e-08 -0.973059 -0.00732 -0.117591  -0.099523   \n",
       "2  3.442533e-07  6.217791e-08 -0.973059 -0.00732  8.131316   9.877388   \n",
       "3  3.442533e-07  6.217791e-08 -0.973059 -0.00732  7.224216   8.734380   \n",
       "4  3.442533e-07  6.217791e-08 -0.973059 -0.00732  9.162383  11.165238   \n",
       "\n",
       "   sMeanPktSz    DstGap   SrcGap      dTos    DstTCPBase    SrcTCPBase  \\\n",
       "0    0.164660 -0.006334 -0.00383 -0.094739 -4.275809e-14  3.187841e-12   \n",
       "1    0.164660 -0.006334 -0.00383 -0.094739 -4.275809e-14  3.187841e-12   \n",
       "2    8.044846 -0.006334 -0.00383 -0.094739 -4.275809e-14  3.187841e-12   \n",
       "3    8.598644 -0.006334 -0.00383 -0.094739 -4.275809e-14  3.187841e-12   \n",
       "4    8.769752 -0.006334 -0.00383 -0.094739 -4.275809e-14  3.187841e-12   \n",
       "\n",
       "     TcpRtt  Proto_udp  DstBytes    AckDat  dMeanPktSz  Proto_tcp    SynAck  \\\n",
       "0 -0.267969        0.0 -0.066388 -0.388062   -0.287785        0.0 -0.044552   \n",
       "1 -0.267969        0.0 -0.066388 -0.388062   -0.287785        0.0 -0.044552   \n",
       "2 -0.267969        1.0  0.224388 -0.388062    0.972879        0.0 -0.044552   \n",
       "3 -0.267969        1.0  0.259298 -0.388062    0.922515        0.0 -0.044552   \n",
       "4 -0.267969        1.0  0.201274 -0.388062    0.811590        0.0 -0.044552   \n",
       "\n",
       "       Load  \n",
       "0 -0.008291  \n",
       "1 -0.008291  \n",
       "2 -0.007624  \n",
       "3 -0.007698  \n",
       "4 -0.007541  "
      ]
     },
     "execution_count": 9,
     "metadata": {},
     "output_type": "execute_result"
    }
   ],
   "source": [
    "# Hard coding now to skip the mutual information step\n",
    "new_data = data[[\"SrcWin\", \"DstWin\", \"dHops\", \"dTtl\", \"TotBytes\", \"SrcBytes\", \"sMeanPktSz\", \"DstGap\", \"SrcGap\", \"dTos\", \"DstTCPBase\", \"SrcTCPBase\", \"TcpRtt\", \"Proto_udp\", \"DstBytes\", \"AckDat\" , \"dMeanPktSz\", \"Proto_tcp\", \"SynAck\", \"Load\"]]\n",
    "new_data.head()"
   ]
  },
  {
   "cell_type": "code",
   "execution_count": 10,
   "metadata": {
    "id": "nT_I0P-C30iI"
   },
   "outputs": [],
   "source": [
    "def concat_column_for_plot(pca_data, column_name):\n",
    "  for_plot = pd.concat([pca_data, data[column_name]], axis = 1)\n",
    "  return for_plot"
   ]
  },
  {
   "cell_type": "code",
   "execution_count": 11,
   "metadata": {
    "id": "18_h_1tV3xms"
   },
   "outputs": [],
   "source": [
    "new_data = concat_column_for_plot(new_data, \"Attack Type\")"
   ]
  },
  {
   "cell_type": "code",
   "execution_count": 12,
   "metadata": {
    "colab": {
     "base_uri": "https://localhost:8080/"
    },
    "id": "QaEfRn3o3UoL",
    "outputId": "58e8c0cc-e229-41fd-9392-3315b50e2975"
   },
   "outputs": [
    {
     "name": "stdout",
     "output_type": "stream",
     "text": [
      "Training dataset size: (1033323, 20)\n",
      "Testing dataset size: (182352, 20)\n",
      "Training target size: (1033323, 1)\n",
      "Testing target size: (182352, 1)\n"
     ]
    }
   ],
   "source": [
    "X_train, X_test, y_train, y_test = train_test_split(new_data.loc[:, new_data.columns != 'Attack Type'], new_data['Attack Type'],\n",
    "                                                    stratify=new_data['Attack Type'],\n",
    "                                                    test_size=0.15)\n",
    "\n",
    "X_train = pd.DataFrame(X_train, columns=new_data.columns.to_list()[:-1])\n",
    "X_test = pd.DataFrame(X_test, columns=new_data.columns.to_list()[:-1])\n",
    "y_train = pd.DataFrame(y_train, columns=['Attack Type'])\n",
    "y_test = pd.DataFrame(y_test, columns=['Attack Type'])\n",
    "\n",
    "print(\"Training dataset size:\", X_train.shape)\n",
    "print(\"Testing dataset size:\", X_test.shape)\n",
    "print(\"Training target size:\", y_train.shape)\n",
    "print(\"Testing target size:\", y_test.shape)"
   ]
  },
  {
   "cell_type": "code",
   "execution_count": 13,
   "metadata": {
    "id": "q2KNw2Jq4fpO"
   },
   "outputs": [],
   "source": [
    "def get_pca_df(scaled_data, no_of_components):\n",
    "\n",
    "  pca = PCA(n_components=no_of_components)\n",
    "  Principal_components=pca.fit_transform(scaled_data)\n",
    "  column_names = [\"PC \"+str(i) for i in range(1, no_of_components+1)]\n",
    "  pca_df = pd.DataFrame(data = Principal_components, columns = column_names)\n",
    "  return pca_df, pca"
   ]
  },
  {
   "cell_type": "code",
   "execution_count": 14,
   "metadata": {
    "id": "13TB4vQs9ysO"
   },
   "outputs": [],
   "source": [
    "X_train = X_train.to_numpy() if isinstance(X_train, pd.DataFrame) else X_train\n",
    "# PCA to reduce dimensionality from 20 to 15\n",
    "pca = PCA(n_components=15)\n",
    "X_train_pca = pca.fit_transform(X_train)"
   ]
  },
  {
   "cell_type": "code",
   "execution_count": 15,
   "metadata": {
    "colab": {
     "base_uri": "https://localhost:8080/"
    },
    "id": "hSxU3M1U-BKR",
    "outputId": "526c30dd-93a9-4011-d427-892528233c9f"
   },
   "outputs": [
    {
     "name": "stdout",
     "output_type": "stream",
     "text": [
      "/Users/shanmugapriyan/.zshenv:1: permission denied: /Library/Java/JavaVirtualMachines/jdk1.8.0_341.jdk\n",
      "Requirement already satisfied: annoy in /opt/anaconda3/lib/python3.11/site-packages (1.17.3)\n",
      "Note: you may need to restart the kernel to use updated packages.\n"
     ]
    }
   ],
   "source": [
    "pip install annoy"
   ]
  },
  {
   "cell_type": "code",
   "execution_count": 16,
   "metadata": {
    "id": "56HhHQ_S-aUL"
   },
   "outputs": [],
   "source": [
    "from annoy import AnnoyIndex\n",
    "from sklearn.neighbors import KNeighborsClassifier\n",
    "from sklearn.metrics import accuracy_score"
   ]
  },
  {
   "cell_type": "code",
   "execution_count": 17,
   "metadata": {
    "colab": {
     "base_uri": "https://localhost:8080/"
    },
    "id": "vuTAV5pf-fIO",
    "outputId": "dcd0b912-611b-4ff7-b9fe-bda649e13ea0"
   },
   "outputs": [
    {
     "data": {
      "text/plain": [
       "True"
      ]
     },
     "execution_count": 17,
     "metadata": {},
     "output_type": "execute_result"
    }
   ],
   "source": [
    "n_trees = 10  # Number of trees in the index\n",
    "index_dims = X_train_pca.shape[1]  # Number of dimensions in your data\n",
    "n_neighbors = 19  # Number of nearest neighbors to consider\n",
    "\n",
    "# Build the Annoy index\n",
    "annoy_index = AnnoyIndex(index_dims, 'euclidean')\n",
    "for i, x in enumerate(X_train_pca):\n",
    "    annoy_index.add_item(i, x)\n",
    "annoy_index.build(n_trees)"
   ]
  },
  {
   "cell_type": "code",
   "execution_count": 18,
   "metadata": {
    "id": "U7SpVeXG_Uqi"
   },
   "outputs": [],
   "source": [
    "X_test = X_test.to_numpy() if isinstance(X_test, pd.DataFrame) else X_test\n",
    "\n",
    "# Transform test data using PCA\n",
    "X_test_pca = pca.transform(X_test)"
   ]
  },
  {
   "cell_type": "code",
   "execution_count": 19,
   "metadata": {
    "id": "GU7TX6pe_JSY"
   },
   "outputs": [],
   "source": [
    "# Query the index for nearest neighbors for all test data points\n",
    "nearest_neighbors = []\n",
    "for x in X_test_pca:\n",
    "    nearest_neighbor_indices = annoy_index.get_nns_by_vector(x, n_neighbors)\n",
    "    nearest_neighbors.append(nearest_neighbor_indices)"
   ]
  },
  {
   "cell_type": "code",
   "execution_count": 20,
   "metadata": {
    "colab": {
     "base_uri": "https://localhost:8080/"
    },
    "id": "EH4oP1pvp2sH",
    "outputId": "1f1736be-2ce2-4ba9-a2df-bd23868930bc"
   },
   "outputs": [
    {
     "data": {
      "text/plain": [
       "True"
      ]
     },
     "execution_count": 20,
     "metadata": {},
     "output_type": "execute_result"
    }
   ],
   "source": [
    "len(nearest_neighbors) == len(X_test_pca)"
   ]
  },
  {
   "cell_type": "code",
   "execution_count": 21,
   "metadata": {
    "colab": {
     "base_uri": "https://localhost:8080/",
     "height": 130
    },
    "id": "B7-dQhD-_rse",
    "outputId": "f00397b7-2f92-49f3-cb7b-e960919a780c"
   },
   "outputs": [
    {
     "name": "stderr",
     "output_type": "stream",
     "text": [
      "/opt/anaconda3/lib/python3.11/site-packages/sklearn/neighbors/_classification.py:215: DataConversionWarning: A column-vector y was passed when a 1d array was expected. Please change the shape of y to (n_samples,), for example using ravel().\n",
      "  return self._fit(X, y)\n"
     ]
    },
    {
     "data": {
      "text/html": [
       "<style>#sk-container-id-1 {color: black;background-color: white;}#sk-container-id-1 pre{padding: 0;}#sk-container-id-1 div.sk-toggleable {background-color: white;}#sk-container-id-1 label.sk-toggleable__label {cursor: pointer;display: block;width: 100%;margin-bottom: 0;padding: 0.3em;box-sizing: border-box;text-align: center;}#sk-container-id-1 label.sk-toggleable__label-arrow:before {content: \"▸\";float: left;margin-right: 0.25em;color: #696969;}#sk-container-id-1 label.sk-toggleable__label-arrow:hover:before {color: black;}#sk-container-id-1 div.sk-estimator:hover label.sk-toggleable__label-arrow:before {color: black;}#sk-container-id-1 div.sk-toggleable__content {max-height: 0;max-width: 0;overflow: hidden;text-align: left;background-color: #f0f8ff;}#sk-container-id-1 div.sk-toggleable__content pre {margin: 0.2em;color: black;border-radius: 0.25em;background-color: #f0f8ff;}#sk-container-id-1 input.sk-toggleable__control:checked~div.sk-toggleable__content {max-height: 200px;max-width: 100%;overflow: auto;}#sk-container-id-1 input.sk-toggleable__control:checked~label.sk-toggleable__label-arrow:before {content: \"▾\";}#sk-container-id-1 div.sk-estimator input.sk-toggleable__control:checked~label.sk-toggleable__label {background-color: #d4ebff;}#sk-container-id-1 div.sk-label input.sk-toggleable__control:checked~label.sk-toggleable__label {background-color: #d4ebff;}#sk-container-id-1 input.sk-hidden--visually {border: 0;clip: rect(1px 1px 1px 1px);clip: rect(1px, 1px, 1px, 1px);height: 1px;margin: -1px;overflow: hidden;padding: 0;position: absolute;width: 1px;}#sk-container-id-1 div.sk-estimator {font-family: monospace;background-color: #f0f8ff;border: 1px dotted black;border-radius: 0.25em;box-sizing: border-box;margin-bottom: 0.5em;}#sk-container-id-1 div.sk-estimator:hover {background-color: #d4ebff;}#sk-container-id-1 div.sk-parallel-item::after {content: \"\";width: 100%;border-bottom: 1px solid gray;flex-grow: 1;}#sk-container-id-1 div.sk-label:hover label.sk-toggleable__label {background-color: #d4ebff;}#sk-container-id-1 div.sk-serial::before {content: \"\";position: absolute;border-left: 1px solid gray;box-sizing: border-box;top: 0;bottom: 0;left: 50%;z-index: 0;}#sk-container-id-1 div.sk-serial {display: flex;flex-direction: column;align-items: center;background-color: white;padding-right: 0.2em;padding-left: 0.2em;position: relative;}#sk-container-id-1 div.sk-item {position: relative;z-index: 1;}#sk-container-id-1 div.sk-parallel {display: flex;align-items: stretch;justify-content: center;background-color: white;position: relative;}#sk-container-id-1 div.sk-item::before, #sk-container-id-1 div.sk-parallel-item::before {content: \"\";position: absolute;border-left: 1px solid gray;box-sizing: border-box;top: 0;bottom: 0;left: 50%;z-index: -1;}#sk-container-id-1 div.sk-parallel-item {display: flex;flex-direction: column;z-index: 1;position: relative;background-color: white;}#sk-container-id-1 div.sk-parallel-item:first-child::after {align-self: flex-end;width: 50%;}#sk-container-id-1 div.sk-parallel-item:last-child::after {align-self: flex-start;width: 50%;}#sk-container-id-1 div.sk-parallel-item:only-child::after {width: 0;}#sk-container-id-1 div.sk-dashed-wrapped {border: 1px dashed gray;margin: 0 0.4em 0.5em 0.4em;box-sizing: border-box;padding-bottom: 0.4em;background-color: white;}#sk-container-id-1 div.sk-label label {font-family: monospace;font-weight: bold;display: inline-block;line-height: 1.2em;}#sk-container-id-1 div.sk-label-container {text-align: center;}#sk-container-id-1 div.sk-container {/* jupyter's `normalize.less` sets `[hidden] { display: none; }` but bootstrap.min.css set `[hidden] { display: none !important; }` so we also need the `!important` here to be able to override the default hidden behavior on the sphinx rendered scikit-learn.org. See: https://github.com/scikit-learn/scikit-learn/issues/21755 */display: inline-block !important;position: relative;}#sk-container-id-1 div.sk-text-repr-fallback {display: none;}</style><div id=\"sk-container-id-1\" class=\"sk-top-container\"><div class=\"sk-text-repr-fallback\"><pre>KNeighborsClassifier(n_neighbors=19)</pre><b>In a Jupyter environment, please rerun this cell to show the HTML representation or trust the notebook. <br />On GitHub, the HTML representation is unable to render, please try loading this page with nbviewer.org.</b></div><div class=\"sk-container\" hidden><div class=\"sk-item\"><div class=\"sk-estimator sk-toggleable\"><input class=\"sk-toggleable__control sk-hidden--visually\" id=\"sk-estimator-id-1\" type=\"checkbox\" checked><label for=\"sk-estimator-id-1\" class=\"sk-toggleable__label sk-toggleable__label-arrow\">KNeighborsClassifier</label><div class=\"sk-toggleable__content\"><pre>KNeighborsClassifier(n_neighbors=19)</pre></div></div></div></div></div>"
      ],
      "text/plain": [
       "KNeighborsClassifier(n_neighbors=19)"
      ]
     },
     "execution_count": 21,
     "metadata": {},
     "output_type": "execute_result"
    }
   ],
   "source": [
    "# Using KNN on the candidate neighbors\n",
    "knn_classifier = KNeighborsClassifier(n_neighbors=n_neighbors)\n",
    "knn_classifier.fit(X_train_pca, y_train)"
   ]
  },
  {
   "cell_type": "code",
   "execution_count": 22,
   "metadata": {
    "id": "13w60Jp5DqfA"
   },
   "outputs": [],
   "source": [
    "import numpy as np  # Import NumPy library\n",
    "\n",
    "#Convert nearest neighbor indices to actual data points from training set\n",
    "nearest_neighbors_train = np.array([X_train_pca[indices] for indices in nearest_neighbors])\n",
    "\n",
    "\n",
    "# # Stack the arrays along the last axis to ensure each row corresponds to a single data point\n",
    "# nearest_neighbors_train = np.concatenate(nearest_neighbors_train)\n"
   ]
  },
  {
   "cell_type": "code",
   "execution_count": 23,
   "metadata": {
    "colab": {
     "base_uri": "https://localhost:8080/"
    },
    "id": "vo5BPL6sqfyR",
    "outputId": "e1124e6a-707f-4ebc-85af-4631381d75fb"
   },
   "outputs": [
    {
     "data": {
      "text/plain": [
       "True"
      ]
     },
     "execution_count": 23,
     "metadata": {},
     "output_type": "execute_result"
    }
   ],
   "source": [
    "# Ensure that nearest_neighbors_train has the same number of samples as X_test\n",
    "nearest_neighbors_train.shape[0] == len(y_test)\n"
   ]
  },
  {
   "cell_type": "code",
   "execution_count": 24,
   "metadata": {
    "id": "m6GkVqIPD_8-"
   },
   "outputs": [],
   "source": [
    "# Reshape nearest_neighbors_train to have a shape of (n_samples, n_neighbors, n_features)\n",
    "nearest_neighbors_train_reshaped = nearest_neighbors_train.reshape(-1, n_neighbors, X_train_pca.shape[1])\n",
    "\n",
    "# Predict labels for all nearest neighbor data at once\n",
    "# Reshape nearest_neighbors_train_reshaped to have a shape of (n_samples * n_neighbors, n_features)\n",
    "# This flattens the array along the first axis\n",
    "predicted_labels_flat = knn_classifier.predict(nearest_neighbors_train_reshaped.reshape(-1, X_train_pca.shape[1]))\n",
    "\n",
    "# Reshape predicted labels to have a shape of (n_samples, n_neighbors)\n",
    "# This restores the original shape of the nearest_neighbors_train array\n",
    "predicted_labels_reshaped = predicted_labels_flat.reshape(-1, n_neighbors)\n"
   ]
  },
  {
   "cell_type": "code",
   "execution_count": 25,
   "metadata": {
    "id": "y845OE3fSWog"
   },
   "outputs": [
    {
     "name": "stdout",
     "output_type": "stream",
     "text": [
      "Accuracy: 0.9835702377818725\n"
     ]
    }
   ],
   "source": [
    "# Now, for each test data point, you can aggregate the predictions from its nearest neighbors\n",
    "# For example, you can use majority voting:\n",
    "import scipy.stats\n",
    "predicted_labels_majority = scipy.stats.mode(predicted_labels_reshaped, axis=1).mode.flatten()\n",
    "\n",
    "# Evaluate accuracy\n",
    "accuracy = accuracy_score(y_test, predicted_labels_majority)\n",
    "print(\"Accuracy:\", accuracy)"
   ]
  },
  {
   "cell_type": "code",
   "execution_count": 26,
   "metadata": {
    "id": "ihTQ8oYeUZDz"
   },
   "outputs": [
    {
     "name": "stdout",
     "output_type": "stream",
     "text": [
      "Accuracy: 0.9835702377818725\n"
     ]
    }
   ],
   "source": [
    "accuracy = accuracy_score(y_test, predicted_labels_majority)\n",
    "print(\"Accuracy:\", accuracy)"
   ]
  },
  {
   "cell_type": "code",
   "execution_count": 27,
   "metadata": {
    "id": "vkhhaY99VAcr"
   },
   "outputs": [],
   "source": [
    "from sklearn.model_selection import StratifiedKFold\n",
    "skf = StratifiedKFold(n_splits=5, shuffle=True, random_state=42)"
   ]
  },
  {
   "cell_type": "code",
   "execution_count": null,
   "metadata": {
    "colab": {
     "base_uri": "https://localhost:8080/"
    },
    "id": "cOvIIVzRVIRa",
    "outputId": "1d55ee0b-a29b-44da-952c-404c3bb1acd6"
   },
   "outputs": [
    {
     "name": "stderr",
     "output_type": "stream",
     "text": [
      "/opt/anaconda3/lib/python3.11/site-packages/sklearn/neighbors/_classification.py:215: DataConversionWarning: A column-vector y was passed when a 1d array was expected. Please change the shape of y to (n_samples,), for example using ravel().\n",
      "  return self._fit(X, y)\n"
     ]
    }
   ],
   "source": [
    "accuracy_scores = []\n",
    "precision_scores = []\n",
    "recall_scores = []\n",
    "f1_scores = []\n",
    "Y = new_data['Attack Type']\n",
    "X_train, pca = get_pca_df(X_train, 15)\n",
    "for train_index, test_index in skf.split(X_train, y_train):\n",
    "    X1_train, X1_test = X_train.iloc[train_index], X_train.iloc[test_index]\n",
    "    y1_train, y1_test = y_train.iloc[train_index], y_train.iloc[test_index]\n",
    "    # Initialize kNN classifier\n",
    "    knn = KNeighborsClassifier(n_neighbors=19)\n",
    "    # Train the classifier\n",
    "    knn.fit(X1_train, y1_train)\n",
    "    # Predict on the test set\n",
    "    y_pred = knn.predict(X1_test)\n",
    "    # Calculate evaluation metrics and store them\n",
    "    accuracy_scores.append(accuracy_score(y1_test, y_pred))\n",
    "    precision_scores.append(precision_score(y1_test, y_pred, average='weighted'))\n",
    "    recall_scores.append(recall_score(y1_test, y_pred, average='weighted'))\n",
    "    f1_scores.append(f1_score(y1_test, y_pred, average='weighted'))"
   ]
  },
  {
   "cell_type": "code",
   "execution_count": null,
   "metadata": {
    "id": "iuKmCZcF04k0"
   },
   "outputs": [],
   "source": [
    "x_test = pca.transform(X_test)"
   ]
  },
  {
   "cell_type": "code",
   "execution_count": null,
   "metadata": {
    "colab": {
     "base_uri": "https://localhost:8080/"
    },
    "id": "-e6tRpWA11AV",
    "outputId": "7a0a294e-a9a0-4bcd-fe27-846c868b65fa"
   },
   "outputs": [],
   "source": [
    "x_test"
   ]
  },
  {
   "cell_type": "code",
   "execution_count": null,
   "metadata": {
    "colab": {
     "base_uri": "https://localhost:8080/"
    },
    "id": "5X2SoBid1TDo",
    "outputId": "dd655528-ceec-4f83-e6e2-e2a35eced208"
   },
   "outputs": [],
   "source": [
    "y1_pred = knn.predict(x_test)"
   ]
  },
  {
   "cell_type": "code",
   "execution_count": null,
   "metadata": {
    "colab": {
     "base_uri": "https://localhost:8080/"
    },
    "id": "iL2FLRVnYSHT",
    "outputId": "c816730b-3ec6-4203-85a6-cedc57122558"
   },
   "outputs": [],
   "source": [
    "accuracy_score(y_test, y1_pred)"
   ]
  },
  {
   "cell_type": "code",
   "execution_count": null,
   "metadata": {
    "colab": {
     "base_uri": "https://localhost:8080/"
    },
    "id": "iIuT9OzXqrpK",
    "outputId": "0fecb7b9-1221-4664-b629-946013b8e7ec"
   },
   "outputs": [],
   "source": [
    "accuracy_scores"
   ]
  }
 ],
 "metadata": {
  "colab": {
   "provenance": []
  },
  "kernelspec": {
   "display_name": "Python 3 (ipykernel)",
   "language": "python",
   "name": "python3"
  },
  "language_info": {
   "codemirror_mode": {
    "name": "ipython",
    "version": 3
   },
   "file_extension": ".py",
   "mimetype": "text/x-python",
   "name": "python",
   "nbconvert_exporter": "python",
   "pygments_lexer": "ipython3",
   "version": "3.11.7"
  }
 },
 "nbformat": 4,
 "nbformat_minor": 4
}
