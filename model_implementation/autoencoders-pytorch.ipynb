{
 "metadata": {
  "kernelspec": {
   "language": "python",
   "display_name": "Python 3",
   "name": "python3"
  },
  "language_info": {
   "name": "python",
   "version": "3.10.13",
   "mimetype": "text/x-python",
   "codemirror_mode": {
    "name": "ipython",
    "version": 3
   },
   "pygments_lexer": "ipython3",
   "nbconvert_exporter": "python",
   "file_extension": ".py"
  },
  "kaggle": {
   "accelerator": "gpu",
   "dataSources": [
    {
     "sourceId": 5022035,
     "sourceType": "datasetVersion",
     "datasetId": 2914217
    }
   ],
   "dockerImageVersionId": 30664,
   "isInternetEnabled": true,
   "language": "python",
   "sourceType": "notebook",
   "isGpuEnabled": true
  }
 },
 "nbformat_minor": 4,
 "nbformat": 4,
 "cells": [
  {
   "cell_type": "code",
   "source": "# This Python 3 environment comes with many helpful analytics libraries installed\n# It is defined by the kaggle/python Docker image: https://github.com/kaggle/docker-python\n# For example, here's several helpful packages to load\n\nimport numpy as np # linear algebra\nimport pandas as pd # data processing, CSV file I/O (e.g. pd.read_csv)\n\n# Input data files are available in the read-only \"../input/\" directory\n# For example, running this (by clicking run or pressing Shift+Enter) will list all files under the input directory\n\nimport os\nfor dirname, _, filenames in os.walk('/kaggle/input'):\n    for filename in filenames:\n        print(os.path.join(dirname, filename))\n\n# You can write up to 20GB to the current directory (/kaggle/working/) that gets preserved as output when you create a version using \"Save & Run All\" \n# You can also write temporary files to /kaggle/temp/, but they won't be saved outside of the current session",
   "metadata": {
    "_uuid": "8f2839f25d086af736a60e9eeb907d3b93b6e0e5",
    "_cell_guid": "b1076dfc-b9ad-4769-8c92-a6c4dae69d19",
    "execution": {
     "iopub.status.busy": "2024-03-13T06:03:37.222023Z",
     "iopub.execute_input": "2024-03-13T06:03:37.222429Z",
     "iopub.status.idle": "2024-03-13T06:03:37.230103Z",
     "shell.execute_reply.started": "2024-03-13T06:03:37.222386Z",
     "shell.execute_reply": "2024-03-13T06:03:37.229102Z"
    },
    "trusted": true
   },
   "execution_count": 61,
   "outputs": [
    {
     "name": "stdout",
     "text": "/kaggle/input/5g-nidd-dataset/Combined.csv\n",
     "output_type": "stream"
    }
   ]
  },
  {
   "cell_type": "code",
   "source": "import shutil\n\ninput_path = '/kaggle/input/5g-nidd-dataset'\noutput_path = '/kaggle/working/5g-nidd-dataset'\n# Copy dataset into working directory\nshutil.copytree(input_path, output_path)",
   "metadata": {
    "execution": {
     "iopub.status.busy": "2024-03-13T06:03:37.243413Z",
     "iopub.execute_input": "2024-03-13T06:03:37.243724Z",
     "iopub.status.idle": "2024-03-13T06:03:37.477535Z",
     "shell.execute_reply.started": "2024-03-13T06:03:37.243700Z",
     "shell.execute_reply": "2024-03-13T06:03:37.476557Z"
    },
    "trusted": true
   },
   "execution_count": 62,
   "outputs": [
    {
     "execution_count": 62,
     "output_type": "execute_result",
     "data": {
      "text/plain": "'/kaggle/working/5g-nidd-dataset'"
     },
     "metadata": {}
    }
   ]
  },
  {
   "cell_type": "code",
   "source": "cd /kaggle/working/5g-nidd-dataset",
   "metadata": {
    "execution": {
     "iopub.status.busy": "2024-03-13T06:03:37.479241Z",
     "iopub.execute_input": "2024-03-13T06:03:37.479510Z",
     "iopub.status.idle": "2024-03-13T06:03:37.485946Z",
     "shell.execute_reply.started": "2024-03-13T06:03:37.479487Z",
     "shell.execute_reply": "2024-03-13T06:03:37.484998Z"
    },
    "trusted": true
   },
   "execution_count": 63,
   "outputs": [
    {
     "name": "stdout",
     "text": "/kaggle/working/5g-nidd-dataset\n",
     "output_type": "stream"
    }
   ]
  },
  {
   "cell_type": "code",
   "source": "!pip install fancyimpute\n!pip install torch",
   "metadata": {
    "execution": {
     "iopub.status.busy": "2024-03-13T06:03:37.487176Z",
     "iopub.execute_input": "2024-03-13T06:03:37.487484Z",
     "iopub.status.idle": "2024-03-13T06:04:04.566488Z",
     "shell.execute_reply.started": "2024-03-13T06:03:37.487452Z",
     "shell.execute_reply": "2024-03-13T06:04:04.565302Z"
    },
    "trusted": true
   },
   "execution_count": 64,
   "outputs": [
    {
     "name": "stdout",
     "text": "Requirement already satisfied: fancyimpute in /opt/conda/lib/python3.10/site-packages (0.7.0)\nRequirement already satisfied: knnimpute>=0.1.0 in /opt/conda/lib/python3.10/site-packages (from fancyimpute) (0.1.0)\nRequirement already satisfied: scikit-learn>=0.24.2 in /opt/conda/lib/python3.10/site-packages (from fancyimpute) (1.2.2)\nRequirement already satisfied: cvxpy in /opt/conda/lib/python3.10/site-packages (from fancyimpute) (1.4.2)\nRequirement already satisfied: cvxopt in /opt/conda/lib/python3.10/site-packages (from fancyimpute) (1.3.2)\nRequirement already satisfied: pytest in /opt/conda/lib/python3.10/site-packages (from fancyimpute) (8.0.1)\nRequirement already satisfied: nose in /opt/conda/lib/python3.10/site-packages (from fancyimpute) (1.3.7)\nRequirement already satisfied: six in /opt/conda/lib/python3.10/site-packages (from knnimpute>=0.1.0->fancyimpute) (1.16.0)\nRequirement already satisfied: numpy>=1.10 in /opt/conda/lib/python3.10/site-packages (from knnimpute>=0.1.0->fancyimpute) (1.26.4)\nRequirement already satisfied: scipy>=1.3.2 in /opt/conda/lib/python3.10/site-packages (from scikit-learn>=0.24.2->fancyimpute) (1.11.4)\nRequirement already satisfied: joblib>=1.1.1 in /opt/conda/lib/python3.10/site-packages (from scikit-learn>=0.24.2->fancyimpute) (1.3.2)\nRequirement already satisfied: threadpoolctl>=2.0.0 in /opt/conda/lib/python3.10/site-packages (from scikit-learn>=0.24.2->fancyimpute) (3.2.0)\nRequirement already satisfied: osqp>=0.6.2 in /opt/conda/lib/python3.10/site-packages (from cvxpy->fancyimpute) (0.6.5)\nRequirement already satisfied: ecos>=2 in /opt/conda/lib/python3.10/site-packages (from cvxpy->fancyimpute) (2.0.13)\nRequirement already satisfied: clarabel>=0.5.0 in /opt/conda/lib/python3.10/site-packages (from cvxpy->fancyimpute) (0.7.1)\nRequirement already satisfied: scs>=3.0 in /opt/conda/lib/python3.10/site-packages (from cvxpy->fancyimpute) (3.2.4.post1)\nRequirement already satisfied: pybind11 in /opt/conda/lib/python3.10/site-packages (from cvxpy->fancyimpute) (2.11.1)\nRequirement already satisfied: iniconfig in /opt/conda/lib/python3.10/site-packages (from pytest->fancyimpute) (2.0.0)\nRequirement already satisfied: packaging in /opt/conda/lib/python3.10/site-packages (from pytest->fancyimpute) (21.3)\nRequirement already satisfied: pluggy<2.0,>=1.3.0 in /opt/conda/lib/python3.10/site-packages (from pytest->fancyimpute) (1.3.0)\nRequirement already satisfied: exceptiongroup>=1.0.0rc8 in /opt/conda/lib/python3.10/site-packages (from pytest->fancyimpute) (1.2.0)\nRequirement already satisfied: tomli>=1.0.0 in /opt/conda/lib/python3.10/site-packages (from pytest->fancyimpute) (2.0.1)\nRequirement already satisfied: qdldl in /opt/conda/lib/python3.10/site-packages (from osqp>=0.6.2->cvxpy->fancyimpute) (0.1.7.post0)\nRequirement already satisfied: pyparsing!=3.0.5,>=2.0.2 in /opt/conda/lib/python3.10/site-packages (from packaging->pytest->fancyimpute) (3.1.1)\nRequirement already satisfied: torch in /opt/conda/lib/python3.10/site-packages (2.1.2)\nRequirement already satisfied: filelock in /opt/conda/lib/python3.10/site-packages (from torch) (3.13.1)\nRequirement already satisfied: typing-extensions in /opt/conda/lib/python3.10/site-packages (from torch) (4.9.0)\nRequirement already satisfied: sympy in /opt/conda/lib/python3.10/site-packages (from torch) (1.12)\nRequirement already satisfied: networkx in /opt/conda/lib/python3.10/site-packages (from torch) (3.2.1)\nRequirement already satisfied: jinja2 in /opt/conda/lib/python3.10/site-packages (from torch) (3.1.2)\nRequirement already satisfied: fsspec in /opt/conda/lib/python3.10/site-packages (from torch) (2024.2.0)\nRequirement already satisfied: MarkupSafe>=2.0 in /opt/conda/lib/python3.10/site-packages (from jinja2->torch) (2.1.3)\nRequirement already satisfied: mpmath>=0.19 in /opt/conda/lib/python3.10/site-packages (from sympy->torch) (1.3.0)\n",
     "output_type": "stream"
    }
   ]
  },
  {
   "cell_type": "code",
   "source": "import numpy as np\nimport pandas as pd\nimport matplotlib.pyplot as plt\nimport seaborn as sns\nimport requests, zipfile, io\nimport missingno as msno\nimport multiprocessing\nimport scipy\nimport sklearn\nimport torch\nfrom torch.utils.data import Dataset, DataLoader\nfrom torch.utils.data.sampler import SubsetRandomSampler\nfrom tqdm import tqdm\nimport torch.nn.functional as F\nfrom sklearn import preprocessing\nfrom sklearn.model_selection import train_test_split\nfrom sklearn.metrics import accuracy_score\nimport fancyimpute\nfrom fancyimpute import IterativeImputer\nfrom sklearn.preprocessing import LabelEncoder\nfrom sklearn.preprocessing import MinMaxScaler",
   "metadata": {
    "execution": {
     "iopub.status.busy": "2024-03-13T06:04:04.568360Z",
     "iopub.execute_input": "2024-03-13T06:04:04.568763Z",
     "iopub.status.idle": "2024-03-13T06:04:04.578287Z",
     "shell.execute_reply.started": "2024-03-13T06:04:04.568728Z",
     "shell.execute_reply": "2024-03-13T06:04:04.577200Z"
    },
    "trusted": true
   },
   "execution_count": 65,
   "outputs": []
  },
  {
   "cell_type": "code",
   "source": "pd.set_option('future.no_silent_downcasting', True)",
   "metadata": {
    "execution": {
     "iopub.status.busy": "2024-03-13T06:04:04.582452Z",
     "iopub.execute_input": "2024-03-13T06:04:04.582893Z",
     "iopub.status.idle": "2024-03-13T06:04:04.594642Z",
     "shell.execute_reply.started": "2024-03-13T06:04:04.582863Z",
     "shell.execute_reply": "2024-03-13T06:04:04.593571Z"
    },
    "trusted": true
   },
   "execution_count": 66,
   "outputs": []
  },
  {
   "cell_type": "code",
   "source": "# Use GPU if it's available\ndevice = torch.device(\"cuda\" if torch.cuda.is_available() else \"cpu\")\nprint('Torch', torch.__version__, 'CUDA', torch.version.cuda)\nprint('Device:', torch.device('cuda:0'))\ndevice",
   "metadata": {
    "execution": {
     "iopub.status.busy": "2024-03-13T06:04:04.596035Z",
     "iopub.execute_input": "2024-03-13T06:04:04.596351Z",
     "iopub.status.idle": "2024-03-13T06:04:04.610827Z",
     "shell.execute_reply.started": "2024-03-13T06:04:04.596325Z",
     "shell.execute_reply": "2024-03-13T06:04:04.609722Z"
    },
    "trusted": true
   },
   "execution_count": 67,
   "outputs": [
    {
     "name": "stdout",
     "text": "Torch 2.1.2 CUDA 12.1\nDevice: cuda:0\n",
     "output_type": "stream"
    },
    {
     "execution_count": 67,
     "output_type": "execute_result",
     "data": {
      "text/plain": "device(type='cuda')"
     },
     "metadata": {}
    }
   ]
  },
  {
   "cell_type": "code",
   "source": "# number of subprocesses to use for data loading\nnum_workers = multiprocessing.cpu_count()\n\n# how many samples per batch to load\nbatch_size = 64\n\n# percentage of data set to use as validation\nvalid_size = 0.15",
   "metadata": {
    "execution": {
     "iopub.status.busy": "2024-03-13T06:04:04.612055Z",
     "iopub.execute_input": "2024-03-13T06:04:04.612359Z",
     "iopub.status.idle": "2024-03-13T06:04:04.622143Z",
     "shell.execute_reply.started": "2024-03-13T06:04:04.612333Z",
     "shell.execute_reply": "2024-03-13T06:04:04.621173Z"
    },
    "trusted": true
   },
   "execution_count": 68,
   "outputs": []
  },
  {
   "cell_type": "code",
   "source": "df = pd.read_csv('Combined.csv', low_memory=False)\nprint(df.shape)\ndf.head()",
   "metadata": {
    "execution": {
     "iopub.status.busy": "2024-03-13T06:04:04.623689Z",
     "iopub.execute_input": "2024-03-13T06:04:04.624138Z",
     "iopub.status.idle": "2024-03-13T06:04:15.116396Z",
     "shell.execute_reply.started": "2024-03-13T06:04:04.624102Z",
     "shell.execute_reply": "2024-03-13T06:04:15.115445Z"
    },
    "trusted": true
   },
   "execution_count": 69,
   "outputs": [
    {
     "name": "stdout",
     "text": "(1215890, 52)\n",
     "output_type": "stream"
    },
    {
     "execution_count": 69,
     "output_type": "execute_result",
     "data": {
      "text/plain": "   Unnamed: 0  Seq       Dur   RunTime      Mean       Sum       Min  \\\n0           0    1  0.000000  0.000000  0.000000  0.000000  0.000000   \n1           1    2  0.000000  0.000000  0.000000  0.000000  0.000000   \n2           2    3  4.998020  4.998020  4.998020  4.998020  4.998020   \n3           3    4  4.998037  4.998037  4.998037  4.998037  4.998037   \n4           4    5  4.999453  4.999453  4.999453  4.999453  4.999453   \n\n        Max Proto  sTos  ...  sVid dVid SrcTCPBase  DstTCPBase  TcpRtt  \\\n0  0.000000  icmp   0.0  ...   NaN  NaN        NaN         NaN     0.0   \n1  0.000000  icmp   0.0  ...   NaN  NaN        NaN         NaN     0.0   \n2  4.998020   udp   0.0  ...   NaN  NaN        NaN         NaN     0.0   \n3  4.998037   udp   0.0  ...   NaN  NaN        NaN         NaN     0.0   \n4  4.999453   udp   0.0  ...   NaN  NaN        NaN         NaN     0.0   \n\n   SynAck  AckDat   Label  Attack Type  Attack Tool  \n0     0.0     0.0  Benign       Benign       Benign  \n1     0.0     0.0  Benign       Benign       Benign  \n2     0.0     0.0  Benign       Benign       Benign  \n3     0.0     0.0  Benign       Benign       Benign  \n4     0.0     0.0  Benign       Benign       Benign  \n\n[5 rows x 52 columns]",
      "text/html": "<div>\n<style scoped>\n    .dataframe tbody tr th:only-of-type {\n        vertical-align: middle;\n    }\n\n    .dataframe tbody tr th {\n        vertical-align: top;\n    }\n\n    .dataframe thead th {\n        text-align: right;\n    }\n</style>\n<table border=\"1\" class=\"dataframe\">\n  <thead>\n    <tr style=\"text-align: right;\">\n      <th></th>\n      <th>Unnamed: 0</th>\n      <th>Seq</th>\n      <th>Dur</th>\n      <th>RunTime</th>\n      <th>Mean</th>\n      <th>Sum</th>\n      <th>Min</th>\n      <th>Max</th>\n      <th>Proto</th>\n      <th>sTos</th>\n      <th>...</th>\n      <th>sVid</th>\n      <th>dVid</th>\n      <th>SrcTCPBase</th>\n      <th>DstTCPBase</th>\n      <th>TcpRtt</th>\n      <th>SynAck</th>\n      <th>AckDat</th>\n      <th>Label</th>\n      <th>Attack Type</th>\n      <th>Attack Tool</th>\n    </tr>\n  </thead>\n  <tbody>\n    <tr>\n      <th>0</th>\n      <td>0</td>\n      <td>1</td>\n      <td>0.000000</td>\n      <td>0.000000</td>\n      <td>0.000000</td>\n      <td>0.000000</td>\n      <td>0.000000</td>\n      <td>0.000000</td>\n      <td>icmp</td>\n      <td>0.0</td>\n      <td>...</td>\n      <td>NaN</td>\n      <td>NaN</td>\n      <td>NaN</td>\n      <td>NaN</td>\n      <td>0.0</td>\n      <td>0.0</td>\n      <td>0.0</td>\n      <td>Benign</td>\n      <td>Benign</td>\n      <td>Benign</td>\n    </tr>\n    <tr>\n      <th>1</th>\n      <td>1</td>\n      <td>2</td>\n      <td>0.000000</td>\n      <td>0.000000</td>\n      <td>0.000000</td>\n      <td>0.000000</td>\n      <td>0.000000</td>\n      <td>0.000000</td>\n      <td>icmp</td>\n      <td>0.0</td>\n      <td>...</td>\n      <td>NaN</td>\n      <td>NaN</td>\n      <td>NaN</td>\n      <td>NaN</td>\n      <td>0.0</td>\n      <td>0.0</td>\n      <td>0.0</td>\n      <td>Benign</td>\n      <td>Benign</td>\n      <td>Benign</td>\n    </tr>\n    <tr>\n      <th>2</th>\n      <td>2</td>\n      <td>3</td>\n      <td>4.998020</td>\n      <td>4.998020</td>\n      <td>4.998020</td>\n      <td>4.998020</td>\n      <td>4.998020</td>\n      <td>4.998020</td>\n      <td>udp</td>\n      <td>0.0</td>\n      <td>...</td>\n      <td>NaN</td>\n      <td>NaN</td>\n      <td>NaN</td>\n      <td>NaN</td>\n      <td>0.0</td>\n      <td>0.0</td>\n      <td>0.0</td>\n      <td>Benign</td>\n      <td>Benign</td>\n      <td>Benign</td>\n    </tr>\n    <tr>\n      <th>3</th>\n      <td>3</td>\n      <td>4</td>\n      <td>4.998037</td>\n      <td>4.998037</td>\n      <td>4.998037</td>\n      <td>4.998037</td>\n      <td>4.998037</td>\n      <td>4.998037</td>\n      <td>udp</td>\n      <td>0.0</td>\n      <td>...</td>\n      <td>NaN</td>\n      <td>NaN</td>\n      <td>NaN</td>\n      <td>NaN</td>\n      <td>0.0</td>\n      <td>0.0</td>\n      <td>0.0</td>\n      <td>Benign</td>\n      <td>Benign</td>\n      <td>Benign</td>\n    </tr>\n    <tr>\n      <th>4</th>\n      <td>4</td>\n      <td>5</td>\n      <td>4.999453</td>\n      <td>4.999453</td>\n      <td>4.999453</td>\n      <td>4.999453</td>\n      <td>4.999453</td>\n      <td>4.999453</td>\n      <td>udp</td>\n      <td>0.0</td>\n      <td>...</td>\n      <td>NaN</td>\n      <td>NaN</td>\n      <td>NaN</td>\n      <td>NaN</td>\n      <td>0.0</td>\n      <td>0.0</td>\n      <td>0.0</td>\n      <td>Benign</td>\n      <td>Benign</td>\n      <td>Benign</td>\n    </tr>\n  </tbody>\n</table>\n<p>5 rows × 52 columns</p>\n</div>"
     },
     "metadata": {}
    }
   ]
  },
  {
   "cell_type": "code",
   "source": "num_classes = df['Attack Type'].nunique()\nlabels = df['Attack Type'].unique()\nprint(labels)\nprint(num_classes)",
   "metadata": {
    "execution": {
     "iopub.status.busy": "2024-03-13T06:04:15.117503Z",
     "iopub.execute_input": "2024-03-13T06:04:15.117790Z",
     "iopub.status.idle": "2024-03-13T06:04:15.307512Z",
     "shell.execute_reply.started": "2024-03-13T06:04:15.117767Z",
     "shell.execute_reply": "2024-03-13T06:04:15.306457Z"
    },
    "trusted": true
   },
   "execution_count": 70,
   "outputs": [
    {
     "name": "stdout",
     "text": "['Benign' 'SYNScan' 'TCPConnectScan' 'UDPScan' 'ICMPFlood' 'UDPFlood'\n 'SYNFlood' 'HTTPFlood' 'SlowrateDoS']\n9\n",
     "output_type": "stream"
    }
   ]
  },
  {
   "cell_type": "code",
   "source": "# Define a function to impute NaN values with the most frequent value in the group\ndef impute_most_frequent(group):\n    mode_value = group.mode().iloc[0] if not group.mode().empty else np.nan\n    return group.fillna(mode_value)\n\ndef handle_missing_values(df):\n    df.drop_duplicates(inplace=True)\n    df.drop(['sVid', 'dVid'], axis=1, inplace=True)\n    df.dropna(subset=['sTos', 'sHops', 'sTtl', 'sDSb'], how='any', inplace=True)\n    df[['dTtl', 'dDSb', 'dTos', 'dHops', 'SrcGap', 'DstGap']] = df.groupby('Attack Type')[['dTtl', 'dDSb', 'dTos', 'dHops', 'SrcGap', 'DstGap']].transform(impute_most_frequent)\n    df['dDSb'] = df['dDSb'].fillna('cs0')\n    df_subset_copy = df[['dTtl', 'dTos', 'dHops', 'SrcGap', 'DstGap', 'SrcTCPBase', 'DstTCPBase', 'SrcWin', 'DstWin']].copy(deep=True)\n    mice_imputer = IterativeImputer()\n    df_subset_copy.iloc[:, :] = mice_imputer.fit_transform(df_subset_copy)\n    df[['dTtl', 'dTos', 'dHops', 'SrcGap', 'DstGap', 'SrcTCPBase', 'DstTCPBase', 'SrcWin', 'DstWin']] = df_subset_copy",
   "metadata": {
    "execution": {
     "iopub.status.busy": "2024-03-13T06:04:15.309148Z",
     "iopub.execute_input": "2024-03-13T06:04:15.309588Z",
     "iopub.status.idle": "2024-03-13T06:04:15.320695Z",
     "shell.execute_reply.started": "2024-03-13T06:04:15.309550Z",
     "shell.execute_reply": "2024-03-13T06:04:15.319564Z"
    },
    "trusted": true
   },
   "execution_count": 71,
   "outputs": []
  },
  {
   "cell_type": "code",
   "source": "def one_hot_encode(df):\n    proto_dummies = pd.get_dummies(df.Proto, dtype=int, prefix='Proto')\n    proto_dummies.drop(columns=['Proto_ipv6-icmp'], inplace=True)\n    sDSb_dummies = pd.get_dummies(df.sDSb, dtype=int, prefix='sDSb')\n    sDSb_dummies.drop(columns=['sDSb_39','sDSb_54', 'sDSb_4', 'sDSb_cs4'], inplace=True)\n    dDSb_dummies = pd.get_dummies(df.dDSb, dtype=int, prefix='dDSb')\n    dDSb_dummies.drop(columns=['dDSb_cs4'], inplace=True)\n    Cause_dummies = pd.get_dummies(df.Cause, dtype=int, prefix='Cause')\n    Cause_dummies.drop(columns=['Cause_Shutdown'], inplace=True)\n    State_dummies = pd.get_dummies(df.State, dtype=int, prefix='State')\n    State_dummies.drop(columns=['State_RSP','State_TST','State_NRS'], inplace=True)\n    X, y = df.loc[:, df.columns != 'Attack Type'], df['Attack Type']\n    X = pd.concat([X, proto_dummies, sDSb_dummies, dDSb_dummies, Cause_dummies, State_dummies], axis='columns')\n    df = pd.concat([X, y], axis='columns')\n    df.drop(columns=['Proto', 'sDSb', 'dDSb', 'Cause', 'State', 'Label', 'Unnamed: 0', 'Seq', 'RunTime', 'Mean', 'Sum', 'Min', 'Max', 'Attack Tool'], inplace=True)\n    return df",
   "metadata": {
    "execution": {
     "iopub.status.busy": "2024-03-13T06:04:15.322145Z",
     "iopub.execute_input": "2024-03-13T06:04:15.322539Z",
     "iopub.status.idle": "2024-03-13T06:04:15.340866Z",
     "shell.execute_reply.started": "2024-03-13T06:04:15.322493Z",
     "shell.execute_reply": "2024-03-13T06:04:15.339798Z"
    },
    "trusted": true
   },
   "execution_count": 72,
   "outputs": []
  },
  {
   "cell_type": "code",
   "source": "def normalize_dataframe(df):\n    X, y = df.loc[:, df.columns != 'Attack Type'], df['Attack Type']    \n    std_scaler = preprocessing.StandardScaler()\n    min_max_scaler = preprocessing.MinMaxScaler()\n    \n    numeric_df = X.loc[:, ~X.columns.str.contains('_')]\n    categorical_df = X.loc[:, X.columns.str.contains('_')]\n    \n    std_normalized = std_scaler.fit_transform(numeric_df)\n    min_max_normalized = min_max_scaler.fit_transform(categorical_df)\n    \n    numeric_df = pd.DataFrame(std_normalized, columns = numeric_df.columns, index = numeric_df.index)\n    categorical_df = pd.DataFrame(min_max_normalized, columns = categorical_df.columns, index = categorical_df.index)\n    \n    X = pd.concat([numeric_df, categorical_df], axis='columns')   \n    df = pd.concat([X, y], axis='columns')   \n    return df",
   "metadata": {
    "execution": {
     "iopub.status.busy": "2024-03-13T06:04:15.342403Z",
     "iopub.execute_input": "2024-03-13T06:04:15.342846Z",
     "iopub.status.idle": "2024-03-13T06:04:15.357226Z",
     "shell.execute_reply.started": "2024-03-13T06:04:15.342807Z",
     "shell.execute_reply": "2024-03-13T06:04:15.356231Z"
    },
    "trusted": true
   },
   "execution_count": 73,
   "outputs": []
  },
  {
   "cell_type": "code",
   "source": "def label_encode(df):\n    # define ordinal encoding\n    le = LabelEncoder()\n    df['Attack Type'] = le.fit_transform(df['Attack Type'].iloc[:].values.ravel())\n    df['Attack Type'] = pd.to_numeric(df['Attack Type'], downcast='integer')\n    return df",
   "metadata": {
    "execution": {
     "iopub.status.busy": "2024-03-13T06:04:15.358394Z",
     "iopub.execute_input": "2024-03-13T06:04:15.359336Z",
     "iopub.status.idle": "2024-03-13T06:04:15.369820Z",
     "shell.execute_reply.started": "2024-03-13T06:04:15.359308Z",
     "shell.execute_reply": "2024-03-13T06:04:15.368751Z"
    },
    "trusted": true
   },
   "execution_count": 74,
   "outputs": []
  },
  {
   "cell_type": "code",
   "source": "def pre_process(df):\n    handle_missing_values(df)\n    df = one_hot_encode(df)\n    df = normalize_dataframe(df)\n    df = label_encode(df)\n    return df",
   "metadata": {
    "execution": {
     "iopub.status.busy": "2024-03-13T06:04:15.374579Z",
     "iopub.execute_input": "2024-03-13T06:04:15.374978Z",
     "iopub.status.idle": "2024-03-13T06:04:15.384786Z",
     "shell.execute_reply.started": "2024-03-13T06:04:15.374950Z",
     "shell.execute_reply": "2024-03-13T06:04:15.383869Z"
    },
    "trusted": true
   },
   "execution_count": 75,
   "outputs": []
  },
  {
   "cell_type": "code",
   "source": "df = pre_process(df)\ndf.head()",
   "metadata": {
    "execution": {
     "iopub.status.busy": "2024-03-13T06:04:15.386077Z",
     "iopub.execute_input": "2024-03-13T06:04:15.386834Z",
     "iopub.status.idle": "2024-03-13T06:04:36.054151Z",
     "shell.execute_reply.started": "2024-03-13T06:04:15.386796Z",
     "shell.execute_reply": "2024-03-13T06:04:36.053070Z"
    },
    "trusted": true
   },
   "execution_count": 76,
   "outputs": [
    {
     "execution_count": 76,
     "output_type": "execute_result",
     "data": {
      "text/plain": "        Dur      sTos      dTos      sTtl     dTtl     sHops     dHops  \\\n0 -0.807085 -0.069046 -0.094739 -0.419379 -0.00732  1.050111 -0.973059   \n1 -0.807085 -0.069046 -0.094739 -0.419379 -0.00732  1.050111 -0.973059   \n2  2.147963 -0.069046 -0.094739  0.635573 -0.00732  2.452913 -0.973059   \n3  2.147973 -0.069046 -0.094739  0.635573 -0.00732  2.452913 -0.973059   \n4  2.148810 -0.069046 -0.094739  0.635573 -0.00732  2.452913 -0.973059   \n\n    TotPkts    SrcPkts   DstPkts  ...  Cause_Status  State_ACC  State_CON  \\\n0 -0.167011  -0.146696 -0.115856  ...           0.0        0.0        0.0   \n1 -0.167011  -0.146696 -0.115856  ...           0.0        0.0        0.0   \n2  8.414004  10.443194  1.327973  ...           0.0        0.0        1.0   \n3  7.205410   8.651059  1.568612  ...           0.0        0.0        1.0   \n4  8.776582  10.877651  1.408186  ...           0.0        0.0        1.0   \n\n   State_ECO  State_FIN  State_INT  State_REQ  State_RST  State_URP  \\\n0        1.0        0.0        0.0        0.0        0.0        0.0   \n1        1.0        0.0        0.0        0.0        0.0        0.0   \n2        0.0        0.0        0.0        0.0        0.0        0.0   \n3        0.0        0.0        0.0        0.0        0.0        0.0   \n4        0.0        0.0        0.0        0.0        0.0        0.0   \n\n   Attack Type  \n0            0  \n1            0  \n2            0  \n3            0  \n4            0  \n\n[5 rows x 63 columns]",
      "text/html": "<div>\n<style scoped>\n    .dataframe tbody tr th:only-of-type {\n        vertical-align: middle;\n    }\n\n    .dataframe tbody tr th {\n        vertical-align: top;\n    }\n\n    .dataframe thead th {\n        text-align: right;\n    }\n</style>\n<table border=\"1\" class=\"dataframe\">\n  <thead>\n    <tr style=\"text-align: right;\">\n      <th></th>\n      <th>Dur</th>\n      <th>sTos</th>\n      <th>dTos</th>\n      <th>sTtl</th>\n      <th>dTtl</th>\n      <th>sHops</th>\n      <th>dHops</th>\n      <th>TotPkts</th>\n      <th>SrcPkts</th>\n      <th>DstPkts</th>\n      <th>...</th>\n      <th>Cause_Status</th>\n      <th>State_ACC</th>\n      <th>State_CON</th>\n      <th>State_ECO</th>\n      <th>State_FIN</th>\n      <th>State_INT</th>\n      <th>State_REQ</th>\n      <th>State_RST</th>\n      <th>State_URP</th>\n      <th>Attack Type</th>\n    </tr>\n  </thead>\n  <tbody>\n    <tr>\n      <th>0</th>\n      <td>-0.807085</td>\n      <td>-0.069046</td>\n      <td>-0.094739</td>\n      <td>-0.419379</td>\n      <td>-0.00732</td>\n      <td>1.050111</td>\n      <td>-0.973059</td>\n      <td>-0.167011</td>\n      <td>-0.146696</td>\n      <td>-0.115856</td>\n      <td>...</td>\n      <td>0.0</td>\n      <td>0.0</td>\n      <td>0.0</td>\n      <td>1.0</td>\n      <td>0.0</td>\n      <td>0.0</td>\n      <td>0.0</td>\n      <td>0.0</td>\n      <td>0.0</td>\n      <td>0</td>\n    </tr>\n    <tr>\n      <th>1</th>\n      <td>-0.807085</td>\n      <td>-0.069046</td>\n      <td>-0.094739</td>\n      <td>-0.419379</td>\n      <td>-0.00732</td>\n      <td>1.050111</td>\n      <td>-0.973059</td>\n      <td>-0.167011</td>\n      <td>-0.146696</td>\n      <td>-0.115856</td>\n      <td>...</td>\n      <td>0.0</td>\n      <td>0.0</td>\n      <td>0.0</td>\n      <td>1.0</td>\n      <td>0.0</td>\n      <td>0.0</td>\n      <td>0.0</td>\n      <td>0.0</td>\n      <td>0.0</td>\n      <td>0</td>\n    </tr>\n    <tr>\n      <th>2</th>\n      <td>2.147963</td>\n      <td>-0.069046</td>\n      <td>-0.094739</td>\n      <td>0.635573</td>\n      <td>-0.00732</td>\n      <td>2.452913</td>\n      <td>-0.973059</td>\n      <td>8.414004</td>\n      <td>10.443194</td>\n      <td>1.327973</td>\n      <td>...</td>\n      <td>0.0</td>\n      <td>0.0</td>\n      <td>1.0</td>\n      <td>0.0</td>\n      <td>0.0</td>\n      <td>0.0</td>\n      <td>0.0</td>\n      <td>0.0</td>\n      <td>0.0</td>\n      <td>0</td>\n    </tr>\n    <tr>\n      <th>3</th>\n      <td>2.147973</td>\n      <td>-0.069046</td>\n      <td>-0.094739</td>\n      <td>0.635573</td>\n      <td>-0.00732</td>\n      <td>2.452913</td>\n      <td>-0.973059</td>\n      <td>7.205410</td>\n      <td>8.651059</td>\n      <td>1.568612</td>\n      <td>...</td>\n      <td>0.0</td>\n      <td>0.0</td>\n      <td>1.0</td>\n      <td>0.0</td>\n      <td>0.0</td>\n      <td>0.0</td>\n      <td>0.0</td>\n      <td>0.0</td>\n      <td>0.0</td>\n      <td>0</td>\n    </tr>\n    <tr>\n      <th>4</th>\n      <td>2.148810</td>\n      <td>-0.069046</td>\n      <td>-0.094739</td>\n      <td>0.635573</td>\n      <td>-0.00732</td>\n      <td>2.452913</td>\n      <td>-0.973059</td>\n      <td>8.776582</td>\n      <td>10.877651</td>\n      <td>1.408186</td>\n      <td>...</td>\n      <td>0.0</td>\n      <td>0.0</td>\n      <td>1.0</td>\n      <td>0.0</td>\n      <td>0.0</td>\n      <td>0.0</td>\n      <td>0.0</td>\n      <td>0.0</td>\n      <td>0.0</td>\n      <td>0</td>\n    </tr>\n  </tbody>\n</table>\n<p>5 rows × 63 columns</p>\n</div>"
     },
     "metadata": {}
    }
   ]
  },
  {
   "cell_type": "code",
   "source": "df.to_csv('csv_preprocessed.csv',index=False)",
   "metadata": {
    "execution": {
     "iopub.status.busy": "2024-03-13T06:04:36.055589Z",
     "iopub.execute_input": "2024-03-13T06:04:36.055973Z",
     "iopub.status.idle": "2024-03-13T06:06:38.613852Z",
     "shell.execute_reply.started": "2024-03-13T06:04:36.055942Z",
     "shell.execute_reply": "2024-03-13T06:06:38.612994Z"
    },
    "trusted": true
   },
   "execution_count": 77,
   "outputs": []
  },
  {
   "cell_type": "code",
   "source": "# Train Test split\nX_train, X_test, y_train, y_test = train_test_split(df.loc[:, df.columns != 'Attack Type'], df['Attack Type'],\n                                                    stratify=df['Attack Type'], \n                                                    test_size=0.15)\n\nX_train = pd.DataFrame(X_train, columns=df.columns.to_list()[:-1])\nX_test = pd.DataFrame(X_test, columns=df.columns.to_list()[:-1])\ny_train = pd.DataFrame(y_train, columns=['Attack Type'])\ny_test = pd.DataFrame(y_test, columns=['Attack Type'])\n\nprint(\"Training dataset size:\", X_train.shape)\nprint(\"Testing dataset size:\", X_test.shape)\nprint(\"Training target size:\", y_train.shape)\nprint(\"Testing target size:\", y_test.shape)",
   "metadata": {
    "execution": {
     "iopub.status.busy": "2024-03-13T06:06:38.615241Z",
     "iopub.execute_input": "2024-03-13T06:06:38.615960Z",
     "iopub.status.idle": "2024-03-13T06:06:40.061356Z",
     "shell.execute_reply.started": "2024-03-13T06:06:38.615922Z",
     "shell.execute_reply": "2024-03-13T06:06:40.060325Z"
    },
    "trusted": true
   },
   "execution_count": 78,
   "outputs": [
    {
     "name": "stdout",
     "text": "Training dataset size: (1033323, 62)\nTesting dataset size: (182352, 62)\nTraining target size: (1033323, 1)\nTesting target size: (182352, 1)\n",
     "output_type": "stream"
    }
   ]
  },
  {
   "cell_type": "code",
   "source": "class CustomTabularDataset(Dataset):\n    def __init__(self, data):\n        # Load and preprocess your tabular data here\n        self.features = torch.tensor(data['features'].values, dtype=torch.float32)\n        self.labels = torch.tensor(data['labels'].values, dtype=torch.float32)\n\n    def __len__(self):\n        return len(self.features)\n\n    def __getitem__(self, idx):\n        return self.features[idx], self.labels[idx]",
   "metadata": {
    "execution": {
     "iopub.status.busy": "2024-03-13T06:06:40.062833Z",
     "iopub.execute_input": "2024-03-13T06:06:40.063266Z",
     "iopub.status.idle": "2024-03-13T06:06:40.071591Z",
     "shell.execute_reply.started": "2024-03-13T06:06:40.063227Z",
     "shell.execute_reply": "2024-03-13T06:06:40.070549Z"
    },
    "trusted": true
   },
   "execution_count": 79,
   "outputs": []
  },
  {
   "cell_type": "code",
   "source": "# obtain training indices that will be used for validation\nnum_train = len(X_train)\nindices = list(range(num_train))\n\nnp.random.shuffle(indices)\nsplit = int(np.floor(valid_size * (df.shape[0])))\ntrain_idx, valid_idx = indices[split:], indices[:split]\n\n# define samplers for obtaining training and validation batches\ntrain_sampler = SubsetRandomSampler(train_idx)\nvalid_sampler = SubsetRandomSampler(valid_idx)",
   "metadata": {
    "execution": {
     "iopub.status.busy": "2024-03-13T06:06:40.072940Z",
     "iopub.execute_input": "2024-03-13T06:06:40.073289Z",
     "iopub.status.idle": "2024-03-13T06:06:40.265944Z",
     "shell.execute_reply.started": "2024-03-13T06:06:40.073263Z",
     "shell.execute_reply": "2024-03-13T06:06:40.264967Z"
    },
    "trusted": true
   },
   "execution_count": 80,
   "outputs": []
  },
  {
   "cell_type": "code",
   "source": "print('Training set size:', num_train - split)\nprint('Validation set size:', split)\nprint('Testing set size:', len(X_test))",
   "metadata": {
    "execution": {
     "iopub.status.busy": "2024-03-13T06:06:40.267184Z",
     "iopub.execute_input": "2024-03-13T06:06:40.267549Z",
     "iopub.status.idle": "2024-03-13T06:06:40.281469Z",
     "shell.execute_reply.started": "2024-03-13T06:06:40.267500Z",
     "shell.execute_reply": "2024-03-13T06:06:40.280581Z"
    },
    "trusted": true
   },
   "execution_count": 81,
   "outputs": [
    {
     "name": "stdout",
     "text": "Training set size: 850972\nValidation set size: 182351\nTesting set size: 182352\n",
     "output_type": "stream"
    }
   ]
  },
  {
   "cell_type": "code",
   "source": "train_data = {'features': X_train,  # Your feature data (Pandas DataFrame or similar)\n        'labels': y_train}     # Your label data\n\ndataset = CustomTabularDataset(train_data)\n\n# prepare data loaders (combine dataset and sampler)\ntrain_loader = torch.utils.data.DataLoader(dataset, batch_size=batch_size,\n    sampler=train_sampler, num_workers=num_workers)\nvalid_loader = torch.utils.data.DataLoader(dataset, batch_size=batch_size,\n    sampler=valid_sampler, num_workers=num_workers)",
   "metadata": {
    "execution": {
     "iopub.status.busy": "2024-03-13T06:06:40.282588Z",
     "iopub.execute_input": "2024-03-13T06:06:40.283228Z",
     "iopub.status.idle": "2024-03-13T06:06:40.404414Z",
     "shell.execute_reply.started": "2024-03-13T06:06:40.283191Z",
     "shell.execute_reply": "2024-03-13T06:06:40.403494Z"
    },
    "trusted": true
   },
   "execution_count": 82,
   "outputs": []
  },
  {
   "cell_type": "code",
   "source": "# Number of features\nnum_features = X_train.shape[1]",
   "metadata": {
    "execution": {
     "iopub.status.busy": "2024-03-13T06:06:40.405813Z",
     "iopub.execute_input": "2024-03-13T06:06:40.406476Z",
     "iopub.status.idle": "2024-03-13T06:06:40.410606Z",
     "shell.execute_reply.started": "2024-03-13T06:06:40.406441Z",
     "shell.execute_reply": "2024-03-13T06:06:40.409565Z"
    },
    "trusted": true
   },
   "execution_count": 83,
   "outputs": []
  },
  {
   "cell_type": "code",
   "source": "# Creating a PyTorch class\n# input_features ==> 12 ==> 32\nclass Autoencoder(torch.nn.Module):\n    def __init__(self):\n        super().__init__()\n\n        # Building an linear encoder with Linear\n        # layer followed by Tanh activation function\n        # input_features ===> 12\n        self.encoder = torch.nn.Sequential(\n            torch.nn.Linear(num_features, 32),\n            torch.nn.Tanh(),\n            torch.nn.Linear(32, 16),\n            torch.nn.Tanh(),\n            torch.nn.Linear(16, 12),\n            torch.nn.Tanh(),  \n        )\n        \n        # Dense neural network layers\n        self.dense_nn = torch.nn.Sequential(\n            torch.nn.Linear(12, 32),  # Input size is 12 from the encoder\n            torch.nn.BatchNorm1d(32),            \n            torch.nn.ReLU(), \n            torch.nn.Dropout(0.2),            \n            torch.nn.Linear(32, 64),\n            torch.nn.BatchNorm1d(64),                \n            torch.nn.ReLU(),\n            torch.nn.Dropout(0.2),              \n            torch.nn.Linear(64, 32),\n            torch.nn.BatchNorm1d(32),                \n            torch.nn.ReLU(),\n            torch.nn.Dropout(0.2),            \n            torch.nn.Linear(32, num_classes),  # Output size is the number of classes\n            torch.nn.Softmax(dim=1)\n        )        \n\n    def forward(self, x):\n        encoded = self.encoder(x)\n        output = self.dense_nn(encoded)\n        return output",
   "metadata": {
    "execution": {
     "iopub.status.busy": "2024-03-13T06:06:40.411781Z",
     "iopub.execute_input": "2024-03-13T06:06:40.412053Z",
     "iopub.status.idle": "2024-03-13T06:06:40.483991Z",
     "shell.execute_reply.started": "2024-03-13T06:06:40.412031Z",
     "shell.execute_reply": "2024-03-13T06:06:40.482892Z"
    },
    "trusted": true
   },
   "execution_count": 84,
   "outputs": []
  },
  {
   "cell_type": "code",
   "source": "# Model Initialization\nmodel = Autoencoder()\n\n# Validation using MSE Loss function\nloss_function = torch.nn.CrossEntropyLoss()\n\n# Using an Adam Optimizer with lr = 0.1\noptimizer = torch.optim.Adam(model.parameters(),\n                            lr = 0.001,\n                            weight_decay = 1e-8)\n",
   "metadata": {
    "execution": {
     "iopub.status.busy": "2024-03-13T06:06:40.485406Z",
     "iopub.execute_input": "2024-03-13T06:06:40.485805Z",
     "iopub.status.idle": "2024-03-13T06:06:40.502482Z",
     "shell.execute_reply.started": "2024-03-13T06:06:40.485780Z",
     "shell.execute_reply": "2024-03-13T06:06:40.501556Z"
    },
    "trusted": true
   },
   "execution_count": 85,
   "outputs": []
  },
  {
   "cell_type": "code",
   "source": "# number of epochs to train the model\nn_epochs = 8\n\n# initialize tracker for minimum validation loss\nvalid_loss_min = np.Inf # set initial \"min\" to infinity\ntrain_loss_min = np.Inf # set initial \"min\" to infinity\n\n# Lists to store training and validation accuracy during training\ntraining_loss = np.array([])\nvalidation_loss = np.array([])\n\ntraining_accuracy = np.array([])\nvalidation_accuracy = np.array([])\n\n# Moving model tensor to GPU if available\nmodel = model.to(device)\n\nfor epoch in range(1, n_epochs+1):\n\n    # keep track of training and validation loss and accuracy\n    train_loss = 0.0\n    valid_loss = 0.0\n    total_train_correct = 0\n    total_train_samples = 0\n    total_valid_correct = 0\n    total_valid_samples = 0\n\n    ###################\n    # train the model #\n    ###################\n\n    # model by default is set to train\n    model.train()\n\n    for data, target in tqdm(train_loader):        \n\n        # Moving input tensors to GPU if available\n        data, target = data.to(device), target.to(device)\n\n        # Forward prop:\n\n        # forward pass: compute predicted outputs by passing inputs to the model\n        output = model(data.float())    \n        \n        # Moving output tensor to GPU if available\n        output = output.to(device)\n\n        # calculate the batch loss\n        loss = loss_function(output, target.reshape(-1).long())\n        \n        # Backward prop:\n\n        # clear the gradients of all optimized variables\n        optimizer.zero_grad()\n\n        # backward pass: compute gradient of the loss with respect to model parameters\n        loss.backward()\n\n        # perform a single optimization step (parameter update)\n        optimizer.step()\n\n        # Metrics:\n\n        # update training loss\n        train_loss += loss.item()\n\n        # Calculate training accuracy\n        _, predicted = torch.max(output, 1)\n        total_train_correct += (predicted == target.view(*predicted.shape)).sum().item()\n        total_train_samples += target.size(0)\n\n\n    ######################\n    # validate the model #\n    ######################\n\n    model.eval() # prep model for evaluation\n\n    for data, target in tqdm(valid_loader):\n        \n        # Moving input tensors to GPU if available\n        data, target = data.to(device), target.to(device)\n        \n        # forward pass: compute predicted outputs by passing inputs to the model\n        output = model(data.float())\n        output = output.to(device)\n        \n        # calculate the loss\n        loss = loss_function(output, target.reshape(-1).long())        \n        \n        # update running validation loss\n        valid_loss += loss.item()\n        \n        # Calculate validation accuracy\n        _, predicted = torch.max(output, 1)\n        total_valid_correct += (predicted == target.view(*predicted.shape)).sum().item()\n        total_valid_samples += target.size(0)\n\n\n    # print training/validation statistics\n    \n    train_acc = 100 * total_train_correct / total_train_samples\n    valid_acc = 100 * total_valid_correct / total_valid_samples\n    \n    training_accuracy = np.append(training_accuracy, train_acc)\n    validation_accuracy = np.append(validation_accuracy, valid_acc)\n    \n    # calculate average loss over an epoch\n    train_loss = train_loss/len(train_loader)\n    valid_loss = valid_loss/len(valid_loader)\n    \n    training_loss = np.append(training_loss, train_loss)\n    validation_loss = np.append(validation_loss, valid_loss)\n\n    print('Epoch: {} \\tTraining Loss: {:.6f} \\tValidation Loss: {:.6f}'.format(\n        epoch,\n        train_loss,\n        valid_loss\n    ))\n    \n    print('Epoch: {} \\tTraining Accuracy: {:.6f} \\tValidation Accuracy: {:.6f}'.format(\n        epoch,\n        train_acc,\n        valid_acc\n    ))\n\n    # save model if validation loss has decreased\n    if valid_loss <= valid_loss_min and train_loss <= train_loss_min:\n        print('Training loss decreased ({:.6f} --> {:.6f}).'.format(\n            train_loss_min,\n            train_loss))\n        print('Validation loss decreased ({:.6f} --> {:.6f}).  Saving model ...'.format(\n            valid_loss_min,\n            valid_loss))\n        torch.save(model.state_dict(), 'model_pytorch_autoencoders.pt')\n        valid_loss_min = valid_loss\n        train_loss_min = train_loss",
   "metadata": {
    "execution": {
     "iopub.status.busy": "2024-03-13T06:06:40.503789Z",
     "iopub.execute_input": "2024-03-13T06:06:40.504158Z",
     "iopub.status.idle": "2024-03-13T06:18:28.156395Z",
     "shell.execute_reply.started": "2024-03-13T06:06:40.504127Z",
     "shell.execute_reply": "2024-03-13T06:18:28.155234Z"
    },
    "trusted": true
   },
   "execution_count": 86,
   "outputs": [
    {
     "name": "stderr",
     "text": "100%|██████████| 13297/13297 [01:20<00:00, 165.92it/s]\n100%|██████████| 2850/2850 [00:09<00:00, 310.70it/s]\n",
     "output_type": "stream"
    },
    {
     "name": "stdout",
     "text": "Epoch: 1 \tTraining Loss: 1.392728 \tValidation Loss: 1.378233\nEpoch: 1 \tTraining Accuracy: 98.201821 \tValidation Accuracy: 99.367155\nTraining loss decreased (inf --> 1.392728).\nValidation loss decreased (inf --> 1.378233).  Saving model ...\n",
     "output_type": "stream"
    },
    {
     "name": "stderr",
     "text": "100%|██████████| 13297/13297 [01:18<00:00, 169.65it/s]\n100%|██████████| 2850/2850 [00:09<00:00, 302.19it/s]\n",
     "output_type": "stream"
    },
    {
     "name": "stdout",
     "text": "Epoch: 2 \tTraining Loss: 1.378130 \tValidation Loss: 1.375397\nEpoch: 2 \tTraining Accuracy: 99.394457 \tValidation Accuracy: 99.655061\nTraining loss decreased (1.392728 --> 1.378130).\nValidation loss decreased (1.378233 --> 1.375397).  Saving model ...\n",
     "output_type": "stream"
    },
    {
     "name": "stderr",
     "text": "100%|██████████| 13297/13297 [01:19<00:00, 166.66it/s]\n100%|██████████| 2850/2850 [00:09<00:00, 285.01it/s]\n",
     "output_type": "stream"
    },
    {
     "name": "stdout",
     "text": "Epoch: 3 \tTraining Loss: 1.376786 \tValidation Loss: 1.375126\nEpoch: 3 \tTraining Accuracy: 99.524544 \tValidation Accuracy: 99.684126\nTraining loss decreased (1.378130 --> 1.376786).\nValidation loss decreased (1.375397 --> 1.375126).  Saving model ...\n",
     "output_type": "stream"
    },
    {
     "name": "stderr",
     "text": "100%|██████████| 13297/13297 [01:19<00:00, 167.66it/s]\n100%|██████████| 2850/2850 [00:10<00:00, 275.99it/s]\n",
     "output_type": "stream"
    },
    {
     "name": "stdout",
     "text": "Epoch: 4 \tTraining Loss: 1.376473 \tValidation Loss: 1.380476\nEpoch: 4 \tTraining Accuracy: 99.551572 \tValidation Accuracy: 99.148894\n",
     "output_type": "stream"
    },
    {
     "name": "stderr",
     "text": "100%|██████████| 13297/13297 [01:17<00:00, 171.68it/s]\n100%|██████████| 2850/2850 [00:09<00:00, 309.11it/s]\n",
     "output_type": "stream"
    },
    {
     "name": "stdout",
     "text": "Epoch: 5 \tTraining Loss: 1.376780 \tValidation Loss: 1.375809\nEpoch: 5 \tTraining Accuracy: 99.519373 \tValidation Accuracy: 99.612835\n",
     "output_type": "stream"
    },
    {
     "name": "stderr",
     "text": "100%|██████████| 13297/13297 [01:18<00:00, 169.17it/s]\n100%|██████████| 2850/2850 [00:09<00:00, 307.13it/s]\n",
     "output_type": "stream"
    },
    {
     "name": "stdout",
     "text": "Epoch: 6 \tTraining Loss: 1.376200 \tValidation Loss: 1.376441\nEpoch: 6 \tTraining Accuracy: 99.576249 \tValidation Accuracy: 99.550318\n",
     "output_type": "stream"
    },
    {
     "name": "stderr",
     "text": "100%|██████████| 13297/13297 [01:20<00:00, 166.09it/s]\n100%|██████████| 2850/2850 [00:09<00:00, 302.47it/s]\n",
     "output_type": "stream"
    },
    {
     "name": "stdout",
     "text": "Epoch: 7 \tTraining Loss: 1.376157 \tValidation Loss: 1.375103\nEpoch: 7 \tTraining Accuracy: 99.582360 \tValidation Accuracy: 99.684674\nTraining loss decreased (1.376786 --> 1.376157).\nValidation loss decreased (1.375126 --> 1.375103).  Saving model ...\n",
     "output_type": "stream"
    },
    {
     "name": "stderr",
     "text": "100%|██████████| 13297/13297 [01:18<00:00, 170.30it/s]\n100%|██████████| 2850/2850 [00:08<00:00, 320.65it/s]",
     "output_type": "stream"
    },
    {
     "name": "stdout",
     "text": "Epoch: 8 \tTraining Loss: 1.376249 \tValidation Loss: 1.376955\nEpoch: 8 \tTraining Accuracy: 99.571666 \tValidation Accuracy: 99.498769\n",
     "output_type": "stream"
    },
    {
     "name": "stderr",
     "text": "\n",
     "output_type": "stream"
    }
   ]
  },
  {
   "cell_type": "code",
   "source": "fig, ax = plt.subplots(2, 1, figsize=(8, 8))\nepochs = np.arange(1, n_epochs+1)\n\n# First row for accuracy\nax[0].plot(epochs, training_accuracy, label='Training Accuracy', marker='o')\nax[0].plot(epochs, validation_accuracy, label='Validation Accuracy', marker='x')\nax[0].set_xlabel('Epoch')\nax[0].set_ylabel('Accuracy', color='black')\nax[0].tick_params(axis='y', labelcolor='black')\nax[0].legend(loc='lower right')\nax[0].grid(True)\n\n\n# Second row for loss\nax[1].plot(epochs, training_loss, label='Training Loss', marker='o')\nax[1].plot(epochs, validation_loss, label='Validation Loss', marker='x')\nax[1].set_xlabel('Epoch')\nax[1].set_ylabel('Loss', color='black')\nax[1].tick_params(axis='y', labelcolor='black')\nax[1].legend(loc='upper right')\nax[1].grid(True)\n\nplt.tight_layout()\nplt.show()",
   "metadata": {
    "execution": {
     "iopub.status.busy": "2024-03-13T06:18:28.158197Z",
     "iopub.execute_input": "2024-03-13T06:18:28.158598Z",
     "iopub.status.idle": "2024-03-13T06:18:28.836080Z",
     "shell.execute_reply.started": "2024-03-13T06:18:28.158560Z",
     "shell.execute_reply": "2024-03-13T06:18:28.835152Z"
    },
    "trusted": true
   },
   "execution_count": 87,
   "outputs": [
    {
     "output_type": "display_data",
     "data": {
      "text/plain": "<Figure size 800x800 with 2 Axes>",
      "image/png": "[encoded data removed]"
     },
     "metadata": {}
    }
   ]
  },
  {
   "cell_type": "markdown",
   "source": "Testing phase:",
   "metadata": {}
  },
  {
   "cell_type": "code",
   "source": "print(\"Testing dataset size:\", X_test.shape)\nprint(\"Testing target size:\", y_test.shape)\n\nX_test.head()",
   "metadata": {
    "execution": {
     "iopub.status.busy": "2024-03-13T06:18:28.837476Z",
     "iopub.execute_input": "2024-03-13T06:18:28.838099Z",
     "iopub.status.idle": "2024-03-13T06:18:28.873911Z",
     "shell.execute_reply.started": "2024-03-13T06:18:28.838068Z",
     "shell.execute_reply": "2024-03-13T06:18:28.872960Z"
    },
    "trusted": true
   },
   "execution_count": 88,
   "outputs": [
    {
     "name": "stdout",
     "text": "Testing dataset size: (182352, 62)\nTesting target size: (182352, 1)\n",
     "output_type": "stream"
    },
    {
     "execution_count": 88,
     "output_type": "execute_result",
     "data": {
      "text/plain": "              Dur      sTos          dTos      sTtl          dTtl     sHops  \\\n883495   0.713036 -0.069046 -1.773502e-16 -0.329976  1.190749e-13 -0.352692   \n969494   0.720780 -0.069046 -1.773502e-16 -0.329976  1.190749e-13 -0.352692   \n1053424 -0.807085 -0.069046 -1.773502e-16 -0.329976  1.190749e-13 -0.352692   \n186971   1.886092 -0.069046 -1.773502e-16 -0.329976  1.190749e-13 -0.352692   \n13611    2.147290 -0.069046 -9.473906e-02  0.635573 -7.320131e-03  2.452913   \n\n                dHops   TotPkts   SrcPkts   DstPkts  ...  Cause_Start  \\\n883495  -1.939318e-13 -0.126725 -0.092389 -0.115856  ...          0.0   \n969494  -1.939318e-13 -0.126725 -0.092389 -0.115856  ...          0.0   \n1053424 -1.939318e-13 -0.167011 -0.146696 -0.115856  ...          0.0   \n186971  -1.939318e-13 -0.126725 -0.092389 -0.115856  ...          0.0   \n13611   -9.730588e-01  5.191087  6.207238  1.167548  ...          0.0   \n\n         Cause_Status  State_ACC  State_CON  State_ECO  State_FIN  State_INT  \\\n883495            1.0        0.0        0.0        0.0        0.0        0.0   \n969494            1.0        0.0        0.0        0.0        0.0        0.0   \n1053424           1.0        0.0        0.0        0.0        0.0        0.0   \n186971            1.0        0.0        0.0        0.0        0.0        0.0   \n13611             1.0        0.0        1.0        0.0        0.0        0.0   \n\n         State_REQ  State_RST  State_URP  \n883495         1.0        0.0        0.0  \n969494         1.0        0.0        0.0  \n1053424        1.0        0.0        0.0  \n186971         1.0        0.0        0.0  \n13611          0.0        0.0        0.0  \n\n[5 rows x 62 columns]",
      "text/html": "<div>\n<style scoped>\n    .dataframe tbody tr th:only-of-type {\n        vertical-align: middle;\n    }\n\n    .dataframe tbody tr th {\n        vertical-align: top;\n    }\n\n    .dataframe thead th {\n        text-align: right;\n    }\n</style>\n<table border=\"1\" class=\"dataframe\">\n  <thead>\n    <tr style=\"text-align: right;\">\n      <th></th>\n      <th>Dur</th>\n      <th>sTos</th>\n      <th>dTos</th>\n      <th>sTtl</th>\n      <th>dTtl</th>\n      <th>sHops</th>\n      <th>dHops</th>\n      <th>TotPkts</th>\n      <th>SrcPkts</th>\n      <th>DstPkts</th>\n      <th>...</th>\n      <th>Cause_Start</th>\n      <th>Cause_Status</th>\n      <th>State_ACC</th>\n      <th>State_CON</th>\n      <th>State_ECO</th>\n      <th>State_FIN</th>\n      <th>State_INT</th>\n      <th>State_REQ</th>\n      <th>State_RST</th>\n      <th>State_URP</th>\n    </tr>\n  </thead>\n  <tbody>\n    <tr>\n      <th>883495</th>\n      <td>0.713036</td>\n      <td>-0.069046</td>\n      <td>-1.773502e-16</td>\n      <td>-0.329976</td>\n      <td>1.190749e-13</td>\n      <td>-0.352692</td>\n      <td>-1.939318e-13</td>\n      <td>-0.126725</td>\n      <td>-0.092389</td>\n      <td>-0.115856</td>\n      <td>...</td>\n      <td>0.0</td>\n      <td>1.0</td>\n      <td>0.0</td>\n      <td>0.0</td>\n      <td>0.0</td>\n      <td>0.0</td>\n      <td>0.0</td>\n      <td>1.0</td>\n      <td>0.0</td>\n      <td>0.0</td>\n    </tr>\n    <tr>\n      <th>969494</th>\n      <td>0.720780</td>\n      <td>-0.069046</td>\n      <td>-1.773502e-16</td>\n      <td>-0.329976</td>\n      <td>1.190749e-13</td>\n      <td>-0.352692</td>\n      <td>-1.939318e-13</td>\n      <td>-0.126725</td>\n      <td>-0.092389</td>\n      <td>-0.115856</td>\n      <td>...</td>\n      <td>0.0</td>\n      <td>1.0</td>\n      <td>0.0</td>\n      <td>0.0</td>\n      <td>0.0</td>\n      <td>0.0</td>\n      <td>0.0</td>\n      <td>1.0</td>\n      <td>0.0</td>\n      <td>0.0</td>\n    </tr>\n    <tr>\n      <th>1053424</th>\n      <td>-0.807085</td>\n      <td>-0.069046</td>\n      <td>-1.773502e-16</td>\n      <td>-0.329976</td>\n      <td>1.190749e-13</td>\n      <td>-0.352692</td>\n      <td>-1.939318e-13</td>\n      <td>-0.167011</td>\n      <td>-0.146696</td>\n      <td>-0.115856</td>\n      <td>...</td>\n      <td>0.0</td>\n      <td>1.0</td>\n      <td>0.0</td>\n      <td>0.0</td>\n      <td>0.0</td>\n      <td>0.0</td>\n      <td>0.0</td>\n      <td>1.0</td>\n      <td>0.0</td>\n      <td>0.0</td>\n    </tr>\n    <tr>\n      <th>186971</th>\n      <td>1.886092</td>\n      <td>-0.069046</td>\n      <td>-1.773502e-16</td>\n      <td>-0.329976</td>\n      <td>1.190749e-13</td>\n      <td>-0.352692</td>\n      <td>-1.939318e-13</td>\n      <td>-0.126725</td>\n      <td>-0.092389</td>\n      <td>-0.115856</td>\n      <td>...</td>\n      <td>0.0</td>\n      <td>1.0</td>\n      <td>0.0</td>\n      <td>0.0</td>\n      <td>0.0</td>\n      <td>0.0</td>\n      <td>0.0</td>\n      <td>1.0</td>\n      <td>0.0</td>\n      <td>0.0</td>\n    </tr>\n    <tr>\n      <th>13611</th>\n      <td>2.147290</td>\n      <td>-0.069046</td>\n      <td>-9.473906e-02</td>\n      <td>0.635573</td>\n      <td>-7.320131e-03</td>\n      <td>2.452913</td>\n      <td>-9.730588e-01</td>\n      <td>5.191087</td>\n      <td>6.207238</td>\n      <td>1.167548</td>\n      <td>...</td>\n      <td>0.0</td>\n      <td>1.0</td>\n      <td>0.0</td>\n      <td>1.0</td>\n      <td>0.0</td>\n      <td>0.0</td>\n      <td>0.0</td>\n      <td>0.0</td>\n      <td>0.0</td>\n      <td>0.0</td>\n    </tr>\n  </tbody>\n</table>\n<p>5 rows × 62 columns</p>\n</div>"
     },
     "metadata": {}
    }
   ]
  },
  {
   "cell_type": "code",
   "source": "y_test.head()",
   "metadata": {
    "execution": {
     "iopub.status.busy": "2024-03-13T06:18:28.875007Z",
     "iopub.execute_input": "2024-03-13T06:18:28.875304Z",
     "iopub.status.idle": "2024-03-13T06:18:28.893534Z",
     "shell.execute_reply.started": "2024-03-13T06:18:28.875275Z",
     "shell.execute_reply": "2024-03-13T06:18:28.892577Z"
    },
    "trusted": true
   },
   "execution_count": 89,
   "outputs": [
    {
     "execution_count": 89,
     "output_type": "execute_result",
     "data": {
      "text/plain": "         Attack Type\n883495             7\n969494             7\n1053424            7\n186971             7\n13611              0",
      "text/html": "<div>\n<style scoped>\n    .dataframe tbody tr th:only-of-type {\n        vertical-align: middle;\n    }\n\n    .dataframe tbody tr th {\n        vertical-align: top;\n    }\n\n    .dataframe thead th {\n        text-align: right;\n    }\n</style>\n<table border=\"1\" class=\"dataframe\">\n  <thead>\n    <tr style=\"text-align: right;\">\n      <th></th>\n      <th>Attack Type</th>\n    </tr>\n  </thead>\n  <tbody>\n    <tr>\n      <th>883495</th>\n      <td>7</td>\n    </tr>\n    <tr>\n      <th>969494</th>\n      <td>7</td>\n    </tr>\n    <tr>\n      <th>1053424</th>\n      <td>7</td>\n    </tr>\n    <tr>\n      <th>186971</th>\n      <td>7</td>\n    </tr>\n    <tr>\n      <th>13611</th>\n      <td>0</td>\n    </tr>\n  </tbody>\n</table>\n</div>"
     },
     "metadata": {}
    }
   ]
  },
  {
   "cell_type": "code",
   "source": "test_data = {'features': X_test,  # Your feature data (Pandas DataFrame or similar)\n        'labels': y_test}     # Your label data\n\ntest_dataset = CustomTabularDataset(test_data)",
   "metadata": {
    "execution": {
     "iopub.status.busy": "2024-03-13T06:18:28.894899Z",
     "iopub.execute_input": "2024-03-13T06:18:28.895433Z",
     "iopub.status.idle": "2024-03-13T06:18:28.921195Z",
     "shell.execute_reply.started": "2024-03-13T06:18:28.895388Z",
     "shell.execute_reply": "2024-03-13T06:18:28.920275Z"
    },
    "trusted": true
   },
   "execution_count": 90,
   "outputs": []
  },
  {
   "cell_type": "code",
   "source": "test_loader = torch.utils.data.DataLoader(test_dataset, batch_size=batch_size,\n    num_workers=num_workers)",
   "metadata": {
    "execution": {
     "iopub.status.busy": "2024-03-13T06:18:28.922350Z",
     "iopub.execute_input": "2024-03-13T06:18:28.922660Z",
     "iopub.status.idle": "2024-03-13T06:18:28.927345Z",
     "shell.execute_reply.started": "2024-03-13T06:18:28.922636Z",
     "shell.execute_reply": "2024-03-13T06:18:28.926223Z"
    },
    "trusted": true
   },
   "execution_count": 91,
   "outputs": []
  },
  {
   "cell_type": "code",
   "source": "model.load_state_dict(torch.load('model_pytorch_autoencoders.pt'))",
   "metadata": {
    "execution": {
     "iopub.status.busy": "2024-03-13T06:18:28.928852Z",
     "iopub.execute_input": "2024-03-13T06:18:28.929336Z",
     "iopub.status.idle": "2024-03-13T06:18:28.950462Z",
     "shell.execute_reply.started": "2024-03-13T06:18:28.929310Z",
     "shell.execute_reply": "2024-03-13T06:18:28.949743Z"
    },
    "trusted": true
   },
   "execution_count": 92,
   "outputs": [
    {
     "execution_count": 92,
     "output_type": "execute_result",
     "data": {
      "text/plain": "<All keys matched successfully>"
     },
     "metadata": {}
    }
   ]
  },
  {
   "cell_type": "code",
   "source": "le_name_mapping = {'Benign': 0, 'HTTPFlood': 1, 'ICMPFlood': 2, 'SYNFlood': 3, 'SYNScan': 4, 'SlowrateDoS': 5, 'TCPConnectScan': 6, 'UDPFlood': 7, 'UDPScan': 8}\nle_name_mapping",
   "metadata": {
    "execution": {
     "iopub.status.busy": "2024-03-13T06:18:28.951454Z",
     "iopub.execute_input": "2024-03-13T06:18:28.951720Z",
     "iopub.status.idle": "2024-03-13T06:18:28.961002Z",
     "shell.execute_reply.started": "2024-03-13T06:18:28.951699Z",
     "shell.execute_reply": "2024-03-13T06:18:28.960046Z"
    },
    "trusted": true
   },
   "execution_count": 93,
   "outputs": [
    {
     "execution_count": 93,
     "output_type": "execute_result",
     "data": {
      "text/plain": "{'Benign': 0,\n 'HTTPFlood': 1,\n 'ICMPFlood': 2,\n 'SYNFlood': 3,\n 'SYNScan': 4,\n 'SlowrateDoS': 5,\n 'TCPConnectScan': 6,\n 'UDPFlood': 7,\n 'UDPScan': 8}"
     },
     "metadata": {}
    }
   ]
  },
  {
   "cell_type": "code",
   "source": "# initialize lists to monitor test loss and accuracy\ntest_loss = 0.0\n\nclass_correct = list(0. for i in range(num_classes))\nclass_total = list(0. for i in range(num_classes))\n\n# Moving model tensor to GPU if available\nmodel = model.to(device)\n\nmodel.eval() # prep model for evaluation\n\nfor data, target in tqdm(test_loader):\n    \n    # Moving input tensors to GPU if available\n    data, target = data.to(device), target.to(device)    \n    \n    # forward pass: compute predicted outputs by passing inputs to the model\n    output = model(data.float())\n    output = output.to(device)    \n    \n    # calculate the loss\n    loss = loss_function(output, target.reshape(-1).long())\n    \n    # update test loss\n    test_loss += loss.item()*data.size(0)\n    \n    # convert output probabilities to predicted class\n    _, pred = torch.max(output, 1)\n    \n    # compare predictions to true label\n    correct = np.squeeze(pred.eq(target.data.view_as(pred)))\n    \n    # calculate test accuracy for each object class\n    for i in range(data.shape[0]):\n        label = int(target.data[i].item())\n        class_correct[label] += int(correct[i].item())\n        class_total[label] += 1\n\n# calculate and print avg test loss\ntest_loss = test_loss/len(test_loader.dataset)\nprint('Test Loss: {:.6f}\\n'.format(test_loss))\n\nlabel_map = {}\nfor k, v in le_name_mapping.items():\n    label_map[v] = k\n\nfor i in range(num_classes):\n    if class_total[i] > 0:\n        print(f'Test Accuracy of {str(i)}-{label_map[i]:<25}: {100 * class_correct[i] / class_total[i]:.6f}% ({int(np.sum(class_correct[i])):<2}/{int(np.sum(class_total[i])):<2})')\n    else:\n        print(f'Test Accuracy of {label_map[i]:<25}: N/A (no training examples)')\n\nprint(f'\\nTest Accuracy (Overall): {100. * np.sum(class_correct) / np.sum(class_total):.6f}% ({int(np.sum(class_correct))} / {int(np.sum(class_total))})')",
   "metadata": {
    "execution": {
     "iopub.status.busy": "2024-03-13T06:18:28.961982Z",
     "iopub.execute_input": "2024-03-13T06:18:28.962279Z",
     "iopub.status.idle": "2024-03-13T06:18:44.419133Z",
     "shell.execute_reply.started": "2024-03-13T06:18:28.962256Z",
     "shell.execute_reply": "2024-03-13T06:18:44.417943Z"
    },
    "trusted": true
   },
   "execution_count": 94,
   "outputs": [
    {
     "name": "stderr",
     "text": "100%|██████████| 2850/2850 [00:15<00:00, 184.62it/s]",
     "output_type": "stream"
    },
    {
     "name": "stdout",
     "text": "Test Loss: 1.375182\n\nTest Accuracy of 0-Benign                   : 99.973474% (71610/71629)\nTest Accuracy of 1-HTTPFlood                : 99.692264% (21057/21122)\nTest Accuracy of 2-ICMPFlood                : 100.000000% (173/173)\nTest Accuracy of 3-SYNFlood                 : 86.625514% (1263/1458)\nTest Accuracy of 4-SYNScan                  : 99.800399% (3000/3006)\nTest Accuracy of 5-SlowrateDoS              : 97.292369% (10672/10969)\nTest Accuracy of 6-TCPConnectScan           : 99.833777% (3003/3008)\nTest Accuracy of 7-UDPFlood                 : 100.000000% (68601/68601)\nTest Accuracy of 8-UDPScan                  : 99.916178% (2384/2386)\n\nTest Accuracy (Overall): 99.676998% (181763 / 182352)\n",
     "output_type": "stream"
    },
    {
     "name": "stderr",
     "text": "\n",
     "output_type": "stream"
    }
   ]
  },
  {
   "cell_type": "code",
   "source": "",
   "metadata": {},
   "execution_count": null,
   "outputs": []
  }
 ]
}
